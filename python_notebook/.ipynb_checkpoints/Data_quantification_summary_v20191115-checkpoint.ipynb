{
 "cells": [
  {
   "cell_type": "code",
   "execution_count": 1,
   "metadata": {},
   "outputs": [],
   "source": [
    "%matplotlib inline\n",
    "\n",
    "import io, os, sys, types, datetime, pickle, warnings\n",
    "\n",
    "import pandas as pd\n",
    "\n",
    "import matplotlib\n",
    "import matplotlib.pyplot as plt\n",
    "from matplotlib.colors import BoundaryNorm\n",
    "from matplotlib.ticker import MaxNLocator\n",
    "\n",
    "import numpy as np\n",
    "from numpy.linalg import eig, inv\n",
    "\n",
    "import math\n",
    "\n",
    "from scipy import interpolate, spatial, stats\n",
    "\n",
    "import seaborn as sns\n",
    "\n",
    "import skimage.io as skiIo\n",
    "from skimage import exposure, img_as_float\n",
    "\n",
    "from sklearn import linear_model, metrics\n",
    "\n",
    "from statannot import add_stat_annotation\n",
    "# https://github.com/webermarcolivier/statannot\n",
    "\n",
    "warnings.filterwarnings('ignore')"
   ]
  },
  {
   "cell_type": "code",
   "execution_count": 2,
   "metadata": {},
   "outputs": [],
   "source": [
    "global isMac\n",
    "isMac = False\n",
    "\n",
    "if(isMac):\n",
    "    sup_prefix = '/Volumes/Project/2015_07_Neural_Superposition/Projects/Weiyue/Data_Analysis/Fate_Switching_experiments'\n",
    "    module_path = '/Volumes/Project/2015_07_Neural_Superposition/Projects/Weiyue/Code/python_cluster/helper_functions'\n",
    "    sum_fig_out_prefix = '/Users/lily/Desktop/Figure1_sup'\n",
    "else:\n",
    "    sup_prefix = 'W:\\\\2019_09_NSP_Extension\\\\figure\\\\analysis\\\\Fate_Switching_Experiments\\\\Gal80'\n",
    "    module_path = 'W:\\\\2015_07_Neural_Superposition\\\\Projects\\\\Weiyue\\\\code\\\\python_cluster\\\\helper_functions\\\\'\n",
    "    sum_fig_out_prefix = 'W:\\\\2019_09_NSP_Extension\\\\figure\\\\analysis\\\\Fate_Switching_experiments\\\\Figure1'\n",
    "\n",
    "data_prefix = os.path.join(sup_prefix, 'Data_Gal80')\n",
    "fig_out_prefix = os.path.join(sup_prefix, 'Output_Gal80', 'FigureOutput_v3')\n",
    "data_out_prefix = os.path.join(sup_prefix, 'Output_Gal80', 'DataOutput_summary', 'Fz')\n"
   ]
  },
  {
   "cell_type": "code",
   "execution_count": 3,
   "metadata": {},
   "outputs": [
    {
     "data": {
      "text/plain": [
       "'W:\\\\2015_07_Neural_Superposition\\\\Projects\\\\Weiyue\\\\code\\\\python_cluster\\\\helper_functions\\\\'"
      ]
     },
     "execution_count": 3,
     "metadata": {},
     "output_type": "execute_result"
    }
   ],
   "source": [
    "module_path"
   ]
  },
  {
   "cell_type": "code",
   "execution_count": 4,
   "metadata": {},
   "outputs": [],
   "source": [
    "### import custom functions\n",
    "if module_path not in sys.path:\n",
    "    sys.path.append(module_path)\n",
    "import Data_quantification_function_helper as my_help\n",
    "import Data_quantification_function_intensity_calculation as my_int\n",
    "import Data_quantification_function_parse_bundle as my_pb\n",
    "import Data_quantification_function_plotting as my_plot\n",
    "import Data_quantification_function_summary_helper8 as my_sum"
   ]
  },
  {
   "cell_type": "code",
   "execution_count": 5,
   "metadata": {},
   "outputs": [
    {
     "data": {
      "text/plain": [
       "' ============== Golbal variables and parameters =============='"
      ]
     },
     "execution_count": 5,
     "metadata": {},
     "output_type": "execute_result"
    }
   ],
   "source": [
    "\"\"\" ============== Golbal variables and parameters ==============\"\"\""
   ]
  },
  {
   "cell_type": "code",
   "execution_count": 6,
   "metadata": {},
   "outputs": [],
   "source": [
    "### analysis parameters\n",
    "slicetype = 0\n",
    "centertype = 1\n",
    "radius_expanse_ratio = 3\n",
    "num_angle_ection = 24\n",
    "num_outside_angle = 18\n",
    "num_x_section = 40\n",
    "z_offset = 20\n",
    "analysis_params = [num_angle_ection, num_outside_angle, num_x_section, z_offset, radius_expanse_ratio]"
   ]
  },
  {
   "cell_type": "code",
   "execution_count": 7,
   "metadata": {},
   "outputs": [],
   "source": [
    "target_index_match = {0:0, 1:2, 2:3, 3:4, 4:5, 5:7}\n",
    "target_index_match_rev = {0:0, 2:1, 3:2, 4:3, 5:4, 7:5}\n",
    "color_code = {1:'#00FFFF', 2:'#1FF509', 3: '#FF0000', 4: '#CFCF1C', 5: '#FF00FF', 6: '#FFAE01', 7:'#ff7c80', 0:'#FFFFFF'}\n",
    "channel_mapping = {'RFP':0, 'GFP':1, 'R3_1':2, 'R4_1':3, 'R3_2':4, 'R4_2':5, 'R3_3': 6, 0:'RFP', 1:'GFP', 2:'R3_1', 3:'R4_1', 4:'R3_2', 5:'R4_2', 6:'R3_3'}\n",
    "channel_cmap = {0:'Reds', 1: 'Greens', 2:'Reds', 3: 'Greens', 4:'Reds', 5: 'Greens', 6:'Reds'}\n",
    "matching_info = (target_index_match, color_code, channel_mapping, channel_cmap, target_index_match_rev)"
   ]
  },
  {
   "cell_type": "code",
   "execution_count": 8,
   "metadata": {
    "scrolled": true
   },
   "outputs": [
    {
     "data": {
      "text/plain": [
       "'============== main =============='"
      ]
     },
     "execution_count": 8,
     "metadata": {},
     "output_type": "execute_result"
    }
   ],
   "source": [
    "\"\"\"============== main ==============\"\"\""
   ]
  },
  {
   "cell_type": "code",
   "execution_count": 9,
   "metadata": {},
   "outputs": [
    {
     "data": {
      "text/plain": [
       "' Load data '"
      ]
     },
     "execution_count": 9,
     "metadata": {},
     "output_type": "execute_result"
    }
   ],
   "source": [
    "\"\"\" Load data \"\"\""
   ]
  },
  {
   "cell_type": "code",
   "execution_count": 10,
   "metadata": {},
   "outputs": [],
   "source": [
    "### file parameters\n",
    "# file folders\n",
    "image_folder = 'Images'\n",
    "ROI_folder = 'ROIs'\n",
    "annotation_folder = 'Annotations'\n",
    "summary_folder = 'Summary'\n"
   ]
  },
  {
   "cell_type": "code",
   "execution_count": 11,
   "metadata": {},
   "outputs": [],
   "source": [
    "# load summary statistics file\n",
    "mypath = os.path.join(data_prefix, summary_folder)\n",
    "# sum_df_nic = pd.read_csv(os.path.join(mypath, 'summary_v1017_nic.csv'))\n",
    "sum_df_fz = pd.read_csv(os.path.join(mypath, 'summary_v1017_fz.csv'))"
   ]
  },
  {
   "cell_type": "code",
   "execution_count": 12,
   "metadata": {
    "scrolled": true
   },
   "outputs": [
    {
     "name": "stdout",
     "output_type": "stream",
     "text": [
      "Fz_Gal80_s26r1_summary.csv\n",
      "Fz_Gal80_s23r1_summary.csv\n",
      "Fz_Gal80_s24r1_summary.csv\n",
      "Fz_Gal80_s38r1_summary.csv\n",
      "Fz_Gal80_s2r1_summary.csv\n",
      "Fz_Gal80_s9r1_summary.csv\n",
      "Fz_Gal80_s1r1_summary.csv\n"
     ]
    }
   ],
   "source": [
    "# load annotation files\n",
    "mypath = os.path.join(data_prefix, annotation_folder, 'Fz')\n",
    "folders, files = my_help.parseFolderInfo(mypath)\n",
    "for filename in files:\n",
    "    print(filename)\n",
    "    if('.csv' in filename):\n",
    "        df_temp = pd.read_csv(os.path.join(mypath, filename))\n",
    "        if(files.index(filename) == 0):\n",
    "            annots_df = df_temp\n",
    "        else:\n",
    "            df_temp = pd.read_csv(os.path.join(mypath, filename))\n",
    "            annots_df = annots_df.append(df_temp, ignore_index=True, sort=True)\n",
    "#     print(df_temp)"
   ]
  },
  {
   "cell_type": "code",
   "execution_count": 13,
   "metadata": {
    "scrolled": false
   },
   "outputs": [
    {
     "name": "stdout",
     "output_type": "stream",
     "text": [
      "=====0=====\n",
      "Fz 2 1\n",
      "=====1=====\n",
      "Fz 24 1\n",
      "=====2=====\n",
      "Fz 38 1\n",
      "=====3=====\n",
      "Fz 23 1\n",
      "=====4=====\n",
      "Fz 9 1\n",
      "=====5=====\n",
      "Fz 26 1\n",
      "=====6=====\n",
      "Fz 1 1\n"
     ]
    }
   ],
   "source": [
    "# load data files\n",
    "outputData = {}\n",
    "filepaths = my_help.getFilePaths(os.path.join(data_out_prefix))\n",
    "for i in range(len(filepaths)):\n",
    "    print(f'====={i}=====')\n",
    "    pickle_in = open(filepaths[i],\"rb\")\n",
    "    outputData[i] = pickle.load(pickle_in)\n",
    "    category = outputData[i]['categoryID']\n",
    "    sampleID = outputData[i]['sampleID']\n",
    "    regionID = outputData[i]['regionID']\n",
    "    print(category, sampleID, regionID)"
   ]
  },
  {
   "cell_type": "code",
   "execution_count": 14,
   "metadata": {
    "scrolled": false
   },
   "outputs": [],
   "source": [
    "# outputData[0]['parameter']"
   ]
  },
  {
   "cell_type": "code",
   "execution_count": 33,
   "metadata": {},
   "outputs": [],
   "source": [
    "import Data_quantification_function_summary_helper10 as my_sum"
   ]
  },
  {
   "cell_type": "code",
   "execution_count": null,
   "metadata": {},
   "outputs": [],
   "source": [
    "del bundle_pairs_df"
   ]
  },
  {
   "cell_type": "code",
   "execution_count": 34,
   "metadata": {},
   "outputs": [],
   "source": [
    "# sum_df = pd.concat([sum_df_nic, sum_df_fz])\n",
    "sum_df = sum_df_fz\n",
    "sum_df = sum_df.dropna()\n",
    "sum_df.reset_index(drop = True, inplace = True)"
   ]
  },
  {
   "cell_type": "code",
   "execution_count": 35,
   "metadata": {
    "scrolled": true
   },
   "outputs": [
    {
     "name": "stdout",
     "output_type": "stream",
     "text": [
      "===\n",
      "Fz 2 1\n",
      "===\n",
      "Fz 24 1\n",
      "===\n",
      "Fz 38 1\n",
      "===\n",
      "Fz 23 1\n"
     ]
    },
    {
     "ename": "IndexError",
     "evalue": "index 0 is out of bounds for axis 0 with size 0",
     "output_type": "error",
     "traceback": [
      "\u001b[1;31m---------------------------------------------------------------------------\u001b[0m",
      "\u001b[1;31mIndexError\u001b[0m                                Traceback (most recent call last)",
      "\u001b[1;32m<ipython-input-35-1ef860e75b1d>\u001b[0m in \u001b[0;36m<module>\u001b[1;34m\u001b[0m\n\u001b[0;32m      4\u001b[0m \u001b[1;31m# sum_df_fz = my_sum.process_sum_df(sum_df_fz, annots_df, outputData)\u001b[0m\u001b[1;33m\u001b[0m\u001b[1;33m\u001b[0m\u001b[1;33m\u001b[0m\u001b[0m\n\u001b[0;32m      5\u001b[0m \u001b[0mparams\u001b[0m \u001b[1;33m=\u001b[0m \u001b[1;33m[\u001b[0m\u001b[1;34m'length_mean_fromheel'\u001b[0m\u001b[1;33m,\u001b[0m \u001b[1;34m'angle_mean_abs'\u001b[0m\u001b[1;33m]\u001b[0m\u001b[1;33m\u001b[0m\u001b[1;33m\u001b[0m\u001b[0m\n\u001b[1;32m----> 6\u001b[1;33m \u001b[0msum_df\u001b[0m\u001b[1;33m,\u001b[0m  \u001b[0mbundle_pairs_df\u001b[0m \u001b[1;33m=\u001b[0m \u001b[0mmy_sum\u001b[0m\u001b[1;33m.\u001b[0m\u001b[0mprocess_sum_df\u001b[0m\u001b[1;33m(\u001b[0m\u001b[0msum_df\u001b[0m\u001b[1;33m,\u001b[0m \u001b[0mannots_df\u001b[0m\u001b[1;33m,\u001b[0m \u001b[0moutputData\u001b[0m\u001b[1;33m,\u001b[0m \u001b[0mparams\u001b[0m\u001b[1;33m)\u001b[0m\u001b[1;33m\u001b[0m\u001b[1;33m\u001b[0m\u001b[0m\n\u001b[0m",
      "\u001b[1;32mW:\\2015_07_Neural_Superposition\\Projects\\Weiyue\\code\\python_cluster\\helper_functions\\Data_quantification_function_summary_helper10.py\u001b[0m in \u001b[0;36mprocess_sum_df\u001b[1;34m(sum_df, annots_df, outputData, params)\u001b[0m\n\u001b[0;32m    273\u001b[0m             \u001b[0mt7_pos\u001b[0m \u001b[1;33m=\u001b[0m \u001b[0mrel_pos_list\u001b[0m\u001b[1;33m[\u001b[0m\u001b[0mind_annot\u001b[0m\u001b[1;33m,\u001b[0m\u001b[1;36m5\u001b[0m\u001b[1;33m]\u001b[0m\u001b[1;33m\u001b[0m\u001b[1;33m\u001b[0m\u001b[0m\n\u001b[0;32m    274\u001b[0m             \u001b[0minds_sum\u001b[0m \u001b[1;33m=\u001b[0m  \u001b[0msum_df_current\u001b[0m\u001b[1;33m.\u001b[0m\u001b[0mindex\u001b[0m\u001b[1;33m[\u001b[0m\u001b[1;33m(\u001b[0m\u001b[0msum_df_current\u001b[0m\u001b[1;33m[\u001b[0m\u001b[1;34m'bundle_no'\u001b[0m\u001b[1;33m]\u001b[0m \u001b[1;33m==\u001b[0m \u001b[0mbundle_no\u001b[0m\u001b[1;33m)\u001b[0m\u001b[1;33m]\u001b[0m\u001b[1;33m\u001b[0m\u001b[1;33m\u001b[0m\u001b[0m\n\u001b[1;32m--> 275\u001b[1;33m             \u001b[0mbundle_pairs_idf\u001b[0m\u001b[1;33m.\u001b[0m\u001b[0mloc\u001b[0m\u001b[1;33m[\u001b[0m\u001b[1;36m0\u001b[0m\u001b[1;33m,\u001b[0m\u001b[1;34m'type_bundle'\u001b[0m\u001b[1;33m]\u001b[0m \u001b[1;33m=\u001b[0m \u001b[0msum_df\u001b[0m\u001b[1;33m.\u001b[0m\u001b[0mloc\u001b[0m\u001b[1;33m[\u001b[0m\u001b[0minds_sum\u001b[0m\u001b[1;33m[\u001b[0m\u001b[1;36m0\u001b[0m\u001b[1;33m]\u001b[0m\u001b[1;33m,\u001b[0m\u001b[1;34m'type_bundle'\u001b[0m\u001b[1;33m]\u001b[0m\u001b[1;33m\u001b[0m\u001b[1;33m\u001b[0m\u001b[0m\n\u001b[0m\u001b[0;32m    276\u001b[0m             \u001b[1;32mif\u001b[0m\u001b[1;33m(\u001b[0m\u001b[0mlen\u001b[0m\u001b[1;33m(\u001b[0m\u001b[0minds_sum\u001b[0m\u001b[1;33m)\u001b[0m \u001b[1;33m>\u001b[0m \u001b[1;36m0\u001b[0m\u001b[1;33m)\u001b[0m\u001b[1;33m:\u001b[0m\u001b[1;33m\u001b[0m\u001b[1;33m\u001b[0m\u001b[0m\n\u001b[0;32m    277\u001b[0m                 \u001b[0mr_types\u001b[0m \u001b[1;33m=\u001b[0m \u001b[0msum_df_current\u001b[0m\u001b[1;33m.\u001b[0m\u001b[0mloc\u001b[0m\u001b[1;33m[\u001b[0m\u001b[0minds_sum\u001b[0m\u001b[1;33m,\u001b[0m \u001b[1;34m'type_Rcell'\u001b[0m\u001b[1;33m]\u001b[0m\u001b[1;33m\u001b[0m\u001b[1;33m\u001b[0m\u001b[0m\n",
      "\u001b[1;32m~\\AppData\\Local\\Continuum\\anaconda3\\lib\\site-packages\\pandas\\core\\indexes\\base.py\u001b[0m in \u001b[0;36m__getitem__\u001b[1;34m(self, key)\u001b[0m\n\u001b[0;32m   3956\u001b[0m         \u001b[1;32mif\u001b[0m \u001b[0mis_scalar\u001b[0m\u001b[1;33m(\u001b[0m\u001b[0mkey\u001b[0m\u001b[1;33m)\u001b[0m\u001b[1;33m:\u001b[0m\u001b[1;33m\u001b[0m\u001b[1;33m\u001b[0m\u001b[0m\n\u001b[0;32m   3957\u001b[0m             \u001b[0mkey\u001b[0m \u001b[1;33m=\u001b[0m \u001b[0mcom\u001b[0m\u001b[1;33m.\u001b[0m\u001b[0mcast_scalar_indexer\u001b[0m\u001b[1;33m(\u001b[0m\u001b[0mkey\u001b[0m\u001b[1;33m)\u001b[0m\u001b[1;33m\u001b[0m\u001b[1;33m\u001b[0m\u001b[0m\n\u001b[1;32m-> 3958\u001b[1;33m             \u001b[1;32mreturn\u001b[0m \u001b[0mgetitem\u001b[0m\u001b[1;33m(\u001b[0m\u001b[0mkey\u001b[0m\u001b[1;33m)\u001b[0m\u001b[1;33m\u001b[0m\u001b[1;33m\u001b[0m\u001b[0m\n\u001b[0m\u001b[0;32m   3959\u001b[0m \u001b[1;33m\u001b[0m\u001b[0m\n\u001b[0;32m   3960\u001b[0m         \u001b[1;32mif\u001b[0m \u001b[0misinstance\u001b[0m\u001b[1;33m(\u001b[0m\u001b[0mkey\u001b[0m\u001b[1;33m,\u001b[0m \u001b[0mslice\u001b[0m\u001b[1;33m)\u001b[0m\u001b[1;33m:\u001b[0m\u001b[1;33m\u001b[0m\u001b[1;33m\u001b[0m\u001b[0m\n",
      "\u001b[1;31mIndexError\u001b[0m: index 0 is out of bounds for axis 0 with size 0"
     ]
    }
   ],
   "source": [
    "\"\"\" Process sum_df \"\"\"\n",
    "## average angles, make angle radian, calculate real length based on positions of heels and targets.\n",
    "# sum_df_nic = my_sum.process_sum_df(sum_df_nic, annots_df, outputData)\n",
    "# sum_df_fz = my_sum.process_sum_df(sum_df_fz, annots_df, outputData)\n",
    "params = ['length_mean_fromheel', 'angle_mean_abs']\n",
    "sum_df,  bundle_pairs_df = my_sum.process_sum_df(sum_df, annots_df, outputData, params)"
   ]
  },
  {
   "cell_type": "code",
   "execution_count": 27,
   "metadata": {},
   "outputs": [],
   "source": [
    "a = pd.DataFrame(columns = ['R3_length', 'R3_angle', 'R4_length', 'R4_angle', 'type_bundle'])"
   ]
  },
  {
   "cell_type": "code",
   "execution_count": 31,
   "metadata": {},
   "outputs": [],
   "source": [
    "a.loc[0,['R3_length', 'R3_angle']] = sum_df.loc[0,params].tolist()"
   ]
  },
  {
   "cell_type": "code",
   "execution_count": 32,
   "metadata": {},
   "outputs": [
    {
     "data": {
      "text/html": [
       "<div>\n",
       "<style scoped>\n",
       "    .dataframe tbody tr th:only-of-type {\n",
       "        vertical-align: middle;\n",
       "    }\n",
       "\n",
       "    .dataframe tbody tr th {\n",
       "        vertical-align: top;\n",
       "    }\n",
       "\n",
       "    .dataframe thead th {\n",
       "        text-align: right;\n",
       "    }\n",
       "</style>\n",
       "<table border=\"1\" class=\"dataframe\">\n",
       "  <thead>\n",
       "    <tr style=\"text-align: right;\">\n",
       "      <th></th>\n",
       "      <th>R3_length</th>\n",
       "      <th>R3_angle</th>\n",
       "      <th>R4_length</th>\n",
       "      <th>R4_angle</th>\n",
       "      <th>type_bundle</th>\n",
       "    </tr>\n",
       "  </thead>\n",
       "  <tbody>\n",
       "    <tr>\n",
       "      <th>0</th>\n",
       "      <td>1.69541</td>\n",
       "      <td>1.83</td>\n",
       "      <td>NaN</td>\n",
       "      <td>NaN</td>\n",
       "      <td>NaN</td>\n",
       "    </tr>\n",
       "  </tbody>\n",
       "</table>\n",
       "</div>"
      ],
      "text/plain": [
       "  R3_length R3_angle R4_length R4_angle type_bundle\n",
       "0   1.69541     1.83       NaN      NaN         NaN"
      ]
     },
     "execution_count": 32,
     "metadata": {},
     "output_type": "execute_result"
    }
   ],
   "source": [
    "a"
   ]
  },
  {
   "cell_type": "code",
   "execution_count": null,
   "metadata": {},
   "outputs": [],
   "source": [
    "# _, bins = np.histogram(df[\"variable\"])\n",
    "# g = sns.FacetGrid(df, hue=\"group\")\n",
    "# g = g.map(sns.distplot, \"variable\", bins=bins)\n",
    "# sns.jointplot"
   ]
  },
  {
   "cell_type": "code",
   "execution_count": 36,
   "metadata": {},
   "outputs": [
    {
     "data": {
      "text/html": [
       "<div>\n",
       "<style scoped>\n",
       "    .dataframe tbody tr th:only-of-type {\n",
       "        vertical-align: middle;\n",
       "    }\n",
       "\n",
       "    .dataframe tbody tr th {\n",
       "        vertical-align: top;\n",
       "    }\n",
       "\n",
       "    .dataframe thead th {\n",
       "        text-align: right;\n",
       "    }\n",
       "</style>\n",
       "<table border=\"1\" class=\"dataframe\">\n",
       "  <thead>\n",
       "    <tr style=\"text-align: right;\">\n",
       "      <th></th>\n",
       "      <th>R3_length</th>\n",
       "      <th>R3_angle</th>\n",
       "      <th>R4_length</th>\n",
       "      <th>R4_angle</th>\n",
       "      <th>type_bundle</th>\n",
       "    </tr>\n",
       "  </thead>\n",
       "  <tbody>\n",
       "    <tr>\n",
       "      <th>0</th>\n",
       "      <td>NaN</td>\n",
       "      <td>NaN</td>\n",
       "      <td>NaN</td>\n",
       "      <td>NaN</td>\n",
       "      <td>NaN</td>\n",
       "    </tr>\n",
       "    <tr>\n",
       "      <th>1</th>\n",
       "      <td>1.54316</td>\n",
       "      <td>1.08</td>\n",
       "      <td>1.21657</td>\n",
       "      <td>0.54</td>\n",
       "      <td>NaN</td>\n",
       "    </tr>\n",
       "    <tr>\n",
       "      <th>2</th>\n",
       "      <td>NaN</td>\n",
       "      <td>NaN</td>\n",
       "      <td>NaN</td>\n",
       "      <td>NaN</td>\n",
       "      <td>NaN</td>\n",
       "    </tr>\n",
       "    <tr>\n",
       "      <th>3</th>\n",
       "      <td>NaN</td>\n",
       "      <td>NaN</td>\n",
       "      <td>1.4779</td>\n",
       "      <td>0.58</td>\n",
       "      <td>NaN</td>\n",
       "    </tr>\n",
       "    <tr>\n",
       "      <th>4</th>\n",
       "      <td>NaN</td>\n",
       "      <td>NaN</td>\n",
       "      <td>NaN</td>\n",
       "      <td>NaN</td>\n",
       "      <td>NaN</td>\n",
       "    </tr>\n",
       "    <tr>\n",
       "      <th>5</th>\n",
       "      <td>NaN</td>\n",
       "      <td>NaN</td>\n",
       "      <td>0.877327</td>\n",
       "      <td>1.17</td>\n",
       "      <td>NaN</td>\n",
       "    </tr>\n",
       "    <tr>\n",
       "      <th>6</th>\n",
       "      <td>NaN</td>\n",
       "      <td>NaN</td>\n",
       "      <td>1.08005</td>\n",
       "      <td>0.71</td>\n",
       "      <td>NaN</td>\n",
       "    </tr>\n",
       "    <tr>\n",
       "      <th>7</th>\n",
       "      <td>NaN</td>\n",
       "      <td>NaN</td>\n",
       "      <td>0.982137</td>\n",
       "      <td>0.42</td>\n",
       "      <td>NaN</td>\n",
       "    </tr>\n",
       "    <tr>\n",
       "      <th>8</th>\n",
       "      <td>NaN</td>\n",
       "      <td>NaN</td>\n",
       "      <td>0.655718</td>\n",
       "      <td>0.67</td>\n",
       "      <td>NaN</td>\n",
       "    </tr>\n",
       "    <tr>\n",
       "      <th>9</th>\n",
       "      <td>NaN</td>\n",
       "      <td>NaN</td>\n",
       "      <td>0.750164</td>\n",
       "      <td>0.875</td>\n",
       "      <td>NaN</td>\n",
       "    </tr>\n",
       "    <tr>\n",
       "      <th>10</th>\n",
       "      <td>NaN</td>\n",
       "      <td>NaN</td>\n",
       "      <td>1.25359</td>\n",
       "      <td>0.42</td>\n",
       "      <td>NaN</td>\n",
       "    </tr>\n",
       "    <tr>\n",
       "      <th>11</th>\n",
       "      <td>NaN</td>\n",
       "      <td>NaN</td>\n",
       "      <td>1.14089</td>\n",
       "      <td>0.75</td>\n",
       "      <td>NaN</td>\n",
       "    </tr>\n",
       "    <tr>\n",
       "      <th>12</th>\n",
       "      <td>NaN</td>\n",
       "      <td>NaN</td>\n",
       "      <td>1.54423</td>\n",
       "      <td>0.42</td>\n",
       "      <td>NaN</td>\n",
       "    </tr>\n",
       "    <tr>\n",
       "      <th>13</th>\n",
       "      <td>NaN</td>\n",
       "      <td>NaN</td>\n",
       "      <td>NaN</td>\n",
       "      <td>NaN</td>\n",
       "      <td>NaN</td>\n",
       "    </tr>\n",
       "    <tr>\n",
       "      <th>14</th>\n",
       "      <td>1.61587</td>\n",
       "      <td>1.25</td>\n",
       "      <td>0.654348</td>\n",
       "      <td>0.08</td>\n",
       "      <td>NaN</td>\n",
       "    </tr>\n",
       "    <tr>\n",
       "      <th>15</th>\n",
       "      <td>1.56636</td>\n",
       "      <td>1.67</td>\n",
       "      <td>0.818542</td>\n",
       "      <td>0.92</td>\n",
       "      <td>NaN</td>\n",
       "    </tr>\n",
       "    <tr>\n",
       "      <th>16</th>\n",
       "      <td>1.65773</td>\n",
       "      <td>0.33</td>\n",
       "      <td>0.749327</td>\n",
       "      <td>0.67</td>\n",
       "      <td>NaN</td>\n",
       "    </tr>\n",
       "    <tr>\n",
       "      <th>17</th>\n",
       "      <td>NaN</td>\n",
       "      <td>NaN</td>\n",
       "      <td>NaN</td>\n",
       "      <td>NaN</td>\n",
       "      <td>NaN</td>\n",
       "    </tr>\n",
       "    <tr>\n",
       "      <th>18</th>\n",
       "      <td>NaN</td>\n",
       "      <td>NaN</td>\n",
       "      <td>NaN</td>\n",
       "      <td>NaN</td>\n",
       "      <td>NaN</td>\n",
       "    </tr>\n",
       "    <tr>\n",
       "      <th>19</th>\n",
       "      <td>NaN</td>\n",
       "      <td>NaN</td>\n",
       "      <td>NaN</td>\n",
       "      <td>NaN</td>\n",
       "      <td>NaN</td>\n",
       "    </tr>\n",
       "    <tr>\n",
       "      <th>20</th>\n",
       "      <td>1.21699</td>\n",
       "      <td>0.75</td>\n",
       "      <td>0.406481</td>\n",
       "      <td>0.96</td>\n",
       "      <td>NaN</td>\n",
       "    </tr>\n",
       "    <tr>\n",
       "      <th>21</th>\n",
       "      <td>NaN</td>\n",
       "      <td>NaN</td>\n",
       "      <td>NaN</td>\n",
       "      <td>NaN</td>\n",
       "      <td>NaN</td>\n",
       "    </tr>\n",
       "    <tr>\n",
       "      <th>22</th>\n",
       "      <td>NaN</td>\n",
       "      <td>NaN</td>\n",
       "      <td>1.07187</td>\n",
       "      <td>0.375</td>\n",
       "      <td>NaN</td>\n",
       "    </tr>\n",
       "    <tr>\n",
       "      <th>23</th>\n",
       "      <td>NaN</td>\n",
       "      <td>NaN</td>\n",
       "      <td>0.827961</td>\n",
       "      <td>0.5</td>\n",
       "      <td>NaN</td>\n",
       "    </tr>\n",
       "    <tr>\n",
       "      <th>24</th>\n",
       "      <td>1.16227</td>\n",
       "      <td>0.665</td>\n",
       "      <td>0.967208</td>\n",
       "      <td>0.75</td>\n",
       "      <td>NaN</td>\n",
       "    </tr>\n",
       "    <tr>\n",
       "      <th>25</th>\n",
       "      <td>1.73297</td>\n",
       "      <td>0.67</td>\n",
       "      <td>1.29114</td>\n",
       "      <td>0.96</td>\n",
       "      <td>NaN</td>\n",
       "    </tr>\n",
       "    <tr>\n",
       "      <th>26</th>\n",
       "      <td>NaN</td>\n",
       "      <td>NaN</td>\n",
       "      <td>0.763498</td>\n",
       "      <td>1.5</td>\n",
       "      <td>NaN</td>\n",
       "    </tr>\n",
       "    <tr>\n",
       "      <th>27</th>\n",
       "      <td>NaN</td>\n",
       "      <td>NaN</td>\n",
       "      <td>1.02905</td>\n",
       "      <td>0.75</td>\n",
       "      <td>NaN</td>\n",
       "    </tr>\n",
       "    <tr>\n",
       "      <th>28</th>\n",
       "      <td>NaN</td>\n",
       "      <td>NaN</td>\n",
       "      <td>NaN</td>\n",
       "      <td>NaN</td>\n",
       "      <td>NaN</td>\n",
       "    </tr>\n",
       "    <tr>\n",
       "      <th>29</th>\n",
       "      <td>NaN</td>\n",
       "      <td>NaN</td>\n",
       "      <td>NaN</td>\n",
       "      <td>NaN</td>\n",
       "      <td>NaN</td>\n",
       "    </tr>\n",
       "    <tr>\n",
       "      <th>...</th>\n",
       "      <td>...</td>\n",
       "      <td>...</td>\n",
       "      <td>...</td>\n",
       "      <td>...</td>\n",
       "      <td>...</td>\n",
       "    </tr>\n",
       "    <tr>\n",
       "      <th>61</th>\n",
       "      <td>NaN</td>\n",
       "      <td>NaN</td>\n",
       "      <td>0.799913</td>\n",
       "      <td>0.5</td>\n",
       "      <td>NaN</td>\n",
       "    </tr>\n",
       "    <tr>\n",
       "      <th>62</th>\n",
       "      <td>1.98976</td>\n",
       "      <td>0.75</td>\n",
       "      <td>1.10787</td>\n",
       "      <td>0.83</td>\n",
       "      <td>NaN</td>\n",
       "    </tr>\n",
       "    <tr>\n",
       "      <th>63</th>\n",
       "      <td>1.92837</td>\n",
       "      <td>0.25</td>\n",
       "      <td>1.10681</td>\n",
       "      <td>0.96</td>\n",
       "      <td>NaN</td>\n",
       "    </tr>\n",
       "    <tr>\n",
       "      <th>64</th>\n",
       "      <td>1.61717</td>\n",
       "      <td>0.42</td>\n",
       "      <td>0.665481</td>\n",
       "      <td>0.58</td>\n",
       "      <td>NaN</td>\n",
       "    </tr>\n",
       "    <tr>\n",
       "      <th>65</th>\n",
       "      <td>NaN</td>\n",
       "      <td>NaN</td>\n",
       "      <td>NaN</td>\n",
       "      <td>NaN</td>\n",
       "      <td>NaN</td>\n",
       "    </tr>\n",
       "    <tr>\n",
       "      <th>66</th>\n",
       "      <td>1.63585</td>\n",
       "      <td>0.83</td>\n",
       "      <td>1.3137</td>\n",
       "      <td>0.67</td>\n",
       "      <td>NaN</td>\n",
       "    </tr>\n",
       "    <tr>\n",
       "      <th>67</th>\n",
       "      <td>NaN</td>\n",
       "      <td>NaN</td>\n",
       "      <td>NaN</td>\n",
       "      <td>NaN</td>\n",
       "      <td>NaN</td>\n",
       "    </tr>\n",
       "    <tr>\n",
       "      <th>68</th>\n",
       "      <td>NaN</td>\n",
       "      <td>NaN</td>\n",
       "      <td>NaN</td>\n",
       "      <td>NaN</td>\n",
       "      <td>NaN</td>\n",
       "    </tr>\n",
       "    <tr>\n",
       "      <th>69</th>\n",
       "      <td>NaN</td>\n",
       "      <td>NaN</td>\n",
       "      <td>0.716059</td>\n",
       "      <td>0.5</td>\n",
       "      <td>NaN</td>\n",
       "    </tr>\n",
       "    <tr>\n",
       "      <th>70</th>\n",
       "      <td>NaN</td>\n",
       "      <td>NaN</td>\n",
       "      <td>0.836576</td>\n",
       "      <td>0.5</td>\n",
       "      <td>NaN</td>\n",
       "    </tr>\n",
       "    <tr>\n",
       "      <th>71</th>\n",
       "      <td>1.68239</td>\n",
       "      <td>0.33</td>\n",
       "      <td>0.747701</td>\n",
       "      <td>0.705</td>\n",
       "      <td>NaN</td>\n",
       "    </tr>\n",
       "    <tr>\n",
       "      <th>72</th>\n",
       "      <td>1.92594</td>\n",
       "      <td>0.3</td>\n",
       "      <td>0.782465</td>\n",
       "      <td>0.35</td>\n",
       "      <td>NaN</td>\n",
       "    </tr>\n",
       "    <tr>\n",
       "      <th>73</th>\n",
       "      <td>0.941766</td>\n",
       "      <td>1.15</td>\n",
       "      <td>0.469461</td>\n",
       "      <td>0.9</td>\n",
       "      <td>NaN</td>\n",
       "    </tr>\n",
       "    <tr>\n",
       "      <th>74</th>\n",
       "      <td>1.55263</td>\n",
       "      <td>0.5</td>\n",
       "      <td>0.886647</td>\n",
       "      <td>0.8</td>\n",
       "      <td>NaN</td>\n",
       "    </tr>\n",
       "    <tr>\n",
       "      <th>75</th>\n",
       "      <td>1.86519</td>\n",
       "      <td>0.5</td>\n",
       "      <td>0.970199</td>\n",
       "      <td>0.3</td>\n",
       "      <td>NaN</td>\n",
       "    </tr>\n",
       "    <tr>\n",
       "      <th>76</th>\n",
       "      <td>1.28162</td>\n",
       "      <td>0.8</td>\n",
       "      <td>1.03635</td>\n",
       "      <td>0.6</td>\n",
       "      <td>NaN</td>\n",
       "    </tr>\n",
       "    <tr>\n",
       "      <th>77</th>\n",
       "      <td>1.58878</td>\n",
       "      <td>1</td>\n",
       "      <td>1.06235</td>\n",
       "      <td>1.3</td>\n",
       "      <td>NaN</td>\n",
       "    </tr>\n",
       "    <tr>\n",
       "      <th>78</th>\n",
       "      <td>NaN</td>\n",
       "      <td>NaN</td>\n",
       "      <td>NaN</td>\n",
       "      <td>NaN</td>\n",
       "      <td>NaN</td>\n",
       "    </tr>\n",
       "    <tr>\n",
       "      <th>79</th>\n",
       "      <td>NaN</td>\n",
       "      <td>NaN</td>\n",
       "      <td>NaN</td>\n",
       "      <td>NaN</td>\n",
       "      <td>NaN</td>\n",
       "    </tr>\n",
       "    <tr>\n",
       "      <th>80</th>\n",
       "      <td>NaN</td>\n",
       "      <td>NaN</td>\n",
       "      <td>NaN</td>\n",
       "      <td>NaN</td>\n",
       "      <td>NaN</td>\n",
       "    </tr>\n",
       "    <tr>\n",
       "      <th>81</th>\n",
       "      <td>NaN</td>\n",
       "      <td>NaN</td>\n",
       "      <td>NaN</td>\n",
       "      <td>NaN</td>\n",
       "      <td>NaN</td>\n",
       "    </tr>\n",
       "    <tr>\n",
       "      <th>82</th>\n",
       "      <td>2.10761</td>\n",
       "      <td>0.71</td>\n",
       "      <td>1.14545</td>\n",
       "      <td>1.04</td>\n",
       "      <td>NaN</td>\n",
       "    </tr>\n",
       "    <tr>\n",
       "      <th>83</th>\n",
       "      <td>NaN</td>\n",
       "      <td>NaN</td>\n",
       "      <td>0.915354</td>\n",
       "      <td>0.33</td>\n",
       "      <td>NaN</td>\n",
       "    </tr>\n",
       "    <tr>\n",
       "      <th>84</th>\n",
       "      <td>NaN</td>\n",
       "      <td>NaN</td>\n",
       "      <td>1.18477</td>\n",
       "      <td>0.33</td>\n",
       "      <td>NaN</td>\n",
       "    </tr>\n",
       "    <tr>\n",
       "      <th>85</th>\n",
       "      <td>1.75229</td>\n",
       "      <td>0.54</td>\n",
       "      <td>1.06318</td>\n",
       "      <td>0.58</td>\n",
       "      <td>NaN</td>\n",
       "    </tr>\n",
       "    <tr>\n",
       "      <th>86</th>\n",
       "      <td>1.55391</td>\n",
       "      <td>1.17</td>\n",
       "      <td>0.869708</td>\n",
       "      <td>0.585</td>\n",
       "      <td>NaN</td>\n",
       "    </tr>\n",
       "    <tr>\n",
       "      <th>87</th>\n",
       "      <td>NaN</td>\n",
       "      <td>NaN</td>\n",
       "      <td>1.07488</td>\n",
       "      <td>0.46</td>\n",
       "      <td>NaN</td>\n",
       "    </tr>\n",
       "    <tr>\n",
       "      <th>88</th>\n",
       "      <td>NaN</td>\n",
       "      <td>NaN</td>\n",
       "      <td>0.995254</td>\n",
       "      <td>1.04</td>\n",
       "      <td>NaN</td>\n",
       "    </tr>\n",
       "    <tr>\n",
       "      <th>89</th>\n",
       "      <td>1.43199</td>\n",
       "      <td>0.67</td>\n",
       "      <td>0.68216</td>\n",
       "      <td>0.42</td>\n",
       "      <td>NaN</td>\n",
       "    </tr>\n",
       "    <tr>\n",
       "      <th>90</th>\n",
       "      <td>1.75753</td>\n",
       "      <td>0.75</td>\n",
       "      <td>0.662873</td>\n",
       "      <td>0.25</td>\n",
       "      <td>NaN</td>\n",
       "    </tr>\n",
       "  </tbody>\n",
       "</table>\n",
       "<p>91 rows × 5 columns</p>\n",
       "</div>"
      ],
      "text/plain": [
       "   R3_length R3_angle R4_length R4_angle type_bundle\n",
       "0        NaN      NaN       NaN      NaN         NaN\n",
       "1    1.54316     1.08   1.21657     0.54         NaN\n",
       "2        NaN      NaN       NaN      NaN         NaN\n",
       "3        NaN      NaN    1.4779     0.58         NaN\n",
       "4        NaN      NaN       NaN      NaN         NaN\n",
       "5        NaN      NaN  0.877327     1.17         NaN\n",
       "6        NaN      NaN   1.08005     0.71         NaN\n",
       "7        NaN      NaN  0.982137     0.42         NaN\n",
       "8        NaN      NaN  0.655718     0.67         NaN\n",
       "9        NaN      NaN  0.750164    0.875         NaN\n",
       "10       NaN      NaN   1.25359     0.42         NaN\n",
       "11       NaN      NaN   1.14089     0.75         NaN\n",
       "12       NaN      NaN   1.54423     0.42         NaN\n",
       "13       NaN      NaN       NaN      NaN         NaN\n",
       "14   1.61587     1.25  0.654348     0.08         NaN\n",
       "15   1.56636     1.67  0.818542     0.92         NaN\n",
       "16   1.65773     0.33  0.749327     0.67         NaN\n",
       "17       NaN      NaN       NaN      NaN         NaN\n",
       "18       NaN      NaN       NaN      NaN         NaN\n",
       "19       NaN      NaN       NaN      NaN         NaN\n",
       "20   1.21699     0.75  0.406481     0.96         NaN\n",
       "21       NaN      NaN       NaN      NaN         NaN\n",
       "22       NaN      NaN   1.07187    0.375         NaN\n",
       "23       NaN      NaN  0.827961      0.5         NaN\n",
       "24   1.16227    0.665  0.967208     0.75         NaN\n",
       "25   1.73297     0.67   1.29114     0.96         NaN\n",
       "26       NaN      NaN  0.763498      1.5         NaN\n",
       "27       NaN      NaN   1.02905     0.75         NaN\n",
       "28       NaN      NaN       NaN      NaN         NaN\n",
       "29       NaN      NaN       NaN      NaN         NaN\n",
       "..       ...      ...       ...      ...         ...\n",
       "61       NaN      NaN  0.799913      0.5         NaN\n",
       "62   1.98976     0.75   1.10787     0.83         NaN\n",
       "63   1.92837     0.25   1.10681     0.96         NaN\n",
       "64   1.61717     0.42  0.665481     0.58         NaN\n",
       "65       NaN      NaN       NaN      NaN         NaN\n",
       "66   1.63585     0.83    1.3137     0.67         NaN\n",
       "67       NaN      NaN       NaN      NaN         NaN\n",
       "68       NaN      NaN       NaN      NaN         NaN\n",
       "69       NaN      NaN  0.716059      0.5         NaN\n",
       "70       NaN      NaN  0.836576      0.5         NaN\n",
       "71   1.68239     0.33  0.747701    0.705         NaN\n",
       "72   1.92594      0.3  0.782465     0.35         NaN\n",
       "73  0.941766     1.15  0.469461      0.9         NaN\n",
       "74   1.55263      0.5  0.886647      0.8         NaN\n",
       "75   1.86519      0.5  0.970199      0.3         NaN\n",
       "76   1.28162      0.8   1.03635      0.6         NaN\n",
       "77   1.58878        1   1.06235      1.3         NaN\n",
       "78       NaN      NaN       NaN      NaN         NaN\n",
       "79       NaN      NaN       NaN      NaN         NaN\n",
       "80       NaN      NaN       NaN      NaN         NaN\n",
       "81       NaN      NaN       NaN      NaN         NaN\n",
       "82   2.10761     0.71   1.14545     1.04         NaN\n",
       "83       NaN      NaN  0.915354     0.33         NaN\n",
       "84       NaN      NaN   1.18477     0.33         NaN\n",
       "85   1.75229     0.54   1.06318     0.58         NaN\n",
       "86   1.55391     1.17  0.869708    0.585         NaN\n",
       "87       NaN      NaN   1.07488     0.46         NaN\n",
       "88       NaN      NaN  0.995254     1.04         NaN\n",
       "89   1.43199     0.67   0.68216     0.42         NaN\n",
       "90   1.75753     0.75  0.662873     0.25         NaN\n",
       "\n",
       "[91 rows x 5 columns]"
      ]
     },
     "execution_count": 36,
     "metadata": {},
     "output_type": "execute_result"
    }
   ],
   "source": [
    "bundle_pairs_df"
   ]
  },
  {
   "cell_type": "code",
   "execution_count": null,
   "metadata": {
    "scrolled": true
   },
   "outputs": [],
   "source": [
    "sum_df.loc[:,['angle_max_1', 'bundle_no_total', 'heel_pos_type', 'type_plot']]"
   ]
  },
  {
   "cell_type": "code",
   "execution_count": null,
   "metadata": {},
   "outputs": [],
   "source": [
    "a = pd.DataFrame(columns = ['a', 'b', 'c'])\n",
    "b = pd.DataFrame(columns = ['a', 'b', 'c'])\n",
    "\n"
   ]
  },
  {
   "cell_type": "code",
   "execution_count": null,
   "metadata": {
    "scrolled": true
   },
   "outputs": [],
   "source": [
    "a.loc[1,'a'] = 5\n",
    "a.loc[5,'c'] = 10\n",
    "b = pd.concat([a,b], ignore_index = True)"
   ]
  },
  {
   "cell_type": "code",
   "execution_count": null,
   "metadata": {},
   "outputs": [],
   "source": [
    "b"
   ]
  },
  {
   "cell_type": "code",
   "execution_count": null,
   "metadata": {
    "scrolled": false
   },
   "outputs": [],
   "source": [
    "sum_df_grouped = sum_df.groupby(['type_plot', 'heel_pos_type'])\n",
    "# sum_df_current = sum_df_grouped.get_group('N')[sum_df_grouped.get_group('N').SampleID != 29] \n",
    "sum_df_grouped.groups"
   ]
  },
  {
   "cell_type": "code",
   "execution_count": null,
   "metadata": {},
   "outputs": [],
   "source": [
    "sum_df_grouped.count()"
   ]
  },
  {
   "cell_type": "code",
   "execution_count": null,
   "metadata": {},
   "outputs": [],
   "source": [
    "sns.distplot(sum_df_grouped.get_group(('R3',3.0)).loc[:,'length_mean_fromheel'])\n",
    "sns.distplot(sum_df_grouped.get_group(('R4',4.0)).loc[:,'length_mean_fromheel'])\n",
    "sns.distplot(sum_df_grouped.get_group(('R3/R3',3.0)).loc[:,'length_mean_fromheel'])\n",
    "sns.distplot(sum_df_grouped.get_group(('R3/R3',4.0)).loc[:,'length_mean_fromheel'])\n",
    "legend = ['R3', 'R4', 'R3(R3/R3)', 'R4(R3/R3)']\n",
    "plt.xlabel('Relative Length')\n",
    "plt.legend(legend, bbox_to_anchor=(1.05, 1), loc=2, borderaxespad=0.)\n"
   ]
  },
  {
   "cell_type": "code",
   "execution_count": null,
   "metadata": {
    "scrolled": false
   },
   "outputs": [],
   "source": [
    "sns.distplot(sum_df_grouped.get_group(('R3',3.0)).loc[:,'angle_mean_abs'])\n",
    "sns.distplot(sum_df_grouped.get_group(('R4',4.0)).loc[:,'angle_mean_abs'])\n",
    "sns.distplot(sum_df_grouped.get_group(('R3/R3',3.0)).loc[:,'angle_mean_abs'])\n",
    "sns.distplot(sum_df_grouped.get_group(('R3/R3',4.0)).loc[:,'angle_mean_abs'])\n",
    "legend = ['R3', 'R4', 'R3(R3/R3)', 'R4(R3/R3)']\n",
    "plt.xlabel('Relative Angle')\n",
    "plt.legend(legend, bbox_to_anchor=(1.05, 1), loc=2, borderaxespad=0.)\n"
   ]
  },
  {
   "cell_type": "code",
   "execution_count": null,
   "metadata": {},
   "outputs": [],
   "source": [
    "import numpy as np"
   ]
  },
  {
   "cell_type": "code",
   "execution_count": null,
   "metadata": {},
   "outputs": [],
   "source": [
    "np.zeros((1,2))"
   ]
  },
  {
   "cell_type": "code",
   "execution_count": null,
   "metadata": {},
   "outputs": [],
   "source": [
    "R3R3 =np.zeros((1,2))\n",
    "R3R4 = np.zeros((1,2))"
   ]
  },
  {
   "cell_type": "code",
   "execution_count": null,
   "metadata": {
    "scrolled": true
   },
   "outputs": [],
   "source": [
    "sum_df.index"
   ]
  },
  {
   "cell_type": "code",
   "execution_count": null,
   "metadata": {},
   "outputs": [],
   "source": [
    "sum_df_grouped = sum_df.groupby(['bundle_no_total'])"
   ]
  },
  {
   "cell_type": "code",
   "execution_count": null,
   "metadata": {
    "scrolled": true
   },
   "outputs": [],
   "source": [
    "sum_df_grouped.groups.keys()"
   ]
  },
  {
   "cell_type": "code",
   "execution_count": null,
   "metadata": {},
   "outputs": [],
   "source": [
    "sum_df_grouped.get_group(i).iloc[0]['type_plot']"
   ]
  },
  {
   "cell_type": "code",
   "execution_count": null,
   "metadata": {},
   "outputs": [],
   "source": [
    "for i in sum_df_grouped.groups.keys():\n",
    "    if(len(sum_df_grouped.get_group(i).index) == 2):\n",
    "        if(sum_df_grouped.get_group(i).iloc[0]['type_plot'] == 'R3'):\n",
    "            length_R3 = sum_df_grouped.get_group(i).iloc[0]['length_mean_fromheel']\n",
    "            length_R4 = sum_df_grouped.get_group(i).iloc[1]['length_mean_fromheel']\n",
    "            R3R4 = np.append(R3R4, [[length_R3, length_R4]], axis = 0)\n",
    "        elif(sum_df_grouped.get_group(i).iloc[0]['type_plot'] == 'R4'):\n",
    "            length_R3 = sum_df_grouped.get_group(i).iloc[1]['length_mean_fromheel']\n",
    "            length_R4 = sum_df_grouped.get_group(i).iloc[0]['length_mean_fromheel']\n",
    "            R3R4 = np.append(R3R4, [[length_R3, length_R4]], axis = 0)\n",
    "        elif(sum_df_grouped.get_group(i).iloc[0]['type_plot'] == 'R3/R3'):\n",
    "            if(sum_df_grouped.get_group(i).iloc[0]['heel_pos_type'] == 3):\n",
    "                length_R3 = sum_df_grouped.get_group(i).iloc[0]['length_mean_fromheel']\n",
    "                length_R4 = sum_df_grouped.get_group(i).iloc[1]['length_mean_fromheel']\n",
    "                R3R3 = np.append(R3R3,  [[length_R3, length_R4]], axis = 0)\n",
    "            elif(sum_df_grouped.get_group(i).iloc[0]['heel_pos_type'] == 4):\n",
    "                length_R3 = sum_df_grouped.get_group(i).iloc[1]['length_mean_fromheel']\n",
    "                length_R4 = sum_df_grouped.get_group(i).iloc[0]['length_mean_fromheel']\n",
    "                R3R3 = np.append(R3R3,  [[length_R3, length_R4]], axis = 0)"
   ]
  },
  {
   "cell_type": "code",
   "execution_count": null,
   "metadata": {},
   "outputs": [],
   "source": [
    "R3R4 = R3R4[1:,:]\n",
    "R3R3 = R3R3[1:,:]\n",
    "x = [0:0.1:3]"
   ]
  },
  {
   "cell_type": "code",
   "execution_count": null,
   "metadata": {},
   "outputs": [],
   "source": [
    "fig = plt.subplots(1,1,figsize = (5,4))\n",
    "sns.scatterplot(x = R3R4[:,0], y = R3R4[:,1])\n",
    "sns.scatterplot(x = R3R3[:,0], y = R3R3[:,1])\n",
    "plt.plot([0,3],[0,3])\n",
    "plt.xlim([0,3])\n",
    "plt.ylim([0,3])\n",
    "legend = ['x=y', 'R3/R4', 'R3/R3']\n",
    "plt.xlabel('R3 length')\n",
    "plt.ylabel('R4 length')\n",
    "plt.legend(legend, bbox_to_anchor=(1.05, 1), loc=2, borderaxespad=0.)\n"
   ]
  },
  {
   "cell_type": "code",
   "execution_count": null,
   "metadata": {},
   "outputs": [],
   "source": [
    "len(R3R4)\n"
   ]
  },
  {
   "cell_type": "code",
   "execution_count": null,
   "metadata": {},
   "outputs": [],
   "source": [
    "len(R3R3)"
   ]
  },
  {
   "cell_type": "code",
   "execution_count": null,
   "metadata": {},
   "outputs": [],
   "source": [
    "np.append(R3R4,[[1,2]], axis = 0)"
   ]
  },
  {
   "cell_type": "code",
   "execution_count": null,
   "metadata": {},
   "outputs": [],
   "source": [
    "[length_R3, length_R4]"
   ]
  },
  {
   "cell_type": "code",
   "execution_count": null,
   "metadata": {},
   "outputs": [],
   "source": [
    "R3R4"
   ]
  },
  {
   "cell_type": "code",
   "execution_count": null,
   "metadata": {},
   "outputs": [],
   "source": []
  },
  {
   "cell_type": "code",
   "execution_count": null,
   "metadata": {},
   "outputs": [],
   "source": [
    "for ind, bundle_no_total in enumerate(sum_df.index):\n",
    "    print(ind)"
   ]
  },
  {
   "cell_type": "code",
   "execution_count": null,
   "metadata": {
    "scrolled": true
   },
   "outputs": [],
   "source": [
    "# \"\"\" Plotting: summary bar plots \"\"\""
   ]
  },
  {
   "cell_type": "code",
   "execution_count": null,
   "metadata": {
    "scrolled": true
   },
   "outputs": [],
   "source": [
    "# x_cat = \"type_plot\"\n",
    "# y_cat = \"length_mean_fromheel\" \n",
    "# y_label = 'Relative Length'\n",
    "# # 'angle_max_abs','angle_avg_abs'\n",
    "# # 'length_max_fromheel', 'length_avg_fromheel', 'length_max_fromT3', 'length_avg_fromT3', \n",
    "\n",
    "# ylim = (0, 2)\n",
    "# # ylim = (0, 1.5)\n",
    "\n",
    "# tickfontsize = 30\n",
    "# labelfontsize = 40\n",
    "# figsize = (8,6)\n",
    "\n",
    "# figure_title = 'length_barplot.png'\n",
    "# fig_save_path = os.path.join(sum_fig_out_prefix, figure_title)\n",
    "\n",
    "# sns.set(font_scale=1.5)\n",
    "# sns.set_style(\"whitegrid\", {'axes.grid' : False})\n",
    "# x_order = [\"R3\", \"R4\", \"R4/R4\"]\n",
    "# stats_pair = [('R3', 'R4'), ('R4/R4', 'R4')]"
   ]
  },
  {
   "cell_type": "code",
   "execution_count": null,
   "metadata": {},
   "outputs": [],
   "source": [
    "# sns.set(font_scale=1.5)\n",
    "# sns.set_style(\"white\")\n",
    "# fig, ax = plt.subplots(figsize=figsize)\n",
    "# sns.barplot(ax = ax, x=x_cat, y=y_cat, data=sum_df, color = \"silver\")\n",
    "# ax = sns.swarmplot(ax = ax, x=x_cat, y=y_cat, data = sum_df, color=\".25\", order = x_order)\n",
    "\n",
    "# ax.set_xlabel(\"\",fontsize=labelfontsize);\n",
    "# ax.set_ylabel(y_label,fontsize=labelfontsize);\n",
    "# ax.tick_params(axis = 'x', labelsize = tickfontsize)\n",
    "# ax.tick_params(axis = 'y', labelsize = tickfontsize)\n",
    "# ax.set_title(\"\", fontsize = tickfontsize)\n",
    "# ax.set_ylim(ylim)\n",
    "\n",
    "# testResults = add_stat_annotation(ax, data = sum_df, x = x_cat, y = y_cat, order = x_order,\n",
    "#                                   boxPairList=stats_pair, \n",
    "#                                   test='Mann-Whitney', textFormat='star', loc='outside', \n",
    "#                                   pvalueThresholds=[[1,\"ns\"], [0.05,\"*\"], [1e-2,\"**\"], [1e-3,\"***\"]], \n",
    "#                                   lineOffsetToBox=0.5, lineOffset=0.02, lineHeight=0.03, textOffset=0, verbose=2, \n",
    "#                                   fontsize = tickfontsize)\n",
    "# # test = 't-test_ind'\n",
    "# plt.savefig(fig_save_path, dpi=300, bbox_inches='tight')\n",
    "# # p_value_calculation(sum_df, x_cat, y_cat, [('R3', 'R4'), ('R3/R3', 'R3'), (\"R4/R4\", \"R4\")])"
   ]
  },
  {
   "cell_type": "code",
   "execution_count": null,
   "metadata": {
    "scrolled": true
   },
   "outputs": [],
   "source": [
    "\"\"\" Plotting: summary bar plots by category \"\"\""
   ]
  },
  {
   "cell_type": "code",
   "execution_count": null,
   "metadata": {},
   "outputs": [],
   "source": [
    "sum_df.columns"
   ]
  },
  {
   "cell_type": "code",
   "execution_count": null,
   "metadata": {},
   "outputs": [],
   "source": [
    "sum_df_grouped = sum_df.groupby(['CategoryID'])"
   ]
  },
  {
   "cell_type": "code",
   "execution_count": null,
   "metadata": {},
   "outputs": [],
   "source": [
    "sum_df_current = sum_df_grouped.get_group('Fz')\n",
    "pert_type = 'fz'\n",
    "x_order = [\"R3\", \"R4\", \"R3/R3\"] \n",
    "test_pair = [('R3', 'R4'), ('R3/R3', 'R3')] \n",
    "\n",
    "# sum_df_current = sum_df_grouped.get_group('N')[sum_df_grouped.get_group('N').SampleID != 29] \n",
    "# pert_type = 'nic'\n",
    "# x_order = [\"R3\", \"R4\", \"R4/R4\"]\n",
    "# test_pair = [('R3', 'R4'), ('R4/R4', 'R4')]"
   ]
  },
  {
   "cell_type": "code",
   "execution_count": null,
   "metadata": {
    "scrolled": true
   },
   "outputs": [],
   "source": [
    "x_cat = \"type_plot\"\n",
    "y_cat = \"length_mean_fromheel\" \n",
    "y_label = 'Relative Length'\n",
    "hue = 'SampleID'\n",
    "ylim = (-0.2, 3.5)\n",
    "fig_title =  f'{pert_type}_length'\n",
    "\n",
    "\n",
    "# x_cat = \"type_plot\"\n",
    "# y_cat = \"angle_mean_abs\" \n",
    "# y_label = 'Relative Angle'\n",
    "# hue = 'SampleID'\n",
    "# ylim = (-0.2, 3.2)\n",
    "# fig_title = f'{pert_type}_angle'\n",
    "\n",
    "\n",
    "fig_format = 'eps'\n",
    "fig_name = f'{fig_title}.{fig_format}'\n",
    "\n",
    "# x_cat = \"type_plot\"\n",
    "# y_cat = \"length_max_fromheel\" \n",
    "# y_label = 'Relative Length'\n",
    "# hue = 'SampleID'\n",
    "\n",
    "\n",
    "\n",
    "\n",
    "tickfontsize = 30\n",
    "labelfontsize = 40\n",
    "figsize = (8,6)\n",
    "\n",
    "sns.set(font_scale=1.5)\n",
    "sns.set_style(\"whitegrid\", {'axes.grid' : False})"
   ]
  },
  {
   "cell_type": "code",
   "execution_count": null,
   "metadata": {},
   "outputs": [],
   "source": [
    "fig_name"
   ]
  },
  {
   "cell_type": "code",
   "execution_count": null,
   "metadata": {},
   "outputs": [],
   "source": [
    "sum_fig_out_prefix"
   ]
  },
  {
   "cell_type": "code",
   "execution_count": null,
   "metadata": {
    "scrolled": true
   },
   "outputs": [],
   "source": [
    "fig, ax = plt.subplots(figsize=(8,6))\n",
    "\n",
    "ax = sns.boxplot(ax = ax, x=x_cat, y=y_cat, data = sum_df_current, color = \"silver\", order = x_order)\n",
    "ax = sns.swarmplot(ax = ax, x=x_cat, y=y_cat, data = sum_df_current, color=\".25\", order = x_order)\n",
    "# ax = sns.swarmplot(ax = ax, x=x_cat, y=y_cat, data = sum_df_current, hue = hue, order = x_order)\n",
    "\n",
    "ax.set_xlabel(\"\",fontsize=labelfontsize);\n",
    "ax.set_ylabel(y_label,fontsize=labelfontsize);\n",
    "ax.tick_params(axis = 'x', labelsize = tickfontsize)\n",
    "ax.tick_params(axis = 'y', labelsize = tickfontsize)\n",
    "ax.set_title(\"\", fontsize = tickfontsize)\n",
    "\n",
    "\n",
    "testResults = add_stat_annotation(ax, data = sum_df_current, x = x_cat, y = y_cat, order = x_order,\n",
    "                                  boxPairList=test_pair, \n",
    "                                  test='Mann-Whitney', textFormat='star', loc='inside', \n",
    "                                  pvalueThresholds=[[1,\"ns\"], [0.05,\"*\"], [1e-2,\"**\"], [1e-3,\"***\"]], \n",
    "                                  lineOffsetToBox=0.1, lineOffset=0.01, lineHeight=0.08, textOffset=1, verbose=2, \n",
    "                                  fontsize = tickfontsize)\n",
    "ax.set_ylim(ylim)\n",
    "plt.legend(bbox_to_anchor=(1.05, 1), loc=2, borderaxespad=0.)\n",
    "\n",
    "fig_save_path = os.path.join(sum_fig_out_prefix, fig_name)\n",
    "plt.savefig(fig_save_path, dpi=1000, bbox_inches='tight', format = fig_format)\n",
    "\n",
    "my_sum.p_value_calculation(sum_df_current, x_cat, y_cat,test_pair)"
   ]
  },
  {
   "cell_type": "code",
   "execution_count": null,
   "metadata": {
    "scrolled": true
   },
   "outputs": [],
   "source": [
    "\"\"\"Plotting summary polar plot\"\"\""
   ]
  },
  {
   "cell_type": "code",
   "execution_count": null,
   "metadata": {},
   "outputs": [],
   "source": [
    "# pert_cat = 'Fz'\n",
    "# pert_type = 'R3/R3'\n",
    "# pert_rtype = 3\n",
    "\n",
    "pert_cat = 'N'\n",
    "pert_type = 'R4/R4'\n",
    "pert_rtype = 4"
   ]
  },
  {
   "cell_type": "code",
   "execution_count": null,
   "metadata": {},
   "outputs": [],
   "source": [
    "theta_cat = 'angle_mean_radian'\n",
    "r_cat = 'length_mean_fromheel'"
   ]
  },
  {
   "cell_type": "code",
   "execution_count": null,
   "metadata": {},
   "outputs": [],
   "source": [
    "tickfontsize = 30\n",
    "labelfontsize = 40\n",
    "figsize = (8,6)\n",
    "fig_format = 'png'\n",
    "figure_title = f'{pert_cat}_polar_summary.{fig_format}'\n",
    "fig_save_path = os.path.join(sum_fig_out_prefix, figure_title)"
   ]
  },
  {
   "cell_type": "code",
   "execution_count": null,
   "metadata": {
    "scrolled": true
   },
   "outputs": [],
   "source": [
    "sum_df_grouped = sum_df.groupby(['CategoryID', 'type_plot'])\n",
    "\n",
    "ind_r3 = sum_df_grouped.get_group((pert_cat, 'R3')).index\n",
    "ind_r4 = sum_df_grouped.get_group((pert_cat, 'R4')).index\n",
    "r3 = sum_df_grouped.get_group((pert_cat, pert_type)).loc[:,theta_cat] > 0\n",
    "r4 = sum_df_grouped.get_group((pert_cat, pert_type)).loc[:,theta_cat] < 0\n",
    "ind_pert_r3 = sum_df_grouped.get_group((pert_cat, pert_type))[r3].index\n",
    "ind_pert_r4 = sum_df_grouped.get_group((pert_cat, pert_type))[r4].index\n",
    "\n",
    "pos_t3 = np.mean(sum_df.groupby(['CategoryID']).get_group(pert_cat).loc[:,'pos_t3'].values)\n",
    "pos_t7 = np.mean(sum_df.groupby(['CategoryID']).get_group(pert_cat).loc[:,'pos_t7'].values)\n",
    "\n",
    "thetas = {\n",
    "    'R3':sum_df.loc[ind_r3,theta_cat].values,\n",
    "    'R4':sum_df.loc[ind_r4,theta_cat].values,\n",
    "    'pert_R3':sum_df.loc[ind_pert_r3,theta_cat].values,\n",
    "    'pert_R4':sum_df.loc[ind_pert_r4,theta_cat].values,\n",
    "}\n",
    "rs = {\n",
    "    'R3':sum_df.loc[ind_r3,r_cat].values,\n",
    "    'R4':sum_df.loc[ind_r4,r_cat].values,\n",
    "    'pert_R3':sum_df.loc[ind_pert_r3,r_cat].values,\n",
    "    'pert_R4':sum_df.loc[ind_pert_r4,r_cat].values,\n",
    "}\n",
    "\n",
    "\n",
    "plot_line = {\n",
    "    'R3':'-',\n",
    "    'R4':'-',\n",
    "    'pert_R3':'--',\n",
    "    'pert_R4':'--',\n",
    "}\n",
    "plot_color = {\n",
    "    'R3':color_code[3],\n",
    "    'R4':color_code[4],\n",
    "    'pert_R3':color_code[pert_rtype],\n",
    "    'pert_R4':color_code[pert_rtype],\n",
    "}\n",
    "\n",
    "targetGridPolar = my_sum.getTargetGridPolar_summary(pos_t3, pos_t7)\n",
    "legend = ['R3', 'R4', pert_type]\n",
    "\n"
   ]
  },
  {
   "cell_type": "code",
   "execution_count": null,
   "metadata": {},
   "outputs": [],
   "source": [
    "fig = plt.figure(figsize=(8,8))\n",
    "ax = fig.add_axes([0.1, 0.1, 0.75, 0.79], polar=True)\n",
    "for i in thetas.keys():\n",
    "    ax.errorbar(np.mean(thetas[i]), np.mean(rs[i]), xerr = np.std(thetas[i]), yerr = np.std(rs[i]), color = 'k', elinewidth=2)\n",
    "    ax.plot([0,np.mean(thetas[i])], [0,np.mean(rs[i])], linewidth = 5, linestyle = plot_line[i], color = plot_color[i])\n",
    "\n",
    "# Shrink current axis by 20%\n",
    "box = ax.get_position()\n",
    "ax.set_position([box.x0, box.y0, box.width * 8, box.height])\n",
    "for i in [0,2,3,5]:\n",
    "    ax.plot(targetGridPolar[i,0], targetGridPolar[i,1], 'o', color = color_code[target_index_match[i]], markersize = 20, mew = 3, mfc = 'none')\n",
    "\n",
    "# Put a legend to the bottom left of the current axis\n",
    "ax.legend(legend, loc='lower left', bbox_to_anchor=(-0.1, 0.7), fontsize = 30)\n",
    "\n",
    "ax.set_thetamin(-30)\n",
    "ax.set_thetamax(30)\n",
    "ax.tick_params(axis = 'x', labelsize = 30)\n",
    "ax.tick_params(axis = 'y', labelsize = 30)\n",
    "\n",
    "# plt.show()\n",
    "plt.savefig(fig_save_path, dpi=1000, bbox_inches='tight', format = fig_format)\n"
   ]
  },
  {
   "cell_type": "code",
   "execution_count": null,
   "metadata": {},
   "outputs": [],
   "source": [
    "\"\"\" Summary of polar density map \"\"\""
   ]
  },
  {
   "cell_type": "code",
   "execution_count": null,
   "metadata": {
    "scrolled": true
   },
   "outputs": [],
   "source": [
    "matrices = my_sum.get_summary_matrices(sum_df, annots_df, outputData)"
   ]
  },
  {
   "cell_type": "code",
   "execution_count": null,
   "metadata": {
    "scrolled": true
   },
   "outputs": [],
   "source": [
    "pert_cat = 'Fz'\n",
    "bundle_type = 'R3R4'\n",
    "channel_no = 1\n",
    "figsize = (10,8)\n",
    "colormap = plt.get_cmap('gray')\n",
    "z_min = -1\n",
    "z_max = 0.15 # default is -1\n",
    "\n",
    "pos_t3 = np.mean(sum_df.groupby(['CategoryID']).get_group(pert_cat).loc[:,'pos_t3'].values)\n",
    "pos_t7 = np.mean(sum_df.groupby(['CategoryID']).get_group(pert_cat).loc[:,'pos_t7'].values)\n",
    "\n",
    "figure_params = figsize, colormap, z_min, z_max\n",
    "\n",
    "calculation_params = analysis_params, radius_expanse_ratio, pos_t3, pos_t7\n",
    "\n",
    "matrix = matrices[category][bundle_type][:,channel_no,:,:,:]\n",
    "plot_matrix = np.mean(np.mean(matrix, axis = 3), axis = 0)\n",
    "\n",
    "fig = my_sum.plot_summary_polar(plot_matrix, channel_no, calculation_params, matching_info, figure_params)\n",
    "fig_save_path = os.path.join(sum_fig_out_prefix, figure_title)\n",
    "plt.savefig(fig_save_path, dpi=300, bbox_inches='tight')\n",
    "\n",
    "plt.show()\n",
    "\n"
   ]
  },
  {
   "cell_type": "code",
   "execution_count": null,
   "metadata": {},
   "outputs": [],
   "source": [
    "def plot_summary_polar(matrix, channelNo, calculation_params, matching_info, figure_params):\n",
    "#     vmax_set = 1\n",
    "    analysisParams, radiusExpanseRatio, pos_t3, pos_t7 = calculation_params\n",
    "    figsize, colormap, z_min, z_max, cbar_tick = figure_params\n",
    "    \n",
    "    targetIndexMatch, ColorCode, channel_mapping, channel_cmap, targetIndexMatch_rev = matching_info\n",
    "    \n",
    "#     colormap = plt.get_cmap(channel_cmap[channelNo])\n",
    "    # colormap = plt.get_cmap('gray')\n",
    "    \n",
    "    thetav, rv, z1, norm1, targetGridPolar = my_sum.getPolarPlotValues(analysisParams, channelNo, matrix, colormap, targetIndexMatch_rev, radiusExpanseRatio, pos_t3, pos_t7, z_min, z_max)\n",
    "    \n",
    "    fig = plt.figure(figsize = figsize)\n",
    "#     fig = plt.figure()\n",
    "    ax2 = fig.add_subplot(111, polar = True)\n",
    "\n",
    "    ## plot value\n",
    "    sc = ax2.pcolormesh(thetav, rv, z1, cmap=colormap, norm=norm1)\n",
    "\n",
    "    ## plot heel position\n",
    "    for i in [2,3,5]:\n",
    "        ax2.plot(targetGridPolar[i,0], targetGridPolar[i,1], 'o', color = ColorCode[targetIndexMatch[i]], markersize = 20, mew = 5, mfc = 'none')\n",
    "    \n",
    "    ## plot angle reference\n",
    "    ax2.plot([0, targetGridPolar[targetIndexMatch_rev[3],0]], [0, targetGridPolar[targetIndexMatch_rev[3],1]], '--', color = '0.5')\n",
    "    ax2.plot([0, targetGridPolar[targetIndexMatch_rev[7],0]], [0, targetGridPolar[targetIndexMatch_rev[7],1]], '--', color = '0.5')\n",
    "\n",
    "    ## set polar to pie\n",
    "    ax2.set_thetamin(-40)\n",
    "    ax2.set_thetamax(40)\n",
    "    \n",
    "    ax2.set_rlim(0, 3)\n",
    "    # ax.set_xticklabels({'fontsize':20})\n",
    "    ax2.tick_params(axis = 'x', labelsize = 30)\n",
    "    ax2.tick_params(axis = 'y', labelsize = 30)\n",
    "\n",
    "    #### color bar for polar plot\n",
    "    vmin,vmax = sc.get_clim()\n",
    "#     vmax = 0.2\n",
    "    cNorm = matplotlib.colors.Normalize(vmin=vmin, vmax=vmax)   #-- Defining a normalised scale\n",
    "    ax5 = fig.add_axes([0.8, 0.2, 0.02, 0.6])       #-- Creating a new axes at the right side\n",
    "    cb1 = matplotlib.colorbar.ColorbarBase(ax5, norm=cNorm, cmap=colormap, ticks=cbar_tick)    #-- Plotting the colormap in the created axes\n",
    "    cb1.ax.tick_params(labelsize=30)\n",
    "    fig.subplots_adjust(left=0.0,right=0.95)\n",
    "    \n",
    "    return fig"
   ]
  },
  {
   "cell_type": "code",
   "execution_count": null,
   "metadata": {},
   "outputs": [],
   "source": [
    "\"\"\" Individual Density Maps \"\"\""
   ]
  },
  {
   "cell_type": "code",
   "execution_count": null,
   "metadata": {
    "scrolled": true
   },
   "outputs": [],
   "source": [
    "for iData in outputData.keys():\n",
    "    category = outputData[iData]['categoryID']\n",
    "    sampleID = outputData[iData]['sampleID']\n",
    "    regionID = outputData[iData]['regionID']\n",
    "    print(iData, category, sampleID, regionID)"
   ]
  },
  {
   "cell_type": "code",
   "execution_count": null,
   "metadata": {
    "scrolled": true
   },
   "outputs": [],
   "source": [
    "outputData[iData].keys()"
   ]
  },
  {
   "cell_type": "code",
   "execution_count": null,
   "metadata": {},
   "outputs": [],
   "source": [
    "import Data_quantification_function_summary_helper5 as my_sum"
   ]
  },
  {
   "cell_type": "code",
   "execution_count": null,
   "metadata": {},
   "outputs": [],
   "source": [
    "iData = 5\n",
    "bundle_no = 6 #1, 19\n",
    " \n",
    "category = outputData[iData]['categoryID']\n",
    "sampleID = outputData[iData]['sampleID']\n",
    "regionID = outputData[iData]['regionID']"
   ]
  },
  {
   "cell_type": "code",
   "execution_count": null,
   "metadata": {},
   "outputs": [],
   "source": [
    "# channel_no = 0\n",
    "# z_min = 0\n",
    "# z_max = 0.25\n",
    "# r_lim = (0, 3)\n",
    "\n",
    "channel_no = 1\n",
    "z_min = 0\n",
    "z_max = 0.2\n",
    "r_lim = (0, 2.5)"
   ]
  },
  {
   "cell_type": "code",
   "execution_count": null,
   "metadata": {},
   "outputs": [],
   "source": [
    "figsize = (10,8)\n",
    "colormap = plt.get_cmap('gray')\n",
    "\n",
    "\n",
    "cbar_tick = [0, 0.1, 0.2, 0.3, 0.4, 0.5]\n",
    "tickfontsize = 30\n",
    "labelfontsize = 40\n",
    "fig_format = 'eps'\n",
    "fig_name = f'{category}_s{sampleID}r{regionID}_bd_no{bundle_no}_c{channel_no}.{fig_format}'\n",
    "fig_save_path = os.path.join(sum_fig_out_prefix, fig_name)"
   ]
  },
  {
   "cell_type": "code",
   "execution_count": null,
   "metadata": {},
   "outputs": [],
   "source": [
    "matrix.shape"
   ]
  },
  {
   "cell_type": "code",
   "execution_count": null,
   "metadata": {
    "scrolled": true
   },
   "outputs": [],
   "source": [
    "category = outputData[iData]['categoryID']\n",
    "sampleID = outputData[iData]['sampleID']\n",
    "regionID = outputData[iData]['regionID']\n",
    "rel_pos = outputData[iData]['relativePositions']\n",
    "\n",
    "sum_df_current = sum_df.groupby(['CategoryID', 'SampleID', 'RegionID']).get_group((category, sampleID, regionID))\n",
    "annots_df_current = annots_df.groupby(['CategoryID', 'SampleID', 'RegionID']).get_group((category, sampleID, regionID))\n",
    "annots_df_current.loc[:,'Bundle_No'] = annots_df_current.loc[:,'Bundle_No'].values.astype(int)\n",
    "annots_df_current.set_index('Bundle_No', inplace = True)\n",
    "annots_df_current.sort_index(axis = 0, inplace = True)\n",
    "\n",
    "ind_annot = list(annots_df_current.index).index(bundle_no)\n",
    "ind_sum = sum_df_current.index[(sum_df_current['bundle_no'] == bundle_no)]\n",
    "\n",
    "matrix = outputData[iData]['intensityMatrix'][ind_annot, channel_no, :,:,:]\n",
    "plot_matrix = np.mean(matrix, axis = 2)\n",
    "\n",
    "pos_t3 = rel_pos[ind_annot][2]\n",
    "pos_t7 = rel_pos[ind_annot][5]\n",
    "\n",
    "calculation_params = analysis_params, radius_expanse_ratio, pos_t3, pos_t7\n",
    "\n",
    "figure_params = figsize, colormap, z_min, z_max, r_lim, cbar_tick\n",
    "\n",
    "fig = my_sum.plot_summary_polar(plot_matrix, channel_no, calculation_params, matching_info, figure_params)\n",
    "\n",
    "plt.savefig(fig_save_path, dpi=300, bbox_inches='tight', format = fig_format)\n",
    "\n",
    "plt.show()\n"
   ]
  },
  {
   "cell_type": "code",
   "execution_count": null,
   "metadata": {},
   "outputs": [],
   "source": []
  }
 ],
 "metadata": {
  "kernelspec": {
   "display_name": "Python 3",
   "language": "python",
   "name": "python3"
  },
  "language_info": {
   "codemirror_mode": {
    "name": "ipython",
    "version": 3
   },
   "file_extension": ".py",
   "mimetype": "text/x-python",
   "name": "python",
   "nbconvert_exporter": "python",
   "pygments_lexer": "ipython3",
   "version": "3.7.3"
  }
 },
 "nbformat": 4,
 "nbformat_minor": 2
}
