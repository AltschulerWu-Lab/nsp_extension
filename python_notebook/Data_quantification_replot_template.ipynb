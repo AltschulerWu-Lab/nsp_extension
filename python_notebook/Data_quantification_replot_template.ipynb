{
 "cells": [
  {
   "cell_type": "code",
   "execution_count": 99,
   "metadata": {},
   "outputs": [],
   "source": [
    "%matplotlib inline\n",
    "\n",
    "import io, os, sys, types\n",
    "\n",
    "from IPython import get_ipython\n",
    "from nbformat import read\n",
    "from IPython.core.interactiveshell import InteractiveShell\n",
    "\n",
    "import pandas as pd\n",
    "\n",
    "import matplotlib\n",
    "import matplotlib.pyplot as plt\n",
    "\n",
    "import numpy as np\n",
    "from numpy.linalg import eig, inv\n",
    "\n",
    "import math\n",
    "\n",
    "from scipy import interpolate, spatial, stats\n",
    "\n",
    "import seaborn as sns\n",
    "\n",
    "import skimage.io as skiIo\n",
    "from skimage import exposure, img_as_float, filters\n",
    "\n",
    "from sklearn import linear_model\n",
    "from sklearn import metrics\n",
    "\n",
    "import pickle\n"
   ]
  },
  {
   "cell_type": "code",
   "execution_count": 100,
   "metadata": {
    "scrolled": true
   },
   "outputs": [
    {
     "data": {
      "text/plain": [
       "' ============== path settings =============='"
      ]
     },
     "execution_count": 100,
     "metadata": {},
     "output_type": "execute_result"
    }
   ],
   "source": [
    "\"\"\" ============== path settings ==============\"\"\""
   ]
  },
  {
   "cell_type": "code",
   "execution_count": 101,
   "metadata": {},
   "outputs": [],
   "source": [
    "global isMac\n",
    "isMac = False\n",
    "\n",
    "if(isMac):\n",
    "    supPrefix = '/Users/lily/Lily/Academic/AW_Lab/data/fate_switching_gfp_rfp_old/'\n",
    "    dataPrefix = os.path.join(supPrefix, 'Data')\n",
    "    figOutPrefix = os.path.join(supPrefix, 'Output', 'FigureOutput_v0422')\n",
    "    dataOutPrefix = os.path.join(supPrefix, 'Output', 'DataOutput_v0422')\n",
    "#     figOutPrefix = '/Users/lily/Lily/Academic/AW_Lab/Projects/NSP/Codes/python_v0415/Materials_trial/Output/FigureOutput'\n",
    "#     dataOutPrefix = '/Users/lily/Lily/Academic/AW_Lab/Projects/NSP/Codes/python_v0415/Materials_trial/Output/DataOutput'\n",
    "else:\n",
    "    supPrefix = 'Z:\\\\lab\\\\Projects\\\\NSP\\\\Data_Analysis\\\\Experiments\\\\Fate_Switching\\\\GFP_RFP\\\\Summaries\\\\ver2018'\n",
    "    dataPrefix = dataPrefix = os.path.join(supPrefix, 'Data')\n",
    "    figOutPrefix = figOutPrefix = os.path.join(supPrefix, 'FigureOutput_v0422')\n",
    "    dataOutPrefix = dataOutPrefix = os.path.join(supPrefix, 'DataOutput_v0422')"
   ]
  },
  {
   "cell_type": "code",
   "execution_count": 102,
   "metadata": {},
   "outputs": [],
   "source": [
    "### file parameters\n",
    "# file folders\n",
    "imageFolder = 'Images'\n",
    "ROIFolder = 'ROIs'\n",
    "summaryFolder = 'Summaries'\n",
    "dataFolder = 'DataOutput'\n",
    "\n",
    "# file name\n",
    "summaryName = 'Control_s3r1_summary.csv'"
   ]
  },
  {
   "cell_type": "code",
   "execution_count": 103,
   "metadata": {},
   "outputs": [
    {
     "data": {
      "text/plain": [
       "' ============== Golbal variables and parameters =============='"
      ]
     },
     "execution_count": 103,
     "metadata": {},
     "output_type": "execute_result"
    }
   ],
   "source": [
    "\"\"\" ============== Golbal variables and parameters ==============\"\"\""
   ]
  },
  {
   "cell_type": "code",
   "execution_count": 104,
   "metadata": {},
   "outputs": [],
   "source": [
    "### global variables\n",
    "global ColorCode, targetIndexMatch, bins, channel_mapping\n",
    "bins = 4096"
   ]
  },
  {
   "cell_type": "code",
   "execution_count": 105,
   "metadata": {},
   "outputs": [],
   "source": [
    "### analysis parameters\n",
    "radiusExpanseRatio = 1.5\n",
    "num_angleSection = 10\n",
    "num_outsideAngle = 0\n",
    "num_Xsection = 10\n",
    "z_offset = 10\n",
    "analysisParams = [num_angleSection, num_outsideAngle, num_Xsection, z_offset, radiusExpanseRatio]"
   ]
  },
  {
   "cell_type": "code",
   "execution_count": 106,
   "metadata": {},
   "outputs": [],
   "source": [
    "### import custom functions\n",
    "import Data_quantification_function_helper as my_help\n",
    "import Data_quantification_function_intensity_calculation as my_int\n",
    "import Data_quantification_function_parse_bundle as my_pb\n",
    "import Data_quantification_functions_plotting as my_plot"
   ]
  },
  {
   "cell_type": "code",
   "execution_count": 107,
   "metadata": {},
   "outputs": [
    {
     "data": {
      "text/plain": [
       "'============== main =============='"
      ]
     },
     "execution_count": 107,
     "metadata": {},
     "output_type": "execute_result"
    }
   ],
   "source": [
    "\"\"\"============== main ==============\"\"\""
   ]
  },
  {
   "cell_type": "code",
   "execution_count": 108,
   "metadata": {},
   "outputs": [],
   "source": [
    "sns.set_style(\"dark\")"
   ]
  },
  {
   "cell_type": "code",
   "execution_count": 109,
   "metadata": {},
   "outputs": [],
   "source": [
    "\"\"\"Load data\"\"\"\n",
    "### load summaries\n",
    "summary_df = pd.read_csv(os.path.join(dataPrefix, summaryFolder, summaryName))\n",
    "image_list = summary_df.loc[:,'Image_Name'].unique()\n",
    "ROI_list = summary_df.loc[:,'ROI_Name'].unique()\n",
    "isExtendedTargetList = False"
   ]
  },
  {
   "cell_type": "code",
   "execution_count": 110,
   "metadata": {},
   "outputs": [],
   "source": [
    "### 3 or 4 color staining\n",
    "if(isExtendedTargetList == True):\n",
    "    targetIndexMatch = {0:0, 1:1, 2:2, 3:3, 4:4, 5:5, 6:6, 7:30, 8:20, 9:50, 10:40}\n",
    "    targetIndexMatch_rev = {0:0, 1:1, 2:2, 3:3, 4:4, 5:5, 6:6, 30:7, 20:8, 50:9, 40:10}\n",
    "    ColorCode = {0:'#FFFFFF', 1:'#52FEFE', 2:'#1FF509', 3: '#FF0000', 4: '#CFCF1C', 5: '#FF00FF', 6: '#FFAE01', 20:'#1FF509', 30:'#FF0000', 40:'#CFCF1C', 50:'#FF00FF'}\n",
    "    channel_mapping = {'RFP':0, 'GFP':1, 'R3':2, 'R4':3, '24B10':4, 0:'RFP', 1:'GFP', 2:'R3', 3:'R4', 4:'24B10'}\n",
    "    matching_info = (targetIndexMatch, ColorCode, channel_mapping, targetIndexMatch_rev)\n",
    "else:\n",
    "    targetIndexMatch = {0:0, 1:2, 2:3, 3:4, 4:5, 5:7}\n",
    "    targetIndexMatch_rev = {0:0, 2:1, 3:2, 4:3, 5:4, 7:5}\n",
    "    ColorCode = {1:'#00FFFF', 2:'#1FF509', 3: '#FF0000', 4: '#CFCF1C', 5: '#FF00FF', 6: '#FFAE01', 7:'#FF0000', 0:'#FFFFFF'}\n",
    "    channel_mapping = {'RFP':0, 'GFP':1, 'R3':2, 'R4':3, 'FasII':4, '24B10':5, 0:'RFP', 1:'GFP', 2:'R3', 3:'R4', 4:'FasII', 5:'24B10'}\n",
    "    matching_info = (targetIndexMatch, ColorCode, channel_mapping, targetIndexMatch_rev)"
   ]
  },
  {
   "cell_type": "code",
   "execution_count": 111,
   "metadata": {},
   "outputs": [
    {
     "data": {
      "text/plain": [
       "array(['sev-rfpXmDelta-GFP_25C_28hrs_sample3_region1.tif'], dtype=object)"
      ]
     },
     "execution_count": 111,
     "metadata": {},
     "output_type": "execute_result"
    }
   ],
   "source": [
    "image_list"
   ]
  },
  {
   "cell_type": "code",
   "execution_count": 112,
   "metadata": {},
   "outputs": [],
   "source": [
    "i_image = 0"
   ]
  },
  {
   "cell_type": "code",
   "execution_count": 113,
   "metadata": {
    "scrolled": true
   },
   "outputs": [],
   "source": [
    "### load other data\n",
    "imageName = image_list[i_image]\n",
    "ROIName = ROI_list[i_image]\n",
    "# %time image = img_as_float(skiIo.imread(os.path.join(dataPrefix, imageFolder, imageName)))\n",
    "ROI_df = pd.read_csv(os.path.join(dataPrefix, ROIFolder, ROIName))\n",
    "ROI_df.rename(columns = {' ':'No'}, inplace = True)\n",
    "annot_df = summary_df.groupby(['Image_Name']).get_group(image_list[i_image]).reset_index(drop = True)\n",
    "image_shape = (image.shape[0], image.shape[1], image.shape[2])\n",
    "# M2P_ratio = (summary_df.iloc[0]['imgX_pixel']/summary_df.iloc[0]['imgX_um'], summary_df.iloc[0]['imgY_pixel']/summary_df.iloc[0]['imgY_um'])"
   ]
  },
  {
   "cell_type": "code",
   "execution_count": 114,
   "metadata": {
    "scrolled": false
   },
   "outputs": [
    {
     "name": "stdout",
     "output_type": "stream",
     "text": [
      "---df_annot---\n",
      "1\n",
      "2\n",
      "3\n",
      "4\n",
      "6\n",
      "9\n",
      "11\n",
      "12\n",
      "13\n",
      "14\n",
      "15\n",
      "16\n",
      "17\n",
      "21\n",
      "22\n",
      "25\n",
      "27\n",
      "28\n",
      "29\n",
      "34\n",
      "35\n",
      "36\n",
      "40\n",
      "38\n",
      "41\n",
      "44\n",
      "45\n",
      "46\n",
      "47\n",
      "50\n",
      "51\n",
      "52\n",
      "56\n",
      "54\n",
      "57\n",
      "90\n",
      "91\n",
      "66\n",
      "68\n",
      "63\n",
      "64\n",
      "69\n",
      "70\n",
      "71\n",
      "72\n",
      "74\n",
      "75\n",
      "76\n"
     ]
    }
   ],
   "source": [
    "\"\"\" Process annotation info\"\"\"\n",
    "bundles_df = my_pb.getBundlesInfo(ROI_df, annot_df, M2P_ratio[0], M2P_ratio[1], isExtendedTargetList)\n",
    "annot_bundles_df = bundles_df.dropna(axis=0, how='any', inplace = False)\n",
    "# annot_bundles_df_good = my_pb.Good_QC_df(annot_bundles_df)\n",
    "# annot_bundles_df_bad = my_pb.Bad_QC_df(annot_bundles_df)"
   ]
  },
  {
   "cell_type": "code",
   "execution_count": 115,
   "metadata": {
    "scrolled": false
   },
   "outputs": [],
   "source": [
    "# \"\"\" Process images \"\"\"\n",
    "# ### number of channels\n",
    "# nChannels = image.shape[3]\n",
    "# if(nChannels == 3):\n",
    "#     print(\"3 channels!\")\n",
    "#     ### Seperate channels\n",
    "#     GFP = image[:,:,:,1]\n",
    "#     RFP = image[:,:,:,0]\n",
    "#     Cy5 = image[:,:,:,2]\n",
    "\n",
    "#     ### normalize GFP & RFP channel\n",
    "#     image_norm = np.empty(image_shape + (nChannels + 2,), dtype=GFP.dtype, order='C')\n",
    "    \n",
    "# #     %time GFP_norm = exposure.equalize_hist(GFP)\n",
    "#     %time GFP_norm = exposure.rescale_intensity(GFP, in_range = 'image', out_range='dtype')\n",
    "    \n",
    "# #     %time RFP_norm = exposure.equalize_hist(RFP)\n",
    "#     %time RFP_norm = exposure.rescale_intensity(RFP, in_range = 'image', out_range='dtype')\n",
    "    \n",
    "#     %time Cy5_norm = exposure.rescale_intensity(Cy5, in_range = 'image', out_range='dtype')\n",
    "    \n",
    "#     image_norm[:,:,:,0] = RFP_norm\n",
    "#     image_norm[:,:,:,1] = GFP_norm\n",
    "#     image_norm[:,:,:,4] = Cy5_norm\n",
    "\n",
    "#     R3 = RFP_norm - GFP_norm\n",
    "#     R3[R3<0] = 0\n",
    "#     %time R3_norm = exposure.rescale_intensity(R3, in_range = 'image', out_range='dtype')\n",
    "#     image_norm[:,:,:,2] = R3_norm\n",
    "\n",
    "#     R4 = RFP_norm * GFP_norm\n",
    "#     %time R4_norm = exposure.rescale_intensity(R4, in_range = 'image', out_range='dtype')\n",
    "#     image_norm[:,:,:,3] = R4_norm\n",
    "    \n",
    "# elif(nChannels == 4):\n",
    "#     print(\"4 channels!\")\n",
    "#     ### Seperate channels\n",
    "#     GFP = image[:,:,:,1]\n",
    "#     RFP = image[:,:,:,0]\n",
    "#     Cy5 = image[:,:,:,2]\n",
    "#     DAPI = image[:,:,:,3]\n",
    "\n",
    "#     ### normalize GFP & RFP channel\n",
    "#     image_norm = np.empty(image_shape + (nChannels + 2,), dtype=GFP.dtype, order='C')\n",
    "    \n",
    "# #     %time GFP_norm = exposure.equalize_hist(GFP)\n",
    "#     %time GFP_norm = exposure.rescale_intensity(GFP, in_range = 'image', out_range='dtype')\n",
    "    \n",
    "# #     %time RFP_norm = exposure.equalize_hist(RFP)\n",
    "#     %time RFP_norm = exposure.rescale_intensity(RFP, in_range = 'image', out_range='dtype')\n",
    "    \n",
    "#     %time Cy5_norm = exposure.rescale_intensity(Cy5, in_range = 'image', out_range='dtype')\n",
    "#     %time DAPI_norm = exposure.rescale_intensity(DAPI, in_range = 'image', out_range='dtype')\n",
    "    \n",
    "#     image_norm[:,:,:,0] = RFP_norm\n",
    "#     image_norm[:,:,:,1] = GFP_norm\n",
    "#     image_norm[:,:,:,4] = DAPI_norm\n",
    "#     image_norm[:,:,:,5] = Cy5_norm\n",
    "\n",
    "#     R3 = RFP_norm - GFP_norm\n",
    "#     R3[R3<0] = 0\n",
    "#     %time R3_norm = exposure.rescale_intensity(R3, in_range = 'image', out_range='dtype')\n",
    "#     image_norm[:,:,:,2] = R3_norm\n",
    "\n",
    "#     R4 = RFP_norm * GFP_norm\n",
    "#     %time R4_norm = exposure.rescale_intensity(R4, in_range = 'image', out_range='dtype')\n",
    "#     image_norm[:,:,:,3] = R4_norm"
   ]
  },
  {
   "cell_type": "code",
   "execution_count": 116,
   "metadata": {
    "scrolled": true
   },
   "outputs": [
    {
     "data": {
      "text/plain": [
       "' Plot individual bundles '"
      ]
     },
     "execution_count": 116,
     "metadata": {},
     "output_type": "execute_result"
    }
   ],
   "source": [
    "\"\"\" Plot individual bundles \"\"\""
   ]
  },
  {
   "cell_type": "code",
   "execution_count": 117,
   "metadata": {
    "scrolled": true
   },
   "outputs": [],
   "source": [
    "# ind = 1\n",
    "# bundle_No = list(annot_bundles_df.index)[ind]\n",
    "# plotSettings = False, False, False, True #isPlotR3Line, isPlotR4Line, isPlotR4s, isLabelOff\n",
    "# my_plot.plotIndividualBundles(bundle_No, bundles_df, image_norm, M2P_ratio[0], M2P_ratio[1], plotSettings, matching_info)"
   ]
  },
  {
   "cell_type": "code",
   "execution_count": 133,
   "metadata": {},
   "outputs": [
    {
     "ename": "FileNotFoundError",
     "evalue": "[Errno 2] No such file or directory: 'Z:\\\\lab\\\\Projects\\\\NSP\\\\Data_Analysis\\\\Experiments\\\\Fate_Switching\\\\GFP_RFP\\\\Summaries\\\\ver2018\\\\DataOutput_v0422\\\\Control\\\\Control_sample3_region1_v2019422.pickle'",
     "output_type": "error",
     "traceback": [
      "\u001b[1;31m---------------------------------------------------------------------------\u001b[0m",
      "\u001b[1;31mFileNotFoundError\u001b[0m                         Traceback (most recent call last)",
      "\u001b[1;32m<ipython-input-133-850ecc6aefc1>\u001b[0m in \u001b[0;36m<module>\u001b[1;34m\u001b[0m\n\u001b[0;32m     10\u001b[0m \u001b[0moutputname\u001b[0m \u001b[1;33m=\u001b[0m \u001b[0mos\u001b[0m\u001b[1;33m.\u001b[0m\u001b[0mpath\u001b[0m\u001b[1;33m.\u001b[0m\u001b[0mjoin\u001b[0m\u001b[1;33m(\u001b[0m\u001b[0moutputDir\u001b[0m\u001b[1;33m,\u001b[0m \u001b[0moutputname\u001b[0m\u001b[1;33m)\u001b[0m\u001b[1;33m\u001b[0m\u001b[1;33m\u001b[0m\u001b[0m\n\u001b[0;32m     11\u001b[0m \u001b[1;33m\u001b[0m\u001b[0m\n\u001b[1;32m---> 12\u001b[1;33m \u001b[0mpickle_in\u001b[0m \u001b[1;33m=\u001b[0m \u001b[0mopen\u001b[0m\u001b[1;33m(\u001b[0m\u001b[0moutputname\u001b[0m\u001b[1;33m,\u001b[0m\u001b[1;34m\"rb\"\u001b[0m\u001b[1;33m)\u001b[0m\u001b[1;33m\u001b[0m\u001b[1;33m\u001b[0m\u001b[0m\n\u001b[0m\u001b[0;32m     13\u001b[0m \u001b[0moutputData\u001b[0m\u001b[1;33m=\u001b[0m \u001b[0mpickle\u001b[0m\u001b[1;33m.\u001b[0m\u001b[0mload\u001b[0m\u001b[1;33m(\u001b[0m\u001b[0mpickle_in\u001b[0m\u001b[1;33m)\u001b[0m\u001b[1;33m\u001b[0m\u001b[1;33m\u001b[0m\u001b[0m\n",
      "\u001b[1;31mFileNotFoundError\u001b[0m: [Errno 2] No such file or directory: 'Z:\\\\lab\\\\Projects\\\\NSP\\\\Data_Analysis\\\\Experiments\\\\Fate_Switching\\\\GFP_RFP\\\\Summaries\\\\ver2018\\\\DataOutput_v0422\\\\Control\\\\Control_sample3_region1_v2019422.pickle'"
     ]
    }
   ],
   "source": [
    "\"\"\" load data \"\"\"\n",
    "categoryID = annot_bundles_df.iloc[0]['CategoryID']\n",
    "sampleID = annot_bundles_df.iloc[0]['SampleID']\n",
    "regionID = annot_bundles_df.iloc[0]['RegionID']\n",
    "\n",
    "\n",
    "outputname = 'Control_sample3_region1_v2019422.pickle'\n",
    "outputDir = os.path.join(dataOutPrefix)\n",
    "outputDir = os.path.join(outputDir,categoryID)\n",
    "outputname = os.path.join(outputDir, outputname)\n",
    "\n",
    "pickle_in = open(outputname,\"rb\")\n",
    "outputData= pickle.load(pickle_in)"
   ]
  },
  {
   "cell_type": "code",
   "execution_count": 134,
   "metadata": {},
   "outputs": [],
   "source": [
    "bundles_list = annot_bundles_df.index\n",
    "# ind = list(annot_bundles_df.index).index(bundle_No)"
   ]
  },
  {
   "cell_type": "code",
   "execution_count": 128,
   "metadata": {
    "scrolled": true
   },
   "outputs": [],
   "source": [
    "df = pd.DataFrame(index=bundles_list, columns=['R3', 'R4'])"
   ]
  },
  {
   "cell_type": "code",
   "execution_count": 132,
   "metadata": {},
   "outputs": [
    {
     "data": {
      "text/plain": [
       "48"
      ]
     },
     "execution_count": 132,
     "metadata": {},
     "output_type": "execute_result"
    }
   ],
   "source": [
    "len(outputData['Parameter'])\n",
    "len(annot_bundles_df.index)"
   ]
  },
  {
   "cell_type": "code",
   "execution_count": 130,
   "metadata": {},
   "outputs": [
    {
     "name": "stdout",
     "output_type": "stream",
     "text": [
      "0 1\n",
      "1 2\n",
      "2 3\n",
      "3 4\n",
      "4 6\n",
      "5 9\n",
      "6 11\n",
      "7 12\n",
      "8 13\n",
      "9 14\n",
      "10 15\n",
      "11 16\n",
      "12 17\n",
      "13 21\n",
      "14 22\n",
      "15 25\n",
      "16 27\n",
      "17 28\n",
      "18 29\n",
      "19 34\n"
     ]
    },
    {
     "ename": "IndexError",
     "evalue": "list index out of range",
     "output_type": "error",
     "traceback": [
      "\u001b[1;31m---------------------------------------------------------------------------\u001b[0m",
      "\u001b[1;31mIndexError\u001b[0m                                Traceback (most recent call last)",
      "\u001b[1;32m<ipython-input-130-a4884cff2444>\u001b[0m in \u001b[0;36m<module>\u001b[1;34m\u001b[0m\n\u001b[0;32m      2\u001b[0m     \u001b[0mind\u001b[0m \u001b[1;33m=\u001b[0m \u001b[0mlist\u001b[0m\u001b[1;33m(\u001b[0m\u001b[0mannot_bundles_df\u001b[0m\u001b[1;33m.\u001b[0m\u001b[0mindex\u001b[0m\u001b[1;33m)\u001b[0m\u001b[1;33m.\u001b[0m\u001b[0mindex\u001b[0m\u001b[1;33m(\u001b[0m\u001b[0mbundle_No\u001b[0m\u001b[1;33m)\u001b[0m\u001b[1;33m\u001b[0m\u001b[1;33m\u001b[0m\u001b[0m\n\u001b[0;32m      3\u001b[0m     \u001b[0mprint\u001b[0m\u001b[1;33m(\u001b[0m\u001b[0mind\u001b[0m\u001b[1;33m,\u001b[0m \u001b[0mbundle_No\u001b[0m\u001b[1;33m)\u001b[0m\u001b[1;33m\u001b[0m\u001b[1;33m\u001b[0m\u001b[0m\n\u001b[1;32m----> 4\u001b[1;33m     \u001b[0mdf\u001b[0m\u001b[1;33m.\u001b[0m\u001b[0mloc\u001b[0m\u001b[1;33m[\u001b[0m\u001b[0mbundle_No\u001b[0m\u001b[1;33m,\u001b[0m \u001b[1;34m'R3'\u001b[0m\u001b[1;33m]\u001b[0m \u001b[1;33m=\u001b[0m \u001b[0moutputData\u001b[0m\u001b[1;33m[\u001b[0m\u001b[1;34m'Parameter'\u001b[0m\u001b[1;33m]\u001b[0m\u001b[1;33m[\u001b[0m\u001b[0mind\u001b[0m\u001b[1;33m]\u001b[0m\u001b[1;33m[\u001b[0m\u001b[1;36m0\u001b[0m\u001b[1;33m]\u001b[0m\u001b[1;33m[\u001b[0m\u001b[1;36m2\u001b[0m\u001b[1;33m]\u001b[0m\u001b[1;33m[\u001b[0m\u001b[1;36m7\u001b[0m\u001b[1;33m]\u001b[0m\u001b[1;33m\u001b[0m\u001b[1;33m\u001b[0m\u001b[0m\n\u001b[0m\u001b[0;32m      5\u001b[0m     \u001b[0mdf\u001b[0m\u001b[1;33m.\u001b[0m\u001b[0mloc\u001b[0m\u001b[1;33m[\u001b[0m\u001b[0mbundle_No\u001b[0m\u001b[1;33m,\u001b[0m \u001b[1;34m'R4'\u001b[0m\u001b[1;33m]\u001b[0m \u001b[1;33m=\u001b[0m \u001b[0moutputData\u001b[0m\u001b[1;33m[\u001b[0m\u001b[1;34m'Parameter'\u001b[0m\u001b[1;33m]\u001b[0m\u001b[1;33m[\u001b[0m\u001b[0mind\u001b[0m\u001b[1;33m]\u001b[0m\u001b[1;33m[\u001b[0m\u001b[1;36m0\u001b[0m\u001b[1;33m]\u001b[0m\u001b[1;33m[\u001b[0m\u001b[1;36m2\u001b[0m\u001b[1;33m]\u001b[0m\u001b[1;33m[\u001b[0m\u001b[1;36m8\u001b[0m\u001b[1;33m]\u001b[0m\u001b[1;33m\u001b[0m\u001b[1;33m\u001b[0m\u001b[0m\n",
      "\u001b[1;31mIndexError\u001b[0m: list index out of range"
     ]
    }
   ],
   "source": [
    "for bundle_No in annot_bundles_df.index:\n",
    "    ind = list(annot_bundles_df.index).index(bundle_No)\n",
    "    print(ind, bundle_No)\n",
    "    df.loc[bundle_No, 'R3'] = outputData['Parameter'][ind][0][2][7]\n",
    "    df.loc[bundle_No, 'R4'] = outputData['Parameter'][ind][0][2][8]"
   ]
  },
  {
   "cell_type": "code",
   "execution_count": 97,
   "metadata": {},
   "outputs": [],
   "source": [
    "df.to_csv('Ctrl1.csv')"
   ]
  },
  {
   "cell_type": "code",
   "execution_count": 95,
   "metadata": {},
   "outputs": [
    {
     "data": {
      "text/plain": [
       "0.2289410149989416"
      ]
     },
     "execution_count": 95,
     "metadata": {},
     "output_type": "execute_result"
    }
   ],
   "source": [
    "outputData['Parameter'][ind][0][2][8]"
   ]
  },
  {
   "cell_type": "code",
   "execution_count": 69,
   "metadata": {},
   "outputs": [
    {
     "data": {
      "text/plain": [
       "(0.2669792251144959, 0.2563895904209114)"
      ]
     },
     "execution_count": 69,
     "metadata": {},
     "output_type": "execute_result"
    }
   ],
   "source": [
    "outputData['Parameter'][ind][0][2][7:9]"
   ]
  },
  {
   "cell_type": "code",
   "execution_count": null,
   "metadata": {
    "scrolled": true
   },
   "outputs": [],
   "source": [
    "gfp = IntensityMatrix[0,1,2,:,:,:,:]\n",
    "r3 = IntensityMatrix[0,2,2,:,:,:,:]\n",
    "sum_gfp = np.sum(gfp, axis = 3)\n",
    "sum_r3 = np.sum(r3, axis = 3)"
   ]
  },
  {
   "cell_type": "code",
   "execution_count": null,
   "metadata": {},
   "outputs": [],
   "source": [
    "def plotSummaryMatrix(matrix, cmap, vmax, tickParams, labelParams):\n",
    "    xTick_ori, yTick_ori, tickTypeX, tickTypeY, tickArg2_X, tickArg2_Y = tickParams\n",
    "    ylabel, xlabel, title = labelParams\n",
    "    xTicks = my_plot.getTickList(tickTypeX, xTick_ori, tickArg2_X)\n",
    "    yTicks = my_plot.getTickList(tickTypeY, yTick_ori, tickArg2_Y)\n",
    "    \n",
    "    ax2 = plt.subplot(111)\n",
    "    sns.heatmap(matrix, cmap = cmap, yticklabels = yTicks, xticklabels = xTicks, vmin = 0, vmax = vmax)\n",
    "    ax2.set_ylabel(ylabel, fontsize=16)\n",
    "    ax2.set_xlabel(xlabel, fontsize=16)\n",
    "    ax2.set_title(title, fontsize=16)\n",
    "    #ax2.invert_yaxis()"
   ]
  },
  {
   "cell_type": "code",
   "execution_count": null,
   "metadata": {
    "scrolled": true
   },
   "outputs": [],
   "source": [
    "vmax_gfp = np.ceil(np.percentile(sum_gfp.flatten(), 90))\n",
    "vmax_r3 = np.ceil(np.percentile(sum_r3.flatten(), 90))\n",
    "\n",
    "ylabel = 'Rel. Angle'\n",
    "xlabel = 'Rel. Length'\n",
    "labelParams = ylabel, xlabel, ''\n",
    "\n",
    "tickTypeX = 1\n",
    "tickTypeY = 2\n",
    "tickArg2_X = 5\n",
    "tickArg2_Y = [-1.5, -1, -0.5, 0, 0.5, 1, 1.5]\n",
    "\n",
    "xTicks_ori = np.round(np.linspace(0, radiusExpanseRatio, sum_gfp[0,:,:].shape[1]), 2)\n",
    "xTicks = my_plot.getTickList(1, xTicks_ori, tickArg2_X)\n",
    "yTicks_ori = np.round(params[0][0][1][5], 2)\n",
    "yTicks = my_plot.getTickList(2, xTicks_ori, tickArg2_Y)\n",
    "\n",
    "tickParams = xTicks_ori, yTicks_ori, tickTypeX, tickTypeY, tickArg2_X, tickArg2_Y \n",
    "\n",
    "# plotSummaryMatrix(np.mean(sum_gfp, axis = 0), 'Greens', vmax_gfp, tickParams, labelParams)\n",
    "plotSummaryMatrix(np.mean(sum_r3, axis = 0), 'Reds', vmax_r3, tickParams, labelParams)"
   ]
  },
  {
   "cell_type": "code",
   "execution_count": null,
   "metadata": {},
   "outputs": [],
   "source": [
    "plotSummaryMatrix(np.mean(sum_gfp, axis = 0), 'Greens', vmax_gfp, tickParams, labelParams)"
   ]
  },
  {
   "cell_type": "code",
   "execution_count": null,
   "metadata": {},
   "outputs": [],
   "source": [
    "IntensityMatrix = outputData['IntensityMatrix']\n",
    "params = outputData['Parameter']"
   ]
  },
  {
   "cell_type": "code",
   "execution_count": null,
   "metadata": {
    "scrolled": true
   },
   "outputs": [],
   "source": [
    "gfp.shape"
   ]
  },
  {
   "cell_type": "code",
   "execution_count": null,
   "metadata": {
    "scrolled": true
   },
   "outputs": [],
   "source": [
    "sum_gfp.shape"
   ]
  },
  {
   "cell_type": "code",
   "execution_count": null,
   "metadata": {},
   "outputs": [],
   "source": [
    "def plotSummaryMatrix(matrix, cmap, vmax, tickParams, labelParams):\n",
    "\txTick_ori, yTick_ori, tickTypeX, tickTypeY, tickArg2_X, tickArg2_Y = tickParams\n",
    "\tylabel, xlabel, title = labelParams\n",
    "\txTicks = my_plot.getTickList(tickTypeX, xTick_ori, tickArg2_X)\n",
    "\tyTicks = my_plot.getTickList(tickTypeY, yTick_ori, tickArg2_Y)\n",
    "\t\n",
    "\tax2 = plt.subplot(111)\n",
    "\tsns.heatmap(matrix, cmap = cmap, yticklabels = yTicks, xticklabels = xTicks, vmin = 0, vmax = vmax)\n",
    "\tax2.set_ylabel(ylabel, fontsize=16)\n",
    "\tax2.set_xlabel(xlabel, fontsize=16)\n",
    "\tax2.set_title(title, fontsize=16)\n",
    "# \tax2.invert_yaxis()"
   ]
  },
  {
   "cell_type": "code",
   "execution_count": null,
   "metadata": {},
   "outputs": [],
   "source": [
    "vmax_gfp = np.ceil(np.percentile(sum_gfp.flatten(), 90))\n",
    "vmax_r3 = np.ceil(np.percentile(sum_r3.flatten(), 90))\n",
    "\n",
    "ylabel = 'Rel. Angle'\n",
    "xlabel = 'Rel. Length'\n",
    "labelParams = ylabel, xlabel, 'Title'\n",
    "\n",
    "tickTypeX = 1\n",
    "tickTypeY = 2\n",
    "tickArg2_X = 5\n",
    "tickArg2_Y = [-1.5, -1, -0.5, 0, 0.5, 1, 1.5]\n",
    "\n",
    "xTicks_ori = np.round(np.linspace(0, radiusExpanseRatio, sum_gfp[0,:,:].shape[1]), 2)\n",
    "xTicks = my_plot.getTickList(1, xTick_ori, tickArg2_X)\n",
    "yTicks_ori = np.round(params[0][0][1][5], 2)\n",
    "yTicks = my_plot.getTickList(2, yTick_ori, tickArg2_Y)\n",
    "\n",
    "tickParams = xTicks_ori, yTicks_ori, tickTypeX, tickTypeY, tickArg2_X, tickArg2_Y \n",
    "\n",
    "# plotSummaryMatrix(np.mean(sum_gfp, axis = 0), 'Greens', vmax_gfp, tickParams, labelParams)\n",
    "plotSummaryMatrix(np.mean(sum_r3, axis = 0), 'Reds', vmax_r3, tickParams, labelParams)"
   ]
  },
  {
   "cell_type": "code",
   "execution_count": null,
   "metadata": {},
   "outputs": [],
   "source": [
    "gfp.shape\n",
    "\n",
    "sum_gfp.shape\n",
    "\n",
    "def plotSummaryMatrix(matrix, cmap, vmax, tickParams, labelParams):\n",
    "\txTick_ori, yTick_ori, tickTypeX, tickTypeY, tickArg2_X, tickArg2_Y = tickParams\n",
    "\tylabel, xlabel, title = labelParams\n",
    "\txTicks = my_plot.getTickList(tickTypeX, xTick_ori, tickArg2_X)\n",
    "\tyTicks = my_plot.getTickList(tickTypeY, yTick_ori, tickArg2_Y)\n",
    "\t\n",
    "\tax2 = plt.subplot(111)\n",
    "\tsns.heatmap(matrix, cmap = cmap, yticklabels = yTicks, xticklabels = xTicks, vmin = 0, vmax = vmax)\n",
    "\tax2.set_ylabel(ylabel, fontsize=16)\n",
    "\tax2.set_xlabel(xlabel, fontsize=16)\n",
    "\tax2.set_title(title, fontsize=16)\n",
    "# \tax2.invert_yaxis()\n",
    "\n",
    "vmax_gfp = np.ceil(np.percentile(sum_gfp.flatten(), 90))\n",
    "vmax_r3 = np.ceil(np.percentile(sum_r3.flatten(), 90))\n",
    "\n",
    "ylabel = 'Rel. Angle'\n",
    "xlabel = 'Rel. Length'\n",
    "labelParams = ylabel, xlabel, 'Title'\n",
    "\n",
    "tickTypeX = 1\n",
    "tickTypeY = 2\n",
    "tickArg2_X = 5\n",
    "tickArg2_Y = [-1.5, -1, -0.5, 0, 0.5, 1, 1.5]\n",
    "\n",
    "xTicks_ori = np.round(np.linspace(0, radiusExpanseRatio, sum_gfp[0,:,:].shape[1]), 2)\n",
    "xTicks = my_plot.getTickList(1, xTick_ori, tickArg2_X)\n",
    "yTicks_ori = np.round(params[0][0][1][5], 2)\n",
    "yTicks = my_plot.getTickList(2, yTick_ori, tickArg2_Y)\n",
    "\n",
    "tickParams = xTicks_ori, yTicks_ori, tickTypeX, tickTypeY, tickArg2_X, tickArg2_Y \n",
    "\n",
    "# plotSummaryMatrix(np.mean(sum_gfp, axis = 0), 'Greens', vmax_gfp, tickParams, labelParams)\n",
    "plotSummaryMatrix(np.mean(sum_r3, axis = 0), 'Reds', vmax_r3, tickParams, labelParams)gfp = IntensityMatrix[0,1,2,:,:,:,:]\n",
    "r3 = IntensityMatrix[0,2,2,:,:,:,:]\n",
    "sum_gfp = np.sum(gfp, axis = 3)\n",
    "sum_r3 = np.sum(r3, axis = 3)"
   ]
  },
  {
   "cell_type": "code",
   "execution_count": null,
   "metadata": {
    "scrolled": true
   },
   "outputs": [],
   "source": [
    "gfp.shape"
   ]
  },
  {
   "cell_type": "code",
   "execution_count": null,
   "metadata": {
    "scrolled": true
   },
   "outputs": [],
   "source": [
    "sum_gfp.shape"
   ]
  },
  {
   "cell_type": "code",
   "execution_count": null,
   "metadata": {},
   "outputs": [],
   "source": [
    "def plotSummaryMatrix(matrix, cmap, vmax, tickParams, labelParams):\n",
    "\txTick_ori, yTick_ori, tickTypeX, tickTypeY, tickArg2_X, tickArg2_Y = tickParams\n",
    "\tylabel, xlabel, title = labelParams\n",
    "\txTicks = my_plot.getTickList(tickTypeX, xTick_ori, tickArg2_X)\n",
    "\tyTicks = my_plot.getTickList(tickTypeY, yTick_ori, tickArg2_Y)\n",
    "\t\n",
    "\tax2 = plt.subplot(111)\n",
    "\tsns.heatmap(matrix, cmap = cmap, yticklabels = yTicks, xticklabels = xTicks, vmin = 0, vmax = vmax)\n",
    "\tax2.set_ylabel(ylabel, fontsize=16)\n",
    "\tax2.set_xlabel(xlabel, fontsize=16)\n",
    "\tax2.set_title(title, fontsize=16)\n",
    "# \tax2.invert_yaxis()"
   ]
  },
  {
   "cell_type": "code",
   "execution_count": null,
   "metadata": {},
   "outputs": [],
   "source": [
    "vmax_gfp = np.ceil(np.percentile(sum_gfp.flatten(), 90))\n",
    "vmax_r3 = np.ceil(np.percentile(sum_r3.flatten(), 90))\n",
    "\n",
    "ylabel = 'Rel. Angle'\n",
    "xlabel = 'Rel. Length'\n",
    "labelParams = ylabel, xlabel, 'Title'\n",
    "\n",
    "tickTypeX = 1\n",
    "tickTypeY = 2\n",
    "tickArg2_X = 5\n",
    "tickArg2_Y = [-1.5, -1, -0.5, 0, 0.5, 1, 1.5]\n",
    "\n",
    "xTicks_ori = np.round(np.linspace(0, radiusExpanseRatio, sum_gfp[0,:,:].shape[1]), 2)\n",
    "xTicks = my_plot.getTickList(1, xTick_ori, tickArg2_X)\n",
    "yTicks_ori = np.round(params[0][0][1][5], 2)\n",
    "yTicks = my_plot.getTickList(2, yTick_ori, tickArg2_Y)\n",
    "\n",
    "tickParams = xTicks_ori, yTicks_ori, tickTypeX, tickTypeY, tickArg2_X, tickArg2_Y \n",
    "\n",
    "# plotSummaryMatrix(np.mean(sum_gfp, axis = 0), 'Greens', vmax_gfp, tickParams, labelParams)\n",
    "plotSummaryMatrix(np.mean(sum_r3, axis = 0), 'Reds', vmax_r3, tickParams, labelParams)"
   ]
  },
  {
   "cell_type": "code",
   "execution_count": null,
   "metadata": {},
   "outputs": [],
   "source": []
  },
  {
   "cell_type": "code",
   "execution_count": null,
   "metadata": {},
   "outputs": [],
   "source": [
    "### thresholds\n",
    "thr_otsu = np.zeros((4))\n",
    "thr_li = np.zeros((4))\n",
    "for channelNo in range(4):\n",
    "    %time thr_otsu[channelNo] = filters.threshold_otsu(image_norm[:,:,:,channelNo])\n",
    "    %time thr_li[channelNo] = filters.threshold_li(image_norm[:,:,:,channelNo])"
   ]
  },
  {
   "cell_type": "code",
   "execution_count": null,
   "metadata": {
    "scrolled": true
   },
   "outputs": [],
   "source": [
    "\"\"\" plotting heat maps\"\"\""
   ]
  },
  {
   "cell_type": "code",
   "execution_count": null,
   "metadata": {},
   "outputs": [],
   "source": [
    "# ### plotting\n",
    "# matrix = IntensityMatrix[sliceTypeNo, :, mind, ind, :,:,:]\n",
    "# plt.ioff()\n",
    "# img_name = image_list[i_image]\n",
    "# tickParams = [1, 2, 5, [-1.5, -1, -0.5, 0, 0.5, 1, 1.5]] ### tickTypeX, tickTypeY, tickArg2_X, tickArg2_Y\n",
    "# figParams = [mind, params[0][sliceTypeNo][mind], figOutPrefix, img_name, sliceTypeNo, radiusExpanseRatio]\n",
    "# for thrFunction in [0,1,2]: # different thresholding methods\n",
    "#     if(thrFunction == 0):\n",
    "#         thrs = np.zeros((4))\n",
    "#     elif(thrFunction == 1):\n",
    "#         thr = thr_otsu\n",
    "#     elif(thrFunction == 2):\n",
    "#         thr = thr_li\n",
    "#     plotOptions = [True, True, True, True, True, thrFunction] ### isPlotLine, isLabelOff, isSave, isTrueXTick, isOriTick, thrFunction            \n",
    "#     fig = my_plot.plotBundleVsMatrix_all(bundle_No, bundles_df, image_norm, matrix, figParams, tickParams, plotOptions, matching_info)\n",
    "#     plt.close(fig)"
   ]
  },
  {
   "cell_type": "code",
   "execution_count": null,
   "metadata": {},
   "outputs": [],
   "source": [
    "# for ind in range(len(annot_bundles_df.index)):\n",
    "# ind = 1\n",
    "bundle_No = list(annot_bundles_df.index)[ind]\n",
    "mind = 2 # use T0 as center\n",
    "sliceTypeNo = 0 # first slicing method\n",
    "### plotting\n",
    "matrix = IntensityMatrix[sliceTypeNo, :, mind, ind, :,:,:]\n",
    "plt.ioff()\n",
    "\n",
    "img_name = image_list[i_image]\n",
    "figParams = [mind, params[0][sliceTypeNo][mind], figOutPrefix, img_name, sliceTypeNo, radiusExpanseRatio]\n",
    "tickParams = [1, 2, 5, [-1.5, -1, -0.5, 0, 0.5, 1, 1.5]] ### tickTypeX, tickTypeY, tickArg2_X, tickArg2_Y\n",
    "figParams = [mind, params[0][sliceTypeNo][mind], figOutPrefix, img_name, sliceTypeNo, radiusExpanseRatio]\n",
    "for thrFunction in [0,1,2]: # different thresholding methods\n",
    "    if(thrFunction == 0):\n",
    "        thrs = np.zeros((4))\n",
    "    elif(thrFunction == 1):\n",
    "        thrs = thr_otsu\n",
    "    elif(thrFunction == 2):\n",
    "        thrs = thr_li\n",
    "    plotOptions = [True, True, True, True, True, thrs, thrFunction] ### isPlotLine, isLabelOff, isSave, isTrueXTick, isOriTick, thrFunction            \n",
    "    %time fig = my_plot.plotBundleVsMatrix_all(bundle_No, bundles_df, image_norm, matrix, figParams, tickParams, plotOptions, matching_info)\n",
    "#     plt.close(fig)"
   ]
  },
  {
   "cell_type": "code",
   "execution_count": null,
   "metadata": {},
   "outputs": [],
   "source": [
    "# ### plotting\n",
    "# mind = 2 # use T0 as center\n",
    "# sliceTypeNo = 0 # first slicing method\n",
    "# matrix = IntensityMatrix[sliceTypeNo, :, mind, ind, :,:,:]\n",
    "# plt.ioff()\n",
    "# img_name = image_list[i_image]\n",
    "# figParams = [mind, params[0][sliceTypeNo][mind], figOutPrefix, img_name, sliceTypeNo, radiusExpanseRatio]\n",
    "# tickParams = [1, 2, 5, [-1.5, -1, -0.5, 0, 0.5, 1, 1.5]] ### tickTypeX, tickTypeY, tickArg2_X, tickArg2_Y\n",
    "# plotOptions = [True, True, True, True, True, 0] ### isPlotLine, isLabelOff, isSave, isTrueXTick, isOriTick, thrFunction\n",
    "# fig = my_plot.plotBundleVsMatrix_all(bundle_No, bundles_df, image_norm, matrix, figParams, tickParams, plotOptions, matching_info)\n",
    "# # plt.close(fig)\n",
    "# plotOptions = [True, True, True, True, True, 1] ### isPlotLine, isLabelOff, isSave, isTrueXTick, isOriTick, thrFunction \n",
    "# fig = my_plot.plotBundleVsMatrix_all(bundle_No, bundles_df, image_norm, matrix, figParams, tickParams, plotOptions, matching_info)\n",
    "# # plt.close(fig)\n",
    "# plotOptions = [True, True, True, True, True, 2] ### isPlotLine, isLabelOff, isSave, isTrueXTick, isOriTick, thrFunction \n",
    "# fig = my_plot.plotBundleVsMatrix_all(bundle_No, bundles_df, image_norm, matrix, figParams, tickParams, plotOptions, matching_info)\n",
    "# # plt.close(fig)\n",
    "# plotOptions = [True, True, True, True, True, 3] ### isPlotLine, isLabelOff, isSave, isTrueXTick, isOriTick, thrFunction \n",
    "# fig = my_plot.plotBundleVsMatrix_all(bundle_No, bundles_df, image_norm, matrix, figParams, tickParams, plotOptions, matching_info)\n",
    "# # plt.close(fig)"
   ]
  },
  {
   "cell_type": "code",
   "execution_count": null,
   "metadata": {
    "scrolled": false
   },
   "outputs": [],
   "source": [
    "\"\"\" get intensity matrix for good bundles\"\"\""
   ]
  },
  {
   "cell_type": "code",
   "execution_count": null,
   "metadata": {},
   "outputs": [],
   "source": [
    "# ### initialization\n",
    "# print('-----' + image_list[i_image] + '------')\n",
    "# matrixX = num_angleSection + 2*num_outsideAngle + 1\n",
    "# matrixY = num_Xsection + 1\n",
    "# matrixZ = z_offset * 2 + 1\n",
    "# IntensityMatrix = np.zeros((2, 4, 3, len(annot_bundles_df.index), matrixX, matrixY, matrixZ))\n",
    "# params = [];"
   ]
  },
  {
   "cell_type": "code",
   "execution_count": null,
   "metadata": {
    "scrolled": false
   },
   "outputs": [],
   "source": [
    "# ### parse bundles first\n",
    "# # for ind in range(len(annot_bundles_df.index)):\n",
    "# ind = 1\n",
    "# bundle_No = list(annot_bundles_df.index)[ind]\n",
    "# print(\"Bundle No: \", bundle_No)\n",
    "# #     DV = bundles_df.loc[bundle_No, 'Orientation_DV']\n",
    "# #     AP = bundles_df.loc[bundle_No, 'Orientation_AP']\n",
    "\n",
    "# ### targets info\n",
    "# indTs, coordTs = my_plot.getTargetCoords(bundle_No, bundles_df, targetIndexMatch)\n",
    "# coordR4s = my_plot.getRxCoords(bundle_No, bundles_df, indTs, 4)\n",
    "# coordR3s = my_plot.getRxCoords(bundle_No, bundles_df, indTs, 3)\n",
    "# coordRs = np.concatenate((coordR4s, coordR3s))\n",
    "\n",
    "# ### slice info\n",
    "# SliceZeroPoint = coordTs[targetIndexMatch_rev[3],:] # T3\n",
    "# SliceOnePoint = coordTs[targetIndexMatch_rev[30],:] # T7\n",
    "# # SliceZeroPoint = coordTs[3,:] # T3\n",
    "# # SliceOnePoint = coordTs[7,:] # T7\n",
    "# # SliceZeroPoint = coordTs[2,:] # T3\n",
    "# # SliceOnePoint = coordTs[5,:] # T7\n",
    "\n",
    "\n",
    "# ## slice radius info\n",
    "# CutOffPoints = []\n",
    "# CutOffPoints.append(coordR3s[0,:] + (coordTs[targetIndexMatch_rev[4],:] - coordTs[0,:]) * radiusExpanseRatio) # T4-T0\n",
    "# CutOffPoints.append(coordR4s[0,:] + (coordTs[targetIndexMatch_rev[4],:] - coordTs[0,:]) * radiusExpanseRatio) # T4-T0\n",
    "# CutOffPoints.append(coordTs[0,:] + (coordTs[targetIndexMatch_rev[4],:] - coordTs[0,:]) * radiusExpanseRatio) # T4-T0\n",
    "\n",
    "# CenterPoints = [coordR3s[0,:], coordR4s[0,:], coordTs[0,:]]\n",
    "\n",
    "# Rcell_nums = [3,4,4]\n",
    "\n",
    "# ## get slicing params\n",
    "# pp = [[],[]]\n",
    "# for mind in range(3):\n",
    "#     bundleParams = [bundle_No, coordTs, SliceZeroPoint, SliceOnePoint, CutOffPoints[mind], CenterPoints[mind], Rcell_nums[mind]]\n",
    "#     pp1 = my_int.getSliceParams_v1(analysisParams, bundles_df, bundleParams)\n",
    "#     pp2 = my_int.getSliceParams_v2(analysisParams, bundles_df, bundleParams, targetIndexMatch_rev)\n",
    "#     pp[0].append(pp1)\n",
    "#     pp[1].append(pp2)\n",
    "# params.append(pp)\n",
    "\n",
    "# ## calculate matrix\n",
    "# mind = 2 # use T0 as center\n",
    "# sliceTypeNo = 0 # first slicing method\n",
    "# for channelNo in range(4):\n",
    "#     print(channelNo)\n",
    "#     IntensityMatrix[sliceTypeNo,channelNo,mind,ind,:,:,:] = my_int.getIntensityMatrix_new(pp[sliceTypeNo][mind], image_norm, channel_mapping[channelNo], channel_mapping)\n"
   ]
  },
  {
   "cell_type": "code",
   "execution_count": null,
   "metadata": {},
   "outputs": [],
   "source": []
  },
  {
   "cell_type": "code",
   "execution_count": null,
   "metadata": {},
   "outputs": [],
   "source": []
  },
  {
   "cell_type": "code",
   "execution_count": null,
   "metadata": {},
   "outputs": [],
   "source": [
    "# def plotBundleVsMatrix_all(bundle_No, bundles_df, image, intensityMatrix, figParams, tickParams, plotOptions, matching_info):\n",
    "#     ## unravel parameters\n",
    "#     mind, params, figurePrefix, img_name, sliceType, radiusExpanseRatio = figParams\n",
    "#     isPlotLine, isLabelOff, isSave, isTrueXTick, isMask = plotOptions\n",
    "#     tickTypeX, tickTypeY, tickArg2_X, tickArg2_Y = tickParams\n",
    "#     targetIndexMatch, ColorCode, channel_mapping, targetIndexMatch_rev = matching_info\n",
    "\n",
    "#     ## setting seaborn parameters\n",
    "#     sns.set(font_scale=1.4)\n",
    "#     sns.set_style(\"dark\")\n",
    "    \n",
    "#     Z_offset, num_Xsection, R_Z, phis, CenterPoint, oriYTicks, radius = params\n",
    "    \n",
    "#     phi_start = phis[0]\n",
    "#     phi_end = phis[-1]\n",
    "                       \n",
    "#     ### X and Y tick settings\n",
    "#     if(isTrueXTick):\n",
    "#         oriXTicks = np.round(np.linspace(0, radiusExpanseRatio, intensityMatrix.shape[2]), 2)\n",
    "#         print(oriXTicks)\n",
    "#         xTicks = my_plot.getTickList(tickTypeX, oriXTicks, tickArg2_X)\n",
    "#     else:\n",
    "#         xTicks = np.arange(intensityMatrix.shape[1])\n",
    "#         print(xTicks)\n",
    "    \n",
    "#     yTicks = my_plot.getTickList(tickTypeY, oriYTicks, tickArg2_Y)\n",
    "#     print(oriYTicks)\n",
    "#     print(yTicks)\n",
    "    \n",
    "\n",
    "#     ### R heels info\n",
    "#     RheelCoords = np.zeros((6,2))\n",
    "#     RheelCoords[:,0] = list(bundles_df.loc[bundle_No, my_help.group_headers(bundles_df, 'coord_X_R', True)])\n",
    "#     RheelCoords[:,1] = list(bundles_df.loc[bundle_No, my_help.group_headers(bundles_df, 'coord_Y_R', True)])\n",
    "\n",
    "#     ### targets info\n",
    "#     indTs, coordTs = my_plot.getTargetCoords(bundle_No, bundles_df, targetIndexMatch)\n",
    "#     CoordRs = my_plot.getR4Coords(bundle_No, bundles_df, indTs)        \n",
    "#     coords = np.concatenate((coordTs, CoordRs))\n",
    "\n",
    "#     ### image boundary\n",
    "#     image_bd = (image.shape[2], image.shape[1])\n",
    "#     xlim = [max(np.floor(coords.min(axis = 0))[0] - 21, 0), min(np.ceil(coords.max(axis = 0))[0] + 21, image_bd[0])]\n",
    "#     ylim = [max(np.floor(coords.min(axis = 0))[1] - 21, 0), min(np.ceil(coords.max(axis = 0))[1] + 21, image_bd[1])]\n",
    "\n",
    "#     image_xy = image[R_Z, int(ylim[0]):int(ylim[1]), int(xlim[0]):int(xlim[1]), 0].shape\n",
    "    \n",
    "\n",
    "#     ### plot\n",
    "# #     fig = plt.figure(figsize = (8, 18))\n",
    "    \n",
    "#     fig, axes = plt.subplots(4,3)\n",
    "#     fig.set_size_inches(24,18)\n",
    "#     fig.suptitle('Bundle No. ' + str(bundle_No), fontsize=18, fontweight='bold')\n",
    "\n",
    "#     iFig = 0\n",
    "#     for ax in axes.flat:\n",
    "#         channelNo = iFig//3\n",
    "#         thr = filters.threshold_otsu(image[:,:,:,channelNo])\n",
    "#         if(iFig%3 == 0): ### plot raw figure\n",
    "#             ### get image crops for plot\n",
    "#             bundleImage = exposure.rescale_intensity(image[R_Z, int(ylim[0]):int(ylim[1]), int(xlim[0]):int(xlim[1]), channelNo], in_range = 'image', out_range='dtype')\n",
    "            \n",
    "#             ## plot original bundle\n",
    "#             for i in range(6):\n",
    "#                 ax.plot(RheelCoords[i,0]-xlim[0], RheelCoords[i,1]-ylim[0], color = ColorCode[i+1], marker = 'o', markersize=12)\n",
    "\n",
    "#             ## plot targets\n",
    "#             for i in targetIndexMatch.keys():\n",
    "#                 ax.plot(coordTs[i,0]-xlim[0], coordTs[i,1]-ylim[0],'o', mec = ColorCode[targetIndexMatch[i]], markersize=8, mew = 2.0, mfc = 'none')\n",
    "\n",
    "# #             ## plot R3/R4s\n",
    "# #             for i in range(1,len(CoordRs)):\n",
    "# #                 ax.plot(CoordRs[i,0]-xlim[0], CoordRs[i,1]-ylim[0], color = ColorCode[4], marker = 'o', markersize=7)\n",
    "\n",
    "#             ## plot lines\n",
    "#             startPoint = [ CenterPoint[0] + radius * np.cos(phi_start) , CenterPoint[1] + radius * np.sin(phi_start) ]\n",
    "#             endPoint = [ CenterPoint[0] + radius * np.cos(phi_end) , CenterPoint[1] + radius * np.sin(phi_end) ]\n",
    "#             # Center-start\n",
    "#             ax.plot([ CenterPoint[0] - xlim[0], startPoint[0] - xlim[0] ], [ CenterPoint[1] - ylim[0], startPoint[1] - ylim[0] ], '--', alpha = 0.5, color = 'w')\n",
    "#             # Center-end\n",
    "#             ax.plot([ CenterPoint[0] - xlim[0], endPoint[0] - xlim[0] ], [ CenterPoint[1] - ylim[0], endPoint[1] - ylim[0] ], '--', alpha = 0.5, color = 'w')            \n",
    "\n",
    "#             ## plot circle\n",
    "#             circle = my_plot.drawCircle(CenterPoint, radius)\n",
    "#             ax.plot(circle[:,0] - xlim[0], circle[:,1] - ylim[0], '--', alpha = 0.5, color = 'w')\n",
    "\n",
    "#             # plot image\n",
    "#             ax.imshow(bundleImage, cmap=plt.cm.gray)\n",
    "\n",
    "#             # labels\n",
    "#             ax.set_title(channel_mapping[channelNo] + ' channel', fontsize=16)\n",
    "\n",
    "#             if(isLabelOff):\n",
    "#                 ax.tick_params(axis='both', which='both', labelbottom='off', labelleft = 'off')\n",
    "#             else:\n",
    "#                 ax.tick_params(axis = 'both', labelsize = 12)\n",
    "                \n",
    "#         elif(iFig%3 == 1): # plot mean intensity            \n",
    "#             ### color code settings\n",
    "#             if((channelNo == 0) | (channelNo == 2)):\n",
    "#                 colormap = 'Reds'\n",
    "#             else:\n",
    "#                 colormap = 'Greens'\n",
    "                \n",
    "#             ### matrix and mask\n",
    "#             matrix1 = np.max(intensityMatrix[channelNo,:,:,:], axis = 2)\n",
    "#             mask1 = np.zeros_like(matrix1)\n",
    "#             mask1[matrix1<=thr] = True\n",
    "            \n",
    "#             ### plot\n",
    "#             if(isMask):\n",
    "#                 with sns.axes_style(\"dark\"):\n",
    "#                     sns.heatmap(matrix1, cmap = colormap, yticklabels = yTicks, xticklabels = xTicks, ax = ax, mask = mask1)\n",
    "#             else:\n",
    "#                 sns.heatmap(matrix1, cmap = colormap, yticklabels = yTicks, xticklabels = xTicks, ax = ax)\n",
    "#             ax.set_ylabel('Angle', fontsize=16)\n",
    "#             ax.set_xlabel('length from R-heel', fontsize=16)\n",
    "#             ax.set_title('Max projection over z-stack', fontsize=16)\n",
    "#             ax.invert_yaxis()\n",
    "            \n",
    "#         elif(iFig%3 == 2): # plot max intensity\n",
    "#             channelNo = iFig//3\n",
    "            \n",
    "#             ### color code settings\n",
    "#             if((channelNo == 0) | (channelNo == 2)):\n",
    "#                 colormap = 'Reds'\n",
    "#             else:\n",
    "#                 colormap = 'Greens'\n",
    "            \n",
    "#             ### matrix and mask\n",
    "#             matrix2 = np.mean(intensityMatrix[channelNo,:,:,:], axis = 2)\n",
    "#             mask2 = np.zeros_like(matrix2)\n",
    "#             mask2[matrix2<=thr] = True\n",
    "            \n",
    "#             ### plot\n",
    "#             if(isMask):\n",
    "#                 with sns.axes_style(\"dark\"):\n",
    "#                     sns.heatmap(matrix2, cmap = colormap, yticklabels = yTicks, xticklabels = xTicks, ax = ax, mask = mask2)\n",
    "#             else:\n",
    "#                 sns.heatmap(matrix2, cmap = colormap, yticklabels = yTicks, xticklabels = xTicks, ax = ax)            \n",
    "#             ax.set_ylabel('Angle', fontsize=16)\n",
    "#             ax.set_xlabel('length from R-heel', fontsize=16)\n",
    "#             ax.set_title('Mean of z-stack', fontsize=16)\n",
    "#             ax.invert_yaxis()\n",
    "        \n",
    "#         iFig += 1\n",
    "        \n",
    "#     plt.subplots_adjust(wspace = 0.2, hspace=0.4)\n",
    "    \n",
    "#     if(isSave):\n",
    "#         plt.ioff()\n",
    "#         subfolder = 'SliceType' + str(sliceType) + '_' + channel\n",
    "#         figname = 'Bundle_No_' + str(bundle_No) + '_' + channel + '_' + str(mind)\n",
    "        \n",
    "#         check_dir(os.path.join(figurePrefix))\n",
    "#         check_dir(os.path.join(figurePrefix, img_name))\n",
    "#         check_dir(os.path.join(figurePrefix, img_name, subfolder))\n",
    "        \n",
    "#         plt.savefig(os.path.join(figurePrefix, img_name, subfolder, figname))\n",
    "    \n",
    "#     return fig"
   ]
  },
  {
   "cell_type": "code",
   "execution_count": null,
   "metadata": {},
   "outputs": [],
   "source": [
    "# def plotBundleVsMatrix(bundle_No, bundles_df, image, intensityMatrix, figParams, tickParams, plotOptions, matching_info):\n",
    "#     ## unravel parameters\n",
    "#     channel, mind, params, figurePrefix, img_name, sliceType, radiusExpanseRatio = figParams\n",
    "#     isPlotLine, isLabelOff, isSave, isTrueXTick = plotOptions\n",
    "#     tickTypeX, tickTypeY, tickArg2_X, tickArg2_Y = tickParams\n",
    "#     targetIndexMatch, ColorCode, channel_mapping, targetIndexMatch_rev = matching_info\n",
    "\n",
    "#     ## setting seaborn parameters\n",
    "#     sns.set(font_scale=1.4)\n",
    "#     sns.set_style(\"dark\")\n",
    "    \n",
    "#     Z_offset, num_Xsection, R_Z, phis, CenterPoint, oriYTicks, radius = params\n",
    "    \n",
    "#     phi_start = phis[0]\n",
    "#     phi_end = phis[-1]\n",
    "                       \n",
    "#     ### X and Y tick settings\n",
    "#     if(isTrueXTick):\n",
    "#         oriXTicks = np.round(np.linspace(0, radiusExpanseRatio, intensityMatrix.shape[1]), 2)\n",
    "# #         print(oriXTicks)\n",
    "#         xTicks = my_plot.getTickList(tickTypeX, oriXTicks, tickArg2_X)\n",
    "#     else:\n",
    "#         xTicks = np.arange(intensityMatrix.shape[1])\n",
    "#         print(xTicks)\n",
    "    \n",
    "#     yTicks = my_plot.getTickList(tickTypeY, oriYTicks, tickArg2_Y)\n",
    "#     print(oriYTicks)\n",
    "#     print(yTicks)\n",
    "    \n",
    "#     ### color code settings\n",
    "#     if(channel == 'GFP'):\n",
    "#         colormap = 'Greens'\n",
    "#     elif(channel == 'RFP'):\n",
    "#         colormap = 'Reds'\n",
    "#     elif(channel == 'R4'):\n",
    "#         colormap = 'Greens'\n",
    "#     elif(channel == 'R3'):\n",
    "#         colormap = 'Reds'\n",
    "    \n",
    "\n",
    "#     ### R heels info\n",
    "#     RheelCoords = np.zeros((6,2))\n",
    "#     RheelCoords[:,0] = list(bundles_df.loc[bundle_No, my_help.group_headers(bundles_df, 'coord_X_R', True)])\n",
    "#     RheelCoords[:,1] = list(bundles_df.loc[bundle_No, my_help.group_headers(bundles_df, 'coord_Y_R', True)])\n",
    "\n",
    "#     ### targets info\n",
    "#     indTs, coordTs = my_plot.getTargetCoords(bundle_No, bundles_df, targetIndexMatch)\n",
    "#     if(channel == 'GFP'):\n",
    "#         CoordRs = my_plot.getR4Coords(bundle_No, bundles_df, indTs)\n",
    "#     elif(channel == 'R3'):\n",
    "#         CoordRs = my_plot.getR3Coords(bundle_No, bundles_df, indTs)\n",
    "#     elif(channel == 'RFP'):\n",
    "#         CoordRs = my_plot.getR3Coords(bundle_No, bundles_df, indTs)\n",
    "#     elif(channel == 'R4'):\n",
    "#         CoordRs = my_plot.getR4Coords(bundle_No, bundles_df, indTs)\n",
    "        \n",
    "#     coords = np.concatenate((coordTs, CoordRs))\n",
    "\n",
    "#     ### image boundary\n",
    "#     image_bd = (image.shape[2], image.shape[1])\n",
    "#     xlim = [max(np.floor(coords.min(axis = 0))[0] - 21, 0), min(np.ceil(coords.max(axis = 0))[0] + 21, image_bd[0])]\n",
    "#     ylim = [max(np.floor(coords.min(axis = 0))[1] - 21, 0), min(np.ceil(coords.max(axis = 0))[1] + 21, image_bd[1])]\n",
    "\n",
    "#     image_xy = image[R_Z, int(ylim[0]):int(ylim[1]), int(xlim[0]):int(xlim[1]), 0].shape\n",
    "    \n",
    "#     ### get image crops for plot\n",
    "#     bundleImage = exposure.rescale_intensity(image[R_Z, int(ylim[0]):int(ylim[1]), int(xlim[0]):int(xlim[1]), channel_mapping[channel]], in_range = 'image', out_range='dtype')\n",
    "\n",
    "#     ### plot\n",
    "#     fig = plt.figure(figsize = (18,8))\n",
    "#     fig.suptitle('Bundle No. ' + str(bundle_No) + '; Channel ' + channel, fontsize=18, fontweight='bold')\n",
    "    \n",
    "    \n",
    "#     ### subplot 1: raw image\n",
    "#     ax1 =  plt.subplot(231)\n",
    "#     ## plot original bundle\n",
    "#     for i in range(6):\n",
    "#         ax1.plot(RheelCoords[i,0]-xlim[0], RheelCoords[i,1]-ylim[0], color = ColorCode[i+1], marker = 'o', markersize=12)\n",
    "\n",
    "#     ## plot targets\n",
    "#     for i in targetIndexMatch.keys():\n",
    "#         ax1.plot(coordTs[i,0]-xlim[0], coordTs[i,1]-ylim[0],'o', mec = ColorCode[targetIndexMatch[i]], markersize=8, mew = 2.0, mfc = 'none')\n",
    "\n",
    "#     ## plot R3/R4s\n",
    "#     for i in range(1,len(CoordRs)):\n",
    "#         ax1.plot(CoordRs[i,0]-xlim[0], CoordRs[i,1]-ylim[0], color = ColorCode[4], marker = 'o', markersize=7)\n",
    "    \n",
    "#     ## plot lines\n",
    "#     startPoint = [ CenterPoint[0] + radius * np.cos(phi_start) , CenterPoint[1] + radius * np.sin(phi_start) ]\n",
    "#     endPoint = [ CenterPoint[0] + radius * np.cos(phi_end) , CenterPoint[1] + radius * np.sin(phi_end) ]\n",
    "#     # Center-start\n",
    "#     ax1.plot([ CenterPoint[0] - xlim[0], startPoint[0] - xlim[0] ], [ CenterPoint[1] - ylim[0], startPoint[1] - ylim[0] ], '--', alpha = 0.5, color = 'w')\n",
    "#     # Center-end\n",
    "#     ax1.plot([ CenterPoint[0] - xlim[0], endPoint[0] - xlim[0] ], [ CenterPoint[1] - ylim[0], endPoint[1] - ylim[0] ], '--', alpha = 0.5, color = 'w')            \n",
    "    \n",
    "#     ## plot circle\n",
    "#     circle = my_plot.drawCircle(CenterPoint, radius)\n",
    "#     ax1.plot(circle[:,0] - xlim[0], circle[:,1] - ylim[0], '--', alpha = 0.5, color = 'w')\n",
    "\n",
    "#     # plot image\n",
    "#     ax1.imshow(bundleImage, cmap=plt.cm.gray)\n",
    "    \n",
    "#     # labels\n",
    "#     ax1.set_title(channel + ' channel', fontsize=16)\n",
    "    \n",
    "# #     if(channel == 'GFP'):\n",
    "# #         ax1.set_title('GFP channel', fontsize=16)\n",
    "# #     elif(channel == 'R3'):\n",
    "# #         ax1.set_title('RFP - GFP channel', fontsize=16)\n",
    "# #     elif(channel == 'RFP'):\n",
    "# #         ax1.set_title('RFP channel', fontsize=16)\n",
    "\n",
    "#     if(isLabelOff):\n",
    "#         ax1.tick_params(axis='both', which='both', labelbottom='off', labelleft = 'off')\n",
    "#     else:\n",
    "#         ax1.tick_params(axis = 'both', labelsize = 12)\n",
    "\n",
    "\n",
    "#     ### subfigure 2-4\n",
    "#     ax2 =  plt.subplot(232)\n",
    "#     sns.heatmap(np.sum(intensityMatrix, axis = 2), cmap = colormap, yticklabels = yTicks, xticklabels = xTicks)\n",
    "#     ax2.set_ylabel('Angle', fontsize=16)\n",
    "#     ax2.set_xlabel('length from R-heel', fontsize=16)\n",
    "#     ax2.set_title('Sum over z-stack', fontsize=16)\n",
    "# #     ax2.invert_yaxis()\n",
    "\n",
    "#     ax3 =  plt.subplot(233)\n",
    "#     sns.heatmap(np.mean(intensityMatrix, axis = 2), cmap = colormap, yticklabels = yTicks, xticklabels = xTicks)\n",
    "#     ax3.set_ylabel('Angle', fontsize=16)\n",
    "#     ax3.set_xlabel('length from R-heel', fontsize=16)\n",
    "#     ax3.set_title('Mean intensity of z stack', fontsize=16)\n",
    "#     ax3.invert_yaxis()\n",
    "\n",
    "#     ax4 =  plt.subplot(235)\n",
    "#     sns.heatmap(np.median(intensityMatrix, axis = 2), cmap = colormap, yticklabels = yTicks, xticklabels = xTicks)\n",
    "#     ax4.set_ylabel('Angle', fontsize=16)\n",
    "#     ax4.set_xlabel('length from R-heel', fontsize=16)\n",
    "#     ax4.set_title('Median intensity of z stack', fontsize=16)\n",
    "#     ax4.invert_yaxis()\n",
    "    \n",
    "#     ax5 =  plt.subplot(236)\n",
    "#     sns.heatmap(np.max(intensityMatrix, axis = 2), cmap = colormap, yticklabels = yTicks, xticklabels = xTicks)\n",
    "#     ax5.set_ylabel('Angle', fontsize=16)\n",
    "#     ax5.set_xlabel('length from R-heel', fontsize=16)\n",
    "#     ax5.set_title('Max intensity of z stack', fontsize=16)\n",
    "#     ax5.invert_yaxis()\n",
    "    \n",
    "#     plt.subplots_adjust(wspace = 0.2, hspace=0.4)\n",
    "    \n",
    "#     if(isSave):\n",
    "#         plt.ioff()\n",
    "#         subfolder = 'SliceType' + str(sliceType) + '_' + channel\n",
    "#         figname = 'Bundle_No_' + str(bundle_No) + '_' + channel + '_' + str(mind)\n",
    "        \n",
    "#         check_dir(os.path.join(figurePrefix))\n",
    "#         check_dir(os.path.join(figurePrefix, img_name))\n",
    "#         check_dir(os.path.join(figurePrefix, img_name, subfolder))\n",
    "        \n",
    "#         plt.savefig(os.path.join(figurePrefix, img_name, subfolder, figname))\n",
    "    \n",
    "#     return fig"
   ]
  },
  {
   "cell_type": "code",
   "execution_count": null,
   "metadata": {
    "scrolled": true
   },
   "outputs": [],
   "source": [
    "# ind = 1\n",
    "\n",
    "# # mind = 2\n",
    "# # sliceType = 1\n",
    "# channelNo = 2\n",
    "# # \n",
    "# channel = channel_mapping[channelNo]\n",
    "# bundle_No = list(annot_bundles_df.index)[ind]\n",
    "\n",
    "# # plt.ioff()\n",
    "# img_name = image_list[i_image]\n",
    "# figParams1 = [channel, mind, pp[sliceTypeNo][mind], figOutPrefix, img_name, sliceTypeNo, radiusExpanseRatio]\n",
    "# figParams2 = [mind, pp[sliceTypeNo][mind], figOutPrefix, img_name, sliceTypeNo, radiusExpanseRatio]\n",
    "\n",
    "# tickParams = [1, 2, 5, [-1, -0.5, 0, 0.5, 1]] ### tickTypeX, tickTypeY, tickArg2_X, tickArg2_Y\n",
    "# plotOptions = [True, True, False, True, False] ### isPlotLine, isLabelOff, isSave, isTrueXTick, isMask\n",
    "# matrix1 = IntensityMatrix[sliceTypeNo, channelNo, mind, ind, :,:,:]\n",
    "# matrix2 = IntensityMatrix[sliceTypeNo, :, mind, ind, :,:,:]\n",
    "# # fig1 = my_plot.plotBundleVsMatrix(bundle_No, bundles_df, image_norm, matrix1, figParams1, tickParams, plotOptions, matching_info)\n",
    "# fig2 = plotBundleVsMatrix_all(bundle_No, bundles_df, image_norm, matrix2, figParams2, tickParams, plotOptions, matching_info)\n",
    "# # plt.close(fig)"
   ]
  }
 ],
 "metadata": {
  "kernelspec": {
   "display_name": "Python 3",
   "language": "python",
   "name": "python3"
  },
  "language_info": {
   "codemirror_mode": {
    "name": "ipython",
    "version": 3
   },
   "file_extension": ".py",
   "mimetype": "text/x-python",
   "name": "python",
   "nbconvert_exporter": "python",
   "pygments_lexer": "ipython3",
   "version": "3.7.1"
  }
 },
 "nbformat": 4,
 "nbformat_minor": 2
}
