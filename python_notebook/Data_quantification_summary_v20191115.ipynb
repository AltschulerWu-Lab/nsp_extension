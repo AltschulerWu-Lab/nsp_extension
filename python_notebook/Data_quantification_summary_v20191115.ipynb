{
 "cells": [
  {
   "cell_type": "code",
   "execution_count": 1,
   "metadata": {},
   "outputs": [],
   "source": [
    "%matplotlib inline\n",
    "\n",
    "import io, os, sys, types, datetime, pickle, warnings\n",
    "\n",
    "import pandas as pd\n",
    "\n",
    "import matplotlib\n",
    "import matplotlib.pyplot as plt\n",
    "from matplotlib.colors import BoundaryNorm\n",
    "from matplotlib.ticker import MaxNLocator\n",
    "\n",
    "import numpy as np\n",
    "from numpy.linalg import eig, inv\n",
    "\n",
    "import math\n",
    "\n",
    "from scipy import interpolate, spatial, stats\n",
    "\n",
    "import seaborn as sns\n",
    "\n",
    "import skimage.io as skiIo\n",
    "from skimage import exposure, img_as_float\n",
    "\n",
    "from sklearn import linear_model, metrics\n",
    "\n",
    "from statannot import add_stat_annotation\n",
    "# https://github.com/webermarcolivier/statannot\n",
    "\n",
    "warnings.filterwarnings('ignore')"
   ]
  },
  {
   "cell_type": "code",
   "execution_count": 2,
   "metadata": {},
   "outputs": [],
   "source": [
    "global isMac\n",
    "isMac = False\n",
    "\n",
    "if(isMac):\n",
    "    sup_prefix = '/Volumes/Project/2015_07_Neural_Superposition/Projects/Weiyue/Data_Analysis/Fate_Switching_experiments'\n",
    "    module_path = '/Volumes/Project/2015_07_Neural_Superposition/Projects/Weiyue/Code/python_cluster/helper_functions'\n",
    "    sum_fig_out_prefix = '/Users/lily/Desktop/Figure1_sup'\n",
    "else:\n",
    "    sup_prefix = 'W:\\\\2019_09_NSP_Extension\\\\figure\\\\analysis\\\\Fate_Switching_Experiments\\\\Gal80'\n",
    "    module_path = 'W:\\\\2015_07_Neural_Superposition\\\\Projects\\\\Weiyue\\\\code\\\\python_cluster\\\\helper_functions\\\\'\n",
    "    sum_fig_out_prefix = 'W:\\\\2019_09_NSP_Extension\\\\figure\\\\analysis\\\\Fate_Switching_experiments\\\\Figure1'\n",
    "\n",
    "data_prefix = os.path.join(sup_prefix, 'Data_Gal80')\n",
    "fig_out_prefix = os.path.join(sup_prefix, 'Output_Gal80', 'FigureOutput_v3')\n",
    "data_out_prefix = os.path.join(sup_prefix, 'Output_Gal80', 'DataOutput_summary', 'Fz')\n"
   ]
  },
  {
   "cell_type": "code",
   "execution_count": 3,
   "metadata": {},
   "outputs": [
    {
     "data": {
      "text/plain": [
       "'W:\\\\2015_07_Neural_Superposition\\\\Projects\\\\Weiyue\\\\code\\\\python_cluster\\\\helper_functions\\\\'"
      ]
     },
     "execution_count": 3,
     "metadata": {},
     "output_type": "execute_result"
    }
   ],
   "source": [
    "module_path"
   ]
  },
  {
   "cell_type": "code",
   "execution_count": 4,
   "metadata": {},
   "outputs": [],
   "source": [
    "### import custom functions\n",
    "if module_path not in sys.path:\n",
    "    sys.path.append(module_path)\n",
    "import Data_quantification_function_helper as my_help\n",
    "import Data_quantification_function_intensity_calculation as my_int\n",
    "import Data_quantification_function_parse_bundle as my_pb\n",
    "import Data_quantification_function_plotting as my_plot\n",
    "import Data_quantification_function_summary_helper8 as my_sum"
   ]
  },
  {
   "cell_type": "code",
   "execution_count": 5,
   "metadata": {},
   "outputs": [
    {
     "data": {
      "text/plain": [
       "' ============== Golbal variables and parameters =============='"
      ]
     },
     "execution_count": 5,
     "metadata": {},
     "output_type": "execute_result"
    }
   ],
   "source": [
    "\"\"\" ============== Golbal variables and parameters ==============\"\"\""
   ]
  },
  {
   "cell_type": "code",
   "execution_count": 6,
   "metadata": {},
   "outputs": [],
   "source": [
    "### analysis parameters\n",
    "slicetype = 0\n",
    "centertype = 1\n",
    "radius_expanse_ratio = 3\n",
    "num_angle_ection = 24\n",
    "num_outside_angle = 18\n",
    "num_x_section = 40\n",
    "z_offset = 20\n",
    "analysis_params = [num_angle_ection, num_outside_angle, num_x_section, z_offset, radius_expanse_ratio]"
   ]
  },
  {
   "cell_type": "code",
   "execution_count": 7,
   "metadata": {},
   "outputs": [],
   "source": [
    "target_index_match = {0:0, 1:2, 2:3, 3:4, 4:5, 5:7}\n",
    "target_index_match_rev = {0:0, 2:1, 3:2, 4:3, 5:4, 7:5}\n",
    "color_code = {1:'#00FFFF', 2:'#1FF509', 3: '#FF0000', 4: '#CFCF1C', 5: '#FF00FF', 6: '#FFAE01', 7:'#ff7c80', 0:'#FFFFFF'}\n",
    "channel_mapping = {'RFP':0, 'GFP':1, 'R3_1':2, 'R4_1':3, 'R3_2':4, 'R4_2':5, 'R3_3': 6, 0:'RFP', 1:'GFP', 2:'R3_1', 3:'R4_1', 4:'R3_2', 5:'R4_2', 6:'R3_3'}\n",
    "channel_cmap = {0:'Reds', 1: 'Greens', 2:'Reds', 3: 'Greens', 4:'Reds', 5: 'Greens', 6:'Reds'}\n",
    "matching_info = (target_index_match, color_code, channel_mapping, channel_cmap, target_index_match_rev)"
   ]
  },
  {
   "cell_type": "code",
   "execution_count": 8,
   "metadata": {
    "scrolled": true
   },
   "outputs": [
    {
     "data": {
      "text/plain": [
       "'============== main =============='"
      ]
     },
     "execution_count": 8,
     "metadata": {},
     "output_type": "execute_result"
    }
   ],
   "source": [
    "\"\"\"============== main ==============\"\"\""
   ]
  },
  {
   "cell_type": "code",
   "execution_count": 9,
   "metadata": {},
   "outputs": [
    {
     "data": {
      "text/plain": [
       "' Load data '"
      ]
     },
     "execution_count": 9,
     "metadata": {},
     "output_type": "execute_result"
    }
   ],
   "source": [
    "\"\"\" Load data \"\"\""
   ]
  },
  {
   "cell_type": "code",
   "execution_count": 10,
   "metadata": {},
   "outputs": [],
   "source": [
    "### file parameters\n",
    "# file folders\n",
    "image_folder = 'Images'\n",
    "ROI_folder = 'ROIs'\n",
    "annotation_folder = 'Annotations'\n",
    "summary_folder = 'Summary'\n"
   ]
  },
  {
   "cell_type": "code",
   "execution_count": 11,
   "metadata": {},
   "outputs": [],
   "source": [
    "# load summary statistics file\n",
    "mypath = os.path.join(data_prefix, summary_folder)\n",
    "# sum_df_nic = pd.read_csv(os.path.join(mypath, 'summary_v1017_nic.csv'))\n",
    "sum_df_fz = pd.read_csv(os.path.join(mypath, 'summary_v1017_fz.csv'))"
   ]
  },
  {
   "cell_type": "code",
   "execution_count": 12,
   "metadata": {
    "scrolled": true
   },
   "outputs": [
    {
     "name": "stdout",
     "output_type": "stream",
     "text": [
      "Fz_Gal80_s26r1_summary.csv\n",
      "Fz_Gal80_s23r1_summary.csv\n",
      "Fz_Gal80_s24r1_summary.csv\n",
      "Fz_Gal80_s38r1_summary.csv\n",
      "Fz_Gal80_s2r1_summary.csv\n",
      "Fz_Gal80_s9r1_summary.csv\n",
      "Fz_Gal80_s1r1_summary.csv\n"
     ]
    }
   ],
   "source": [
    "# load annotation files\n",
    "mypath = os.path.join(data_prefix, annotation_folder, 'Fz')\n",
    "folders, files = my_help.parseFolderInfo(mypath)\n",
    "for filename in files:\n",
    "    print(filename)\n",
    "    if('.csv' in filename):\n",
    "        df_temp = pd.read_csv(os.path.join(mypath, filename))\n",
    "        if(files.index(filename) == 0):\n",
    "            annots_df = df_temp\n",
    "        else:\n",
    "            df_temp = pd.read_csv(os.path.join(mypath, filename))\n",
    "            annots_df = annots_df.append(df_temp, ignore_index=True, sort=True)\n",
    "#     print(df_temp)"
   ]
  },
  {
   "cell_type": "code",
   "execution_count": 13,
   "metadata": {
    "scrolled": false
   },
   "outputs": [
    {
     "name": "stdout",
     "output_type": "stream",
     "text": [
      "=====0=====\n",
      "Fz 2 1\n",
      "=====1=====\n",
      "Fz 24 1\n",
      "=====2=====\n",
      "Fz 38 1\n",
      "=====3=====\n",
      "Fz 23 1\n",
      "=====4=====\n",
      "Fz 9 1\n",
      "=====5=====\n",
      "Fz 26 1\n",
      "=====6=====\n",
      "Fz 1 1\n"
     ]
    }
   ],
   "source": [
    "# load data files\n",
    "outputData = {}\n",
    "filepaths = my_help.getFilePaths(os.path.join(data_out_prefix))\n",
    "for i in range(len(filepaths)):\n",
    "    print(f'====={i}=====')\n",
    "    pickle_in = open(filepaths[i],\"rb\")\n",
    "    outputData[i] = pickle.load(pickle_in)\n",
    "    category = outputData[i]['categoryID']\n",
    "    sampleID = outputData[i]['sampleID']\n",
    "    regionID = outputData[i]['regionID']\n",
    "    print(category, sampleID, regionID)"
   ]
  },
  {
   "cell_type": "code",
   "execution_count": 14,
   "metadata": {
    "scrolled": false
   },
   "outputs": [],
   "source": [
    "# outputData[0]['parameter']"
   ]
  },
  {
   "cell_type": "code",
   "execution_count": 56,
   "metadata": {},
   "outputs": [],
   "source": [
    "import Data_quantification_function_summary_helper12 as my_sum"
   ]
  },
  {
   "cell_type": "code",
   "execution_count": 57,
   "metadata": {},
   "outputs": [],
   "source": [
    "del bundle_pairs_df"
   ]
  },
  {
   "cell_type": "code",
   "execution_count": 58,
   "metadata": {},
   "outputs": [],
   "source": [
    "# sum_df = pd.concat([sum_df_nic, sum_df_fz])\n",
    "sum_df = sum_df_fz\n",
    "sum_df = sum_df.dropna()\n",
    "sum_df.reset_index(drop = True, inplace = True)"
   ]
  },
  {
   "cell_type": "code",
   "execution_count": 59,
   "metadata": {
    "scrolled": true
   },
   "outputs": [
    {
     "name": "stdout",
     "output_type": "stream",
     "text": [
      "===\n",
      "Fz 2 1\n",
      "===\n",
      "Fz 24 1\n",
      "===\n",
      "Fz 38 1\n",
      "===\n",
      "Fz 23 1\n",
      "===\n",
      "Fz 9 1\n",
      "===\n",
      "Fz 26 1\n",
      "===\n",
      "Fz 1 1\n"
     ]
    }
   ],
   "source": [
    "\"\"\" Process sum_df \"\"\"\n",
    "## average angles, make angle radian, calculate real length based on positions of heels and targets.\n",
    "# sum_df_nic = my_sum.process_sum_df(sum_df_nic, annots_df, outputData)\n",
    "# sum_df_fz = my_sum.process_sum_df(sum_df_fz, annots_df, outputData)\n",
    "params = ['length_mean_fromheel', 'angle_mean_abs']\n",
    "sum_df,  bundle_pairs_df = my_sum.process_sum_df(sum_df, annots_df, outputData, params)"
   ]
  },
  {
   "cell_type": "code",
   "execution_count": 60,
   "metadata": {},
   "outputs": [],
   "source": [
    "bundle_pairs_df = bundle_pairs_df.dropna()"
   ]
  },
  {
   "cell_type": "code",
   "execution_count": 27,
   "metadata": {},
   "outputs": [],
   "source": [
    "a = pd.DataFrame(columns = ['R3_length', 'R3_angle', 'R4_length', 'R4_angle', 'type_bundle'])"
   ]
  },
  {
   "cell_type": "code",
   "execution_count": 31,
   "metadata": {},
   "outputs": [],
   "source": [
    "a.loc[0,['R3_length', 'R3_angle']] = sum_df.loc[0,params].tolist()"
   ]
  },
  {
   "cell_type": "code",
   "execution_count": 32,
   "metadata": {},
   "outputs": [
    {
     "data": {
      "text/html": [
       "<div>\n",
       "<style scoped>\n",
       "    .dataframe tbody tr th:only-of-type {\n",
       "        vertical-align: middle;\n",
       "    }\n",
       "\n",
       "    .dataframe tbody tr th {\n",
       "        vertical-align: top;\n",
       "    }\n",
       "\n",
       "    .dataframe thead th {\n",
       "        text-align: right;\n",
       "    }\n",
       "</style>\n",
       "<table border=\"1\" class=\"dataframe\">\n",
       "  <thead>\n",
       "    <tr style=\"text-align: right;\">\n",
       "      <th></th>\n",
       "      <th>R3_length</th>\n",
       "      <th>R3_angle</th>\n",
       "      <th>R4_length</th>\n",
       "      <th>R4_angle</th>\n",
       "      <th>type_bundle</th>\n",
       "    </tr>\n",
       "  </thead>\n",
       "  <tbody>\n",
       "    <tr>\n",
       "      <th>0</th>\n",
       "      <td>1.69541</td>\n",
       "      <td>1.83</td>\n",
       "      <td>NaN</td>\n",
       "      <td>NaN</td>\n",
       "      <td>NaN</td>\n",
       "    </tr>\n",
       "  </tbody>\n",
       "</table>\n",
       "</div>"
      ],
      "text/plain": [
       "  R3_length R3_angle R4_length R4_angle type_bundle\n",
       "0   1.69541     1.83       NaN      NaN         NaN"
      ]
     },
     "execution_count": 32,
     "metadata": {},
     "output_type": "execute_result"
    }
   ],
   "source": [
    "a"
   ]
  },
  {
   "cell_type": "code",
   "execution_count": null,
   "metadata": {},
   "outputs": [],
   "source": [
    "# _, bins = np.histogram(df[\"variable\"])\n",
    "# g = sns.FacetGrid(df, hue=\"group\")\n",
    "# g = g.map(sns.distplot, \"variable\", bins=bins)\n",
    "# sns.jointplot"
   ]
  },
  {
   "cell_type": "code",
   "execution_count": 62,
   "metadata": {},
   "outputs": [
    {
     "data": {
      "text/plain": [
       "58"
      ]
     },
     "execution_count": 62,
     "metadata": {},
     "output_type": "execute_result"
    }
   ],
   "source": [
    "len(bundle_pairs_df)"
   ]
  },
  {
   "cell_type": "code",
   "execution_count": null,
   "metadata": {
    "scrolled": true
   },
   "outputs": [],
   "source": [
    "sum_df.loc[:,['angle_max_1', 'bundle_no_total', 'heel_pos_type', 'type_plot']]"
   ]
  },
  {
   "cell_type": "code",
   "execution_count": null,
   "metadata": {},
   "outputs": [],
   "source": [
    "a = pd.DataFrame(columns = ['a', 'b', 'c'])\n",
    "b = pd.DataFrame(columns = ['a', 'b', 'c'])\n",
    "\n"
   ]
  },
  {
   "cell_type": "code",
   "execution_count": null,
   "metadata": {
    "scrolled": true
   },
   "outputs": [],
   "source": [
    "a.loc[1,'a'] = 5\n",
    "a.loc[5,'c'] = 10\n",
    "b = pd.concat([a,b], ignore_index = True)"
   ]
  },
  {
   "cell_type": "code",
   "execution_count": null,
   "metadata": {},
   "outputs": [],
   "source": [
    "b"
   ]
  },
  {
   "cell_type": "code",
   "execution_count": null,
   "metadata": {
    "scrolled": false
   },
   "outputs": [],
   "source": [
    "sum_df_grouped = sum_df.groupby(['type_plot', 'heel_pos_type'])\n",
    "# sum_df_current = sum_df_grouped.get_group('N')[sum_df_grouped.get_group('N').SampleID != 29] \n",
    "sum_df_grouped.groups"
   ]
  },
  {
   "cell_type": "code",
   "execution_count": null,
   "metadata": {},
   "outputs": [],
   "source": [
    "sum_df_grouped.count()"
   ]
  },
  {
   "cell_type": "code",
   "execution_count": null,
   "metadata": {},
   "outputs": [],
   "source": [
    "sns.distplot(sum_df_grouped.get_group(('R3',3.0)).loc[:,'length_mean_fromheel'])\n",
    "sns.distplot(sum_df_grouped.get_group(('R4',4.0)).loc[:,'length_mean_fromheel'])\n",
    "sns.distplot(sum_df_grouped.get_group(('R3/R3',3.0)).loc[:,'length_mean_fromheel'])\n",
    "sns.distplot(sum_df_grouped.get_group(('R3/R3',4.0)).loc[:,'length_mean_fromheel'])\n",
    "legend = ['R3', 'R4', 'R3(R3/R3)', 'R4(R3/R3)']\n",
    "plt.xlabel('Relative Length')\n",
    "plt.legend(legend, bbox_to_anchor=(1.05, 1), loc=2, borderaxespad=0.)\n"
   ]
  },
  {
   "cell_type": "code",
   "execution_count": null,
   "metadata": {
    "scrolled": false
   },
   "outputs": [],
   "source": [
    "sns.distplot(sum_df_grouped.get_group(('R3',3.0)).loc[:,'angle_mean_abs'])\n",
    "sns.distplot(sum_df_grouped.get_group(('R4',4.0)).loc[:,'angle_mean_abs'])\n",
    "sns.distplot(sum_df_grouped.get_group(('R3/R3',3.0)).loc[:,'angle_mean_abs'])\n",
    "sns.distplot(sum_df_grouped.get_group(('R3/R3',4.0)).loc[:,'angle_mean_abs'])\n",
    "legend = ['R3', 'R4', 'R3(R3/R3)', 'R4(R3/R3)']\n",
    "plt.xlabel('Relative Angle')\n",
    "plt.legend(legend, bbox_to_anchor=(1.05, 1), loc=2, borderaxespad=0.)\n"
   ]
  },
  {
   "cell_type": "code",
   "execution_count": null,
   "metadata": {},
   "outputs": [],
   "source": [
    "import numpy as np"
   ]
  },
  {
   "cell_type": "code",
   "execution_count": null,
   "metadata": {},
   "outputs": [],
   "source": [
    "np.zeros((1,2))"
   ]
  },
  {
   "cell_type": "code",
   "execution_count": null,
   "metadata": {},
   "outputs": [],
   "source": [
    "R3R3 =np.zeros((1,2))\n",
    "R3R4 = np.zeros((1,2))"
   ]
  },
  {
   "cell_type": "code",
   "execution_count": null,
   "metadata": {
    "scrolled": true
   },
   "outputs": [],
   "source": [
    "sum_df.index"
   ]
  },
  {
   "cell_type": "code",
   "execution_count": null,
   "metadata": {},
   "outputs": [],
   "source": [
    "sum_df_grouped = sum_df.groupby(['bundle_no_total'])"
   ]
  },
  {
   "cell_type": "code",
   "execution_count": null,
   "metadata": {
    "scrolled": true
   },
   "outputs": [],
   "source": [
    "sum_df_grouped.groups.keys()"
   ]
  },
  {
   "cell_type": "code",
   "execution_count": null,
   "metadata": {},
   "outputs": [],
   "source": [
    "sum_df_grouped.get_group(i).iloc[0]['type_plot']"
   ]
  },
  {
   "cell_type": "code",
   "execution_count": null,
   "metadata": {},
   "outputs": [],
   "source": [
    "for i in sum_df_grouped.groups.keys():\n",
    "    if(len(sum_df_grouped.get_group(i).index) == 2):\n",
    "        if(sum_df_grouped.get_group(i).iloc[0]['type_plot'] == 'R3'):\n",
    "            length_R3 = sum_df_grouped.get_group(i).iloc[0]['length_mean_fromheel']\n",
    "            length_R4 = sum_df_grouped.get_group(i).iloc[1]['length_mean_fromheel']\n",
    "            R3R4 = np.append(R3R4, [[length_R3, length_R4]], axis = 0)\n",
    "        elif(sum_df_grouped.get_group(i).iloc[0]['type_plot'] == 'R4'):\n",
    "            length_R3 = sum_df_grouped.get_group(i).iloc[1]['length_mean_fromheel']\n",
    "            length_R4 = sum_df_grouped.get_group(i).iloc[0]['length_mean_fromheel']\n",
    "            R3R4 = np.append(R3R4, [[length_R3, length_R4]], axis = 0)\n",
    "        elif(sum_df_grouped.get_group(i).iloc[0]['type_plot'] == 'R3/R3'):\n",
    "            if(sum_df_grouped.get_group(i).iloc[0]['heel_pos_type'] == 3):\n",
    "                length_R3 = sum_df_grouped.get_group(i).iloc[0]['length_mean_fromheel']\n",
    "                length_R4 = sum_df_grouped.get_group(i).iloc[1]['length_mean_fromheel']\n",
    "                R3R3 = np.append(R3R3,  [[length_R3, length_R4]], axis = 0)\n",
    "            elif(sum_df_grouped.get_group(i).iloc[0]['heel_pos_type'] == 4):\n",
    "                length_R3 = sum_df_grouped.get_group(i).iloc[1]['length_mean_fromheel']\n",
    "                length_R4 = sum_df_grouped.get_group(i).iloc[0]['length_mean_fromheel']\n",
    "                R3R3 = np.append(R3R3,  [[length_R3, length_R4]], axis = 0)"
   ]
  },
  {
   "cell_type": "code",
   "execution_count": null,
   "metadata": {},
   "outputs": [],
   "source": [
    "R3R4 = R3R4[1:,:]\n",
    "R3R3 = R3R3[1:,:]\n",
    "x = [0:0.1:3]"
   ]
  },
  {
   "cell_type": "code",
   "execution_count": null,
   "metadata": {},
   "outputs": [],
   "source": [
    "fig = plt.subplots(1,1,figsize = (5,4))\n",
    "sns.scatterplot(x = R3R4[:,0], y = R3R4[:,1])\n",
    "sns.scatterplot(x = R3R3[:,0], y = R3R3[:,1])\n",
    "plt.plot([0,3],[0,3])\n",
    "plt.xlim([0,3])\n",
    "plt.ylim([0,3])\n",
    "legend = ['x=y', 'R3/R4', 'R3/R3']\n",
    "plt.xlabel('R3 length')\n",
    "plt.ylabel('R4 length')\n",
    "plt.legend(legend, bbox_to_anchor=(1.05, 1), loc=2, borderaxespad=0.)\n"
   ]
  },
  {
   "cell_type": "code",
   "execution_count": null,
   "metadata": {},
   "outputs": [],
   "source": [
    "len(R3R4)\n"
   ]
  },
  {
   "cell_type": "code",
   "execution_count": null,
   "metadata": {},
   "outputs": [],
   "source": [
    "len(R3R3)"
   ]
  },
  {
   "cell_type": "code",
   "execution_count": null,
   "metadata": {},
   "outputs": [],
   "source": [
    "np.append(R3R4,[[1,2]], axis = 0)"
   ]
  },
  {
   "cell_type": "code",
   "execution_count": null,
   "metadata": {},
   "outputs": [],
   "source": [
    "[length_R3, length_R4]"
   ]
  },
  {
   "cell_type": "code",
   "execution_count": null,
   "metadata": {},
   "outputs": [],
   "source": [
    "R3R4"
   ]
  },
  {
   "cell_type": "code",
   "execution_count": null,
   "metadata": {},
   "outputs": [],
   "source": []
  },
  {
   "cell_type": "code",
   "execution_count": null,
   "metadata": {},
   "outputs": [],
   "source": [
    "for ind, bundle_no_total in enumerate(sum_df.index):\n",
    "    print(ind)"
   ]
  },
  {
   "cell_type": "code",
   "execution_count": null,
   "metadata": {
    "scrolled": true
   },
   "outputs": [],
   "source": [
    "# \"\"\" Plotting: summary bar plots \"\"\""
   ]
  },
  {
   "cell_type": "code",
   "execution_count": null,
   "metadata": {
    "scrolled": true
   },
   "outputs": [],
   "source": [
    "# x_cat = \"type_plot\"\n",
    "# y_cat = \"length_mean_fromheel\" \n",
    "# y_label = 'Relative Length'\n",
    "# # 'angle_max_abs','angle_avg_abs'\n",
    "# # 'length_max_fromheel', 'length_avg_fromheel', 'length_max_fromT3', 'length_avg_fromT3', \n",
    "\n",
    "# ylim = (0, 2)\n",
    "# # ylim = (0, 1.5)\n",
    "\n",
    "# tickfontsize = 30\n",
    "# labelfontsize = 40\n",
    "# figsize = (8,6)\n",
    "\n",
    "# figure_title = 'length_barplot.png'\n",
    "# fig_save_path = os.path.join(sum_fig_out_prefix, figure_title)\n",
    "\n",
    "# sns.set(font_scale=1.5)\n",
    "# sns.set_style(\"whitegrid\", {'axes.grid' : False})\n",
    "# x_order = [\"R3\", \"R4\", \"R4/R4\"]\n",
    "# stats_pair = [('R3', 'R4'), ('R4/R4', 'R4')]"
   ]
  },
  {
   "cell_type": "code",
   "execution_count": null,
   "metadata": {},
   "outputs": [],
   "source": [
    "# sns.set(font_scale=1.5)\n",
    "# sns.set_style(\"white\")\n",
    "# fig, ax = plt.subplots(figsize=figsize)\n",
    "# sns.barplot(ax = ax, x=x_cat, y=y_cat, data=sum_df, color = \"silver\")\n",
    "# ax = sns.swarmplot(ax = ax, x=x_cat, y=y_cat, data = sum_df, color=\".25\", order = x_order)\n",
    "\n",
    "# ax.set_xlabel(\"\",fontsize=labelfontsize);\n",
    "# ax.set_ylabel(y_label,fontsize=labelfontsize);\n",
    "# ax.tick_params(axis = 'x', labelsize = tickfontsize)\n",
    "# ax.tick_params(axis = 'y', labelsize = tickfontsize)\n",
    "# ax.set_title(\"\", fontsize = tickfontsize)\n",
    "# ax.set_ylim(ylim)\n",
    "\n",
    "# testResults = add_stat_annotation(ax, data = sum_df, x = x_cat, y = y_cat, order = x_order,\n",
    "#                                   boxPairList=stats_pair, \n",
    "#                                   test='Mann-Whitney', textFormat='star', loc='outside', \n",
    "#                                   pvalueThresholds=[[1,\"ns\"], [0.05,\"*\"], [1e-2,\"**\"], [1e-3,\"***\"]], \n",
    "#                                   lineOffsetToBox=0.5, lineOffset=0.02, lineHeight=0.03, textOffset=0, verbose=2, \n",
    "#                                   fontsize = tickfontsize)\n",
    "# # test = 't-test_ind'\n",
    "# plt.savefig(fig_save_path, dpi=300, bbox_inches='tight')\n",
    "# # p_value_calculation(sum_df, x_cat, y_cat, [('R3', 'R4'), ('R3/R3', 'R3'), (\"R4/R4\", \"R4\")])"
   ]
  },
  {
   "cell_type": "code",
   "execution_count": null,
   "metadata": {
    "scrolled": true
   },
   "outputs": [],
   "source": [
    "\"\"\" Plotting: summary bar plots by category \"\"\""
   ]
  },
  {
   "cell_type": "code",
   "execution_count": null,
   "metadata": {},
   "outputs": [],
   "source": [
    "sum_df.columns"
   ]
  },
  {
   "cell_type": "code",
   "execution_count": null,
   "metadata": {},
   "outputs": [],
   "source": [
    "sum_df_grouped = sum_df.groupby(['CategoryID'])"
   ]
  },
  {
   "cell_type": "code",
   "execution_count": null,
   "metadata": {},
   "outputs": [],
   "source": [
    "sum_df_current = sum_df_grouped.get_group('Fz')\n",
    "pert_type = 'fz'\n",
    "x_order = [\"R3\", \"R4\", \"R3/R3\"] \n",
    "test_pair = [('R3', 'R4'), ('R3/R3', 'R3')] \n",
    "\n",
    "# sum_df_current = sum_df_grouped.get_group('N')[sum_df_grouped.get_group('N').SampleID != 29] \n",
    "# pert_type = 'nic'\n",
    "# x_order = [\"R3\", \"R4\", \"R4/R4\"]\n",
    "# test_pair = [('R3', 'R4'), ('R4/R4', 'R4')]"
   ]
  },
  {
   "cell_type": "code",
   "execution_count": null,
   "metadata": {
    "scrolled": true
   },
   "outputs": [],
   "source": [
    "x_cat = \"type_plot\"\n",
    "y_cat = \"length_mean_fromheel\" \n",
    "y_label = 'Relative Length'\n",
    "hue = 'SampleID'\n",
    "ylim = (-0.2, 3.5)\n",
    "fig_title =  f'{pert_type}_length'\n",
    "\n",
    "\n",
    "# x_cat = \"type_plot\"\n",
    "# y_cat = \"angle_mean_abs\" \n",
    "# y_label = 'Relative Angle'\n",
    "# hue = 'SampleID'\n",
    "# ylim = (-0.2, 3.2)\n",
    "# fig_title = f'{pert_type}_angle'\n",
    "\n",
    "\n",
    "fig_format = 'eps'\n",
    "fig_name = f'{fig_title}.{fig_format}'\n",
    "\n",
    "# x_cat = \"type_plot\"\n",
    "# y_cat = \"length_max_fromheel\" \n",
    "# y_label = 'Relative Length'\n",
    "# hue = 'SampleID'\n",
    "\n",
    "\n",
    "\n",
    "\n",
    "tickfontsize = 30\n",
    "labelfontsize = 40\n",
    "figsize = (8,6)\n",
    "\n",
    "sns.set(font_scale=1.5)\n",
    "sns.set_style(\"whitegrid\", {'axes.grid' : False})"
   ]
  },
  {
   "cell_type": "code",
   "execution_count": null,
   "metadata": {},
   "outputs": [],
   "source": [
    "fig_name"
   ]
  },
  {
   "cell_type": "code",
   "execution_count": null,
   "metadata": {},
   "outputs": [],
   "source": [
    "sum_fig_out_prefix"
   ]
  },
  {
   "cell_type": "code",
   "execution_count": null,
   "metadata": {
    "scrolled": true
   },
   "outputs": [],
   "source": [
    "fig, ax = plt.subplots(figsize=(8,6))\n",
    "\n",
    "ax = sns.boxplot(ax = ax, x=x_cat, y=y_cat, data = sum_df_current, color = \"silver\", order = x_order)\n",
    "ax = sns.swarmplot(ax = ax, x=x_cat, y=y_cat, data = sum_df_current, color=\".25\", order = x_order)\n",
    "# ax = sns.swarmplot(ax = ax, x=x_cat, y=y_cat, data = sum_df_current, hue = hue, order = x_order)\n",
    "\n",
    "ax.set_xlabel(\"\",fontsize=labelfontsize);\n",
    "ax.set_ylabel(y_label,fontsize=labelfontsize);\n",
    "ax.tick_params(axis = 'x', labelsize = tickfontsize)\n",
    "ax.tick_params(axis = 'y', labelsize = tickfontsize)\n",
    "ax.set_title(\"\", fontsize = tickfontsize)\n",
    "\n",
    "\n",
    "testResults = add_stat_annotation(ax, data = sum_df_current, x = x_cat, y = y_cat, order = x_order,\n",
    "                                  boxPairList=test_pair, \n",
    "                                  test='Mann-Whitney', textFormat='star', loc='inside', \n",
    "                                  pvalueThresholds=[[1,\"ns\"], [0.05,\"*\"], [1e-2,\"**\"], [1e-3,\"***\"]], \n",
    "                                  lineOffsetToBox=0.1, lineOffset=0.01, lineHeight=0.08, textOffset=1, verbose=2, \n",
    "                                  fontsize = tickfontsize)\n",
    "ax.set_ylim(ylim)\n",
    "plt.legend(bbox_to_anchor=(1.05, 1), loc=2, borderaxespad=0.)\n",
    "\n",
    "fig_save_path = os.path.join(sum_fig_out_prefix, fig_name)\n",
    "plt.savefig(fig_save_path, dpi=1000, bbox_inches='tight', format = fig_format)\n",
    "\n",
    "my_sum.p_value_calculation(sum_df_current, x_cat, y_cat,test_pair)"
   ]
  },
  {
   "cell_type": "code",
   "execution_count": null,
   "metadata": {
    "scrolled": true
   },
   "outputs": [],
   "source": [
    "\"\"\"Plotting summary polar plot\"\"\""
   ]
  },
  {
   "cell_type": "code",
   "execution_count": null,
   "metadata": {},
   "outputs": [],
   "source": [
    "# pert_cat = 'Fz'\n",
    "# pert_type = 'R3/R3'\n",
    "# pert_rtype = 3\n",
    "\n",
    "pert_cat = 'N'\n",
    "pert_type = 'R4/R4'\n",
    "pert_rtype = 4"
   ]
  },
  {
   "cell_type": "code",
   "execution_count": null,
   "metadata": {},
   "outputs": [],
   "source": [
    "theta_cat = 'angle_mean_radian'\n",
    "r_cat = 'length_mean_fromheel'"
   ]
  },
  {
   "cell_type": "code",
   "execution_count": null,
   "metadata": {},
   "outputs": [],
   "source": [
    "tickfontsize = 30\n",
    "labelfontsize = 40\n",
    "figsize = (8,6)\n",
    "fig_format = 'png'\n",
    "figure_title = f'{pert_cat}_polar_summary.{fig_format}'\n",
    "fig_save_path = os.path.join(sum_fig_out_prefix, figure_title)"
   ]
  },
  {
   "cell_type": "code",
   "execution_count": null,
   "metadata": {
    "scrolled": true
   },
   "outputs": [],
   "source": [
    "sum_df_grouped = sum_df.groupby(['CategoryID', 'type_plot'])\n",
    "\n",
    "ind_r3 = sum_df_grouped.get_group((pert_cat, 'R3')).index\n",
    "ind_r4 = sum_df_grouped.get_group((pert_cat, 'R4')).index\n",
    "r3 = sum_df_grouped.get_group((pert_cat, pert_type)).loc[:,theta_cat] > 0\n",
    "r4 = sum_df_grouped.get_group((pert_cat, pert_type)).loc[:,theta_cat] < 0\n",
    "ind_pert_r3 = sum_df_grouped.get_group((pert_cat, pert_type))[r3].index\n",
    "ind_pert_r4 = sum_df_grouped.get_group((pert_cat, pert_type))[r4].index\n",
    "\n",
    "pos_t3 = np.mean(sum_df.groupby(['CategoryID']).get_group(pert_cat).loc[:,'pos_t3'].values)\n",
    "pos_t7 = np.mean(sum_df.groupby(['CategoryID']).get_group(pert_cat).loc[:,'pos_t7'].values)\n",
    "\n",
    "thetas = {\n",
    "    'R3':sum_df.loc[ind_r3,theta_cat].values,\n",
    "    'R4':sum_df.loc[ind_r4,theta_cat].values,\n",
    "    'pert_R3':sum_df.loc[ind_pert_r3,theta_cat].values,\n",
    "    'pert_R4':sum_df.loc[ind_pert_r4,theta_cat].values,\n",
    "}\n",
    "rs = {\n",
    "    'R3':sum_df.loc[ind_r3,r_cat].values,\n",
    "    'R4':sum_df.loc[ind_r4,r_cat].values,\n",
    "    'pert_R3':sum_df.loc[ind_pert_r3,r_cat].values,\n",
    "    'pert_R4':sum_df.loc[ind_pert_r4,r_cat].values,\n",
    "}\n",
    "\n",
    "\n",
    "plot_line = {\n",
    "    'R3':'-',\n",
    "    'R4':'-',\n",
    "    'pert_R3':'--',\n",
    "    'pert_R4':'--',\n",
    "}\n",
    "plot_color = {\n",
    "    'R3':color_code[3],\n",
    "    'R4':color_code[4],\n",
    "    'pert_R3':color_code[pert_rtype],\n",
    "    'pert_R4':color_code[pert_rtype],\n",
    "}\n",
    "\n",
    "targetGridPolar = my_sum.getTargetGridPolar_summary(pos_t3, pos_t7)\n",
    "legend = ['R3', 'R4', pert_type]\n",
    "\n"
   ]
  },
  {
   "cell_type": "code",
   "execution_count": null,
   "metadata": {},
   "outputs": [],
   "source": [
    "fig = plt.figure(figsize=(8,8))\n",
    "ax = fig.add_axes([0.1, 0.1, 0.75, 0.79], polar=True)\n",
    "for i in thetas.keys():\n",
    "    ax.errorbar(np.mean(thetas[i]), np.mean(rs[i]), xerr = np.std(thetas[i]), yerr = np.std(rs[i]), color = 'k', elinewidth=2)\n",
    "    ax.plot([0,np.mean(thetas[i])], [0,np.mean(rs[i])], linewidth = 5, linestyle = plot_line[i], color = plot_color[i])\n",
    "\n",
    "# Shrink current axis by 20%\n",
    "box = ax.get_position()\n",
    "ax.set_position([box.x0, box.y0, box.width * 8, box.height])\n",
    "for i in [0,2,3,5]:\n",
    "    ax.plot(targetGridPolar[i,0], targetGridPolar[i,1], 'o', color = color_code[target_index_match[i]], markersize = 20, mew = 3, mfc = 'none')\n",
    "\n",
    "# Put a legend to the bottom left of the current axis\n",
    "ax.legend(legend, loc='lower left', bbox_to_anchor=(-0.1, 0.7), fontsize = 30)\n",
    "\n",
    "ax.set_thetamin(-30)\n",
    "ax.set_thetamax(30)\n",
    "ax.tick_params(axis = 'x', labelsize = 30)\n",
    "ax.tick_params(axis = 'y', labelsize = 30)\n",
    "\n",
    "# plt.show()\n",
    "plt.savefig(fig_save_path, dpi=1000, bbox_inches='tight', format = fig_format)\n"
   ]
  },
  {
   "cell_type": "code",
   "execution_count": null,
   "metadata": {},
   "outputs": [],
   "source": [
    "\"\"\" Summary of polar density map \"\"\""
   ]
  },
  {
   "cell_type": "code",
   "execution_count": null,
   "metadata": {
    "scrolled": true
   },
   "outputs": [],
   "source": [
    "matrices = my_sum.get_summary_matrices(sum_df, annots_df, outputData)"
   ]
  },
  {
   "cell_type": "code",
   "execution_count": null,
   "metadata": {
    "scrolled": true
   },
   "outputs": [],
   "source": [
    "pert_cat = 'Fz'\n",
    "bundle_type = 'R3R4'\n",
    "channel_no = 1\n",
    "figsize = (10,8)\n",
    "colormap = plt.get_cmap('gray')\n",
    "z_min = -1\n",
    "z_max = 0.15 # default is -1\n",
    "\n",
    "pos_t3 = np.mean(sum_df.groupby(['CategoryID']).get_group(pert_cat).loc[:,'pos_t3'].values)\n",
    "pos_t7 = np.mean(sum_df.groupby(['CategoryID']).get_group(pert_cat).loc[:,'pos_t7'].values)\n",
    "\n",
    "figure_params = figsize, colormap, z_min, z_max\n",
    "\n",
    "calculation_params = analysis_params, radius_expanse_ratio, pos_t3, pos_t7\n",
    "\n",
    "matrix = matrices[category][bundle_type][:,channel_no,:,:,:]\n",
    "plot_matrix = np.mean(np.mean(matrix, axis = 3), axis = 0)\n",
    "\n",
    "fig = my_sum.plot_summary_polar(plot_matrix, channel_no, calculation_params, matching_info, figure_params)\n",
    "fig_save_path = os.path.join(sum_fig_out_prefix, figure_title)\n",
    "plt.savefig(fig_save_path, dpi=300, bbox_inches='tight')\n",
    "\n",
    "plt.show()\n",
    "\n"
   ]
  },
  {
   "cell_type": "code",
   "execution_count": null,
   "metadata": {},
   "outputs": [],
   "source": [
    "def plot_summary_polar(matrix, channelNo, calculation_params, matching_info, figure_params):\n",
    "#     vmax_set = 1\n",
    "    analysisParams, radiusExpanseRatio, pos_t3, pos_t7 = calculation_params\n",
    "    figsize, colormap, z_min, z_max, cbar_tick = figure_params\n",
    "    \n",
    "    targetIndexMatch, ColorCode, channel_mapping, channel_cmap, targetIndexMatch_rev = matching_info\n",
    "    \n",
    "#     colormap = plt.get_cmap(channel_cmap[channelNo])\n",
    "    # colormap = plt.get_cmap('gray')\n",
    "    \n",
    "    thetav, rv, z1, norm1, targetGridPolar = my_sum.getPolarPlotValues(analysisParams, channelNo, matrix, colormap, targetIndexMatch_rev, radiusExpanseRatio, pos_t3, pos_t7, z_min, z_max)\n",
    "    \n",
    "    fig = plt.figure(figsize = figsize)\n",
    "#     fig = plt.figure()\n",
    "    ax2 = fig.add_subplot(111, polar = True)\n",
    "\n",
    "    ## plot value\n",
    "    sc = ax2.pcolormesh(thetav, rv, z1, cmap=colormap, norm=norm1)\n",
    "\n",
    "    ## plot heel position\n",
    "    for i in [2,3,5]:\n",
    "        ax2.plot(targetGridPolar[i,0], targetGridPolar[i,1], 'o', color = ColorCode[targetIndexMatch[i]], markersize = 20, mew = 5, mfc = 'none')\n",
    "    \n",
    "    ## plot angle reference\n",
    "    ax2.plot([0, targetGridPolar[targetIndexMatch_rev[3],0]], [0, targetGridPolar[targetIndexMatch_rev[3],1]], '--', color = '0.5')\n",
    "    ax2.plot([0, targetGridPolar[targetIndexMatch_rev[7],0]], [0, targetGridPolar[targetIndexMatch_rev[7],1]], '--', color = '0.5')\n",
    "\n",
    "    ## set polar to pie\n",
    "    ax2.set_thetamin(-40)\n",
    "    ax2.set_thetamax(40)\n",
    "    \n",
    "    ax2.set_rlim(0, 3)\n",
    "    # ax.set_xticklabels({'fontsize':20})\n",
    "    ax2.tick_params(axis = 'x', labelsize = 30)\n",
    "    ax2.tick_params(axis = 'y', labelsize = 30)\n",
    "\n",
    "    #### color bar for polar plot\n",
    "    vmin,vmax = sc.get_clim()\n",
    "#     vmax = 0.2\n",
    "    cNorm = matplotlib.colors.Normalize(vmin=vmin, vmax=vmax)   #-- Defining a normalised scale\n",
    "    ax5 = fig.add_axes([0.8, 0.2, 0.02, 0.6])       #-- Creating a new axes at the right side\n",
    "    cb1 = matplotlib.colorbar.ColorbarBase(ax5, norm=cNorm, cmap=colormap, ticks=cbar_tick)    #-- Plotting the colormap in the created axes\n",
    "    cb1.ax.tick_params(labelsize=30)\n",
    "    fig.subplots_adjust(left=0.0,right=0.95)\n",
    "    \n",
    "    return fig"
   ]
  },
  {
   "cell_type": "code",
   "execution_count": null,
   "metadata": {},
   "outputs": [],
   "source": [
    "\"\"\" Individual Density Maps \"\"\""
   ]
  },
  {
   "cell_type": "code",
   "execution_count": null,
   "metadata": {
    "scrolled": true
   },
   "outputs": [],
   "source": [
    "for iData in outputData.keys():\n",
    "    category = outputData[iData]['categoryID']\n",
    "    sampleID = outputData[iData]['sampleID']\n",
    "    regionID = outputData[iData]['regionID']\n",
    "    print(iData, category, sampleID, regionID)"
   ]
  },
  {
   "cell_type": "code",
   "execution_count": null,
   "metadata": {
    "scrolled": true
   },
   "outputs": [],
   "source": [
    "outputData[iData].keys()"
   ]
  },
  {
   "cell_type": "code",
   "execution_count": null,
   "metadata": {},
   "outputs": [],
   "source": [
    "import Data_quantification_function_summary_helper5 as my_sum"
   ]
  },
  {
   "cell_type": "code",
   "execution_count": null,
   "metadata": {},
   "outputs": [],
   "source": [
    "iData = 5\n",
    "bundle_no = 6 #1, 19\n",
    " \n",
    "category = outputData[iData]['categoryID']\n",
    "sampleID = outputData[iData]['sampleID']\n",
    "regionID = outputData[iData]['regionID']"
   ]
  },
  {
   "cell_type": "code",
   "execution_count": null,
   "metadata": {},
   "outputs": [],
   "source": [
    "# channel_no = 0\n",
    "# z_min = 0\n",
    "# z_max = 0.25\n",
    "# r_lim = (0, 3)\n",
    "\n",
    "channel_no = 1\n",
    "z_min = 0\n",
    "z_max = 0.2\n",
    "r_lim = (0, 2.5)"
   ]
  },
  {
   "cell_type": "code",
   "execution_count": null,
   "metadata": {},
   "outputs": [],
   "source": [
    "figsize = (10,8)\n",
    "colormap = plt.get_cmap('gray')\n",
    "\n",
    "\n",
    "cbar_tick = [0, 0.1, 0.2, 0.3, 0.4, 0.5]\n",
    "tickfontsize = 30\n",
    "labelfontsize = 40\n",
    "fig_format = 'eps'\n",
    "fig_name = f'{category}_s{sampleID}r{regionID}_bd_no{bundle_no}_c{channel_no}.{fig_format}'\n",
    "fig_save_path = os.path.join(sum_fig_out_prefix, fig_name)"
   ]
  },
  {
   "cell_type": "code",
   "execution_count": null,
   "metadata": {},
   "outputs": [],
   "source": [
    "matrix.shape"
   ]
  },
  {
   "cell_type": "code",
   "execution_count": null,
   "metadata": {
    "scrolled": true
   },
   "outputs": [],
   "source": [
    "category = outputData[iData]['categoryID']\n",
    "sampleID = outputData[iData]['sampleID']\n",
    "regionID = outputData[iData]['regionID']\n",
    "rel_pos = outputData[iData]['relativePositions']\n",
    "\n",
    "sum_df_current = sum_df.groupby(['CategoryID', 'SampleID', 'RegionID']).get_group((category, sampleID, regionID))\n",
    "annots_df_current = annots_df.groupby(['CategoryID', 'SampleID', 'RegionID']).get_group((category, sampleID, regionID))\n",
    "annots_df_current.loc[:,'Bundle_No'] = annots_df_current.loc[:,'Bundle_No'].values.astype(int)\n",
    "annots_df_current.set_index('Bundle_No', inplace = True)\n",
    "annots_df_current.sort_index(axis = 0, inplace = True)\n",
    "\n",
    "ind_annot = list(annots_df_current.index).index(bundle_no)\n",
    "ind_sum = sum_df_current.index[(sum_df_current['bundle_no'] == bundle_no)]\n",
    "\n",
    "matrix = outputData[iData]['intensityMatrix'][ind_annot, channel_no, :,:,:]\n",
    "plot_matrix = np.mean(matrix, axis = 2)\n",
    "\n",
    "pos_t3 = rel_pos[ind_annot][2]\n",
    "pos_t7 = rel_pos[ind_annot][5]\n",
    "\n",
    "calculation_params = analysis_params, radius_expanse_ratio, pos_t3, pos_t7\n",
    "\n",
    "figure_params = figsize, colormap, z_min, z_max, r_lim, cbar_tick\n",
    "\n",
    "fig = my_sum.plot_summary_polar(plot_matrix, channel_no, calculation_params, matching_info, figure_params)\n",
    "\n",
    "plt.savefig(fig_save_path, dpi=300, bbox_inches='tight', format = fig_format)\n",
    "\n",
    "plt.show()\n"
   ]
  },
  {
   "cell_type": "code",
   "execution_count": null,
   "metadata": {},
   "outputs": [],
   "source": []
  }
 ],
 "metadata": {
  "kernelspec": {
   "display_name": "Python 3",
   "language": "python",
   "name": "python3"
  },
  "language_info": {
   "codemirror_mode": {
    "name": "ipython",
    "version": 3
   },
   "file_extension": ".py",
   "mimetype": "text/x-python",
   "name": "python",
   "nbconvert_exporter": "python",
   "pygments_lexer": "ipython3",
   "version": "3.7.3"
  }
 },
 "nbformat": 4,
 "nbformat_minor": 2
}
