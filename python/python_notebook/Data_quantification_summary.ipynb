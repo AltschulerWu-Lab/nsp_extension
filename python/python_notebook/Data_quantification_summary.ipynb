{
 "cells": [
  {
   "cell_type": "code",
   "execution_count": 1,
   "metadata": {
    "collapsed": true
   },
   "outputs": [],
   "source": [
    "%matplotlib inline\n",
    "\n",
    "import io, os, sys, types, time\n",
    "\n",
    "from IPython import get_ipython\n",
    "from nbformat import read\n",
    "from IPython.core.interactiveshell import InteractiveShell\n",
    "\n",
    "import pandas as pd\n",
    "\n",
    "import matplotlib\n",
    "import matplotlib.pyplot as plt\n",
    "\n",
    "import numpy as np\n",
    "from numpy.linalg import eig, inv\n",
    "\n",
    "import math\n",
    "\n",
    "from scipy import interpolate, spatial, stats\n",
    "\n",
    "import seaborn as sns\n",
    "\n",
    "import skimage.io as skiIo\n",
    "from skimage import exposure, img_as_float\n",
    "\n",
    "from sklearn import linear_model\n",
    "from sklearn import metrics\n",
    "\n",
    "import cv2"
   ]
  },
  {
   "cell_type": "code",
   "execution_count": 2,
   "metadata": {
    "collapsed": true
   },
   "outputs": [],
   "source": [
    "import pickle"
   ]
  },
  {
   "cell_type": "code",
   "execution_count": 3,
   "metadata": {
    "scrolled": true
   },
   "outputs": [
    {
     "data": {
      "text/plain": [
       "' ============== path settings =============='"
      ]
     },
     "execution_count": 3,
     "metadata": {},
     "output_type": "execute_result"
    }
   ],
   "source": [
    "\"\"\" ============== path settings ==============\"\"\""
   ]
  },
  {
   "cell_type": "code",
   "execution_count": 16,
   "metadata": {
    "collapsed": true
   },
   "outputs": [],
   "source": [
    "global isMac\n",
    "isMac = True\n",
    "\n",
    "if(isMac):\n",
    "#     dataPrefix = '/Users/lily/Lily/Academic/AW_Lab/Projects/NSP/Code/python/Quantification_fromPositionOnly/Trial/Materials_trial'\n",
    "#     figOutPrefix = '/Users/lily/Lily/Academic/AW_Lab/Projects/NSP/Code/python/Quantification_fromPositionOnly/Trial/FigureOutputs'\n",
    "#     dataOutPrefix = '/Users/lily/Lily/Academic/AW_Lab/Projects/NSP/Code/python/Quantification_fromPositionOnly/Trial/DataOutputs'\n",
    "#     dataPrefix = '/Volumes/wji/lab/Projects/NSP/Data_Analysis/Experiments/Fate_Switching/GFP_RFP/Summaries/ver2018/Data'\n",
    "#     imgDataPrefix = '/Users/lily/Lily/Academic/AW_Lab/data/figureData'\n",
    "#     dataPrefix = '/Users/lily/Lily/Academic/AW_Lab/Projects/NSP/Data_Analysis/Experiments/Fate_Switching/Data'\n",
    "#     figOutPrefix = '/Users/lily/Lily/Academic/AW_Lab/Projects/NSP/Data_Analysis/Experiments/Fate_Switching/python_Outputs/Figure'\n",
    "#     dataOutPrefix = '/Users/lily/Lily/Academic/AW_Lab/Projects/NSP/Data_Analysis/Experiments/Fate_Switching/python_Outputs/Data'\n",
    "    dataPrefix = '/Volumes/wji/lab/Projects/NSP/Data_Analysis/Experiments/Fate_Switching/GFP_RFP/Summaries/ver2018/Data'\n",
    "    figOutPrefix = '/Volumes/wji/lab/Projects/NSP/Data_Analysis/Experiments/Fate_Switching/GFP_RFP/Summaries/ver2018/DataOutputs'\n",
    "    dataOutPrefix = '/Volumes/wji/lab/Projects/NSP/Data_Analysis/Experiments/Fate_Switching/GFP_RFP/Summaries/ver2018/FigureOutputs'\n",
    "\n",
    "else:\n",
    "    dataPrefix = 'Z:\\\\lab\\\\Projects\\\\NSP\\\\Data_Analysis\\\\Experiments\\\\Fate_Switching\\\\GFP_RFP\\\\Summaries\\\\ver2018\\\\Data'\n",
    "    figOutPrefix = 'Z:\\\\lab\\\\Projects\\\\NSP\\\\Data_Analysis\\\\Experiments\\\\Fate_Switching\\\\GFP_RFP\\\\Summaries\\\\ver2018\\\\FigureOutputs'\n",
    "    dataOutPrefix = 'Z:\\\\lab\\\\Projects\\\\NSP\\\\Data_Analysis\\\\Experiments\\\\Fate_Switching\\\\GFP_RFP\\\\Summaries\\\\ver2018\\\\DataOutputs'\n",
    "\n"
   ]
  },
  {
   "cell_type": "code",
   "execution_count": 17,
   "metadata": {},
   "outputs": [
    {
     "data": {
      "text/plain": [
       "' ============== Golbal variables and parameters =============='"
      ]
     },
     "execution_count": 17,
     "metadata": {},
     "output_type": "execute_result"
    }
   ],
   "source": [
    "\"\"\" ============== Golbal variables and parameters ==============\"\"\""
   ]
  },
  {
   "cell_type": "code",
   "execution_count": 18,
   "metadata": {
    "collapsed": true
   },
   "outputs": [],
   "source": [
    "### global variables\n",
    "global ColorCode, targetIndexMatch, bins, channel_mapping\n",
    "ColorCode = {1:'#00FFFF', 2:'#1FF509', 3: '#FF0000', 4: '#CFCF1C', 5: '#FF00FF', 6: '#FFAE01', 7:'#FF0000', 0:'#FFFFFF'}\n",
    "targetIndexMatch = {0:0, 1:2, 2:3, 3:4, 4:5, 5:7}\n",
    "bins = 4096\n",
    "channel_mapping = {'RFP':0, 'GFP':1, 'R3':2, 'R4':3, 'Cy5':4, 0:'RFP', 1:'GFP', 2:'R3', 3:'R4', 4:'Cy5'}"
   ]
  },
  {
   "cell_type": "code",
   "execution_count": 19,
   "metadata": {
    "collapsed": true
   },
   "outputs": [],
   "source": [
    "### analysis parameters\n",
    "radiusExpanseRatio = 1.5\n",
    "num_angleSection = 20\n",
    "num_outsideAngle = 10\n",
    "num_Xsection = 20\n",
    "z_offset = 25\n",
    "analysisParams = [num_angleSection, num_outsideAngle, num_Xsection, z_offset, radiusExpanseRatio]"
   ]
  },
  {
   "cell_type": "code",
   "execution_count": 20,
   "metadata": {},
   "outputs": [
    {
     "data": {
      "text/plain": [
       "'============== importing settings =============='"
      ]
     },
     "execution_count": 20,
     "metadata": {},
     "output_type": "execute_result"
    }
   ],
   "source": [
    "\"\"\"============== importing settings ==============\"\"\""
   ]
  },
  {
   "cell_type": "code",
   "execution_count": 21,
   "metadata": {
    "collapsed": true
   },
   "outputs": [],
   "source": [
    "def find_notebook(fullname, path=None):\n",
    "    \"\"\"find a notebook, given its fully qualified name and an optional path\n",
    "    \n",
    "    This turns \"foo.bar\" into \"foo/bar.ipynb\"\n",
    "    and tries turning \"Foo_Bar\" into \"Foo Bar\" if Foo_Bar\n",
    "    does not exist.\n",
    "    \"\"\"\n",
    "    name = fullname.rsplit('.', 1)[-1]\n",
    "    if not path:\n",
    "        path = ['']\n",
    "    for d in path:\n",
    "        nb_path = os.path.join(d, name + \".ipynb\")\n",
    "        if os.path.isfile(nb_path):\n",
    "            return nb_path\n",
    "        # let import Notebook_Name find \"Notebook Name.ipynb\"\n",
    "        nb_path = nb_path.replace(\"_\", \" \")\n",
    "        if os.path.isfile(nb_path):\n",
    "            return nb_path\n",
    "\n",
    "class NotebookLoader(object):\n",
    "    \"\"\"Module Loader for Jupyter Notebooks\"\"\"\n",
    "    def __init__(self, path=None):\n",
    "        self.shell = InteractiveShell.instance()\n",
    "        self.path = path\n",
    "    \n",
    "    def load_module(self, fullname):\n",
    "        \"\"\"import a notebook as a module\"\"\"\n",
    "        path = find_notebook(fullname, self.path)\n",
    "        \n",
    "        print (\"importing Jupyter notebook from %s\" % path)\n",
    "                                       \n",
    "        # load the notebook object\n",
    "        with io.open(path, 'r', encoding='utf-8') as f:\n",
    "            nb = read(f, 4)\n",
    "        \n",
    "        \n",
    "        # create the module and add it to sys.modules\n",
    "        # if name in sys.modules:\n",
    "        #    return sys.modules[name]\n",
    "        mod = types.ModuleType(fullname)\n",
    "        mod.__file__ = path\n",
    "        mod.__loader__ = self\n",
    "        mod.__dict__['get_ipython'] = get_ipython\n",
    "        sys.modules[fullname] = mod\n",
    "        \n",
    "        # extra work to ensure that magics that would affect the user_ns\n",
    "        # actually affect the notebook module's ns\n",
    "        save_user_ns = self.shell.user_ns\n",
    "        self.shell.user_ns = mod.__dict__\n",
    "        \n",
    "        try:\n",
    "          for cell in nb.cells:\n",
    "            if cell.cell_type == 'code':\n",
    "                # transform the input to executable Python\n",
    "                code = self.shell.input_transformer_manager.transform_cell(cell.source)\n",
    "                # run the code in themodule\n",
    "                exec(code, mod.__dict__)\n",
    "        finally:\n",
    "            self.shell.user_ns = save_user_ns\n",
    "        return mod\n",
    "\n",
    "\n",
    "class NotebookFinder(object):\n",
    "    \"\"\"Module finder that locates Jupyter Notebooks\"\"\"\n",
    "    def __init__(self):\n",
    "        self.loaders = {}\n",
    "    \n",
    "    def find_module(self, fullname, path=None):\n",
    "        nb_path = find_notebook(fullname, path)\n",
    "        if not nb_path:\n",
    "            return\n",
    "        \n",
    "        key = path\n",
    "        if path:\n",
    "            # lists aren't hashable\n",
    "            key = os.path.sep.join(path)\n",
    "        \n",
    "        if key not in self.loaders:\n",
    "            self.loaders[key] = NotebookLoader(path)\n",
    "        return self.loaders[key]\n",
    "\n",
    "\n",
    "sys.meta_path.append(NotebookFinder())"
   ]
  },
  {
   "cell_type": "code",
   "execution_count": 22,
   "metadata": {
    "collapsed": true
   },
   "outputs": [],
   "source": [
    "import Data_quantification_functions_v0522 as my"
   ]
  },
  {
   "cell_type": "code",
   "execution_count": 23,
   "metadata": {
    "scrolled": true
   },
   "outputs": [
    {
     "data": {
      "text/plain": [
       "'============== main =============='"
      ]
     },
     "execution_count": 23,
     "metadata": {},
     "output_type": "execute_result"
    }
   ],
   "source": [
    "\"\"\"============== main ==============\"\"\""
   ]
  },
  {
   "cell_type": "code",
   "execution_count": 24,
   "metadata": {
    "collapsed": true
   },
   "outputs": [],
   "source": [
    "### file parameters\n",
    "# file folders\n",
    "imageFolder = 'Images'\n",
    "ROIFolder = 'ROIs'\n",
    "summaryFolder = 'Summaries'\n",
    "\n",
    "# file name\n",
    "# summaryNames = {}\n",
    "# summaryNames['Control'] = ('Control_s1r1_summary.csv',)\n",
    "# summaryNames['Fz'] = ('Fz_s1r1_summary.csv', 'Fz_s4r1_summary.csv')"
   ]
  },
  {
   "cell_type": "code",
   "execution_count": 25,
   "metadata": {
    "collapsed": true
   },
   "outputs": [],
   "source": [
    "sumNames = ['Ni_s1r1_summary.csv']\n",
    "Categories = ['N']\n",
    "dataNames = ['N_sample1_region1_good_0809.pickle']"
   ]
  },
  {
   "cell_type": "code",
   "execution_count": 26,
   "metadata": {},
   "outputs": [
    {
     "data": {
      "text/plain": [
       "1"
      ]
     },
     "execution_count": 26,
     "metadata": {},
     "output_type": "execute_result"
    }
   ],
   "source": [
    "len(sumNames)"
   ]
  },
  {
   "cell_type": "code",
   "execution_count": 27,
   "metadata": {
    "scrolled": false
   },
   "outputs": [
    {
     "name": "stdout",
     "output_type": "stream",
     "text": [
      "0\n"
     ]
    },
    {
     "ename": "ParserError",
     "evalue": "Error tokenizing data. C error: Calling read(nbytes) on source failed. Try engine='python'.",
     "output_type": "error",
     "traceback": [
      "\u001b[0;31m---------------------------------------------------------------------------\u001b[0m",
      "\u001b[0;31mParserError\u001b[0m                               Traceback (most recent call last)",
      "\u001b[0;32m<ipython-input-27-80e6edd62989>\u001b[0m in \u001b[0;36m<module>\u001b[0;34m()\u001b[0m\n\u001b[1;32m     11\u001b[0m     \u001b[0mprint\u001b[0m\u001b[0;34m(\u001b[0m\u001b[0mi\u001b[0m\u001b[0;34m)\u001b[0m\u001b[0;34m\u001b[0m\u001b[0m\n\u001b[1;32m     12\u001b[0m     \u001b[0msumName\u001b[0m \u001b[0;34m=\u001b[0m \u001b[0msumNames\u001b[0m\u001b[0;34m[\u001b[0m\u001b[0mi\u001b[0m\u001b[0;34m]\u001b[0m\u001b[0;34m\u001b[0m\u001b[0m\n\u001b[0;32m---> 13\u001b[0;31m     \u001b[0msummary_df\u001b[0m \u001b[0;34m=\u001b[0m \u001b[0mpd\u001b[0m\u001b[0;34m.\u001b[0m\u001b[0mread_csv\u001b[0m\u001b[0;34m(\u001b[0m\u001b[0mos\u001b[0m\u001b[0;34m.\u001b[0m\u001b[0mpath\u001b[0m\u001b[0;34m.\u001b[0m\u001b[0mjoin\u001b[0m\u001b[0;34m(\u001b[0m\u001b[0mdataPrefix\u001b[0m\u001b[0;34m,\u001b[0m \u001b[0msummaryFolder\u001b[0m\u001b[0;34m,\u001b[0m \u001b[0msumName\u001b[0m\u001b[0;34m)\u001b[0m\u001b[0;34m)\u001b[0m\u001b[0;34m\u001b[0m\u001b[0m\n\u001b[0m\u001b[1;32m     14\u001b[0m     \u001b[0mimage_list\u001b[0m \u001b[0;34m=\u001b[0m \u001b[0msummary_df\u001b[0m\u001b[0;34m.\u001b[0m\u001b[0mloc\u001b[0m\u001b[0;34m[\u001b[0m\u001b[0;34m:\u001b[0m\u001b[0;34m,\u001b[0m\u001b[0;34m'Image_Name'\u001b[0m\u001b[0;34m]\u001b[0m\u001b[0;34m.\u001b[0m\u001b[0munique\u001b[0m\u001b[0;34m(\u001b[0m\u001b[0;34m)\u001b[0m\u001b[0;34m\u001b[0m\u001b[0m\n\u001b[1;32m     15\u001b[0m     \u001b[0mROI_list\u001b[0m \u001b[0;34m=\u001b[0m \u001b[0msummary_df\u001b[0m\u001b[0;34m.\u001b[0m\u001b[0mloc\u001b[0m\u001b[0;34m[\u001b[0m\u001b[0;34m:\u001b[0m\u001b[0;34m,\u001b[0m\u001b[0;34m'ROI_Name'\u001b[0m\u001b[0;34m]\u001b[0m\u001b[0;34m.\u001b[0m\u001b[0munique\u001b[0m\u001b[0;34m(\u001b[0m\u001b[0;34m)\u001b[0m\u001b[0;34m\u001b[0m\u001b[0m\n",
      "\u001b[0;32m~/anaconda/lib/python3.6/site-packages/pandas/io/parsers.py\u001b[0m in \u001b[0;36mparser_f\u001b[0;34m(filepath_or_buffer, sep, delimiter, header, names, index_col, usecols, squeeze, prefix, mangle_dupe_cols, dtype, engine, converters, true_values, false_values, skipinitialspace, skiprows, nrows, na_values, keep_default_na, na_filter, verbose, skip_blank_lines, parse_dates, infer_datetime_format, keep_date_col, date_parser, dayfirst, iterator, chunksize, compression, thousands, decimal, lineterminator, quotechar, quoting, escapechar, comment, encoding, dialect, tupleize_cols, error_bad_lines, warn_bad_lines, skipfooter, skip_footer, doublequote, delim_whitespace, as_recarray, compact_ints, use_unsigned, low_memory, buffer_lines, memory_map, float_precision)\u001b[0m\n\u001b[1;32m    707\u001b[0m                     skip_blank_lines=skip_blank_lines)\n\u001b[1;32m    708\u001b[0m \u001b[0;34m\u001b[0m\u001b[0m\n\u001b[0;32m--> 709\u001b[0;31m         \u001b[0;32mreturn\u001b[0m \u001b[0m_read\u001b[0m\u001b[0;34m(\u001b[0m\u001b[0mfilepath_or_buffer\u001b[0m\u001b[0;34m,\u001b[0m \u001b[0mkwds\u001b[0m\u001b[0;34m)\u001b[0m\u001b[0;34m\u001b[0m\u001b[0m\n\u001b[0m\u001b[1;32m    710\u001b[0m \u001b[0;34m\u001b[0m\u001b[0m\n\u001b[1;32m    711\u001b[0m     \u001b[0mparser_f\u001b[0m\u001b[0;34m.\u001b[0m\u001b[0m__name__\u001b[0m \u001b[0;34m=\u001b[0m \u001b[0mname\u001b[0m\u001b[0;34m\u001b[0m\u001b[0m\n",
      "\u001b[0;32m~/anaconda/lib/python3.6/site-packages/pandas/io/parsers.py\u001b[0m in \u001b[0;36m_read\u001b[0;34m(filepath_or_buffer, kwds)\u001b[0m\n\u001b[1;32m    447\u001b[0m \u001b[0;34m\u001b[0m\u001b[0m\n\u001b[1;32m    448\u001b[0m     \u001b[0;31m# Create the parser.\u001b[0m\u001b[0;34m\u001b[0m\u001b[0;34m\u001b[0m\u001b[0m\n\u001b[0;32m--> 449\u001b[0;31m     \u001b[0mparser\u001b[0m \u001b[0;34m=\u001b[0m \u001b[0mTextFileReader\u001b[0m\u001b[0;34m(\u001b[0m\u001b[0mfilepath_or_buffer\u001b[0m\u001b[0;34m,\u001b[0m \u001b[0;34m**\u001b[0m\u001b[0mkwds\u001b[0m\u001b[0;34m)\u001b[0m\u001b[0;34m\u001b[0m\u001b[0m\n\u001b[0m\u001b[1;32m    450\u001b[0m \u001b[0;34m\u001b[0m\u001b[0m\n\u001b[1;32m    451\u001b[0m     \u001b[0;32mif\u001b[0m \u001b[0mchunksize\u001b[0m \u001b[0;32mor\u001b[0m \u001b[0miterator\u001b[0m\u001b[0;34m:\u001b[0m\u001b[0;34m\u001b[0m\u001b[0m\n",
      "\u001b[0;32m~/anaconda/lib/python3.6/site-packages/pandas/io/parsers.py\u001b[0m in \u001b[0;36m__init__\u001b[0;34m(self, f, engine, **kwds)\u001b[0m\n\u001b[1;32m    816\u001b[0m             \u001b[0mself\u001b[0m\u001b[0;34m.\u001b[0m\u001b[0moptions\u001b[0m\u001b[0;34m[\u001b[0m\u001b[0;34m'has_index_names'\u001b[0m\u001b[0;34m]\u001b[0m \u001b[0;34m=\u001b[0m \u001b[0mkwds\u001b[0m\u001b[0;34m[\u001b[0m\u001b[0;34m'has_index_names'\u001b[0m\u001b[0;34m]\u001b[0m\u001b[0;34m\u001b[0m\u001b[0m\n\u001b[1;32m    817\u001b[0m \u001b[0;34m\u001b[0m\u001b[0m\n\u001b[0;32m--> 818\u001b[0;31m         \u001b[0mself\u001b[0m\u001b[0;34m.\u001b[0m\u001b[0m_make_engine\u001b[0m\u001b[0;34m(\u001b[0m\u001b[0mself\u001b[0m\u001b[0;34m.\u001b[0m\u001b[0mengine\u001b[0m\u001b[0;34m)\u001b[0m\u001b[0;34m\u001b[0m\u001b[0m\n\u001b[0m\u001b[1;32m    819\u001b[0m \u001b[0;34m\u001b[0m\u001b[0m\n\u001b[1;32m    820\u001b[0m     \u001b[0;32mdef\u001b[0m \u001b[0mclose\u001b[0m\u001b[0;34m(\u001b[0m\u001b[0mself\u001b[0m\u001b[0;34m)\u001b[0m\u001b[0;34m:\u001b[0m\u001b[0;34m\u001b[0m\u001b[0m\n",
      "\u001b[0;32m~/anaconda/lib/python3.6/site-packages/pandas/io/parsers.py\u001b[0m in \u001b[0;36m_make_engine\u001b[0;34m(self, engine)\u001b[0m\n\u001b[1;32m   1047\u001b[0m     \u001b[0;32mdef\u001b[0m \u001b[0m_make_engine\u001b[0m\u001b[0;34m(\u001b[0m\u001b[0mself\u001b[0m\u001b[0;34m,\u001b[0m \u001b[0mengine\u001b[0m\u001b[0;34m=\u001b[0m\u001b[0;34m'c'\u001b[0m\u001b[0;34m)\u001b[0m\u001b[0;34m:\u001b[0m\u001b[0;34m\u001b[0m\u001b[0m\n\u001b[1;32m   1048\u001b[0m         \u001b[0;32mif\u001b[0m \u001b[0mengine\u001b[0m \u001b[0;34m==\u001b[0m \u001b[0;34m'c'\u001b[0m\u001b[0;34m:\u001b[0m\u001b[0;34m\u001b[0m\u001b[0m\n\u001b[0;32m-> 1049\u001b[0;31m             \u001b[0mself\u001b[0m\u001b[0;34m.\u001b[0m\u001b[0m_engine\u001b[0m \u001b[0;34m=\u001b[0m \u001b[0mCParserWrapper\u001b[0m\u001b[0;34m(\u001b[0m\u001b[0mself\u001b[0m\u001b[0;34m.\u001b[0m\u001b[0mf\u001b[0m\u001b[0;34m,\u001b[0m \u001b[0;34m**\u001b[0m\u001b[0mself\u001b[0m\u001b[0;34m.\u001b[0m\u001b[0moptions\u001b[0m\u001b[0;34m)\u001b[0m\u001b[0;34m\u001b[0m\u001b[0m\n\u001b[0m\u001b[1;32m   1050\u001b[0m         \u001b[0;32melse\u001b[0m\u001b[0;34m:\u001b[0m\u001b[0;34m\u001b[0m\u001b[0m\n\u001b[1;32m   1051\u001b[0m             \u001b[0;32mif\u001b[0m \u001b[0mengine\u001b[0m \u001b[0;34m==\u001b[0m \u001b[0;34m'python'\u001b[0m\u001b[0;34m:\u001b[0m\u001b[0;34m\u001b[0m\u001b[0m\n",
      "\u001b[0;32m~/anaconda/lib/python3.6/site-packages/pandas/io/parsers.py\u001b[0m in \u001b[0;36m__init__\u001b[0;34m(self, src, **kwds)\u001b[0m\n\u001b[1;32m   1693\u001b[0m         \u001b[0mkwds\u001b[0m\u001b[0;34m[\u001b[0m\u001b[0;34m'allow_leading_cols'\u001b[0m\u001b[0;34m]\u001b[0m \u001b[0;34m=\u001b[0m \u001b[0mself\u001b[0m\u001b[0;34m.\u001b[0m\u001b[0mindex_col\u001b[0m \u001b[0;32mis\u001b[0m \u001b[0;32mnot\u001b[0m \u001b[0;32mFalse\u001b[0m\u001b[0;34m\u001b[0m\u001b[0m\n\u001b[1;32m   1694\u001b[0m \u001b[0;34m\u001b[0m\u001b[0m\n\u001b[0;32m-> 1695\u001b[0;31m         \u001b[0mself\u001b[0m\u001b[0;34m.\u001b[0m\u001b[0m_reader\u001b[0m \u001b[0;34m=\u001b[0m \u001b[0mparsers\u001b[0m\u001b[0;34m.\u001b[0m\u001b[0mTextReader\u001b[0m\u001b[0;34m(\u001b[0m\u001b[0msrc\u001b[0m\u001b[0;34m,\u001b[0m \u001b[0;34m**\u001b[0m\u001b[0mkwds\u001b[0m\u001b[0;34m)\u001b[0m\u001b[0;34m\u001b[0m\u001b[0m\n\u001b[0m\u001b[1;32m   1696\u001b[0m \u001b[0;34m\u001b[0m\u001b[0m\n\u001b[1;32m   1697\u001b[0m         \u001b[0;31m# XXX\u001b[0m\u001b[0;34m\u001b[0m\u001b[0;34m\u001b[0m\u001b[0m\n",
      "\u001b[0;32mpandas/_libs/parsers.pyx\u001b[0m in \u001b[0;36mpandas._libs.parsers.TextReader.__cinit__\u001b[0;34m()\u001b[0m\n",
      "\u001b[0;32mpandas/_libs/parsers.pyx\u001b[0m in \u001b[0;36mpandas._libs.parsers.TextReader._get_header\u001b[0;34m()\u001b[0m\n",
      "\u001b[0;32mpandas/_libs/parsers.pyx\u001b[0m in \u001b[0;36mpandas._libs.parsers.TextReader._tokenize_rows\u001b[0;34m()\u001b[0m\n",
      "\u001b[0;32mpandas/_libs/parsers.pyx\u001b[0m in \u001b[0;36mpandas._libs.parsers.raise_parser_error\u001b[0;34m()\u001b[0m\n",
      "\u001b[0;31mParserError\u001b[0m: Error tokenizing data. C error: Calling read(nbytes) on source failed. Try engine='python'."
     ]
    }
   ],
   "source": [
    "\"\"\"Load data\"\"\"\n",
    "Images = {}\n",
    "ROI_dfs = {}\n",
    "annot_dfs = {}\n",
    "image_shapes = {}\n",
    "M2P_ratios = {}\n",
    "bundles_dfs = {}\n",
    "annot_bundles_dfs = {}\n",
    "annot_bundles_dfs_good = {}\n",
    "for i in range(len(sumNames)):\n",
    "    print(i)\n",
    "    sumName = sumNames[i]\n",
    "    summary_df = pd.read_csv(os.path.join(dataPrefix, summaryFolder, sumName))\n",
    "    image_list = summary_df.loc[:,'Image_Name'].unique()\n",
    "    ROI_list = summary_df.loc[:,'ROI_Name'].unique()\n",
    "    imageName = image_list[0]\n",
    "    ROIName = ROI_list[0]\n",
    "#     %time Images[i] = img_as_float(skiIo.imread(os.path.join(imgDataPrefix, imageName)))\n",
    "    ROI_dfs[i] = pd.read_csv(os.path.join(dataPrefix, ROIFolder, ROIName))\n",
    "    ROI_dfs[i].rename(columns = {' ':'No'}, inplace = True)\n",
    "    annot_dfs[i] = summary_df.groupby(['Image_Name']).get_group(image_list[0]).reset_index(drop = True)\n",
    "#     image_shapes[i] = (Images[i].shape[0], Images[i].shape[1], Images[i].shape[2])\n",
    "    M2P_ratios[i] = (summary_df.iloc[0]['imgX_pixel']/summary_df.iloc[0]['imgX_um'], summary_df.iloc[0]['imgY_pixel']/summary_df.iloc[0]['imgY_um'])\n",
    "    bundles_dfs[i] = my.getBundlesInfo(ROI_dfs[i], annot_dfs[i], M2P_ratios[i][0], M2P_ratios[i][1])\n",
    "    annot_bundles_dfs[i] = bundles_dfs[i].dropna(axis=0, how='any', inplace = False)\n",
    "    annot_bundles_dfs_good[i] = my.Good_QC_df(annot_bundles_dfs[i])"
   ]
  },
  {
   "cell_type": "code",
   "execution_count": null,
   "metadata": {
    "collapsed": true,
    "scrolled": true
   },
   "outputs": [],
   "source": [
    "\"\"\" Load IntensityMatrix Data \"\"\"\n",
    "outputDatas = {}\n",
    "for i in range(len(dataNames)):\n",
    "    print(i)\n",
    "    inputname = os.path.join(dataOutPrefix, Categories[i], dataNames[i])\n",
    "    pickle_in = open(inputname,\"rb\")\n",
    "    outputDatas[i] = pickle.load(pickle_in)\n"
   ]
  },
  {
   "cell_type": "code",
   "execution_count": null,
   "metadata": {
    "collapsed": true
   },
   "outputs": [],
   "source": []
  },
  {
   "cell_type": "code",
   "execution_count": null,
   "metadata": {
    "collapsed": true
   },
   "outputs": [],
   "source": [
    "list(set(Categories))"
   ]
  },
  {
   "cell_type": "code",
   "execution_count": null,
   "metadata": {
    "collapsed": true
   },
   "outputs": [],
   "source": [
    "\"\"\" Parameters \"\"\"\n",
    "relAxisParams = outputDatas[0]['Parameter'][0][1][0]\n",
    "xTicks_ori = np.round(np.linspace(0, radiusExpanseRatio, num_Xsection+1), 2)\n",
    "yTicks_ori = relAxisParams[5]*-1"
   ]
  },
  {
   "cell_type": "code",
   "execution_count": null,
   "metadata": {
    "collapsed": true,
    "scrolled": false
   },
   "outputs": [],
   "source": [
    "relAxisParams[5]"
   ]
  },
  {
   "cell_type": "code",
   "execution_count": null,
   "metadata": {
    "collapsed": true
   },
   "outputs": [],
   "source": [
    "yTicks_ori"
   ]
  },
  {
   "cell_type": "code",
   "execution_count": null,
   "metadata": {
    "collapsed": true
   },
   "outputs": [],
   "source": [
    "tickTypeX = 1\n",
    "tickTypeY = 2\n",
    "tickArg2_X = 5\n",
    "tickArg2_Y = [-2, -1,0, 1, 2]\n",
    "tickParams = xTicks_ori, yTicks_ori, tickTypeX, tickTypeY, tickArg2_X, tickArg2_Y "
   ]
  },
  {
   "cell_type": "code",
   "execution_count": null,
   "metadata": {
    "collapsed": true
   },
   "outputs": [],
   "source": [
    "\"\"\" Get R3 and R4(gfp) intensity matrix and boundary conditions \"\"\"\n",
    "## initialization\n",
    "sum_gfpMatrix = {}\n",
    "sum_r3Matrix = {}\n",
    "boundaries = {}\n",
    "for cat in list(set(Categories)):\n",
    "    sum_gfpMatrix[cat] = {}\n",
    "    sum_r3Matrix[cat] = {}\n",
    "    \n",
    "for i in range(len(dataNames)):\n",
    "    cat = Categories[i]\n",
    "    gfp = outputDatas[i]['IntensityMatrix'][0,1,2,:,:,:,:]\n",
    "    r3 = outputDatas[i]['IntensityMatrix'][0,2,2,:,:,:,:]\n",
    "    sum_gfp = np.sum(gfp, axis = 3)\n",
    "    sum_r3 = np.sum(r3, axis = 3)\n",
    "    sum_gfpMatrix[cat][i] = sum_gfp\n",
    "    sum_r3Matrix[cat][i] = sum_r3"
   ]
  },
  {
   "cell_type": "code",
   "execution_count": null,
   "metadata": {
    "collapsed": true
   },
   "outputs": [],
   "source": [
    "def plotSummaryMatrix(matrix, cmap, vmax, tickParams, labelParams):\n",
    "    sns.set(font_scale=2)\n",
    "    xTick_ori, yTick_ori, tickTypeX, tickTypeY, tickArg2_X, tickArg2_Y = tickParams\n",
    "    ylabel, xlabel = labelParams\n",
    "    xTicks = my.getTickList(tickTypeX, xTick_ori, tickArg2_X)\n",
    "    yTicks = my.getTickList(tickTypeY, yTick_ori, tickArg2_Y)\n",
    "    \n",
    "    ax = plt.subplot(111)\n",
    "    sns.heatmap(matrix, cmap = cmap, yticklabels = yTicks, xticklabels = xTicks, vmin = 0, vmax = vmax)\n",
    "    ax.set_ylabel(ylabel)\n",
    "    ax.set_xlabel(xlabel)\n",
    "#     ax2.set_title(title, fontsize=16)\n",
    "#     ax2.invert_yaxis()"
   ]
  },
  {
   "cell_type": "code",
   "execution_count": null,
   "metadata": {
    "collapsed": true
   },
   "outputs": [],
   "source": [
    "\"\"\" Plot sample images \"\"\"\n",
    "gfp_smp = outputDatas[0]['IntensityMatrix'][0,1,2,9,:,:,:]\n",
    "r3_smp = outputDatas[0]['IntensityMatrix'][0,2,2,9,:,:,:]\n",
    "\n",
    "vmax_gfp = np.ceil(np.percentile(sum_gfpMatrix['Control'][0].flatten(), 99))\n",
    "vmax_r3 = np.ceil(np.percentile(sum_r3Matrix['Control'][0].flatten(), 90))\n",
    "\n",
    "ylabel = 'Rel. Angle'\n",
    "xlabel = 'Rel. Length'\n",
    "labelParams = ylabel, xlabel\n",
    "\n",
    "plotSummaryMatrix(np.sum(gfp_smp, axis = 2), 'Greens', vmax_gfp, tickParams, labelParams)\n"
   ]
  },
  {
   "cell_type": "code",
   "execution_count": null,
   "metadata": {
    "collapsed": true,
    "scrolled": false
   },
   "outputs": [],
   "source": [
    "plotSummaryMatrix(np.sum(r3_smp, axis = 2), 'Reds', vmax_r3, tickParams, labelParams)\n"
   ]
  },
  {
   "cell_type": "code",
   "execution_count": null,
   "metadata": {
    "collapsed": true
   },
   "outputs": [],
   "source": [
    "\"\"\"Control_summary\"\"\"\n",
    "sum_gfpMatrix['Control']['Sum'] = np.concatenate((sum_gfpMatrix['Control'][0], sum_gfpMatrix['Control'][1]), axis=0)\n",
    "sum_r3Matrix['Control']['Sum'] = np.concatenate((sum_r3Matrix['Control'][0], sum_r3Matrix['Control'][1]), axis=0)"
   ]
  },
  {
   "cell_type": "code",
   "execution_count": null,
   "metadata": {
    "collapsed": true
   },
   "outputs": [],
   "source": [
    "sum_gfpMatrix['Control']['Sum'].shape"
   ]
  },
  {
   "cell_type": "code",
   "execution_count": null,
   "metadata": {
    "collapsed": true
   },
   "outputs": [],
   "source": [
    "vmax_gfp = np.ceil(np.percentile(sum_gfpMatrix['Control']['Sum'].flatten(), 95))\n",
    "vmax_r3 = np.ceil(np.percentile(sum_r3Matrix['Control']['Sum'].flatten(), 95))\n",
    "\n",
    "ylabel = 'Rel. Angle'\n",
    "xlabel = 'Rel. Length'\n",
    "labelParams = ylabel, xlabel\n",
    "\n",
    "plotSummaryMatrix(np.mean(sum_r3Matrix['Control']['Sum'], axis = 0), 'Reds', vmax_r3, tickParams, labelParams)"
   ]
  },
  {
   "cell_type": "code",
   "execution_count": null,
   "metadata": {
    "collapsed": true
   },
   "outputs": [],
   "source": [
    "plotSummaryMatrix(np.mean(sum_gfpMatrix['Control']['Sum'], axis = 0), 'Greens', vmax_gfp, tickParams, labelParams)"
   ]
  },
  {
   "cell_type": "code",
   "execution_count": null,
   "metadata": {
    "collapsed": true,
    "scrolled": true
   },
   "outputs": [],
   "source": [
    "\"\"\"Fz perturbed\"\"\""
   ]
  },
  {
   "cell_type": "code",
   "execution_count": null,
   "metadata": {
    "collapsed": true
   },
   "outputs": [],
   "source": [
    "def getIndexList(bundles_df):\n",
    "    doubleR3List = []\n",
    "    doubleR4List = []\n",
    "    wtList = []\n",
    "    \n",
    "    for ind in range(bundles_df.shape[0]):    \n",
    "        if((bundles_df.iloc[ind]['FL_Green'] == 0) & (bundles_df.iloc[ind]['FL_R3'] == 2)):\n",
    "#             print('two R3: ', str(ind))\n",
    "            doubleR3List.append(ind)\n",
    "        elif((bundles_df.iloc[ind]['FL_Green'] == 1) & (bundles_df.iloc[ind]['FL_R3'] == 1)):\n",
    "#             print('WT: ', str(ind))\n",
    "            wtList.append(ind)\n",
    "        elif((bundles_df.iloc[ind]['FL_Green'] == 2) & (bundles_df.iloc[ind]['FL_R3'] == 0)):\n",
    "#             print('two R4: ', str(ind))\n",
    "            doubleR4List.append(ind)\n",
    "#     print(doubleR3List)\n",
    "    return (doubleR3List, doubleR4List, wtList)"
   ]
  },
  {
   "cell_type": "code",
   "execution_count": null,
   "metadata": {
    "collapsed": true
   },
   "outputs": [],
   "source": [
    "annot_bundles_dfs_good[2].index[0], annot_bundles_dfs_good[2].index[3]"
   ]
  },
  {
   "cell_type": "code",
   "execution_count": null,
   "metadata": {
    "collapsed": true
   },
   "outputs": [],
   "source": [
    "ls_1 = getIndexList(annot_bundles_dfs_good[2])\n",
    "ls_2 = getIndexList(annot_bundles_dfs_good[3])"
   ]
  },
  {
   "cell_type": "code",
   "execution_count": null,
   "metadata": {
    "collapsed": true
   },
   "outputs": [],
   "source": [
    "ls_1"
   ]
  },
  {
   "cell_type": "code",
   "execution_count": null,
   "metadata": {
    "collapsed": true
   },
   "outputs": [],
   "source": [
    "annot_bundles_dfs_good[2].index"
   ]
  },
  {
   "cell_type": "code",
   "execution_count": null,
   "metadata": {
    "collapsed": true
   },
   "outputs": [],
   "source": [
    "8, 16, 35"
   ]
  },
  {
   "cell_type": "code",
   "execution_count": null,
   "metadata": {
    "collapsed": true
   },
   "outputs": [],
   "source": [
    "ls_2"
   ]
  },
  {
   "cell_type": "code",
   "execution_count": null,
   "metadata": {
    "collapsed": true
   },
   "outputs": [],
   "source": [
    "sum_gfpMatrix['Fz']['dR3'] = {}\n",
    "sum_gfpMatrix['Fz']['dR4'] = {}\n",
    "sum_gfpMatrix['Fz']['wt'] = {}\n",
    "sum_r3Matrix['Fz']['dR3'] = {}\n",
    "sum_r3Matrix['Fz']['dR4'] = {}\n",
    "sum_r3Matrix['Fz']['wt'] = {}\n",
    "for ind in [2,3]:\n",
    "    indList = getIndexList(annot_bundles_dfs_good[ind])\n",
    "    print(indList)\n",
    "    sum_gfpMatrix['Fz']['dR3'][ind] = sum_gfpMatrix['Fz'][ind][indList[0], :, :]\n",
    "    sum_gfpMatrix['Fz']['dR4'][ind] = sum_gfpMatrix['Fz'][ind][indList[1], :, :]\n",
    "    sum_gfpMatrix['Fz']['wt'][ind] = sum_gfpMatrix['Fz'][ind][indList[2], :, :]\n",
    "    sum_r3Matrix['Fz']['dR3'][ind] = sum_r3Matrix['Fz'][ind][indList[0], :, :]\n",
    "    sum_r3Matrix['Fz']['dR4'][ind] = sum_r3Matrix['Fz'][ind][indList[1], :, :]\n",
    "    sum_r3Matrix['Fz']['wt'][ind] = sum_r3Matrix['Fz'][ind][indList[2], :, :]\n",
    "sum_gfpMatrix['Fz']['dR3']['Sum'] = np.concatenate((sum_gfpMatrix['Fz']['dR3'][2], sum_gfpMatrix['Fz']['dR3'][3]), axis=0)\n",
    "sum_gfpMatrix['Fz']['dR4']['Sum'] = np.concatenate((sum_gfpMatrix['Fz']['dR4'][2], sum_gfpMatrix['Fz']['dR4'][3]), axis=0)\n",
    "sum_gfpMatrix['Fz']['wt']['Sum'] = np.concatenate((sum_gfpMatrix['Fz']['wt'][2], sum_gfpMatrix['Fz']['wt'][3]), axis=0)\n",
    "sum_r3Matrix['Fz']['dR3']['Sum'] = np.concatenate((sum_r3Matrix['Fz']['dR3'][2], sum_r3Matrix['Fz']['dR3'][3]), axis=0)\n",
    "sum_r3Matrix['Fz']['dR4']['Sum'] = np.concatenate((sum_r3Matrix['Fz']['dR4'][2], sum_r3Matrix['Fz']['dR4'][3]), axis=0)\n",
    "sum_r3Matrix['Fz']['wt']['Sum'] = np.concatenate((sum_r3Matrix['Fz']['wt'][2], sum_r3Matrix['Fz']['wt'][3]), axis=0)"
   ]
  },
  {
   "cell_type": "code",
   "execution_count": null,
   "metadata": {
    "collapsed": true
   },
   "outputs": [],
   "source": [
    "\"\"\" Plot sample images \"\"\"\n",
    "ind = 17\n",
    "print(annot_bundles_dfs_good[3].index[ind])\n",
    "gfp_smp = outputDatas[3]['IntensityMatrix'][0,1,2,ind,:,:,:]\n",
    "r3_smp = outputDatas[3]['IntensityMatrix'][0,2,2,ind,:,:,:]\n",
    "\n",
    "vmax_gfp = np.ceil(np.percentile(sum_gfpMatrix['Fz'][2].flatten(), 90))\n",
    "vmax_r3 = np.ceil(np.percentile(sum_r3Matrix['Fz'][2].flatten(), 90))\n",
    "\n",
    "ylabel = 'Rel. Angle'\n",
    "xlabel = 'Rel. Length'\n",
    "labelParams = ylabel, xlabel\n",
    "\n",
    "plotSummaryMatrix(np.sum(gfp_smp, axis = 2), 'Greens', 10, tickParams, labelParams)\n"
   ]
  },
  {
   "cell_type": "code",
   "execution_count": null,
   "metadata": {
    "collapsed": true
   },
   "outputs": [],
   "source": [
    "plotSummaryMatrix(np.sum(r3_smp, axis = 2), 'Reds', 8, tickParams, labelParams)"
   ]
  },
  {
   "cell_type": "code",
   "execution_count": null,
   "metadata": {
    "collapsed": true
   },
   "outputs": [],
   "source": [
    "vmax_gfp = np.ceil(np.percentile(sum_gfpMatrix['Fz']['wt']['Sum'].flatten(), 95))\n",
    "vmax_r3 = np.ceil(np.percentile(sum_r3Matrix['Fz']['wt']['Sum'].flatten(), 95))\n",
    "\n",
    "ylabel = 'Rel. Angle'\n",
    "xlabel = 'Rel. Length'\n",
    "labelParams = ylabel, xlabel\n",
    "\n",
    "plotSummaryMatrix(np.mean(sum_r3Matrix['Fz']['dR3']['Sum'], axis = 0), 'Reds', vmax_r3, tickParams, labelParams)"
   ]
  },
  {
   "cell_type": "code",
   "execution_count": null,
   "metadata": {
    "collapsed": true,
    "scrolled": true
   },
   "outputs": [],
   "source": [
    "plotSummaryMatrix(np.mean(sum_gfpMatrix['Fz']['dR3']['Sum'], axis = 0), 'Greens', vmax_gfp, tickParams, labelParams)"
   ]
  },
  {
   "cell_type": "code",
   "execution_count": null,
   "metadata": {
    "collapsed": true
   },
   "outputs": [],
   "source": [
    "plotSummaryMatrix(np.mean(sum_r3Matrix['Fz']['wt']['Sum'], axis = 0), 'Reds', vmax_r3, tickParams, labelParams)"
   ]
  },
  {
   "cell_type": "code",
   "execution_count": null,
   "metadata": {
    "collapsed": true
   },
   "outputs": [],
   "source": [
    "plotSummaryMatrix(np.mean(sum_gfpMatrix['Fz']['wt']['Sum'], axis = 0), 'Greens', vmax_gfp, tickParams, labelParams)"
   ]
  },
  {
   "cell_type": "code",
   "execution_count": null,
   "metadata": {
    "collapsed": true
   },
   "outputs": [],
   "source": []
  },
  {
   "cell_type": "code",
   "execution_count": null,
   "metadata": {
    "collapsed": true
   },
   "outputs": [],
   "source": []
  },
  {
   "cell_type": "code",
   "execution_count": null,
   "metadata": {
    "collapsed": true
   },
   "outputs": [],
   "source": []
  },
  {
   "cell_type": "code",
   "execution_count": null,
   "metadata": {
    "collapsed": true
   },
   "outputs": [],
   "source": [
    "vmax_gfp = np.ceil(np.percentile(sum_gfp_ctrl.flatten(), 99))\n",
    "vmax_r3 = np.ceil(np.percentile(sum_r3_ctrl.flatten(), 90))"
   ]
  },
  {
   "cell_type": "code",
   "execution_count": null,
   "metadata": {
    "collapsed": true
   },
   "outputs": [],
   "source": [
    "gfp_ctrl = outputDatas[0]['IntensityMatrix'][0,1,2,:,:,:,:]\n",
    "r3_ctrl = outputDatas[0]['IntensityMatrix'][0,2,2,:,:,:,:]"
   ]
  },
  {
   "cell_type": "code",
   "execution_count": null,
   "metadata": {
    "collapsed": true
   },
   "outputs": [],
   "source": [
    "gfp_ctrl_2 = outputDatas[3]['IntensityMatrix'][0,1,2,:,:,:,:]\n",
    "r3_ctrl_2 = outputDatas[3]['IntensityMatrix'][0,2,2,:,:,:,:]"
   ]
  },
  {
   "cell_type": "code",
   "execution_count": null,
   "metadata": {
    "collapsed": true
   },
   "outputs": [],
   "source": [
    "gfp_ctrl_smp10 = gfp_ctrl[9,:,:,:]\n",
    "r3_ctrl_smp10 = r3_ctrl[9,:,:,:]"
   ]
  },
  {
   "cell_type": "code",
   "execution_count": null,
   "metadata": {
    "collapsed": true,
    "scrolled": true
   },
   "outputs": [],
   "source": [
    "\"\"\"Get min/max params\"\"\"\n",
    "sliceType = 0\n",
    "percentile = 95\n",
    "sum_gfp_ctrl_1 = np.sum(gfp_ctrl, axis = 3)\n",
    "sum_r3_ctrl_1 = np.sum(r3_ctrl, axis = 3)\n",
    "vmax_gfp_ctrl_1 = np.ceil(np.percentile(sum_gfp_ctrl.flatten(), 99))\n",
    "vmax_r3_ctrl_1 = np.ceil(np.percentile(sum_r3_ctrl.flatten(), 90))"
   ]
  },
  {
   "cell_type": "code",
   "execution_count": null,
   "metadata": {
    "collapsed": true
   },
   "outputs": [],
   "source": [
    "sum_gfp_ctrl_2 = np.sum(gfp_ctrl_2, axis = 3)\n",
    "sum_r3_ctrl_2 = np.sum(r3_ctrl_2, axis = 3)\n",
    "vmax_gfp_ctrl_2 = np.ceil(np.percentile(sum_gfp_ctrl_2.flatten(), 99))\n",
    "vmax_r3_ctrl_2 = np.ceil(np.percentile(sum_r3_ctrl_2.flatten(), 90))"
   ]
  },
  {
   "cell_type": "code",
   "execution_count": null,
   "metadata": {
    "collapsed": true
   },
   "outputs": [],
   "source": [
    "# # tickParams = [1, 2, 5, [-1.5, -1, -0.5, 0, 0.5, 1, 1.5]] ### tickTypeX, tickTypeY, tickArg2_X, tickArg2_Y\n",
    "# tickTypeX = 1\n",
    "# tickTypeY = 2\n",
    "# tickArg2_X = 5\n",
    "# tickArg2_Y = [-2, -1.5, -1, -0.5, 0, 0.5, 1, 1.5, 2]\n",
    "\n",
    "# pp = outputDatas[0]['Parameter'][0][0][1]\n",
    "# xTick_ori = np.round(np.linspace(0, radiusExpanseRatio, gfp_ctrl_smp10[:,:,0].shape[1]), 2)\n",
    "# xTicks = my.getTickList(tickTypeX, xTick_ori, tickArg2_X)\n",
    "# yTick_ori = np.round(outputDatas[0]['Parameter'][0][1][0][5], 2)\n",
    "# yTicks = my.getTickList(tickTypeY, yTick_ori, tickArg2_Y)\n",
    "\n",
    "# ax2 =  plt.subplot(111)\n",
    "# #     sns.heatmap(np.sum(intensityMatrix, axis = 2), cmap = colormap, yticklabels = yTicks, xticklabels = xTicks)\n",
    "# # sns.heatmap(np.mean(sum_GFP_matrix, axis = 2), cmap = 'Greens', yticklabels = False, xticklabels = False, vmin = vim, vmax = vmax)\n",
    "# sns.heatmap(np.sum(gfp_ctrl_smp10, axis = 2), cmap = 'Greens', yticklabels = yTicks, xticklabels = xTicks, vmin = 0, vmax = vmax_gfp_ctrl)\n",
    "# # sns.heatmap(gfp_ctrl_smp10[21:22,:,20], cmap = 'Greens')\n",
    "# ax2.set_ylabel('Rel. Angle', fontsize=16)\n",
    "# ax2.set_xlabel('Rel. Length', fontsize=16)\n",
    "# ax2.set_title('Sum over z-stack', fontsize=16)\n",
    "# ax2.invert_yaxis()\n",
    "\n",
    "\n"
   ]
  },
  {
   "cell_type": "code",
   "execution_count": null,
   "metadata": {
    "collapsed": true
   },
   "outputs": [],
   "source": [
    "# ax2 =  plt.subplot(111)\n",
    "# #     sns.heatmap(np.sum(intensityMatrix, axis = 2), cmap = colormap, yticklabels = yTicks, xticklabels = xTicks)\n",
    "# # sns.heatmap(np.mean(sum_R3_matrix, axis = 2), cmap = 'Reds', yticklabels = False, xticklabels = False, vmin = vim, vmax = vmax)\n",
    "# sns.heatmap(np.sum(r3_ctrl_smp10, axis = 2), cmap = 'Reds', yticklabels = yTicks, xticklabels = xTicks, vmin = 0, vmax = vmax_r3_ctrl)\n",
    "\n",
    "\n",
    "# ax2.set_ylabel('Rel. Angle', fontsize=16)\n",
    "# ax2.set_xlabel('Rel. Length', fontsize=16)\n",
    "# ax2.set_title('Sum over z-stack', fontsize=16)\n",
    "# ax2.invert_yaxis()"
   ]
  },
  {
   "cell_type": "code",
   "execution_count": null,
   "metadata": {
    "collapsed": true,
    "scrolled": true
   },
   "outputs": [],
   "source": [
    "vmax_gfp_ctrl, vmax_r3_ctrl"
   ]
  },
  {
   "cell_type": "code",
   "execution_count": null,
   "metadata": {
    "collapsed": true,
    "scrolled": true
   },
   "outputs": [],
   "source": [
    "\"\"\" Control \"\"\""
   ]
  },
  {
   "cell_type": "code",
   "execution_count": null,
   "metadata": {
    "collapsed": true
   },
   "outputs": [],
   "source": [
    "# tickParams = [1, 2, 5, [-1.5, -1, -0.5, 0, 0.5, 1, 1.5]] ### tickTypeX, tickTypeY, tickArg2_X, tickArg2_Y\n",
    "tickTypeX = 1\n",
    "tickTypeY = 2\n",
    "tickArg2_X = 5\n",
    "tickArg2_Y = [-2, -1.5, -1, -0.5, 0, 0.5, 1, 1.5, 2]\n",
    "\n",
    "# pp = outputDatas[0]['Parameter'][0][0][1]\n",
    "xTick_ori = np.round(np.linspace(0, radiusExpanseRatio, sum_gfp_ctrl_1[0,:,:].shape[1]), 2)\n",
    "xTicks = my.getTickList(tickTypeX, xTick_ori, tickArg2_X)\n",
    "yTick_ori = np.round(outputDatas[0]['Parameter'][0][1][0][5], 2)\n",
    "yTicks = my.getTickList(tickTypeY, yTick_ori, tickArg2_Y)\n",
    "\n",
    "ax2 =  plt.subplot(111)\n",
    "#     sns.heatmap(np.sum(intensityMatrix, axis = 2), cmap = colormap, yticklabels = yTicks, xticklabels = xTicks)\n",
    "# sns.heatmap(np.mean(sum_GFP_matrix, axis = 2), cmap = 'Greens', yticklabels = False, xticklabels = False, vmin = vim, vmax = vmax)\n",
    "sns.heatmap(np.mean(sum_gfp_ctrl_1, axis = 0), cmap = 'Greens', yticklabels = yTicks, xticklabels = xTicks, vmin = 0, vmax = vmax_gfp_ctrl_1)\n",
    "ax2.set_ylabel('Angle', fontsize=16)\n",
    "ax2.set_xlabel('length from R-heel', fontsize=16)\n",
    "ax2.set_title('Sum over z-stack', fontsize=16)\n",
    "ax2.invert_yaxis()\n",
    "\n"
   ]
  },
  {
   "cell_type": "code",
   "execution_count": null,
   "metadata": {
    "collapsed": true,
    "scrolled": false
   },
   "outputs": [],
   "source": [
    "ax2 =  plt.subplot(111)\n",
    "#     sns.heatmap(np.sum(intensityMatrix, axis = 2), cmap = colormap, yticklabels = yTicks, xticklabels = xTicks)\n",
    "# sns.heatmap(np.mean(sum_R3_matrix, axis = 2), cmap = 'Reds', yticklabels = False, xticklabels = False, vmin = vim, vmax = vmax)\n",
    "sns.heatmap(np.mean(sum_r3_ctrl_1, axis = 0), cmap = 'Reds', yticklabels = yTicks, xticklabels = xTicks, vmin = 0, vmax = vmax_r3_ctrl_1)\n",
    "ax2.set_ylabel('Angle', fontsize=16)\n",
    "ax2.set_xlabel('length from R-heel', fontsize=16)\n",
    "ax2.set_title('Sum over z-stack', fontsize=16)\n",
    "ax2.invert_yaxis()"
   ]
  },
  {
   "cell_type": "code",
   "execution_count": null,
   "metadata": {
    "collapsed": true
   },
   "outputs": [],
   "source": [
    "\"Control-2\""
   ]
  },
  {
   "cell_type": "code",
   "execution_count": null,
   "metadata": {
    "collapsed": true
   },
   "outputs": [],
   "source": [
    "# tickParams = [1, 2, 5, [-1.5, -1, -0.5, 0, 0.5, 1, 1.5]] ### tickTypeX, tickTypeY, tickArg2_X, tickArg2_Y\n",
    "tickTypeX = 1\n",
    "tickTypeY = 2\n",
    "tickArg2_X = 5\n",
    "tickArg2_Y = [-2, -1.5, -1, -0.5, 0, 0.5, 1, 1.5, 2]\n",
    "\n",
    "# pp = outputDatas[0]['Parameter'][0][0][1]\n",
    "xTick_ori = np.round(np.linspace(0, radiusExpanseRatio, sum_gfp_ctrl[0,:,:].shape[1]), 2)\n",
    "xTicks = my.getTickList(tickTypeX, xTick_ori, tickArg2_X)\n",
    "# yTick_ori = np.round(pp[5], 2)\n",
    "yTicks = my.getTickList(tickTypeY, yTick_ori, tickArg2_Y)\n",
    "\n",
    "ax2 =  plt.subplot(111)\n",
    "#     sns.heatmap(np.sum(intensityMatrix, axis = 2), cmap = colormap, yticklabels = yTicks, xticklabels = xTicks)\n",
    "# sns.heatmap(np.mean(sum_GFP_matrix, axis = 2), cmap = 'Greens', yticklabels = False, xticklabels = False, vmin = vim, vmax = vmax)\n",
    "sns.heatmap(np.mean(sum_gfp_ctrl_2, axis = 0), cmap = 'Greens', yticklabels = yTicks, xticklabels = xTicks, vmin = 0, vmax = vmax_gfp_ctrl_2)\n",
    "ax2.set_ylabel('Angle', fontsize=16)\n",
    "ax2.set_xlabel('length from R-heel', fontsize=16)\n",
    "ax2.set_title('Sum over z-stack', fontsize=16)\n",
    "ax2.invert_yaxis()"
   ]
  },
  {
   "cell_type": "code",
   "execution_count": null,
   "metadata": {
    "collapsed": true,
    "scrolled": true
   },
   "outputs": [],
   "source": [
    "ax2 =  plt.subplot(111)\n",
    "#     sns.heatmap(np.sum(intensityMatrix, axis = 2), cmap = colormap, yticklabels = yTicks, xticklabels = xTicks)\n",
    "# sns.heatmap(np.mean(sum_R3_matrix, axis = 2), cmap = 'Reds', yticklabels = False, xticklabels = False, vmin = vim, vmax = vmax)\n",
    "sns.heatmap(np.mean(sum_r3_ctrl_2, axis = 0), cmap = 'Reds', yticklabels = yTicks, xticklabels = xTicks, vmin = 0, vmax = vmax_r3_ctrl_2)\n",
    "ax2.set_ylabel('Angle', fontsize=16)\n",
    "ax2.set_xlabel('length from R-heel', fontsize=16)\n",
    "ax2.set_title('Sum over z-stack', fontsize=16)\n",
    "ax2.invert_yaxis()"
   ]
  },
  {
   "cell_type": "code",
   "execution_count": null,
   "metadata": {
    "collapsed": true
   },
   "outputs": [],
   "source": [
    "\"Sum of controls\""
   ]
  },
  {
   "cell_type": "code",
   "execution_count": null,
   "metadata": {
    "collapsed": true,
    "scrolled": true
   },
   "outputs": [],
   "source": [
    "sum_r3_ctrl_2.shape"
   ]
  },
  {
   "cell_type": "code",
   "execution_count": null,
   "metadata": {
    "collapsed": true,
    "scrolled": true
   },
   "outputs": [],
   "source": [
    "sum_r3_ctrl_1.shape"
   ]
  },
  {
   "cell_type": "code",
   "execution_count": null,
   "metadata": {
    "collapsed": true
   },
   "outputs": [],
   "source": [
    "sum_gfp_ctrl = np.concatenate((sum_gfp_ctrl_2, sum_gfp_ctrl_1), axis=0, out=None)\n",
    "sum_r3_ctrl = np.concatenate((sum_r3_ctrl_2, sum_r3_ctrl_1), axis=0, out=None)"
   ]
  },
  {
   "cell_type": "code",
   "execution_count": null,
   "metadata": {
    "collapsed": true
   },
   "outputs": [],
   "source": [
    "vmax_gfp_ctrl = np.ceil(np.percentile(sum_gfp_ctrl.flatten(), 95))\n",
    "vmax_r3_ctrl = np.ceil(np.percentile(sum_r3_ctrl.flatten(), 90))"
   ]
  },
  {
   "cell_type": "code",
   "execution_count": null,
   "metadata": {
    "collapsed": true
   },
   "outputs": [],
   "source": [
    "ax2 =  plt.subplot(111)\n",
    "#     sns.heatmap(np.sum(intensityMatrix, axis = 2), cmap = colormap, yticklabels = yTicks, xticklabels = xTicks)\n",
    "# sns.heatmap(np.mean(sum_GFP_matrix, axis = 2), cmap = 'Greens', yticklabels = False, xticklabels = False, vmin = vim, vmax = vmax)\n",
    "sns.heatmap(np.mean(sum_gfp_ctrl, axis = 0), cmap = 'Greens', yticklabels = yTicks, xticklabels = xTicks, vmin = 0, vmax = vmax_gfp_ctrl)\n",
    "ax2.set_ylabel('Angle', fontsize=16)\n",
    "ax2.set_xlabel('length from R-heel', fontsize=16)\n",
    "ax2.set_title('Sum over z-stack', fontsize=16)\n",
    "ax2.invert_yaxis()"
   ]
  },
  {
   "cell_type": "code",
   "execution_count": null,
   "metadata": {
    "collapsed": true
   },
   "outputs": [],
   "source": [
    "ax2 =  plt.subplot(111)\n",
    "#     sns.heatmap(np.sum(intensityMatrix, axis = 2), cmap = colormap, yticklabels = yTicks, xticklabels = xTicks)\n",
    "# sns.heatmap(np.mean(sum_R3_matrix, axis = 2), cmap = 'Reds', yticklabels = False, xticklabels = False, vmin = vim, vmax = vmax)\n",
    "sns.heatmap(np.mean(sum_r3_ctrl, axis = 0), cmap = 'Reds', yticklabels = yTicks, xticklabels = xTicks, vmin = 0, vmax = vmax_r3_ctrl)\n",
    "ax2.set_ylabel('Angle', fontsize=16)\n",
    "ax2.set_xlabel('length from R-heel', fontsize=16)\n",
    "ax2.set_title('Sum over z-stack', fontsize=16)\n",
    "ax2.invert_yaxis()"
   ]
  },
  {
   "cell_type": "code",
   "execution_count": null,
   "metadata": {
    "collapsed": true
   },
   "outputs": [],
   "source": [
    "\"Fz-1\""
   ]
  },
  {
   "cell_type": "code",
   "execution_count": null,
   "metadata": {
    "collapsed": true
   },
   "outputs": [],
   "source": [
    "annot_bundles_dfs_good[1].index"
   ]
  },
  {
   "cell_type": "code",
   "execution_count": null,
   "metadata": {
    "collapsed": true
   },
   "outputs": [],
   "source": [
    "gfp_fz1 = outputDatas[1]['IntensityMatrix'][0,1,2,:,:,:,:]\n",
    "r3_fz1_R3 = outputDatas[1]['IntensityMatrix'][0,2,0,:,:,:,:]\n",
    "r3_fz1_R4 = outputDatas[1]['IntensityMatrix'][0,2,1,:,:,:,:]\n",
    "r3_fz1_T0 = outputDatas[1]['IntensityMatrix'][0,2,2,:,:,:,:]"
   ]
  },
  {
   "cell_type": "code",
   "execution_count": null,
   "metadata": {
    "collapsed": true
   },
   "outputs": [],
   "source": [
    "a = list(annot_bundles_dfs_good[2].index)\n",
    "a.index(34)"
   ]
  },
  {
   "cell_type": "code",
   "execution_count": null,
   "metadata": {
    "collapsed": true
   },
   "outputs": [],
   "source": [
    "annot_bundles_dfs_good[2].index"
   ]
  },
  {
   "cell_type": "code",
   "execution_count": null,
   "metadata": {
    "collapsed": true
   },
   "outputs": [],
   "source": [
    "gfp_fz2 = outputDatas[2]['IntensityMatrix'][0,1,2,:,:,:,:]\n",
    "gfp_fz2 = outputDatas[2]['IntensityMatrix'][0,2,2,:,:,:,:]"
   ]
  },
  {
   "cell_type": "code",
   "execution_count": null,
   "metadata": {
    "collapsed": true
   },
   "outputs": [],
   "source": [
    "fz2_type1_list = [a.index(34), a.index(40), a.index(48), a.index(98)]#34, 40, 48, 98\n",
    "fz2_type2_list = [a.index(18), a.index(38), a.index(41), a.index(44), a.index(45), a.index(52)]#18, 38, 41, 44, 45, 52"
   ]
  },
  {
   "cell_type": "code",
   "execution_count": null,
   "metadata": {
    "collapsed": true
   },
   "outputs": [],
   "source": [
    "fz1_type1_list = [1, 4,8,11] #6,8,27,34\n",
    "fz1_type2_list = [3, 5, 12]#13, 16, 35"
   ]
  },
  {
   "cell_type": "code",
   "execution_count": null,
   "metadata": {
    "collapsed": true
   },
   "outputs": [],
   "source": [
    "ind = 4;\n",
    "gfp_fz = gfp_fz1[ind,:,:,:]\n",
    "r3_fz = r3_fz1_T0[ind,:,:,:]"
   ]
  },
  {
   "cell_type": "code",
   "execution_count": null,
   "metadata": {
    "collapsed": true
   },
   "outputs": [],
   "source": [
    "gfp_fz1_type1 = gfp_fz1[fz1_type1_list,:,:,:]\n",
    "gfp_fz1_type2 = gfp_fz1[fz1_type2_list,:,:,:]\n",
    "\n",
    "r3_fz1_R4_type1 = r3_fz1_R4[fz1_type1_list,:,:,:]\n",
    "r3_fz1_R4_type2 = r3_fz1_R4[fz1_type2_list,:,:,:]\n",
    "\n",
    "r3_fz1_R3_type1 = r3_fz1_R3[fz1_type1_list,:,:,:]\n",
    "r3_fz1_R3_type2 = r3_fz1_R3[fz1_type2_list,:,:,:]\n",
    "\n",
    "r3_fz1_T0_type1 = r3_fz1_T0[fz1_type1_list,:,:,:]\n",
    "r3_fz1_T0_type2 = r3_fz1_T0[fz1_type2_list,:,:,:]"
   ]
  },
  {
   "cell_type": "code",
   "execution_count": null,
   "metadata": {
    "collapsed": true,
    "scrolled": true
   },
   "outputs": [],
   "source": [
    "\"\"\"Get min/max params\"\"\"\n",
    "sliceType = 0\n",
    "sum_GFP_matrix = np.sum(gfp_fz1_type1, axis = 3)\n",
    "sum_r3_R3_matrix = np.sum(r3_fz1_R3_type1, axis = 3)\n",
    "sum_r3_R4_matrix = np.sum(r3_fz1_R4_type1, axis = 3)\n",
    "sum_r3_T0_matrix = np.sum(r3_fz1_T0_type1, axis = 3)\n",
    "\n",
    "vmax_GFP = np.ceil(np.percentile(sum_GFP_matrix.flatten(), 99))\n",
    "vmax_R3 = np.ceil(np.percentile(sum_r3_R3_matrix.flatten(), 90))\n",
    "\n",
    "\n",
    "\n",
    "vmax_GFP, vmax_R3\n",
    "\n"
   ]
  },
  {
   "cell_type": "code",
   "execution_count": null,
   "metadata": {
    "collapsed": true
   },
   "outputs": [],
   "source": [
    "# tickParams = [1, 2, 5, [-1.5, -1, -0.5, 0, 0.5, 1, 1.5]] ### tickTypeX, tickTypeY, tickArg2_X, tickArg2_Y\n",
    "tickTypeX = 1\n",
    "tickTypeY = 2\n",
    "tickArg2_X = 5\n",
    "tickArg2_Y = [-2, -1.5, -1, -0.5, 0, 0.5, 1, 1.5, 2]\n",
    "\n",
    "pp = outputDatas[0]['Parameter'][0][0][1]\n",
    "xTick_ori = np.round(np.linspace(0, radiusExpanseRatio, sum_GFP_matrix[0,:,:].shape[1]), 2)\n",
    "xTicks = my.getTickList(tickTypeX, xTick_ori, tickArg2_X)\n",
    "yTick_ori = np.round(outputDatas[0]['Parameter'][0][1][0][5], 2)\n",
    "yTicks = my.getTickList(tickTypeY, yTick_ori, tickArg2_Y)\n",
    "\n",
    "ax2 =  plt.subplot(111)\n",
    "#     sns.heatmap(np.sum(intensityMatrix, axis = 2), cmap = colormap, yticklabels = yTicks, xticklabels = xTicks)\n",
    "# sns.heatmap(np.mean(sum_GFP_matrix, axis = 2), cmap = 'Greens', yticklabels = False, xticklabels = False, vmin = vim, vmax = vmax)\n",
    "sns.heatmap(np.sum(gfp_fz, axis = 2), cmap = 'Greens', yticklabels = yTicks, xticklabels = xTicks, vmin = 0, vmax = vmax_GFP)\n",
    "ax2.set_ylabel('Angle', fontsize=16)\n",
    "ax2.set_xlabel('length from R-heel', fontsize=16)\n",
    "ax2.set_title('Sum over z-stack', fontsize=16)\n",
    "ax2.invert_yaxis()"
   ]
  },
  {
   "cell_type": "code",
   "execution_count": null,
   "metadata": {
    "collapsed": true
   },
   "outputs": [],
   "source": [
    "ax2 =  plt.subplot(111)\n",
    "#     sns.heatmap(np.sum(intensityMatrix, axis = 2), cmap = colormap, yticklabels = yTicks, xticklabels = xTicks)\n",
    "# sns.heatmap(np.mean(sum_r3_T0_matrix, axis = 0), cmap = 'Reds', yticklabels = yTicks, xticklabels = xTicks, vmin = 0, vmax = vmax_R3)\n",
    "sns.heatmap(np.sum(r3_fz, axis = 2), cmap = 'Reds', yticklabels = yTicks, xticklabels = xTicks, vmin = 0, vmax = vmax_R3)\n",
    "ax2.set_ylabel('Angle', fontsize=16)\n",
    "ax2.set_xlabel('length from R-heel', fontsize=16)\n",
    "ax2.set_title('Sum over z-stack', fontsize=16)\n",
    "ax2.invert_yaxis()"
   ]
  },
  {
   "cell_type": "code",
   "execution_count": null,
   "metadata": {
    "collapsed": true
   },
   "outputs": [],
   "source": [
    "ax2 =  plt.subplot(111)\n",
    "#     sns.heatmap(np.sum(intensityMatrix, axis = 2), cmap = colormap, yticklabels = yTicks, xticklabels = xTicks)\n",
    "# sns.heatmap(np.mean(sum_R3_matrix, axis = 2), cmap = 'Reds', yticklabels = False, xticklabels = False, vmin = vim, vmax = vmax)\n",
    "sns.heatmap(np.mean(sum_r3_R3_matrix, axis = 0), cmap = 'Reds', yticklabels = yTicks, xticklabels = xTicks, vmin = 0, vmax = vmax_R3)\n",
    "ax2.set_ylabel('Angle', fontsize=16)\n",
    "ax2.set_xlabel('length from R-heel', fontsize=16)\n",
    "ax2.set_title('Sum over z-stack', fontsize=16)\n",
    "ax2.invert_yaxis()"
   ]
  },
  {
   "cell_type": "code",
   "execution_count": null,
   "metadata": {
    "collapsed": true
   },
   "outputs": [],
   "source": [
    "ax2 =  plt.subplot(111)\n",
    "#     sns.heatmap(np.sum(intensityMatrix, axis = 2), cmap = colormap, yticklabels = yTicks, xticklabels = xTicks)\n",
    "# sns.heatmap(np.mean(sum_R3_matrix, axis = 2), cmap = 'Reds', yticklabels = False, xticklabels = False, vmin = vim, vmax = vmax)\n",
    "sns.heatmap(np.mean(sum_r3_R4_matrix, axis = 0), cmap = 'Reds', yticklabels = yTicks, xticklabels = xTicks, vmin = 0, vmax = vmax_R3)\n",
    "ax2.set_ylabel('Angle', fontsize=16)\n",
    "ax2.set_xlabel('length from R-heel', fontsize=16)\n",
    "ax2.set_title('Sum over z-stack', fontsize=16)\n",
    "ax2.invert_yaxis()"
   ]
  },
  {
   "cell_type": "code",
   "execution_count": null,
   "metadata": {
    "collapsed": true
   },
   "outputs": [],
   "source": [
    "ax2 =  plt.subplot(111)\n",
    "#     sns.heatmap(np.sum(intensityMatrix, axis = 2), cmap = colormap, yticklabels = yTicks, xticklabels = xTicks)\n",
    "# sns.heatmap(np.mean(sum_R3_matrix, axis = 2), cmap = 'Reds', yticklabels = False, xticklabels = False, vmin = vim, vmax = vmax)\n",
    "sns.heatmap(np.mean(sum_r3_T0_matrix, axis = 0), cmap = 'Reds', yticklabels = yTicks, xticklabels = xTicks, vmin = 0, vmax = vmax_R3)\n",
    "ax2.set_ylabel('Angle', fontsize=16)\n",
    "ax2.set_xlabel('length from R-heel', fontsize=16)\n",
    "ax2.set_title('Sum over z-stack', fontsize=16)\n",
    "ax2.invert_yaxis()"
   ]
  },
  {
   "cell_type": "code",
   "execution_count": null,
   "metadata": {
    "collapsed": true
   },
   "outputs": [],
   "source": [
    "\"\"\"Get min/max params\"\"\"\n",
    "sliceType = 0\n",
    "sum_GFP_matrix = np.sum(gfp_fz1_type2, axis = 3)\n",
    "sum_r3_R3_matrix = np.sum(r3_fz1_R3_type2, axis = 3)\n",
    "sum_r3_R4_matrix = np.sum(r3_fz1_R4_type2, axis = 3)\n",
    "sum_r3_T0_matrix = np.sum(r3_fz1_T0_type2, axis = 3)\n",
    "\n",
    "# vmax_GFP = np.ceil(np.percentile(sum_GFP_matrix.flatten(), 99))\n",
    "# vmax_R3 = np.ceil(np.percentile(sum_r3_R3_matrix.flatten(), 95))\n",
    "\n",
    "\n",
    "\n",
    "vmax_GFP, vmax_R3\n",
    "\n",
    "# tickParams = [1, 2, 5, [-1.5, -1, -0.5, 0, 0.5, 1, 1.5]] ### tickTypeX, tickTypeY, tickArg2_X, tickArg2_Y\n",
    "tickTypeX = 1\n",
    "tickTypeY = 2\n",
    "tickArg2_X = 5\n",
    "tickArg2_Y = [-1.5, -1, -0.5, 0, 0.5, 1, 1.5]\n",
    "\n",
    "pp = outputDatas[0]['Parameter'][0][0][1]\n",
    "xTick_ori = np.round(np.linspace(0, radiusExpanseRatio, sum_GFP_matrix[0,:,:].shape[1]), 2)\n",
    "xTicks = my.getTickList(tickTypeX, xTick_ori, tickArg2_X)\n",
    "yTick_ori = np.round(pp[5], 2)\n",
    "yTicks = my.getTickList(tickTypeY, yTick_ori, tickArg2_Y)\n",
    "\n",
    "ax2 =  plt.subplot(111)\n",
    "#     sns.heatmap(np.sum(intensityMatrix, axis = 2), cmap = colormap, yticklabels = yTicks, xticklabels = xTicks)\n",
    "# sns.heatmap(np.mean(sum_GFP_matrix, axis = 2), cmap = 'Greens', yticklabels = False, xticklabels = False, vmin = vim, vmax = vmax)\n",
    "sns.heatmap(np.mean(sum_GFP_matrix, axis = 0), cmap = 'Greens', yticklabels = yTicks, xticklabels = xTicks, vmin = 0, vmax = vmax_GFP)\n",
    "ax2.set_ylabel('Angle', fontsize=16)\n",
    "ax2.set_xlabel('length from R-heel', fontsize=16)\n",
    "ax2.set_title('Sum over z-stack', fontsize=16)\n",
    "ax2.invert_yaxis()"
   ]
  },
  {
   "cell_type": "code",
   "execution_count": null,
   "metadata": {
    "collapsed": true
   },
   "outputs": [],
   "source": [
    "ax2 =  plt.subplot(111)\n",
    "#     sns.heatmap(np.sum(intensityMatrix, axis = 2), cmap = colormap, yticklabels = yTicks, xticklabels = xTicks)\n",
    "# sns.heatmap(np.mean(sum_R3_matrix, axis = 2), cmap = 'Reds', yticklabels = False, xticklabels = False, vmin = vim, vmax = vmax)\n",
    "sns.heatmap(np.mean(sum_r3_T0_matrix, axis = 0), cmap = 'Reds', yticklabels = yTicks, xticklabels = xTicks, vmin = 0, vmax = vmax_R3)\n",
    "ax2.set_ylabel('Angle', fontsize=16)\n",
    "ax2.set_xlabel('length from R-heel', fontsize=16)\n",
    "ax2.set_title('Sum over z-stack', fontsize=16)\n",
    "ax2.invert_yaxis()"
   ]
  },
  {
   "cell_type": "code",
   "execution_count": null,
   "metadata": {
    "collapsed": true
   },
   "outputs": [],
   "source": []
  }
 ],
 "metadata": {
  "kernelspec": {
   "display_name": "Python 3",
   "language": "python",
   "name": "python3"
  },
  "language_info": {
   "codemirror_mode": {
    "name": "ipython",
    "version": 3
   },
   "file_extension": ".py",
   "mimetype": "text/x-python",
   "name": "python",
   "nbconvert_exporter": "python",
   "pygments_lexer": "ipython3",
   "version": "3.7.3"
  }
 },
 "nbformat": 4,
 "nbformat_minor": 2
}
