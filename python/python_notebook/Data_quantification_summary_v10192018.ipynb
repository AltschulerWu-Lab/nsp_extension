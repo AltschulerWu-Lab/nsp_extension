{
 "cells": [
  {
   "cell_type": "code",
   "execution_count": 2,
   "metadata": {},
   "outputs": [],
   "source": [
    "%matplotlib inline\n",
    "\n",
    "import io, os, sys, types, time\n",
    "\n",
    "from IPython import get_ipython\n",
    "from nbformat import read\n",
    "from IPython.core.interactiveshell import InteractiveShell\n",
    "\n",
    "import pandas as pd\n",
    "\n",
    "import matplotlib\n",
    "import matplotlib.pyplot as plt\n",
    "\n",
    "import numpy as np\n",
    "from numpy.linalg import eig, inv\n",
    "\n",
    "import math\n",
    "\n",
    "from scipy import interpolate, spatial, stats\n",
    "\n",
    "import seaborn as sns\n",
    "\n",
    "import skimage.io as skiIo\n",
    "from skimage import exposure, img_as_float\n",
    "\n",
    "from sklearn import linear_model\n",
    "from sklearn import metrics\n",
    "\n",
    "# import cv2\n",
    "\n",
    "import pickle\n",
    "\n"
   ]
  },
  {
   "cell_type": "code",
   "execution_count": 3,
   "metadata": {},
   "outputs": [
    {
     "ename": "ModuleNotFoundError",
     "evalue": "No module named 'Data_quantification_functions_v0522'",
     "output_type": "error",
     "traceback": [
      "\u001b[1;31m---------------------------------------------------------------------------\u001b[0m",
      "\u001b[1;31mModuleNotFoundError\u001b[0m                       Traceback (most recent call last)",
      "\u001b[1;32m<ipython-input-3-cfae92f327ca>\u001b[0m in \u001b[0;36m<module>\u001b[1;34m\u001b[0m\n\u001b[1;32m----> 1\u001b[1;33m \u001b[1;32mimport\u001b[0m \u001b[0mData_quantification_functions_v0522\u001b[0m \u001b[1;32mas\u001b[0m \u001b[0mmy\u001b[0m\u001b[1;33m\u001b[0m\u001b[1;33m\u001b[0m\u001b[0m\n\u001b[0m",
      "\u001b[1;31mModuleNotFoundError\u001b[0m: No module named 'Data_quantification_functions_v0522'"
     ]
    }
   ],
   "source": [
    "import Data_quantification_functions_v0522 as my"
   ]
  },
  {
   "cell_type": "code",
   "execution_count": 4,
   "metadata": {
    "scrolled": true
   },
   "outputs": [
    {
     "data": {
      "text/plain": [
       "' ============== path settings =============='"
      ]
     },
     "execution_count": 4,
     "metadata": {},
     "output_type": "execute_result"
    }
   ],
   "source": [
    "\"\"\" ============== path settings ==============\"\"\""
   ]
  },
  {
   "cell_type": "code",
   "execution_count": 5,
   "metadata": {},
   "outputs": [],
   "source": [
    "global isMac\n",
    "isMac = False\n",
    "\n",
    "if(isMac):\n",
    "    supPrefix = '/Users/lily/Lily/Academic/AW_Lab/data/fate_switching_gfp_rfp_old/'\n",
    "    dataPrefix = os.path.join(supPrefix, 'Data')\n",
    "    figOutPrefix = os.path.join(supPrefix, 'Output', 'FigureOutput_v0422')\n",
    "    dataOutPrefix = os.path.join(supPrefix, 'Output', 'DataOutput_v0422')\n",
    "#     figOutPrefix = '/Users/lily/Lily/Academic/AW_Lab/Projects/NSP/Codes/python_v0415/Materials_trial/Output/FigureOutput'\n",
    "#     dataOutPrefix = '/Users/lily/Lily/Academic/AW_Lab/Projects/NSP/Codes/python_v0415/Materials_trial/Output/DataOutput'\n",
    "else:\n",
    "    supPrefix = 'Z:\\\\lab\\\\Projects\\\\NSP\\\\Data_Analysis\\\\Experiments\\\\Fate_Switching\\\\GFP_RFP\\\\Summaries\\\\ver2018'\n",
    "    dataPrefix = dataPrefix = os.path.join(supPrefix, 'Data')\n",
    "    figOutPrefix = figOutPrefix = os.path.join(supPrefix, 'FigureOutput_v0422')\n",
    "    dataOutPrefix = dataOutPrefix = os.path.join(supPrefix, 'DataOutput_v0422')"
   ]
  },
  {
   "cell_type": "code",
   "execution_count": 6,
   "metadata": {},
   "outputs": [
    {
     "data": {
      "text/plain": [
       "' ============== Golbal variables and parameters =============='"
      ]
     },
     "execution_count": 6,
     "metadata": {},
     "output_type": "execute_result"
    }
   ],
   "source": [
    "\"\"\" ============== Golbal variables and parameters ==============\"\"\""
   ]
  },
  {
   "cell_type": "code",
   "execution_count": null,
   "metadata": {},
   "outputs": [],
   "source": [
    "### global variables\n",
    "global ColorCode, targetIndexMatch, bins, channel_mapping\n",
    "ColorCode = {1:'#00FFFF', 2:'#1FF509', 3: '#FF0000', 4: '#CFCF1C', 5: '#FF00FF', 6: '#FFAE01', 7:'#FF0000', 0:'#FFFFFF'}\n",
    "targetIndexMatch = {0:0, 1:2, 2:3, 3:4, 4:5, 5:7}\n",
    "bins = 4096\n",
    "channel_mapping = {'RFP':0, 'GFP':1, 'R3':2, 'R4':3, 'Cy5':4, 0:'RFP', 1:'GFP', 2:'R3', 3:'R4', 4:'Cy5'}"
   ]
  },
  {
   "cell_type": "code",
   "execution_count": null,
   "metadata": {},
   "outputs": [],
   "source": [
    "### analysis parameters\n",
    "radiusExpanseRatio = 1.5\n",
    "num_angleSection = 20\n",
    "num_outsideAngle = 10\n",
    "num_Xsection = 20\n",
    "z_offset = 25\n",
    "analysisParams = [num_angleSection, num_outsideAngle, num_Xsection, z_offset, radiusExpanseRatio]"
   ]
  },
  {
   "cell_type": "code",
   "execution_count": null,
   "metadata": {
    "scrolled": true
   },
   "outputs": [],
   "source": [
    "\"\"\"============== main ==============\"\"\""
   ]
  },
  {
   "cell_type": "code",
   "execution_count": null,
   "metadata": {},
   "outputs": [],
   "source": [
    "### file parameters\n",
    "# file folders\n",
    "imageFolder = 'Images'\n",
    "ROIFolder = 'ROIs'\n",
    "summaryFolder = 'Summaries'\n",
    "\n",
    "# file name\n",
    "summaryNames = {}\n",
    "summaryNames['Control'] = ('Control_s1r1_summary.csv','Control_s3r1_summary.csv')\n",
    "summaryNames['Fz'] = ('Fz_s1r1_summary.csv', 'Fz_s4r1_summary.csv')\n",
    "summaryNames['Nic'] = ('Ni_s2r1_summary.csv', 'Ni_s1r1_summary.csv', 'Ni_s3r1_summary.csv', 'Ni_s4r1_summary.csv')"
   ]
  },
  {
   "cell_type": "code",
   "execution_count": null,
   "metadata": {},
   "outputs": [],
   "source": [
    "sumNames = ['Control_s1r1_summary.csv', 'Control_s3r1_summary.csv', 'Fz_s1r1_summary.csv', 'Fz_s4r1_summary.csv','Ni_s2r1_summary.csv', 'Ni_s3r1_summary.csv', 'Ni_s4r1_summary.csv', 'Ni_s2r1_summary.csv']\n",
    "Categories = ['Control', 'Control', 'Fz', 'Fz', 'Nic', 'Nic', 'Nic', 'Nic']\n",
    "dataNames = ['Control_sample1_region1_v2019422.pickle', 'Control_sample3_region1_v2019423.pickle', 'Fz_sample1_region1_v2019422.pickle', 'Fz_sample4_region1_v2019422.pickle', 'Nic_sample1_region1_v2019422.pickle', 'Nic_sample2_region1_v2019422.pickle', 'Nic_sample3_region1_v2019422.pickle', 'Nic_sample4_region1_v2019422.pickle']"
   ]
  },
  {
   "cell_type": "code",
   "execution_count": null,
   "metadata": {
    "scrolled": true
   },
   "outputs": [],
   "source": [
    "\"\"\"Load data\"\"\"\n",
    "Images = {}\n",
    "ROI_dfs = {}\n",
    "annot_dfs = {}\n",
    "image_shapes = {}\n",
    "M2P_ratios = {}\n",
    "bundles_dfs = {}\n",
    "annot_bundles_dfs = {}\n",
    "annot_bundles_dfs_good = {}\n",
    "for i in range(len(sumNames)):\n",
    "    print(i)\n",
    "    sumName = sumNames[i]\n",
    "    summary_df = pd.read_csv(os.path.join(dataPrefix, summaryFolder, sumName))\n",
    "    image_list = summary_df.loc[:,'Image_Name'].unique()\n",
    "    ROI_list = summary_df.loc[:,'ROI_Name'].unique()\n",
    "    imageName = image_list[0]\n",
    "    ROIName = ROI_list[0]\n",
    "#     %time Images[i] = img_as_float(skiIo.imread(os.path.join(imgDataPrefix, imageName)))\n",
    "    ROI_dfs[i] = pd.read_csv(os.path.join(dataPrefix, ROIFolder, ROIName))\n",
    "    ROI_dfs[i].rename(columns = {' ':'No'}, inplace = True)\n",
    "    annot_dfs[i] = summary_df.groupby(['Image_Name']).get_group(image_list[0]).reset_index(drop = True)\n",
    "#     image_shapes[i] = (Images[i].shape[0], Images[i].shape[1], Images[i].shape[2])\n",
    "    M2P_ratios[i] = (summary_df.iloc[0]['imgX_pixel']/summary_df.iloc[0]['imgX_um'], summary_df.iloc[0]['imgY_pixel']/summary_df.iloc[0]['imgY_um'])\n",
    "    bundles_dfs[i] = my.getBundlesInfo(ROI_dfs[i], annot_dfs[i], M2P_ratios[i][0], M2P_ratios[i][1])\n",
    "    annot_bundles_dfs[i] = bundles_dfs[i].dropna(axis=0, how='any', inplace = False)\n",
    "    annot_bundles_dfs_good[i] = my.Good_QC_df(annot_bundles_dfs[i])"
   ]
  },
  {
   "cell_type": "code",
   "execution_count": null,
   "metadata": {},
   "outputs": [],
   "source": [
    "len(annot_bundles_dfs_good[3])"
   ]
  },
  {
   "cell_type": "code",
   "execution_count": null,
   "metadata": {
    "scrolled": true
   },
   "outputs": [],
   "source": [
    "\"\"\" Load IntensityMatrix Data \"\"\"\n",
    "outputDatas = {}\n",
    "for i in range(len(dataNames)):\n",
    "    print(i)\n",
    "    inputname = os.path.join(dataOutPrefix, Categories[i], dataNames[i])\n",
    "    pickle_in = open(inputname,\"rb\")\n",
    "    outputDatas[i] = pickle.load(pickle_in)"
   ]
  },
  {
   "cell_type": "code",
   "execution_count": null,
   "metadata": {},
   "outputs": [],
   "source": []
  },
  {
   "cell_type": "code",
   "execution_count": null,
   "metadata": {},
   "outputs": [],
   "source": [
    "list(set(Categories))"
   ]
  },
  {
   "cell_type": "code",
   "execution_count": null,
   "metadata": {},
   "outputs": [],
   "source": [
    "\"\"\" Parameters \"\"\"\n",
    "relAxisParams = outputDatas[0]['Parameter'][0][1][0]\n",
    "xTicks_ori = np.round(np.linspace(0, radiusExpanseRatio, num_Xsection+1), 2)\n",
    "yTicks_ori = relAxisParams[5]*-1"
   ]
  },
  {
   "cell_type": "code",
   "execution_count": null,
   "metadata": {},
   "outputs": [],
   "source": [
    "tickTypeX = 1\n",
    "tickTypeY = 2\n",
    "tickArg2_X = 5\n",
    "tickArg2_Y = [-2, -1,0, 1, 2]\n",
    "tickParams = xTicks_ori, yTicks_ori, tickTypeX, tickTypeY, tickArg2_X, tickArg2_Y "
   ]
  },
  {
   "cell_type": "code",
   "execution_count": null,
   "metadata": {},
   "outputs": [],
   "source": [
    "def getIndexList(bundles_df):\n",
    "    doubleR3List = []\n",
    "    doubleR4List = []\n",
    "    wtList = []\n",
    "    \n",
    "    for ind in range(bundles_df.shape[0]):    \n",
    "        if((bundles_df.iloc[ind]['FL_R4'] == 0) & (bundles_df.iloc[ind]['FL_R3'] == 2)):\n",
    "#             print('two R3: ', str(ind))\n",
    "            doubleR3List.append(ind)\n",
    "        elif((bundles_df.iloc[ind]['FL_R4'] == 1) & (bundles_df.iloc[ind]['FL_R3'] == 1)):\n",
    "#             print('WT: ', str(ind))\n",
    "            wtList.append(ind)\n",
    "        elif((bundles_df.iloc[ind]['FL_R4'] == 2) & (bundles_df.iloc[ind]['FL_R3'] == 0)):\n",
    "#             print('two R4: ', str(ind))\n",
    "            doubleR4List.append(ind)\n",
    "#     print(doubleR3List)\n",
    "    return (doubleR3List, doubleR4List, wtList)"
   ]
  },
  {
   "cell_type": "code",
   "execution_count": null,
   "metadata": {},
   "outputs": [],
   "source": [
    "\"\"\" Get R3 and R4(gfp) intensity matrix and boundary conditions \"\"\"\n",
    "## initialization\n",
    "sum_gfpMatrix = {}\n",
    "sum_r3Matrix = {}\n",
    "boundaries = {}\n",
    "for cat in list(set(Categories)):\n",
    "    sum_gfpMatrix[cat] = {}\n",
    "    sum_r3Matrix[cat] = {}\n",
    "    \n",
    "for i in range(len(dataNames)):\n",
    "    cat = Categories[i]\n",
    "    gfp = outputDatas[i]['IntensityMatrix'][0,1,2,:,:,:,:]\n",
    "    r3 = outputDatas[i]['IntensityMatrix'][0,2,2,:,:,:,:]\n",
    "    sum_gfp = np.sum(gfp, axis = 3)\n",
    "    sum_r3 = np.sum(r3, axis = 3)\n",
    "    sum_gfpMatrix[cat][i] = sum_gfp\n",
    "    sum_r3Matrix[cat][i] = sum_r3"
   ]
  },
  {
   "cell_type": "code",
   "execution_count": null,
   "metadata": {},
   "outputs": [],
   "source": [
    "def plotSummaryMatrix(matrix, cmap, vmax, tickParams, labelParams):\n",
    "    sns.set(font_scale=2)\n",
    "    xTick_ori, yTick_ori, tickTypeX, tickTypeY, tickArg2_X, tickArg2_Y = tickParams\n",
    "    ylabel, xlabel = labelParams\n",
    "    xTicks = my.getTickList(tickTypeX, xTick_ori, tickArg2_X)\n",
    "    yTicks = my.getTickList(tickTypeY, yTick_ori, tickArg2_Y)\n",
    "    \n",
    "    ax = plt.subplot(111)\n",
    "    sns.heatmap(matrix, cmap = cmap, yticklabels = yTicks, xticklabels = xTicks, vmin = 0, vmax = vmax)\n",
    "    ax.set_ylabel(ylabel)\n",
    "    ax.set_xlabel(xlabel)\n",
    "#     ax2.set_title(title, fontsize=16)\n",
    "#     ax2.invert_yaxis()"
   ]
  },
  {
   "cell_type": "code",
   "execution_count": null,
   "metadata": {},
   "outputs": [],
   "source": []
  },
  {
   "cell_type": "code",
   "execution_count": null,
   "metadata": {},
   "outputs": [],
   "source": [
    "\"\"\"Control_summary\"\"\""
   ]
  },
  {
   "cell_type": "code",
   "execution_count": null,
   "metadata": {},
   "outputs": [],
   "source": [
    "\n",
    "sum_gfpMatrix['Control']['Sum'] = np.concatenate((sum_gfpMatrix['Control'][0], sum_gfpMatrix['Control'][1]), axis=0)\n",
    "sum_r3Matrix['Control']['Sum'] = np.concatenate((sum_r3Matrix['Control'][0], sum_r3Matrix['Control'][1]), axis=0)"
   ]
  },
  {
   "cell_type": "code",
   "execution_count": null,
   "metadata": {
    "scrolled": true
   },
   "outputs": [],
   "source": [
    "sum_gfpMatrix['Control']['Sum'].shape"
   ]
  },
  {
   "cell_type": "code",
   "execution_count": null,
   "metadata": {},
   "outputs": [],
   "source": [
    "sum_r3Matrix['Control']['Sum'].shape"
   ]
  },
  {
   "cell_type": "code",
   "execution_count": null,
   "metadata": {},
   "outputs": [],
   "source": [
    "vmax_gfp = np.ceil(np.percentile(sum_gfpMatrix['Control']['Sum'].flatten(), 95))\n",
    "vmax_r3 = np.ceil(np.percentile(sum_r3Matrix['Control']['Sum'].flatten(), 95))\n",
    "\n",
    "ylabel = 'Rel. Angle'\n",
    "xlabel = 'Rel. Length'\n",
    "labelParams = ylabel, xlabel\n",
    "\n",
    "plotSummaryMatrix(np.mean(sum_r3Matrix['Control']['Sum'], axis = 0), 'Reds', vmax_r3, tickParams, labelParams)"
   ]
  },
  {
   "cell_type": "code",
   "execution_count": null,
   "metadata": {},
   "outputs": [],
   "source": [
    "plotSummaryMatrix(np.mean(sum_gfpMatrix['Control']['Sum'], axis = 0), 'Greens', vmax_gfp, tickParams, labelParams)"
   ]
  },
  {
   "cell_type": "code",
   "execution_count": null,
   "metadata": {},
   "outputs": [],
   "source": [
    "\"\"\" Plot sample images \"\"\"\n",
    "i = 27\n",
    "gfp_smp = outputDatas[1]['IntensityMatrix'][0,1,2,i,:,:,:]\n",
    "r3_smp = outputDatas[1]['IntensityMatrix'][0,2,2,i,:,:,:]\n",
    "\n",
    "vmax_gfp = np.ceil(np.percentile(sum_gfpMatrix['Control'][1].flatten(), 99))\n",
    "vmax_r3 = np.ceil(np.percentile(sum_r3Matrix['Control'][1].flatten(), 99))\n",
    "\n",
    "ylabel = 'Rel. Angle'\n",
    "xlabel = 'Rel. Length'\n",
    "labelParams = ylabel, xlabel\n",
    "\n",
    "plotSummaryMatrix(np.sum(gfp_smp, axis = 2), 'Greens', vmax_gfp, tickParams, labelParams)\n"
   ]
  },
  {
   "cell_type": "code",
   "execution_count": null,
   "metadata": {
    "scrolled": false
   },
   "outputs": [],
   "source": [
    "plotSummaryMatrix(np.sum(r3_smp, axis = 2), 'Reds', vmax_r3, tickParams, labelParams)\n"
   ]
  },
  {
   "cell_type": "code",
   "execution_count": null,
   "metadata": {},
   "outputs": [],
   "source": [
    "\"\"\"Notch perturbed\"\"\""
   ]
  },
  {
   "cell_type": "code",
   "execution_count": null,
   "metadata": {},
   "outputs": [],
   "source": [
    "ls_3 = getIndexList(annot_bundles_dfs_good[4])"
   ]
  },
  {
   "cell_type": "code",
   "execution_count": null,
   "metadata": {
    "scrolled": true
   },
   "outputs": [],
   "source": [
    "sum_gfpMatrix['Nic']['dR3'] = {}\n",
    "sum_gfpMatrix['Nic']['dR4'] = {}\n",
    "sum_gfpMatrix['Nic']['wt'] = {}\n",
    "sum_r3Matrix['Nic']['dR3'] = {}\n",
    "sum_r3Matrix['Nic']['dR4'] = {}\n",
    "sum_r3Matrix['Nic']['wt'] = {}\n",
    "for ind in [4, 5, 6]:\n",
    "    indList = getIndexList(annot_bundles_dfs_good[ind])\n",
    "    print(indList)\n",
    "    sum_gfpMatrix['Nic']['dR3'][ind] = sum_gfpMatrix['Nic'][ind][indList[0], :, :]\n",
    "    sum_gfpMatrix['Nic']['dR4'][ind] = sum_gfpMatrix['Nic'][ind][indList[1], :, :]\n",
    "    sum_gfpMatrix['Nic']['wt'][ind] = sum_gfpMatrix['Nic'][ind][indList[2], :, :]\n",
    "    sum_r3Matrix['Nic']['dR3'][ind] = sum_r3Matrix['Nic'][ind][indList[0], :, :]\n",
    "    sum_r3Matrix['Nic']['dR4'][ind] = sum_r3Matrix['Nic'][ind][indList[1], :, :]\n",
    "    sum_r3Matrix['Nic']['wt'][ind] = sum_r3Matrix['Nic'][ind][indList[2], :, :]\n"
   ]
  },
  {
   "cell_type": "code",
   "execution_count": null,
   "metadata": {},
   "outputs": [],
   "source": [
    "# sum_gfpMatrix['Nic']['dR3']['Sum'] = sum_gfpMatrix['Nic']['dR3'][4]\n",
    "# sum_gfpMatrix['Nic']['dR4']['Sum'] = sum_gfpMatrix['Nic']['dR4'][4]\n",
    "# sum_gfpMatrix['Nic']['wt']['Sum'] = sum_gfpMatrix['Nic']['wt'][4]\n",
    "# sum_r3Matrix['Nic']['dR3']['Sum'] = sum_r3Matrix['Nic']['dR3'][4]\n",
    "# sum_r3Matrix['Nic']['dR4']['Sum'] = sum_r3Matrix['Nic']['dR4'][4]\n",
    "# sum_r3Matrix['Nic']['wt']['Sum'] = sum_r3Matrix['Nic']['wt'][4]\n",
    "\n",
    "\n",
    "sum_gfpMatrix['Nic']['dR3']['Sum'] = np.concatenate((sum_gfpMatrix['Nic']['dR3'][4], sum_gfpMatrix['Nic']['dR3'][5], sum_gfpMatrix['Nic']['dR3'][6]), axis=0)\n",
    "sum_gfpMatrix['Nic']['dR4']['Sum'] = np.concatenate((sum_gfpMatrix['Nic']['dR4'][4], sum_gfpMatrix['Nic']['dR4'][5], sum_gfpMatrix['Nic']['dR4'][6]), axis=0)\n",
    "sum_gfpMatrix['Nic']['wt']['Sum'] = np.concatenate((sum_gfpMatrix['Nic']['wt'][4], sum_gfpMatrix['Nic']['wt'][5], sum_gfpMatrix['Nic']['wt'][6]), axis=0)\n",
    "sum_r3Matrix['Nic']['dR3']['Sum'] = np.concatenate((sum_r3Matrix['Nic']['dR3'][4], sum_r3Matrix['Nic']['dR3'][5], sum_r3Matrix['Nic']['dR3'][6]), axis=0)\n",
    "sum_r3Matrix['Nic']['dR4']['Sum'] = np.concatenate((sum_r3Matrix['Nic']['dR4'][4], sum_r3Matrix['Nic']['dR4'][5], sum_r3Matrix['Nic']['dR4'][6]), axis=0)\n",
    "sum_r3Matrix['Nic']['wt']['Sum'] = np.concatenate((sum_r3Matrix['Nic']['wt'][4], sum_r3Matrix['Nic']['wt'][5], sum_r3Matrix['Nic']['wt'][6]), axis=0)\n",
    "sum_r3Matrix['Nic']['Sum'] = np.concatenate((sum_r3Matrix['Nic']['dR4']['Sum'], sum_r3Matrix['Nic']['wt']['Sum']), axis=0)\n",
    "sum_gfpMatrix['Nic']['Sum'] = np.concatenate((sum_gfpMatrix['Nic']['dR4']['Sum'], sum_gfpMatrix['Nic']['wt']['Sum']), axis=0)"
   ]
  },
  {
   "cell_type": "code",
   "execution_count": null,
   "metadata": {},
   "outputs": [],
   "source": [
    "sum_r3Matrix['Nic']['Sum'].shape"
   ]
  },
  {
   "cell_type": "code",
   "execution_count": null,
   "metadata": {},
   "outputs": [],
   "source": [
    "vmax_gfp = np.ceil(np.percentile(sum_gfpMatrix['Nic']['Sum'].flatten(), 92))\n",
    "vmax_r3 = np.ceil(np.percentile(sum_r3Matrix['Nic']['Sum'].flatten(), 99))"
   ]
  },
  {
   "cell_type": "code",
   "execution_count": null,
   "metadata": {
    "scrolled": true
   },
   "outputs": [],
   "source": [
    "# plotSummaryMatrix(sum_r3Matrix['Nic']['dR4']['Sum'][9,:,:], 'Reds', vmax_r3, tickParams, labelParams)"
   ]
  },
  {
   "cell_type": "code",
   "execution_count": null,
   "metadata": {
    "scrolled": true
   },
   "outputs": [],
   "source": [
    "# plotSummaryMatrix(sum_gfpMatrix['Nic']['dR4']['Sum'][12,:,:], 'Greens', vmax_gfp, tickParams, labelParams)"
   ]
  },
  {
   "cell_type": "code",
   "execution_count": null,
   "metadata": {},
   "outputs": [],
   "source": [
    "[0,2,3,4,(5),6,7,(8),9,10,(11),(12)], [0,3,4, 5, 7,9,10,11,12]"
   ]
  },
  {
   "cell_type": "code",
   "execution_count": null,
   "metadata": {},
   "outputs": [],
   "source": [
    "sum_gfpMatrix['Nic']['dR4']['Sum'] = sum_gfpMatrix['Nic']['dR4']['Sum'][:, :, :]"
   ]
  },
  {
   "cell_type": "code",
   "execution_count": null,
   "metadata": {
    "scrolled": true
   },
   "outputs": [],
   "source": [
    "sum_gfpMatrix['Nic']['dR4']['Sum'].shape"
   ]
  },
  {
   "cell_type": "code",
   "execution_count": null,
   "metadata": {
    "scrolled": true
   },
   "outputs": [],
   "source": [
    "plotSummaryMatrix(np.mean(sum_gfpMatrix['Nic']['dR4']['Sum'], axis = 0), 'Greens', vmax_gfp, tickParams, labelParams)"
   ]
  },
  {
   "cell_type": "code",
   "execution_count": null,
   "metadata": {
    "scrolled": true
   },
   "outputs": [],
   "source": [
    "# vmax_gfp = np.ceil(np.percentile(sum_gfpMatrix['Nic']['dR4']['Sum'].flatten(), 90))\n",
    "# vmax_r3 = np.ceil(np.percentile(sum_r3Matrix['Nic']['dR4']['Sum'].flatten(), 95))\n",
    "\n",
    "ylabel = 'Rel. Angle'\n",
    "xlabel = 'Rel. Length'\n",
    "labelParams = ylabel, xlabel\n",
    "\n",
    "plotSummaryMatrix(np.mean(sum_r3Matrix['Nic']['dR4']['Sum'], axis = 0), 'Reds', vmax_r3, tickParams, labelParams)"
   ]
  },
  {
   "cell_type": "code",
   "execution_count": null,
   "metadata": {},
   "outputs": [],
   "source": [
    "vmax_r3"
   ]
  },
  {
   "cell_type": "code",
   "execution_count": null,
   "metadata": {},
   "outputs": [],
   "source": [
    "sum_gfpMatrix['Nic']['dR4']['Sum'].shape"
   ]
  },
  {
   "cell_type": "code",
   "execution_count": null,
   "metadata": {
    "scrolled": false
   },
   "outputs": [],
   "source": [
    "plotSummaryMatrix(np.mean(sum_r3Matrix['Nic']['wt']['Sum'], axis = 0), 'Reds', vmax_r3, tickParams, labelParams)"
   ]
  },
  {
   "cell_type": "code",
   "execution_count": null,
   "metadata": {},
   "outputs": [],
   "source": [
    "plotSummaryMatrix(np.mean(sum_gfpMatrix['Nic']['wt']['Sum'], axis = 0), 'Greens', vmax_gfp, tickParams, labelParams)"
   ]
  },
  {
   "cell_type": "code",
   "execution_count": null,
   "metadata": {
    "scrolled": true
   },
   "outputs": [],
   "source": [
    "\"\"\"Fz perturbed\"\"\""
   ]
  },
  {
   "cell_type": "code",
   "execution_count": null,
   "metadata": {},
   "outputs": [],
   "source": [
    "def getIndexList(bundles_df):\n",
    "    doubleR3List = []\n",
    "    doubleR4List = []\n",
    "    wtList = []\n",
    "    \n",
    "    for ind in range(bundles_df.shape[0]):    \n",
    "        if((bundles_df.iloc[ind]['FL_R4'] == 0) & (bundles_df.iloc[ind]['FL_R3'] == 2)):\n",
    "#             print('two R3: ', str(ind))\n",
    "            doubleR3List.append(ind)\n",
    "        elif((bundles_df.iloc[ind]['FL_R4'] == 1) & (bundles_df.iloc[ind]['FL_R3'] == 1)):\n",
    "#             print('WT: ', str(ind))\n",
    "            wtList.append(ind)\n",
    "        elif((bundles_df.iloc[ind]['FL_R4'] == 2) & (bundles_df.iloc[ind]['FL_R3'] == 0)):\n",
    "#             print('two R4: ', str(ind))\n",
    "            doubleR4List.append(ind)\n",
    "#     print(doubleR3List)\n",
    "    return (doubleR3List, doubleR4List, wtList)"
   ]
  },
  {
   "cell_type": "code",
   "execution_count": null,
   "metadata": {},
   "outputs": [],
   "source": [
    "sum_gfpMatrix['Fz']['dR3'] = {}\n",
    "sum_gfpMatrix['Fz']['dR4'] = {}\n",
    "sum_gfpMatrix['Fz']['wt'] = {}\n",
    "sum_r3Matrix['Fz']['dR3'] = {}\n",
    "sum_r3Matrix['Fz']['dR4'] = {}\n",
    "sum_r3Matrix['Fz']['wt'] = {}\n",
    "for ind in [2,3]:\n",
    "    indList = getIndexList(annot_bundles_dfs_good[ind])\n",
    "    print(indList)\n",
    "    sum_gfpMatrix['Fz']['dR3'][ind] = sum_gfpMatrix['Fz'][ind][indList[0], :, :]\n",
    "    sum_gfpMatrix['Fz']['dR4'][ind] = sum_gfpMatrix['Fz'][ind][indList[1], :, :]\n",
    "    sum_gfpMatrix['Fz']['wt'][ind] = sum_gfpMatrix['Fz'][ind][indList[2], :, :]\n",
    "    sum_r3Matrix['Fz']['dR3'][ind] = sum_r3Matrix['Fz'][ind][indList[0], :, :]\n",
    "    sum_r3Matrix['Fz']['dR4'][ind] = sum_r3Matrix['Fz'][ind][indList[1], :, :]\n",
    "    sum_r3Matrix['Fz']['wt'][ind] = sum_r3Matrix['Fz'][ind][indList[2], :, :]\n",
    "sum_gfpMatrix['Fz']['dR3']['Sum'] = np.concatenate((sum_gfpMatrix['Fz']['dR3'][2], sum_gfpMatrix['Fz']['dR3'][3]), axis=0)\n",
    "sum_gfpMatrix['Fz']['dR4']['Sum'] = np.concatenate((sum_gfpMatrix['Fz']['dR4'][2], sum_gfpMatrix['Fz']['dR4'][3]), axis=0)\n",
    "sum_gfpMatrix['Fz']['wt']['Sum'] = np.concatenate((sum_gfpMatrix['Fz']['wt'][2], sum_gfpMatrix['Fz']['wt'][3]), axis=0)\n",
    "sum_r3Matrix['Fz']['dR3']['Sum'] = np.concatenate((sum_r3Matrix['Fz']['dR3'][2], sum_r3Matrix['Fz']['dR3'][3]), axis=0)\n",
    "sum_r3Matrix['Fz']['dR4']['Sum'] = np.concatenate((sum_r3Matrix['Fz']['dR4'][2], sum_r3Matrix['Fz']['dR4'][3]), axis=0)\n",
    "sum_r3Matrix['Fz']['wt']['Sum'] = np.concatenate((sum_r3Matrix['Fz']['wt'][2], sum_r3Matrix['Fz']['wt'][3]), axis=0)"
   ]
  },
  {
   "cell_type": "code",
   "execution_count": null,
   "metadata": {},
   "outputs": [],
   "source": []
  },
  {
   "cell_type": "code",
   "execution_count": null,
   "metadata": {},
   "outputs": [],
   "source": [
    "\"\"\" Plot sample images \"\"\"\n",
    "ind = 17\n",
    "print(annot_bundles_dfs_good[3].index[ind])\n",
    "gfp_smp = outputDatas[3]['IntensityMatrix'][0,1,2,ind,:,:,:]\n",
    "r3_smp = outputDatas[3]['IntensityMatrix'][0,2,2,ind,:,:,:]\n",
    "\n",
    "vmax_gfp = np.ceil(np.percentile(sum_gfpMatrix['Fz'][2].flatten(), 90))\n",
    "vmax_r3 = np.ceil(np.percentile(sum_r3Matrix['Fz'][2].flatten(), 90))\n",
    "\n",
    "ylabel = 'Rel. Angle'\n",
    "xlabel = 'Rel. Length'\n",
    "labelParams = ylabel, xlabel\n",
    "\n",
    "plotSummaryMatrix(np.sum(gfp_smp, axis = 2), 'Greens', 10, tickParams, labelParams)\n"
   ]
  },
  {
   "cell_type": "code",
   "execution_count": null,
   "metadata": {},
   "outputs": [],
   "source": [
    "plotSummaryMatrix(np.sum(r3_smp, axis = 2), 'Reds', 8, tickParams, labelParams)"
   ]
  },
  {
   "cell_type": "code",
   "execution_count": null,
   "metadata": {},
   "outputs": [],
   "source": [
    "sum_r3Matrix['Fz']['dR3']['Sum'].shape"
   ]
  },
  {
   "cell_type": "code",
   "execution_count": null,
   "metadata": {},
   "outputs": [],
   "source": [
    "vmax_gfp = np.ceil(np.percentile(sum_gfpMatrix['Fz']['wt']['Sum'].flatten(), 95\n",
    "                                ))\n",
    "vmax_r3 = np.ceil(np.percentile(sum_r3Matrix['Fz']['wt']['Sum'].flatten(), 99))\n",
    "\n",
    "ylabel = 'Rel. Angle'\n",
    "xlabel = 'Rel. Length'\n",
    "labelParams = ylabel, xlabel\n",
    "\n",
    "plotSummaryMatrix(np.mean(sum_r3Matrix['Fz']['dR3']['Sum'], axis = 0), 'Reds', vmax_r3, tickParams, labelParams)"
   ]
  },
  {
   "cell_type": "code",
   "execution_count": null,
   "metadata": {
    "scrolled": true
   },
   "outputs": [],
   "source": [
    "plotSummaryMatrix(np.mean(sum_gfpMatrix['Fz']['dR3']['Sum'], axis = 0), 'Greens', vmax_gfp, tickParams, labelParams)"
   ]
  },
  {
   "cell_type": "code",
   "execution_count": null,
   "metadata": {},
   "outputs": [],
   "source": [
    "plotSummaryMatrix(np.mean(sum_r3Matrix['Fz']['wt']['Sum'], axis = 0), 'Reds', vmax_r3, tickParams, labelParams)"
   ]
  },
  {
   "cell_type": "code",
   "execution_count": null,
   "metadata": {},
   "outputs": [],
   "source": [
    "plotSummaryMatrix(np.mean(sum_gfpMatrix['Fz']['wt']['Sum'], axis = 0), 'Greens', vmax_gfp, tickParams, labelParams)"
   ]
  },
  {
   "cell_type": "code",
   "execution_count": null,
   "metadata": {},
   "outputs": [],
   "source": []
  },
  {
   "cell_type": "code",
   "execution_count": null,
   "metadata": {},
   "outputs": [],
   "source": []
  },
  {
   "cell_type": "code",
   "execution_count": null,
   "metadata": {},
   "outputs": [],
   "source": []
  },
  {
   "cell_type": "code",
   "execution_count": null,
   "metadata": {},
   "outputs": [],
   "source": [
    "vmax_gfp = np.ceil(np.percentile(sum_gfp_ctrl.flatten(), 99))\n",
    "vmax_r3 = np.ceil(np.percentile(sum_r3_ctrl.flatten(), 99))"
   ]
  },
  {
   "cell_type": "code",
   "execution_count": null,
   "metadata": {},
   "outputs": [],
   "source": [
    "gfp_ctrl = outputDatas[0]['IntensityMatrix'][0,1,2,:,:,:,:]\n",
    "r3_ctrl = outputDatas[0]['IntensityMatrix'][0,2,2,:,:,:,:]"
   ]
  },
  {
   "cell_type": "code",
   "execution_count": null,
   "metadata": {},
   "outputs": [],
   "source": [
    "gfp_ctrl_2 = outputDatas[3]['IntensityMatrix'][0,1,2,:,:,:,:]\n",
    "r3_ctrl_2 = outputDatas[3]['IntensityMatrix'][0,2,2,:,:,:,:]"
   ]
  },
  {
   "cell_type": "code",
   "execution_count": null,
   "metadata": {},
   "outputs": [],
   "source": [
    "gfp_ctrl_smp10 = gfp_ctrl[9,:,:,:]\n",
    "r3_ctrl_smp10 = r3_ctrl[9,:,:,:]"
   ]
  },
  {
   "cell_type": "code",
   "execution_count": null,
   "metadata": {
    "scrolled": true
   },
   "outputs": [],
   "source": [
    "\"\"\"Get min/max params\"\"\"\n",
    "sliceType = 0\n",
    "percentile = 95\n",
    "sum_gfp_ctrl_1 = np.sum(gfp_ctrl, axis = 3)\n",
    "sum_r3_ctrl_1 = np.sum(r3_ctrl, axis = 3)\n",
    "vmax_gfp_ctrl_1 = np.ceil(np.percentile(sum_gfp_ctrl.flatten(), 99))\n",
    "vmax_r3_ctrl_1 = np.ceil(np.percentile(sum_r3_ctrl.flatten(), 90))"
   ]
  },
  {
   "cell_type": "code",
   "execution_count": null,
   "metadata": {},
   "outputs": [],
   "source": [
    "sum_gfp_ctrl_2 = np.sum(gfp_ctrl_2, axis = 3)\n",
    "sum_r3_ctrl_2 = np.sum(r3_ctrl_2, axis = 3)\n",
    "vmax_gfp_ctrl_2 = np.ceil(np.percentile(sum_gfp_ctrl_2.flatten(), 99))\n",
    "vmax_r3_ctrl_2 = np.ceil(np.percentile(sum_r3_ctrl_2.flatten(), 90))"
   ]
  },
  {
   "cell_type": "code",
   "execution_count": null,
   "metadata": {},
   "outputs": [],
   "source": [
    "# # tickParams = [1, 2, 5, [-1.5, -1, -0.5, 0, 0.5, 1, 1.5]] ### tickTypeX, tickTypeY, tickArg2_X, tickArg2_Y\n",
    "# tickTypeX = 1\n",
    "# tickTypeY = 2\n",
    "# tickArg2_X = 5\n",
    "# tickArg2_Y = [-2, -1.5, -1, -0.5, 0, 0.5, 1, 1.5, 2]\n",
    "\n",
    "# pp = outputDatas[0]['Parameter'][0][0][1]\n",
    "# xTick_ori = np.round(np.linspace(0, radiusExpanseRatio, gfp_ctrl_smp10[:,:,0].shape[1]), 2)\n",
    "# xTicks = my.getTickList(tickTypeX, xTick_ori, tickArg2_X)\n",
    "# yTick_ori = np.round(outputDatas[0]['Parameter'][0][1][0][5], 2)\n",
    "# yTicks = my.getTickList(tickTypeY, yTick_ori, tickArg2_Y)\n",
    "\n",
    "# ax2 =  plt.subplot(111)\n",
    "# #     sns.heatmap(np.sum(intensityMatrix, axis = 2), cmap = colormap, yticklabels = yTicks, xticklabels = xTicks)\n",
    "# # sns.heatmap(np.mean(sum_GFP_matrix, axis = 2), cmap = 'Greens', yticklabels = False, xticklabels = False, vmin = vim, vmax = vmax)\n",
    "# sns.heatmap(np.sum(gfp_ctrl_smp10, axis = 2), cmap = 'Greens', yticklabels = yTicks, xticklabels = xTicks, vmin = 0, vmax = vmax_gfp_ctrl)\n",
    "# # sns.heatmap(gfp_ctrl_smp10[21:22,:,20], cmap = 'Greens')\n",
    "# ax2.set_ylabel('Rel. Angle', fontsize=16)\n",
    "# ax2.set_xlabel('Rel. Length', fontsize=16)\n",
    "# ax2.set_title('Sum over z-stack', fontsize=16)\n",
    "# ax2.invert_yaxis()\n",
    "\n",
    "\n"
   ]
  },
  {
   "cell_type": "code",
   "execution_count": null,
   "metadata": {},
   "outputs": [],
   "source": [
    "# ax2 =  plt.subplot(111)\n",
    "# #     sns.heatmap(np.sum(intensityMatrix, axis = 2), cmap = colormap, yticklabels = yTicks, xticklabels = xTicks)\n",
    "# # sns.heatmap(np.mean(sum_R3_matrix, axis = 2), cmap = 'Reds', yticklabels = False, xticklabels = False, vmin = vim, vmax = vmax)\n",
    "# sns.heatmap(np.sum(r3_ctrl_smp10, axis = 2), cmap = 'Reds', yticklabels = yTicks, xticklabels = xTicks, vmin = 0, vmax = vmax_r3_ctrl)\n",
    "\n",
    "\n",
    "# ax2.set_ylabel('Rel. Angle', fontsize=16)\n",
    "# ax2.set_xlabel('Rel. Length', fontsize=16)\n",
    "# ax2.set_title('Sum over z-stack', fontsize=16)\n",
    "# ax2.invert_yaxis()"
   ]
  },
  {
   "cell_type": "code",
   "execution_count": null,
   "metadata": {
    "scrolled": true
   },
   "outputs": [],
   "source": [
    "vmax_gfp_ctrl, vmax_r3_ctrl"
   ]
  },
  {
   "cell_type": "code",
   "execution_count": null,
   "metadata": {
    "scrolled": true
   },
   "outputs": [],
   "source": [
    "\"\"\" Control \"\"\""
   ]
  },
  {
   "cell_type": "code",
   "execution_count": null,
   "metadata": {},
   "outputs": [],
   "source": [
    "# tickParams = [1, 2, 5, [-1.5, -1, -0.5, 0, 0.5, 1, 1.5]] ### tickTypeX, tickTypeY, tickArg2_X, tickArg2_Y\n",
    "tickTypeX = 1\n",
    "tickTypeY = 2\n",
    "tickArg2_X = 5\n",
    "tickArg2_Y = [-2, -1.5, -1, -0.5, 0, 0.5, 1, 1.5, 2]\n",
    "\n",
    "# pp = outputDatas[0]['Parameter'][0][0][1]\n",
    "xTick_ori = np.round(np.linspace(0, radiusExpanseRatio, sum_gfp_ctrl_1[0,:,:].shape[1]), 2)\n",
    "xTicks = my.getTickList(tickTypeX, xTick_ori, tickArg2_X)\n",
    "yTick_ori = np.round(outputDatas[0]['Parameter'][0][1][0][5], 2)\n",
    "yTicks = my.getTickList(tickTypeY, yTick_ori, tickArg2_Y)\n",
    "\n",
    "ax2 =  plt.subplot(111)\n",
    "#     sns.heatmap(np.sum(intensityMatrix, axis = 2), cmap = colormap, yticklabels = yTicks, xticklabels = xTicks)\n",
    "# sns.heatmap(np.mean(sum_GFP_matrix, axis = 2), cmap = 'Greens', yticklabels = False, xticklabels = False, vmin = vim, vmax = vmax)\n",
    "sns.heatmap(np.mean(sum_gfp_ctrl_1, axis = 0), cmap = 'Greens', yticklabels = yTicks, xticklabels = xTicks, vmin = 0, vmax = vmax_gfp_ctrl_1)\n",
    "ax2.set_ylabel('Angle', fontsize=16)\n",
    "ax2.set_xlabel('length from R-heel', fontsize=16)\n",
    "ax2.set_title('Sum over z-stack', fontsize=16)\n",
    "ax2.invert_yaxis()\n",
    "\n"
   ]
  },
  {
   "cell_type": "code",
   "execution_count": null,
   "metadata": {
    "scrolled": false
   },
   "outputs": [],
   "source": [
    "ax2 =  plt.subplot(111)\n",
    "#     sns.heatmap(np.sum(intensityMatrix, axis = 2), cmap = colormap, yticklabels = yTicks, xticklabels = xTicks)\n",
    "# sns.heatmap(np.mean(sum_R3_matrix, axis = 2), cmap = 'Reds', yticklabels = False, xticklabels = False, vmin = vim, vmax = vmax)\n",
    "sns.heatmap(np.mean(sum_r3_ctrl_1, axis = 0), cmap = 'Reds', yticklabels = yTicks, xticklabels = xTicks, vmin = 0, vmax = vmax_r3_ctrl_1)\n",
    "ax2.set_ylabel('Angle', fontsize=16)\n",
    "ax2.set_xlabel('length from R-heel', fontsize=16)\n",
    "ax2.set_title('Sum over z-stack', fontsize=16)\n",
    "ax2.invert_yaxis()"
   ]
  },
  {
   "cell_type": "code",
   "execution_count": null,
   "metadata": {},
   "outputs": [],
   "source": [
    "\"Control-2\""
   ]
  },
  {
   "cell_type": "code",
   "execution_count": null,
   "metadata": {},
   "outputs": [],
   "source": [
    "# tickParams = [1, 2, 5, [-1.5, -1, -0.5, 0, 0.5, 1, 1.5]] ### tickTypeX, tickTypeY, tickArg2_X, tickArg2_Y\n",
    "tickTypeX = 1\n",
    "tickTypeY = 2\n",
    "tickArg2_X = 5\n",
    "tickArg2_Y = [-2, -1.5, -1, -0.5, 0, 0.5, 1, 1.5, 2]\n",
    "\n",
    "# pp = outputDatas[0]['Parameter'][0][0][1]\n",
    "xTick_ori = np.round(np.linspace(0, radiusExpanseRatio, sum_gfp_ctrl[0,:,:].shape[1]), 2)\n",
    "xTicks = my.getTickList(tickTypeX, xTick_ori, tickArg2_X)\n",
    "# yTick_ori = np.round(pp[5], 2)\n",
    "yTicks = my.getTickList(tickTypeY, yTick_ori, tickArg2_Y)\n",
    "\n",
    "ax2 =  plt.subplot(111)\n",
    "#     sns.heatmap(np.sum(intensityMatrix, axis = 2), cmap = colormap, yticklabels = yTicks, xticklabels = xTicks)\n",
    "# sns.heatmap(np.mean(sum_GFP_matrix, axis = 2), cmap = 'Greens', yticklabels = False, xticklabels = False, vmin = vim, vmax = vmax)\n",
    "sns.heatmap(np.mean(sum_gfp_ctrl_2, axis = 0), cmap = 'Greens', yticklabels = yTicks, xticklabels = xTicks, vmin = 0, vmax = vmax_gfp_ctrl_2)\n",
    "ax2.set_ylabel('Angle', fontsize=16)\n",
    "ax2.set_xlabel('length from R-heel', fontsize=16)\n",
    "ax2.set_title('Sum over z-stack', fontsize=16)\n",
    "ax2.invert_yaxis()"
   ]
  },
  {
   "cell_type": "code",
   "execution_count": null,
   "metadata": {
    "scrolled": true
   },
   "outputs": [],
   "source": [
    "ax2 =  plt.subplot(111)\n",
    "#     sns.heatmap(np.sum(intensityMatrix, axis = 2), cmap = colormap, yticklabels = yTicks, xticklabels = xTicks)\n",
    "# sns.heatmap(np.mean(sum_R3_matrix, axis = 2), cmap = 'Reds', yticklabels = False, xticklabels = False, vmin = vim, vmax = vmax)\n",
    "sns.heatmap(np.mean(sum_r3_ctrl_2, axis = 0), cmap = 'Reds', yticklabels = yTicks, xticklabels = xTicks, vmin = 0, vmax = vmax_r3_ctrl_2)\n",
    "ax2.set_ylabel('Angle', fontsize=16)\n",
    "ax2.set_xlabel('length from R-heel', fontsize=16)\n",
    "ax2.set_title('Sum over z-stack', fontsize=16)\n",
    "ax2.invert_yaxis()"
   ]
  },
  {
   "cell_type": "code",
   "execution_count": null,
   "metadata": {},
   "outputs": [],
   "source": [
    "\"Sum of controls\""
   ]
  },
  {
   "cell_type": "code",
   "execution_count": null,
   "metadata": {
    "scrolled": true
   },
   "outputs": [],
   "source": [
    "sum_r3_ctrl_2.shape"
   ]
  },
  {
   "cell_type": "code",
   "execution_count": null,
   "metadata": {
    "scrolled": true
   },
   "outputs": [],
   "source": [
    "sum_r3_ctrl_1.shape"
   ]
  },
  {
   "cell_type": "code",
   "execution_count": null,
   "metadata": {},
   "outputs": [],
   "source": [
    "sum_gfp_ctrl = np.concatenate((sum_gfp_ctrl_2, sum_gfp_ctrl_1), axis=0, out=None)\n",
    "sum_r3_ctrl = np.concatenate((sum_r3_ctrl_2, sum_r3_ctrl_1), axis=0, out=None)"
   ]
  },
  {
   "cell_type": "code",
   "execution_count": null,
   "metadata": {},
   "outputs": [],
   "source": [
    "vmax_gfp_ctrl = np.ceil(np.percentile(sum_gfp_ctrl.flatten(), 95))\n",
    "vmax_r3_ctrl = np.ceil(np.percentile(sum_r3_ctrl.flatten(), 90))"
   ]
  },
  {
   "cell_type": "code",
   "execution_count": null,
   "metadata": {},
   "outputs": [],
   "source": [
    "ax2 =  plt.subplot(111)\n",
    "#     sns.heatmap(np.sum(intensityMatrix, axis = 2), cmap = colormap, yticklabels = yTicks, xticklabels = xTicks)\n",
    "# sns.heatmap(np.mean(sum_GFP_matrix, axis = 2), cmap = 'Greens', yticklabels = False, xticklabels = False, vmin = vim, vmax = vmax)\n",
    "sns.heatmap(np.mean(sum_gfp_ctrl, axis = 0), cmap = 'Greens', yticklabels = yTicks, xticklabels = xTicks, vmin = 0, vmax = vmax_gfp_ctrl)\n",
    "ax2.set_ylabel('Angle', fontsize=16)\n",
    "ax2.set_xlabel('length from R-heel', fontsize=16)\n",
    "ax2.set_title('Sum over z-stack', fontsize=16)\n",
    "ax2.invert_yaxis()"
   ]
  },
  {
   "cell_type": "code",
   "execution_count": null,
   "metadata": {},
   "outputs": [],
   "source": [
    "ax2 =  plt.subplot(111)\n",
    "#     sns.heatmap(np.sum(intensityMatrix, axis = 2), cmap = colormap, yticklabels = yTicks, xticklabels = xTicks)\n",
    "# sns.heatmap(np.mean(sum_R3_matrix, axis = 2), cmap = 'Reds', yticklabels = False, xticklabels = False, vmin = vim, vmax = vmax)\n",
    "sns.heatmap(np.mean(sum_r3_ctrl, axis = 0), cmap = 'Reds', yticklabels = yTicks, xticklabels = xTicks, vmin = 0, vmax = vmax_r3_ctrl)\n",
    "ax2.set_ylabel('Angle', fontsize=16)\n",
    "ax2.set_xlabel('length from R-heel', fontsize=16)\n",
    "ax2.set_title('Sum over z-stack', fontsize=16)\n",
    "ax2.invert_yaxis()"
   ]
  },
  {
   "cell_type": "code",
   "execution_count": null,
   "metadata": {},
   "outputs": [],
   "source": [
    "\"Fz-1\""
   ]
  },
  {
   "cell_type": "code",
   "execution_count": null,
   "metadata": {},
   "outputs": [],
   "source": [
    "annot_bundles_dfs_good[1].index"
   ]
  },
  {
   "cell_type": "code",
   "execution_count": null,
   "metadata": {},
   "outputs": [],
   "source": [
    "gfp_fz1 = outputDatas[1]['IntensityMatrix'][0,1,2,:,:,:,:]\n",
    "r3_fz1_R3 = outputDatas[1]['IntensityMatrix'][0,2,0,:,:,:,:]\n",
    "r3_fz1_R4 = outputDatas[1]['IntensityMatrix'][0,2,1,:,:,:,:]\n",
    "r3_fz1_T0 = outputDatas[1]['IntensityMatrix'][0,2,2,:,:,:,:]"
   ]
  },
  {
   "cell_type": "code",
   "execution_count": null,
   "metadata": {},
   "outputs": [],
   "source": [
    "a = list(annot_bundles_dfs_good[2].index)\n",
    "a.index(34)"
   ]
  },
  {
   "cell_type": "code",
   "execution_count": null,
   "metadata": {},
   "outputs": [],
   "source": [
    "annot_bundles_dfs_good[2].index"
   ]
  },
  {
   "cell_type": "code",
   "execution_count": null,
   "metadata": {},
   "outputs": [],
   "source": [
    "gfp_fz2 = outputDatas[2]['IntensityMatrix'][0,1,2,:,:,:,:]\n",
    "gfp_fz2 = outputDatas[2]['IntensityMatrix'][0,2,2,:,:,:,:]"
   ]
  },
  {
   "cell_type": "code",
   "execution_count": null,
   "metadata": {},
   "outputs": [],
   "source": [
    "fz2_type1_list = [a.index(34), a.index(40), a.index(48), a.index(98)]#34, 40, 48, 98\n",
    "fz2_type2_list = [a.index(18), a.index(38), a.index(41), a.index(44), a.index(45), a.index(52)]#18, 38, 41, 44, 45, 52"
   ]
  },
  {
   "cell_type": "code",
   "execution_count": null,
   "metadata": {},
   "outputs": [],
   "source": [
    "fz1_type1_list = [1, 4,8,11] #6,8,27,34\n",
    "fz1_type2_list = [3, 5, 12]#13, 16, 35"
   ]
  },
  {
   "cell_type": "code",
   "execution_count": null,
   "metadata": {},
   "outputs": [],
   "source": [
    "ind = 4;\n",
    "gfp_fz = gfp_fz1[ind,:,:,:]\n",
    "r3_fz = r3_fz1_T0[ind,:,:,:]"
   ]
  },
  {
   "cell_type": "code",
   "execution_count": null,
   "metadata": {},
   "outputs": [],
   "source": [
    "gfp_fz1_type1 = gfp_fz1[fz1_type1_list,:,:,:]\n",
    "gfp_fz1_type2 = gfp_fz1[fz1_type2_list,:,:,:]\n",
    "\n",
    "r3_fz1_R4_type1 = r3_fz1_R4[fz1_type1_list,:,:,:]\n",
    "r3_fz1_R4_type2 = r3_fz1_R4[fz1_type2_list,:,:,:]\n",
    "\n",
    "r3_fz1_R3_type1 = r3_fz1_R3[fz1_type1_list,:,:,:]\n",
    "r3_fz1_R3_type2 = r3_fz1_R3[fz1_type2_list,:,:,:]\n",
    "\n",
    "r3_fz1_T0_type1 = r3_fz1_T0[fz1_type1_list,:,:,:]\n",
    "r3_fz1_T0_type2 = r3_fz1_T0[fz1_type2_list,:,:,:]"
   ]
  },
  {
   "cell_type": "code",
   "execution_count": null,
   "metadata": {
    "scrolled": true
   },
   "outputs": [],
   "source": [
    "\"\"\"Get min/max params\"\"\"\n",
    "sliceType = 0\n",
    "sum_GFP_matrix = np.sum(gfp_fz1_type1, axis = 3)\n",
    "sum_r3_R3_matrix = np.sum(r3_fz1_R3_type1, axis = 3)\n",
    "sum_r3_R4_matrix = np.sum(r3_fz1_R4_type1, axis = 3)\n",
    "sum_r3_T0_matrix = np.sum(r3_fz1_T0_type1, axis = 3)\n",
    "\n",
    "vmax_GFP = np.ceil(np.percentile(sum_GFP_matrix.flatten(), 99))\n",
    "vmax_R3 = np.ceil(np.percentile(sum_r3_R3_matrix.flatten(), 90))\n",
    "\n",
    "\n",
    "\n",
    "vmax_GFP, vmax_R3\n",
    "\n"
   ]
  },
  {
   "cell_type": "code",
   "execution_count": null,
   "metadata": {},
   "outputs": [],
   "source": [
    "# tickParams = [1, 2, 5, [-1.5, -1, -0.5, 0, 0.5, 1, 1.5]] ### tickTypeX, tickTypeY, tickArg2_X, tickArg2_Y\n",
    "tickTypeX = 1\n",
    "tickTypeY = 2\n",
    "tickArg2_X = 5\n",
    "tickArg2_Y = [-2, -1.5, -1, -0.5, 0, 0.5, 1, 1.5, 2]\n",
    "\n",
    "pp = outputDatas[0]['Parameter'][0][0][1]\n",
    "xTick_ori = np.round(np.linspace(0, radiusExpanseRatio, sum_GFP_matrix[0,:,:].shape[1]), 2)\n",
    "xTicks = my.getTickList(tickTypeX, xTick_ori, tickArg2_X)\n",
    "yTick_ori = np.round(outputDatas[0]['Parameter'][0][1][0][5], 2)\n",
    "yTicks = my.getTickList(tickTypeY, yTick_ori, tickArg2_Y)\n",
    "\n",
    "ax2 =  plt.subplot(111)\n",
    "#     sns.heatmap(np.sum(intensityMatrix, axis = 2), cmap = colormap, yticklabels = yTicks, xticklabels = xTicks)\n",
    "# sns.heatmap(np.mean(sum_GFP_matrix, axis = 2), cmap = 'Greens', yticklabels = False, xticklabels = False, vmin = vim, vmax = vmax)\n",
    "sns.heatmap(np.sum(gfp_fz, axis = 2), cmap = 'Greens', yticklabels = yTicks, xticklabels = xTicks, vmin = 0, vmax = vmax_GFP)\n",
    "ax2.set_ylabel('Angle', fontsize=16)\n",
    "ax2.set_xlabel('length from R-heel', fontsize=16)\n",
    "ax2.set_title('Sum over z-stack', fontsize=16)\n",
    "ax2.invert_yaxis()"
   ]
  },
  {
   "cell_type": "code",
   "execution_count": null,
   "metadata": {},
   "outputs": [],
   "source": [
    "ax2 =  plt.subplot(111)\n",
    "#     sns.heatmap(np.sum(intensityMatrix, axis = 2), cmap = colormap, yticklabels = yTicks, xticklabels = xTicks)\n",
    "# sns.heatmap(np.mean(sum_r3_T0_matrix, axis = 0), cmap = 'Reds', yticklabels = yTicks, xticklabels = xTicks, vmin = 0, vmax = vmax_R3)\n",
    "sns.heatmap(np.sum(r3_fz, axis = 2), cmap = 'Reds', yticklabels = yTicks, xticklabels = xTicks, vmin = 0, vmax = vmax_R3)\n",
    "ax2.set_ylabel('Angle', fontsize=16)\n",
    "ax2.set_xlabel('length from R-heel', fontsize=16)\n",
    "ax2.set_title('Sum over z-stack', fontsize=16)\n",
    "ax2.invert_yaxis()"
   ]
  },
  {
   "cell_type": "code",
   "execution_count": null,
   "metadata": {},
   "outputs": [],
   "source": [
    "ax2 =  plt.subplot(111)\n",
    "#     sns.heatmap(np.sum(intensityMatrix, axis = 2), cmap = colormap, yticklabels = yTicks, xticklabels = xTicks)\n",
    "# sns.heatmap(np.mean(sum_R3_matrix, axis = 2), cmap = 'Reds', yticklabels = False, xticklabels = False, vmin = vim, vmax = vmax)\n",
    "sns.heatmap(np.mean(sum_r3_R3_matrix, axis = 0), cmap = 'Reds', yticklabels = yTicks, xticklabels = xTicks, vmin = 0, vmax = vmax_R3)\n",
    "ax2.set_ylabel('Angle', fontsize=16)\n",
    "ax2.set_xlabel('length from R-heel', fontsize=16)\n",
    "ax2.set_title('Sum over z-stack', fontsize=16)\n",
    "ax2.invert_yaxis()"
   ]
  },
  {
   "cell_type": "code",
   "execution_count": null,
   "metadata": {},
   "outputs": [],
   "source": [
    "ax2 =  plt.subplot(111)\n",
    "#     sns.heatmap(np.sum(intensityMatrix, axis = 2), cmap = colormap, yticklabels = yTicks, xticklabels = xTicks)\n",
    "# sns.heatmap(np.mean(sum_R3_matrix, axis = 2), cmap = 'Reds', yticklabels = False, xticklabels = False, vmin = vim, vmax = vmax)\n",
    "sns.heatmap(np.mean(sum_r3_R4_matrix, axis = 0), cmap = 'Reds', yticklabels = yTicks, xticklabels = xTicks, vmin = 0, vmax = vmax_R3)\n",
    "ax2.set_ylabel('Angle', fontsize=16)\n",
    "ax2.set_xlabel('length from R-heel', fontsize=16)\n",
    "ax2.set_title('Sum over z-stack', fontsize=16)\n",
    "ax2.invert_yaxis()"
   ]
  },
  {
   "cell_type": "code",
   "execution_count": null,
   "metadata": {},
   "outputs": [],
   "source": [
    "ax2 =  plt.subplot(111)\n",
    "#     sns.heatmap(np.sum(intensityMatrix, axis = 2), cmap = colormap, yticklabels = yTicks, xticklabels = xTicks)\n",
    "# sns.heatmap(np.mean(sum_R3_matrix, axis = 2), cmap = 'Reds', yticklabels = False, xticklabels = False, vmin = vim, vmax = vmax)\n",
    "sns.heatmap(np.mean(sum_r3_T0_matrix, axis = 0), cmap = 'Reds', yticklabels = yTicks, xticklabels = xTicks, vmin = 0, vmax = vmax_R3)\n",
    "ax2.set_ylabel('Angle', fontsize=16)\n",
    "ax2.set_xlabel('length from R-heel', fontsize=16)\n",
    "ax2.set_title('Sum over z-stack', fontsize=16)\n",
    "ax2.invert_yaxis()"
   ]
  },
  {
   "cell_type": "code",
   "execution_count": null,
   "metadata": {},
   "outputs": [],
   "source": [
    "\"\"\"Get min/max params\"\"\"\n",
    "sliceType = 0\n",
    "sum_GFP_matrix = np.sum(gfp_fz1_type2, axis = 3)\n",
    "sum_r3_R3_matrix = np.sum(r3_fz1_R3_type2, axis = 3)\n",
    "sum_r3_R4_matrix = np.sum(r3_fz1_R4_type2, axis = 3)\n",
    "sum_r3_T0_matrix = np.sum(r3_fz1_T0_type2, axis = 3)\n",
    "\n",
    "# vmax_GFP = np.ceil(np.percentile(sum_GFP_matrix.flatten(), 99))\n",
    "# vmax_R3 = np.ceil(np.percentile(sum_r3_R3_matrix.flatten(), 95))\n",
    "\n",
    "\n",
    "\n",
    "vmax_GFP, vmax_R3\n",
    "\n",
    "# tickParams = [1, 2, 5, [-1.5, -1, -0.5, 0, 0.5, 1, 1.5]] ### tickTypeX, tickTypeY, tickArg2_X, tickArg2_Y\n",
    "tickTypeX = 1\n",
    "tickTypeY = 2\n",
    "tickArg2_X = 5\n",
    "tickArg2_Y = [-1.5, -1, -0.5, 0, 0.5, 1, 1.5]\n",
    "\n",
    "pp = outputDatas[0]['Parameter'][0][0][1]\n",
    "xTick_ori = np.round(np.linspace(0, radiusExpanseRatio, sum_GFP_matrix[0,:,:].shape[1]), 2)\n",
    "xTicks = my.getTickList(tickTypeX, xTick_ori, tickArg2_X)\n",
    "yTick_ori = np.round(pp[5], 2)\n",
    "yTicks = my.getTickList(tickTypeY, yTick_ori, tickArg2_Y)\n",
    "\n",
    "ax2 =  plt.subplot(111)\n",
    "#     sns.heatmap(np.sum(intensityMatrix, axis = 2), cmap = colormap, yticklabels = yTicks, xticklabels = xTicks)\n",
    "# sns.heatmap(np.mean(sum_GFP_matrix, axis = 2), cmap = 'Greens', yticklabels = False, xticklabels = False, vmin = vim, vmax = vmax)\n",
    "sns.heatmap(np.mean(sum_GFP_matrix, axis = 0), cmap = 'Greens', yticklabels = yTicks, xticklabels = xTicks, vmin = 0, vmax = vmax_GFP)\n",
    "ax2.set_ylabel('Angle', fontsize=16)\n",
    "ax2.set_xlabel('length from R-heel', fontsize=16)\n",
    "ax2.set_title('Sum over z-stack', fontsize=16)\n",
    "ax2.invert_yaxis()"
   ]
  },
  {
   "cell_type": "code",
   "execution_count": null,
   "metadata": {},
   "outputs": [],
   "source": [
    "ax2 =  plt.subplot(111)\n",
    "#     sns.heatmap(np.sum(intensityMatrix, axis = 2), cmap = colormap, yticklabels = yTicks, xticklabels = xTicks)\n",
    "# sns.heatmap(np.mean(sum_R3_matrix, axis = 2), cmap = 'Reds', yticklabels = False, xticklabels = False, vmin = vim, vmax = vmax)\n",
    "sns.heatmap(np.mean(sum_r3_T0_matrix, axis = 0), cmap = 'Reds', yticklabels = yTicks, xticklabels = xTicks, vmin = 0, vmax = vmax_R3)\n",
    "ax2.set_ylabel('Angle', fontsize=16)\n",
    "ax2.set_xlabel('length from R-heel', fontsize=16)\n",
    "ax2.set_title('Sum over z-stack', fontsize=16)\n",
    "ax2.invert_yaxis()"
   ]
  },
  {
   "cell_type": "code",
   "execution_count": null,
   "metadata": {},
   "outputs": [],
   "source": []
  }
 ],
 "metadata": {
  "kernelspec": {
   "display_name": "Python 3",
   "language": "python",
   "name": "python3"
  },
  "language_info": {
   "codemirror_mode": {
    "name": "ipython",
    "version": 3
   },
   "file_extension": ".py",
   "mimetype": "text/x-python",
   "name": "python",
   "nbconvert_exporter": "python",
   "pygments_lexer": "ipython3",
   "version": "3.7.3"
  }
 },
 "nbformat": 4,
 "nbformat_minor": 2
}
