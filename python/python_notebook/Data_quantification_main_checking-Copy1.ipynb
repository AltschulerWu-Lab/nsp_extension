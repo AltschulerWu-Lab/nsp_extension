{
 "cells": [
  {
   "cell_type": "code",
   "execution_count": 1,
   "metadata": {},
   "outputs": [
    {
     "name": "stderr",
     "output_type": "stream",
     "text": [
      "ERROR:root:Internal Python error in the inspect module.\n",
      "Below is the traceback from this internal error.\n",
      "\n"
     ]
    },
    {
     "name": "stdout",
     "output_type": "stream",
     "text": [
      "Traceback (most recent call last):\n",
      "  File \"/Users/lily/anaconda/lib/python3.6/site-packages/IPython/core/interactiveshell.py\", line 3325, in run_code\n",
      "    exec(code_obj, self.user_global_ns, self.user_ns)\n",
      "  File \"<ipython-input-1-3149eb814adf>\", line 1, in <module>\n",
      "    get_ipython().run_line_magic('matplotlib', 'inline')\n",
      "  File \"/Users/lily/anaconda/lib/python3.6/site-packages/IPython/core/interactiveshell.py\", line 2313, in run_line_magic\n",
      "    result = fn(*args, **kwargs)\n",
      "  File \"</Users/lily/anaconda/lib/python3.6/site-packages/decorator.py:decorator-gen-108>\", line 2, in matplotlib\n",
      "  File \"/Users/lily/anaconda/lib/python3.6/site-packages/IPython/core/magic.py\", line 187, in <lambda>\n",
      "    call = lambda f, *a, **k: f(*a, **k)\n",
      "  File \"/Users/lily/anaconda/lib/python3.6/site-packages/IPython/core/magics/pylab.py\", line 99, in matplotlib\n",
      "    gui, backend = self.shell.enable_matplotlib(args.gui.lower())\n",
      "  File \"/Users/lily/anaconda/lib/python3.6/site-packages/IPython/core/interactiveshell.py\", line 3401, in enable_matplotlib\n",
      "    gui, backend = pt.find_gui_and_backend(gui, self.pylab_gui_select)\n",
      "  File \"/Users/lily/anaconda/lib/python3.6/site-packages/IPython/core/pylabtools.py\", line 276, in find_gui_and_backend\n",
      "    import matplotlib\n",
      "  File \"/Users/lily/anaconda/lib/python3.6/site-packages/matplotlib/__init__.py\", line 1003, in <module>\n",
      "    rcParams = rc_params()\n",
      "  File \"/Users/lily/anaconda/lib/python3.6/site-packages/matplotlib/__init__.py\", line 867, in rc_params\n",
      "    return rc_params_from_file(matplotlib_fname(), fail_on_error)\n",
      "  File \"/Users/lily/anaconda/lib/python3.6/site-packages/matplotlib/__init__.py\", line 684, in matplotlib_fname\n",
      "    for fname in gen_candidates():\n",
      "  File \"/Users/lily/anaconda/lib/python3.6/site-packages/matplotlib/__init__.py\", line 673, in gen_candidates\n",
      "    yield os.path.join(os.getcwd(), 'matplotlibrc')\n",
      "FileNotFoundError: [Errno 2] No such file or directory\n",
      "\n",
      "During handling of the above exception, another exception occurred:\n",
      "\n",
      "Traceback (most recent call last):\n",
      "  File \"/Users/lily/anaconda/lib/python3.6/site-packages/IPython/core/interactiveshell.py\", line 2039, in showtraceback\n",
      "    stb = value._render_traceback_()\n",
      "AttributeError: 'FileNotFoundError' object has no attribute '_render_traceback_'\n",
      "\n",
      "During handling of the above exception, another exception occurred:\n",
      "\n",
      "Traceback (most recent call last):\n",
      "  File \"/Users/lily/anaconda/lib/python3.6/site-packages/IPython/core/ultratb.py\", line 1101, in get_records\n",
      "    return _fixed_getinnerframes(etb, number_of_lines_of_context, tb_offset)\n",
      "  File \"/Users/lily/anaconda/lib/python3.6/site-packages/IPython/core/ultratb.py\", line 319, in wrapped\n",
      "    return f(*args, **kwargs)\n",
      "  File \"/Users/lily/anaconda/lib/python3.6/site-packages/IPython/core/ultratb.py\", line 353, in _fixed_getinnerframes\n",
      "    records = fix_frame_records_filenames(inspect.getinnerframes(etb, context))\n",
      "  File \"/Users/lily/anaconda/lib/python3.6/inspect.py\", line 1490, in getinnerframes\n",
      "    frameinfo = (tb.tb_frame,) + getframeinfo(tb, context)\n",
      "  File \"/Users/lily/anaconda/lib/python3.6/inspect.py\", line 1448, in getframeinfo\n",
      "    filename = getsourcefile(frame) or getfile(frame)\n",
      "  File \"/Users/lily/anaconda/lib/python3.6/inspect.py\", line 696, in getsourcefile\n",
      "    if getattr(getmodule(object, filename), '__loader__', None) is not None:\n",
      "  File \"/Users/lily/anaconda/lib/python3.6/inspect.py\", line 725, in getmodule\n",
      "    file = getabsfile(object, _filename)\n",
      "  File \"/Users/lily/anaconda/lib/python3.6/inspect.py\", line 709, in getabsfile\n",
      "    return os.path.normcase(os.path.abspath(_filename))\n",
      "  File \"/Users/lily/anaconda/lib/python3.6/posixpath.py\", line 383, in abspath\n",
      "    cwd = os.getcwd()\n",
      "FileNotFoundError: [Errno 2] No such file or directory\n"
     ]
    },
    {
     "ename": "FileNotFoundError",
     "evalue": "[Errno 2] No such file or directory",
     "output_type": "error",
     "traceback": [
      "\u001b[0;31m---------------------------------------------------------------------------\u001b[0m"
     ]
    }
   ],
   "source": [
    "%matplotlib inline\n",
    "\n",
    "import io, os, sys, types, pickle\n",
    "\n",
    "import pandas as pd\n",
    "\n",
    "import matplotlib\n",
    "import matplotlib.pyplot as plt\n",
    "from matplotlib.colors import BoundaryNorm\n",
    "from matplotlib.ticker import MaxNLocator\n",
    "\n",
    "import numpy as np\n",
    "from numpy.linalg import eig, inv\n",
    "\n",
    "import math\n",
    "\n",
    "from scipy import interpolate, spatial, stats\n",
    "\n",
    "import seaborn as sns\n",
    "\n",
    "import skimage.io as skiIo\n",
    "from skimage import exposure, img_as_float, filters, morphology, transform\n",
    "\n",
    "from sklearn import linear_model\n",
    "from sklearn import metrics"
   ]
  },
  {
   "cell_type": "code",
   "execution_count": null,
   "metadata": {},
   "outputs": [],
   "source": []
  },
  {
   "cell_type": "code",
   "execution_count": 2,
   "metadata": {
    "scrolled": true
   },
   "outputs": [
    {
     "data": {
      "text/plain": [
       "' ============== path settings =============='"
      ]
     },
     "execution_count": 2,
     "metadata": {},
     "output_type": "execute_result"
    }
   ],
   "source": [
    "\"\"\" ============== path settings ==============\"\"\""
   ]
  },
  {
   "cell_type": "code",
   "execution_count": 3,
   "metadata": {},
   "outputs": [],
   "source": [
    "global isMac\n",
    "isMac = True\n",
    "\n",
    "if(isMac):\n",
    "#     dataPrefix = '/Users/lily/Lily/Academic/AW_Lab/data/fate_switching_gfp_rfp_old/Data'\n",
    "#     figOutPrefix = '/Users/lily/Lily/Academic/AW_Lab/data/fate_switching_gfp_rfp_old/Output/FigureOutput'\n",
    "#     dataOutPrefix = '/Users/lily/Lily/Academic/AW_Lab/data/fate_switching_gfp_rfp_old/Output/DataOutput'\n",
    "    dataPrefix = '/Users/lily/Lily/Academic/AW_Lab/data/fate_switching_gal80/Summary/Data'\n",
    "    figOutPrefix = '/Users/lily/Lily/Academic/AW_Lab/data/fate_switching_gal80/Summary/FigureOutput1'\n",
    "    dataOutPrefix = '/Users/lily/Lily/Academic/AW_Lab/data/fate_switching_gal80/Summary/DataOutput1'\n",
    "else:\n",
    "#     sys.path.insert(0, 'Z:\\\\lab\\\\Projects\\\\NSP\\\\NSP_Code\\\\python\\\\Quantification_fromPositionOnly\\\\Functions')\n",
    "    dataPrefix = 'Z:\\\\lab\\\\Projects\\\\NSP\\\\Data_Analysis\\\\Experiments\\\\Fate_Switching\\\\GFP_RFP_Gal80\\\\Summaries\\\\Data'\n",
    "    figOutPrefix = 'Z:\\\\lab\\\\Projects\\\\NSP\\\\Data_Analysis\\\\Experiments\\\\Fate_Switching\\\\GFP_RFP_Gal80\\\\Summaries\\\\FigureOutput'\n",
    "    dataOutPrefix = 'Z:\\\\lab\\\\Projects\\\\NSP\\\\Data_Analysis\\\\Experiments\\\\Fate_Switching\\\\GFP_RFP_Gal80\\\\Summaries\\\\DataOutput'\n",
    "#     dataPrefix = 'D:\\\\WEIYUE\\\\Data_Analysis\\\\Summary\\\\Data'\n",
    "#     figOutPrefix = ''\n",
    "#     dataOutPrefix = 'D:\\\\WEIYUE\\\\Data_Analysis\\\\Summary\\\\DataOutput'"
   ]
  },
  {
   "cell_type": "code",
   "execution_count": 4,
   "metadata": {},
   "outputs": [],
   "source": [
    "### file parameters\n",
    "# file folders\n",
    "imageFolder = 'Images'\n",
    "ROIFolder = 'ROIs'\n",
    "summaryFolder = 'Annotations'\n",
    "dataFolder = 'DataOutput'\n",
    "\n",
    "# file name\n",
    "summaryName = 'Fz_Gal80_s1r1_summary.csv'"
   ]
  },
  {
   "cell_type": "code",
   "execution_count": 5,
   "metadata": {},
   "outputs": [
    {
     "data": {
      "text/plain": [
       "' ============== Golbal variables and parameters =============='"
      ]
     },
     "execution_count": 5,
     "metadata": {},
     "output_type": "execute_result"
    }
   ],
   "source": [
    "\"\"\" ============== Golbal variables and parameters ==============\"\"\""
   ]
  },
  {
   "cell_type": "code",
   "execution_count": 6,
   "metadata": {},
   "outputs": [],
   "source": [
    "### global variables\n",
    "global ColorCode, targetIndexMatch, bins, channel_mapping\n",
    "bins = 4096"
   ]
  },
  {
   "cell_type": "code",
   "execution_count": 7,
   "metadata": {},
   "outputs": [],
   "source": [
    "### analysis parameters\n",
    "radiusExpanseRatio = [2.5, 3]\n",
    "# num_angleSection = 20\n",
    "# num_outsideAngle = 20\n",
    "num_angleSection = 10 # must be even number\n",
    "num_outsideAngle = 2\n",
    "num_Xsection = 10\n",
    "z_offset = 5\n",
    "\n",
    "analysisParams = (num_angleSection, num_outsideAngle, num_Xsection, z_offset, radiusExpanseRatio)\n"
   ]
  },
  {
   "cell_type": "code",
   "execution_count": 8,
   "metadata": {},
   "outputs": [],
   "source": [
    "### import custom functions\n",
    "# sys.path.insert(0, '/Volumns/wji/lab/Projects/NSP/NSP_Code/python/Quantification_fromPositionOnly/Functions/')\n",
    "import Data_quantification_function_helper as my_help\n",
    "import Data_quantification_function_intensity_calculation as my_int\n",
    "import Data_quantification_function_parse_bundle as my_pb\n",
    "import Data_quantification_function_plotting as my_plot\n",
    "# import Data_quantification_functions_plotPolar4 as my_polar"
   ]
  },
  {
   "cell_type": "code",
   "execution_count": 9,
   "metadata": {},
   "outputs": [
    {
     "data": {
      "text/plain": [
       "'============== main =============='"
      ]
     },
     "execution_count": 9,
     "metadata": {},
     "output_type": "execute_result"
    }
   ],
   "source": [
    "\"\"\"============== main ==============\"\"\""
   ]
  },
  {
   "cell_type": "code",
   "execution_count": 10,
   "metadata": {},
   "outputs": [],
   "source": [
    "sns.set_style(\"dark\")"
   ]
  },
  {
   "cell_type": "code",
   "execution_count": 11,
   "metadata": {},
   "outputs": [],
   "source": [
    "\"\"\"Load data\"\"\"\n",
    "### load summaries\n",
    "summary_df = pd.read_csv(os.path.join(dataPrefix, summaryFolder, summaryName))\n",
    "image_list = summary_df.loc[:,'Image_Name'].unique()\n",
    "ROI_list = summary_df.loc[:,'ROI_Name'].unique()\n",
    "isExtendedTargetList = False"
   ]
  },
  {
   "cell_type": "code",
   "execution_count": 12,
   "metadata": {},
   "outputs": [],
   "source": [
    "### 3 or 4 color staining\n",
    "if(isExtendedTargetList == True):\n",
    "    targetIndexMatch = {0:0, 1:1, 2:2, 3:3, 4:4, 5:5, 6:6, 7:30, 8:20, 9:50, 10:40}\n",
    "    targetIndexMatch_rev = {0:0, 1:1, 2:2, 3:3, 4:4, 5:5, 6:6, 30:7, 20:8, 50:9, 40:10}\n",
    "    ColorCode = {0:'#FFFFFF', 1:'#52FEFE', 2:'#1FF509', 3: '#FF0000', 4: '#CFCF1C', 5: '#FF00FF', 6: '#FFAE01', 20:'#1FF509', 30:'#FF0000', 40:'#CFCF1C', 50:'#FF00FF'}\n",
    "    channel_mapping = {'RFP':0, 'GFP':1, 'R3_1':2, 'R4_1':3, 'R3_2':4, 'R4_2':5, 'FasII': 6, '24B10': 7, 0:'RFP', 1:'GFP', 2:'R3_1', 3:'R4_1', 4:'R3_2', 5:'R4_2', 6:'FasII', 7:'24B10'}\n",
    "    matching_info = (targetIndexMatch, ColorCode, channel_mapping, targetIndexMatch_rev)\n",
    "else:\n",
    "    targetIndexMatch = {0:0, 1:2, 2:3, 3:4, 4:5, 5:7}\n",
    "    targetIndexMatch_rev = {0:0, 2:1, 3:2, 4:3, 5:4, 7:5}\n",
    "    ColorCode = {1:'#00FFFF', 2:'#1FF509', 3: '#FF0000', 4: '#CFCF1C', 5: '#FF00FF', 6: '#FFAE01', 7:'#983535', 0:'#FFFFFF'}\n",
    "    channel_mapping = {'RFP':0, 'GFP':1, 'R3_1':2, 'R4_1':3, 'R3_2':4, 'R4_2':5, 'R3_3': 6, 0:'RFP', 1:'GFP', 2:'R3_1', 3:'R4_1', 4:'R3_2', 5:'R4_2', 6:'R3_3'}\n",
    "    channel_cmap = {0:'Reds', 1: 'Greens', 2:'Reds', 3: 'Greens', 4:'Reds', 5: 'Greens', 6:'Reds'}\n",
    "    matching_info = (targetIndexMatch, ColorCode, channel_mapping, channel_cmap, targetIndexMatch_rev)"
   ]
  },
  {
   "cell_type": "code",
   "execution_count": 13,
   "metadata": {},
   "outputs": [],
   "source": [
    "i_image = 0"
   ]
  },
  {
   "cell_type": "code",
   "execution_count": 14,
   "metadata": {
    "scrolled": true
   },
   "outputs": [],
   "source": [
    "### load other data\n",
    "imageName = image_list[i_image]\n",
    "ROIName = ROI_list[i_image]\n",
    "ROI_df = pd.read_csv(os.path.join(dataPrefix, ROIFolder, ROIName))\n",
    "ROI_df.rename(columns = {' ':'No'}, inplace = True)\n",
    "annot_df = summary_df.groupby(['Image_Name']).get_group(image_list[i_image]).reset_index(drop = True)\n"
   ]
  },
  {
   "cell_type": "code",
   "execution_count": 15,
   "metadata": {},
   "outputs": [
    {
     "name": "stdout",
     "output_type": "stream",
     "text": [
      "CPU times: user 2.02 s, sys: 3.29 s, total: 5.3 s\n",
      "Wall time: 6.99 s\n"
     ]
    }
   ],
   "source": [
    "%time image = img_as_float(skiIo.imread(os.path.join(dataPrefix, imageFolder, imageName)))\n",
    "nChannels = min(image.shape)\n",
    "if(nChannels == 2):\n",
    "    image_shape = (image.shape[0], image.shape[2], image.shape[3])\n",
    "else:\n",
    "    image_shape = (image.shape[0], image.shape[1], image.shape[2])\n",
    "M2P_ratio = (summary_df.iloc[0]['imgX_pixel']/summary_df.iloc[0]['imgX_um'], summary_df.iloc[0]['imgY_pixel']/summary_df.iloc[0]['imgY_um'])"
   ]
  },
  {
   "cell_type": "code",
   "execution_count": 16,
   "metadata": {
    "scrolled": true
   },
   "outputs": [
    {
     "data": {
      "text/plain": [
       "(190, 2, 685, 2140)"
      ]
     },
     "execution_count": 16,
     "metadata": {},
     "output_type": "execute_result"
    }
   ],
   "source": [
    "image.shape"
   ]
  },
  {
   "cell_type": "code",
   "execution_count": 18,
   "metadata": {},
   "outputs": [
    {
     "data": {
      "text/plain": [
       "2"
      ]
     },
     "execution_count": 18,
     "metadata": {},
     "output_type": "execute_result"
    }
   ],
   "source": [
    "min(image.shape)"
   ]
  },
  {
   "cell_type": "code",
   "execution_count": 19,
   "metadata": {
    "scrolled": true
   },
   "outputs": [
    {
     "name": "stderr",
     "output_type": "stream",
     "text": [
      "/Users/lily/anaconda/lib/python3.6/site-packages/pandas/core/frame.py:6692: FutureWarning: Sorting because non-concatenation axis is not aligned. A future version\n",
      "of pandas will change to not sort by default.\n",
      "\n",
      "To accept the future behavior, pass 'sort=False'.\n",
      "\n",
      "To retain the current behavior and silence the warning, pass 'sort=True'.\n",
      "\n",
      "  sort=sort)\n"
     ]
    },
    {
     "name": "stdout",
     "output_type": "stream",
     "text": [
      "---df_annot---\n",
      "1\n",
      "7\n",
      "13\n",
      "19\n",
      "25\n",
      "32\n",
      "33\n",
      "12\n",
      "41\n",
      "17\n",
      "23\n",
      "47\n",
      "49\n"
     ]
    }
   ],
   "source": [
    "\"\"\" Process annotation info\"\"\"\n",
    "bundles_df = my_pb.getBundlesInfo(ROI_df, annot_df, M2P_ratio[0], M2P_ratio[1], isExtendedTargetList)\n",
    "annot_bundles_df = bundles_df.dropna(axis=0, how='any', inplace = False)\n",
    "annot_bundles_df_good = my_pb.Good_QC_df(annot_bundles_df)\n",
    "annot_bundles_df_bad = my_pb.Bad_QC_df(annot_bundles_df)"
   ]
  },
  {
   "cell_type": "code",
   "execution_count": null,
   "metadata": {
    "scrolled": false
   },
   "outputs": [
    {
     "name": "stdout",
     "output_type": "stream",
     "text": [
      "2 channels!\n",
      "CPU times: user 10.5 s, sys: 20 s, total: 30.5 s\n",
      "Wall time: 45.8 s\n",
      "CPU times: user 11.7 s, sys: 36.4 s, total: 48.1 s\n",
      "Wall time: 1min 12s\n",
      "gfp threshold!\n",
      "CPU times: user 11.1 s, sys: 25.9 s, total: 37 s\n",
      "Wall time: 47.1 s\n",
      "CPU times: user 3.78 s, sys: 17 s, total: 20.7 s\n",
      "Wall time: 23.7 s\n",
      "histogram matching!\n"
     ]
    }
   ],
   "source": [
    "\"\"\" Process images \"\"\"\n",
    "### number of channels\n",
    "nChannels = min(image.shape)# number of channels of original image\n",
    "num_norm_channels = len(channel_cmap.keys()) # number of channels of normalized image\n",
    "\n",
    "if(nChannels == 2):\n",
    "    print(\"2 channels!\")\n",
    "    ### normalize channels\n",
    "    image_norm = np.empty(image_shape + (num_norm_channels,), dtype=image[:,0,:,:].dtype, order='C')\n",
    "    thr = np.zeros((2))\n",
    "    \n",
    "    # RFP_norm\n",
    "    %time image_norm[:,:,:,0] = exposure.rescale_intensity(image[:,0,:,:], in_range = 'image', out_range='dtype')\n",
    "    # GFP_norm\n",
    "    %time image_norm[:,:,:,1] = exposure.rescale_intensity(image[:,1,:,:], in_range = 'image', out_range='dtype')    \n",
    "    \n",
    "    del image\n",
    "    \n",
    "    print(\"gfp threshold!\")\n",
    "    %time thr[0] = filters.threshold_isodata(image_norm[:,:,:,1])\n",
    "    %time thr[1] = filters.threshold_mean(image_norm[:,:,:,1])\n",
    "\n",
    "    print(\"histogram matching!\")\n",
    "    %time gfp = transform.match_histograms(image_norm[:,:,:,1], image_norm[:,:,:,0])\n",
    "    R3 = image_norm[:,:,:,0] - gfp*1.5\n",
    "    R3[R3<0] = 0\n",
    "    %time image_norm[:,:,:,2] = exposure.rescale_intensity(R3, in_range = 'image', out_range='dtype')\n",
    "    R4 = image_norm[:,:,:,0] * gfp\n",
    "    %time image_norm[:,:,:,3] = exposure.rescale_intensity(R4, in_range = 'image', out_range='dtype')\n",
    "    \n",
    "    gfp_thr = morphology.binary_opening((image_norm[:,:,:,1]>thr[0])*1)\n",
    "    %time image_norm[:,:,:,4] = exposure.rescale_intensity(image_norm[:,:,:,0] * (1-gfp_thr), in_range = 'image', out_range='dtype')\n",
    "    %time image_norm[:,:,:,5] = exposure.rescale_intensity(morphology.closing(image_norm[:,:,:,1]*((image_norm[:,:,:,1]>((thr[0] + thr[1])/2))*1)))\n",
    "\n",
    "    del R3, R4, gfp, gfp_thr\n",
    "    \n",
    "if(nChannels == 3):\n",
    "    print(\"3 channels!\")\n",
    "    ### Seperate channels\n",
    "    GFP = image[:,:,:,1]\n",
    "    RFP = image[:,:,:,0]\n",
    "    Cy5 = image[:,:,:,2]\n",
    "\n",
    "    ### normalize GFP & RFP channel\n",
    "    image_norm = np.empty(image_shape + (num_norm_channels,), dtype=GFP.dtype, order='C')\n",
    "    \n",
    "#     %time GFP_norm = exposure.equalize_adapthist(GFP)\n",
    "    %time GFP_norm = exposure.rescale_intensity(GFP, in_range = 'image', out_range='dtype')\n",
    "    \n",
    "#     %time RFP_norm = exposure.equalize_adapthist(RFP)\n",
    "    %time RFP_norm = exposure.rescale_intensity(RFP, in_range = 'image', out_range='dtype')\n",
    "    \n",
    "#     %time Cy5_norm = exposure.equalize_adapthist(GFP)\n",
    "    %time Cy5_norm = exposure.rescale_intensity(Cy5, in_range = 'image', out_range='dtype')\n",
    "    \n",
    "    image_norm[:,:,:,0] = RFP_norm\n",
    "    image_norm[:,:,:,1] = GFP_norm\n",
    "    image_norm[:,:,:,4] = Cy5_norm\n",
    "\n",
    "    R3 = RFP_norm - GFP_norm\n",
    "    R3[R3<0] = 0\n",
    "#     %time R3_norm = exposure.equalize_adapthist(R3)\n",
    "    %time R3_norm = exposure.rescale_intensity(R3, in_range = 'image', out_range='dtype')\n",
    "    image_norm[:,:,:,2] = R3_norm\n",
    "\n",
    "    R4 = RFP_norm * GFP_norm\n",
    "#     %time R4_norm = exposure.equalize_adapthist(R4)\n",
    "    %time R4_norm = exposure.rescale_intensity(R4, in_range = 'image', out_range='dtype')\n",
    "    image_norm[:,:,:,3] = R4_norm\n",
    "    \n",
    "elif(nChannels == 4):\n",
    "    print(\"4 channels!\")\n",
    "    ### normalize channels\n",
    "    image_norm = np.empty(image_shape + (num_norm_channels,), dtype=image[:,:,:,1].dtype, order='C')\n",
    "    thr = np.zeros((2))\n",
    "    \n",
    "    # RFP_norm\n",
    "    %time image_norm[:,:,:,0] = exposure.rescale_intensity(image[:,0,:,:], in_range = 'image', out_range='dtype')\n",
    "    # GFP_norm\n",
    "    %time image_norm[:,:,:,1] = exposure.rescale_intensity(image[:,1,:,:], in_range = 'image', out_range='dtype')    \n",
    "    \n",
    "    print(\"gfp threshold!\")\n",
    "    %time thr[0] = filters.threshold_isodata(image_norm[:,:,:,1])\n",
    "    %time thr[1] = filters.threshold_mean(image_norm[:,:,:,1])\n",
    "\n",
    "    print(\"histogram matching!\")\n",
    "    %time gfp = transform.match_histograms(image_norm[:,:,:,1], image_norm[:,:,:,0])\n",
    "    \n",
    "    print(\"R3/R4 v1\")\n",
    "    R3 = image_norm[:,:,:,0] - gfp\n",
    "    R3[R3<0] = 0\n",
    "    %time image_norm[:,:,:,2] = exposure.rescale_intensity(R3, in_range = 'image', out_range='dtype')\n",
    "    R4 = image_norm[:,:,:,0] * gfp\n",
    "    %time image_norm[:,:,:,3] = exposure.rescale_intensity(R4, in_range = 'image', out_range='dtype')\n",
    "    \n",
    "    print(\"R3/R4 v2\")\n",
    "    gfp_thr = morphology.binary_opening((image_norm[:,:,:,1]>thr[0])*1)\n",
    "    %time image_norm[:,:,:,4] = exposure.rescale_intensity(image_norm[:,:,:,0] * (1-gfp_thr), in_range = 'image', out_range='dtype')\n",
    "    %time image_norm[:,:,:,5] = exposure.rescale_intensity(morphology.closing(image_norm[:,:,:,1]*((image_norm[:,:,:,1]>((thr[0] + thr[1])/2))*1)))\n",
    "    \n",
    "    print(\"R3 v3\")\n",
    "    R3 = image_norm[:,:,:,0] - gfp*5\n",
    "    R3[R3<0] = 0\n",
    "    %time image_norm[:,:,:,6] = exposure.rescale_intensity(R3, in_range = 'image', out_range='dtype')\n",
    "\n",
    "    del R3, R4, gfp, gfp_thr"
   ]
  },
  {
   "cell_type": "code",
   "execution_count": null,
   "metadata": {
    "scrolled": true
   },
   "outputs": [],
   "source": [
    "\"\"\" Plot individual bundles \"\"\""
   ]
  },
  {
   "cell_type": "code",
   "execution_count": null,
   "metadata": {
    "scrolled": true
   },
   "outputs": [],
   "source": [
    "# for ind in range(len(annot_bundles_df.index)):\n",
    "ind = 6\n",
    "bundle_No = list(annot_bundles_df.index)[ind]\n",
    "plotSettings = False, False, False, True #isPlotR3Line, isPlotR4Line, isPlotR4s, isLabelOff\n",
    "# image_norm[:,:,:,2] = filter_test_rfp[:,:,:,2]\n",
    "# image_norm[:,:,:,3] = filter_test_gfp[:,:,:,2]\n",
    "# my_plot.plotIndividualBundles(bundle_No, bundles_df, image_norm[:,:,:,0:6], M2P_ratio[0], M2P_ratio[1], z_offset, plotSettings, matching_info)\n",
    "my_plot.plotIndividualBundles(bundle_No, bundles_df, image_norm[:,:,:,0:6], M2P_ratio[0], M2P_ratio[1], z_offset, plotSettings, matching_info)\n",
    "plt.show()"
   ]
  },
  {
   "cell_type": "code",
   "execution_count": null,
   "metadata": {
    "scrolled": false
   },
   "outputs": [],
   "source": [
    "\"\"\" get intensity matrix for good bundles\"\"\""
   ]
  },
  {
   "cell_type": "code",
   "execution_count": null,
   "metadata": {},
   "outputs": [],
   "source": []
  },
  {
   "cell_type": "code",
   "execution_count": null,
   "metadata": {
    "scrolled": false
   },
   "outputs": [],
   "source": [
    "### initialization\n",
    "print('-----' + image_list[i_image] + '------')\n",
    "matrixY = num_angleSection + 2*num_outsideAngle + 1\n",
    "matrixX = num_Xsection + 1\n",
    "matrixZ = z_offset * 2 + 1\n",
    "IntensityMatrix = np.zeros((len(annot_bundles_df.index), 2,2,6, matrixY, matrixX, matrixZ))\n",
    "IntensityMatrix = IntensityMatrix - 100\n",
    "#IntensityMatrix.shape = ind, slicetype, centertype, channelNo, matrixX, matrixY, matrixZ\n",
    "params = [];\n",
    "#params.shape = ind, slicetype, centertype\n",
    "rel_points = np.zeros((len(annot_bundles_df.index), 2, 2, 9))\n",
    "num_norm_channels = len(channel_cmap.keys())\n",
    "#params.shape = ind, slicetype, centertype"
   ]
  },
  {
   "cell_type": "code",
   "execution_count": null,
   "metadata": {},
   "outputs": [],
   "source": [
    "IntensityMatrix.shape"
   ]
  },
  {
   "cell_type": "code",
   "execution_count": null,
   "metadata": {
    "scrolled": false
   },
   "outputs": [],
   "source": [
    "### parse bundles\n",
    "# for ind in range(len(annot_bundles_df.index)):\n",
    "for ind in [0]:\n",
    "    bundle_No = list(annot_bundles_df.index)[ind]\n",
    "    R_Z = int(bundles_df.loc[bundle_No,'coord_Z_R' + str(3)]) - 1\n",
    "    print(\"Bundle No: \", bundle_No)\n",
    "    #     DV = bundles_df.loc[bundle_No, 'Orientation_DV']\n",
    "    #     AP = bundles_df.loc[bundle_No, 'Orientation_AP']\n",
    "\n",
    "    ### targets info\n",
    "    indTs, coordTs = my_help.getTargetCoords(bundle_No, bundles_df, targetIndexMatch)\n",
    "    coord_Center = my_help.getBundleCenter(bundle_No, bundles_df)\n",
    "    coordR4s = my_help.getRxCoords(bundle_No, bundles_df, indTs, 4)\n",
    "    coordR3s = my_help.getRxCoords(bundle_No, bundles_df, indTs, 3)\n",
    "    coordRs = np.concatenate((coordR4s, coordR3s))\n",
    "\n",
    "    ### slice info\n",
    "    SliceZeroPoint = coordTs[targetIndexMatch_rev[7],:] # T3'\n",
    "    SliceOnePoint = coordTs[targetIndexMatch_rev[3],:] # T3\n",
    "\n",
    "    ## slice radius info\n",
    "    LengthOnePoint = coordTs[targetIndexMatch_rev[4],:]\n",
    "\n",
    "    CenterPoints = [coordTs[0,:], coord_Center[0,:]]\n",
    "\n",
    "    Rcell_nums = [4,4]\n",
    "\n",
    "    printingParams = [False, False]\n",
    "\n",
    "    ### get slicing params, calculate matrix\n",
    "    pp = [[], []]\n",
    "    for centertype in [0,1]:\n",
    "        analysis_params = [analysisParams[0], analysisParams[1], analysisParams[2], analysisParams[3], analysisParams[4][centertype]]\n",
    "        print(centertype)\n",
    "        bundleParams = [bundle_No, indTs, coordTs, coord_Center, SliceZeroPoint, SliceOnePoint, LengthOnePoint, CenterPoints[centertype], Rcell_nums[centertype]]\n",
    "        for slicetype in [0,1]:\n",
    "            ## get slicing params\n",
    "            if(slicetype == 0):\n",
    "                pp_i, rel_points_i = my_int.getSliceParams_v1(analysis_params, bundles_df, bundleParams, printingParams, matching_info[4])\n",
    "            elif(slicetype == 1):\n",
    "                pp_i, rel_points_i = my_int.getSliceParams_v3(analysis_params, bundles_df, bundleParams, printingParams, matching_info[4])\n",
    "            pp[slicetype].append(pp_i)\n",
    "            rel_points[slicetype, centertype, ind, :] = rel_points_i\n",
    "            \n",
    "            # calculate matrix\n",
    "            for channelNo in range(num_norm_channels):\n",
    "#             for channelNo in [0]:\n",
    "                %time IntensityMatrix[ind, slicetype, centertype, channelNo,:,:,:] = my_int.getIntensityMatrix_new(pp_i, image_norm, channel_mapping[channelNo], channel_mapping)\n",
    "    params.append(pp)\n",
    "            \n"
   ]
  },
  {
   "cell_type": "code",
   "execution_count": null,
   "metadata": {},
   "outputs": [],
   "source": [
    "import Data_quantification_function_plotting15 as my_plot"
   ]
  },
  {
   "cell_type": "code",
   "execution_count": null,
   "metadata": {},
   "outputs": [],
   "source": []
  },
  {
   "cell_type": "code",
   "execution_count": null,
   "metadata": {
    "scrolled": false
   },
   "outputs": [],
   "source": [
    "### plotting\n",
    "for ind in [0]:\n",
    "    bundle_No = list(annot_bundles_df.index)[ind]\n",
    "    R_Z = int(bundles_df.loc[bundle_No,'coord_Z_R' + str(3)]) - 1\n",
    "    print(\"Bundle No: \", bundle_No)\n",
    "    #     DV = bundles_df.loc[bundle_No, 'Orientation_DV']\n",
    "    #     AP = bundles_df.loc[bundle_No, 'Orientation_AP']\n",
    "\n",
    "    ### targets info\n",
    "    indTs, coordTs = my_help.getTargetCoords(bundle_No, bundles_df, targetIndexMatch)\n",
    "    coord_Center = my_help.getBundleCenter(bundle_No, bundles_df)\n",
    "    coordR4s = my_help.getRxCoords(bundle_No, bundles_df, indTs, 4)\n",
    "    coordR3s = my_help.getRxCoords(bundle_No, bundles_df, indTs, 3)\n",
    "    coordRs = np.concatenate((coordR4s, coordR3s))\n",
    "\n",
    "    ### plotting heatmap\n",
    "    for centertype in [0]:\n",
    "        for slicetype in [0]:\n",
    "            pp_i = params[0][slicetype][centertype]\n",
    "            rel_points_i = rel_points[slicetype, centertype, ind, :]\n",
    "            \n",
    "            matrix = my_help.delete_zero_columns(IntensityMatrix[ind, centertype, slicetype, :, :, :, :], -100, 3)\n",
    "#             matrix = IntensityMatrix[ind, centertype, slicetype, :, :, :, :]\n",
    "    \n",
    "            plt.ioff()\n",
    "            img_name = image_list[i_image]\n",
    "            ori_X = np.round(np.linspace(0, radiusExpanseRatio[centertype], matrix.shape[2]), 2)\n",
    "            tickParams = [2, 1, ori_X, 21] ### tickTypeX, tickTypeY, tickArg2_X, tickArg2_Y\n",
    "            figParams = [centertype, pp_i, figOutPrefix, img_name, slicetype, radiusExpanseRatio[centertype]]\n",
    "            for thrFunction in [0]: # different thresholding methods\n",
    "                if(thrFunction == 0):\n",
    "                    thrs = np.zeros((6))\n",
    "                elif(thrFunction == 1):\n",
    "                    thrs = thr_otsu\n",
    "                #     elif(thrFunction == 2):\n",
    "                #         thrs = thr_li\n",
    "                plotOptions = [True, True, True, True, True, thrs, thrFunction] ### isPlotLine, isLabelOff, isSave, isTrueXTick, isOriTick, thrFunction            \n",
    "                fig = my_plot.plotBundleVsMatrix_all(bundle_No, bundles_df, image_norm, matrix, figParams, tickParams, plotOptions, matching_info)\n",
    "#                 plt.close(fig)\n",
    "                plt.show()\n",
    "            ## plotting: polar\n",
    "            figParams = pp_i, figOutPrefix, img_name, radiusExpanseRatio[centertype], centertype, slicetype\n",
    "            plotOptions = [True, True] # isLabelOff, isSave\n",
    "            for channelNo in range(num_norm_channels):\n",
    "                analysis_params = [analysisParams[0], analysisParams[1], analysisParams[2], analysisParams[3], analysisParams[4][centertype]]\n",
    "                fig = my_plot.plotPolar(bundle_No, bundles_df, image_norm, analysis_params, channelNo, matrix, figParams, plotOptions, matching_info, rel_points[slicetype, centertype, ind, :])\n",
    "        #         plt.close(fig)\n",
    "                plt.show()"
   ]
  },
  {
   "cell_type": "code",
   "execution_count": null,
   "metadata": {},
   "outputs": [],
   "source": [
    "image_norm"
   ]
  },
  {
   "cell_type": "code",
   "execution_count": null,
   "metadata": {},
   "outputs": [],
   "source": [
    "### Save matrixes and parameters"
   ]
  },
  {
   "cell_type": "code",
   "execution_count": null,
   "metadata": {},
   "outputs": [],
   "source": [
    "categoryID = annot_bundles_df.iloc[0]['CategoryID']\n",
    "sampleID = annot_bundles_df.iloc[0]['SampleID']\n",
    "regionID = annot_bundles_df.iloc[0]['RegionID']"
   ]
  },
  {
   "cell_type": "code",
   "execution_count": null,
   "metadata": {},
   "outputs": [],
   "source": [
    "    ### plotting: heatmap\n",
    "#     matrix = IntensityMatrix[:, ind, :,:,:]\n",
    "#     plt.ioff()\n",
    "#     img_name = image_list[i_image]\n",
    "#     ori_X = np.round(np.linspace(0, radiusExpanseRatio, matrix.shape[2]), 2)\n",
    "#     tickParams = [2, 1, ori_X, 21] ### tickTypeX, tickTypeY, tickArg2_X, tickArg2_Y\n",
    "#     figParams = [mind, pp[0:7], figOutPrefix, img_name, sliceTypeNo, radiusExpanseRatio]\n",
    "#     for thrFunction in [0]: # different thresholding methods\n",
    "#         if(thrFunction == 0):\n",
    "#             thrs = np.zeros((6))\n",
    "#         elif(thrFunction == 1):\n",
    "#             thrs = thr_otsu\n",
    "#         #     elif(thrFunction == 2):\n",
    "#         #         thrs = thr_li\n",
    "#         plotOptions = [True, True, True, True, False, thrs, thrFunction] ### isPlotLine, isLabelOff, isSave, isTrueXTick, isOriTick, thrFunction            \n",
    "#         fig = my_plot.plotBundleVsMatrix_all(bundle_No, bundles_df, image_norm, matrix, figParams, tickParams, plotOptions, matching_info)\n",
    "#         plt.close(fig)\n",
    "\n",
    "#     ### plotting: polar\n",
    "#     figParams = pp[0:7], figOutPrefix, img_name, radiusExpanseRatio\n",
    "#     plotOptions = [True, True] # isLabelOff, isSave\n",
    "#     for channelNo in range(6):\n",
    "#         fig = my_plot.plotPolar(bundle_No, bundles_df, image_norm, analysisParams, channelNo, matrix, figParams, plotOptions, matching_info)\n",
    "# #         plt.close(fig)\n"
   ]
  },
  {
   "cell_type": "code",
   "execution_count": null,
   "metadata": {},
   "outputs": [],
   "source": [
    "outputData = {}\n",
    "outputData['categoryID'] = categoryID\n",
    "outputData['sampleID'] = sampleID\n",
    "outputData['regionID'] = regionID\n",
    "outputData['IntensityMatrix'] = IntensityMatrix\n",
    "outputData['Parameter'] = params"
   ]
  },
  {
   "cell_type": "code",
   "execution_count": null,
   "metadata": {},
   "outputs": [],
   "source": [
    "import datetime"
   ]
  },
  {
   "cell_type": "code",
   "execution_count": null,
   "metadata": {},
   "outputs": [],
   "source": [
    "now = datetime.datetime.now()\n",
    "date_info = str(now.year)+str(now.month)+str(now.day)\n",
    "outputname = categoryID + '_sample' + str(sampleID) + '_region' + str(regionID) + '_v' + date_info + '.pickle'"
   ]
  },
  {
   "cell_type": "code",
   "execution_count": null,
   "metadata": {},
   "outputs": [],
   "source": [
    "outputDir = os.path.join(dataOutPrefix)\n",
    "my_help.check_dir(outputDir)\n",
    "outputDir = os.path.join(outputDir,categoryID)\n",
    "my_help.check_dir(outputDir)\n",
    "# outputname = categoryID + '_sample' + str(sampleID) + '_region' + str(regionID) +  + '.pickle'\n",
    "outputname = os.path.join(outputDir, outputname)\n",
    "pickle_out = open(outputname,\"wb\")\n",
    "pickle.dump(outputData, pickle_out)\n",
    "pickle_out.close()"
   ]
  },
  {
   "cell_type": "code",
   "execution_count": null,
   "metadata": {},
   "outputs": [],
   "source": [
    "pickle_in = open(outputname,\"rb\")\n",
    "outputData[i] = pickle.load(pickle_in)"
   ]
  },
  {
   "cell_type": "code",
   "execution_count": null,
   "metadata": {},
   "outputs": [],
   "source": []
  },
  {
   "cell_type": "code",
   "execution_count": null,
   "metadata": {
    "scrolled": true
   },
   "outputs": [],
   "source": [
    "# ind = 1\n",
    "\n",
    "# # mind = 2\n",
    "# # sliceType = 1\n",
    "# channelNo = 2\n",
    "# # \n",
    "# channel = channel_mapping[channelNo]\n",
    "# bundle_No = list(annot_bundles_df.index)[ind]\n",
    "\n",
    "# # plt.ioff()\n",
    "# img_name = image_list[i_image]\n",
    "# figParams1 = [channel, mind, pp[sliceTypeNo][mind], figOutPrefix, img_name, sliceTypeNo, radiusExpanseRatio]\n",
    "# figParams2 = [mind, pp[sliceTypeNo][mind], figOutPrefix, img_name, sliceTypeNo, radiusExpanseRatio]\n",
    "\n",
    "# tickParams = [1, 2, 5, [-1, -0.5, 0, 0.5, 1]] ### tickTypeX, tickTypeY, tickArg2_X, tickArg2_Y\n",
    "# plotOptions = [True, True, False, True, False] ### isPlotLine, isLabelOff, isSave, isTrueXTick, isMask\n",
    "# matrix1 = IntensityMatrix[sliceTypeNo, channelNo, mind, ind, :,:,:]\n",
    "# matrix2 = IntensityMatrix[sliceTypeNo, :, mind, ind, :,:,:]\n",
    "# # fig1 = my_plot.plotBundleVsMatrix(bundle_No, bundles_df, image_norm, matrix1, figParams1, tickParams, plotOptions, matching_info)\n",
    "# fig2 = plotBundleVsMatrix_all(bundle_No, bundles_df, image_norm, matrix2, figParams2, tickParams, plotOptions, matching_info)\n",
    "# # plt.close(fig)"
   ]
  }
 ],
 "metadata": {
  "kernelspec": {
   "display_name": "Python 3",
   "language": "python",
   "name": "python3"
  },
  "language_info": {
   "codemirror_mode": {
    "name": "ipython",
    "version": 3
   },
   "file_extension": ".py",
   "mimetype": "text/x-python",
   "name": "python",
   "nbconvert_exporter": "python",
   "pygments_lexer": "ipython3",
   "version": "3.6.8"
  }
 },
 "nbformat": 4,
 "nbformat_minor": 2
}
