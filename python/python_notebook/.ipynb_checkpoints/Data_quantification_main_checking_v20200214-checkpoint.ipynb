{
 "cells": [
  {
   "cell_type": "code",
   "execution_count": null,
   "metadata": {},
   "outputs": [],
   "source": [
    "%matplotlib inline\n",
    "\n",
    "import io, os, sys, types, datetime, pickle, warnings, time\n",
    "\n",
    "warnings.filterwarnings('ignore')\n",
    "\n",
    "import pandas as pd\n",
    "\n",
    "import matplotlib\n",
    "import matplotlib.pyplot as plt\n",
    "from matplotlib.colors import BoundaryNorm\n",
    "from matplotlib.ticker import MaxNLocator\n",
    "\n",
    "import numpy as np\n",
    "from numpy.linalg import eig, inv\n",
    "\n",
    "import math\n",
    "\n",
    "from scipy import interpolate, spatial, stats\n",
    "\n",
    "import seaborn as sns\n",
    "\n",
    "import skimage.io as skiIo\n",
    "from skimage import exposure, img_as_float, filters, morphology, transform\n",
    "\n",
    "from sklearn import linear_model\n",
    "from sklearn import metrics"
   ]
  },
  {
   "cell_type": "code",
   "execution_count": null,
   "metadata": {
    "scrolled": true
   },
   "outputs": [],
   "source": [
    "\"\"\" ============== path settings ==============\"\"\""
   ]
  },
  {
   "cell_type": "code",
   "execution_count": null,
   "metadata": {},
   "outputs": [],
   "source": [
    "module_path = os.path.join(os.path.dirname(os.getcwd()), 'python_cluster', 'functions')"
   ]
  },
  {
   "cell_type": "code",
   "execution_count": null,
   "metadata": {},
   "outputs": [],
   "source": [
    "module_path"
   ]
  },
  {
   "cell_type": "code",
   "execution_count": null,
   "metadata": {},
   "outputs": [],
   "source": [
    "# env = 'Windows'\n",
    "# if(env == 'Windows'):\n",
    "#     module_path = 'W:\\\\2019_09_NSP_Extension\\\\code\\\\NSP_codes\\\\python_cluster\\\\helper_functions'\n",
    "# elif(env == 'Mac'):\n",
    "#     module_path = '/Users/lily/Lily/Academic/AW_Lab/code/python_cluster/helper_functions'"
   ]
  },
  {
   "cell_type": "code",
   "execution_count": null,
   "metadata": {},
   "outputs": [],
   "source": [
    "# Mac, Figure_Output1, Data_Output1, Ctrl_24hrs_Gal80_s3r1_annotation, 1, 1, 24, 6, 20, 5, 1, checking\n"
   ]
  },
  {
   "cell_type": "code",
   "execution_count": null,
   "metadata": {
    "scrolled": true
   },
   "outputs": [],
   "source": [
    "### import custom functions\n",
    "if module_path not in sys.path:\n",
    "    sys.path.append(module_path)\n",
    "import settings as settings\n",
    "import helper as my_help\n",
    "import intensity_calculation as my_int\n",
    "import parse_bundle as my_pb\n",
    "import plotting as my_plot"
   ]
  },
  {
   "cell_type": "code",
   "execution_count": null,
   "metadata": {},
   "outputs": [],
   "source": [
    "paths = settings.paths\n",
    "matching_info = settings.matching_info\n",
    "analysis_params_general = settings.analysis_params_general"
   ]
  },
  {
   "cell_type": "code",
   "execution_count": null,
   "metadata": {
    "scrolled": true
   },
   "outputs": [],
   "source": [
    "matching_info.channel_mapping"
   ]
  },
  {
   "cell_type": "code",
   "execution_count": null,
   "metadata": {},
   "outputs": [],
   "source": [
    "\"\"\"============== main ==============\"\"\""
   ]
  },
  {
   "cell_type": "code",
   "execution_count": null,
   "metadata": {},
   "outputs": [],
   "source": [
    "sns.set_style(\"dark\")"
   ]
  },
  {
   "cell_type": "code",
   "execution_count": null,
   "metadata": {},
   "outputs": [],
   "source": [
    "paths.annot_path"
   ]
  },
  {
   "cell_type": "code",
   "execution_count": null,
   "metadata": {},
   "outputs": [],
   "source": [
    "\"\"\"Load data\"\"\"\n",
    "### load summaries\n",
    "summary_df = pd.read_csv(paths.annot_path)\n",
    "image_list = summary_df.loc[:,'Image_Name'].unique()\n",
    "ROI_list = summary_df.loc[:,'ROI_Name'].unique()"
   ]
  },
  {
   "cell_type": "code",
   "execution_count": null,
   "metadata": {
    "scrolled": true
   },
   "outputs": [],
   "source": [
    "image_list, ROI_list"
   ]
  },
  {
   "cell_type": "code",
   "execution_count": null,
   "metadata": {},
   "outputs": [],
   "source": [
    "i_image = 0"
   ]
  },
  {
   "cell_type": "code",
   "execution_count": null,
   "metadata": {
    "scrolled": true
   },
   "outputs": [],
   "source": [
    "### load other data\n",
    "image_name = image_list[i_image]\n",
    "roi_name = ROI_list[i_image]\n",
    "roi_df = pd.read_csv(os.path.join(paths.roi_path, roi_name))\n",
    "roi_df.rename(columns = {' ':'No'}, inplace = True)\n",
    "annot_df = summary_df.groupby(['Image_Name']).get_group(image_list[i_image]).reset_index(drop = True)\n",
    "m2p_ratio = (summary_df.iloc[0]['imgX_pixel']/summary_df.iloc[0]['imgX_um'], summary_df.iloc[0]['imgY_pixel']/summary_df.iloc[0]['imgY_um'])"
   ]
  },
  {
   "cell_type": "code",
   "execution_count": null,
   "metadata": {
    "scrolled": true
   },
   "outputs": [],
   "source": [
    "\"\"\" Process annotation info\"\"\"\n",
    "is_extended_target_list = False\n",
    "annotation_type = annot_df.loc[0,'Annotation_type']\n",
    "if(annotation_type == 1):\n",
    "    bundles_df = my_pb.get_bundles_info_v1(roi_df, annot_df, m2p_ratio[0], m2p_ratio[1], is_extended_target_list)\n",
    "if(annotation_type == 2):\n",
    "    bundles_df = my_pb.get_bundles_info_v2(roi_df, annot_df, m2p_ratio[0], m2p_ratio[1], is_extended_target_list)\n",
    "if(annotation_type == 3):\n",
    "    bundles_df = my_pb.get_bundles_info_v4(roi_df, annot_df, m2p_ratio[0], m2p_ratio[1], is_print = True)\n",
    "annot_bundles_df = bundles_df.dropna(axis=0, how='any', inplace = False)\n",
    "annot_bundles_df.sort_index(inplace = True)"
   ]
  },
  {
   "cell_type": "code",
   "execution_count": null,
   "metadata": {},
   "outputs": [],
   "source": [
    "matching_info.index_to_target_id"
   ]
  },
  {
   "cell_type": "code",
   "execution_count": null,
   "metadata": {},
   "outputs": [],
   "source": [
    "\"\"\"load imaging data\"\"\"\n"
   ]
  },
  {
   "cell_type": "code",
   "execution_count": null,
   "metadata": {
    "scrolled": true
   },
   "outputs": [],
   "source": [
    "%time image = img_as_float(skiIo.imread(os.path.join(paths.image_path, image_name)))\n",
    "image_shape = (image.shape[0], image.shape[1], image.shape[2])\n",
    "image_info = [image_name, image_shape, m2p_ratio]\n"
   ]
  },
  {
   "cell_type": "code",
   "execution_count": null,
   "metadata": {
    "scrolled": false
   },
   "outputs": [],
   "source": [
    "\"\"\" Process images \"\"\"\n",
    "### number of channels\n",
    "nChannels = min(image.shape)# number of channels of original image\n"
   ]
  },
  {
   "cell_type": "code",
   "execution_count": null,
   "metadata": {},
   "outputs": [],
   "source": [
    "matching_info.channels_type"
   ]
  },
  {
   "cell_type": "code",
   "execution_count": null,
   "metadata": {
    "scrolled": true
   },
   "outputs": [],
   "source": [
    "# # if not is_process_channels:\n",
    "#     num_norm_channels = len(matching_info.channel_mapping_checking.keys()) # number of channels of normalized image\n",
    "# else:\n",
    "num_norm_channels = len(matching_info.channel_cmap.keys())\n",
    "    \n",
    "if(nChannels == 2):\n",
    "    print(\"2 channels!\")\n",
    "    ### normalize channels\n",
    "    image_norm = np.empty(image_shape + (num_norm_channels,), dtype=image[:,0,:,:].dtype, order='C')\n",
    "    thr = np.zeros((2))\n",
    "    \n",
    "    # RFP_norm\n",
    "    %time image_norm[:,:,:,0] = exposure.rescale_intensity(image[:,0,:,:], in_range = 'image', out_range='dtype')\n",
    "    # GFP_norm\n",
    "    %time image_norm[:,:,:,1] = exposure.rescale_intensity(image[:,1,:,:], in_range = 'image', out_range='dtype')    \n",
    "    \n",
    "    del image\n",
    "        \n",
    "elif(nChannels == 4):\n",
    "    print(\"4 channels!\")\n",
    "    ### normalize channels\n",
    "    if(matching_info.channels_type == 'checking'):\n",
    "        image_norm = np.empty(image_shape + (num_norm_channels,), dtype=image[:,:,:,1].dtype, order='C')\n",
    "        # RFP_norm\n",
    "        %time image_norm[:,:,:,0] = image[:,:,:,0]\n",
    "        # GFP_norm\n",
    "        %time image_norm[:,:,:,1] = image[:,:,:,1]\n",
    "        # 24b10\n",
    "        %time image_norm[:,:,:,2] = image[:,:,:,2]\n",
    "        # FasII\n",
    "        %time image_norm[:,:,:,3] = image[:,:,:,3]\n",
    "\n",
    "        del image\n",
    "    elif(matching_info.channels_type == 'R3R4'):\n",
    "        thr = np.zeros((2))\n",
    "        image_norm = np.empty(image_shape + (num_norm_channels,), dtype=image[:,:,:,1].dtype, order='C')\n",
    "        # RFP_norm\n",
    "        %time image_norm[:,:,:,0] = exposure.rescale_intensity(image[:,:,:,0], in_range = 'image', out_range='dtype')\n",
    "        # GFP_norm\n",
    "        %time image_norm[:,:,:,1] = exposure.rescale_intensity(image[:,:,:,1], in_range = 'image', out_range='dtype')\n",
    "\n",
    "        %time thr[0] = filters.threshold_isodata(image_norm[:,:,:,1])\n",
    "        %time thr[1] = filters.threshold_mean(image_norm[:,:,:,1])\n",
    "\n",
    "        %time gfp = transform.match_histograms(image_norm[:,:,:,1], image_norm[:,:,:,0])\n",
    "\n",
    "        print(\"R3/R4 v1\")\n",
    "        r3_img = image_norm[:,:,:,0] - gfp\n",
    "        r3_img[r3_img<0] = 0\n",
    "        image_norm[:,:,:,2] = exposure.rescale_intensity(r3_img, in_range = 'image', out_range='dtype')\n",
    "        r4_img = image_norm[:,:,:,0] * gfp\n",
    "        image_norm[:,:,:,3] = exposure.rescale_intensity(r4_img, in_range = 'image', out_range='dtype')\n",
    "\n",
    "        print(\"R3/R4 v2\")\n",
    "        gfp_thr = morphology.binary_opening((image_norm[:,:,:,1]>thr[0])*1)\n",
    "        image_norm[:,:,:,4] = exposure.rescale_intensity(image_norm[:,:,:,0] * (1-gfp_thr), in_range = 'image', out_range='dtype')\n",
    "        image_norm[:,:,:,5] = exposure.rescale_intensity(morphology.closing(image_norm[:,:,:,1]*((image_norm[:,:,:,1]>((thr[0] + thr[1])/2))*1)))\n",
    "\n",
    "        print(\"R3 v3\")\n",
    "        my_help.print_to_log(\"R3 v3\")\n",
    "        r3_img = image_norm[:,:,:,0] - gfp*settings.analysis_params_general.scale_factor\n",
    "        r3_img[r3_img<0] = 0\n",
    "        image_norm[:,:,:,6] = exposure.rescale_intensity(r3_img, in_range = 'image', out_range='dtype')\n",
    "\n",
    "        del image, gfp, r3_img, r4_img\n",
    "\n",
    "    elif(matching_info.channels_type == 'FasII'):\n",
    "        image_norm = np.empty(image_shape + (num_norm_channels,), dtype=image[:,:,:,1].dtype, order='C')\n",
    "        # RFP_norm\n",
    "        %time image_norm[:,:,:,0] = exposure.rescale_intensity(image[:,:,:,0], in_range = 'image', out_range='dtype')\n",
    "        # GFP_norm\n",
    "        %time image_norm[:,:,:,1] = exposure.rescale_intensity(image[:,:,:,1], in_range = 'image', out_range='dtype')\n",
    "        # FasII norm\n",
    "        %time image_norm[:,:,:,2] = exposure.rescale_intensity(image[:,:,:,3], in_range = 'image', out_range='dtype')\n",
    "\n",
    "        %time thr = filters.threshold_otsu(image_norm[:,:,:,2])\n",
    "\n",
    "        print(\"FasII intersect\")\n",
    "        fasii_thr = morphology.binary_opening((image_norm[:,:,:,2]>thr)*1)\n",
    "        image_norm[:,:,:,3] = exposure.rescale_intensity(image_norm[:,:,:,0] * fasii_thr, in_range = 'image', out_range='dtype')\n",
    "        image_norm[:,:,:,4] = exposure.rescale_intensity(image_norm[:,:,:,1] * fasii_thr, in_range = 'image', out_range='dtype')\n",
    "\n",
    "        del image, fasii_thr"
   ]
  },
  {
   "cell_type": "code",
   "execution_count": null,
   "metadata": {},
   "outputs": [],
   "source": [
    "image_norm.shape"
   ]
  },
  {
   "cell_type": "code",
   "execution_count": null,
   "metadata": {
    "scrolled": false
   },
   "outputs": [],
   "source": [
    "\"\"\"example plot\"\"\""
   ]
  },
  {
   "cell_type": "code",
   "execution_count": null,
   "metadata": {},
   "outputs": [],
   "source": [
    "\"\"\"Example\"\"\""
   ]
  },
  {
   "cell_type": "code",
   "execution_count": null,
   "metadata": {
    "scrolled": false
   },
   "outputs": [],
   "source": [
    "bundle_no = 1\n",
    "plotSettings = False, False, False, True #isPlotR3Line, isPlotR4Line, isPlotR4s, isLabelOff\n",
    "my_plot.plot_individual_bundles(bundle_no, bundles_df, image_norm, m2p_ratio[0], m2p_ratio[1], num_subplots = image_norm.shape[-1],\n",
    "                                is_plot_r3_line = False, is_plot_r4_line = False, is_plot_r4 = False, is_label_off = True)\n",
    "plt.show()"
   ]
  },
  {
   "cell_type": "code",
   "execution_count": null,
   "metadata": {},
   "outputs": [],
   "source": [
    "\"\"\"plot all\"\"\"\n"
   ]
  },
  {
   "cell_type": "code",
   "execution_count": null,
   "metadata": {
    "scrolled": true
   },
   "outputs": [],
   "source": [
    "for ind, bundle_no in enumerate(annot_bundles_df.index):\n",
    "    plotSettings = False, False, False, True #isPlotR3Line, isPlotR4Line, isPlotR4s, isLabelOff\n",
    "    my_plot.plot_individual_bundles(bundle_no, bundles_df, image_norm, m2p_ratio[0], m2p_ratio[1], \n",
    "                                    num_subplots = image_norm.shape[-1], is_plot_r3_line = False, is_plot_r4_line = False, is_plot_r4 = False, is_label_off = True)\n",
    "    plt.show()"
   ]
  },
  {
   "cell_type": "code",
   "execution_count": null,
   "metadata": {},
   "outputs": [],
   "source": [
    "\"\"\"analyze images\"\"\""
   ]
  },
  {
   "cell_type": "code",
   "execution_count": null,
   "metadata": {
    "scrolled": true
   },
   "outputs": [],
   "source": [
    "# ### parameters\n",
    "# analysis_params_general = settings.analysis_params_general\n",
    "# matching_info = settings.matching_info\n",
    "# center_type = settings.analysis_params_general.center_type\n",
    "# slice_type = settings.analysis_params_general.slice_type\n",
    "\n",
    "# ### initialization\n",
    "# print('-----' + image_name + '------')\n",
    "# my_help.print_to_log('-----' + image_name + '------')\n",
    "# matrix_y = analysis_params_general.num_angle_section + 2 * analysis_params_general.num_outside_angle + 1\n",
    "# matrix_x = analysis_params_general.num_x_section + 1\n",
    "# matrix_z = analysis_params_general.z_offset * 2 + 1\n",
    "# num_norm_channels = image_norm.shape[-1]\n",
    "\n",
    "# intensity_matrix = np.zeros((len(annot_bundles_df.index), num_norm_channels, matrix_y, matrix_x, matrix_z))\n",
    "# intensity_matrix = intensity_matrix - 100\n",
    "\n",
    "# params = [];\n",
    "# rel_points = {}\n",
    "# # rel_points = np.zeros((len(annot_bundles_df.index), 9))\n",
    "\n",
    "# ### thresholds\n",
    "# thr_otsu = np.zeros((num_norm_channels))\n",
    "# thr_li = np.zeros((num_norm_channels))\n",
    "# thr_isodata = np.zeros((num_norm_channels))\n",
    "# time_start = time.time()\n",
    "# # for channel_no in range(num_norm_channels):\n",
    "# #     thr_otsu[channel_no] = filters.threshold_otsu(image_norm[:,:,:,channel_no])\n",
    "# #     thr_li[channel_no] = filters.threshold_li(image_norm[:,:,:,channel_no])\n",
    "# #     thr_isodata[channel_no] = filters.threshold_isodata(image_norm[:,:,:,channel_no])\n",
    "# time_end = time.time()\n",
    "# time_dur = time_end - time_start\n",
    "# my_help.print_to_log(\"total time: \" + str(time_dur))\n",
    "\n",
    "# ### process\n",
    "# for ind, bundle_no in enumerate(annot_bundles_df.index):\n",
    "# # ind = 0\n",
    "# # bundle_no = 1\n",
    "#     print(\"Bundle No: \" + str(bundle_no))\n",
    "#     my_help.print_to_log(\"Bundle No: \" + str(bundle_no))\n",
    "\n",
    "#     ### targets info\n",
    "#     ind_targets, coord_targets = my_help.get_target_coords(bundle_no, bundles_df)\n",
    "#     ind_targets, coord_targets_extended = my_help.get_target_coords(bundle_no, bundles_df, return_type = 'extended')\n",
    "#     coord_center = my_help.get_bundle_center(bundle_no, bundles_df)\n",
    "#     coord_r4s = my_help.get_rx_coords(bundle_no, bundles_df, ind_targets, 4)\n",
    "#     coord_r3s = my_help.get_rx_coords(bundle_no, bundles_df, ind_targets, 3)\n",
    "#     coord_rcells = np.concatenate((coord_r4s, coord_r3s))\n",
    "\n",
    "#     ### slice info\n",
    "#     slice_zero_point = coord_targets[matching_info.target_id_to_index[7],:] # T3'\n",
    "#     slice_one_point = coord_targets[matching_info.target_id_to_index[3],:] # T3\n",
    "\n",
    "#     length_one_point = coord_targets[matching_info.target_id_to_index[4],:]\n",
    "\n",
    "#     center_points = [coord_targets[0,:], coord_center[0,:]]\n",
    "\n",
    "#     r_cell_nos = [4,4]\n",
    "\n",
    "\n",
    "#     ### get slicing params and calculate matrix\n",
    "#     bundle_params = [\n",
    "#         bundle_no, \n",
    "#         ind_targets, \n",
    "#         coord_targets,\n",
    "#         coord_targets_extended,\n",
    "#         coord_center, \n",
    "#         slice_zero_point, \n",
    "#         slice_one_point, \n",
    "#         length_one_point, \n",
    "#         center_points[analysis_params_general.center_type], \n",
    "#         r_cell_nos[analysis_params_general.center_type]\n",
    "#     ]\n",
    "    \n",
    "#     if(slice_type == 0):\n",
    "#         pp_i, rel_points_i, fig = my_int.get_slice_params_v1(bundles_df, bundle_params, image_name, is_print = False, is_plot = True, is_save = True)\n",
    "#     elif(slice_type == 1):\n",
    "#         pp_i, rel_points_i, fig = my_int.get_slice_params_v3(bundles_df, bundle_params, image_name, is_print = False, is_plot = True, is_save = True)\n",
    "#     plt.close(fig)\n",
    "# # #     for slice_type in [0,1]:\n",
    "# #     pp_1, rel_points_1 = my_int.get_slice_params_v1(bundles_df, bundle_params, is_print = False, is_plot = True)\n",
    "# #     pp_2, rel_points_2 = my_int.get_slice_params_v3(bundles_df, bundle_params, is_print = False, is_plot = True)\n",
    "#     params.append(pp_i)\n",
    "#     rel_points[ind] = rel_points_i\n",
    "\n",
    "#     # calculate matrix\n",
    "#     time_start = time.time()\n",
    "#     for channel_no in range(num_norm_channels):\n",
    "#         my_help.print_to_log(\"Channle No: \" + str(channel_no))\n",
    "#         intensity_matrix[ind, channel_no,:,:,:] = my_int.get_intensity_matrix_new(pp_i, image_norm[:,:,:,channel_no])\n",
    "#             # intensity_matrix[ind, channel_no,:,:,:] = np.random.randn(intensity_matrix[ind, channel_no,:,:,:].shape[0], intensity_matrix[ind, channel_no,:,:,:].shape[1], intensity_matrix[ind, channel_no,:,:,:].shape[2])\n",
    "#         time_end = time.time()\n",
    "#         time_dur = time_end - time_start\n",
    "#         my_help.print_to_log(\"total time: \" + str(time_dur))"
   ]
  },
  {
   "cell_type": "code",
   "execution_count": null,
   "metadata": {
    "scrolled": false
   },
   "outputs": [],
   "source": [
    "# paths = settings.paths\n",
    "# analysis_params_general = settings.analysis_params_general\n",
    "# matching_info = settings.matching_info\n",
    "# num_norm_channels = image_norm.shape[-1]\n",
    "# img_name = image_info[0]\n",
    "\n",
    "# for ind, bundle_no in enumerate(annot_bundles_df.index):\n",
    "#     print(\"Bundle No: \", bundle_no)\n",
    "#     my_help.print_to_log(\"Bundle No: \" + str(bundle_no))\n",
    "\n",
    "#     category_id = annot_bundles_df.iloc[0]['CategoryID']\n",
    "#     sample_id = annot_bundles_df.iloc[0]['SampleID']\n",
    "#     region_id = annot_bundles_df.iloc[0]['RegionID']\n",
    "\n",
    "\n",
    "\n",
    "#     ### targets info\n",
    "#     ind_targets, coord_targets = my_help.get_target_coords(bundle_no, bundles_df)\n",
    "#     coord_center = my_help.get_bundle_center(bundle_no, bundles_df)\n",
    "#     coord_r4s = my_help.get_rx_coords(bundle_no, bundles_df, ind_targets, 4)\n",
    "#     coord_r3s = my_help.get_rx_coords(bundle_no, bundles_df, ind_targets, 3)\n",
    "#     coord_rs = np.concatenate((coord_r4s, coord_r3s))\n",
    "\n",
    "#     ### parameters\n",
    "#     pp_i = params[ind]\n",
    "#     rel_points_i = rel_points[ind]\n",
    "\n",
    "#     matrix = my_help.delete_zero_columns(intensity_matrix[ind, :, :, :, :], -100, 3)\n",
    "#     if(len(matrix.flatten()) > 0):\n",
    "# #         ## heat map\n",
    "# #         plt.ioff()\n",
    "# #         ori_x = np.round(np.linspace(0, analysis_params_general.radius_expanse_ratio[analysis_params_general.center_type], matrix.shape[2]), 2)\n",
    "# #         tick_params = [2, 1, ori_x, 21] ### tickTypeX, tickTypeY, tickArg2_X, tickArg2_Y\n",
    "# #         for thr_function_ids in [0, 1, 2, 3]: # different thresholding methods\n",
    "# #             thrs = np.zeros((num_norm_channels))\n",
    "# #             if(thr_function_ids == 0):\n",
    "# #                 thrs = np.zeros((num_norm_channels))\n",
    "# #             elif(thr_function_ids == 1):\n",
    "# #                 thrs = thr_otsu\n",
    "# #             elif(thr_function_ids == 2):\n",
    "# #                 thrs = thr_li\n",
    "# #             elif(thr_function_ids == 3):\n",
    "# #                 thrs = thr_isodata\n",
    "\n",
    "# #             fig_name = f'{category_id}_s{sample_id}r{region_id}_bundle_no_{bundle_no}_{thr_function_ids}.png'\n",
    "# #             fig_params = [pp_i, img_name, fig_name]\n",
    "# #             plot_options = [thrs, thr_function_ids, num_norm_channels]\n",
    "# #             fig = my_plot.plot_bundle_vs_matrix_all(bundle_no, bundles_df, image_norm, matrix, fig_params, tick_params, plot_options, is_label_off = True, is_save = True, is_true_x_tick = True, is_ori_tick = False)\n",
    "# #             plt.close(fig)\n",
    "\n",
    "#         ## polar plot\n",
    "#         fig_params = [pp_i, img_name]\n",
    "#         # plot_options = [True, True] # isLabelOff, isSave\n",
    "#         for channel_no in range(num_norm_channels):\n",
    "#             fig = my_plot.plot_polar(bundle_no, bundles_df, image_norm, channel_no, matrix, fig_params, rel_points_i, is_label_off = True, is_save = True, is_extended_target = True)\n",
    "#             plt.close(fig)\n",
    "\n",
    "#     else:\n",
    "#         print(\"error! No intensity matrix calculated!\")"
   ]
  },
  {
   "cell_type": "code",
   "execution_count": null,
   "metadata": {},
   "outputs": [],
   "source": []
  },
  {
   "cell_type": "code",
   "execution_count": null,
   "metadata": {},
   "outputs": [],
   "source": [
    "# t0_to_bundle_map = {}\n",
    "# for ind in annot_df.index:\n",
    "#     t0_to_bundle_map[annot_df.loc[ind, 'T0']] = annot_df.loc[ind, 'Bundle_No']\n",
    "    "
   ]
  },
  {
   "cell_type": "code",
   "execution_count": null,
   "metadata": {},
   "outputs": [],
   "source": [
    "# def get_bundles_info_v3(roi_df, annot_df, x_ratio, y_ratio, is_extended_target_list, is_print):\n",
    "#     ### initialization\n",
    "#     r_coords_list = []\n",
    "#     for i in range(6):\n",
    "#         for j in ['X', 'Y', 'Z']:\n",
    "#             r_coords_list.append('coord' + '_' + j + '_R' + str(i+1))\n",
    "#     center_coords_list = []\n",
    "#     for j in ['X', 'Y', 'Z']:\n",
    "#         center_coords_list.append('coord_' + j + '_Center')\n",
    "\n",
    "#     ### get column names\n",
    "#     qc_col_names = my_help.group_headers(annot_df, 'is_', True)\n",
    "#     orient_col_names = my_help.group_headers(annot_df, 'Orientation_', True)\n",
    "#     img_col_names = my_help.group_headers(annot_df, 'ID', True)\n",
    "#     flag_col_names = my_help.group_headers(annot_df, 'if_', True)\n",
    "#     bundles_cols = ['Bundle_No', 'num_Rcells'] + r_coords_list + center_coords_list + qc_col_names + orient_col_names + img_col_names + flag_col_names\n",
    "    \n",
    "#     ### hell-T0 map\n",
    "#     t0_to_bundle_map = {}\n",
    "#     for ind in annot_df.index:\n",
    "#         t0_to_bundle_map[annot_df.loc[ind, 'T0']] = annot_df.loc[ind, 'Bundle_No']\n",
    "    \n",
    "#     ### create new dataframe\n",
    "#     bundles_df = pd.DataFrame(columns = bundles_cols)\n",
    "\n",
    "#     ### group ROI.csv according to label -- grouping individual roi together\n",
    "#     roi_df_group = roi_df.groupby('Label') \\\n",
    "#         .agg({'X':'size', 'No':'mean'}) \\\n",
    "#         .rename(columns={'X':'count','No':'order'})\n",
    "#     roi_df_group.sort_values('order', inplace=True) #sort according to order of roi added, so that ind of roi_df_group = bundle_no - 1\n",
    "#     roi_df_group.reset_index(inplace=True)\n",
    "\n",
    "#     ### update bundle coordinates\n",
    "#     for ind in roi_df_group.index:\n",
    "#         bundle_no = ind+1\n",
    "#         print(bundle_no, roi_df_group.loc[ind, 'count'])\n",
    "\n",
    "#         ## this ROI is a bundle\n",
    "#         if(roi_df_group.loc[ind, 'count'] == 7):\n",
    "#             print(f'{bundle_no}: bundle!')\n",
    "#             df_tmp = pd.DataFrame(columns = bundles_cols)\n",
    "#             df_tmp.loc[0,'Bundle_No'] = int(ind+1)\n",
    "#             df_bd = roi_df.loc[roi_df['Label'] == list(roi_df_group.Label)[ind]]\n",
    "#             df_tmp.loc[0,'num_Rcells'] = int(df_bd.shape[0])\n",
    "\n",
    "#             ## R1- R6 coordinates\n",
    "#             for i in range(6):\n",
    "#                 df_tmp.loc[0,['coord_X_R' + str(i+1)]] = float(df_bd.loc[df_bd.index[i], 'X'])\n",
    "#                 df_tmp.loc[0,['coord_Y_R' + str(i+1)]] = float(df_bd.loc[df_bd.index[i], 'Y'])\n",
    "#                 df_tmp.loc[0,['coord_Z_R' + str(i+1)]] = float(df_bd.loc[df_bd.index[i], 'Slice'])\n",
    "\n",
    "#             ## center of bundle coordinates\n",
    "#             df_tmp.loc[0,'coord_X_Center'] = float(df_bd.loc[df_bd.index[6], 'X'])\n",
    "#             df_tmp.loc[0,'coord_Y_Center'] = float(df_bd.loc[df_bd.index[6], 'Y'])\n",
    "#             df_tmp.loc[0,'coord_Z_Center'] = float(df_bd.loc[df_bd.index[6], 'Slice'])\n",
    "\n",
    "#             bundles_df = bundles_df.append(df_tmp, ignore_index=True, sort=True)\n",
    "\n",
    "#         ## this ROI is a target of an annotated bundle\n",
    "#         elif(roi_df_group.loc[ind, 'count'] == 1 and ind+1 in t0_to_bundle_map.keys()):\n",
    "#             print(f'{bundle_no}: T0 of {t0_to_bundle_map[ind+1]}!')\n",
    "#             df_tmp = pd.DataFrame(columns = bundles_cols)\n",
    "#             df_tmp.loc[0,'Bundle_No'] = int(ind+1)\n",
    "#             df_bd = roi_df.loc[roi_df['Label'] == list(roi_df_group.Label)[ind]]\n",
    "                        \n",
    "#             ## target coordinates\n",
    "#             df_tmp.loc[0,'coord_X_T0'] = float(df_bd.loc[df_bd.index[0], 'X'])\n",
    "#             df_tmp.loc[0,'coord_Y_T0'] = float(df_bd.loc[df_bd.index[0], 'Y'])\n",
    "#             df_tmp.loc[0,'coord_Z_T0'] = float(df_bd.loc[df_bd.index[0], 'Slice'])\n",
    "# #             print(df_tmp.loc[0,'coord_X_T0'])\n",
    "\n",
    "#             bundles_df = bundles_df.append(df_tmp, ignore_index=True, sort=True)\n",
    "        \n",
    "#         ## this ROI is a target on its own\n",
    "#         elif(roi_df_group.loc[ind, 'count'] == 2):\n",
    "#             print(f'{bundle_no}: Target!')\n",
    "#             df_tmp = pd.DataFrame(columns = bundles_cols)\n",
    "#             df_tmp.loc[0,'Bundle_No'] = int(ind+1)\n",
    "#             df_bd = roi_df.loc[roi_df['Label'] == list(roi_df_group.Label)[ind]]\n",
    "                        \n",
    "#             ## target coordinates\n",
    "#             df_tmp.loc[0,'coord_X_T0'] = float(df_bd.loc[df_bd.index[0], 'X'])\n",
    "#             df_tmp.loc[0,'coord_Y_T0'] = float(df_bd.loc[df_bd.index[0], 'Y'])\n",
    "#             df_tmp.loc[0,'coord_Z_T0'] = float(df_bd.loc[df_bd.index[0], 'Slice'])\n",
    "            \n",
    "#             ### center coordinates\n",
    "#             df_tmp.loc[0,'coord_X_Center'] = float(df_bd.loc[df_bd.index[1], 'X'])\n",
    "#             df_tmp.loc[0,'coord_Y_Center'] = float(df_bd.loc[df_bd.index[1], 'Y'])\n",
    "#             df_tmp.loc[0,'coord_Z_Center'] = float(df_bd.loc[df_bd.index[1], 'Slice'])\n",
    "            \n",
    "#             bundles_df = bundles_df.append(df_tmp, ignore_index=True, sort=True)\n",
    "\n",
    "#         else:\n",
    "#             print(f'ERROR! Bundle No. {ind+1} count incorrect!')\n",
    "    \n",
    "#     bundles_df = bundles_df.set_index('Bundle_No')\n",
    "    \n",
    "#     ### get center for target Ts:\n",
    "#     for ind in t0_to_bundle_map.keys():\n",
    "#         print(ind, t0_to_bundle_map[ind])\n",
    "#         bundles_df.loc[ind,'coord_X_Center'] = bundles_df.loc[t0_to_bundle_map[ind],'coord_X_Center']\n",
    "#         bundles_df.loc[ind,'coord_Y_Center'] = bundles_df.loc[t0_to_bundle_map[ind],'coord_Y_Center']\n",
    "#         bundles_df.loc[ind,'coord_Z_Center'] = bundles_df.loc[t0_to_bundle_map[ind],'coord_Z_Center']\n",
    "\n",
    "#     ## update target & quality-control info\n",
    "#     print(\"---annot_df---\")\n",
    "#     my_help.print_to_log(\"---annot_df---\")\n",
    "\n",
    "#     for ind in annot_df.index:\n",
    "\n",
    "#         bundle_no = annot_df.iloc[ind]['Bundle_No'].astype(int)\n",
    "#         print(bundle_no)\n",
    "#         my_help.print_to_log(str(bundle_no))\n",
    "\n",
    "#         ### target info\n",
    "#         if(is_extended_target_list):\n",
    "#             bundles_df.loc[bundle_no, 'TargetNo_T3'] = annot_df.loc[ind,'T3'].astype(int)\n",
    "#             bundles_df.loc[bundle_no, 'TargetNo_T4'] = annot_df.loc[ind,'T4'].astype(int)\n",
    "#             bundles_df.loc[bundle_no, 'TargetNo_T5'] = annot_df.loc[ind,'T5'].astype(int)\n",
    "#             bundles_df.loc[bundle_no, 'TargetNo_T2'] = annot_df.loc[ind,'T2'].astype(int)\n",
    "#             bundles_df.loc[bundle_no, 'TargetNo_T1'] = annot_df.loc[ind,'T1'].astype(int)\n",
    "#             bundles_df.loc[bundle_no, 'TargetNo_T6'] = annot_df.loc[ind,'T6'].astype(int)\n",
    "#             bundles_df.loc[bundle_no, 'TargetNo_T20'] = annot_df.loc[ind,'T20'].astype(int)\n",
    "#             bundles_df.loc[bundle_no, 'TargetNo_T50'] = annot_df.loc[ind,'T50'].astype(int)\n",
    "#             bundles_df.loc[bundle_no, 'TargetNo_T40'] = annot_df.loc[ind,'T40'].astype(int)\n",
    "#             bundles_df.loc[bundle_no, 'TargetNo_T30'] = annot_df.loc[ind,'T30'].astype(int)\n",
    "#         else:\n",
    "#             bundles_df.loc[bundle_no, 'TargetNo_T3'] = annot_df.loc[ind,'T3'].astype(int)\n",
    "#             bundles_df.loc[bundle_no, 'TargetNo_T4'] = annot_df.loc[ind,'T4'].astype(int)\n",
    "#             bundles_df.loc[bundle_no, 'TargetNo_T5'] = annot_df.loc[ind,'T5'].astype(int)\n",
    "#             bundles_df.loc[bundle_no, 'TargetNo_T2'] = annot_df.loc[ind,'T2'].astype(int)\n",
    "#             bundles_df.loc[bundle_no, 'TargetNo_T7'] = annot_df.loc[ind,'T7'].astype(int)\n",
    "\n",
    "#         ### T0 coordinates\n",
    "#         ind_t0 = annot_df.loc[ind,'T0'].astype(int)\n",
    "#         bundles_df.loc[bundle_no, 'coord_X_T0'] = bundles_df.loc[ind_t0, 'coord_X_T0']\n",
    "#         bundles_df.loc[bundle_no, 'coord_Y_T0'] = bundles_df.loc[ind_t0, 'coord_Y_T0']\n",
    "#         bundles_df.loc[bundle_no, 'coord_Z_T0'] = bundles_df.loc[ind_t0, 'coord_Z_T0']\n",
    "\n",
    "#         ### quality control and flag info\n",
    "#         bundles_df.loc[bundle_no, orient_col_names] = annot_df.loc[ind, orient_col_names]    \n",
    "#         bundles_df.loc[bundle_no, qc_col_names] = annot_df.loc[ind, qc_col_names].astype(int)\n",
    "#         bundles_df.loc[bundle_no, flag_col_names] = annot_df.loc[ind, flag_col_names].astype(int)\n",
    "\n",
    "#         ### category, sample and region info.\n",
    "#         bundles_df.loc[bundle_no, img_col_names] = annot_df.loc[ind, img_col_names] \n",
    "\n",
    "#     ### X,Y coordinates from microns to pixels\n",
    "#     x_coord_cols = my_help.group_headers(bundles_df, 'coord_X', True)\n",
    "#     bundles_df.loc[:,x_coord_cols] = bundles_df.loc[:,x_coord_cols] * x_ratio\n",
    "#     y_coord_cols = my_help.group_headers(bundles_df, 'coord_Y', True)\n",
    "#     bundles_df.loc[:,y_coord_cols] = bundles_df.loc[:,y_coord_cols] * y_ratio\n",
    "    \n",
    "#     return bundles_df"
   ]
  },
  {
   "cell_type": "code",
   "execution_count": null,
   "metadata": {},
   "outputs": [],
   "source": [
    "# def get_target_coords(bundle_no, bundles_df, **kwarg):\n",
    "#     ### unravel params\n",
    "#     if('return_type' in kwarg.keys()):\n",
    "#         return_type = kwarg['return_type']\n",
    "#     else:\n",
    "#         return_type = 'target'\n",
    "#     if('dim' in kwarg.keys()):\n",
    "#         dim = kwarg['dim']\n",
    "#     else:\n",
    "#         dim = 2\n",
    "#     index_to_target_id = matching_info.index_to_target_id\n",
    "    \n",
    "#     if(return_type == 'target'):\n",
    "#         if(dim == 2):\n",
    "#             coord_cols_list = ['coord_X_T0', 'coord_Y_T0']\n",
    "#         elif(dim == 3):\n",
    "#             coord_cols_list = ['coord_X_T0', 'coord_Y_T0', 'coord_Z_T0']\n",
    "#     elif(return_type == 'extended'):\n",
    "#         if(dim == 2):\n",
    "#             coord_cols_list = ['coord_X_Center', 'coord_Y_Center']\n",
    "#         elif(dim == 3):\n",
    "#             coord_cols_list = ['coord_X_Center', 'coord_Y_Center', 'coord_Z_Center']\n",
    "    \n",
    "#     target_inds = []\n",
    "#     target_coords = np.zeros((len(index_to_target_id), dim))\n",
    "    \n",
    "#     if('TargetNo_T0' not in bundles_df.columns):\n",
    "#         target_inds.append(bundle_no)\n",
    "#     else:\n",
    "#         target_inds.append(bundles_df.loc[bundle_no,'TargetNo_T'])\n",
    "#     target_coords[0,:] = bundles_df.loc[bundle_no, coord_cols_list].to_numpy()\n",
    "\n",
    "#     for i in range(1,len(target_coords)):\n",
    "#         target_inds.append(int(bundles_df.loc[bundle_no,'TargetNo_T' + str(index_to_target_id[i])]))\n",
    "#         target_coords[i,:] = bundles_df.loc[target_inds[i], coord_cols_list].to_numpy()\n",
    "\n",
    "#     return target_inds, target_coords"
   ]
  }
 ],
 "metadata": {
  "kernelspec": {
   "display_name": "Python 3",
   "language": "python",
   "name": "python3"
  },
  "language_info": {
   "codemirror_mode": {
    "name": "ipython",
    "version": 3
   },
   "file_extension": ".py",
   "mimetype": "text/x-python",
   "name": "python",
   "nbconvert_exporter": "python",
   "pygments_lexer": "ipython3",
   "version": "3.6.8"
  }
 },
 "nbformat": 4,
 "nbformat_minor": 2
}
