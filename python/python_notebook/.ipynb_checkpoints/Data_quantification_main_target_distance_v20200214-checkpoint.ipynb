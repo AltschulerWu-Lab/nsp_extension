{
 "cells": [
  {
   "cell_type": "code",
   "execution_count": 1,
   "metadata": {},
   "outputs": [],
   "source": [
    "%matplotlib inline\n",
    "\n",
    "import io, os, sys, types, datetime, pickle, warnings\n",
    "\n",
    "warnings.filterwarnings('ignore')\n",
    "\n",
    "import pandas as pd\n",
    "\n",
    "import matplotlib\n",
    "import matplotlib.pyplot as plt\n",
    "from matplotlib.colors import BoundaryNorm\n",
    "from matplotlib.ticker import MaxNLocator\n",
    "\n",
    "import numpy as np\n",
    "from numpy.linalg import eig, inv\n",
    "\n",
    "import math\n",
    "\n",
    "from scipy import interpolate, spatial, stats\n",
    "\n",
    "import seaborn as sns\n",
    "\n",
    "import skimage.io as skiIo\n",
    "from skimage import exposure, img_as_float, filters, morphology, transform\n",
    "\n",
    "from sklearn import linear_model\n",
    "from sklearn import metrics"
   ]
  },
  {
   "cell_type": "code",
   "execution_count": 2,
   "metadata": {
    "scrolled": true
   },
   "outputs": [
    {
     "data": {
      "text/plain": [
       "' ============== path settings =============='"
      ]
     },
     "execution_count": 2,
     "metadata": {},
     "output_type": "execute_result"
    }
   ],
   "source": [
    "\"\"\" ============== path settings ==============\"\"\""
   ]
  },
  {
   "cell_type": "code",
   "execution_count": 3,
   "metadata": {},
   "outputs": [],
   "source": [
    "module_path = os.path.join(os.path.dirname(os.getcwd()), 'python_cluster', 'helper_functions')"
   ]
  },
  {
   "cell_type": "code",
   "execution_count": 4,
   "metadata": {},
   "outputs": [],
   "source": [
    "# env = 'Windows'\n",
    "# if(env == 'Windows'):\n",
    "#     module_path = 'W:\\\\2019_09_NSP_Extension\\\\code\\\\NSP_codes\\\\python_cluster\\\\helper_functions'\n",
    "# elif(env == 'Mac'):\n",
    "#     module_path = '/Users/lily/Lily/Academic/AW_Lab/code/python_cluster/helper_functions'"
   ]
  },
  {
   "cell_type": "code",
   "execution_count": 5,
   "metadata": {},
   "outputs": [],
   "source": [
    "# Mac, Data_Output, Figure_Output, Ctrl_22hrs_Gal80_s1r1_annotation.csv, 0, 1, 24, 18, 40, 20, 1"
   ]
  },
  {
   "cell_type": "code",
   "execution_count": 7,
   "metadata": {
    "scrolled": true
   },
   "outputs": [
    {
     "name": "stdout",
     "output_type": "stream",
     "text": [
      "Mac, Data_Output, Figure_Output, Ctrl_22hrs_Gal80_s1r1_annotation.csv, 0, 1, 24, 18, 40, 20, 1\n",
      "Mac, Data_Output, Figure_Output, Ctrl_22hrs_Gal80_s1r1_annotation.csv, 0, 1, 24, 18, 40, 20, 1\n"
     ]
    }
   ],
   "source": [
    "### import custom functions\n",
    "if module_path not in sys.path:\n",
    "    sys.path.append(module_path)\n",
    "import data_quantification_settings as settings\n",
    "import data_quantification_function_helper as my_help\n",
    "import data_quantification_function_intensity_calculation as my_int\n",
    "import data_quantification_function_parse_bundle as my_pb\n",
    "import data_quantification_function_plotting as my_plot"
   ]
  },
  {
   "cell_type": "code",
   "execution_count": 8,
   "metadata": {},
   "outputs": [],
   "source": [
    "paths = settings.paths\n",
    "matching_info = settings.matching_info\n",
    "analysis_params_general = settings.analysis_params_general"
   ]
  },
  {
   "cell_type": "code",
   "execution_count": 39,
   "metadata": {
    "scrolled": true
   },
   "outputs": [],
   "source": [
    "analysis_params_general.add_col_params({\n",
    "    'id_cols':['CategoryID', 'SampleID', 'RegionID', 'TimeID'],\n",
    "    'dist_cols':[\n",
    "        'dT0T4',\n",
    "        'dT0T5',\n",
    "        'dT4T2',\n",
    "        'dT4T5',\n",
    "        'dT4T3',\n",
    "        'dT4T7',\n",
    "        'dT2T3',\n",
    "        'dT5T7',\n",
    "        'dR0T4']\n",
    "})"
   ]
  },
  {
   "cell_type": "code",
   "execution_count": 38,
   "metadata": {},
   "outputs": [],
   "source": [
    "analysis_params_general.add_col_params({})"
   ]
  },
  {
   "cell_type": "code",
   "execution_count": 11,
   "metadata": {
    "scrolled": false
   },
   "outputs": [
    {
     "data": {
      "text/plain": [
       "'============== main =============='"
      ]
     },
     "execution_count": 11,
     "metadata": {},
     "output_type": "execute_result"
    }
   ],
   "source": [
    "\"\"\"============== main ==============\"\"\""
   ]
  },
  {
   "cell_type": "code",
   "execution_count": 12,
   "metadata": {},
   "outputs": [],
   "source": [
    "# # id_cols = [\n",
    "# #    'CategoryID',\n",
    "# #     'SampleID',\n",
    "# #     'RegionID',\n",
    "# #     'TimeID',\n",
    "# # ]\n",
    "# # target_dis_cols = ['dT0T2', 'dT0T5', 'dT4T2', 'dT4T5', 'dT4T3', 'dT4T7', 'dT0T4', 'dT2T3', 'dT5T7', 'dR0T4']\n",
    "# df_dis_cols = id_cols + ['Bundle_No'] + target_dis_cols"
   ]
  },
  {
   "cell_type": "code",
   "execution_count": 13,
   "metadata": {},
   "outputs": [],
   "source": [
    "sns.set_style(\"dark\")"
   ]
  },
  {
   "cell_type": "code",
   "execution_count": 14,
   "metadata": {},
   "outputs": [],
   "source": [
    "def parse_annotation_info(annot_df, roi_df, m2p_ratio):\n",
    "    is_extended_target_list = False\n",
    "    annotation_type = annot_df.loc[0,'Annotation_type']\n",
    "    if(annotation_type == 1):\n",
    "        bundles_df = my_pb.get_bundles_info_v1(roi_df, annot_df, m2p_ratio[0], m2p_ratio[1], is_extended_target_list)\n",
    "    if(annotation_type == 2):\n",
    "        bundles_df = my_pb.get_bundles_info_v2(roi_df, annot_df, m2p_ratio[0], m2p_ratio[1], is_extended_target_list)\n",
    "    if(annotation_type == 3):\n",
    "        bundles_df = my_pb.get_bundles_info_v3(roi_df, annot_df, m2p_ratio[0], m2p_ratio[1], is_extended_target_list)\n",
    "    annot_bundles_df = bundles_df.dropna(axis=0, how='any', inplace = False)\n",
    "    annot_bundles_df.sort_index(inplace = True)\n",
    "    return bundles_df, annot_bundles_df"
   ]
  },
  {
   "cell_type": "code",
   "execution_count": 15,
   "metadata": {},
   "outputs": [],
   "source": [
    "df_dis_cols = analysis_params_general.col_params['id_cols'] + ['Bundle_No'] + analysis_params_general.col_params['dist_cols']\n",
    "df_dis_2d = pd.DataFrame(columns = df_dis_cols)\n",
    "df_dis_3d = pd.DataFrame(columns = df_dis_cols)"
   ]
  },
  {
   "cell_type": "code",
   "execution_count": 17,
   "metadata": {
    "scrolled": true
   },
   "outputs": [
    {
     "data": {
      "text/plain": [
       "'/Users/lily/Lily/Academic/AW_Lab/data/Gal80_data'"
      ]
     },
     "execution_count": 17,
     "metadata": {},
     "output_type": "execute_result"
    }
   ],
   "source": [
    "paths.data_prefix"
   ]
  },
  {
   "cell_type": "code",
   "execution_count": 23,
   "metadata": {
    "scrolled": true
   },
   "outputs": [
    {
     "data": {
      "text/plain": [
       "'/Users/lily/Lily/Academic/AW_Lab/data/Gal80_data/Annotations/Ctrl/22/Ctrl_22hrs_Gal80_s1r1_annotation.csv/Nic/28'"
      ]
     },
     "execution_count": 23,
     "metadata": {},
     "output_type": "execute_result"
    }
   ],
   "source": [
    "pwd"
   ]
  },
  {
   "cell_type": "code",
   "execution_count": 32,
   "metadata": {},
   "outputs": [
    {
     "data": {
      "text/html": [
       "<div>\n",
       "<style scoped>\n",
       "    .dataframe tbody tr th:only-of-type {\n",
       "        vertical-align: middle;\n",
       "    }\n",
       "\n",
       "    .dataframe tbody tr th {\n",
       "        vertical-align: top;\n",
       "    }\n",
       "\n",
       "    .dataframe thead th {\n",
       "        text-align: right;\n",
       "    }\n",
       "</style>\n",
       "<table border=\"1\" class=\"dataframe\">\n",
       "  <thead>\n",
       "    <tr style=\"text-align: right;\">\n",
       "      <th></th>\n",
       "      <th>CategoryID</th>\n",
       "      <th>SampleID</th>\n",
       "      <th>RegionID</th>\n",
       "      <th>TimeID</th>\n",
       "      <th>Bundle_No</th>\n",
       "      <th>dT0T4</th>\n",
       "      <th>dT0T5</th>\n",
       "      <th>dT4T2</th>\n",
       "      <th>dT4T5</th>\n",
       "      <th>dT4T3</th>\n",
       "      <th>dT4T7</th>\n",
       "      <th>dT0T4</th>\n",
       "      <th>dT2T3</th>\n",
       "      <th>dT5T7</th>\n",
       "      <th>R0T4</th>\n",
       "    </tr>\n",
       "  </thead>\n",
       "  <tbody>\n",
       "    <tr>\n",
       "      <th>0</th>\n",
       "      <td>N</td>\n",
       "      <td>12</td>\n",
       "      <td>1</td>\n",
       "      <td>28</td>\n",
       "      <td>70</td>\n",
       "      <td>6.88307</td>\n",
       "      <td>3.76467</td>\n",
       "      <td>3.53049</td>\n",
       "      <td>5.0806</td>\n",
       "      <td>4.66731</td>\n",
       "      <td>5.34332</td>\n",
       "      <td>6.88307</td>\n",
       "      <td>6.66233</td>\n",
       "      <td>NaN</td>\n",
       "      <td>4.633274</td>\n",
       "    </tr>\n",
       "  </tbody>\n",
       "</table>\n",
       "</div>"
      ],
      "text/plain": [
       "  CategoryID SampleID RegionID TimeID Bundle_No    dT0T4    dT0T5    dT4T2  \\\n",
       "0          N       12        1     28        70  6.88307  3.76467  3.53049   \n",
       "\n",
       "    dT4T5    dT4T3    dT4T7    dT0T4    dT2T3 dT5T7      R0T4  \n",
       "0  5.0806  4.66731  5.34332  6.88307  6.66233   NaN  4.633274  "
      ]
     },
     "execution_count": 32,
     "metadata": {},
     "output_type": "execute_result"
    }
   ],
   "source": [
    "df_tmp_2d"
   ]
  },
  {
   "cell_type": "code",
   "execution_count": 31,
   "metadata": {
    "scrolled": true
   },
   "outputs": [
    {
     "name": "stdout",
     "output_type": "stream",
     "text": [
      "Nic\n",
      "28\n",
      "Nic_28hrs_Gal80_s12r1_summary.csv\n",
      "---annot_df---\n",
      "1\n",
      "2\n",
      "9\n",
      "12\n",
      "14\n",
      "18\n",
      "21\n",
      "23\n",
      "25\n",
      "30\n",
      "31\n",
      "35\n",
      "40\n",
      "41\n",
      "52\n",
      "57\n",
      "64\n",
      "66\n",
      "70\n"
     ]
    },
    {
     "ename": "AssertionError",
     "evalue": "Number of manager items must equal union of block items\n# manager items: 14, # tot_items: 15",
     "output_type": "error",
     "traceback": [
      "\u001b[0;31m---------------------------------------------------------------------------\u001b[0m",
      "\u001b[0;31mAssertionError\u001b[0m                            Traceback (most recent call last)",
      "\u001b[0;32m<ipython-input-31-0dc294da6410>\u001b[0m in \u001b[0;36m<module>\u001b[0;34m\u001b[0m\n\u001b[1;32m     13\u001b[0m                 \u001b[0mdf_tmp\u001b[0m \u001b[0;34m=\u001b[0m \u001b[0mpd\u001b[0m\u001b[0;34m.\u001b[0m\u001b[0mread_csv\u001b[0m\u001b[0;34m(\u001b[0m\u001b[0mos\u001b[0m\u001b[0;34m.\u001b[0m\u001b[0mpath\u001b[0m\u001b[0;34m.\u001b[0m\u001b[0mjoin\u001b[0m\u001b[0;34m(\u001b[0m\u001b[0mpwd\u001b[0m\u001b[0;34m,\u001b[0m \u001b[0mfilename\u001b[0m\u001b[0;34m)\u001b[0m\u001b[0;34m)\u001b[0m\u001b[0;34m\u001b[0m\u001b[0;34m\u001b[0m\u001b[0m\n\u001b[1;32m     14\u001b[0m                 \u001b[0mdf_tmp_2d\u001b[0m\u001b[0;34m,\u001b[0m \u001b[0mdf_tmp_3d\u001b[0m \u001b[0;34m=\u001b[0m \u001b[0mget_dist_dics\u001b[0m\u001b[0;34m(\u001b[0m\u001b[0mdf_tmp\u001b[0m\u001b[0;34m)\u001b[0m\u001b[0;34m\u001b[0m\u001b[0;34m\u001b[0m\u001b[0m\n\u001b[0;32m---> 15\u001b[0;31m                 \u001b[0mdf_dis_2d\u001b[0m \u001b[0;34m=\u001b[0m \u001b[0mdf_dis_2d\u001b[0m\u001b[0;34m.\u001b[0m\u001b[0mappend\u001b[0m\u001b[0;34m(\u001b[0m\u001b[0mdf_tmp_2d\u001b[0m\u001b[0;34m,\u001b[0m \u001b[0mignore_index\u001b[0m\u001b[0;34m=\u001b[0m\u001b[0;32mTrue\u001b[0m\u001b[0;34m,\u001b[0m \u001b[0msort\u001b[0m\u001b[0;34m=\u001b[0m\u001b[0;32mTrue\u001b[0m\u001b[0;34m)\u001b[0m\u001b[0;34m\u001b[0m\u001b[0;34m\u001b[0m\u001b[0m\n\u001b[0m\u001b[1;32m     16\u001b[0m                 \u001b[0mdf_dis_3d\u001b[0m \u001b[0;34m=\u001b[0m \u001b[0mdf_dis_2d\u001b[0m\u001b[0;34m.\u001b[0m\u001b[0mappend\u001b[0m\u001b[0;34m(\u001b[0m\u001b[0mdf_tmp_3d\u001b[0m\u001b[0;34m,\u001b[0m \u001b[0mignore_index\u001b[0m\u001b[0;34m=\u001b[0m\u001b[0;32mTrue\u001b[0m\u001b[0;34m,\u001b[0m \u001b[0msort\u001b[0m\u001b[0;34m=\u001b[0m\u001b[0;32mTrue\u001b[0m\u001b[0;34m)\u001b[0m\u001b[0;34m\u001b[0m\u001b[0;34m\u001b[0m\u001b[0m\n",
      "\u001b[0;32m~/anaconda/lib/python3.6/site-packages/pandas/core/frame.py\u001b[0m in \u001b[0;36mappend\u001b[0;34m(self, other, ignore_index, verify_integrity, sort)\u001b[0m\n\u001b[1;32m   6690\u001b[0m         return concat(to_concat, ignore_index=ignore_index,\n\u001b[1;32m   6691\u001b[0m                       \u001b[0mverify_integrity\u001b[0m\u001b[0;34m=\u001b[0m\u001b[0mverify_integrity\u001b[0m\u001b[0;34m,\u001b[0m\u001b[0;34m\u001b[0m\u001b[0;34m\u001b[0m\u001b[0m\n\u001b[0;32m-> 6692\u001b[0;31m                       sort=sort)\n\u001b[0m\u001b[1;32m   6693\u001b[0m \u001b[0;34m\u001b[0m\u001b[0m\n\u001b[1;32m   6694\u001b[0m     def join(self, other, on=None, how='left', lsuffix='', rsuffix='',\n",
      "\u001b[0;32m~/anaconda/lib/python3.6/site-packages/pandas/core/reshape/concat.py\u001b[0m in \u001b[0;36mconcat\u001b[0;34m(objs, axis, join, join_axes, ignore_index, keys, levels, names, verify_integrity, sort, copy)\u001b[0m\n\u001b[1;32m    227\u001b[0m                        \u001b[0mverify_integrity\u001b[0m\u001b[0;34m=\u001b[0m\u001b[0mverify_integrity\u001b[0m\u001b[0;34m,\u001b[0m\u001b[0;34m\u001b[0m\u001b[0;34m\u001b[0m\u001b[0m\n\u001b[1;32m    228\u001b[0m                        copy=copy, sort=sort)\n\u001b[0;32m--> 229\u001b[0;31m     \u001b[0;32mreturn\u001b[0m \u001b[0mop\u001b[0m\u001b[0;34m.\u001b[0m\u001b[0mget_result\u001b[0m\u001b[0;34m(\u001b[0m\u001b[0;34m)\u001b[0m\u001b[0;34m\u001b[0m\u001b[0;34m\u001b[0m\u001b[0m\n\u001b[0m\u001b[1;32m    230\u001b[0m \u001b[0;34m\u001b[0m\u001b[0m\n\u001b[1;32m    231\u001b[0m \u001b[0;34m\u001b[0m\u001b[0m\n",
      "\u001b[0;32m~/anaconda/lib/python3.6/site-packages/pandas/core/reshape/concat.py\u001b[0m in \u001b[0;36mget_result\u001b[0;34m(self)\u001b[0m\n\u001b[1;32m    424\u001b[0m             new_data = concatenate_block_managers(\n\u001b[1;32m    425\u001b[0m                 \u001b[0mmgrs_indexers\u001b[0m\u001b[0;34m,\u001b[0m \u001b[0mself\u001b[0m\u001b[0;34m.\u001b[0m\u001b[0mnew_axes\u001b[0m\u001b[0;34m,\u001b[0m \u001b[0mconcat_axis\u001b[0m\u001b[0;34m=\u001b[0m\u001b[0mself\u001b[0m\u001b[0;34m.\u001b[0m\u001b[0maxis\u001b[0m\u001b[0;34m,\u001b[0m\u001b[0;34m\u001b[0m\u001b[0;34m\u001b[0m\u001b[0m\n\u001b[0;32m--> 426\u001b[0;31m                 copy=self.copy)\n\u001b[0m\u001b[1;32m    427\u001b[0m             \u001b[0;32mif\u001b[0m \u001b[0;32mnot\u001b[0m \u001b[0mself\u001b[0m\u001b[0;34m.\u001b[0m\u001b[0mcopy\u001b[0m\u001b[0;34m:\u001b[0m\u001b[0;34m\u001b[0m\u001b[0;34m\u001b[0m\u001b[0m\n\u001b[1;32m    428\u001b[0m                 \u001b[0mnew_data\u001b[0m\u001b[0;34m.\u001b[0m\u001b[0m_consolidate_inplace\u001b[0m\u001b[0;34m(\u001b[0m\u001b[0;34m)\u001b[0m\u001b[0;34m\u001b[0m\u001b[0;34m\u001b[0m\u001b[0m\n",
      "\u001b[0;32m~/anaconda/lib/python3.6/site-packages/pandas/core/internals/managers.py\u001b[0m in \u001b[0;36mconcatenate_block_managers\u001b[0;34m(mgrs_indexers, axes, concat_axis, copy)\u001b[0m\n\u001b[1;32m   2063\u001b[0m         \u001b[0mblocks\u001b[0m\u001b[0;34m.\u001b[0m\u001b[0mappend\u001b[0m\u001b[0;34m(\u001b[0m\u001b[0mb\u001b[0m\u001b[0;34m)\u001b[0m\u001b[0;34m\u001b[0m\u001b[0;34m\u001b[0m\u001b[0m\n\u001b[1;32m   2064\u001b[0m \u001b[0;34m\u001b[0m\u001b[0m\n\u001b[0;32m-> 2065\u001b[0;31m     \u001b[0;32mreturn\u001b[0m \u001b[0mBlockManager\u001b[0m\u001b[0;34m(\u001b[0m\u001b[0mblocks\u001b[0m\u001b[0;34m,\u001b[0m \u001b[0maxes\u001b[0m\u001b[0;34m)\u001b[0m\u001b[0;34m\u001b[0m\u001b[0;34m\u001b[0m\u001b[0m\n\u001b[0m",
      "\u001b[0;32m~/anaconda/lib/python3.6/site-packages/pandas/core/internals/managers.py\u001b[0m in \u001b[0;36m__init__\u001b[0;34m(self, blocks, axes, do_integrity_check)\u001b[0m\n\u001b[1;32m    112\u001b[0m \u001b[0;34m\u001b[0m\u001b[0m\n\u001b[1;32m    113\u001b[0m         \u001b[0;32mif\u001b[0m \u001b[0mdo_integrity_check\u001b[0m\u001b[0;34m:\u001b[0m\u001b[0;34m\u001b[0m\u001b[0;34m\u001b[0m\u001b[0m\n\u001b[0;32m--> 114\u001b[0;31m             \u001b[0mself\u001b[0m\u001b[0;34m.\u001b[0m\u001b[0m_verify_integrity\u001b[0m\u001b[0;34m(\u001b[0m\u001b[0;34m)\u001b[0m\u001b[0;34m\u001b[0m\u001b[0;34m\u001b[0m\u001b[0m\n\u001b[0m\u001b[1;32m    115\u001b[0m \u001b[0;34m\u001b[0m\u001b[0m\n\u001b[1;32m    116\u001b[0m         \u001b[0mself\u001b[0m\u001b[0;34m.\u001b[0m\u001b[0m_consolidate_check\u001b[0m\u001b[0;34m(\u001b[0m\u001b[0;34m)\u001b[0m\u001b[0;34m\u001b[0m\u001b[0;34m\u001b[0m\u001b[0m\n",
      "\u001b[0;32m~/anaconda/lib/python3.6/site-packages/pandas/core/internals/managers.py\u001b[0m in \u001b[0;36m_verify_integrity\u001b[0;34m(self)\u001b[0m\n\u001b[1;32m    314\u001b[0m                                  \u001b[0;34m'block items\\n# manager items: {0}, # '\u001b[0m\u001b[0;34m\u001b[0m\u001b[0;34m\u001b[0m\u001b[0m\n\u001b[1;32m    315\u001b[0m                                  'tot_items: {1}'.format(\n\u001b[0;32m--> 316\u001b[0;31m                                      len(self.items), tot_items))\n\u001b[0m\u001b[1;32m    317\u001b[0m \u001b[0;34m\u001b[0m\u001b[0m\n\u001b[1;32m    318\u001b[0m     def apply(self, f, axes=None, filter=None, do_integrity_check=False,\n",
      "\u001b[0;31mAssertionError\u001b[0m: Number of manager items must equal union of block items\n# manager items: 14, # tot_items: 15"
     ]
    }
   ],
   "source": [
    "annot_path = os.path.join(paths.data_prefix, 'Annotations')\n",
    "cats, files = my_help.parse_folder_info(annot_path)\n",
    "for cat in cats:\n",
    "    print(cat)\n",
    "    times, files = my_help.parse_folder_info(os.path.join(annot_path, cat))\n",
    "    for time in times:\n",
    "        print(time)\n",
    "        folders, files = my_help.parse_folder_info(os.path.join(annot_path, cat, time))\n",
    "        pwd = os.path.join(annot_path, cat, time)\n",
    "        for filename in files:\n",
    "            print(filename)\n",
    "            if('.csv' in filename):\n",
    "                df_tmp = pd.read_csv(os.path.join(pwd, filename))\n",
    "                df_tmp_2d, df_tmp_3d = get_dist_dics(df_tmp)\n",
    "                df_dis_2d = df_dis_2d.append(df_tmp_2d, ignore_index=True, sort=True)\n",
    "                df_dis_3d = df_dis_2d.append(df_tmp_3d, ignore_index=True, sort=True)"
   ]
  },
  {
   "cell_type": "code",
   "execution_count": 90,
   "metadata": {
    "scrolled": false
   },
   "outputs": [
    {
     "name": "stdout",
     "output_type": "stream",
     "text": [
      "---annot_df---\n",
      "1\n",
      "2\n",
      "9\n",
      "12\n",
      "14\n",
      "18\n",
      "21\n",
      "23\n",
      "25\n",
      "30\n",
      "31\n",
      "35\n",
      "40\n",
      "41\n",
      "52\n",
      "57\n",
      "64\n",
      "66\n",
      "70\n",
      "Empty DataFrame\n",
      "Columns: [CategoryID, SampleID, RegionID, TimeID, Bundle_No, dT0T4, dT0T5, dT4T2, dT4T5, dT4T3, dT4T7, dT0T4, dT2T3, dT5T7, dR0T4]\n",
      "Index: []\n",
      "  CategoryID SampleID RegionID TimeID Bundle_No    dT0T4    dT0T5    dT4T2  \\\n",
      "0          N       12        1     28         1  8.26206  6.00857  5.70936   \n",
      "\n",
      "    dT4T5    dT4T3    dT4T7    dT0T4    dT2T3    dT5T7    dR0T4  \n",
      "0  4.3402  5.29146  8.16141  8.26206  8.42324  10.6505  5.53959  \n"
     ]
    },
    {
     "ename": "AssertionError",
     "evalue": "Number of manager items must equal union of block items\n# manager items: 15, # tot_items: 17",
     "output_type": "error",
     "traceback": [
      "\u001b[0;31m---------------------------------------------------------------------------\u001b[0m",
      "\u001b[0;31mAssertionError\u001b[0m                            Traceback (most recent call last)",
      "\u001b[0;32m<ipython-input-90-a598759713dc>\u001b[0m in \u001b[0;36m<module>\u001b[0;34m\u001b[0m\n\u001b[1;32m     51\u001b[0m         \u001b[0mdf_dis_2d\u001b[0m \u001b[0;34m=\u001b[0m \u001b[0mdf_tmp_2d\u001b[0m\u001b[0;34m\u001b[0m\u001b[0;34m\u001b[0m\u001b[0m\n\u001b[1;32m     52\u001b[0m     \u001b[0;32melse\u001b[0m\u001b[0;34m:\u001b[0m\u001b[0;34m\u001b[0m\u001b[0;34m\u001b[0m\u001b[0m\n\u001b[0;32m---> 53\u001b[0;31m         \u001b[0mdf_dis_2d\u001b[0m \u001b[0;34m=\u001b[0m \u001b[0mdf_dis_2d\u001b[0m\u001b[0;34m.\u001b[0m\u001b[0mappend\u001b[0m\u001b[0;34m(\u001b[0m\u001b[0mdf_tmp_2d\u001b[0m\u001b[0;34m,\u001b[0m \u001b[0mignore_index\u001b[0m\u001b[0;34m=\u001b[0m\u001b[0;32mTrue\u001b[0m\u001b[0;34m,\u001b[0m \u001b[0msort\u001b[0m\u001b[0;34m=\u001b[0m\u001b[0;32mTrue\u001b[0m\u001b[0;34m)\u001b[0m\u001b[0;34m\u001b[0m\u001b[0;34m\u001b[0m\u001b[0m\n\u001b[0m\u001b[1;32m     54\u001b[0m     \u001b[0;32mif\u001b[0m\u001b[0;34m(\u001b[0m\u001b[0mdf_dis_3d\u001b[0m\u001b[0;34m.\u001b[0m\u001b[0mempty\u001b[0m\u001b[0;34m)\u001b[0m\u001b[0;34m:\u001b[0m\u001b[0;34m\u001b[0m\u001b[0;34m\u001b[0m\u001b[0m\n\u001b[1;32m     55\u001b[0m         \u001b[0mdf_dis_3d\u001b[0m \u001b[0;34m=\u001b[0m \u001b[0mdf_tmp_3d\u001b[0m\u001b[0;34m\u001b[0m\u001b[0;34m\u001b[0m\u001b[0m\n",
      "\u001b[0;32m~/anaconda/lib/python3.6/site-packages/pandas/core/frame.py\u001b[0m in \u001b[0;36mappend\u001b[0;34m(self, other, ignore_index, verify_integrity, sort)\u001b[0m\n\u001b[1;32m   6690\u001b[0m         return concat(to_concat, ignore_index=ignore_index,\n\u001b[1;32m   6691\u001b[0m                       \u001b[0mverify_integrity\u001b[0m\u001b[0;34m=\u001b[0m\u001b[0mverify_integrity\u001b[0m\u001b[0;34m,\u001b[0m\u001b[0;34m\u001b[0m\u001b[0;34m\u001b[0m\u001b[0m\n\u001b[0;32m-> 6692\u001b[0;31m                       sort=sort)\n\u001b[0m\u001b[1;32m   6693\u001b[0m \u001b[0;34m\u001b[0m\u001b[0m\n\u001b[1;32m   6694\u001b[0m     def join(self, other, on=None, how='left', lsuffix='', rsuffix='',\n",
      "\u001b[0;32m~/anaconda/lib/python3.6/site-packages/pandas/core/reshape/concat.py\u001b[0m in \u001b[0;36mconcat\u001b[0;34m(objs, axis, join, join_axes, ignore_index, keys, levels, names, verify_integrity, sort, copy)\u001b[0m\n\u001b[1;32m    227\u001b[0m                        \u001b[0mverify_integrity\u001b[0m\u001b[0;34m=\u001b[0m\u001b[0mverify_integrity\u001b[0m\u001b[0;34m,\u001b[0m\u001b[0;34m\u001b[0m\u001b[0;34m\u001b[0m\u001b[0m\n\u001b[1;32m    228\u001b[0m                        copy=copy, sort=sort)\n\u001b[0;32m--> 229\u001b[0;31m     \u001b[0;32mreturn\u001b[0m \u001b[0mop\u001b[0m\u001b[0;34m.\u001b[0m\u001b[0mget_result\u001b[0m\u001b[0;34m(\u001b[0m\u001b[0;34m)\u001b[0m\u001b[0;34m\u001b[0m\u001b[0;34m\u001b[0m\u001b[0m\n\u001b[0m\u001b[1;32m    230\u001b[0m \u001b[0;34m\u001b[0m\u001b[0m\n\u001b[1;32m    231\u001b[0m \u001b[0;34m\u001b[0m\u001b[0m\n",
      "\u001b[0;32m~/anaconda/lib/python3.6/site-packages/pandas/core/reshape/concat.py\u001b[0m in \u001b[0;36mget_result\u001b[0;34m(self)\u001b[0m\n\u001b[1;32m    424\u001b[0m             new_data = concatenate_block_managers(\n\u001b[1;32m    425\u001b[0m                 \u001b[0mmgrs_indexers\u001b[0m\u001b[0;34m,\u001b[0m \u001b[0mself\u001b[0m\u001b[0;34m.\u001b[0m\u001b[0mnew_axes\u001b[0m\u001b[0;34m,\u001b[0m \u001b[0mconcat_axis\u001b[0m\u001b[0;34m=\u001b[0m\u001b[0mself\u001b[0m\u001b[0;34m.\u001b[0m\u001b[0maxis\u001b[0m\u001b[0;34m,\u001b[0m\u001b[0;34m\u001b[0m\u001b[0;34m\u001b[0m\u001b[0m\n\u001b[0;32m--> 426\u001b[0;31m                 copy=self.copy)\n\u001b[0m\u001b[1;32m    427\u001b[0m             \u001b[0;32mif\u001b[0m \u001b[0;32mnot\u001b[0m \u001b[0mself\u001b[0m\u001b[0;34m.\u001b[0m\u001b[0mcopy\u001b[0m\u001b[0;34m:\u001b[0m\u001b[0;34m\u001b[0m\u001b[0;34m\u001b[0m\u001b[0m\n\u001b[1;32m    428\u001b[0m                 \u001b[0mnew_data\u001b[0m\u001b[0;34m.\u001b[0m\u001b[0m_consolidate_inplace\u001b[0m\u001b[0;34m(\u001b[0m\u001b[0;34m)\u001b[0m\u001b[0;34m\u001b[0m\u001b[0;34m\u001b[0m\u001b[0m\n",
      "\u001b[0;32m~/anaconda/lib/python3.6/site-packages/pandas/core/internals/managers.py\u001b[0m in \u001b[0;36mconcatenate_block_managers\u001b[0;34m(mgrs_indexers, axes, concat_axis, copy)\u001b[0m\n\u001b[1;32m   2063\u001b[0m         \u001b[0mblocks\u001b[0m\u001b[0;34m.\u001b[0m\u001b[0mappend\u001b[0m\u001b[0;34m(\u001b[0m\u001b[0mb\u001b[0m\u001b[0;34m)\u001b[0m\u001b[0;34m\u001b[0m\u001b[0;34m\u001b[0m\u001b[0m\n\u001b[1;32m   2064\u001b[0m \u001b[0;34m\u001b[0m\u001b[0m\n\u001b[0;32m-> 2065\u001b[0;31m     \u001b[0;32mreturn\u001b[0m \u001b[0mBlockManager\u001b[0m\u001b[0;34m(\u001b[0m\u001b[0mblocks\u001b[0m\u001b[0;34m,\u001b[0m \u001b[0maxes\u001b[0m\u001b[0;34m)\u001b[0m\u001b[0;34m\u001b[0m\u001b[0;34m\u001b[0m\u001b[0m\n\u001b[0m",
      "\u001b[0;32m~/anaconda/lib/python3.6/site-packages/pandas/core/internals/managers.py\u001b[0m in \u001b[0;36m__init__\u001b[0;34m(self, blocks, axes, do_integrity_check)\u001b[0m\n\u001b[1;32m    112\u001b[0m \u001b[0;34m\u001b[0m\u001b[0m\n\u001b[1;32m    113\u001b[0m         \u001b[0;32mif\u001b[0m \u001b[0mdo_integrity_check\u001b[0m\u001b[0;34m:\u001b[0m\u001b[0;34m\u001b[0m\u001b[0;34m\u001b[0m\u001b[0m\n\u001b[0;32m--> 114\u001b[0;31m             \u001b[0mself\u001b[0m\u001b[0;34m.\u001b[0m\u001b[0m_verify_integrity\u001b[0m\u001b[0;34m(\u001b[0m\u001b[0;34m)\u001b[0m\u001b[0;34m\u001b[0m\u001b[0;34m\u001b[0m\u001b[0m\n\u001b[0m\u001b[1;32m    115\u001b[0m \u001b[0;34m\u001b[0m\u001b[0m\n\u001b[1;32m    116\u001b[0m         \u001b[0mself\u001b[0m\u001b[0;34m.\u001b[0m\u001b[0m_consolidate_check\u001b[0m\u001b[0;34m(\u001b[0m\u001b[0;34m)\u001b[0m\u001b[0;34m\u001b[0m\u001b[0;34m\u001b[0m\u001b[0m\n",
      "\u001b[0;32m~/anaconda/lib/python3.6/site-packages/pandas/core/internals/managers.py\u001b[0m in \u001b[0;36m_verify_integrity\u001b[0;34m(self)\u001b[0m\n\u001b[1;32m    314\u001b[0m                                  \u001b[0;34m'block items\\n# manager items: {0}, # '\u001b[0m\u001b[0;34m\u001b[0m\u001b[0;34m\u001b[0m\u001b[0m\n\u001b[1;32m    315\u001b[0m                                  'tot_items: {1}'.format(\n\u001b[0;32m--> 316\u001b[0;31m                                      len(self.items), tot_items))\n\u001b[0m\u001b[1;32m    317\u001b[0m \u001b[0;34m\u001b[0m\u001b[0m\n\u001b[1;32m    318\u001b[0m     def apply(self, f, axes=None, filter=None, do_integrity_check=False,\n",
      "\u001b[0;31mAssertionError\u001b[0m: Number of manager items must equal union of block items\n# manager items: 15, # tot_items: 17"
     ]
    }
   ],
   "source": [
    "df_tmp = pd.read_csv(os.path.join(pwd, filename))\n",
    "\n",
    "id_cols = analysis_params_general.col_params['id_cols']\n",
    "target_dis_cols = analysis_params_general.col_params['dist_cols']\n",
    "\n",
    "image_list = df_tmp.loc[:,'Image_Name'].unique()\n",
    "ROI_list = df_tmp.loc[:,'ROI_Name'].unique()\n",
    "i_image = 0\n",
    "image_name = image_list[i_image]\n",
    "roi_name = ROI_list[i_image]\n",
    "df_roi_temp = pd.read_csv(os.path.join(paths.roi_path, roi_name))\n",
    "df_roi_temp.rename(columns = {' ':'No'}, inplace = True)\n",
    "df_annot_temp = df_tmp.groupby(['Image_Name']).get_group(image_list[i_image]).reset_index(drop = True)\n",
    "m2p_ratio = (df_annot_temp.iloc[0]['imgX_pixel']/df_annot_temp.iloc[0]['imgX_um'], df_annot_temp.iloc[0]['imgY_pixel']/df_annot_temp.iloc[0]['imgY_um'])\n",
    "df_bundles_temp, df_annot_bundles_temp = parse_annotation_info(df_annot_temp, df_roi_temp, m2p_ratio)\n",
    "\n",
    "df_dis_2d = pd.DataFrame(columns = id_cols + ['Bundle_No'] + target_dis_cols)\n",
    "df_dis_3d = pd.DataFrame(columns = id_cols + ['Bundle_No'] + target_dis_cols)\n",
    "\n",
    "for bundle_no in df_annot_bundles_temp.index:\n",
    "    df_tmp_2d = pd.DataFrame(columns = df_dis_2d.columns)\n",
    "    df_tmp_3d = pd.DataFrame(columns = df_dis_3d.columns)\n",
    "    coord_ori = np.array([\n",
    "        df_annot_bundles_temp.loc[bundle_no,'coord_X_Center'],\n",
    "        df_annot_bundles_temp.loc[bundle_no,'coord_Y_Center'],\n",
    "        df_annot_bundles_temp.loc[bundle_no,'coord_Z_Center']\n",
    "    ])\n",
    "    target_inds, target_coords_2d = my_help.get_target_coords(bundle_no, df_bundles_temp, matching_info.index_to_target_id)\n",
    "    target_inds, target_coords_3d = my_help.get_3d_target_coords(bundle_no, df_bundles_temp, matching_info.index_to_target_id)\n",
    "    for i in [0,1]:\n",
    "        target_coords_2d[:,i] = target_coords_2d[:,i]/m2p_ratio[i]\n",
    "        target_coords_3d[:,i] = target_coords_3d[:,i]/m2p_ratio[i]\n",
    "        coord_ori[i] = coord_ori[i]/m2p_ratio[i]\n",
    "    target_coords_3d[:,2] = target_coords_3d[:,2] * 0.125\n",
    "    coord_ori[2] = coord_ori[2] * 0.125\n",
    "    df_tmp_2d.loc[0,id_cols[:-1]] = df_annot_bundles_temp.loc[bundle_no, id_cols[:-1]]\n",
    "    df_tmp_3d.loc[0,id_cols[:-1]] = df_annot_bundles_temp.loc[bundle_no, id_cols[:-1]]\n",
    "    df_tmp_2d.loc[0, 'TimeID'] = 28\n",
    "    df_tmp_3d.loc[0, 'TimeID'] = 28\n",
    "    df_tmp_2d.loc[0,'Bundle_No'] = bundle_no\n",
    "    df_tmp_3d.loc[0,'Bundle_No'] = bundle_no\n",
    "    for cat in target_dis_cols[:-1]:\n",
    "        ind_i = matching_info.target_id_to_index[int(cat.split('T')[1])]\n",
    "        ind_j = matching_info.target_id_to_index[int(cat.split('T')[2])]\n",
    "        df_tmp_2d.loc[0,cat] = np.linalg.norm(target_coords_2d[ind_i,:]-target_coords_2d[ind_j,:])\n",
    "        df_tmp_3d.loc[0,cat] = np.linalg.norm(target_coords_3d[ind_i,:]-target_coords_3d[ind_j,:])\n",
    "    df_tmp_2d.loc[0,'dR0T4'] = np.linalg.norm(target_coords_2d[matching_info.target_id_to_index[4],:] - coord_ori[0:2])\n",
    "    df_tmp_3d.loc[0,'dR0T4'] = np.linalg.norm(target_coords_3d[matching_info.target_id_to_index[4],:] - coord_ori)\n",
    "    print(df_dis_2d)\n",
    "    if(df_dis_2d.empty):\n",
    "        df_dis_2d = df_tmp_2d\n",
    "    else:\n",
    "        df_dis_2d = df_dis_2d.append(df_tmp_2d, ignore_index=True, sort=True)\n",
    "    if(df_dis_3d.empty):\n",
    "        df_dis_3d = df_tmp_3d\n",
    "    else:\n",
    "        df_dis_3d = df_dis_3d.append(df_tmp_3d, ignore_index=True, sort=True)"
   ]
  },
  {
   "cell_type": "code",
   "execution_count": 95,
   "metadata": {
    "scrolled": true
   },
   "outputs": [
    {
     "name": "stdout",
     "output_type": "stream",
     "text": [
      "[ True  True  True  True  True  True  True  True  True  True  True  True\n",
      "  True  True  True]\n"
     ]
    }
   ],
   "source": [
    "print(df_dis_2d.columns == df_tmp_2d.columns)"
   ]
  },
  {
   "cell_type": "code",
   "execution_count": 92,
   "metadata": {},
   "outputs": [
    {
     "data": {
      "text/html": [
       "<div>\n",
       "<style scoped>\n",
       "    .dataframe tbody tr th:only-of-type {\n",
       "        vertical-align: middle;\n",
       "    }\n",
       "\n",
       "    .dataframe tbody tr th {\n",
       "        vertical-align: top;\n",
       "    }\n",
       "\n",
       "    .dataframe thead th {\n",
       "        text-align: right;\n",
       "    }\n",
       "</style>\n",
       "<table border=\"1\" class=\"dataframe\">\n",
       "  <thead>\n",
       "    <tr style=\"text-align: right;\">\n",
       "      <th></th>\n",
       "      <th>CategoryID</th>\n",
       "      <th>SampleID</th>\n",
       "      <th>RegionID</th>\n",
       "      <th>TimeID</th>\n",
       "      <th>Bundle_No</th>\n",
       "      <th>dT0T4</th>\n",
       "      <th>dT0T5</th>\n",
       "      <th>dT4T2</th>\n",
       "      <th>dT4T5</th>\n",
       "      <th>dT4T3</th>\n",
       "      <th>dT4T7</th>\n",
       "      <th>dT0T4</th>\n",
       "      <th>dT2T3</th>\n",
       "      <th>dT5T7</th>\n",
       "      <th>dR0T4</th>\n",
       "    </tr>\n",
       "  </thead>\n",
       "  <tbody>\n",
       "    <tr>\n",
       "      <th>0</th>\n",
       "      <td>N</td>\n",
       "      <td>12</td>\n",
       "      <td>1</td>\n",
       "      <td>28</td>\n",
       "      <td>2</td>\n",
       "      <td>8.42324</td>\n",
       "      <td>5.70936</td>\n",
       "      <td>4.10948</td>\n",
       "      <td>5.29146</td>\n",
       "      <td>5.84149</td>\n",
       "      <td>3.32563</td>\n",
       "      <td>8.42324</td>\n",
       "      <td>4.77487</td>\n",
       "      <td>7.15738</td>\n",
       "      <td>6.5679</td>\n",
       "    </tr>\n",
       "  </tbody>\n",
       "</table>\n",
       "</div>"
      ],
      "text/plain": [
       "  CategoryID SampleID RegionID TimeID Bundle_No    dT0T4    dT0T5    dT4T2  \\\n",
       "0          N       12        1     28         2  8.42324  5.70936  4.10948   \n",
       "\n",
       "     dT4T5    dT4T3    dT4T7    dT0T4    dT2T3    dT5T7   dR0T4  \n",
       "0  5.29146  5.84149  3.32563  8.42324  4.77487  7.15738  6.5679  "
      ]
     },
     "execution_count": 92,
     "metadata": {},
     "output_type": "execute_result"
    }
   ],
   "source": [
    "df_tmp_2d"
   ]
  },
  {
   "cell_type": "code",
   "execution_count": 79,
   "metadata": {},
   "outputs": [],
   "source": [
    "df_dis_2d = pd.DataFrame(columns = id_cols + ['Bundle_No'] + target_dis_cols)"
   ]
  },
  {
   "cell_type": "code",
   "execution_count": 83,
   "metadata": {},
   "outputs": [
    {
     "data": {
      "text/plain": [
       "True"
      ]
     },
     "execution_count": 83,
     "metadata": {},
     "output_type": "execute_result"
    }
   ],
   "source": [
    "df_dis_2d.empty"
   ]
  },
  {
   "cell_type": "code",
   "execution_count": 72,
   "metadata": {},
   "outputs": [],
   "source": [
    "df_dis_2d = df_dis_2d.append(df_tmp_2d, ignore_index = True)"
   ]
  },
  {
   "cell_type": "code",
   "execution_count": 75,
   "metadata": {},
   "outputs": [
    {
     "data": {
      "text/html": [
       "<div>\n",
       "<style scoped>\n",
       "    .dataframe tbody tr th:only-of-type {\n",
       "        vertical-align: middle;\n",
       "    }\n",
       "\n",
       "    .dataframe tbody tr th {\n",
       "        vertical-align: top;\n",
       "    }\n",
       "\n",
       "    .dataframe thead th {\n",
       "        text-align: right;\n",
       "    }\n",
       "</style>\n",
       "<table border=\"1\" class=\"dataframe\">\n",
       "  <thead>\n",
       "    <tr style=\"text-align: right;\">\n",
       "      <th></th>\n",
       "      <th>CategoryID</th>\n",
       "      <th>SampleID</th>\n",
       "      <th>RegionID</th>\n",
       "      <th>TimeID</th>\n",
       "      <th>Bundle_No</th>\n",
       "      <th>dT0T4</th>\n",
       "      <th>dT0T5</th>\n",
       "      <th>dT4T2</th>\n",
       "      <th>dT4T5</th>\n",
       "      <th>dT4T3</th>\n",
       "      <th>dT4T7</th>\n",
       "      <th>dT0T4</th>\n",
       "      <th>dT2T3</th>\n",
       "      <th>dT5T7</th>\n",
       "      <th>dR0T4</th>\n",
       "    </tr>\n",
       "  </thead>\n",
       "  <tbody>\n",
       "    <tr>\n",
       "      <th>0</th>\n",
       "      <td>N</td>\n",
       "      <td>12</td>\n",
       "      <td>1</td>\n",
       "      <td>28</td>\n",
       "      <td>1</td>\n",
       "      <td>8.26206</td>\n",
       "      <td>6.00857</td>\n",
       "      <td>5.70936</td>\n",
       "      <td>4.3402</td>\n",
       "      <td>5.29146</td>\n",
       "      <td>8.16141</td>\n",
       "      <td>8.26206</td>\n",
       "      <td>8.42324</td>\n",
       "      <td>10.6505</td>\n",
       "      <td>5.53959</td>\n",
       "    </tr>\n",
       "    <tr>\n",
       "      <th>1</th>\n",
       "      <td>N</td>\n",
       "      <td>12</td>\n",
       "      <td>1</td>\n",
       "      <td>28</td>\n",
       "      <td>2</td>\n",
       "      <td>8.42324</td>\n",
       "      <td>5.70936</td>\n",
       "      <td>4.10948</td>\n",
       "      <td>5.29146</td>\n",
       "      <td>5.84149</td>\n",
       "      <td>3.32563</td>\n",
       "      <td>8.42324</td>\n",
       "      <td>4.77487</td>\n",
       "      <td>7.15738</td>\n",
       "      <td>6.5679</td>\n",
       "    </tr>\n",
       "    <tr>\n",
       "      <th>2</th>\n",
       "      <td>N</td>\n",
       "      <td>12</td>\n",
       "      <td>1</td>\n",
       "      <td>28</td>\n",
       "      <td>9</td>\n",
       "      <td>8.73178</td>\n",
       "      <td>5.14585</td>\n",
       "      <td>5.34332</td>\n",
       "      <td>5.59747</td>\n",
       "      <td>7.7189</td>\n",
       "      <td>5.70936</td>\n",
       "      <td>8.73178</td>\n",
       "      <td>12.0022</td>\n",
       "      <td>8.26206</td>\n",
       "      <td>6.38283</td>\n",
       "    </tr>\n",
       "    <tr>\n",
       "      <th>3</th>\n",
       "      <td>N</td>\n",
       "      <td>12</td>\n",
       "      <td>1</td>\n",
       "      <td>28</td>\n",
       "      <td>12</td>\n",
       "      <td>9.09446</td>\n",
       "      <td>7.5557</td>\n",
       "      <td>5.84149</td>\n",
       "      <td>3.32563</td>\n",
       "      <td>4.10948</td>\n",
       "      <td>5.29146</td>\n",
       "      <td>9.09446</td>\n",
       "      <td>4.77487</td>\n",
       "      <td>7.15738</td>\n",
       "      <td>5.90563</td>\n",
       "    </tr>\n",
       "    <tr>\n",
       "      <th>4</th>\n",
       "      <td>N</td>\n",
       "      <td>12</td>\n",
       "      <td>1</td>\n",
       "      <td>28</td>\n",
       "      <td>14</td>\n",
       "      <td>9.84285</td>\n",
       "      <td>6.3795</td>\n",
       "      <td>5.52702</td>\n",
       "      <td>6.59322</td>\n",
       "      <td>5.85947</td>\n",
       "      <td>4.7776</td>\n",
       "      <td>9.84285</td>\n",
       "      <td>8.83724</td>\n",
       "      <td>8.49122</td>\n",
       "      <td>7.21773</td>\n",
       "    </tr>\n",
       "    <tr>\n",
       "      <th>5</th>\n",
       "      <td>N</td>\n",
       "      <td>12</td>\n",
       "      <td>1</td>\n",
       "      <td>28</td>\n",
       "      <td>18</td>\n",
       "      <td>8.49122</td>\n",
       "      <td>6.20966</td>\n",
       "      <td>6.59322</td>\n",
       "      <td>6.09605</td>\n",
       "      <td>6.3795</td>\n",
       "      <td>4.59849</td>\n",
       "      <td>8.49122</td>\n",
       "      <td>9.84285</td>\n",
       "      <td>7.54355</td>\n",
       "      <td>5.62</td>\n",
       "    </tr>\n",
       "    <tr>\n",
       "      <th>6</th>\n",
       "      <td>N</td>\n",
       "      <td>12</td>\n",
       "      <td>1</td>\n",
       "      <td>28</td>\n",
       "      <td>21</td>\n",
       "      <td>9.04882</td>\n",
       "      <td>7.05486</td>\n",
       "      <td>5.85947</td>\n",
       "      <td>4.7776</td>\n",
       "      <td>5.52702</td>\n",
       "      <td>6.59322</td>\n",
       "      <td>9.04882</td>\n",
       "      <td>8.83724</td>\n",
       "      <td>8.49122</td>\n",
       "      <td>5.85738</td>\n",
       "    </tr>\n",
       "    <tr>\n",
       "      <th>7</th>\n",
       "      <td>N</td>\n",
       "      <td>12</td>\n",
       "      <td>1</td>\n",
       "      <td>28</td>\n",
       "      <td>23</td>\n",
       "      <td>6.8838</td>\n",
       "      <td>5.73329</td>\n",
       "      <td>6.52071</td>\n",
       "      <td>5.30191</td>\n",
       "      <td>5.64543</td>\n",
       "      <td>5.85947</td>\n",
       "      <td>6.8838</td>\n",
       "      <td>9.46237</td>\n",
       "      <td>9.04882</td>\n",
       "      <td>4.03678</td>\n",
       "    </tr>\n",
       "    <tr>\n",
       "      <th>8</th>\n",
       "      <td>N</td>\n",
       "      <td>12</td>\n",
       "      <td>1</td>\n",
       "      <td>28</td>\n",
       "      <td>25</td>\n",
       "      <td>9.46237</td>\n",
       "      <td>6.52071</td>\n",
       "      <td>5.47312</td>\n",
       "      <td>5.64543</td>\n",
       "      <td>3.8704</td>\n",
       "      <td>4.73048</td>\n",
       "      <td>9.46237</td>\n",
       "      <td>6.10236</td>\n",
       "      <td>8.83724</td>\n",
       "      <td>5.16507</td>\n",
       "    </tr>\n",
       "    <tr>\n",
       "      <th>9</th>\n",
       "      <td>N</td>\n",
       "      <td>12</td>\n",
       "      <td>1</td>\n",
       "      <td>28</td>\n",
       "      <td>30</td>\n",
       "      <td>8.54624</td>\n",
       "      <td>5.76644</td>\n",
       "      <td>5.09338</td>\n",
       "      <td>5.01682</td>\n",
       "      <td>6.53257</td>\n",
       "      <td>6.40943</td>\n",
       "      <td>8.54624</td>\n",
       "      <td>9.52923</td>\n",
       "      <td>9.44325</td>\n",
       "      <td>5.41545</td>\n",
       "    </tr>\n",
       "    <tr>\n",
       "      <th>10</th>\n",
       "      <td>N</td>\n",
       "      <td>12</td>\n",
       "      <td>1</td>\n",
       "      <td>28</td>\n",
       "      <td>31</td>\n",
       "      <td>7.49027</td>\n",
       "      <td>6.60724</td>\n",
       "      <td>4.13525</td>\n",
       "      <td>4.14499</td>\n",
       "      <td>6.00924</td>\n",
       "      <td>5.74804</td>\n",
       "      <td>7.49027</td>\n",
       "      <td>7.24487</td>\n",
       "      <td>7.39693</td>\n",
       "      <td>5.36755</td>\n",
       "    </tr>\n",
       "    <tr>\n",
       "      <th>11</th>\n",
       "      <td>N</td>\n",
       "      <td>12</td>\n",
       "      <td>1</td>\n",
       "      <td>28</td>\n",
       "      <td>35</td>\n",
       "      <td>7.55235</td>\n",
       "      <td>7.0337</td>\n",
       "      <td>5.76644</td>\n",
       "      <td>2.76354</td>\n",
       "      <td>5.01682</td>\n",
       "      <td>5.02631</td>\n",
       "      <td>7.55235</td>\n",
       "      <td>8.54624</td>\n",
       "      <td>4.40254</td>\n",
       "      <td>4.82518</td>\n",
       "    </tr>\n",
       "    <tr>\n",
       "      <th>12</th>\n",
       "      <td>N</td>\n",
       "      <td>12</td>\n",
       "      <td>1</td>\n",
       "      <td>28</td>\n",
       "      <td>40</td>\n",
       "      <td>6.17215</td>\n",
       "      <td>3.99326</td>\n",
       "      <td>5.11608</td>\n",
       "      <td>4.74059</td>\n",
       "      <td>4.26959</td>\n",
       "      <td>7.0337</td>\n",
       "      <td>6.17215</td>\n",
       "      <td>6.50183</td>\n",
       "      <td>10.4246</td>\n",
       "      <td>5.80235</td>\n",
       "    </tr>\n",
       "    <tr>\n",
       "      <th>13</th>\n",
       "      <td>N</td>\n",
       "      <td>12</td>\n",
       "      <td>1</td>\n",
       "      <td>28</td>\n",
       "      <td>41</td>\n",
       "      <td>6.50183</td>\n",
       "      <td>5.11608</td>\n",
       "      <td>5.5307</td>\n",
       "      <td>4.26959</td>\n",
       "      <td>5.4199</td>\n",
       "      <td>5.76644</td>\n",
       "      <td>6.50183</td>\n",
       "      <td>8.68659</td>\n",
       "      <td>7.55235</td>\n",
       "      <td>3.67566</td>\n",
       "    </tr>\n",
       "    <tr>\n",
       "      <th>14</th>\n",
       "      <td>N</td>\n",
       "      <td>12</td>\n",
       "      <td>1</td>\n",
       "      <td>28</td>\n",
       "      <td>52</td>\n",
       "      <td>7.5546</td>\n",
       "      <td>6.41828</td>\n",
       "      <td>7.06466</td>\n",
       "      <td>4.59125</td>\n",
       "      <td>6.05045</td>\n",
       "      <td>7.58323</td>\n",
       "      <td>7.5546</td>\n",
       "      <td>8.90793</td>\n",
       "      <td>9.46297</td>\n",
       "      <td>4.54521</td>\n",
       "    </tr>\n",
       "    <tr>\n",
       "      <th>15</th>\n",
       "      <td>N</td>\n",
       "      <td>12</td>\n",
       "      <td>1</td>\n",
       "      <td>28</td>\n",
       "      <td>57</td>\n",
       "      <td>7.10681</td>\n",
       "      <td>8.81006</td>\n",
       "      <td>4.53097</td>\n",
       "      <td>3.4709</td>\n",
       "      <td>7.16631</td>\n",
       "      <td>6.5491</td>\n",
       "      <td>7.10681</td>\n",
       "      <td>4.8252</td>\n",
       "      <td>6.10236</td>\n",
       "      <td>3.48166</td>\n",
       "    </tr>\n",
       "    <tr>\n",
       "      <th>16</th>\n",
       "      <td>N</td>\n",
       "      <td>12</td>\n",
       "      <td>1</td>\n",
       "      <td>28</td>\n",
       "      <td>64</td>\n",
       "      <td>7.25007</td>\n",
       "      <td>4.59666</td>\n",
       "      <td>5.14585</td>\n",
       "      <td>4.61261</td>\n",
       "      <td>5.59747</td>\n",
       "      <td>6.00857</td>\n",
       "      <td>7.25007</td>\n",
       "      <td>8.73178</td>\n",
       "      <td>8.27371</td>\n",
       "      <td>4.74768</td>\n",
       "    </tr>\n",
       "    <tr>\n",
       "      <th>17</th>\n",
       "      <td>N</td>\n",
       "      <td>12</td>\n",
       "      <td>1</td>\n",
       "      <td>28</td>\n",
       "      <td>66</td>\n",
       "      <td>7.05138</td>\n",
       "      <td>5.47312</td>\n",
       "      <td>5.84549</td>\n",
       "      <td>5.17717</td>\n",
       "      <td>3.8358</td>\n",
       "      <td>4.7415</td>\n",
       "      <td>7.05138</td>\n",
       "      <td>8.25325</td>\n",
       "      <td>6.70798</td>\n",
       "      <td>6.1385</td>\n",
       "    </tr>\n",
       "    <tr>\n",
       "      <th>18</th>\n",
       "      <td>N</td>\n",
       "      <td>12</td>\n",
       "      <td>1</td>\n",
       "      <td>28</td>\n",
       "      <td>70</td>\n",
       "      <td>6.88307</td>\n",
       "      <td>3.76467</td>\n",
       "      <td>3.53049</td>\n",
       "      <td>5.0806</td>\n",
       "      <td>4.66731</td>\n",
       "      <td>5.34332</td>\n",
       "      <td>6.88307</td>\n",
       "      <td>6.66233</td>\n",
       "      <td>8.73178</td>\n",
       "      <td>4.63327</td>\n",
       "    </tr>\n",
       "    <tr>\n",
       "      <th>19</th>\n",
       "      <td>N</td>\n",
       "      <td>12</td>\n",
       "      <td>1</td>\n",
       "      <td>28</td>\n",
       "      <td>70</td>\n",
       "      <td>6.88307</td>\n",
       "      <td>3.76467</td>\n",
       "      <td>3.53049</td>\n",
       "      <td>5.0806</td>\n",
       "      <td>4.66731</td>\n",
       "      <td>5.34332</td>\n",
       "      <td>6.88307</td>\n",
       "      <td>6.66233</td>\n",
       "      <td>8.73178</td>\n",
       "      <td>4.63327</td>\n",
       "    </tr>\n",
       "  </tbody>\n",
       "</table>\n",
       "</div>"
      ],
      "text/plain": [
       "   CategoryID SampleID RegionID TimeID Bundle_No    dT0T4    dT0T5    dT4T2  \\\n",
       "0           N       12        1     28         1  8.26206  6.00857  5.70936   \n",
       "1           N       12        1     28         2  8.42324  5.70936  4.10948   \n",
       "2           N       12        1     28         9  8.73178  5.14585  5.34332   \n",
       "3           N       12        1     28        12  9.09446   7.5557  5.84149   \n",
       "4           N       12        1     28        14  9.84285   6.3795  5.52702   \n",
       "5           N       12        1     28        18  8.49122  6.20966  6.59322   \n",
       "6           N       12        1     28        21  9.04882  7.05486  5.85947   \n",
       "7           N       12        1     28        23   6.8838  5.73329  6.52071   \n",
       "8           N       12        1     28        25  9.46237  6.52071  5.47312   \n",
       "9           N       12        1     28        30  8.54624  5.76644  5.09338   \n",
       "10          N       12        1     28        31  7.49027  6.60724  4.13525   \n",
       "11          N       12        1     28        35  7.55235   7.0337  5.76644   \n",
       "12          N       12        1     28        40  6.17215  3.99326  5.11608   \n",
       "13          N       12        1     28        41  6.50183  5.11608   5.5307   \n",
       "14          N       12        1     28        52   7.5546  6.41828  7.06466   \n",
       "15          N       12        1     28        57  7.10681  8.81006  4.53097   \n",
       "16          N       12        1     28        64  7.25007  4.59666  5.14585   \n",
       "17          N       12        1     28        66  7.05138  5.47312  5.84549   \n",
       "18          N       12        1     28        70  6.88307  3.76467  3.53049   \n",
       "19          N       12        1     28        70  6.88307  3.76467  3.53049   \n",
       "\n",
       "      dT4T5    dT4T3    dT4T7    dT0T4    dT2T3    dT5T7    dR0T4  \n",
       "0    4.3402  5.29146  8.16141  8.26206  8.42324  10.6505  5.53959  \n",
       "1   5.29146  5.84149  3.32563  8.42324  4.77487  7.15738   6.5679  \n",
       "2   5.59747   7.7189  5.70936  8.73178  12.0022  8.26206  6.38283  \n",
       "3   3.32563  4.10948  5.29146  9.09446  4.77487  7.15738  5.90563  \n",
       "4   6.59322  5.85947   4.7776  9.84285  8.83724  8.49122  7.21773  \n",
       "5   6.09605   6.3795  4.59849  8.49122  9.84285  7.54355     5.62  \n",
       "6    4.7776  5.52702  6.59322  9.04882  8.83724  8.49122  5.85738  \n",
       "7   5.30191  5.64543  5.85947   6.8838  9.46237  9.04882  4.03678  \n",
       "8   5.64543   3.8704  4.73048  9.46237  6.10236  8.83724  5.16507  \n",
       "9   5.01682  6.53257  6.40943  8.54624  9.52923  9.44325  5.41545  \n",
       "10  4.14499  6.00924  5.74804  7.49027  7.24487  7.39693  5.36755  \n",
       "11  2.76354  5.01682  5.02631  7.55235  8.54624  4.40254  4.82518  \n",
       "12  4.74059  4.26959   7.0337  6.17215  6.50183  10.4246  5.80235  \n",
       "13  4.26959   5.4199  5.76644  6.50183  8.68659  7.55235  3.67566  \n",
       "14  4.59125  6.05045  7.58323   7.5546  8.90793  9.46297  4.54521  \n",
       "15   3.4709  7.16631   6.5491  7.10681   4.8252  6.10236  3.48166  \n",
       "16  4.61261  5.59747  6.00857  7.25007  8.73178  8.27371  4.74768  \n",
       "17  5.17717   3.8358   4.7415  7.05138  8.25325  6.70798   6.1385  \n",
       "18   5.0806  4.66731  5.34332  6.88307  6.66233  8.73178  4.63327  \n",
       "19   5.0806  4.66731  5.34332  6.88307  6.66233  8.73178  4.63327  "
      ]
     },
     "execution_count": 75,
     "metadata": {},
     "output_type": "execute_result"
    }
   ],
   "source": [
    "df_dis_2d"
   ]
  },
  {
   "cell_type": "code",
   "execution_count": 30,
   "metadata": {},
   "outputs": [],
   "source": [
    "def get_dist_dics(df_tmp):\n",
    "\n",
    "image_list = df_tmp.loc[:,'Image_Name'].unique()\n",
    "ROI_list = df_tmp.loc[:,'ROI_Name'].unique()\n",
    "i_image = 0\n",
    "image_name = image_list[i_image]\n",
    "roi_name = ROI_list[i_image]\n",
    "df_roi_temp = pd.read_csv(os.path.join(paths.roi_path, roi_name))\n",
    "df_roi_temp.rename(columns = {' ':'No'}, inplace = True)\n",
    "df_annot_temp = df_tmp.groupby(['Image_Name']).get_group(image_list[i_image]).reset_index(drop = True)\n",
    "m2p_ratio = (df_annot_temp.iloc[0]['imgX_pixel']/df_annot_temp.iloc[0]['imgX_um'], df_annot_temp.iloc[0]['imgY_pixel']/df_annot_temp.iloc[0]['imgY_um'])\n",
    "df_bundles_temp, df_annot_bundles_temp = parse_annotation_info(df_annot_temp, df_roi_temp, m2p_ratio)\n",
    "\n",
    "for bundle_no in df_annot_bundles_temp.index:\n",
    "    df_tmp_2d = pd.DataFrame(columns = df_dis_2d.columns)\n",
    "    df_tmp_3d = pd.DataFrame(columns = df_dis_3d.columns)\n",
    "    coord_ori = np.array([\n",
    "        df_annot_bundles_temp.loc[bundle_no,'coord_X_Center'],\n",
    "        df_annot_bundles_temp.loc[bundle_no,'coord_Y_Center'],\n",
    "        df_annot_bundles_temp.loc[bundle_no,'coord_Z_Center']\n",
    "    ])\n",
    "    target_inds, target_coords_2d = my_help.get_target_coords(bundle_no, df_bundles_temp, matching_info.index_to_target_id)\n",
    "    target_inds, target_coords_3d = my_help.get_3d_target_coords(bundle_no, df_bundles_temp, matching_info.index_to_target_id)\n",
    "    for i in [0,1]:\n",
    "        target_coords_2d[:,i] = target_coords_2d[:,i]/m2p_ratio[i]\n",
    "        target_coords_3d[:,i] = target_coords_3d[:,i]/m2p_ratio[i]\n",
    "        coord_ori[i] = coord_ori[i]/m2p_ratio[i]\n",
    "    target_coords_3d[:,2] = target_coords_3d[:,2] * 0.125\n",
    "    coord_ori[2] = coord_ori[2] * 0.125\n",
    "    df_tmp_2d.loc[0,id_cols[:-1]] = df_annot_bundles_temp.loc[bundle_no, id_cols[:-1]]\n",
    "    df_tmp_3d.loc[0,id_cols[:-1]] = df_annot_bundles_temp.loc[bundle_no, id_cols[:-1]]\n",
    "    df_tmp_2d.loc[0, 'TimeID'] = 28\n",
    "    df_tmp_3d.loc[0, 'TimeID'] = 28\n",
    "    df_tmp_2d.loc[0,'Bundle_No'] = bundle_no\n",
    "    df_tmp_3d.loc[0,'Bundle_No'] = bundle_no\n",
    "    for cat in target_dis_cols[:-1]:\n",
    "        ind_i = matching_info.target_id_to_index[int(cat.split('T')[1])]\n",
    "        ind_j = matching_info.target_id_to_index[int(cat.split('T')[2])]\n",
    "        df_tmp_2d.loc[0,cat] = np.linalg.norm(target_coords_2d[ind_i,:]-target_coords_2d[ind_j,:])\n",
    "        df_tmp_3d.loc[0,cat] = np.linalg.norm(target_coords_3d[ind_i,:]-target_coords_3d[ind_j,:])\n",
    "    df_tmp_2d.loc[0,'R0T4'] = np.linalg.norm(target_coords_2d[matching_info.target_id_to_index[4],:] - coord_ori[0:2])\n",
    "    df_tmp_3d.loc[0,'R0T4'] = np.linalg.norm(target_coords_3d[matching_info.target_id_to_index[4],:] - coord_ori)\n",
    "    \n",
    "    return df_tmp_2d, df_tmp_3d"
   ]
  },
  {
   "cell_type": "code",
   "execution_count": null,
   "metadata": {
    "scrolled": true
   },
   "outputs": [],
   "source": [
    "# load annotation files\n",
    "mypath = os.path.join(paths.annot_path, 'Fz', '28')\n",
    "folders, files = my_help.parse_folder_info(mypath)\n",
    "for filename in files:\n",
    "    print(filename)\n",
    "    if('.csv' in filename):\n",
    "        df_tmp = pd.read_csv(os.path.join(mypath, filename))\n",
    "        image_list = df_tmp.loc[:,'Image_Name'].unique()\n",
    "        ROI_list = df_tmp.loc[:,'ROI_Name'].unique()\n",
    "        i_image = 0\n",
    "        image_name = image_list[i_image]\n",
    "        roi_name = ROI_list[i_image]\n",
    "        df_roi_temp = pd.read_csv(os.path.join(paths.roi_path, roi_name))\n",
    "        df_roi_temp.rename(columns = {' ':'No'}, inplace = True)\n",
    "        df_annot_temp = df_tmp.groupby(['Image_Name']).get_group(image_list[i_image]).reset_index(drop = True)\n",
    "        m2p_ratio = (df_annot_temp.iloc[0]['imgX_pixel']/df_annot_temp.iloc[0]['imgX_um'], df_annot_temp.iloc[0]['imgY_pixel']/df_annot_temp.iloc[0]['imgY_um'])\n",
    "        df_bundles_temp, df_annot_bundles_temp = parse_annotation_info(df_annot_temp, df_roi_temp, m2p_ratio)\n",
    "        \n",
    "        for bundle_no in df_annot_bundles_temp.index:\n",
    "            df_tmp_2d = pd.DataFrame(columns = df_dis_2d.columns)\n",
    "            df_tmp_3d = pd.DataFrame(columns = df_dis_3d.columns)\n",
    "            coord_ori = np.array([\n",
    "                df_annot_bundles_temp.loc[bundle_no,'coord_X_Center'],\n",
    "                df_annot_bundles_temp.loc[bundle_no,'coord_Y_Center'],\n",
    "                df_annot_bundles_temp.loc[bundle_no,'coord_Z_Center']\n",
    "            ])\n",
    "            target_inds, target_coords_2d = my_help.get_target_coords(bundle_no, df_bundles_temp, matching_info.index_to_target_id)\n",
    "            target_inds, target_coords_3d = my_help.get_3d_target_coords(bundle_no, df_bundles_temp, matching_info.index_to_target_id)\n",
    "            for i in [0,1]:\n",
    "                target_coords_2d[:,i] = target_coords_2d[:,i]/m2p_ratio[i]\n",
    "                target_coords_3d[:,i] = target_coords_3d[:,i]/m2p_ratio[i]\n",
    "                coord_ori[i] = coord_ori[i]/m2p_ratio[i]\n",
    "            target_coords_3d[:,2] = target_coords_3d[:,2] * 0.125\n",
    "            coord_ori[2] = coord_ori[2] * 0.125\n",
    "            df_tmp_2d.loc[0,id_cols[:-1]] = df_annot_bundles_temp.loc[bundle_no, id_cols[:-1]]\n",
    "            df_tmp_3d.loc[0,id_cols[:-1]] = df_annot_bundles_temp.loc[bundle_no, id_cols[:-1]]\n",
    "            df_tmp_2d.loc[0, 'TimeID'] = 28\n",
    "            df_tmp_3d.loc[0, 'TimeID'] = 28\n",
    "            df_tmp_2d.loc[0,'Bundle_No'] = bundle_no\n",
    "            df_tmp_3d.loc[0,'Bundle_No'] = bundle_no\n",
    "            for cat in target_dis_cols[:-1]:\n",
    "                ind_i = matching_info.target_id_to_index[int(cat.split('T')[1])]\n",
    "                ind_j = matching_info.target_id_to_index[int(cat.split('T')[2])]\n",
    "                df_tmp_2d.loc[0,cat] = np.linalg.norm(target_coords_2d[ind_i,:]-target_coords_2d[ind_j,:])\n",
    "                df_tmp_3d.loc[0,cat] = np.linalg.norm(target_coords_3d[ind_i,:]-target_coords_3d[ind_j,:])\n",
    "            df_tmp_2d.loc[0,'R0T4'] = np.linalg.norm(target_coords_2d[matching_info.target_id_to_index[4],:] - coord_ori[0:2])\n",
    "            df_tmp_3d.loc[0,'R0T4'] = np.linalg.norm(target_coords_3d[matching_info.target_id_to_index[4],:] - coord_ori)\n",
    "            df_dis_2d = df_dis_2d.append(df_tmp_2d, ignore_index=True, sort=True)\n",
    "            df_dis_3d = df_dis_2d.append(df_tmp_3d, ignore_index=True, sort=True)"
   ]
  },
  {
   "cell_type": "code",
   "execution_count": null,
   "metadata": {
    "scrolled": true
   },
   "outputs": [],
   "source": [
    "# load annotation files\n",
    "mypath = os.path.join(paths.annot_path, 'Nic', '28')\n",
    "folders, files = my_help.parse_folder_info(mypath)\n",
    "for filename in files:\n",
    "    print(filename)\n",
    "    if('.csv' in filename):\n",
    "        df_tmp = pd.read_csv(os.path.join(mypath, filename))\n",
    "        image_list = df_tmp.loc[:,'Image_Name'].unique()\n",
    "        ROI_list = df_tmp.loc[:,'ROI_Name'].unique()\n",
    "        i_image = 0\n",
    "        image_name = image_list[i_image]\n",
    "        roi_name = ROI_list[i_image]\n",
    "        df_roi_temp = pd.read_csv(os.path.join(paths.roi_path, roi_name))\n",
    "        df_roi_temp.rename(columns = {' ':'No'}, inplace = True)\n",
    "        df_annot_temp = df_tmp.groupby(['Image_Name']).get_group(image_list[i_image]).reset_index(drop = True)\n",
    "        m2p_ratio = (df_annot_temp.iloc[0]['imgX_pixel']/df_annot_temp.iloc[0]['imgX_um'], df_annot_temp.iloc[0]['imgY_pixel']/df_annot_temp.iloc[0]['imgY_um'])\n",
    "        df_bundles_temp, df_annot_bundles_temp = parse_annotation_info(df_annot_temp, df_roi_temp, m2p_ratio)\n",
    "        \n",
    "        for bundle_no in df_annot_bundles_temp.index:\n",
    "            df_tmp_2d = pd.DataFrame(columns = df_dis_2d.columns)\n",
    "            df_tmp_3d = pd.DataFrame(columns = df_dis_3d.columns)\n",
    "            coord_ori = np.array([\n",
    "                df_annot_bundles_temp.loc[bundle_no,'coord_X_Center'],\n",
    "                df_annot_bundles_temp.loc[bundle_no,'coord_Y_Center'],\n",
    "                df_annot_bundles_temp.loc[bundle_no,'coord_Z_Center']\n",
    "            ])\n",
    "            target_inds, target_coords_2d = my_help.get_target_coords(bundle_no, df_bundles_temp, matching_info.index_to_target_id)\n",
    "            target_inds, target_coords_3d = my_help.get_3d_target_coords(bundle_no, df_bundles_temp, matching_info.index_to_target_id)\n",
    "            for i in [0,1]:\n",
    "                target_coords_2d[:,i] = target_coords_2d[:,i]/m2p_ratio[i]\n",
    "                target_coords_3d[:,i] = target_coords_3d[:,i]/m2p_ratio[i]\n",
    "                coord_ori[i] = coord_ori[i]/m2p_ratio[i]\n",
    "            target_coords_3d[:,2] = target_coords_3d[:,2] * 0.125\n",
    "            coord_ori[2] = coord_ori[2] * 0.125\n",
    "            df_tmp_2d.loc[0,id_cols[:-1]] = df_annot_bundles_temp.loc[bundle_no, id_cols[:-1]]\n",
    "            df_tmp_3d.loc[0,id_cols[:-1]] = df_annot_bundles_temp.loc[bundle_no, id_cols[:-1]]\n",
    "            df_tmp_2d.loc[0, 'TimeID'] = 28\n",
    "            df_tmp_3d.loc[0, 'TimeID'] = 28\n",
    "            df_tmp_2d.loc[0,'Bundle_No'] = bundle_no\n",
    "            df_tmp_3d.loc[0,'Bundle_No'] = bundle_no\n",
    "            for cat in target_dis_cols[:-1]:\n",
    "                ind_i = matching_info.target_id_to_index[int(cat.split('T')[1])]\n",
    "                ind_j = matching_info.target_id_to_index[int(cat.split('T')[2])]\n",
    "                df_tmp_2d.loc[0,cat] = np.linalg.norm(target_coords_2d[ind_i,:]-target_coords_2d[ind_j,:])\n",
    "                df_tmp_3d.loc[0,cat] = np.linalg.norm(target_coords_3d[ind_i,:]-target_coords_3d[ind_j,:])\n",
    "            df_tmp_2d.loc[0,'R0T4'] = np.linalg.norm(target_coords_2d[matching_info.target_id_to_index[4],:] - coord_ori[0:2])\n",
    "            df_tmp_3d.loc[0,'R0T4'] = np.linalg.norm(target_coords_3d[matching_info.target_id_to_index[4],:] - coord_ori)\n",
    "            df_dis_2d = df_dis_2d.append(df_tmp_2d, ignore_index=True, sort=True)\n",
    "            df_dis_3d = df_dis_2d.append(df_tmp_3d, ignore_index=True, sort=True)"
   ]
  },
  {
   "cell_type": "code",
   "execution_count": null,
   "metadata": {},
   "outputs": [],
   "source": [
    "target_dis_cols[:-2]"
   ]
  },
  {
   "cell_type": "code",
   "execution_count": null,
   "metadata": {},
   "outputs": [],
   "source": [
    "df_dis_2d = df_dis_2d.reindex(df_dis_cols, axis=1)\n",
    "df_dis_3d = df_dis_3d.reindex(df_dis_cols, axis=1)"
   ]
  },
  {
   "cell_type": "code",
   "execution_count": null,
   "metadata": {},
   "outputs": [],
   "source": [
    "df_dis_2d.loc[:,'unit_mean'] = np.mean(df_dis_2d.loc[:,target_dis_cols[:-2]], axis = 1)\n",
    "df_dis_3d.loc[:,'unit_mean'] = np.mean(df_dis_3d.loc[:,target_dis_cols[:-2]], axis = 1)"
   ]
  },
  {
   "cell_type": "code",
   "execution_count": null,
   "metadata": {},
   "outputs": [],
   "source": [
    "target_dis_cols.append('unit_mean')"
   ]
  },
  {
   "cell_type": "code",
   "execution_count": null,
   "metadata": {},
   "outputs": [],
   "source": [
    "target_dis_cols"
   ]
  },
  {
   "cell_type": "code",
   "execution_count": null,
   "metadata": {
    "scrolled": true
   },
   "outputs": [],
   "source": [
    "df_dis_2d.columns"
   ]
  },
  {
   "cell_type": "code",
   "execution_count": null,
   "metadata": {},
   "outputs": [],
   "source": [
    "df_dis_2d_reshape = pd.DataFrame(columns = id_cols + ['Bundle_No'] + ['DistCat', 'DistVal'])\n",
    "df_dis_3d_reshape = pd.DataFrame(columns = id_cols + ['Bundle_No'] + ['DistCat', 'DistVal'])"
   ]
  },
  {
   "cell_type": "code",
   "execution_count": null,
   "metadata": {},
   "outputs": [],
   "source": [
    "target_dis_cols"
   ]
  },
  {
   "cell_type": "code",
   "execution_count": null,
   "metadata": {},
   "outputs": [],
   "source": [
    "for ind in df_dis_2d.index:\n",
    "    df_tmp_2d = pd.DataFrame(columns = df_dis_2d_reshape.columns)\n",
    "    df_tmp_2d.loc[0,id_cols] = df_dis_2d.loc[ind,id_cols]\n",
    "    df_tmp_2d.loc[0,'Bundle_No'] = df_dis_2d.loc[ind,'Bundle_No']\n",
    "    for cat in target_dis_cols:\n",
    "        df_tmp_2d.loc[0,'DistCat'] = cat\n",
    "        df_tmp_2d.loc[0,'DistVal'] = df_dis_2d.loc[ind,cat]\n",
    "        df_dis_2d_reshape = df_dis_2d_reshape.append(df_tmp_2d, ignore_index=True, sort=True)"
   ]
  },
  {
   "cell_type": "code",
   "execution_count": null,
   "metadata": {},
   "outputs": [],
   "source": [
    "sns.boxplot(x=\"DistCat\", y=\"DistVal\", hue=\"CategoryID\",\n",
    "                 data=df_dis_2d_reshape)"
   ]
  },
  {
   "cell_type": "code",
   "execution_count": null,
   "metadata": {},
   "outputs": [],
   "source": []
  },
  {
   "cell_type": "code",
   "execution_count": null,
   "metadata": {
    "scrolled": true
   },
   "outputs": [],
   "source": [
    "\"\"\" Process images \"\"\"\n",
    "### number of channels\n",
    "nChannels = min(image.shape)# number of channels of original image\n",
    "num_norm_channels = len(matching_info.channel_cmap.keys()) # number of channels of normalized image\n",
    "\n",
    "if(nChannels == 2):\n",
    "    print(\"2 channels!\")\n",
    "    ### normalize channels\n",
    "    image_norm = np.empty(image_shape + (num_norm_channels,), dtype=image[:,0,:,:].dtype, order='C')\n",
    "    thr = np.zeros((2))\n",
    "    \n",
    "    # RFP_norm\n",
    "    %time image_norm[:,:,:,0] = exposure.rescale_intensity(image[:,0,:,:], in_range = 'image', out_range='dtype')\n",
    "    # GFP_norm\n",
    "    %time image_norm[:,:,:,1] = exposure.rescale_intensity(image[:,1,:,:], in_range = 'image', out_range='dtype')    \n",
    "    \n",
    "    del image\n",
    "        \n",
    "elif(nChannels == 4):\n",
    "    print(\"4 channels!\")\n",
    "    ### normalize channels\n",
    "    image_norm = np.empty(image_shape + (num_norm_channels,), dtype=image[:,:,:,1].dtype, order='C')\n",
    "    thr = np.zeros((2))\n",
    "    \n",
    "    # RFP_norm\n",
    "    %time image_norm[:,:,:,0] = exposure.rescale_intensity(image[:,:,:,0], in_range = 'image', out_range='dtype')\n",
    "    # GFP_norm\n",
    "    %time image_norm[:,:,:,1] = exposure.rescale_intensity(image[:,:,:,1], in_range = 'image', out_range='dtype')    \n",
    "    "
   ]
  },
  {
   "cell_type": "code",
   "execution_count": null,
   "metadata": {
    "scrolled": true
   },
   "outputs": [],
   "source": [
    "\"\"\" Plot individual bundles \"\"\""
   ]
  },
  {
   "cell_type": "code",
   "execution_count": null,
   "metadata": {},
   "outputs": [],
   "source": [
    "bundle_no = 1\n",
    "plotSettings = False, False, False, True #isPlotR3Line, isPlotR4Line, isPlotR4s, isLabelOff\n",
    "my_plot.plot_individual_bundles(bundle_no, bundles_df, image_norm, m2p_ratio[0], m2p_ratio[1], is_plot_r3_line = False, is_plot_r4_line = False, is_plot_r4 = False, is_label_off = True)\n",
    "plt.show()"
   ]
  },
  {
   "cell_type": "code",
   "execution_count": null,
   "metadata": {
    "scrolled": true
   },
   "outputs": [],
   "source": [
    "for ind, bundle_no in enumerate(annot_bundles_df.index):\n",
    "    plotSettings = False, False, False, True #isPlotR3Line, isPlotR4Line, isPlotR4s, isLabelOff\n",
    "    my_plot.plot_individual_bundles(bundle_no, bundles_df, image_norm, m2p_ratio[0], m2p_ratio[1], is_plot_r3_line = False, is_plot_r4_line = False, is_plot_r4 = False, is_label_off = True)\n",
    "    plt.show()"
   ]
  }
 ],
 "metadata": {
  "kernelspec": {
   "display_name": "Python 3",
   "language": "python",
   "name": "python3"
  },
  "language_info": {
   "codemirror_mode": {
    "name": "ipython",
    "version": 3
   },
   "file_extension": ".py",
   "mimetype": "text/x-python",
   "name": "python",
   "nbconvert_exporter": "python",
   "pygments_lexer": "ipython3",
   "version": "3.6.8"
  }
 },
 "nbformat": 4,
 "nbformat_minor": 2
}
