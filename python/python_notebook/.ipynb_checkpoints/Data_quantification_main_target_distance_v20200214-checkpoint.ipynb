{
 "cells": [
  {
   "cell_type": "code",
   "execution_count": 1,
   "metadata": {},
   "outputs": [],
   "source": [
    "%matplotlib inline\n",
    "\n",
    "import io, os, sys, types, datetime, pickle, warnings\n",
    "\n",
    "warnings.filterwarnings('ignore')\n",
    "\n",
    "import pandas as pd\n",
    "\n",
    "import matplotlib\n",
    "import matplotlib.pyplot as plt\n",
    "from matplotlib.colors import BoundaryNorm\n",
    "from matplotlib.ticker import MaxNLocator\n",
    "\n",
    "import numpy as np\n",
    "from numpy.linalg import eig, inv\n",
    "\n",
    "import math\n",
    "\n",
    "from scipy import interpolate, spatial, stats\n",
    "\n",
    "import seaborn as sns\n",
    "\n",
    "import skimage.io as skiIo\n",
    "from skimage import exposure, img_as_float, filters, morphology, transform\n",
    "\n",
    "from sklearn import linear_model\n",
    "from sklearn import metrics"
   ]
  },
  {
   "cell_type": "code",
   "execution_count": 2,
   "metadata": {
    "scrolled": true
   },
   "outputs": [
    {
     "data": {
      "text/plain": [
       "' ============== path settings =============='"
      ]
     },
     "execution_count": 2,
     "metadata": {},
     "output_type": "execute_result"
    }
   ],
   "source": [
    "\"\"\" ============== path settings ==============\"\"\""
   ]
  },
  {
   "cell_type": "code",
   "execution_count": 10,
   "metadata": {},
   "outputs": [],
   "source": [
    "module_path = os.path.join(os.path.dirname(os.getcwd()), 'python_cluster', 'functions')"
   ]
  },
  {
   "cell_type": "code",
   "execution_count": 4,
   "metadata": {},
   "outputs": [],
   "source": [
    "# env = 'Windows'\n",
    "# if(env == 'Windows'):\n",
    "#     module_path = 'W:\\\\2019_09_NSP_Extension\\\\code\\\\NSP_codes\\\\python_cluster\\\\helper_functions'\n",
    "# elif(env == 'Mac'):\n",
    "#     module_path = '/Users/lily/Lily/Academic/AW_Lab/code/python_cluster/helper_functions'"
   ]
  },
  {
   "cell_type": "code",
   "execution_count": 5,
   "metadata": {},
   "outputs": [],
   "source": [
    "# Mac, Data_Output, Figure_Output, Ctrl_22hrs_Gal80_s1r1_annotation.csv, 0, 1, 24, 18, 40, 20, 1"
   ]
  },
  {
   "cell_type": "code",
   "execution_count": 11,
   "metadata": {
    "scrolled": true
   },
   "outputs": [
    {
     "name": "stdout",
     "output_type": "stream",
     "text": [
      "Mac, Data_Output, Figure_Output, Ctrl_22hrs_Gal80_s1r1_annotation.csv, 0, 1, 24, 18, 40, 20, 1\n",
      "Mac, Data_Output, Figure_Output, Ctrl_22hrs_Gal80_s1r1_annotation.csv, 0, 1, 24, 18, 40, 20, 1\n"
     ]
    }
   ],
   "source": [
    "### import custom functions\n",
    "if module_path not in sys.path:\n",
    "    sys.path.append(module_path)\n",
    "import settings as settings\n",
    "import helper as my_help\n",
    "import intensity_calculation as my_int\n",
    "import parse_bundle as my_pb\n",
    "import plotting as my_plot"
   ]
  },
  {
   "cell_type": "code",
   "execution_count": 12,
   "metadata": {},
   "outputs": [],
   "source": [
    "paths = settings.paths\n",
    "matching_info = settings.matching_info\n",
    "analysis_params_general = settings.analysis_params_general"
   ]
  },
  {
   "cell_type": "code",
   "execution_count": 126,
   "metadata": {
    "scrolled": true
   },
   "outputs": [],
   "source": [
    "analysis_params_general.add_col_params({})\n",
    "analysis_params_general.add_col_params({\n",
    "    'id_cols':['CategoryID', 'SampleID', 'RegionID', 'TimeID'],\n",
    "    'dist_cols':[\n",
    "        'dT0T2',\n",
    "        'dT0T5',\n",
    "        'dT4T2',\n",
    "        'dT4T5',\n",
    "        'dT4T3',\n",
    "        'dT4T7',\n",
    "        'dT2T3',\n",
    "        'dT5T7',\n",
    "        'dT0T4',\n",
    "        'dR0T4']\n",
    "})"
   ]
  },
  {
   "cell_type": "code",
   "execution_count": 15,
   "metadata": {
    "scrolled": false
   },
   "outputs": [
    {
     "data": {
      "text/plain": [
       "'============== main =============='"
      ]
     },
     "execution_count": 15,
     "metadata": {},
     "output_type": "execute_result"
    }
   ],
   "source": [
    "\"\"\"============== main ==============\"\"\""
   ]
  },
  {
   "cell_type": "code",
   "execution_count": 16,
   "metadata": {},
   "outputs": [],
   "source": [
    "# # id_cols = [\n",
    "# #    'CategoryID',\n",
    "# #     'SampleID',\n",
    "# #     'RegionID',\n",
    "# #     'TimeID',\n",
    "# # ]\n",
    "# # target_dis_cols = ['dT0T2', 'dT0T5', 'dT4T2', 'dT4T5', 'dT4T3', 'dT4T7', 'dT0T4', 'dT2T3', 'dT5T7', 'dR0T4']\n",
    "# df_dis_cols = id_cols + ['Bundle_No'] + target_dis_cols"
   ]
  },
  {
   "cell_type": "code",
   "execution_count": 17,
   "metadata": {},
   "outputs": [],
   "source": [
    "sns.set_style(\"dark\")"
   ]
  },
  {
   "cell_type": "code",
   "execution_count": 25,
   "metadata": {},
   "outputs": [],
   "source": [
    "def parse_annotation_info(annot_df, roi_df, m2p_ratio):\n",
    "    is_extended_target_list = False\n",
    "    annotation_type = annot_df.loc[0,'Annotation_type']\n",
    "    if(annotation_type == 1):\n",
    "        bundles_df = my_pb.get_bundles_info_v1(roi_df, annot_df, m2p_ratio[0], m2p_ratio[1], is_extended_target_list)\n",
    "    if(annotation_type == 2):\n",
    "        bundles_df = my_pb.get_bundles_info_v2(roi_df, annot_df, m2p_ratio[0], m2p_ratio[1], is_extended_target_list)\n",
    "    if(annotation_type == 3):\n",
    "        bundles_df = my_pb.get_bundles_info_v3(roi_df, annot_df, m2p_ratio[0], m2p_ratio[1], is_extended_target_list)\n",
    "    annot_bundles_df = bundles_df.dropna(axis=0, how='any', inplace = False)\n",
    "    annot_bundles_df.sort_index(inplace = True)\n",
    "    return bundles_df, annot_bundles_df"
   ]
  },
  {
   "cell_type": "code",
   "execution_count": 127,
   "metadata": {},
   "outputs": [],
   "source": [
    "df_dis_cols = analysis_params_general.col_params['id_cols'] + ['Bundle_No'] + analysis_params_general.col_params['dist_cols']\n",
    "df_dis_2d = pd.DataFrame(columns = df_dis_cols)\n",
    "df_dis_3d = pd.DataFrame(columns = df_dis_cols)"
   ]
  },
  {
   "cell_type": "code",
   "execution_count": 128,
   "metadata": {},
   "outputs": [],
   "source": [
    "def get_dist_dics(df_tmp, time):\n",
    "\n",
    "    id_cols = analysis_params_general.col_params['id_cols']\n",
    "    target_dis_cols = analysis_params_general.col_params['dist_cols']\n",
    "\n",
    "    image_list = df_tmp.loc[:,'Image_Name'].unique()\n",
    "    ROI_list = df_tmp.loc[:,'ROI_Name'].unique()\n",
    "    i_image = 0\n",
    "    image_name = image_list[i_image]\n",
    "    roi_name = ROI_list[i_image]\n",
    "    df_roi_temp = pd.read_csv(os.path.join(paths.roi_path, roi_name))\n",
    "    df_roi_temp.rename(columns = {' ':'No'}, inplace = True)\n",
    "    df_annot_temp = df_tmp.groupby(['Image_Name']).get_group(image_list[i_image]).reset_index(drop = True)\n",
    "    m2p_ratio = (df_annot_temp.iloc[0]['imgX_pixel']/df_annot_temp.iloc[0]['imgX_um'], df_annot_temp.iloc[0]['imgY_pixel']/df_annot_temp.iloc[0]['imgY_um'])\n",
    "    df_bundles_temp, df_annot_bundles_temp = parse_annotation_info(df_annot_temp, df_roi_temp, m2p_ratio)\n",
    "\n",
    "    df_2d = pd.DataFrame(columns = id_cols + ['Bundle_No'] + target_dis_cols)\n",
    "    df_3d = pd.DataFrame(columns = id_cols + ['Bundle_No'] + target_dis_cols)\n",
    "\n",
    "    for bundle_no in df_annot_bundles_temp.index:\n",
    "        df_tmp_2d = pd.DataFrame(columns = df_dis_2d.columns)\n",
    "        df_tmp_3d = pd.DataFrame(columns = df_dis_3d.columns)\n",
    "        coord_ori = np.array([\n",
    "            df_annot_bundles_temp.loc[bundle_no,'coord_X_Center'],\n",
    "            df_annot_bundles_temp.loc[bundle_no,'coord_Y_Center'],\n",
    "            df_annot_bundles_temp.loc[bundle_no,'coord_Z_Center']\n",
    "        ])\n",
    "        target_inds, target_coords_2d = my_help.get_target_coords(bundle_no, df_bundles_temp, matching_info.index_to_target_id)\n",
    "        target_inds, target_coords_3d = my_help.get_3d_target_coords(bundle_no, df_bundles_temp, matching_info.index_to_target_id)\n",
    "        for i in [0,1]:\n",
    "            target_coords_2d[:,i] = target_coords_2d[:,i]/m2p_ratio[i]\n",
    "            target_coords_3d[:,i] = target_coords_3d[:,i]/m2p_ratio[i]\n",
    "            coord_ori[i] = coord_ori[i]/m2p_ratio[i]\n",
    "        target_coords_3d[:,2] = target_coords_3d[:,2] * 0.125\n",
    "        coord_ori[2] = coord_ori[2] * 0.125\n",
    "        df_tmp_2d.loc[0,id_cols[:-1]] = df_annot_bundles_temp.loc[bundle_no, id_cols[:-1]]\n",
    "        df_tmp_3d.loc[0,id_cols[:-1]] = df_annot_bundles_temp.loc[bundle_no, id_cols[:-1]]\n",
    "        df_tmp_2d.loc[0, 'TimeID'] = time\n",
    "        df_tmp_3d.loc[0, 'TimeID'] = time\n",
    "        df_tmp_2d.loc[0,'Bundle_No'] = bundle_no\n",
    "        df_tmp_3d.loc[0,'Bundle_No'] = bundle_no\n",
    "        for cat in target_dis_cols[:-1]:\n",
    "            ind_i = matching_info.target_id_to_index[int(cat.split('T')[1])]\n",
    "            ind_j = matching_info.target_id_to_index[int(cat.split('T')[2])]\n",
    "            df_tmp_2d.loc[0,cat] = np.linalg.norm(target_coords_2d[ind_i,:]-target_coords_2d[ind_j,:])\n",
    "            df_tmp_3d.loc[0,cat] = np.linalg.norm(target_coords_3d[ind_i,:]-target_coords_3d[ind_j,:])\n",
    "        df_tmp_2d.loc[0,'dR0T4'] = np.linalg.norm(target_coords_2d[matching_info.target_id_to_index[4],:] - coord_ori[0:2])\n",
    "        df_tmp_3d.loc[0,'dR0T4'] = np.linalg.norm(target_coords_3d[matching_info.target_id_to_index[4],:] - coord_ori)\n",
    "        df_2d = df_2d.append(df_tmp_2d, ignore_index=True, sort=True)\n",
    "        df_3d = df_3d.append(df_tmp_3d, ignore_index=True, sort=True)\n",
    "    \n",
    "    return df_2d, df_3d"
   ]
  },
  {
   "cell_type": "code",
   "execution_count": 129,
   "metadata": {
    "scrolled": true
   },
   "outputs": [
    {
     "name": "stdout",
     "output_type": "stream",
     "text": [
      "Nic\n",
      "28\n",
      "Nic_28hrs_Gal80_s12r1_summary.csv\n",
      "---annot_df---\n",
      "1\n",
      "2\n",
      "9\n",
      "12\n",
      "14\n",
      "18\n",
      "21\n",
      "23\n",
      "25\n",
      "30\n",
      "31\n",
      "35\n",
      "40\n",
      "41\n",
      "52\n",
      "57\n",
      "64\n",
      "66\n",
      "70\n",
      "Nic_28hrs_Gal80_s29r2_summary.csv\n",
      "---annot_df---\n",
      "1\n",
      "2\n",
      "3\n",
      "6\n",
      "13\n",
      "11\n",
      "58\n",
      "12\n",
      "17\n",
      "15\n",
      "36\n",
      "37\n",
      "39\n",
      "61\n",
      "41\n",
      "Nic_28hrs_Gal80_s2r1_summary.csv\n",
      "---annot_df---\n",
      "1\n",
      "2\n",
      "12\n",
      "11\n",
      "17\n",
      "22\n",
      "25\n",
      "29\n",
      "35\n",
      "Nic_28hrs_Gal80_s8r1_summary.csv\n",
      "---annot_df---\n",
      "1\n",
      "2\n",
      "3\n",
      "8\n",
      "15\n",
      "16\n",
      "21\n",
      "22\n",
      "27\n",
      "30\n",
      "32\n",
      "36\n",
      "38\n",
      "40\n",
      "41\n",
      "42\n",
      "43\n",
      "45\n",
      "47\n",
      "48\n",
      "55\n",
      "56\n",
      "61\n",
      "76\n",
      "79\n",
      "65\n",
      "Nic_28hrs_Gal80_s23r2_summary.csv\n",
      "---annot_df---\n",
      "1\n",
      "2\n",
      "7\n",
      "14\n",
      "17\n",
      "25\n",
      "26\n",
      "37\n",
      "3\n",
      "5\n",
      "8\n",
      "19\n",
      "Ctrl\n",
      "24\n",
      "Ctrl_24hrs_Gal80_s4r101_annotation.csv\n",
      "---annot_df---\n",
      "1\n",
      "3\n",
      "4\n",
      "5\n",
      "6\n",
      "7\n",
      "8\n",
      "9\n",
      "10\n",
      "11\n",
      "12\n",
      "13\n",
      "14\n",
      "15\n",
      "16\n",
      "17\n",
      "34\n",
      "Ctrl_24hrs_Gal80_s4r102_annotation.csv\n",
      "---annot_df---\n",
      "48\n",
      "49\n",
      "50\n",
      "51\n",
      "52\n",
      "53\n",
      "64\n",
      "65\n",
      "91\n",
      "92\n",
      "93\n",
      "94\n",
      "95\n",
      "96\n",
      "109\n",
      "110\n",
      "112\n",
      "114\n",
      "115\n",
      "22\n",
      "Ctrl_22hrs_Gal80_s2r1_annotation.csv\n",
      "---annot_df---\n",
      "1\n",
      "8\n",
      "26\n",
      "46\n",
      "15\n",
      "48\n",
      "19\n",
      "41\n",
      "45\n",
      "42\n",
      "43\n",
      "44\n",
      "Ctrl_22hrs_Gal80_s3r1_annotation.csv\n",
      "---annot_df---\n",
      "1\n",
      "9\n",
      "10\n",
      "11\n",
      "95\n",
      "96\n",
      "98\n",
      "107\n",
      "106\n",
      "108\n",
      "104\n",
      "99\n",
      "106\n",
      "100\n",
      "99\n",
      "104\n",
      "108\n",
      "97\n",
      "105\n",
      "101\n",
      "8\n",
      "102\n",
      "103\n",
      "90\n",
      "91\n",
      "92\n",
      "93\n",
      "81\n",
      "94\n",
      "77\n",
      "82\n",
      "78\n",
      "83\n",
      "79\n",
      "84\n",
      "80\n",
      "85\n",
      "86\n",
      "87\n",
      "88\n",
      "89\n",
      "Ctrl_22hrs_Gal80_s12r1_annotation.csv\n",
      "---annot_df---\n",
      "1\n",
      "9\n",
      "95\n",
      "7\n",
      "76\n",
      "96\n",
      "88\n",
      "86\n",
      "70\n",
      "71\n",
      "69\n",
      "8\n",
      "66\n",
      "65\n",
      "55\n",
      "43\n",
      "52\n",
      "38\n",
      "49\n",
      "34\n",
      "30\n",
      "25\n",
      "21\n",
      "17\n",
      "10\n",
      "Fz\n",
      "28\n",
      "Fz_28hrs_Gal80_s2r1_summary.csv\n",
      "---annot_df---\n",
      "1\n",
      "3\n",
      "2\n",
      "6\n",
      "15\n",
      "21\n",
      "27\n",
      "4\n",
      "10\n",
      "34\n",
      "37\n",
      "36\n",
      "35\n",
      "Fz_28hrs_Gal80_s38r1_summary.csv\n",
      "---annot_df---\n",
      "1\n",
      "7\n",
      "14\n",
      "11\n",
      "15\n",
      "45\n",
      "4\n",
      "20\n",
      "35\n",
      "34\n",
      "8\n",
      "41\n",
      "Fz_28hrs_Gal80_s1r1_summary.csv\n",
      "---annot_df---\n",
      "1\n",
      "7\n",
      "13\n",
      "19\n",
      "25\n",
      "32\n",
      "33\n",
      "12\n",
      "41\n",
      "17\n",
      "23\n",
      "47\n",
      "49\n",
      "Fz_28hrs_Gal80_s26r1_summary.csv\n",
      "---annot_df---\n",
      "1\n",
      "6\n",
      "2\n",
      "8\n",
      "10\n",
      "16\n",
      "23\n",
      "27\n",
      "33\n",
      "39\n",
      "45\n",
      "Fz_28hrs_Gal80_s24r1_summary.csv\n",
      "---annot_df---\n",
      "1\n",
      "7\n",
      "8\n",
      "9\n",
      "10\n",
      "14\n",
      "21\n",
      "27\n",
      "33\n",
      "22\n",
      "40\n",
      "48\n",
      "49\n",
      "43\n",
      "41\n",
      "Fz_28hrs_Gal80_s9r1_summary.csv\n",
      "---annot_df---\n",
      "1\n",
      "7\n",
      "10\n",
      "15\n",
      "19\n",
      "23\n",
      "26\n",
      "28\n",
      "30\n",
      "29\n",
      "54\n",
      "35\n",
      "31\n",
      "39\n",
      "44\n",
      "Fz_28hrs_Gal80_s23r1_summary.csv\n",
      "---annot_df---\n",
      "1\n",
      "7\n",
      "10\n",
      "12\n",
      "16\n",
      "13\n",
      "23\n",
      "27\n",
      "28\n",
      "25\n",
      "30\n",
      "33\n",
      "34\n",
      "14\n",
      "42\n",
      "22\n"
     ]
    }
   ],
   "source": [
    "annot_path = os.path.join(paths.data_prefix, 'Annotations')\n",
    "cats, files = my_help.parse_folder_info(annot_path)\n",
    "for cat in cats:\n",
    "    print(cat)\n",
    "    times, files = my_help.parse_folder_info(os.path.join(annot_path, cat))\n",
    "    for time in times:\n",
    "        print(time)\n",
    "        folders, files = my_help.parse_folder_info(os.path.join(annot_path, cat, time))\n",
    "        pwd = os.path.join(annot_path, cat, time)\n",
    "        for filename in files:\n",
    "            print(filename)\n",
    "            if('.csv' in filename):\n",
    "                df_tmp = pd.read_csv(os.path.join(pwd, filename))\n",
    "                df_tmp_2d, df_tmp_3d = get_dist_dics(df_tmp, time)\n",
    "                df_dis_2d = df_dis_2d.append(df_tmp_2d, ignore_index=True, sort=True)\n",
    "                df_dis_3d = df_dis_3d.append(df_tmp_3d, ignore_index=True, sort=True)"
   ]
  },
  {
   "cell_type": "code",
   "execution_count": 130,
   "metadata": {
    "scrolled": true
   },
   "outputs": [],
   "source": [
    "# # load annotation files\n",
    "# mypath = os.path.join(paths.annot_path, 'Fz', '28')\n",
    "# folders, files = my_help.parse_folder_info(mypath)\n",
    "# for filename in files:\n",
    "#     print(filename)\n",
    "#     if('.csv' in filename):\n",
    "#         df_tmp = pd.read_csv(os.path.join(mypath, filename))\n",
    "#         image_list = df_tmp.loc[:,'Image_Name'].unique()\n",
    "#         ROI_list = df_tmp.loc[:,'ROI_Name'].unique()\n",
    "#         i_image = 0\n",
    "#         image_name = image_list[i_image]\n",
    "#         roi_name = ROI_list[i_image]\n",
    "#         df_roi_temp = pd.read_csv(os.path.join(paths.roi_path, roi_name))\n",
    "#         df_roi_temp.rename(columns = {' ':'No'}, inplace = True)\n",
    "#         df_annot_temp = df_tmp.groupby(['Image_Name']).get_group(image_list[i_image]).reset_index(drop = True)\n",
    "#         m2p_ratio = (df_annot_temp.iloc[0]['imgX_pixel']/df_annot_temp.iloc[0]['imgX_um'], df_annot_temp.iloc[0]['imgY_pixel']/df_annot_temp.iloc[0]['imgY_um'])\n",
    "#         df_bundles_temp, df_annot_bundles_temp = parse_annotation_info(df_annot_temp, df_roi_temp, m2p_ratio)\n",
    "        \n",
    "#         for bundle_no in df_annot_bundles_temp.index:\n",
    "#             df_tmp_2d = pd.DataFrame(columns = df_dis_2d.columns)\n",
    "#             df_tmp_3d = pd.DataFrame(columns = df_dis_3d.columns)\n",
    "#             coord_ori = np.array([\n",
    "#                 df_annot_bundles_temp.loc[bundle_no,'coord_X_Center'],\n",
    "#                 df_annot_bundles_temp.loc[bundle_no,'coord_Y_Center'],\n",
    "#                 df_annot_bundles_temp.loc[bundle_no,'coord_Z_Center']\n",
    "#             ])\n",
    "#             target_inds, target_coords_2d = my_help.get_target_coords(bundle_no, df_bundles_temp, matching_info.index_to_target_id)\n",
    "#             target_inds, target_coords_3d = my_help.get_3d_target_coords(bundle_no, df_bundles_temp, matching_info.index_to_target_id)\n",
    "#             for i in [0,1]:\n",
    "#                 target_coords_2d[:,i] = target_coords_2d[:,i]/m2p_ratio[i]\n",
    "#                 target_coords_3d[:,i] = target_coords_3d[:,i]/m2p_ratio[i]\n",
    "#                 coord_ori[i] = coord_ori[i]/m2p_ratio[i]\n",
    "#             target_coords_3d[:,2] = target_coords_3d[:,2] * 0.125\n",
    "#             coord_ori[2] = coord_ori[2] * 0.125\n",
    "#             df_tmp_2d.loc[0,id_cols[:-1]] = df_annot_bundles_temp.loc[bundle_no, id_cols[:-1]]\n",
    "#             df_tmp_3d.loc[0,id_cols[:-1]] = df_annot_bundles_temp.loc[bundle_no, id_cols[:-1]]\n",
    "#             df_tmp_2d.loc[0, 'TimeID'] = 28\n",
    "#             df_tmp_3d.loc[0, 'TimeID'] = 28\n",
    "#             df_tmp_2d.loc[0,'Bundle_No'] = bundle_no\n",
    "#             df_tmp_3d.loc[0,'Bundle_No'] = bundle_no\n",
    "#             for cat in target_dis_cols[:-1]:\n",
    "#                 ind_i = matching_info.target_id_to_index[int(cat.split('T')[1])]\n",
    "#                 ind_j = matching_info.target_id_to_index[int(cat.split('T')[2])]\n",
    "#                 df_tmp_2d.loc[0,cat] = np.linalg.norm(target_coords_2d[ind_i,:]-target_coords_2d[ind_j,:])\n",
    "#                 df_tmp_3d.loc[0,cat] = np.linalg.norm(target_coords_3d[ind_i,:]-target_coords_3d[ind_j,:])\n",
    "#             df_tmp_2d.loc[0,'R0T4'] = np.linalg.norm(target_coords_2d[matching_info.target_id_to_index[4],:] - coord_ori[0:2])\n",
    "#             df_tmp_3d.loc[0,'R0T4'] = np.linalg.norm(target_coords_3d[matching_info.target_id_to_index[4],:] - coord_ori)\n",
    "#             df_dis_2d = df_dis_2d.append(df_tmp_2d, ignore_index=True, sort=True)\n",
    "#             df_dis_3d = df_dis_3d.append(df_tmp_3d, ignore_index=True, sort=True)"
   ]
  },
  {
   "cell_type": "code",
   "execution_count": 131,
   "metadata": {
    "scrolled": true
   },
   "outputs": [],
   "source": [
    "# # load annotation files\n",
    "# mypath = os.path.join(paths.annot_path, 'Nic', '28')\n",
    "# folders, files = my_help.parse_folder_info(mypath)\n",
    "# for filename in files:\n",
    "#     print(filename)\n",
    "#     if('.csv' in filename):\n",
    "#         df_tmp = pd.read_csv(os.path.join(mypath, filename))\n",
    "#         image_list = df_tmp.loc[:,'Image_Name'].unique()\n",
    "#         ROI_list = df_tmp.loc[:,'ROI_Name'].unique()\n",
    "#         i_image = 0\n",
    "#         image_name = image_list[i_image]\n",
    "#         roi_name = ROI_list[i_image]\n",
    "#         df_roi_temp = pd.read_csv(os.path.join(paths.roi_path, roi_name))\n",
    "#         df_roi_temp.rename(columns = {' ':'No'}, inplace = True)\n",
    "#         df_annot_temp = df_tmp.groupby(['Image_Name']).get_group(image_list[i_image]).reset_index(drop = True)\n",
    "#         m2p_ratio = (df_annot_temp.iloc[0]['imgX_pixel']/df_annot_temp.iloc[0]['imgX_um'], df_annot_temp.iloc[0]['imgY_pixel']/df_annot_temp.iloc[0]['imgY_um'])\n",
    "#         df_bundles_temp, df_annot_bundles_temp = parse_annotation_info(df_annot_temp, df_roi_temp, m2p_ratio)\n",
    "        \n",
    "#         for bundle_no in df_annot_bundles_temp.index:\n",
    "#             df_tmp_2d = pd.DataFrame(columns = df_dis_2d.columns)\n",
    "#             df_tmp_3d = pd.DataFrame(columns = df_dis_3d.columns)\n",
    "#             coord_ori = np.array([\n",
    "#                 df_annot_bundles_temp.loc[bundle_no,'coord_X_Center'],\n",
    "#                 df_annot_bundles_temp.loc[bundle_no,'coord_Y_Center'],\n",
    "#                 df_annot_bundles_temp.loc[bundle_no,'coord_Z_Center']\n",
    "#             ])\n",
    "#             target_inds, target_coords_2d = my_help.get_target_coords(bundle_no, df_bundles_temp, matching_info.index_to_target_id)\n",
    "#             target_inds, target_coords_3d = my_help.get_3d_target_coords(bundle_no, df_bundles_temp, matching_info.index_to_target_id)\n",
    "#             for i in [0,1]:\n",
    "#                 target_coords_2d[:,i] = target_coords_2d[:,i]/m2p_ratio[i]\n",
    "#                 target_coords_3d[:,i] = target_coords_3d[:,i]/m2p_ratio[i]\n",
    "#                 coord_ori[i] = coord_ori[i]/m2p_ratio[i]\n",
    "#             target_coords_3d[:,2] = target_coords_3d[:,2] * 0.125\n",
    "#             coord_ori[2] = coord_ori[2] * 0.125\n",
    "#             df_tmp_2d.loc[0,id_cols[:-1]] = df_annot_bundles_temp.loc[bundle_no, id_cols[:-1]]\n",
    "#             df_tmp_3d.loc[0,id_cols[:-1]] = df_annot_bundles_temp.loc[bundle_no, id_cols[:-1]]\n",
    "#             df_tmp_2d.loc[0, 'TimeID'] = 28\n",
    "#             df_tmp_3d.loc[0, 'TimeID'] = 28\n",
    "#             df_tmp_2d.loc[0,'Bundle_No'] = bundle_no\n",
    "#             df_tmp_3d.loc[0,'Bundle_No'] = bundle_no\n",
    "#             for cat in target_dis_cols[:-1]:\n",
    "#                 ind_i = matching_info.target_id_to_index[int(cat.split('T')[1])]\n",
    "#                 ind_j = matching_info.target_id_to_index[int(cat.split('T')[2])]\n",
    "#                 df_tmp_2d.loc[0,cat] = np.linalg.norm(target_coords_2d[ind_i,:]-target_coords_2d[ind_j,:])\n",
    "#                 df_tmp_3d.loc[0,cat] = np.linalg.norm(target_coords_3d[ind_i,:]-target_coords_3d[ind_j,:])\n",
    "#             df_tmp_2d.loc[0,'R0T4'] = np.linalg.norm(target_coords_2d[matching_info.target_id_to_index[4],:] - coord_ori[0:2])\n",
    "#             df_tmp_3d.loc[0,'R0T4'] = np.linalg.norm(target_coords_3d[matching_info.target_id_to_index[4],:] - coord_ori)\n",
    "#             df_dis_2d = df_dis_2d.append(df_tmp_2d, ignore_index=True, sort=True)\n",
    "#             df_dis_3d = df_dis_3d.append(df_tmp_3d, ignore_index=True, sort=True)"
   ]
  },
  {
   "cell_type": "code",
   "execution_count": 132,
   "metadata": {},
   "outputs": [],
   "source": [
    "target_dis_cols = analysis_params_general.col_params['dist_cols']\n",
    "id_cols = analysis_params_general.col_params['id_cols']\n"
   ]
  },
  {
   "cell_type": "code",
   "execution_count": 150,
   "metadata": {},
   "outputs": [],
   "source": [
    "analysis_params_general.col_params['dist_cols'] = analysis_params_general.col_params['dist_cols'][:-3]"
   ]
  },
  {
   "cell_type": "code",
   "execution_count": 133,
   "metadata": {},
   "outputs": [],
   "source": [
    "df_dis_2d = df_dis_2d.reindex(df_dis_cols, axis=1)\n",
    "df_dis_3d = df_dis_3d.reindex(df_dis_cols, axis=1)\n"
   ]
  },
  {
   "cell_type": "code",
   "execution_count": 152,
   "metadata": {},
   "outputs": [],
   "source": [
    "target_dis_cols += ['T0T2_mean', 'T0T4_mean', 'unit_mean']\n"
   ]
  },
  {
   "cell_type": "code",
   "execution_count": 154,
   "metadata": {},
   "outputs": [],
   "source": [
    "df_dis_2d.loc[:,target_dis_cols[-3]] = np.mean(df_dis_2d.loc[:,target_dis_cols[:6]], axis = 1)\n",
    "df_dis_3d.loc[:,target_dis_cols[-3]] = np.mean(df_dis_3d.loc[:,target_dis_cols[:6]], axis = 1)\n"
   ]
  },
  {
   "cell_type": "code",
   "execution_count": 155,
   "metadata": {},
   "outputs": [],
   "source": [
    "df_dis_2d.loc[:,target_dis_cols[-2]] = np.mean(df_dis_2d.loc[:,target_dis_cols[6:9]], axis = 1)\n",
    "df_dis_3d.loc[:,target_dis_cols[-2]] = np.mean(df_dis_3d.loc[:,target_dis_cols[6:9]], axis = 1)\n"
   ]
  },
  {
   "cell_type": "code",
   "execution_count": 156,
   "metadata": {},
   "outputs": [],
   "source": [
    "df_dis_2d.loc[:,target_dis_cols[-1]] = df_dis_2d.loc[:,target_dis_cols[-1]]\n",
    "df_dis_3d.loc[:,target_dis_cols[-1]] = df_dis_3d.loc[:,target_dis_cols[-1]]\n"
   ]
  },
  {
   "cell_type": "code",
   "execution_count": 166,
   "metadata": {
    "scrolled": true
   },
   "outputs": [
    {
     "data": {
      "text/plain": [
       "Index(['CategoryID', 'SampleID', 'RegionID', 'TimeID', 'Bundle_No', 'dT0T2',\n",
       "       'dT0T5', 'dT4T2', 'dT4T5', 'dT4T3', 'dT4T7', 'dT2T3', 'dT5T7', 'dT0T4',\n",
       "       'dR0T4', 'short_mean', 'long_mean', 'unit_mean', 'T0T2_mean',\n",
       "       'T0T4_mean'],\n",
       "      dtype='object')"
      ]
     },
     "execution_count": 166,
     "metadata": {},
     "output_type": "execute_result"
    }
   ],
   "source": [
    "df_dis_2d.columns"
   ]
  },
  {
   "cell_type": "code",
   "execution_count": 171,
   "metadata": {},
   "outputs": [],
   "source": [
    "df_group = df_dis_2d.groupby(['TimeID', 'CategoryID', 'SampleID', 'RegionID'])"
   ]
  },
  {
   "cell_type": "code",
   "execution_count": 187,
   "metadata": {},
   "outputs": [],
   "source": [
    "j = 0\n",
    "for i in range(len(list(df_group.groups.keys()))):\n",
    "    df_dis_2d.loc[df_group.get_group(list(df_group.groups.keys())[i]).index, 'UniqueID'] = j\n",
    "    j+=1"
   ]
  },
  {
   "cell_type": "code",
   "execution_count": 159,
   "metadata": {},
   "outputs": [],
   "source": [
    "df_dis_2d_reshape = pd.DataFrame(columns = id_cols + ['Bundle_No'] + ['DistCat', 'DistVal'])\n",
    "df_dis_3d_reshape = pd.DataFrame(columns = id_cols + ['Bundle_No'] + ['DistCat', 'DistVal'])\n"
   ]
  },
  {
   "cell_type": "code",
   "execution_count": 190,
   "metadata": {},
   "outputs": [],
   "source": [
    "for ind in df_dis_2d.index:\n",
    "    df_tmp_2d = pd.DataFrame(columns = df_dis_2d_reshape.columns)\n",
    "    df_tmp_2d.loc[0,id_cols] = df_dis_2d.loc[ind,id_cols]\n",
    "    df_tmp_2d.loc[0,'Bundle_No'] = df_dis_2d.loc[ind,'Bundle_No']\n",
    "    df_tmp_2d.loc[0, 'UniqueID'] = df_dis_2d.loc[ind,'UniqueID']\n",
    "#     for cat in target_dis_cols:\n",
    "    for cat in ['short_mean', 'long_mean', 'unit_mean']:\n",
    "        df_tmp_2d.loc[0,'DistCat'] = cat\n",
    "        df_tmp_2d.loc[0,'DistVal'] = df_dis_2d.loc[ind,cat]\n",
    "        df_dis_2d_reshape = df_dis_2d_reshape.append(df_tmp_2d, ignore_index=True, sort=True)"
   ]
  },
  {
   "cell_type": "code",
   "execution_count": 161,
   "metadata": {},
   "outputs": [],
   "source": [
    "for ind in df_dis_3d.index:\n",
    "    df_tmp_3d = pd.DataFrame(columns = df_dis_3d_reshape.columns)\n",
    "    df_tmp_3d.loc[0,id_cols] = df_dis_3d.loc[ind,id_cols]\n",
    "    df_tmp_3d.loc[0,'Bundle_No'] = df_dis_3d.loc[ind,'Bundle_No']\n",
    "#     for cat in target_dis_cols:\n",
    "    for cat in ['short_mean', 'long_mean', 'unit_mean']:\n",
    "        df_tmp_3d.loc[0,'DistCat'] = cat\n",
    "        df_tmp_3d.loc[0,'DistVal'] = df_dis_3d.loc[ind,cat]\n",
    "        df_dis_3d_reshape = df_dis_3d_reshape.append(df_tmp_3d, ignore_index=True, sort=True)\n",
    "        "
   ]
  },
  {
   "cell_type": "code",
   "execution_count": 204,
   "metadata": {},
   "outputs": [
    {
     "data": {
      "text/plain": [
       "<matplotlib.axes._subplots.AxesSubplot at 0x1c243c76a0>"
      ]
     },
     "execution_count": 204,
     "metadata": {},
     "output_type": "execute_result"
    },
    {
     "data": {
      "image/png": "[encoded data removed]",
      "text/plain": [
       "<Figure size 432x288 with 1 Axes>"
      ]
     },
     "metadata": {},
     "output_type": "display_data"
    }
   ],
   "source": [
    "sns.boxplot(x=\"DistCat\", y=\"DistVal\", hue=\"UniqueID\",\n",
    "                 data=df_dis_2d_reshape[df_dis_2d_reshape.TimeID == '28'])\n"
   ]
  },
  {
   "cell_type": "code",
   "execution_count": null,
   "metadata": {
    "scrolled": true
   },
   "outputs": [],
   "source": [
    "\"\"\" Process images \"\"\"\n",
    "### number of channels\n",
    "nChannels = min(image.shape)# number of channels of original image\n",
    "num_norm_channels = len(matching_info.channel_cmap.keys()) # number of channels of normalized image\n",
    "\n",
    "if(nChannels == 2):\n",
    "    print(\"2 channels!\")\n",
    "    ### normalize channels\n",
    "    image_norm = np.empty(image_shape + (num_norm_channels,), dtype=image[:,0,:,:].dtype, order='C')\n",
    "    thr = np.zeros((2))\n",
    "    \n",
    "    # RFP_norm\n",
    "    %time image_norm[:,:,:,0] = exposure.rescale_intensity(image[:,0,:,:], in_range = 'image', out_range='dtype')\n",
    "    # GFP_norm\n",
    "    %time image_norm[:,:,:,1] = exposure.rescale_intensity(image[:,1,:,:], in_range = 'image', out_range='dtype')    \n",
    "    \n",
    "    del image\n",
    "        \n",
    "elif(nChannels == 4):\n",
    "    print(\"4 channels!\")\n",
    "    ### normalize channels\n",
    "    image_norm = np.empty(image_shape + (num_norm_channels,), dtype=image[:,:,:,1].dtype, order='C')\n",
    "    thr = np.zeros((2))\n",
    "    \n",
    "    # RFP_norm\n",
    "    %time image_norm[:,:,:,0] = exposure.rescale_intensity(image[:,:,:,0], in_range = 'image', out_range='dtype')\n",
    "    # GFP_norm\n",
    "    %time image_norm[:,:,:,1] = exposure.rescale_intensity(image[:,:,:,1], in_range = 'image', out_range='dtype')    \n",
    "    "
   ]
  },
  {
   "cell_type": "code",
   "execution_count": null,
   "metadata": {
    "scrolled": true
   },
   "outputs": [],
   "source": [
    "\"\"\" Plot individual bundles \"\"\""
   ]
  },
  {
   "cell_type": "code",
   "execution_count": null,
   "metadata": {},
   "outputs": [],
   "source": [
    "bundle_no = 1\n",
    "plotSettings = False, False, False, True #isPlotR3Line, isPlotR4Line, isPlotR4s, isLabelOff\n",
    "my_plot.plot_individual_bundles(bundle_no, bundles_df, image_norm, m2p_ratio[0], m2p_ratio[1], is_plot_r3_line = False, is_plot_r4_line = False, is_plot_r4 = False, is_label_off = True)\n",
    "plt.show()"
   ]
  },
  {
   "cell_type": "code",
   "execution_count": null,
   "metadata": {
    "scrolled": true
   },
   "outputs": [],
   "source": [
    "for ind, bundle_no in enumerate(annot_bundles_df.index):\n",
    "    plotSettings = False, False, False, True #isPlotR3Line, isPlotR4Line, isPlotR4s, isLabelOff\n",
    "    my_plot.plot_individual_bundles(bundle_no, bundles_df, image_norm, m2p_ratio[0], m2p_ratio[1], is_plot_r3_line = False, is_plot_r4_line = False, is_plot_r4 = False, is_label_off = True)\n",
    "    plt.show()"
   ]
  }
 ],
 "metadata": {
  "kernelspec": {
   "display_name": "Python 3",
   "language": "python",
   "name": "python3"
  },
  "language_info": {
   "codemirror_mode": {
    "name": "ipython",
    "version": 3
   },
   "file_extension": ".py",
   "mimetype": "text/x-python",
   "name": "python",
   "nbconvert_exporter": "python",
   "pygments_lexer": "ipython3",
   "version": "3.6.8"
  }
 },
 "nbformat": 4,
 "nbformat_minor": 2
}
