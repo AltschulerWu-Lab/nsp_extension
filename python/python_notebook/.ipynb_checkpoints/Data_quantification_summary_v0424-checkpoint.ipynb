{
 "cells": [
  {
   "cell_type": "code",
   "execution_count": 1,
   "metadata": {},
   "outputs": [],
   "source": [
    "%matplotlib inline\n",
    "\n",
    "import io, os, sys, types, datetime\n",
    "\n",
    "from IPython import get_ipython\n",
    "from nbformat import read\n",
    "from IPython.core.interactiveshell import InteractiveShell\n",
    "\n",
    "import pandas as pd\n",
    "\n",
    "import matplotlib\n",
    "import matplotlib.pyplot as plt\n",
    "\n",
    "import numpy as np\n",
    "from numpy.linalg import eig, inv\n",
    "\n",
    "import math\n",
    "\n",
    "from scipy import interpolate, spatial, stats\n",
    "\n",
    "import seaborn as sns\n",
    "\n",
    "import skimage.io as skiIo\n",
    "from skimage import exposure, img_as_float\n",
    "\n",
    "from sklearn import linear_model\n",
    "from sklearn import metrics\n",
    "\n",
    "# import cv2\n",
    "\n",
    "import pickle\n",
    "\n"
   ]
  },
  {
   "cell_type": "code",
   "execution_count": 2,
   "metadata": {},
   "outputs": [],
   "source": [
    "### import custom functions\n",
    "import Data_quantification_function_helper as my_help\n",
    "import Data_quantification_function_intensity_calculation as my_int\n",
    "import Data_quantification_function_parse_bundle as my_pb\n",
    "import Data_quantification_functions_plotting as my_plot"
   ]
  },
  {
   "cell_type": "code",
   "execution_count": 3,
   "metadata": {
    "scrolled": true
   },
   "outputs": [
    {
     "data": {
      "text/plain": [
       "' ============== path settings =============='"
      ]
     },
     "execution_count": 3,
     "metadata": {},
     "output_type": "execute_result"
    }
   ],
   "source": [
    "\"\"\" ============== path settings ==============\"\"\""
   ]
  },
  {
   "cell_type": "code",
   "execution_count": 4,
   "metadata": {},
   "outputs": [],
   "source": [
    "# global isMac\n",
    "isMac = False\n",
    "\n",
    "if(isMac):\n",
    "    supPrefix = '/Users/lily/Lily/Academic/AW_Lab/data/fate_switching_gfp_rfp_old/'\n",
    "    dataPrefix = os.path.join(supPrefix, 'Data')\n",
    "    figOutPrefix = os.path.join(supPrefix, 'Output', 'FigureOutput_v0422')\n",
    "    dataOutPrefix = os.path.join(supPrefix, 'Output', 'DataOutput_v0422')\n",
    "else:\n",
    "    supPrefix = 'Z:\\\\lab\\\\Projects\\\\NSP\\\\Data_Analysis\\\\Experiments\\\\Fate_Switching\\\\GFP_RFP\\\\Summaries\\\\ver2018'\n",
    "    dataPrefix = os.path.join(supPrefix, 'Data')\n",
    "    figOutPrefix = os.path.join(supPrefix, 'FigureOutput_v0422')\n",
    "    dataOutPrefix = os.path.join(supPrefix, 'DataOutput_v0422')"
   ]
  },
  {
   "cell_type": "code",
   "execution_count": 5,
   "metadata": {},
   "outputs": [],
   "source": [
    "def saveDataFile(data, nameparams, outputDir):\n",
    "    categoryID, sampleID, regionID = nameparams\n",
    "    now = datetime.datetime.now()\n",
    "    date_info = str(now.year)+str(now.month)+str(now.day)\n",
    "    outputname = categoryID + '_sample' + str(sampleID) + '_region' + str(regionID) + '_v' + date_info + '.pickle'\n",
    "    \n",
    "    my_help.check_dir(outputDir)\n",
    "    outputname = os.path.join(outputDir, outputname)\n",
    "    pickle_out = open(outputname,\"wb\")\n",
    "    pickle.dump(data, pickle_out)\n",
    "    pickle_out.close()"
   ]
  },
  {
   "cell_type": "code",
   "execution_count": 6,
   "metadata": {},
   "outputs": [
    {
     "data": {
      "text/plain": [
       "' ============== Golbal variables and parameters =============='"
      ]
     },
     "execution_count": 6,
     "metadata": {},
     "output_type": "execute_result"
    }
   ],
   "source": [
    "\"\"\" ============== Golbal variables and parameters ==============\"\"\""
   ]
  },
  {
   "cell_type": "code",
   "execution_count": 7,
   "metadata": {},
   "outputs": [],
   "source": [
    "### global variables\n",
    "global ColorCode, targetIndexMatch, bins, channel_mapping\n",
    "bins = 4096"
   ]
  },
  {
   "cell_type": "code",
   "execution_count": 8,
   "metadata": {},
   "outputs": [],
   "source": [
    "### analysis parameters\n",
    "radiusExpanseRatio = 1.5\n",
    "num_angleSection = 20\n",
    "num_outsideAngle = 20\n",
    "num_Xsection = 20\n",
    "z_offset = 25\n",
    "analysisParams = [num_angleSection, num_outsideAngle, num_Xsection, z_offset, radiusExpanseRatio]"
   ]
  },
  {
   "cell_type": "code",
   "execution_count": 9,
   "metadata": {
    "scrolled": true
   },
   "outputs": [
    {
     "data": {
      "text/plain": [
       "'============== main =============='"
      ]
     },
     "execution_count": 9,
     "metadata": {},
     "output_type": "execute_result"
    }
   ],
   "source": [
    "\"\"\"============== main ==============\"\"\""
   ]
  },
  {
   "cell_type": "code",
   "execution_count": 10,
   "metadata": {},
   "outputs": [
    {
     "data": {
      "image/png": "[encoded data removed]",
      "text/plain": [
       "<Figure size 432x288 with 1 Axes>"
      ]
     },
     "metadata": {
      "needs_background": "light"
     },
     "output_type": "display_data"
    },
    {
     "data": {
      "image/png": "[encoded data removed]",
      "text/plain": [
       "<Figure size 432x288 with 4 Axes>"
      ]
     },
     "metadata": {
      "needs_background": "light"
     },
     "output_type": "display_data"
    }
   ],
   "source": [
    "import numpy as np\n",
    "import matplotlib.pyplot as plt\n",
    "\n",
    "# example data\n",
    "x = np.arange(0.1, 4, 0.5)\n",
    "y = np.exp(-x)\n",
    "\n",
    "# example variable error bar values\n",
    "yerr = 0.1 + 0.2*np.sqrt(x)\n",
    "xerr = 0.1 + yerr\n",
    "\n",
    "# First illustrate basic pyplot interface, using defaults where possible.\n",
    "plt.figure()\n",
    "plt.errorbar(x, y, xerr=0.2, yerr=0.4)\n",
    "plt.title(\"Simplest errorbars, 0.2 in x, 0.4 in y\")\n",
    "\n",
    "# Now switch to a more OO interface to exercise more features.\n",
    "fig, axs = plt.subplots(nrows=2, ncols=2, sharex=True)\n",
    "ax = axs[0,0]\n",
    "ax.errorbar(x, y, yerr=yerr, fmt='o')\n",
    "ax.set_title('Vert. symmetric')\n",
    "\n",
    "# With 4 subplots, reduce the number of axis ticks to avoid crowding.\n",
    "ax.locator_params(nbins=4)\n",
    "\n",
    "ax = axs[0,1]\n",
    "ax.errorbar(x, y, xerr=xerr, fmt='o')\n",
    "ax.set_title('Hor. symmetric')\n",
    "\n",
    "ax = axs[1,0]\n",
    "ax.errorbar(x, y, yerr=[yerr, 2*yerr], xerr=[xerr, 2*xerr], fmt='--o')\n",
    "ax.set_title('H, V asymmetric')\n",
    "\n",
    "ax = axs[1,1]\n",
    "ax.set_yscale('log')\n",
    "# Here we have to be careful to keep all y values positive:\n",
    "ylower = np.maximum(1e-2, y - yerr)\n",
    "yerr_lower = y - ylower\n",
    "\n",
    "ax.errorbar(x, y, yerr=[yerr_lower, 2*yerr], xerr=xerr,\n",
    "            fmt='o', ecolor='g', capthick=2)\n",
    "ax.set_title('Mixed sym., log y')\n",
    "\n",
    "fig.suptitle('Variable errorbars')\n",
    "\n",
    "plt.show()"
   ]
  },
  {
   "cell_type": "code",
   "execution_count": 11,
   "metadata": {},
   "outputs": [],
   "source": [
    "x = [0, 1, 2, 3]\n",
    "R3 = [0.3, 0.6, 0.84, 1.23]\n",
    "dR3 = [0.05, 0.1, 0.2, 0.2]\n",
    "R4 = [0.4, 0.4, 0.55, 0.8]\n",
    "dR4 = [0.05, 0.09, 0.15, 0.3]\n",
    "R3_Fz = [0.35, 0.62, 0.95, 1.35]\n",
    "dR3_Fz = [0.05, 0.1, 0.2, 0.2]\n",
    "R4_Nic = [0.37, 0.37, 0.57, 0.77]\n",
    "dR4_Nic = [0.05, 0.1, 0.2, 0.2]"
   ]
  },
  {
   "cell_type": "code",
   "execution_count": 12,
   "metadata": {},
   "outputs": [
    {
     "data": {
      "text/plain": [
       "4"
      ]
     },
     "execution_count": 12,
     "metadata": {},
     "output_type": "execute_result"
    }
   ],
   "source": [
    "len(x)"
   ]
  },
  {
   "cell_type": "code",
   "execution_count": 13,
   "metadata": {},
   "outputs": [
    {
     "data": {
      "image/png": "[encoded data removed]",
      "text/plain": [
       "<Figure size 864x648 with 1 Axes>"
      ]
     },
     "metadata": {
      "needs_background": "light"
     },
     "output_type": "display_data"
    }
   ],
   "source": [
    "fig = plt.subplots(1,1,figsize = (12,9))\n",
    "plt.errorbar(x, R3, yerr = dR3, fmt='-o', color = 'r', label = \"control_R3\")\n",
    "plt.errorbar(x, R4, yerr = dR4, fmt='-o', color = 'gold', label = \"control_R4\")\n",
    "plt.errorbar(x, R3_Fz, yerr = dR3_Fz, fmt='--o', color = 'r', label = \"Fz_R3/R3\")\n",
    "plt.errorbar(x, R4_Nic, yerr = dR4_Nic, fmt='--o', color = 'gold', label = \"Nic_R4/R4\")\n",
    "plt.ylim([0, 1.6])\n",
    "plt.legend(bbox_to_anchor=(1.05, 1), loc=2, borderaxespad=0.8)\n",
    "\n",
    "plt.show()\n"
   ]
  },
  {
   "cell_type": "code",
   "execution_count": 14,
   "metadata": {},
   "outputs": [
    {
     "data": {
      "text/plain": [
       "0.8"
      ]
     },
     "execution_count": 14,
     "metadata": {},
     "output_type": "execute_result"
    }
   ],
   "source": [
    "0.55+0.25"
   ]
  },
  {
   "cell_type": "code",
   "execution_count": 15,
   "metadata": {},
   "outputs": [],
   "source": [
    "### file parameters\n",
    "# input file folders\n",
    "imageFolder = 'Images'\n",
    "ROIFolder = 'ROIs'\n",
    "summaryFolder = 'Summaries'"
   ]
  },
  {
   "cell_type": "code",
   "execution_count": 16,
   "metadata": {},
   "outputs": [
    {
     "data": {
      "text/plain": [
       "' Load data '"
      ]
     },
     "execution_count": 16,
     "metadata": {},
     "output_type": "execute_result"
    }
   ],
   "source": [
    "\"\"\" Load data \"\"\""
   ]
  },
  {
   "cell_type": "code",
   "execution_count": 17,
   "metadata": {},
   "outputs": [],
   "source": [
    "### file parameters\n",
    "# file folders\n",
    "imageFolder = 'Images'\n",
    "ROIFolder = 'ROIs'\n",
    "annotationFolder = 'Annotations'\n",
    "summaryFolder = 'Summary'\n",
    "annotationsubFolder = '28hrs'"
   ]
  },
  {
   "cell_type": "code",
   "execution_count": 18,
   "metadata": {},
   "outputs": [],
   "source": [
    "# load summary statistics file\n",
    "mypath = os.path.join(supPrefix, 'Data', 'Summary')\n",
    "sum_df = pd.read_csv(os.path.join(mypath, 'Numbers_Summary.csv'))"
   ]
  },
  {
   "cell_type": "code",
   "execution_count": 19,
   "metadata": {},
   "outputs": [],
   "source": [
    "# load annotation files\n",
    "mypath = os.path.join(dataPrefix, annotationFolder, annotationsubFolder)\n",
    "folders, files = my_help.parseFolderInfo(mypath)\n",
    "for filename in files:\n",
    "    if('.csv' in filename):\n",
    "        df_temp = pd.read_csv(os.path.join(mypath, filename))\n",
    "        if(files.index(filename) == 0):\n",
    "            annots_df = df_temp\n",
    "        else:\n",
    "            df_temp = pd.read_csv(os.path.join(mypath, filename))\n",
    "            annots_df = annots_df.append(df_temp, ignore_index=True, sort=True)\n",
    "#     print(df_temp)"
   ]
  },
  {
   "cell_type": "code",
   "execution_count": 20,
   "metadata": {
    "scrolled": true
   },
   "outputs": [
    {
     "name": "stdout",
     "output_type": "stream",
     "text": [
      "0\n",
      "1\n",
      "2\n",
      "3\n",
      "4\n",
      "5\n",
      "6\n",
      "7\n"
     ]
    }
   ],
   "source": [
    "# load data files\n",
    "outputData = {}\n",
    "filepaths = my_help.getFilePaths(dataOutPrefix)\n",
    "for i in range(len(filepaths)):\n",
    "    print(i)\n",
    "    pickle_in = open(filepaths[i],\"rb\")\n",
    "    outputData[i] = pickle.load(pickle_in)\n",
    "    if(outputData[i]['categoryID'] == 'Nic'):\n",
    "        outputData[i]['categoryID'] = 'N'\n",
    "        nameparams = outputData[i]['categoryID'], outputData[i]['sampleID'], outputData[i]['regionID']\n",
    "        outputDir = os.path.join(dataOutPrefix, outputData[i]['categoryID'])\n",
    "        saveDataFile(outputData[i], nameparams, outputDir)"
   ]
  },
  {
   "cell_type": "code",
   "execution_count": 21,
   "metadata": {
    "scrolled": true
   },
   "outputs": [],
   "source": [
    "# correct for heel position of R3 and R4s\n",
    "sum_df_group = sum_df.groupby(['Type', 'sampleID', 'regionID'])\n",
    "annots_df_group = annots_df.groupby(['CategoryID', 'SampleID', 'RegionID'])"
   ]
  },
  {
   "cell_type": "code",
   "execution_count": 22,
   "metadata": {
    "scrolled": true
   },
   "outputs": [
    {
     "name": "stdout",
     "output_type": "stream",
     "text": [
      "===\n",
      "Control 3 1\n",
      "===\n",
      "Control 1 1\n",
      "===\n",
      "N 1 1\n",
      "===\n",
      "N 4 1\n",
      "===\n",
      "N 2 1\n",
      "===\n",
      "N 3 1\n",
      "===\n",
      "Fz 1 1\n",
      "===\n",
      "Fz 4 1\n"
     ]
    }
   ],
   "source": [
    "for i in outputData.keys():\n",
    "    category = outputData[i]['categoryID']\n",
    "#     if((category == 'Nic') | (category == 'N')):\n",
    "#         category1 = 'N'\n",
    "#         category2 = 'Nic'\n",
    "#     else:\n",
    "#         category1 = category\n",
    "#         category2 = category\n",
    "    sampleID = outputData[i]['sampleID']\n",
    "    regionID = outputData[i]['regionID']\n",
    "    print(\"===\")\n",
    "    print(category, sampleID, regionID)\n",
    "    params = outputData[i]['Parameter']\n",
    "    sum_df_current = sum_df_group.get_group((category, sampleID, regionID))\n",
    "    annots_df_current = annots_df_group.get_group((category, sampleID, regionID))\n",
    "    for ind in range(len(params)):\n",
    "        bundle_no = annots_df_current.iloc[ind]['Bundle_No']\n",
    "        r3_heel = params[ind][0][2][7]\n",
    "        r4_heel = params[ind][0][2][8]\n",
    "        r3_ind = sum_df_current.index[(sum_df_current['bundle_no'] == bundle_no) & (sum_df_current['Rtype'] == 3)].tolist()\n",
    "        r4_ind = sum_df_current.index[(sum_df_current['bundle_no'] == bundle_no) & (sum_df_current['Rtype'] == 4)].tolist()\n",
    "        if(len(r3_ind) == 2):\n",
    "            angle1 = sum_df.loc[r3_ind[0], 'angle_avg']\n",
    "            angle2 = sum_df.loc[r3_ind[1], 'angle_avg']\n",
    "            if(angle1 < angle2):\n",
    "                sum_df.loc[r3_ind[0], 'length_corrected'] = sum_df.loc[r3_ind[0], 'length'] - r3_heel\n",
    "                sum_df.loc[r3_ind[1], 'length_corrected'] = sum_df.loc[r3_ind[1], 'length'] - r4_heel\n",
    "            else:\n",
    "                sum_df.loc[r3_ind[0], 'length_corrected'] = sum_df.loc[r3_ind[0], 'length'] - r4_heel\n",
    "                sum_df.loc[r3_ind[1], 'length_corrected'] = sum_df.loc[r3_ind[1], 'length'] - r3_heel\n",
    "        elif(len(r4_ind) == 2):\n",
    "            angle1 = sum_df.loc[r4_ind[0], 'angle_avg']\n",
    "            angle2 = sum_df.loc[r4_ind[1], 'angle_avg']\n",
    "            if(angle1 < angle2):\n",
    "                sum_df.loc[r4_ind[0], 'length_corrected'] = sum_df.loc[r4_ind[0], 'length'] - r3_heel\n",
    "                sum_df.loc[r4_ind[1], 'length_corrected'] = sum_df.loc[r4_ind[0], 'length'] - r4_heel\n",
    "            else:\n",
    "                sum_df.loc[r4_ind[0], 'length_corrected'] = sum_df.loc[r4_ind[0], 'length'] - r4_heel\n",
    "                sum_df.loc[r4_ind[1], 'length_corrected'] = sum_df.loc[r4_ind[0], 'length'] - r3_heel\n",
    "        if(len(r3_ind) == 1):\n",
    "            sum_df.loc[r3_ind, 'length_corrected'] = sum_df.loc[r3_ind, 'length'] - r3_heel\n",
    "        if(len(r4_ind) == 1):\n",
    "            sum_df.loc[r4_ind, 'length_corrected'] = sum_df.loc[r4_ind, 'length'] - r4_heel\n",
    "        if((len(r4_ind) > 2) | (len(r3_ind) > 2)):\n",
    "            print('Error! multiple incidents of same bundle!!')"
   ]
  },
  {
   "cell_type": "code",
   "execution_count": null,
   "metadata": {},
   "outputs": [],
   "source": []
  },
  {
   "cell_type": "code",
   "execution_count": 23,
   "metadata": {},
   "outputs": [
    {
     "name": "stderr",
     "output_type": "stream",
     "text": [
      "C:\\Users\\sf942274\\AppData\\Local\\Continuum\\anaconda3\\lib\\site-packages\\ipykernel_launcher.py:1: FutureWarning: Interpreting tuple 'by' as a list of keys, rather than a single key. Use 'by=[...]' instead of 'by=(...)'. In the future, a tuple will always mean a single key.\n",
      "  \"\"\"Entry point for launching an IPython kernel.\n"
     ]
    }
   ],
   "source": [
    "sum_df_groups = sum_df.groupby(('Type', 'Rtype', 'R3_flag', 'R4_flag'))"
   ]
  },
  {
   "cell_type": "code",
   "execution_count": 24,
   "metadata": {
    "scrolled": true
   },
   "outputs": [
    {
     "data": {
      "text/html": [
       "<div>\n",
       "<style scoped>\n",
       "    .dataframe tbody tr th:only-of-type {\n",
       "        vertical-align: middle;\n",
       "    }\n",
       "\n",
       "    .dataframe tbody tr th {\n",
       "        vertical-align: top;\n",
       "    }\n",
       "\n",
       "    .dataframe thead th {\n",
       "        text-align: right;\n",
       "    }\n",
       "</style>\n",
       "<table border=\"1\" class=\"dataframe\">\n",
       "  <thead>\n",
       "    <tr style=\"text-align: right;\">\n",
       "      <th></th>\n",
       "      <th></th>\n",
       "      <th></th>\n",
       "      <th></th>\n",
       "      <th>sampleID</th>\n",
       "      <th>regionID</th>\n",
       "      <th>bundle_no</th>\n",
       "      <th>angle1</th>\n",
       "      <th>angle2</th>\n",
       "      <th>length</th>\n",
       "      <th>angle_avg</th>\n",
       "      <th>angle_abs</th>\n",
       "      <th>length_corrected</th>\n",
       "    </tr>\n",
       "    <tr>\n",
       "      <th>Type</th>\n",
       "      <th>Rtype</th>\n",
       "      <th>R3_flag</th>\n",
       "      <th>R4_flag</th>\n",
       "      <th></th>\n",
       "      <th></th>\n",
       "      <th></th>\n",
       "      <th></th>\n",
       "      <th></th>\n",
       "      <th></th>\n",
       "      <th></th>\n",
       "      <th></th>\n",
       "      <th></th>\n",
       "    </tr>\n",
       "  </thead>\n",
       "  <tbody>\n",
       "    <tr>\n",
       "      <th rowspan=\"2\" valign=\"top\">Control</th>\n",
       "      <th>3</th>\n",
       "      <th>0</th>\n",
       "      <th>0</th>\n",
       "      <td>2.488372</td>\n",
       "      <td>1.0</td>\n",
       "      <td>35.395349</td>\n",
       "      <td>-0.416279</td>\n",
       "      <td>-0.451163</td>\n",
       "      <td>1.090698</td>\n",
       "      <td>-0.367442</td>\n",
       "      <td>0.688372</td>\n",
       "      <td>0.853401</td>\n",
       "    </tr>\n",
       "    <tr>\n",
       "      <th>4</th>\n",
       "      <th>0</th>\n",
       "      <th>0</th>\n",
       "      <td>2.375000</td>\n",
       "      <td>1.0</td>\n",
       "      <td>31.968750</td>\n",
       "      <td>0.530625</td>\n",
       "      <td>0.624375</td>\n",
       "      <td>0.779687</td>\n",
       "      <td>0.577500</td>\n",
       "      <td>0.596250</td>\n",
       "      <td>0.550406</td>\n",
       "    </tr>\n",
       "    <tr>\n",
       "      <th rowspan=\"4\" valign=\"top\">Fz</th>\n",
       "      <th rowspan=\"2\" valign=\"top\">3</th>\n",
       "      <th>0</th>\n",
       "      <th>0</th>\n",
       "      <td>2.166667</td>\n",
       "      <td>1.0</td>\n",
       "      <td>33.611111</td>\n",
       "      <td>-0.766667</td>\n",
       "      <td>-0.850000</td>\n",
       "      <td>1.281667</td>\n",
       "      <td>-0.758333</td>\n",
       "      <td>0.791667</td>\n",
       "      <td>1.054085</td>\n",
       "    </tr>\n",
       "    <tr>\n",
       "      <th>1</th>\n",
       "      <th>0</th>\n",
       "      <td>3.142857</td>\n",
       "      <td>1.0</td>\n",
       "      <td>43.000000</td>\n",
       "      <td>0.064286</td>\n",
       "      <td>0.085714</td>\n",
       "      <td>1.169286</td>\n",
       "      <td>0.075000</td>\n",
       "      <td>0.867857</td>\n",
       "      <td>0.955565</td>\n",
       "    </tr>\n",
       "    <tr>\n",
       "      <th rowspan=\"2\" valign=\"top\">4</th>\n",
       "      <th rowspan=\"2\" valign=\"top\">0</th>\n",
       "      <th>0</th>\n",
       "      <td>2.304348</td>\n",
       "      <td>1.0</td>\n",
       "      <td>33.304348</td>\n",
       "      <td>0.769565</td>\n",
       "      <td>0.886957</td>\n",
       "      <td>0.861304</td>\n",
       "      <td>0.828261</td>\n",
       "      <td>0.828261</td>\n",
       "      <td>0.631976</td>\n",
       "    </tr>\n",
       "    <tr>\n",
       "      <th>1</th>\n",
       "      <td>2.714286</td>\n",
       "      <td>1.0</td>\n",
       "      <td>29.571429</td>\n",
       "      <td>0.150000</td>\n",
       "      <td>0.192857</td>\n",
       "      <td>1.069286</td>\n",
       "      <td>0.171429</td>\n",
       "      <td>1.114286</td>\n",
       "      <td>0.829756</td>\n",
       "    </tr>\n",
       "    <tr>\n",
       "      <th rowspan=\"4\" valign=\"top\">N</th>\n",
       "      <th rowspan=\"2\" valign=\"top\">3</th>\n",
       "      <th>0</th>\n",
       "      <th>0</th>\n",
       "      <td>2.366667</td>\n",
       "      <td>1.0</td>\n",
       "      <td>22.200000</td>\n",
       "      <td>-0.660000</td>\n",
       "      <td>-0.680000</td>\n",
       "      <td>1.088667</td>\n",
       "      <td>-0.545000</td>\n",
       "      <td>0.755000</td>\n",
       "      <td>0.839343</td>\n",
       "    </tr>\n",
       "    <tr>\n",
       "      <th>1</th>\n",
       "      <th>0</th>\n",
       "      <td>1.000000</td>\n",
       "      <td>1.0</td>\n",
       "      <td>28.000000</td>\n",
       "      <td>0.000000</td>\n",
       "      <td>0.150000</td>\n",
       "      <td>0.900000</td>\n",
       "      <td>0.075000</td>\n",
       "      <td>0.675000</td>\n",
       "      <td>0.687792</td>\n",
       "    </tr>\n",
       "    <tr>\n",
       "      <th rowspan=\"2\" valign=\"top\">4</th>\n",
       "      <th rowspan=\"2\" valign=\"top\">0</th>\n",
       "      <th>0</th>\n",
       "      <td>2.111111</td>\n",
       "      <td>1.0</td>\n",
       "      <td>18.972222</td>\n",
       "      <td>0.741667</td>\n",
       "      <td>0.783333</td>\n",
       "      <td>0.790556</td>\n",
       "      <td>0.745833</td>\n",
       "      <td>0.762500</td>\n",
       "      <td>0.545757</td>\n",
       "    </tr>\n",
       "    <tr>\n",
       "      <th>1</th>\n",
       "      <td>2.400000</td>\n",
       "      <td>1.0</td>\n",
       "      <td>22.800000</td>\n",
       "      <td>0.240000</td>\n",
       "      <td>0.150000</td>\n",
       "      <td>0.724000</td>\n",
       "      <td>0.166667</td>\n",
       "      <td>1.100000</td>\n",
       "      <td>0.472303</td>\n",
       "    </tr>\n",
       "  </tbody>\n",
       "</table>\n",
       "</div>"
      ],
      "text/plain": [
       "                               sampleID  regionID  bundle_no    angle1  \\\n",
       "Type    Rtype R3_flag R4_flag                                            \n",
       "Control 3     0       0        2.488372       1.0  35.395349 -0.416279   \n",
       "        4     0       0        2.375000       1.0  31.968750  0.530625   \n",
       "Fz      3     0       0        2.166667       1.0  33.611111 -0.766667   \n",
       "              1       0        3.142857       1.0  43.000000  0.064286   \n",
       "        4     0       0        2.304348       1.0  33.304348  0.769565   \n",
       "                      1        2.714286       1.0  29.571429  0.150000   \n",
       "N       3     0       0        2.366667       1.0  22.200000 -0.660000   \n",
       "              1       0        1.000000       1.0  28.000000  0.000000   \n",
       "        4     0       0        2.111111       1.0  18.972222  0.741667   \n",
       "                      1        2.400000       1.0  22.800000  0.240000   \n",
       "\n",
       "                                 angle2    length  angle_avg  angle_abs  \\\n",
       "Type    Rtype R3_flag R4_flag                                             \n",
       "Control 3     0       0       -0.451163  1.090698  -0.367442   0.688372   \n",
       "        4     0       0        0.624375  0.779687   0.577500   0.596250   \n",
       "Fz      3     0       0       -0.850000  1.281667  -0.758333   0.791667   \n",
       "              1       0        0.085714  1.169286   0.075000   0.867857   \n",
       "        4     0       0        0.886957  0.861304   0.828261   0.828261   \n",
       "                      1        0.192857  1.069286   0.171429   1.114286   \n",
       "N       3     0       0       -0.680000  1.088667  -0.545000   0.755000   \n",
       "              1       0        0.150000  0.900000   0.075000   0.675000   \n",
       "        4     0       0        0.783333  0.790556   0.745833   0.762500   \n",
       "                      1        0.150000  0.724000   0.166667   1.100000   \n",
       "\n",
       "                               length_corrected  \n",
       "Type    Rtype R3_flag R4_flag                    \n",
       "Control 3     0       0                0.853401  \n",
       "        4     0       0                0.550406  \n",
       "Fz      3     0       0                1.054085  \n",
       "              1       0                0.955565  \n",
       "        4     0       0                0.631976  \n",
       "                      1                0.829756  \n",
       "N       3     0       0                0.839343  \n",
       "              1       0                0.687792  \n",
       "        4     0       0                0.545757  \n",
       "                      1                0.472303  "
      ]
     },
     "execution_count": 24,
     "metadata": {},
     "output_type": "execute_result"
    }
   ],
   "source": [
    "sum_df_groups.mean()"
   ]
  },
  {
   "cell_type": "code",
   "execution_count": 25,
   "metadata": {},
   "outputs": [],
   "source": [
    "wt_R3 = sum_df_groups.get_group(('Control', 3, 0, 0))\n",
    "wt_R4 = sum_df_groups.get_group(('Control', 4, 0, 0)) "
   ]
  },
  {
   "cell_type": "code",
   "execution_count": 26,
   "metadata": {},
   "outputs": [],
   "source": [
    "N_R3 = sum_df_groups.get_group(('N', 3, 0, 0)) \n",
    "N_R4 = sum_df_groups.get_group(('N', 4, 0, 0)) "
   ]
  },
  {
   "cell_type": "code",
   "execution_count": 27,
   "metadata": {},
   "outputs": [],
   "source": [
    "FZ_R3 = sum_df_groups.get_group(('Fz', 3, 0, 0)) \n",
    "FZ_R4 = sum_df_groups.get_group(('Fz', 4, 0, 0)) "
   ]
  },
  {
   "cell_type": "code",
   "execution_count": 28,
   "metadata": {},
   "outputs": [],
   "source": [
    "N_R3 = sum_df_groups.get_group(('Fz', 3, 0, 0)) \n",
    "N_R4 = sum_df_groups.get_group(('N', 4, 0, 0)) "
   ]
  },
  {
   "cell_type": "code",
   "execution_count": 29,
   "metadata": {},
   "outputs": [],
   "source": [
    "FZ_2R3 = sum_df_groups.get_group(('Fz', 3, 1, 0)) \n",
    "N_2R4 = sum_df_groups.get_group(('N', 4, 0, 1)) "
   ]
  },
  {
   "cell_type": "code",
   "execution_count": 30,
   "metadata": {
    "scrolled": false
   },
   "outputs": [
    {
     "data": {
      "text/html": [
       "<div>\n",
       "<style scoped>\n",
       "    .dataframe tbody tr th:only-of-type {\n",
       "        vertical-align: middle;\n",
       "    }\n",
       "\n",
       "    .dataframe tbody tr th {\n",
       "        vertical-align: top;\n",
       "    }\n",
       "\n",
       "    .dataframe thead th {\n",
       "        text-align: right;\n",
       "    }\n",
       "</style>\n",
       "<table border=\"1\" class=\"dataframe\">\n",
       "  <thead>\n",
       "    <tr style=\"text-align: right;\">\n",
       "      <th></th>\n",
       "      <th>Type</th>\n",
       "      <th>sampleID</th>\n",
       "      <th>regionID</th>\n",
       "      <th>bundle_no</th>\n",
       "      <th>Rtype</th>\n",
       "      <th>R3_flag</th>\n",
       "      <th>R4_flag</th>\n",
       "      <th>angle1</th>\n",
       "      <th>angle2</th>\n",
       "      <th>length</th>\n",
       "      <th>angle_avg</th>\n",
       "      <th>angle_abs</th>\n",
       "      <th>length_corrected</th>\n",
       "    </tr>\n",
       "  </thead>\n",
       "  <tbody>\n",
       "    <tr>\n",
       "      <th>191</th>\n",
       "      <td>N</td>\n",
       "      <td>1</td>\n",
       "      <td>1</td>\n",
       "      <td>23</td>\n",
       "      <td>4</td>\n",
       "      <td>0</td>\n",
       "      <td>1</td>\n",
       "      <td>-1.2</td>\n",
       "      <td>-1.2</td>\n",
       "      <td>0.90</td>\n",
       "      <td>-1.2</td>\n",
       "      <td>1.2</td>\n",
       "      <td>0.593322</td>\n",
       "    </tr>\n",
       "    <tr>\n",
       "      <th>192</th>\n",
       "      <td>N</td>\n",
       "      <td>1</td>\n",
       "      <td>1</td>\n",
       "      <td>23</td>\n",
       "      <td>4</td>\n",
       "      <td>0</td>\n",
       "      <td>1</td>\n",
       "      <td>1.8</td>\n",
       "      <td>1.8</td>\n",
       "      <td>0.82</td>\n",
       "      <td>1.8</td>\n",
       "      <td>1.8</td>\n",
       "      <td>0.614397</td>\n",
       "    </tr>\n",
       "    <tr>\n",
       "      <th>204</th>\n",
       "      <td>N</td>\n",
       "      <td>2</td>\n",
       "      <td>1</td>\n",
       "      <td>14</td>\n",
       "      <td>4</td>\n",
       "      <td>0</td>\n",
       "      <td>1</td>\n",
       "      <td>0.6</td>\n",
       "      <td>0.0</td>\n",
       "      <td>0.90</td>\n",
       "      <td>0.0</td>\n",
       "      <td>0.0</td>\n",
       "      <td>0.611647</td>\n",
       "    </tr>\n",
       "    <tr>\n",
       "      <th>206</th>\n",
       "      <td>N</td>\n",
       "      <td>2</td>\n",
       "      <td>1</td>\n",
       "      <td>14</td>\n",
       "      <td>4</td>\n",
       "      <td>0</td>\n",
       "      <td>1</td>\n",
       "      <td>-0.6</td>\n",
       "      <td>-0.6</td>\n",
       "      <td>0.82</td>\n",
       "      <td>NaN</td>\n",
       "      <td>NaN</td>\n",
       "      <td>0.604372</td>\n",
       "    </tr>\n",
       "    <tr>\n",
       "      <th>212</th>\n",
       "      <td>N</td>\n",
       "      <td>2</td>\n",
       "      <td>1</td>\n",
       "      <td>19</td>\n",
       "      <td>4</td>\n",
       "      <td>0</td>\n",
       "      <td>1</td>\n",
       "      <td>1.2</td>\n",
       "      <td>1.2</td>\n",
       "      <td>0.90</td>\n",
       "      <td>1.2</td>\n",
       "      <td>1.2</td>\n",
       "      <td>0.614766</td>\n",
       "    </tr>\n",
       "    <tr>\n",
       "      <th>213</th>\n",
       "      <td>N</td>\n",
       "      <td>2</td>\n",
       "      <td>1</td>\n",
       "      <td>19</td>\n",
       "      <td>4</td>\n",
       "      <td>0</td>\n",
       "      <td>1</td>\n",
       "      <td>-0.9</td>\n",
       "      <td>-0.9</td>\n",
       "      <td>0.82</td>\n",
       "      <td>-0.9</td>\n",
       "      <td>0.9</td>\n",
       "      <td>0.610528</td>\n",
       "    </tr>\n",
       "    <tr>\n",
       "      <th>230</th>\n",
       "      <td>N</td>\n",
       "      <td>3</td>\n",
       "      <td>1</td>\n",
       "      <td>2</td>\n",
       "      <td>4</td>\n",
       "      <td>0</td>\n",
       "      <td>1</td>\n",
       "      <td>1.5</td>\n",
       "      <td>1.5</td>\n",
       "      <td>0.52</td>\n",
       "      <td>1.5</td>\n",
       "      <td>1.5</td>\n",
       "      <td>0.222886</td>\n",
       "    </tr>\n",
       "    <tr>\n",
       "      <th>231</th>\n",
       "      <td>N</td>\n",
       "      <td>3</td>\n",
       "      <td>1</td>\n",
       "      <td>2</td>\n",
       "      <td>4</td>\n",
       "      <td>0</td>\n",
       "      <td>1</td>\n",
       "      <td>-0.9</td>\n",
       "      <td>-0.9</td>\n",
       "      <td>0.52</td>\n",
       "      <td>-0.9</td>\n",
       "      <td>0.9</td>\n",
       "      <td>0.226838</td>\n",
       "    </tr>\n",
       "    <tr>\n",
       "      <th>252</th>\n",
       "      <td>N</td>\n",
       "      <td>4</td>\n",
       "      <td>1</td>\n",
       "      <td>56</td>\n",
       "      <td>4</td>\n",
       "      <td>0</td>\n",
       "      <td>1</td>\n",
       "      <td>0.0</td>\n",
       "      <td>-0.9</td>\n",
       "      <td>0.52</td>\n",
       "      <td>-1.2</td>\n",
       "      <td>1.2</td>\n",
       "      <td>0.296105</td>\n",
       "    </tr>\n",
       "    <tr>\n",
       "      <th>253</th>\n",
       "      <td>N</td>\n",
       "      <td>4</td>\n",
       "      <td>1</td>\n",
       "      <td>56</td>\n",
       "      <td>4</td>\n",
       "      <td>0</td>\n",
       "      <td>1</td>\n",
       "      <td>0.9</td>\n",
       "      <td>1.5</td>\n",
       "      <td>0.52</td>\n",
       "      <td>1.2</td>\n",
       "      <td>1.2</td>\n",
       "      <td>0.328170</td>\n",
       "    </tr>\n",
       "  </tbody>\n",
       "</table>\n",
       "</div>"
      ],
      "text/plain": [
       "    Type  sampleID  regionID  bundle_no  Rtype  R3_flag  R4_flag  angle1  \\\n",
       "191    N         1         1         23      4        0        1    -1.2   \n",
       "192    N         1         1         23      4        0        1     1.8   \n",
       "204    N         2         1         14      4        0        1     0.6   \n",
       "206    N         2         1         14      4        0        1    -0.6   \n",
       "212    N         2         1         19      4        0        1     1.2   \n",
       "213    N         2         1         19      4        0        1    -0.9   \n",
       "230    N         3         1          2      4        0        1     1.5   \n",
       "231    N         3         1          2      4        0        1    -0.9   \n",
       "252    N         4         1         56      4        0        1     0.0   \n",
       "253    N         4         1         56      4        0        1     0.9   \n",
       "\n",
       "     angle2  length  angle_avg  angle_abs  length_corrected  \n",
       "191    -1.2    0.90       -1.2        1.2          0.593322  \n",
       "192     1.8    0.82        1.8        1.8          0.614397  \n",
       "204     0.0    0.90        0.0        0.0          0.611647  \n",
       "206    -0.6    0.82        NaN        NaN          0.604372  \n",
       "212     1.2    0.90        1.2        1.2          0.614766  \n",
       "213    -0.9    0.82       -0.9        0.9          0.610528  \n",
       "230     1.5    0.52        1.5        1.5          0.222886  \n",
       "231    -0.9    0.52       -0.9        0.9          0.226838  \n",
       "252    -0.9    0.52       -1.2        1.2          0.296105  \n",
       "253     1.5    0.52        1.2        1.2          0.328170  "
      ]
     },
     "execution_count": 30,
     "metadata": {},
     "output_type": "execute_result"
    }
   ],
   "source": [
    "N_2R4"
   ]
  },
  {
   "cell_type": "code",
   "execution_count": 33,
   "metadata": {
    "scrolled": true
   },
   "outputs": [
    {
     "name": "stderr",
     "output_type": "stream",
     "text": [
      "C:\\Users\\sf942274\\AppData\\Local\\Continuum\\anaconda3\\lib\\site-packages\\pandas\\core\\indexing.py:543: SettingWithCopyWarning: \n",
      "A value is trying to be set on a copy of a slice from a DataFrame.\n",
      "Try using .loc[row_indexer,col_indexer] = value instead\n",
      "\n",
      "See the caveats in the documentation: http://pandas.pydata.org/pandas-docs/stable/indexing.html#indexing-view-versus-copy\n",
      "  self.obj[item] = s\n"
     ]
    }
   ],
   "source": [
    "N_2R4.loc[206, 'angle_avg'] = -0.6\n",
    "N_2R4.loc[206, 'angle_abs'] = abs(N_2R4.loc[206, 'angle_avg'])"
   ]
  },
  {
   "cell_type": "code",
   "execution_count": 80,
   "metadata": {},
   "outputs": [],
   "source": [
    "y = [wt_R3.mean()['length_corrected'], wt_R4.mean()['length_corrected'], FZ_2R3.mean()['length_corrected'], N_2R4.mean()['length_corrected']]\n",
    "y_error = [wt_R3.std()['length_corrected'], wt_R4.std()['length_corrected'], FZ_2R3.std()['length_corrected'], N_2R4.std()['length_corrected']]"
   ]
  },
  {
   "cell_type": "code",
   "execution_count": 82,
   "metadata": {
    "scrolled": false
   },
   "outputs": [
    {
     "data": {
      "image/png": "[encoded data removed]",
      "text/plain": [
       "<Figure size 576x432 with 1 Axes>"
      ]
     },
     "metadata": {},
     "output_type": "display_data"
    }
   ],
   "source": [
    "name = ('wt_R3', 'wt_R4', '2R3', '2R4')\n",
    "x_pos = np.arange(len(name))\n",
    " \n",
    "fig, ax = plt.subplots(figsize = (4*2, 3*2))\n",
    "# fig, ax = plt.subplots(figsize = (18,12))\n",
    "ax.bar(x_pos, y, yerr=y_error, align='center', alpha=0.5, ecolor='black', capsize=10)\n",
    "# ax.set_ylabel('Coefficient of Thermal Expansion ($\\degree C^{-1}$)')\n",
    "ax.set_xticks(x_pos)\n",
    "ax.set_xticklabels(name, fontsize = 18)\n",
    "ax.set_title('Relative length', fontsize = 24)\n",
    "ax.yaxis.grid(True)\n",
    "ax.set_ylim((0, 1.6))\n",
    "plt.grid(b=None)"
   ]
  },
  {
   "cell_type": "code",
   "execution_count": 36,
   "metadata": {},
   "outputs": [],
   "source": [
    "a = wt_R4.loc[:,'angle_abs']"
   ]
  },
  {
   "cell_type": "code",
   "execution_count": 37,
   "metadata": {},
   "outputs": [],
   "source": [
    "a = N_R4.loc[:,'angle_abs']\n",
    "b = wt_R4.loc[:,'angle_abs']"
   ]
  },
  {
   "cell_type": "code",
   "execution_count": 38,
   "metadata": {},
   "outputs": [
    {
     "data": {
      "text/plain": [
       "Ttest_indResult(statistic=2.6430964310202083, pvalue=0.00956561479398666)"
      ]
     },
     "execution_count": 38,
     "metadata": {},
     "output_type": "execute_result"
    }
   ],
   "source": [
    "stats.ttest_ind(a,b)"
   ]
  },
  {
   "cell_type": "code",
   "execution_count": 87,
   "metadata": {},
   "outputs": [],
   "source": [
    "y = [N_R3.mean()['angle_abs'], N_R4.mean()['angle_abs'], N_2R4.mean()['angle_abs']]\n",
    "y_error = [N_R3.std()['angle_abs'], N_R4.std()['angle_abs'], N_2R4.std()['angle_abs']]\n",
    "name = ('wt_R3', 'wt_R4', '2R4')\n"
   ]
  },
  {
   "cell_type": "code",
   "execution_count": 88,
   "metadata": {},
   "outputs": [],
   "source": [
    "# y = [FZ_R3.mean()['angle_abs'], FZ_R4.mean()['angle_abs'], FZ_2R3.mean()['angle_abs']]\n",
    "# y_error = [FZ_R3.std()['angle_abs'], FZ_R4.std()['angle_abs'], FZ_2R3.std()['angle_abs']]\n",
    "# name = ('wt_R3', 'wt_R4', '2R3')\n"
   ]
  },
  {
   "cell_type": "code",
   "execution_count": 89,
   "metadata": {},
   "outputs": [
    {
     "data": {
      "image/png": "[encoded data removed]",
      "text/plain": [
       "<Figure size 576x432 with 1 Axes>"
      ]
     },
     "metadata": {},
     "output_type": "display_data"
    }
   ],
   "source": [
    "\n",
    "x_pos = np.arange(len(name))\n",
    " \n",
    "fig, ax = plt.subplots(figsize = (4*2, 3*2))\n",
    "ax.bar(x_pos, y, yerr=y_error, align='center', alpha=0.5, ecolor='black', capsize=10)\n",
    "# ax.set_ylabel('Coefficient of Thermal Expansion ($\\degree C^{-1}$)')\n",
    "ax.set_xticks(x_pos)\n",
    "ax.set_xticklabels(name, fontsize = 18)\n",
    "ax.set_title('Relative angle', fontsize = 28)\n",
    "ax.yaxis.grid(True)\n",
    "ax.set_ylim((0, 1.9))\n",
    "plt.grid(b=None)"
   ]
  },
  {
   "cell_type": "code",
   "execution_count": null,
   "metadata": {},
   "outputs": [],
   "source": [
    "y\n",
    "y_error"
   ]
  },
  {
   "cell_type": "code",
   "execution_count": null,
   "metadata": {},
   "outputs": [],
   "source": [
    "name = ('Fz_R3', 'FZ_R4', 'FZ_2R3')\n"
   ]
  },
  {
   "cell_type": "code",
   "execution_count": null,
   "metadata": {},
   "outputs": [],
   "source": [
    "category, sampleID, regionID"
   ]
  },
  {
   "cell_type": "code",
   "execution_count": null,
   "metadata": {
    "scrolled": false
   },
   "outputs": [],
   "source": [
    "ind"
   ]
  },
  {
   "cell_type": "code",
   "execution_count": null,
   "metadata": {},
   "outputs": [],
   "source": [
    "summaries_df_current"
   ]
  },
  {
   "cell_type": "code",
   "execution_count": null,
   "metadata": {},
   "outputs": [],
   "source": [
    "sum_df.loc[191, :]"
   ]
  },
  {
   "cell_type": "code",
   "execution_count": null,
   "metadata": {},
   "outputs": [],
   "source": []
  },
  {
   "cell_type": "code",
   "execution_count": null,
   "metadata": {},
   "outputs": [],
   "source": [
    "summaries_df_current.iloc[ind]"
   ]
  },
  {
   "cell_type": "code",
   "execution_count": null,
   "metadata": {},
   "outputs": [],
   "source": [
    "summaries_df_current.iloc[0]"
   ]
  },
  {
   "cell_type": "code",
   "execution_count": null,
   "metadata": {},
   "outputs": [],
   "source": [
    "summaries_df_current"
   ]
  },
  {
   "cell_type": "code",
   "execution_count": null,
   "metadata": {
    "scrolled": true
   },
   "outputs": [],
   "source": [
    "sum_df_group.get_group((('Nic', 1, 1)))"
   ]
  },
  {
   "cell_type": "code",
   "execution_count": null,
   "metadata": {},
   "outputs": [],
   "source": [
    "sum_df_group.groups"
   ]
  },
  {
   "cell_type": "code",
   "execution_count": null,
   "metadata": {},
   "outputs": [],
   "source": [
    "summaries_df_group"
   ]
  },
  {
   "cell_type": "code",
   "execution_count": null,
   "metadata": {},
   "outputs": [],
   "source": []
  },
  {
   "cell_type": "code",
   "execution_count": null,
   "metadata": {},
   "outputs": [],
   "source": [
    "\n",
    "sum_df_current.index[(sum_df_current['bundle_no'] == 1) & (sum_df_current['Rtype'] == 4)]"
   ]
  },
  {
   "cell_type": "code",
   "execution_count": null,
   "metadata": {
    "scrolled": true
   },
   "outputs": [],
   "source": [
    "len(outputData[0]['Parameter'])"
   ]
  },
  {
   "cell_type": "code",
   "execution_count": null,
   "metadata": {},
   "outputs": [],
   "source": [
    "### file parameters\n",
    "# file folders\n",
    "imageFolder = 'Images'\n",
    "ROIFolder = 'ROIs'\n",
    "summaryFolder = 'Summaries'\n",
    "\n",
    "# file name\n",
    "summaryNames = {}\n",
    "summaryNames['Control'] = ('Control_s1r1_summary.csv','Control_s3r1_summary.csv')\n",
    "summaryNames['Fz'] = ('Fz_s1r1_summary.csv', 'Fz_s4r1_summary.csv')\n",
    "summaryNames['Nic'] = ('Ni_s2r1_summary.csv', 'Ni_s1r1_summary.csv', 'Ni_s3r1_summary.csv', 'Ni_s4r1_summary.csv')"
   ]
  },
  {
   "cell_type": "code",
   "execution_count": null,
   "metadata": {},
   "outputs": [],
   "source": [
    "sumNames = ['Control_s1r1_summary.csv', 'Control_s3r1_summary.csv', 'Fz_s1r1_summary.csv', 'Fz_s4r1_summary.csv','Ni_s2r1_summary.csv', 'Ni_s3r1_summary.csv', 'Ni_s4r1_summary.csv', 'Ni_s2r1_summary.csv']\n",
    "Categories = ['Control', 'Control', 'Fz', 'Fz', 'Nic', 'Nic', 'Nic', 'Nic']\n",
    "dataNames = ['Control_sample1_region1_v2019422.pickle', 'Control_sample3_region1_v2019423.pickle', 'Fz_sample1_region1_v2019422.pickle', 'Fz_sample4_region1_v2019422.pickle', 'Nic_sample1_region1_v2019422.pickle', 'Nic_sample2_region1_v2019422.pickle', 'Nic_sample3_region1_v2019422.pickle', 'Nic_sample4_region1_v2019422.pickle']"
   ]
  },
  {
   "cell_type": "code",
   "execution_count": null,
   "metadata": {
    "scrolled": true
   },
   "outputs": [],
   "source": [
    "\"\"\"Load data\"\"\"\n",
    "Images = {}\n",
    "ROI_dfs = {}\n",
    "annot_dfs = {}\n",
    "image_shapes = {}\n",
    "M2P_ratios = {}\n",
    "bundles_dfs = {}\n",
    "annot_bundles_dfs = {}\n",
    "annot_bundles_dfs_good = {}\n",
    "for i in range(len(sumNames)):\n",
    "    print(i)\n",
    "    sumName = sumNames[i]\n",
    "    summary_df = pd.read_csv(os.path.join(dataPrefix, summaryFolder, sumName))\n",
    "    image_list = summary_df.loc[:,'Image_Name'].unique()\n",
    "    ROI_list = summary_df.loc[:,'ROI_Name'].unique()\n",
    "    imageName = image_list[0]\n",
    "    ROIName = ROI_list[0]\n",
    "#     %time Images[i] = img_as_float(skiIo.imread(os.path.join(imgDataPrefix, imageName)))\n",
    "    ROI_dfs[i] = pd.read_csv(os.path.join(dataPrefix, ROIFolder, ROIName))\n",
    "    ROI_dfs[i].rename(columns = {' ':'No'}, inplace = True)\n",
    "    annot_dfs[i] = summary_df.groupby(['Image_Name']).get_group(image_list[0]).reset_index(drop = True)\n",
    "#     image_shapes[i] = (Images[i].shape[0], Images[i].shape[1], Images[i].shape[2])\n",
    "    M2P_ratios[i] = (summary_df.iloc[0]['imgX_pixel']/summary_df.iloc[0]['imgX_um'], summary_df.iloc[0]['imgY_pixel']/summary_df.iloc[0]['imgY_um'])\n",
    "    bundles_dfs[i] = my.getBundlesInfo(ROI_dfs[i], annot_dfs[i], M2P_ratios[i][0], M2P_ratios[i][1])\n",
    "    annot_bundles_dfs[i] = bundles_dfs[i].dropna(axis=0, how='any', inplace = False)\n",
    "    annot_bundles_dfs_good[i] = my.Good_QC_df(annot_bundles_dfs[i])"
   ]
  },
  {
   "cell_type": "code",
   "execution_count": null,
   "metadata": {},
   "outputs": [],
   "source": [
    "len(annot_bundles_dfs_good[3])"
   ]
  },
  {
   "cell_type": "code",
   "execution_count": null,
   "metadata": {
    "scrolled": true
   },
   "outputs": [],
   "source": [
    "\"\"\" Load IntensityMatrix Data \"\"\"\n",
    "outputDatas = {}\n",
    "for i in range(len(dataNames)):\n",
    "    print(i)\n",
    "    inputname = os.path.join(dataOutPrefix, Categories[i], dataNames[i])\n",
    "    pickle_in = open(inputname,\"rb\")\n",
    "    outputDatas[i] = pickle.load(pickle_in)"
   ]
  },
  {
   "cell_type": "code",
   "execution_count": null,
   "metadata": {},
   "outputs": [],
   "source": []
  },
  {
   "cell_type": "code",
   "execution_count": null,
   "metadata": {},
   "outputs": [],
   "source": [
    "list(set(Categories))"
   ]
  },
  {
   "cell_type": "code",
   "execution_count": null,
   "metadata": {},
   "outputs": [],
   "source": [
    "\"\"\" Parameters \"\"\"\n",
    "relAxisParams = outputDatas[0]['Parameter'][0][1][0]\n",
    "xTicks_ori = np.round(np.linspace(0, radiusExpanseRatio, num_Xsection+1), 2)\n",
    "yTicks_ori = relAxisParams[5]*-1"
   ]
  },
  {
   "cell_type": "code",
   "execution_count": null,
   "metadata": {},
   "outputs": [],
   "source": [
    "tickTypeX = 1\n",
    "tickTypeY = 2\n",
    "tickArg2_X = 5\n",
    "tickArg2_Y = [-2, -1,0, 1, 2]\n",
    "tickParams = xTicks_ori, yTicks_ori, tickTypeX, tickTypeY, tickArg2_X, tickArg2_Y "
   ]
  },
  {
   "cell_type": "code",
   "execution_count": null,
   "metadata": {},
   "outputs": [],
   "source": [
    "def getIndexList(bundles_df):\n",
    "    doubleR3List = []\n",
    "    doubleR4List = []\n",
    "    wtList = []\n",
    "    \n",
    "    for ind in range(bundles_df.shape[0]):    \n",
    "        if((bundles_df.iloc[ind]['FL_R4'] == 0) & (bundles_df.iloc[ind]['FL_R3'] == 2)):\n",
    "#             print('two R3: ', str(ind))\n",
    "            doubleR3List.append(ind)\n",
    "        elif((bundles_df.iloc[ind]['FL_R4'] == 1) & (bundles_df.iloc[ind]['FL_R3'] == 1)):\n",
    "#             print('WT: ', str(ind))\n",
    "            wtList.append(ind)\n",
    "        elif((bundles_df.iloc[ind]['FL_R4'] == 2) & (bundles_df.iloc[ind]['FL_R3'] == 0)):\n",
    "#             print('two R4: ', str(ind))\n",
    "            doubleR4List.append(ind)\n",
    "#     print(doubleR3List)\n",
    "    return (doubleR3List, doubleR4List, wtList)"
   ]
  },
  {
   "cell_type": "code",
   "execution_count": null,
   "metadata": {},
   "outputs": [],
   "source": [
    "\"\"\" Get R3 and R4(gfp) intensity matrix and boundary conditions \"\"\"\n",
    "## initialization\n",
    "sum_gfpMatrix = {}\n",
    "sum_r3Matrix = {}\n",
    "boundaries = {}\n",
    "for cat in list(set(Categories)):\n",
    "    sum_gfpMatrix[cat] = {}\n",
    "    sum_r3Matrix[cat] = {}\n",
    "    \n",
    "for i in range(len(dataNames)):\n",
    "    cat = Categories[i]\n",
    "    gfp = outputDatas[i]['IntensityMatrix'][0,1,2,:,:,:,:]\n",
    "    r3 = outputDatas[i]['IntensityMatrix'][0,2,2,:,:,:,:]\n",
    "    sum_gfp = np.sum(gfp, axis = 3)\n",
    "    sum_r3 = np.sum(r3, axis = 3)\n",
    "    sum_gfpMatrix[cat][i] = sum_gfp\n",
    "    sum_r3Matrix[cat][i] = sum_r3"
   ]
  },
  {
   "cell_type": "code",
   "execution_count": null,
   "metadata": {},
   "outputs": [],
   "source": [
    "def plotSummaryMatrix(matrix, cmap, vmax, tickParams, labelParams):\n",
    "    sns.set(font_scale=2)\n",
    "    xTick_ori, yTick_ori, tickTypeX, tickTypeY, tickArg2_X, tickArg2_Y = tickParams\n",
    "    ylabel, xlabel = labelParams\n",
    "    xTicks = my.getTickList(tickTypeX, xTick_ori, tickArg2_X)\n",
    "    yTicks = my.getTickList(tickTypeY, yTick_ori, tickArg2_Y)\n",
    "    \n",
    "    ax = plt.subplot(111)\n",
    "    sns.heatmap(matrix, cmap = cmap, yticklabels = yTicks, xticklabels = xTicks, vmin = 0, vmax = vmax)\n",
    "    ax.set_ylabel(ylabel)\n",
    "    ax.set_xlabel(xlabel)\n",
    "#     ax2.set_title(title, fontsize=16)\n",
    "#     ax2.invert_yaxis()"
   ]
  },
  {
   "cell_type": "code",
   "execution_count": null,
   "metadata": {},
   "outputs": [],
   "source": []
  },
  {
   "cell_type": "code",
   "execution_count": null,
   "metadata": {},
   "outputs": [],
   "source": [
    "\"\"\"Control_summary\"\"\""
   ]
  },
  {
   "cell_type": "code",
   "execution_count": null,
   "metadata": {},
   "outputs": [],
   "source": [
    "\n",
    "sum_gfpMatrix['Control']['Sum'] = np.concatenate((sum_gfpMatrix['Control'][0], sum_gfpMatrix['Control'][1]), axis=0)\n",
    "sum_r3Matrix['Control']['Sum'] = np.concatenate((sum_r3Matrix['Control'][0], sum_r3Matrix['Control'][1]), axis=0)"
   ]
  },
  {
   "cell_type": "code",
   "execution_count": null,
   "metadata": {
    "scrolled": true
   },
   "outputs": [],
   "source": [
    "sum_gfpMatrix['Control']['Sum'].shape"
   ]
  },
  {
   "cell_type": "code",
   "execution_count": null,
   "metadata": {},
   "outputs": [],
   "source": [
    "sum_r3Matrix['Control']['Sum'].shape"
   ]
  },
  {
   "cell_type": "code",
   "execution_count": null,
   "metadata": {},
   "outputs": [],
   "source": [
    "vmax_gfp = np.ceil(np.percentile(sum_gfpMatrix['Control']['Sum'].flatten(), 95))\n",
    "vmax_r3 = np.ceil(np.percentile(sum_r3Matrix['Control']['Sum'].flatten(), 95))\n",
    "\n",
    "ylabel = 'Rel. Angle'\n",
    "xlabel = 'Rel. Length'\n",
    "labelParams = ylabel, xlabel\n",
    "\n",
    "plotSummaryMatrix(np.mean(sum_r3Matrix['Control']['Sum'], axis = 0), 'Reds', vmax_r3, tickParams, labelParams)"
   ]
  },
  {
   "cell_type": "code",
   "execution_count": null,
   "metadata": {},
   "outputs": [],
   "source": [
    "plotSummaryMatrix(np.mean(sum_gfpMatrix['Control']['Sum'], axis = 0), 'Greens', vmax_gfp, tickParams, labelParams)"
   ]
  },
  {
   "cell_type": "code",
   "execution_count": null,
   "metadata": {},
   "outputs": [],
   "source": [
    "\"\"\" Plot sample images \"\"\"\n",
    "i = 27\n",
    "gfp_smp = outputDatas[1]['IntensityMatrix'][0,1,2,i,:,:,:]\n",
    "r3_smp = outputDatas[1]['IntensityMatrix'][0,2,2,i,:,:,:]\n",
    "\n",
    "vmax_gfp = np.ceil(np.percentile(sum_gfpMatrix['Control'][1].flatten(), 99))\n",
    "vmax_r3 = np.ceil(np.percentile(sum_r3Matrix['Control'][1].flatten(), 99))\n",
    "\n",
    "ylabel = 'Rel. Angle'\n",
    "xlabel = 'Rel. Length'\n",
    "labelParams = ylabel, xlabel\n",
    "\n",
    "plotSummaryMatrix(np.sum(gfp_smp, axis = 2), 'Greens', vmax_gfp, tickParams, labelParams)\n"
   ]
  },
  {
   "cell_type": "code",
   "execution_count": null,
   "metadata": {
    "scrolled": false
   },
   "outputs": [],
   "source": [
    "plotSummaryMatrix(np.sum(r3_smp, axis = 2), 'Reds', vmax_r3, tickParams, labelParams)\n"
   ]
  },
  {
   "cell_type": "code",
   "execution_count": null,
   "metadata": {},
   "outputs": [],
   "source": [
    "\"\"\"Notch perturbed\"\"\""
   ]
  },
  {
   "cell_type": "code",
   "execution_count": null,
   "metadata": {},
   "outputs": [],
   "source": [
    "ls_3 = getIndexList(annot_bundles_dfs_good[4])"
   ]
  },
  {
   "cell_type": "code",
   "execution_count": null,
   "metadata": {
    "scrolled": true
   },
   "outputs": [],
   "source": [
    "sum_gfpMatrix['Nic']['dR3'] = {}\n",
    "sum_gfpMatrix['Nic']['dR4'] = {}\n",
    "sum_gfpMatrix['Nic']['wt'] = {}\n",
    "sum_r3Matrix['Nic']['dR3'] = {}\n",
    "sum_r3Matrix['Nic']['dR4'] = {}\n",
    "sum_r3Matrix['Nic']['wt'] = {}\n",
    "for ind in [4, 5, 6]:\n",
    "    indList = getIndexList(annot_bundles_dfs_good[ind])\n",
    "    print(indList)\n",
    "    sum_gfpMatrix['Nic']['dR3'][ind] = sum_gfpMatrix['Nic'][ind][indList[0], :, :]\n",
    "    sum_gfpMatrix['Nic']['dR4'][ind] = sum_gfpMatrix['Nic'][ind][indList[1], :, :]\n",
    "    sum_gfpMatrix['Nic']['wt'][ind] = sum_gfpMatrix['Nic'][ind][indList[2], :, :]\n",
    "    sum_r3Matrix['Nic']['dR3'][ind] = sum_r3Matrix['Nic'][ind][indList[0], :, :]\n",
    "    sum_r3Matrix['Nic']['dR4'][ind] = sum_r3Matrix['Nic'][ind][indList[1], :, :]\n",
    "    sum_r3Matrix['Nic']['wt'][ind] = sum_r3Matrix['Nic'][ind][indList[2], :, :]\n"
   ]
  },
  {
   "cell_type": "code",
   "execution_count": null,
   "metadata": {},
   "outputs": [],
   "source": [
    "# sum_gfpMatrix['Nic']['dR3']['Sum'] = sum_gfpMatrix['Nic']['dR3'][4]\n",
    "# sum_gfpMatrix['Nic']['dR4']['Sum'] = sum_gfpMatrix['Nic']['dR4'][4]\n",
    "# sum_gfpMatrix['Nic']['wt']['Sum'] = sum_gfpMatrix['Nic']['wt'][4]\n",
    "# sum_r3Matrix['Nic']['dR3']['Sum'] = sum_r3Matrix['Nic']['dR3'][4]\n",
    "# sum_r3Matrix['Nic']['dR4']['Sum'] = sum_r3Matrix['Nic']['dR4'][4]\n",
    "# sum_r3Matrix['Nic']['wt']['Sum'] = sum_r3Matrix['Nic']['wt'][4]\n",
    "\n",
    "\n",
    "sum_gfpMatrix['Nic']['dR3']['Sum'] = np.concatenate((sum_gfpMatrix['Nic']['dR3'][4], sum_gfpMatrix['Nic']['dR3'][5], sum_gfpMatrix['Nic']['dR3'][6]), axis=0)\n",
    "sum_gfpMatrix['Nic']['dR4']['Sum'] = np.concatenate((sum_gfpMatrix['Nic']['dR4'][4], sum_gfpMatrix['Nic']['dR4'][5], sum_gfpMatrix['Nic']['dR4'][6]), axis=0)\n",
    "sum_gfpMatrix['Nic']['wt']['Sum'] = np.concatenate((sum_gfpMatrix['Nic']['wt'][4], sum_gfpMatrix['Nic']['wt'][5], sum_gfpMatrix['Nic']['wt'][6]), axis=0)\n",
    "sum_r3Matrix['Nic']['dR3']['Sum'] = np.concatenate((sum_r3Matrix['Nic']['dR3'][4], sum_r3Matrix['Nic']['dR3'][5], sum_r3Matrix['Nic']['dR3'][6]), axis=0)\n",
    "sum_r3Matrix['Nic']['dR4']['Sum'] = np.concatenate((sum_r3Matrix['Nic']['dR4'][4], sum_r3Matrix['Nic']['dR4'][5], sum_r3Matrix['Nic']['dR4'][6]), axis=0)\n",
    "sum_r3Matrix['Nic']['wt']['Sum'] = np.concatenate((sum_r3Matrix['Nic']['wt'][4], sum_r3Matrix['Nic']['wt'][5], sum_r3Matrix['Nic']['wt'][6]), axis=0)\n",
    "sum_r3Matrix['Nic']['Sum'] = np.concatenate((sum_r3Matrix['Nic']['dR4']['Sum'], sum_r3Matrix['Nic']['wt']['Sum']), axis=0)\n",
    "sum_gfpMatrix['Nic']['Sum'] = np.concatenate((sum_gfpMatrix['Nic']['dR4']['Sum'], sum_gfpMatrix['Nic']['wt']['Sum']), axis=0)"
   ]
  },
  {
   "cell_type": "code",
   "execution_count": null,
   "metadata": {},
   "outputs": [],
   "source": [
    "sum_r3Matrix['Nic']['Sum'].shape"
   ]
  },
  {
   "cell_type": "code",
   "execution_count": null,
   "metadata": {},
   "outputs": [],
   "source": [
    "vmax_gfp = np.ceil(np.percentile(sum_gfpMatrix['Nic']['Sum'].flatten(), 92))\n",
    "vmax_r3 = np.ceil(np.percentile(sum_r3Matrix['Nic']['Sum'].flatten(), 99))"
   ]
  },
  {
   "cell_type": "code",
   "execution_count": null,
   "metadata": {
    "scrolled": true
   },
   "outputs": [],
   "source": [
    "# plotSummaryMatrix(sum_r3Matrix['Nic']['dR4']['Sum'][9,:,:], 'Reds', vmax_r3, tickParams, labelParams)"
   ]
  },
  {
   "cell_type": "code",
   "execution_count": null,
   "metadata": {
    "scrolled": true
   },
   "outputs": [],
   "source": [
    "# plotSummaryMatrix(sum_gfpMatrix['Nic']['dR4']['Sum'][12,:,:], 'Greens', vmax_gfp, tickParams, labelParams)"
   ]
  },
  {
   "cell_type": "code",
   "execution_count": null,
   "metadata": {},
   "outputs": [],
   "source": [
    "[0,2,3,4,(5),6,7,(8),9,10,(11),(12)], [0,3,4, 5, 7,9,10,11,12]"
   ]
  },
  {
   "cell_type": "code",
   "execution_count": null,
   "metadata": {},
   "outputs": [],
   "source": [
    "sum_gfpMatrix['Nic']['dR4']['Sum'] = sum_gfpMatrix['Nic']['dR4']['Sum'][:, :, :]"
   ]
  },
  {
   "cell_type": "code",
   "execution_count": null,
   "metadata": {
    "scrolled": true
   },
   "outputs": [],
   "source": [
    "sum_gfpMatrix['Nic']['dR4']['Sum'].shape"
   ]
  },
  {
   "cell_type": "code",
   "execution_count": null,
   "metadata": {
    "scrolled": true
   },
   "outputs": [],
   "source": [
    "plotSummaryMatrix(np.mean(sum_gfpMatrix['Nic']['dR4']['Sum'], axis = 0), 'Greens', vmax_gfp, tickParams, labelParams)"
   ]
  },
  {
   "cell_type": "code",
   "execution_count": null,
   "metadata": {
    "scrolled": true
   },
   "outputs": [],
   "source": [
    "# vmax_gfp = np.ceil(np.percentile(sum_gfpMatrix['Nic']['dR4']['Sum'].flatten(), 90))\n",
    "# vmax_r3 = np.ceil(np.percentile(sum_r3Matrix['Nic']['dR4']['Sum'].flatten(), 95))\n",
    "\n",
    "ylabel = 'Rel. Angle'\n",
    "xlabel = 'Rel. Length'\n",
    "labelParams = ylabel, xlabel\n",
    "\n",
    "plotSummaryMatrix(np.mean(sum_r3Matrix['Nic']['dR4']['Sum'], axis = 0), 'Reds', vmax_r3, tickParams, labelParams)"
   ]
  },
  {
   "cell_type": "code",
   "execution_count": null,
   "metadata": {},
   "outputs": [],
   "source": [
    "vmax_r3"
   ]
  },
  {
   "cell_type": "code",
   "execution_count": null,
   "metadata": {},
   "outputs": [],
   "source": [
    "sum_gfpMatrix['Nic']['dR4']['Sum'].shape"
   ]
  },
  {
   "cell_type": "code",
   "execution_count": null,
   "metadata": {
    "scrolled": false
   },
   "outputs": [],
   "source": [
    "plotSummaryMatrix(np.mean(sum_r3Matrix['Nic']['wt']['Sum'], axis = 0), 'Reds', vmax_r3, tickParams, labelParams)"
   ]
  },
  {
   "cell_type": "code",
   "execution_count": null,
   "metadata": {},
   "outputs": [],
   "source": [
    "plotSummaryMatrix(np.mean(sum_gfpMatrix['Nic']['wt']['Sum'], axis = 0), 'Greens', vmax_gfp, tickParams, labelParams)"
   ]
  },
  {
   "cell_type": "code",
   "execution_count": null,
   "metadata": {
    "scrolled": true
   },
   "outputs": [],
   "source": [
    "\"\"\"Fz perturbed\"\"\""
   ]
  },
  {
   "cell_type": "code",
   "execution_count": null,
   "metadata": {},
   "outputs": [],
   "source": [
    "def getIndexList(bundles_df):\n",
    "    doubleR3List = []\n",
    "    doubleR4List = []\n",
    "    wtList = []\n",
    "    \n",
    "    for ind in range(bundles_df.shape[0]):    \n",
    "        if((bundles_df.iloc[ind]['FL_R4'] == 0) & (bundles_df.iloc[ind]['FL_R3'] == 2)):\n",
    "#             print('two R3: ', str(ind))\n",
    "            doubleR3List.append(ind)\n",
    "        elif((bundles_df.iloc[ind]['FL_R4'] == 1) & (bundles_df.iloc[ind]['FL_R3'] == 1)):\n",
    "#             print('WT: ', str(ind))\n",
    "            wtList.append(ind)\n",
    "        elif((bundles_df.iloc[ind]['FL_R4'] == 2) & (bundles_df.iloc[ind]['FL_R3'] == 0)):\n",
    "#             print('two R4: ', str(ind))\n",
    "            doubleR4List.append(ind)\n",
    "#     print(doubleR3List)\n",
    "    return (doubleR3List, doubleR4List, wtList)"
   ]
  },
  {
   "cell_type": "code",
   "execution_count": null,
   "metadata": {},
   "outputs": [],
   "source": [
    "sum_gfpMatrix['Fz']['dR3'] = {}\n",
    "sum_gfpMatrix['Fz']['dR4'] = {}\n",
    "sum_gfpMatrix['Fz']['wt'] = {}\n",
    "sum_r3Matrix['Fz']['dR3'] = {}\n",
    "sum_r3Matrix['Fz']['dR4'] = {}\n",
    "sum_r3Matrix['Fz']['wt'] = {}\n",
    "for ind in [2,3]:\n",
    "    indList = getIndexList(annot_bundles_dfs_good[ind])\n",
    "    print(indList)\n",
    "    sum_gfpMatrix['Fz']['dR3'][ind] = sum_gfpMatrix['Fz'][ind][indList[0], :, :]\n",
    "    sum_gfpMatrix['Fz']['dR4'][ind] = sum_gfpMatrix['Fz'][ind][indList[1], :, :]\n",
    "    sum_gfpMatrix['Fz']['wt'][ind] = sum_gfpMatrix['Fz'][ind][indList[2], :, :]\n",
    "    sum_r3Matrix['Fz']['dR3'][ind] = sum_r3Matrix['Fz'][ind][indList[0], :, :]\n",
    "    sum_r3Matrix['Fz']['dR4'][ind] = sum_r3Matrix['Fz'][ind][indList[1], :, :]\n",
    "    sum_r3Matrix['Fz']['wt'][ind] = sum_r3Matrix['Fz'][ind][indList[2], :, :]\n",
    "sum_gfpMatrix['Fz']['dR3']['Sum'] = np.concatenate((sum_gfpMatrix['Fz']['dR3'][2], sum_gfpMatrix['Fz']['dR3'][3]), axis=0)\n",
    "sum_gfpMatrix['Fz']['dR4']['Sum'] = np.concatenate((sum_gfpMatrix['Fz']['dR4'][2], sum_gfpMatrix['Fz']['dR4'][3]), axis=0)\n",
    "sum_gfpMatrix['Fz']['wt']['Sum'] = np.concatenate((sum_gfpMatrix['Fz']['wt'][2], sum_gfpMatrix['Fz']['wt'][3]), axis=0)\n",
    "sum_r3Matrix['Fz']['dR3']['Sum'] = np.concatenate((sum_r3Matrix['Fz']['dR3'][2], sum_r3Matrix['Fz']['dR3'][3]), axis=0)\n",
    "sum_r3Matrix['Fz']['dR4']['Sum'] = np.concatenate((sum_r3Matrix['Fz']['dR4'][2], sum_r3Matrix['Fz']['dR4'][3]), axis=0)\n",
    "sum_r3Matrix['Fz']['wt']['Sum'] = np.concatenate((sum_r3Matrix['Fz']['wt'][2], sum_r3Matrix['Fz']['wt'][3]), axis=0)"
   ]
  },
  {
   "cell_type": "code",
   "execution_count": null,
   "metadata": {},
   "outputs": [],
   "source": []
  },
  {
   "cell_type": "code",
   "execution_count": null,
   "metadata": {},
   "outputs": [],
   "source": [
    "\"\"\" Plot sample images \"\"\"\n",
    "ind = 17\n",
    "print(annot_bundles_dfs_good[3].index[ind])\n",
    "gfp_smp = outputDatas[3]['IntensityMatrix'][0,1,2,ind,:,:,:]\n",
    "r3_smp = outputDatas[3]['IntensityMatrix'][0,2,2,ind,:,:,:]\n",
    "\n",
    "vmax_gfp = np.ceil(np.percentile(sum_gfpMatrix['Fz'][2].flatten(), 90))\n",
    "vmax_r3 = np.ceil(np.percentile(sum_r3Matrix['Fz'][2].flatten(), 90))\n",
    "\n",
    "ylabel = 'Rel. Angle'\n",
    "xlabel = 'Rel. Length'\n",
    "labelParams = ylabel, xlabel\n",
    "\n",
    "plotSummaryMatrix(np.sum(gfp_smp, axis = 2), 'Greens', 10, tickParams, labelParams)\n"
   ]
  },
  {
   "cell_type": "code",
   "execution_count": null,
   "metadata": {},
   "outputs": [],
   "source": [
    "plotSummaryMatrix(np.sum(r3_smp, axis = 2), 'Reds', 8, tickParams, labelParams)"
   ]
  },
  {
   "cell_type": "code",
   "execution_count": null,
   "metadata": {},
   "outputs": [],
   "source": [
    "sum_r3Matrix['Fz']['dR3']['Sum'].shape"
   ]
  },
  {
   "cell_type": "code",
   "execution_count": null,
   "metadata": {},
   "outputs": [],
   "source": [
    "vmax_gfp = np.ceil(np.percentile(sum_gfpMatrix['Fz']['wt']['Sum'].flatten(), 95\n",
    "                                ))\n",
    "vmax_r3 = np.ceil(np.percentile(sum_r3Matrix['Fz']['wt']['Sum'].flatten(), 99))\n",
    "\n",
    "ylabel = 'Rel. Angle'\n",
    "xlabel = 'Rel. Length'\n",
    "labelParams = ylabel, xlabel\n",
    "\n",
    "plotSummaryMatrix(np.mean(sum_r3Matrix['Fz']['dR3']['Sum'], axis = 0), 'Reds', vmax_r3, tickParams, labelParams)"
   ]
  },
  {
   "cell_type": "code",
   "execution_count": null,
   "metadata": {
    "scrolled": true
   },
   "outputs": [],
   "source": [
    "plotSummaryMatrix(np.mean(sum_gfpMatrix['Fz']['dR3']['Sum'], axis = 0), 'Greens', vmax_gfp, tickParams, labelParams)"
   ]
  },
  {
   "cell_type": "code",
   "execution_count": null,
   "metadata": {},
   "outputs": [],
   "source": [
    "plotSummaryMatrix(np.mean(sum_r3Matrix['Fz']['wt']['Sum'], axis = 0), 'Reds', vmax_r3, tickParams, labelParams)"
   ]
  },
  {
   "cell_type": "code",
   "execution_count": null,
   "metadata": {},
   "outputs": [],
   "source": [
    "plotSummaryMatrix(np.mean(sum_gfpMatrix['Fz']['wt']['Sum'], axis = 0), 'Greens', vmax_gfp, tickParams, labelParams)"
   ]
  },
  {
   "cell_type": "code",
   "execution_count": null,
   "metadata": {},
   "outputs": [],
   "source": []
  },
  {
   "cell_type": "code",
   "execution_count": null,
   "metadata": {},
   "outputs": [],
   "source": []
  },
  {
   "cell_type": "code",
   "execution_count": null,
   "metadata": {},
   "outputs": [],
   "source": []
  },
  {
   "cell_type": "code",
   "execution_count": null,
   "metadata": {},
   "outputs": [],
   "source": [
    "vmax_gfp = np.ceil(np.percentile(sum_gfp_ctrl.flatten(), 99))\n",
    "vmax_r3 = np.ceil(np.percentile(sum_r3_ctrl.flatten(), 99))"
   ]
  },
  {
   "cell_type": "code",
   "execution_count": null,
   "metadata": {},
   "outputs": [],
   "source": [
    "gfp_ctrl = outputDatas[0]['IntensityMatrix'][0,1,2,:,:,:,:]\n",
    "r3_ctrl = outputDatas[0]['IntensityMatrix'][0,2,2,:,:,:,:]"
   ]
  },
  {
   "cell_type": "code",
   "execution_count": null,
   "metadata": {},
   "outputs": [],
   "source": [
    "gfp_ctrl_2 = outputDatas[3]['IntensityMatrix'][0,1,2,:,:,:,:]\n",
    "r3_ctrl_2 = outputDatas[3]['IntensityMatrix'][0,2,2,:,:,:,:]"
   ]
  },
  {
   "cell_type": "code",
   "execution_count": null,
   "metadata": {},
   "outputs": [],
   "source": [
    "gfp_ctrl_smp10 = gfp_ctrl[9,:,:,:]\n",
    "r3_ctrl_smp10 = r3_ctrl[9,:,:,:]"
   ]
  },
  {
   "cell_type": "code",
   "execution_count": null,
   "metadata": {
    "scrolled": true
   },
   "outputs": [],
   "source": [
    "\"\"\"Get min/max params\"\"\"\n",
    "sliceType = 0\n",
    "percentile = 95\n",
    "sum_gfp_ctrl_1 = np.sum(gfp_ctrl, axis = 3)\n",
    "sum_r3_ctrl_1 = np.sum(r3_ctrl, axis = 3)\n",
    "vmax_gfp_ctrl_1 = np.ceil(np.percentile(sum_gfp_ctrl.flatten(), 99))\n",
    "vmax_r3_ctrl_1 = np.ceil(np.percentile(sum_r3_ctrl.flatten(), 90))"
   ]
  },
  {
   "cell_type": "code",
   "execution_count": null,
   "metadata": {},
   "outputs": [],
   "source": [
    "sum_gfp_ctrl_2 = np.sum(gfp_ctrl_2, axis = 3)\n",
    "sum_r3_ctrl_2 = np.sum(r3_ctrl_2, axis = 3)\n",
    "vmax_gfp_ctrl_2 = np.ceil(np.percentile(sum_gfp_ctrl_2.flatten(), 99))\n",
    "vmax_r3_ctrl_2 = np.ceil(np.percentile(sum_r3_ctrl_2.flatten(), 90))"
   ]
  },
  {
   "cell_type": "code",
   "execution_count": null,
   "metadata": {},
   "outputs": [],
   "source": [
    "# # tickParams = [1, 2, 5, [-1.5, -1, -0.5, 0, 0.5, 1, 1.5]] ### tickTypeX, tickTypeY, tickArg2_X, tickArg2_Y\n",
    "# tickTypeX = 1\n",
    "# tickTypeY = 2\n",
    "# tickArg2_X = 5\n",
    "# tickArg2_Y = [-2, -1.5, -1, -0.5, 0, 0.5, 1, 1.5, 2]\n",
    "\n",
    "# pp = outputDatas[0]['Parameter'][0][0][1]\n",
    "# xTick_ori = np.round(np.linspace(0, radiusExpanseRatio, gfp_ctrl_smp10[:,:,0].shape[1]), 2)\n",
    "# xTicks = my.getTickList(tickTypeX, xTick_ori, tickArg2_X)\n",
    "# yTick_ori = np.round(outputDatas[0]['Parameter'][0][1][0][5], 2)\n",
    "# yTicks = my.getTickList(tickTypeY, yTick_ori, tickArg2_Y)\n",
    "\n",
    "# ax2 =  plt.subplot(111)\n",
    "# #     sns.heatmap(np.sum(intensityMatrix, axis = 2), cmap = colormap, yticklabels = yTicks, xticklabels = xTicks)\n",
    "# # sns.heatmap(np.mean(sum_GFP_matrix, axis = 2), cmap = 'Greens', yticklabels = False, xticklabels = False, vmin = vim, vmax = vmax)\n",
    "# sns.heatmap(np.sum(gfp_ctrl_smp10, axis = 2), cmap = 'Greens', yticklabels = yTicks, xticklabels = xTicks, vmin = 0, vmax = vmax_gfp_ctrl)\n",
    "# # sns.heatmap(gfp_ctrl_smp10[21:22,:,20], cmap = 'Greens')\n",
    "# ax2.set_ylabel('Rel. Angle', fontsize=16)\n",
    "# ax2.set_xlabel('Rel. Length', fontsize=16)\n",
    "# ax2.set_title('Sum over z-stack', fontsize=16)\n",
    "# ax2.invert_yaxis()\n",
    "\n",
    "\n"
   ]
  },
  {
   "cell_type": "code",
   "execution_count": null,
   "metadata": {},
   "outputs": [],
   "source": [
    "# ax2 =  plt.subplot(111)\n",
    "# #     sns.heatmap(np.sum(intensityMatrix, axis = 2), cmap = colormap, yticklabels = yTicks, xticklabels = xTicks)\n",
    "# # sns.heatmap(np.mean(sum_R3_matrix, axis = 2), cmap = 'Reds', yticklabels = False, xticklabels = False, vmin = vim, vmax = vmax)\n",
    "# sns.heatmap(np.sum(r3_ctrl_smp10, axis = 2), cmap = 'Reds', yticklabels = yTicks, xticklabels = xTicks, vmin = 0, vmax = vmax_r3_ctrl)\n",
    "\n",
    "\n",
    "# ax2.set_ylabel('Rel. Angle', fontsize=16)\n",
    "# ax2.set_xlabel('Rel. Length', fontsize=16)\n",
    "# ax2.set_title('Sum over z-stack', fontsize=16)\n",
    "# ax2.invert_yaxis()"
   ]
  },
  {
   "cell_type": "code",
   "execution_count": null,
   "metadata": {
    "scrolled": true
   },
   "outputs": [],
   "source": [
    "vmax_gfp_ctrl, vmax_r3_ctrl"
   ]
  },
  {
   "cell_type": "code",
   "execution_count": null,
   "metadata": {
    "scrolled": true
   },
   "outputs": [],
   "source": [
    "\"\"\" Control \"\"\""
   ]
  },
  {
   "cell_type": "code",
   "execution_count": null,
   "metadata": {},
   "outputs": [],
   "source": [
    "# tickParams = [1, 2, 5, [-1.5, -1, -0.5, 0, 0.5, 1, 1.5]] ### tickTypeX, tickTypeY, tickArg2_X, tickArg2_Y\n",
    "tickTypeX = 1\n",
    "tickTypeY = 2\n",
    "tickArg2_X = 5\n",
    "tickArg2_Y = [-2, -1.5, -1, -0.5, 0, 0.5, 1, 1.5, 2]\n",
    "\n",
    "# pp = outputDatas[0]['Parameter'][0][0][1]\n",
    "xTick_ori = np.round(np.linspace(0, radiusExpanseRatio, sum_gfp_ctrl_1[0,:,:].shape[1]), 2)\n",
    "xTicks = my.getTickList(tickTypeX, xTick_ori, tickArg2_X)\n",
    "yTick_ori = np.round(outputDatas[0]['Parameter'][0][1][0][5], 2)\n",
    "yTicks = my.getTickList(tickTypeY, yTick_ori, tickArg2_Y)\n",
    "\n",
    "ax2 =  plt.subplot(111)\n",
    "#     sns.heatmap(np.sum(intensityMatrix, axis = 2), cmap = colormap, yticklabels = yTicks, xticklabels = xTicks)\n",
    "# sns.heatmap(np.mean(sum_GFP_matrix, axis = 2), cmap = 'Greens', yticklabels = False, xticklabels = False, vmin = vim, vmax = vmax)\n",
    "sns.heatmap(np.mean(sum_gfp_ctrl_1, axis = 0), cmap = 'Greens', yticklabels = yTicks, xticklabels = xTicks, vmin = 0, vmax = vmax_gfp_ctrl_1)\n",
    "ax2.set_ylabel('Angle', fontsize=16)\n",
    "ax2.set_xlabel('length from R-heel', fontsize=16)\n",
    "ax2.set_title('Sum over z-stack', fontsize=16)\n",
    "ax2.invert_yaxis()\n",
    "\n"
   ]
  },
  {
   "cell_type": "code",
   "execution_count": null,
   "metadata": {
    "scrolled": false
   },
   "outputs": [],
   "source": [
    "ax2 =  plt.subplot(111)\n",
    "#     sns.heatmap(np.sum(intensityMatrix, axis = 2), cmap = colormap, yticklabels = yTicks, xticklabels = xTicks)\n",
    "# sns.heatmap(np.mean(sum_R3_matrix, axis = 2), cmap = 'Reds', yticklabels = False, xticklabels = False, vmin = vim, vmax = vmax)\n",
    "sns.heatmap(np.mean(sum_r3_ctrl_1, axis = 0), cmap = 'Reds', yticklabels = yTicks, xticklabels = xTicks, vmin = 0, vmax = vmax_r3_ctrl_1)\n",
    "ax2.set_ylabel('Angle', fontsize=16)\n",
    "ax2.set_xlabel('length from R-heel', fontsize=16)\n",
    "ax2.set_title('Sum over z-stack', fontsize=16)\n",
    "ax2.invert_yaxis()"
   ]
  },
  {
   "cell_type": "code",
   "execution_count": null,
   "metadata": {},
   "outputs": [],
   "source": [
    "\"Control-2\""
   ]
  },
  {
   "cell_type": "code",
   "execution_count": null,
   "metadata": {},
   "outputs": [],
   "source": [
    "# tickParams = [1, 2, 5, [-1.5, -1, -0.5, 0, 0.5, 1, 1.5]] ### tickTypeX, tickTypeY, tickArg2_X, tickArg2_Y\n",
    "tickTypeX = 1\n",
    "tickTypeY = 2\n",
    "tickArg2_X = 5\n",
    "tickArg2_Y = [-2, -1.5, -1, -0.5, 0, 0.5, 1, 1.5, 2]\n",
    "\n",
    "# pp = outputDatas[0]['Parameter'][0][0][1]\n",
    "xTick_ori = np.round(np.linspace(0, radiusExpanseRatio, sum_gfp_ctrl[0,:,:].shape[1]), 2)\n",
    "xTicks = my.getTickList(tickTypeX, xTick_ori, tickArg2_X)\n",
    "# yTick_ori = np.round(pp[5], 2)\n",
    "yTicks = my.getTickList(tickTypeY, yTick_ori, tickArg2_Y)\n",
    "\n",
    "ax2 =  plt.subplot(111)\n",
    "#     sns.heatmap(np.sum(intensityMatrix, axis = 2), cmap = colormap, yticklabels = yTicks, xticklabels = xTicks)\n",
    "# sns.heatmap(np.mean(sum_GFP_matrix, axis = 2), cmap = 'Greens', yticklabels = False, xticklabels = False, vmin = vim, vmax = vmax)\n",
    "sns.heatmap(np.mean(sum_gfp_ctrl_2, axis = 0), cmap = 'Greens', yticklabels = yTicks, xticklabels = xTicks, vmin = 0, vmax = vmax_gfp_ctrl_2)\n",
    "ax2.set_ylabel('Angle', fontsize=16)\n",
    "ax2.set_xlabel('length from R-heel', fontsize=16)\n",
    "ax2.set_title('Sum over z-stack', fontsize=16)\n",
    "ax2.invert_yaxis()"
   ]
  },
  {
   "cell_type": "code",
   "execution_count": null,
   "metadata": {
    "scrolled": true
   },
   "outputs": [],
   "source": [
    "ax2 =  plt.subplot(111)\n",
    "#     sns.heatmap(np.sum(intensityMatrix, axis = 2), cmap = colormap, yticklabels = yTicks, xticklabels = xTicks)\n",
    "# sns.heatmap(np.mean(sum_R3_matrix, axis = 2), cmap = 'Reds', yticklabels = False, xticklabels = False, vmin = vim, vmax = vmax)\n",
    "sns.heatmap(np.mean(sum_r3_ctrl_2, axis = 0), cmap = 'Reds', yticklabels = yTicks, xticklabels = xTicks, vmin = 0, vmax = vmax_r3_ctrl_2)\n",
    "ax2.set_ylabel('Angle', fontsize=16)\n",
    "ax2.set_xlabel('length from R-heel', fontsize=16)\n",
    "ax2.set_title('Sum over z-stack', fontsize=16)\n",
    "ax2.invert_yaxis()"
   ]
  },
  {
   "cell_type": "code",
   "execution_count": null,
   "metadata": {},
   "outputs": [],
   "source": [
    "\"Sum of controls\""
   ]
  },
  {
   "cell_type": "code",
   "execution_count": null,
   "metadata": {
    "scrolled": true
   },
   "outputs": [],
   "source": [
    "sum_r3_ctrl_2.shape"
   ]
  },
  {
   "cell_type": "code",
   "execution_count": null,
   "metadata": {
    "scrolled": true
   },
   "outputs": [],
   "source": [
    "sum_r3_ctrl_1.shape"
   ]
  },
  {
   "cell_type": "code",
   "execution_count": null,
   "metadata": {},
   "outputs": [],
   "source": [
    "sum_gfp_ctrl = np.concatenate((sum_gfp_ctrl_2, sum_gfp_ctrl_1), axis=0, out=None)\n",
    "sum_r3_ctrl = np.concatenate((sum_r3_ctrl_2, sum_r3_ctrl_1), axis=0, out=None)"
   ]
  },
  {
   "cell_type": "code",
   "execution_count": null,
   "metadata": {},
   "outputs": [],
   "source": [
    "vmax_gfp_ctrl = np.ceil(np.percentile(sum_gfp_ctrl.flatten(), 95))\n",
    "vmax_r3_ctrl = np.ceil(np.percentile(sum_r3_ctrl.flatten(), 90))"
   ]
  },
  {
   "cell_type": "code",
   "execution_count": null,
   "metadata": {},
   "outputs": [],
   "source": [
    "ax2 =  plt.subplot(111)\n",
    "#     sns.heatmap(np.sum(intensityMatrix, axis = 2), cmap = colormap, yticklabels = yTicks, xticklabels = xTicks)\n",
    "# sns.heatmap(np.mean(sum_GFP_matrix, axis = 2), cmap = 'Greens', yticklabels = False, xticklabels = False, vmin = vim, vmax = vmax)\n",
    "sns.heatmap(np.mean(sum_gfp_ctrl, axis = 0), cmap = 'Greens', yticklabels = yTicks, xticklabels = xTicks, vmin = 0, vmax = vmax_gfp_ctrl)\n",
    "ax2.set_ylabel('Angle', fontsize=16)\n",
    "ax2.set_xlabel('length from R-heel', fontsize=16)\n",
    "ax2.set_title('Sum over z-stack', fontsize=16)\n",
    "ax2.invert_yaxis()"
   ]
  },
  {
   "cell_type": "code",
   "execution_count": null,
   "metadata": {},
   "outputs": [],
   "source": [
    "ax2 =  plt.subplot(111)\n",
    "#     sns.heatmap(np.sum(intensityMatrix, axis = 2), cmap = colormap, yticklabels = yTicks, xticklabels = xTicks)\n",
    "# sns.heatmap(np.mean(sum_R3_matrix, axis = 2), cmap = 'Reds', yticklabels = False, xticklabels = False, vmin = vim, vmax = vmax)\n",
    "sns.heatmap(np.mean(sum_r3_ctrl, axis = 0), cmap = 'Reds', yticklabels = yTicks, xticklabels = xTicks, vmin = 0, vmax = vmax_r3_ctrl)\n",
    "ax2.set_ylabel('Angle', fontsize=16)\n",
    "ax2.set_xlabel('length from R-heel', fontsize=16)\n",
    "ax2.set_title('Sum over z-stack', fontsize=16)\n",
    "ax2.invert_yaxis()"
   ]
  },
  {
   "cell_type": "code",
   "execution_count": null,
   "metadata": {},
   "outputs": [],
   "source": [
    "\"Fz-1\""
   ]
  },
  {
   "cell_type": "code",
   "execution_count": null,
   "metadata": {},
   "outputs": [],
   "source": [
    "annot_bundles_dfs_good[1].index"
   ]
  },
  {
   "cell_type": "code",
   "execution_count": null,
   "metadata": {},
   "outputs": [],
   "source": [
    "gfp_fz1 = outputDatas[1]['IntensityMatrix'][0,1,2,:,:,:,:]\n",
    "r3_fz1_R3 = outputDatas[1]['IntensityMatrix'][0,2,0,:,:,:,:]\n",
    "r3_fz1_R4 = outputDatas[1]['IntensityMatrix'][0,2,1,:,:,:,:]\n",
    "r3_fz1_T0 = outputDatas[1]['IntensityMatrix'][0,2,2,:,:,:,:]"
   ]
  },
  {
   "cell_type": "code",
   "execution_count": null,
   "metadata": {},
   "outputs": [],
   "source": [
    "a = list(annot_bundles_dfs_good[2].index)\n",
    "a.index(34)"
   ]
  },
  {
   "cell_type": "code",
   "execution_count": null,
   "metadata": {},
   "outputs": [],
   "source": [
    "annot_bundles_dfs_good[2].index"
   ]
  },
  {
   "cell_type": "code",
   "execution_count": null,
   "metadata": {},
   "outputs": [],
   "source": [
    "gfp_fz2 = outputDatas[2]['IntensityMatrix'][0,1,2,:,:,:,:]\n",
    "gfp_fz2 = outputDatas[2]['IntensityMatrix'][0,2,2,:,:,:,:]"
   ]
  },
  {
   "cell_type": "code",
   "execution_count": null,
   "metadata": {},
   "outputs": [],
   "source": [
    "fz2_type1_list = [a.index(34), a.index(40), a.index(48), a.index(98)]#34, 40, 48, 98\n",
    "fz2_type2_list = [a.index(18), a.index(38), a.index(41), a.index(44), a.index(45), a.index(52)]#18, 38, 41, 44, 45, 52"
   ]
  },
  {
   "cell_type": "code",
   "execution_count": null,
   "metadata": {},
   "outputs": [],
   "source": [
    "fz1_type1_list = [1, 4,8,11] #6,8,27,34\n",
    "fz1_type2_list = [3, 5, 12]#13, 16, 35"
   ]
  },
  {
   "cell_type": "code",
   "execution_count": null,
   "metadata": {},
   "outputs": [],
   "source": [
    "ind = 4;\n",
    "gfp_fz = gfp_fz1[ind,:,:,:]\n",
    "r3_fz = r3_fz1_T0[ind,:,:,:]"
   ]
  },
  {
   "cell_type": "code",
   "execution_count": null,
   "metadata": {},
   "outputs": [],
   "source": [
    "gfp_fz1_type1 = gfp_fz1[fz1_type1_list,:,:,:]\n",
    "gfp_fz1_type2 = gfp_fz1[fz1_type2_list,:,:,:]\n",
    "\n",
    "r3_fz1_R4_type1 = r3_fz1_R4[fz1_type1_list,:,:,:]\n",
    "r3_fz1_R4_type2 = r3_fz1_R4[fz1_type2_list,:,:,:]\n",
    "\n",
    "r3_fz1_R3_type1 = r3_fz1_R3[fz1_type1_list,:,:,:]\n",
    "r3_fz1_R3_type2 = r3_fz1_R3[fz1_type2_list,:,:,:]\n",
    "\n",
    "r3_fz1_T0_type1 = r3_fz1_T0[fz1_type1_list,:,:,:]\n",
    "r3_fz1_T0_type2 = r3_fz1_T0[fz1_type2_list,:,:,:]"
   ]
  },
  {
   "cell_type": "code",
   "execution_count": null,
   "metadata": {
    "scrolled": true
   },
   "outputs": [],
   "source": [
    "\"\"\"Get min/max params\"\"\"\n",
    "sliceType = 0\n",
    "sum_GFP_matrix = np.sum(gfp_fz1_type1, axis = 3)\n",
    "sum_r3_R3_matrix = np.sum(r3_fz1_R3_type1, axis = 3)\n",
    "sum_r3_R4_matrix = np.sum(r3_fz1_R4_type1, axis = 3)\n",
    "sum_r3_T0_matrix = np.sum(r3_fz1_T0_type1, axis = 3)\n",
    "\n",
    "vmax_GFP = np.ceil(np.percentile(sum_GFP_matrix.flatten(), 99))\n",
    "vmax_R3 = np.ceil(np.percentile(sum_r3_R3_matrix.flatten(), 90))\n",
    "\n",
    "\n",
    "\n",
    "vmax_GFP, vmax_R3\n",
    "\n"
   ]
  },
  {
   "cell_type": "code",
   "execution_count": null,
   "metadata": {},
   "outputs": [],
   "source": [
    "# tickParams = [1, 2, 5, [-1.5, -1, -0.5, 0, 0.5, 1, 1.5]] ### tickTypeX, tickTypeY, tickArg2_X, tickArg2_Y\n",
    "tickTypeX = 1\n",
    "tickTypeY = 2\n",
    "tickArg2_X = 5\n",
    "tickArg2_Y = [-2, -1.5, -1, -0.5, 0, 0.5, 1, 1.5, 2]\n",
    "\n",
    "pp = outputDatas[0]['Parameter'][0][0][1]\n",
    "xTick_ori = np.round(np.linspace(0, radiusExpanseRatio, sum_GFP_matrix[0,:,:].shape[1]), 2)\n",
    "xTicks = my.getTickList(tickTypeX, xTick_ori, tickArg2_X)\n",
    "yTick_ori = np.round(outputDatas[0]['Parameter'][0][1][0][5], 2)\n",
    "yTicks = my.getTickList(tickTypeY, yTick_ori, tickArg2_Y)\n",
    "\n",
    "ax2 =  plt.subplot(111)\n",
    "#     sns.heatmap(np.sum(intensityMatrix, axis = 2), cmap = colormap, yticklabels = yTicks, xticklabels = xTicks)\n",
    "# sns.heatmap(np.mean(sum_GFP_matrix, axis = 2), cmap = 'Greens', yticklabels = False, xticklabels = False, vmin = vim, vmax = vmax)\n",
    "sns.heatmap(np.sum(gfp_fz, axis = 2), cmap = 'Greens', yticklabels = yTicks, xticklabels = xTicks, vmin = 0, vmax = vmax_GFP)\n",
    "ax2.set_ylabel('Angle', fontsize=16)\n",
    "ax2.set_xlabel('length from R-heel', fontsize=16)\n",
    "ax2.set_title('Sum over z-stack', fontsize=16)\n",
    "ax2.invert_yaxis()"
   ]
  },
  {
   "cell_type": "code",
   "execution_count": null,
   "metadata": {},
   "outputs": [],
   "source": [
    "ax2 =  plt.subplot(111)\n",
    "#     sns.heatmap(np.sum(intensityMatrix, axis = 2), cmap = colormap, yticklabels = yTicks, xticklabels = xTicks)\n",
    "# sns.heatmap(np.mean(sum_r3_T0_matrix, axis = 0), cmap = 'Reds', yticklabels = yTicks, xticklabels = xTicks, vmin = 0, vmax = vmax_R3)\n",
    "sns.heatmap(np.sum(r3_fz, axis = 2), cmap = 'Reds', yticklabels = yTicks, xticklabels = xTicks, vmin = 0, vmax = vmax_R3)\n",
    "ax2.set_ylabel('Angle', fontsize=16)\n",
    "ax2.set_xlabel('length from R-heel', fontsize=16)\n",
    "ax2.set_title('Sum over z-stack', fontsize=16)\n",
    "ax2.invert_yaxis()"
   ]
  },
  {
   "cell_type": "code",
   "execution_count": null,
   "metadata": {},
   "outputs": [],
   "source": [
    "ax2 =  plt.subplot(111)\n",
    "#     sns.heatmap(np.sum(intensityMatrix, axis = 2), cmap = colormap, yticklabels = yTicks, xticklabels = xTicks)\n",
    "# sns.heatmap(np.mean(sum_R3_matrix, axis = 2), cmap = 'Reds', yticklabels = False, xticklabels = False, vmin = vim, vmax = vmax)\n",
    "sns.heatmap(np.mean(sum_r3_R3_matrix, axis = 0), cmap = 'Reds', yticklabels = yTicks, xticklabels = xTicks, vmin = 0, vmax = vmax_R3)\n",
    "ax2.set_ylabel('Angle', fontsize=16)\n",
    "ax2.set_xlabel('length from R-heel', fontsize=16)\n",
    "ax2.set_title('Sum over z-stack', fontsize=16)\n",
    "ax2.invert_yaxis()"
   ]
  },
  {
   "cell_type": "code",
   "execution_count": null,
   "metadata": {},
   "outputs": [],
   "source": [
    "ax2 =  plt.subplot(111)\n",
    "#     sns.heatmap(np.sum(intensityMatrix, axis = 2), cmap = colormap, yticklabels = yTicks, xticklabels = xTicks)\n",
    "# sns.heatmap(np.mean(sum_R3_matrix, axis = 2), cmap = 'Reds', yticklabels = False, xticklabels = False, vmin = vim, vmax = vmax)\n",
    "sns.heatmap(np.mean(sum_r3_R4_matrix, axis = 0), cmap = 'Reds', yticklabels = yTicks, xticklabels = xTicks, vmin = 0, vmax = vmax_R3)\n",
    "ax2.set_ylabel('Angle', fontsize=16)\n",
    "ax2.set_xlabel('length from R-heel', fontsize=16)\n",
    "ax2.set_title('Sum over z-stack', fontsize=16)\n",
    "ax2.invert_yaxis()"
   ]
  },
  {
   "cell_type": "code",
   "execution_count": null,
   "metadata": {},
   "outputs": [],
   "source": [
    "ax2 =  plt.subplot(111)\n",
    "#     sns.heatmap(np.sum(intensityMatrix, axis = 2), cmap = colormap, yticklabels = yTicks, xticklabels = xTicks)\n",
    "# sns.heatmap(np.mean(sum_R3_matrix, axis = 2), cmap = 'Reds', yticklabels = False, xticklabels = False, vmin = vim, vmax = vmax)\n",
    "sns.heatmap(np.mean(sum_r3_T0_matrix, axis = 0), cmap = 'Reds', yticklabels = yTicks, xticklabels = xTicks, vmin = 0, vmax = vmax_R3)\n",
    "ax2.set_ylabel('Angle', fontsize=16)\n",
    "ax2.set_xlabel('length from R-heel', fontsize=16)\n",
    "ax2.set_title('Sum over z-stack', fontsize=16)\n",
    "ax2.invert_yaxis()"
   ]
  },
  {
   "cell_type": "code",
   "execution_count": null,
   "metadata": {},
   "outputs": [],
   "source": [
    "\"\"\"Get min/max params\"\"\"\n",
    "sliceType = 0\n",
    "sum_GFP_matrix = np.sum(gfp_fz1_type2, axis = 3)\n",
    "sum_r3_R3_matrix = np.sum(r3_fz1_R3_type2, axis = 3)\n",
    "sum_r3_R4_matrix = np.sum(r3_fz1_R4_type2, axis = 3)\n",
    "sum_r3_T0_matrix = np.sum(r3_fz1_T0_type2, axis = 3)\n",
    "\n",
    "# vmax_GFP = np.ceil(np.percentile(sum_GFP_matrix.flatten(), 99))\n",
    "# vmax_R3 = np.ceil(np.percentile(sum_r3_R3_matrix.flatten(), 95))\n",
    "\n",
    "\n",
    "\n",
    "vmax_GFP, vmax_R3\n",
    "\n",
    "# tickParams = [1, 2, 5, [-1.5, -1, -0.5, 0, 0.5, 1, 1.5]] ### tickTypeX, tickTypeY, tickArg2_X, tickArg2_Y\n",
    "tickTypeX = 1\n",
    "tickTypeY = 2\n",
    "tickArg2_X = 5\n",
    "tickArg2_Y = [-1.5, -1, -0.5, 0, 0.5, 1, 1.5]\n",
    "\n",
    "pp = outputDatas[0]['Parameter'][0][0][1]\n",
    "xTick_ori = np.round(np.linspace(0, radiusExpanseRatio, sum_GFP_matrix[0,:,:].shape[1]), 2)\n",
    "xTicks = my.getTickList(tickTypeX, xTick_ori, tickArg2_X)\n",
    "yTick_ori = np.round(pp[5], 2)\n",
    "yTicks = my.getTickList(tickTypeY, yTick_ori, tickArg2_Y)\n",
    "\n",
    "ax2 =  plt.subplot(111)\n",
    "#     sns.heatmap(np.sum(intensityMatrix, axis = 2), cmap = colormap, yticklabels = yTicks, xticklabels = xTicks)\n",
    "# sns.heatmap(np.mean(sum_GFP_matrix, axis = 2), cmap = 'Greens', yticklabels = False, xticklabels = False, vmin = vim, vmax = vmax)\n",
    "sns.heatmap(np.mean(sum_GFP_matrix, axis = 0), cmap = 'Greens', yticklabels = yTicks, xticklabels = xTicks, vmin = 0, vmax = vmax_GFP)\n",
    "ax2.set_ylabel('Angle', fontsize=16)\n",
    "ax2.set_xlabel('length from R-heel', fontsize=16)\n",
    "ax2.set_title('Sum over z-stack', fontsize=16)\n",
    "ax2.invert_yaxis()"
   ]
  },
  {
   "cell_type": "code",
   "execution_count": null,
   "metadata": {},
   "outputs": [],
   "source": [
    "ax2 =  plt.subplot(111)\n",
    "#     sns.heatmap(np.sum(intensityMatrix, axis = 2), cmap = colormap, yticklabels = yTicks, xticklabels = xTicks)\n",
    "# sns.heatmap(np.mean(sum_R3_matrix, axis = 2), cmap = 'Reds', yticklabels = False, xticklabels = False, vmin = vim, vmax = vmax)\n",
    "sns.heatmap(np.mean(sum_r3_T0_matrix, axis = 0), cmap = 'Reds', yticklabels = yTicks, xticklabels = xTicks, vmin = 0, vmax = vmax_R3)\n",
    "ax2.set_ylabel('Angle', fontsize=16)\n",
    "ax2.set_xlabel('length from R-heel', fontsize=16)\n",
    "ax2.set_title('Sum over z-stack', fontsize=16)\n",
    "ax2.invert_yaxis()"
   ]
  },
  {
   "cell_type": "code",
   "execution_count": null,
   "metadata": {},
   "outputs": [],
   "source": []
  }
 ],
 "metadata": {
  "kernelspec": {
   "display_name": "Python 3",
   "language": "python",
   "name": "python3"
  },
  "language_info": {
   "codemirror_mode": {
    "name": "ipython",
    "version": 3
   },
   "file_extension": ".py",
   "mimetype": "text/x-python",
   "name": "python",
   "nbconvert_exporter": "python",
   "pygments_lexer": "ipython3",
   "version": "3.7.3"
  }
 },
 "nbformat": 4,
 "nbformat_minor": 2
}
