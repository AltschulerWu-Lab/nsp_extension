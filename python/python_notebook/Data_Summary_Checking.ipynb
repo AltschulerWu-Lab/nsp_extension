{
 "cells": [
  {
   "cell_type": "code",
   "execution_count": 1,
   "metadata": {},
   "outputs": [
    {
     "data": {
      "text/plain": [
       "' Checking individual ROI and summary parts before combining'"
      ]
     },
     "execution_count": 1,
     "metadata": {},
     "output_type": "execute_result"
    }
   ],
   "source": [
    "\"\"\" Checking individual ROI and summary parts before combining\"\"\""
   ]
  },
  {
   "cell_type": "code",
   "execution_count": 2,
   "metadata": {
    "collapsed": true
   },
   "outputs": [],
   "source": [
    "%matplotlib inline\n",
    "\n",
    "import io, os, sys, types\n",
    "\n",
    "from IPython import get_ipython\n",
    "from nbformat import read\n",
    "from IPython.core.interactiveshell import InteractiveShell\n",
    "\n",
    "import pandas as pd\n",
    "\n",
    "import matplotlib as mpl\n",
    "import matplotlib.pyplot as plt\n",
    "\n",
    "import numpy as np\n",
    "from numpy.linalg import eig, inv\n",
    "\n",
    "import math\n",
    "\n",
    "from scipy import interpolate, spatial, stats\n",
    "\n",
    "import seaborn as sns\n",
    "\n",
    "from sklearn import linear_model\n",
    "from sklearn import metrics\n",
    "\n",
    "import cv2\n",
    "\n",
    "global isMac\n",
    "isMac = True"
   ]
  },
  {
   "cell_type": "code",
   "execution_count": 3,
   "metadata": {},
   "outputs": [
    {
     "data": {
      "text/plain": [
       "' ============== path settings =============='"
      ]
     },
     "execution_count": 3,
     "metadata": {},
     "output_type": "execute_result"
    }
   ],
   "source": [
    "\"\"\" ============== path settings ==============\"\"\""
   ]
  },
  {
   "cell_type": "code",
   "execution_count": 4,
   "metadata": {
    "collapsed": true
   },
   "outputs": [],
   "source": [
    "if(isMac):\n",
    "    dataPrefix = '/Volumes/wji/lab/Projects/NSP/Codes/python/Quantification_fromPositionOnly/Trial'\n",
    "#     dataPrefix = '/Volumes/wji/lab/Projects/NSP/Data_Analysis/Experiments/Fate_Switching/Summaries/Example'\n",
    "else:\n",
    "    dataPrefix = 'Z:\\\\lab\\\\Projects\\\\NSP\\\\Data_Analysis\\\\Experiments\\\\Fate_Switching\\\\Summaries\\\\GFP_RFP'"
   ]
  },
  {
   "cell_type": "code",
   "execution_count": 5,
   "metadata": {},
   "outputs": [
    {
     "data": {
      "text/plain": [
       "'============== importing settings =============='"
      ]
     },
     "execution_count": 5,
     "metadata": {},
     "output_type": "execute_result"
    }
   ],
   "source": [
    "\"\"\"============== importing settings ==============\"\"\""
   ]
  },
  {
   "cell_type": "code",
   "execution_count": 6,
   "metadata": {
    "collapsed": true
   },
   "outputs": [],
   "source": [
    "def find_notebook(fullname, path=None):\n",
    "    \"\"\"find a notebook, given its fully qualified name and an optional path\n",
    "    \n",
    "    This turns \"foo.bar\" into \"foo/bar.ipynb\"\n",
    "    and tries turning \"Foo_Bar\" into \"Foo Bar\" if Foo_Bar\n",
    "    does not exist.\n",
    "    \"\"\"\n",
    "    name = fullname.rsplit('.', 1)[-1]\n",
    "    if not path:\n",
    "        path = ['']\n",
    "    for d in path:\n",
    "        nb_path = os.path.join(d, name + \".ipynb\")\n",
    "        if os.path.isfile(nb_path):\n",
    "            return nb_path\n",
    "        # let import Notebook_Name find \"Notebook Name.ipynb\"\n",
    "        nb_path = nb_path.replace(\"_\", \" \")\n",
    "        if os.path.isfile(nb_path):\n",
    "            return nb_path"
   ]
  },
  {
   "cell_type": "code",
   "execution_count": 7,
   "metadata": {
    "collapsed": true
   },
   "outputs": [],
   "source": [
    "class NotebookLoader(object):\n",
    "    \"\"\"Module Loader for Jupyter Notebooks\"\"\"\n",
    "    def __init__(self, path=None):\n",
    "        self.shell = InteractiveShell.instance()\n",
    "        self.path = path\n",
    "    \n",
    "    def load_module(self, fullname):\n",
    "        \"\"\"import a notebook as a module\"\"\"\n",
    "        path = find_notebook(fullname, self.path)\n",
    "        \n",
    "        print (\"importing Jupyter notebook from %s\" % path)\n",
    "                                       \n",
    "        # load the notebook object\n",
    "        with io.open(path, 'r', encoding='utf-8') as f:\n",
    "            nb = read(f, 4)\n",
    "        \n",
    "        \n",
    "        # create the module and add it to sys.modules\n",
    "        # if name in sys.modules:\n",
    "        #    return sys.modules[name]\n",
    "        mod = types.ModuleType(fullname)\n",
    "        mod.__file__ = path\n",
    "        mod.__loader__ = self\n",
    "        mod.__dict__['get_ipython'] = get_ipython\n",
    "        sys.modules[fullname] = mod\n",
    "        \n",
    "        # extra work to ensure that magics that would affect the user_ns\n",
    "        # actually affect the notebook module's ns\n",
    "        save_user_ns = self.shell.user_ns\n",
    "        self.shell.user_ns = mod.__dict__\n",
    "        \n",
    "        try:\n",
    "          for cell in nb.cells:\n",
    "            if cell.cell_type == 'code':\n",
    "                # transform the input to executable Python\n",
    "                code = self.shell.input_transformer_manager.transform_cell(cell.source)\n",
    "                # run the code in themodule\n",
    "                exec(code, mod.__dict__)\n",
    "        finally:\n",
    "            self.shell.user_ns = save_user_ns\n",
    "        return mod\n"
   ]
  },
  {
   "cell_type": "code",
   "execution_count": 8,
   "metadata": {
    "collapsed": true
   },
   "outputs": [],
   "source": [
    "class NotebookFinder(object):\n",
    "    \"\"\"Module finder that locates Jupyter Notebooks\"\"\"\n",
    "    def __init__(self):\n",
    "        self.loaders = {}\n",
    "    \n",
    "    def find_module(self, fullname, path=None):\n",
    "        nb_path = find_notebook(fullname, path)\n",
    "        if not nb_path:\n",
    "            return\n",
    "        \n",
    "        key = path\n",
    "        if path:\n",
    "            # lists aren't hashable\n",
    "            key = os.path.sep.join(path)\n",
    "        \n",
    "        if key not in self.loaders:\n",
    "            self.loaders[key] = NotebookLoader(path)\n",
    "        return self.loaders[key]\n"
   ]
  },
  {
   "cell_type": "code",
   "execution_count": 9,
   "metadata": {
    "collapsed": true
   },
   "outputs": [],
   "source": [
    "sys.meta_path.append(NotebookFinder())"
   ]
  },
  {
   "cell_type": "code",
   "execution_count": 10,
   "metadata": {},
   "outputs": [
    {
     "name": "stdout",
     "output_type": "stream",
     "text": [
      "importing Jupyter notebook from Data_Summary_functions_new.ipynb\n"
     ]
    }
   ],
   "source": [
    "import Data_Summary_functions_new as my"
   ]
  },
  {
   "cell_type": "code",
   "execution_count": 11,
   "metadata": {
    "collapsed": true
   },
   "outputs": [],
   "source": [
    "\"\"\" ============== Golbal variables ==============\"\"\"\n",
    "global RcellColors\n",
    "RcellColors = ['#00FFFF', '#1FF509', '#FF0000', '#CFCF1C', '#FF00FF', '#FFAE01']"
   ]
  },
  {
   "cell_type": "code",
   "execution_count": 13,
   "metadata": {},
   "outputs": [
    {
     "data": {
      "text/plain": [
       "'============== main =============='"
      ]
     },
     "execution_count": 13,
     "metadata": {},
     "output_type": "execute_result"
    }
   ],
   "source": [
    "\"\"\"============== main ==============\"\"\""
   ]
  },
  {
   "cell_type": "code",
   "execution_count": 14,
   "metadata": {},
   "outputs": [
    {
     "ename": "AttributeError",
     "evalue": "'DataFrame' object has no attribute 'Region_Name'",
     "output_type": "error",
     "traceback": [
      "\u001b[0;31m---------------------------------------------------------------------------\u001b[0m",
      "\u001b[0;31mAttributeError\u001b[0m                            Traceback (most recent call last)",
      "\u001b[0;32m<ipython-input-14-f417bc932831>\u001b[0m in \u001b[0;36m<module>\u001b[0;34m()\u001b[0m\n\u001b[1;32m     23\u001b[0m \u001b[0;31m### get the region number of ROI\u001b[0m\u001b[0;34m\u001b[0m\u001b[0;34m\u001b[0m\u001b[0m\n\u001b[1;32m     24\u001b[0m \u001b[0mregion_name\u001b[0m \u001b[0;34m=\u001b[0m \u001b[0mROIName\u001b[0m\u001b[0;34m.\u001b[0m\u001b[0mreplace\u001b[0m\u001b[0;34m(\u001b[0m\u001b[0;34m'.csv'\u001b[0m\u001b[0;34m,\u001b[0m \u001b[0;34m''\u001b[0m\u001b[0;34m)\u001b[0m\u001b[0;34m\u001b[0m\u001b[0m\n\u001b[0;32m---> 25\u001b[0;31m \u001b[0mregionNo\u001b[0m \u001b[0;34m=\u001b[0m \u001b[0mlist\u001b[0m\u001b[0;34m(\u001b[0m\u001b[0mdf_annot\u001b[0m\u001b[0;34m.\u001b[0m\u001b[0mRegion_Name\u001b[0m\u001b[0;34m.\u001b[0m\u001b[0munique\u001b[0m\u001b[0;34m(\u001b[0m\u001b[0;34m)\u001b[0m\u001b[0;34m)\u001b[0m\u001b[0;34m.\u001b[0m\u001b[0mindex\u001b[0m\u001b[0;34m(\u001b[0m\u001b[0mregion_name\u001b[0m\u001b[0;34m)\u001b[0m\u001b[0;34m\u001b[0m\u001b[0m\n\u001b[0m",
      "\u001b[0;32m/Users/lily/anaconda/lib/python3.6/site-packages/pandas/core/generic.py\u001b[0m in \u001b[0;36m__getattr__\u001b[0;34m(self, name)\u001b[0m\n\u001b[1;32m   2968\u001b[0m             \u001b[0;32mif\u001b[0m \u001b[0mname\u001b[0m \u001b[0;32min\u001b[0m \u001b[0mself\u001b[0m\u001b[0;34m.\u001b[0m\u001b[0m_info_axis\u001b[0m\u001b[0;34m:\u001b[0m\u001b[0;34m\u001b[0m\u001b[0m\n\u001b[1;32m   2969\u001b[0m                 \u001b[0;32mreturn\u001b[0m \u001b[0mself\u001b[0m\u001b[0;34m[\u001b[0m\u001b[0mname\u001b[0m\u001b[0;34m]\u001b[0m\u001b[0;34m\u001b[0m\u001b[0m\n\u001b[0;32m-> 2970\u001b[0;31m             \u001b[0;32mreturn\u001b[0m \u001b[0mobject\u001b[0m\u001b[0;34m.\u001b[0m\u001b[0m__getattribute__\u001b[0m\u001b[0;34m(\u001b[0m\u001b[0mself\u001b[0m\u001b[0;34m,\u001b[0m \u001b[0mname\u001b[0m\u001b[0;34m)\u001b[0m\u001b[0;34m\u001b[0m\u001b[0m\n\u001b[0m\u001b[1;32m   2971\u001b[0m \u001b[0;34m\u001b[0m\u001b[0m\n\u001b[1;32m   2972\u001b[0m     \u001b[0;32mdef\u001b[0m \u001b[0m__setattr__\u001b[0m\u001b[0;34m(\u001b[0m\u001b[0mself\u001b[0m\u001b[0;34m,\u001b[0m \u001b[0mname\u001b[0m\u001b[0;34m,\u001b[0m \u001b[0mvalue\u001b[0m\u001b[0;34m)\u001b[0m\u001b[0;34m:\u001b[0m\u001b[0;34m\u001b[0m\u001b[0m\n",
      "\u001b[0;31mAttributeError\u001b[0m: 'DataFrame' object has no attribute 'Region_Name'"
     ]
    }
   ],
   "source": [
    "\"\"\"Load data\"\"\"\n",
    "### file name\n",
    "# annotName = 'Summary.csv'\n",
    "# ROIName = 'Results1.csv'\n",
    "\n",
    "annotName = 'Summary.csv'\n",
    "ROIName = '1_restacked_201711300419.csv'\n",
    "region_name = '1_restacked_201711300419'\n",
    "\n",
    "### file path\n",
    "annotPath = dataPrefix\n",
    "\n",
    "# ROIPath = dataPrefix\n",
    "ROIPath = dataPrefix\n",
    "# ROIPath = os.path.join(dataPrefix, 'Fmi_25C')\n",
    "#ROIPath = os.path.join(dataPrefix, 'Notch_25C')\n",
    "\n",
    "### Load annotation data\n",
    "df_annot = pd.read_csv(os.path.join(annotPath, annotName))\n",
    "df_ROI = pd.read_csv(os.path.join(ROIPath, ROIName))\n",
    "df_ROI.rename(columns = {' ':'No'}, inplace = True)\n",
    "\n",
    "### get the region number of ROI\n",
    "region_name = ROIName.replace('.csv', '')\n",
    "regionNo = list(df_annot.Region_Name.unique()).index(region_name)"
   ]
  },
  {
   "cell_type": "code",
   "execution_count": null,
   "metadata": {
    "collapsed": true,
    "scrolled": false
   },
   "outputs": [],
   "source": [
    "\"\"\" Concatinating ROI Data and update bundle info\"\"\"\n",
    "Rheels_df, extension_df, df_annot = my.concatinateROI(df_ROI, df_annot, regionNo)\n",
    "Rheels_df = my.updateRheelsInfo(Rheels_df)"
   ]
  },
  {
   "cell_type": "code",
   "execution_count": null,
   "metadata": {
    "scrolled": true
   },
   "outputs": [],
   "source": [
    "\"\"\"Angle trial\"\"\""
   ]
  },
  {
   "cell_type": "code",
   "execution_count": null,
   "metadata": {
    "collapsed": true
   },
   "outputs": [],
   "source": [
    "# ### create bundles_df dataframe\n",
    "# newCols = ['Extension_GFP_R3pre',\n",
    "#        'Extension_GFP_R4pre', 'Extension_target_R3pre',\n",
    "#        'Extension_target_R4pre', 'Extension_RFP_R3pre', 'Extension_RFP_R4pre',\n",
    "#        'Extension_angle_R3pre', 'Extension_angle_R3pre_toBundle',\n",
    "#        'Extension_angle_R3pre_toTarget', 'Extension_angle_R4pre',\n",
    "#        'Extension_angle_R4pre_toBundle', 'Extension_angle_R4pre_toTarget',\n",
    "#        'Extension_length_R3pre', 'Extension_length_R4pre',\n",
    "#        'Extension_relaLength_R3pre', 'Extension_relaLength_R4pre',\n",
    "#        'bundle_axis_X', 'bundle_axis_Y', 'bundle_center_X', 'bundle_center_Y']\n",
    "# cof_cols = my.group_headers(df_annot, 'Cof_', True)\n",
    "# newCols = newCols + cof_cols\n",
    "# bundles_df = pd.DataFrame(columns = newCols)\n",
    "\n",
    "# ### GFP & RFP: from string to numbers\n",
    "# GR_mapping = {'W':1, 'M':2, 'S':2}\n",
    "\n",
    "# ### loop through annotations\n",
    "# bundleNo = 134\n",
    "# ind = list(Rheels_df.index).index(bundleNo)\n",
    "# isPrint = True"
   ]
  },
  {
   "cell_type": "code",
   "execution_count": null,
   "metadata": {
    "collapsed": true
   },
   "outputs": [],
   "source": [
    "# ind"
   ]
  },
  {
   "cell_type": "code",
   "execution_count": null,
   "metadata": {
    "collapsed": true
   },
   "outputs": [],
   "source": [
    "def getInterpolate(A1, A2, A3):\n",
    "    return (A3[1] - A2[1]) / (A1[0] - A2[0]) * (A1[0] - A2[0]) + A2[1]"
   ]
  },
  {
   "cell_type": "code",
   "execution_count": null,
   "metadata": {
    "collapsed": true,
    "scrolled": false
   },
   "outputs": [],
   "source": [
    "# if(isPrint):\n",
    "#     print('Index: ' + str(ind))\n",
    "\n",
    "# ### if the bundle have R3/4 extensions\n",
    "# if((not pd.isnull(df_annot.iloc[ind]['Extension_R3pre'])) | (not pd.isnull(df_annot.iloc[ind]['Extension_R4pre'])) ):\n",
    "#     ### create new dataframe space\n",
    "#     df_tmp = pd.DataFrame(columns = newCols)\n",
    "\n",
    "#     ### originating bundle\n",
    "#     # bundle number\n",
    "#     bundle_No = df_annot.iloc[ind]['Bundle_No']\n",
    "#     if(isPrint):\n",
    "#         print('Bundle No: ' + str(bundle_No))\n",
    "#     # center of originating bundle\n",
    "#     cT0 = np.array([ Rheels_df.loc[bundle_No,'shape_CenterX'], Rheels_df.loc[bundle_No,'shape_CenterY'] ])\n",
    "\n",
    "#     # bundle axis\n",
    "#     axisT0 = np.array([ Rheels_df.loc[bundle_No, 'bundle_axis_X'], Rheels_df.loc[bundle_No, 'bundle_axis_Y'] ])\n",
    "\n",
    "#     # position of R3 & R4\n",
    "#     cR3 = np.array([ Rheels_df.loc[bundle_No, 'coor_R3_X'], Rheels_df.loc[bundle_No, 'coor_R3_Y'] ])\n",
    "#     cR4 = np.array([ Rheels_df.loc[bundle_No, 'coor_R4_X'], Rheels_df.loc[bundle_No, 'coor_R4_Y'] ])\n",
    "\n",
    "#     # middle point between R3 and R4\n",
    "#     cRm = (cR3 + cR4)/2\n",
    "#     cT0_ = cRm + axisT0\n",
    "\n",
    "#     # update bundles_df:\n",
    "#     df_tmp.loc[0, 'bundleNo'] = bundle_No\n",
    "#     df_tmp.loc[0, 'bundle_center_X'] = cT0[0]\n",
    "#     df_tmp.loc[0, 'bundle_center_Y'] = cT0[1]\n",
    "#     df_tmp.loc[0, 'bundle_axis_X'] = axisT0[0]\n",
    "#     df_tmp.loc[0, 'bundle_axis_Y'] = axisT0[1]\n",
    "\n",
    "#     ### putative targets\n",
    "#     # putative target index\n",
    "#     iT3 = int(df_annot.iloc[ind]['Target_T3'])\n",
    "#     iT4 = int(df_annot.iloc[ind]['Target_T4'])\n",
    "#     iT7 = int(df_annot.iloc[ind]['Target_T7'])\n",
    "\n",
    "#     # target position\n",
    "#     cT3 = np.array([ Rheels_df.loc[iT3,'shape_CenterX'], Rheels_df.loc[iT3,'shape_CenterY'] ])\n",
    "#     cT4 = np.array([ Rheels_df.loc[iT4,'shape_CenterX'], Rheels_df.loc[iT4,'shape_CenterY'] ])\n",
    "#     cT7 = np.array([ Rheels_df.loc[iT7,'shape_CenterX'], Rheels_df.loc[iT7,'shape_CenterY'] ])\n",
    "\n",
    "#     # angle between three bundles\n",
    "#     aT3RmT7 = my.inner_angle(cT3 - cRm, cT7 - cRm, True)\n",
    "    \n",
    "#     aT3RmT4 = my.inner_angle(cT4 - cRm, cT3 - cRm, True) # angle from T3 to T4\n",
    "#     aT4RmT7 = my.inner_angle(cT7 - cRm, cT4 - cRm, True) # angle from T4 to T7\n",
    "    \n",
    "#     aT3RmT0_ = my.inner_angle(cT0_ - cRm, cT3 - cRm, True) # angle from T3 to T0'\n",
    "#     aT0_RmT7 = my.inner_angle(cT7 - cRm, cT0_ - cRm, True) # angle from T0' to T7\n",
    "\n",
    "# ### extensions: R3precursor\n",
    "# if(not pd.isnull(df_annot.iloc[ind]['Extension_R3pre'])):\n",
    "#     if(isPrint):\n",
    "#         print('R3')\n",
    "#     # info about R3pre extension\n",
    "#     iE3 = int(df_annot.iloc[ind]['Extension_R3pre'])\n",
    "#     if(isPrint):\n",
    "#         print('R3: ' + str(iE3))\n",
    "#     aE3 = extension_df.loc[iE3, 'Angle']\n",
    "#     lE3 = extension_df.loc[iE3, 'Length']\n",
    "    \n",
    "#     # extension vector\n",
    "#     scE3 = cR3 # originate point of the vector\n",
    "#     tcE3 = np.array([scE3[0] + lE3 * np.cos(aE3) , scE3[1] + lE3 * np.sin(aE3)]) # end point of the vector\n",
    "    \n",
    "#     # project R3 extension vector to the middle-point\n",
    "#     scE3p = cRm # originate point of the vector\n",
    "#     tcE3p = np.array([scE3p[0] + lE3 * np.cos(aE3) , scE3p[1] + lE3 * np.sin(aE3)]) # end point of the vector\n",
    "\n",
    "#     # inner angles\n",
    "#     aE3RmT7 = my.inner_angle(cT7-cRm, tcE3p-scE3p, True) # extension to T7\n",
    "#     aE3RmT4 = my.inner_angle(cT4-cRm, tcE3p-scE3p, True) # extension to T4\n",
    "#     aE3RmT3 = my.inner_angle(cT3-cRm, tcE3p-scE3p, True) # extension to T3\n",
    "    \n",
    "#     aE3R3T7 = my.inner_angle(cT7-cR3, tcE3-scE3, True) # extension to T7\n",
    "#     aE3R3T4 = my.inner_angle(cT4-cR3, tcE3-scE3, True) # extension to T4\n",
    "#     aE3R3T3 = my.inner_angle(cT3-cR3, tcE3-scE3, True) # extension to T3\n",
    "    \n",
    "#     aE3RmT0_ = my.inner_angle(axisT0, tcE3-scE3, True) # extension to bundle axis\n",
    "    \n",
    "#     aT3R3T4 = my.inner_angle(cT4 - cR3, cT3 - cR3, True) # angle from T3 to T4\n",
    "#     aT4R3T7 = my.inner_angle(cT7 - cR3, cT4 - cR3, True) # angle from T4 to T7\n",
    "\n",
    "#     # angle relative to T4, originate at R3\n",
    "#     comp3 = getInterpolate(tcE3, cR3, cT4)\n",
    "#     #comp3 = (tcE3[1] - cR3[1])/(tcE3[0] - cR3[0]) * (cT4[0] - cR3[0]) + cR3[1]\n",
    "#     #comp3 = np.interp(tcE3[0], np.vstack((cR3, cT4))[:,0], np.vstack((cR3, cT4))[:,1])\n",
    "#     if(cR3[1] <= cR4[1]):                   # R3 at bottom and R4 is at top.\n",
    "#         if(tcE3[1] <= comp3):               # entension between T3 and T4\n",
    "#             angle1v1_R3 = aE3R3T4/aT3R3T4\n",
    "#         else:                               # entension between T4 and T7\n",
    "#             angle1v1_R3 = - aE3R3T4/aT4R3T7\n",
    "#     else:                                   # R3 at top and R4 at bottom\n",
    "#         if(tcE3[1] >= comp3):               # entension between T3 and T4\n",
    "#             angle1v1_R3 = aE3R3T4/aT3R3T4\n",
    "#         else:                               # entension between T4 and T7\n",
    "#             angle1v1_R3 = - aE3R3T4/aT4R3T7\n",
    "#     df_tmp.loc[0, 'Extension_angle_R3pre_toTarget'] = angle1v1_R3\n",
    "\n",
    "#     # angle relative to bundle axis, originate at Rm\n",
    "#     compp3 = getInterpolate(tcE3p, cRm, cT0_)\n",
    "#     #compp3 = (tcE3p[1] - cRm[1])/(tcE3p[0] - cRm[0]) * (cT0_[0] - cRm[0]) + cRm[1]\n",
    "#     #compp3 = np.interp(tcE3p[0], np.vstack((cRm, cT0_))[:,0], np.vstack((cRm, cT0_))[:,1])\n",
    "#     if(cR3[1] <= cR4[1]):                   # R3 at bottom and R4 is at top.\n",
    "#         if(tcE3p[1] <= compp3):               # entension between T3 and T4\n",
    "#             angle1v2_R3 = aE3RmT0_/aT3RmT0_\n",
    "#         else:                               # entension between T4 and T7\n",
    "#             angle1v2_R3 = aE3RmT0_/aT0_RmT7\n",
    "#     else:                                   # R3 at top and R4 at bottom\n",
    "#         if(tcE3p[1] >= compp3):               # entension between T3 and T4\n",
    "#             angle1v2_R3 = aE3RmT0_/aT3RmT0_\n",
    "#         else:                               # entension between T4 and T7\n",
    "#             angle1v2_R3 = aE3RmT0_/aT0_RmT7\n",
    "#     df_tmp.loc[0, 'Extension_angle_R3pre_toBundle'] = angle1v2_R3\n",
    "    \n",
    "#     # update extension_df:\n",
    "#     extension_df.loc[iE3, 'Start_X'] = scE3[0]\n",
    "#     extension_df.loc[iE3, 'Start_Y'] = scE3[1]\n",
    "#     extension_df.loc[iE3, 'End_X'] = tcE3[0]\n",
    "#     extension_df.loc[iE3, 'End_Y'] = tcE3[1]\n",
    "#     extension_df.loc[iE3, 'innerAngle_T3'] = aE3R3T3\n",
    "#     extension_df.loc[iE3, 'innerAngle_T4'] = aE3R3T4\n",
    "#     extension_df.loc[iE3, 'innerAngle_T7'] = aE3R3T7\n",
    "#     extension_df.loc[iE3, 'innerAngle_bundleAxis'] = aE3RmT0_\n",
    "\n",
    "#     # update putative target\n",
    "#     if(min(aE3R3T3, aE3R3T4, aE3R3T7) == aE3R3T3):\n",
    "#         pT_R3 = 'T3'\n",
    "#     elif(min(aE3R3T3, aE3R3T4, aE3R3T7) == aE3R3T4):\n",
    "#         pT_R3 = 'T4'\n",
    "#     else:\n",
    "#         pT_R3 = 'T3_'\n",
    "#     df_annot.loc[ind, 'Extension_target_R3pre'] = pT_R3\n",
    "#     df_tmp.loc[0, 'Extension_target_R3pre'] = pT_R3\n",
    "\n",
    "#     # update bundles_df:\n",
    "#     df_tmp.loc[0, 'Extension_angle_R3pre'] = aE3\n",
    "#     df_tmp.loc[0, 'Extension_length_R3pre'] = lE3\n",
    "#     if(not pd.isnull(df_annot.iloc[ind]['GFP_R3pre'])):\n",
    "#         df_tmp.loc[0, 'Extension_GFP_R3pre'] = GR_mapping[df_annot.iloc[ind]['GFP_R3pre']]\n",
    "#     if(not pd.isnull(df_annot.iloc[ind]['RFP_R3pre'])):\n",
    "#         df_tmp.loc[0, 'Extension_RFP_R3pre'] = GR_mapping[df_annot.iloc[ind]['RFP_R3pre']]\n",
    "\n",
    "# ### extensions: R4precursor\n",
    "# if(not pd.isnull(df_annot.iloc[ind]['Extension_R4pre'])):\n",
    "    \n",
    "#     if(isPrint):\n",
    "#         print('R4')\n",
    "        \n",
    "#     # info about R4pre extension\n",
    "#     iE4 = int(df_annot.iloc[ind]['Extension_R4pre'])\n",
    "#     if(isPrint):\n",
    "#         print('R4: ' + str(iE4))\n",
    "#     aE4 = extension_df.loc[iE4, 'Angle']\n",
    "#     lE4 = extension_df.loc[iE4, 'Length']\n",
    "    \n",
    "#     # extension vector\n",
    "#     scE4 = cR4 # originate point of the vector\n",
    "#     tcE4 = np.array([scE4[0] + lE4 * np.cos(aE4) , scE4[1] + lE4 * np.sin(aE4)]) # end point of the vector\n",
    "    \n",
    "#     # project R4 extension to the middle-point\n",
    "#     scE4p = cRm\n",
    "#     tcE4p = np.array([scE4p[0] + lE4 * np.cos(aE4) , scE4p[1] + lE4 * np.sin(aE4)])\n",
    "    \n",
    "#     # inner angles\n",
    "#     aE4RmT7 = my.inner_angle(cT7-cRm, tcE4p-scE4p, True) # extension to T7\n",
    "#     aE4RmT4 = my.inner_angle(cT4-cRm, tcE4p-scE4p, True) # extension to T4\n",
    "#     aE4RmT3 = my.inner_angle(cT3-cRm, tcE4p-scE4p, True) # extension to T3\n",
    "    \n",
    "#     aE4R4T7 = my.inner_angle(cT7-cR4, tcE4-scE4, True) # extension to T7\n",
    "#     aE4R4T4 = my.inner_angle(cT4-cR4, tcE4-scE4, True) # extension to T4\n",
    "#     aE4R4T3 = my.inner_angle(cT3-cR4, tcE4-scE4, True) # extension to T3\n",
    "    \n",
    "#     aE4RmT0_ = my.inner_angle(axisT0, tcE4p-scE4p, True) # extension to bundle axis\n",
    "    \n",
    "#     aT3R4T4 = my.inner_angle(cT4 - cR4, cT3 - cR4, True) # angle from T3 to T4\n",
    "#     aT4R4T7 = my.inner_angle(cT7 - cR4, cT4 - cR4, True) # angle from T4 to T7\n",
    "    \n",
    "#     # angle relative to T4, originate at R4\n",
    "#     comp4 = getInterpolate(tcE4, cR4, cT4)\n",
    "#     #comp4 = np.interp(tcE4[0], np.vstack((cRm, cT4))[:,0], np.vstack((cRm, cT4))[:,1])\n",
    "#     if(cR3[1] <= cR4[1]):                   # R3 at bottom and R4 at top\n",
    "#         if(tcE4[1] >= comp4):               # entension between T4 and T7\n",
    "#             angle1v1_R4 = aE4R4T4/aT4R4T7\n",
    "#         else:                               # entension between T3 and T4\n",
    "#             angle1v1_R4 = - aE4R4T4/aT3R4T4\n",
    "#     else:                                   # R3 at top and R4 at bottom\n",
    "#         if(tcE4[1] <= comp4):               # entension between T4 and T7\n",
    "#             angle1v1_R4 = aE4R4T4/aT4R4T7\n",
    "#         else:                               # entension between T3 and T4\n",
    "#             angle1v1_R4 = - aE4R4T4/aT3R4T4\n",
    "#     df_tmp.loc[0, 'Extension_angle_R4pre_toTarget'] = angle1v1_R4\n",
    "    \n",
    "#     # angle relative to bundle axis\n",
    "#     compp4 = getInterpolate(tcE4p, cRm, cT0_)\n",
    "#     #compp4 = (tcE4p[1] - cRm[1])/(tcE4p[0] - cRm[0]) * (cT0_[0] - cRm[0]) + cRm[1]\n",
    "#     #compp4 = np.interp(tcE4p[0], np.vstack((cRm, cT0_))[:,0], np.vstack((cRm, cT0_))[:,1])\n",
    "#     if(cR3[1] <= cR4[1]):                   # R3 at bottom and R4 is at top.\n",
    "#         if(tcE4p[1] >= compp4):              # entension between T4 and T7\n",
    "#             angle1v2_R4 = aE4RmT0_/aT0_RmT7\n",
    "#         else:                               # entension between T3 and T4\n",
    "#             angle1v2_R4 = aE4RmT0_/aT3RmT0_\n",
    "#     else:                                   # R3 at top and R4 at bottom\n",
    "#         if(tcE4p[1] <= compp4):              # entension between T4 and T7\n",
    "#             angle1v2_R4 = aE4RmT0_/aT0_RmT7\n",
    "#         else:                               # entension between T3 and T4\n",
    "#             angle1v2_R4 = aE4RmT0_/aT3RmT0_\n",
    "#     df_tmp.loc[0, 'Extension_angle_R4pre_toBundle'] = angle1v2_R4\n",
    "    \n",
    "#     # update extension_df:\n",
    "#     extension_df.loc[iE4, 'Start_X'] = scE4[0]\n",
    "#     extension_df.loc[iE4, 'Start_Y'] = scE4[1]\n",
    "#     extension_df.loc[iE4, 'End_X'] = tcE4[0]\n",
    "#     extension_df.loc[iE4, 'End_Y'] = tcE4[1]\n",
    "#     extension_df.loc[iE4, 'innerAngle_T3'] = aE4R4T3\n",
    "#     extension_df.loc[iE4, 'innerAngle_T4'] = aE4R4T4\n",
    "#     extension_df.loc[iE4, 'innerAngle_T7'] = aE4R4T7\n",
    "#     extension_df.loc[iE4, 'innerAngle_bundleAxis'] = aE4RmT0_\n",
    "\n",
    "#     # update df_annot:\n",
    "#     if(min(aE4R4T3, aE4R4T4, aE4R4T7) == aE4R4T3):\n",
    "#         pT_R4 = 'T3'\n",
    "#     elif(min(aE4R4T3, aE4R4T4, aE4R4T7) == aE4R4T4):\n",
    "#         pT_R4 = 'T4'\n",
    "#     else:\n",
    "#         pT_R4 = 'T3_'\n",
    "#     df_annot.loc[ind, 'Extension_target_R4pre'] = pT_R4\n",
    "#     df_tmp.loc[0, 'Extension_target_R4pre'] = pT_R4\n",
    "\n",
    "#     # update bundles_df:\n",
    "#     df_tmp.loc[0, 'Extension_angle_R4pre'] = aE4\n",
    "#     df_tmp.loc[0, 'Extension_length_R4pre'] = lE4\n",
    "#     if(not pd.isnull(df_annot.iloc[ind]['GFP_R4pre'])):\n",
    "#         df_tmp.loc[0, 'Extension_GFP_R4pre'] = GR_mapping[df_annot.iloc[ind]['GFP_R4pre']]\n",
    "#     if(not pd.isnull(df_annot.iloc[ind]['RFP_R4pre'])):\n",
    "#         df_tmp.loc[0, 'Extension_RFP_R4pre'] = GR_mapping[df_annot.iloc[ind]['RFP_R4pre']]\n",
    "#     #df_tmp.loc[0, 'Extension_angle_R4pre_toBundle'] = aE4T0/aT3T0T7\n",
    "\n",
    "# if((not pd.isnull(df_annot.iloc[ind]['Extension_R3pre'])) & (not pd.isnull(df_annot.iloc[ind]['Extension_R4pre'])) ) :\n",
    "#     # whether extension is symmetrical:\n",
    "#     #df_annot.loc[ind, 'Extension_symmetricity'] = aE3T0 - aE4T0\n",
    "#     # relative length\n",
    "#     df_tmp.loc[0, 'Extension_relaLength_R3pre'] = lE3/lE4\n",
    "#     df_tmp.loc[0, 'Extension_relaLength_R4pre'] = 1\n",
    "\n",
    "# ### confidences.\n",
    "# df_tmp.loc[0, cof_cols] = df_annot.iloc[ind][cof_cols]\n",
    "\n",
    "# ### append temp to bundle_df\n",
    "# bundles_df = bundles_df.append(df_tmp, ignore_index=True)\n",
    "\n",
    "# ### further clean up bundles_df\n",
    "# # set bundleNo as index\n",
    "# bundles_df.set_index('bundleNo', inplace=True) \n",
    "\n",
    "# # remove 'NaN' strings\n",
    "# bundles_df.loc[pd.isnull(bundles_df.loc[:,'Extension_GFP_R3pre']) == True,'Extension_GFP_R3pre'] = 0\n",
    "# bundles_df.loc[pd.isnull(bundles_df.loc[:,'Extension_RFP_R3pre']) == True,'Extension_RFP_R3pre'] = 0\n",
    "# bundles_df.loc[pd.isnull(bundles_df.loc[:,'Extension_GFP_R4pre']) == True,'Extension_GFP_R4pre'] = 0\n",
    "# bundles_df.loc[pd.isnull(bundles_df.loc[:,'Extension_RFP_R4pre']) == True,'Extension_RFP_R4pre'] = 0"
   ]
  },
  {
   "cell_type": "code",
   "execution_count": null,
   "metadata": {},
   "outputs": [],
   "source": [
    "df_annot.iloc[0]['Off_grid'].astype('int')"
   ]
  },
  {
   "cell_type": "code",
   "execution_count": null,
   "metadata": {
    "collapsed": true,
    "scrolled": true
   },
   "outputs": [],
   "source": [
    "\"\"\" Update angle info \"\"\"\n",
    "df_annot, Rheels_df, extension_df, bundles_df = my.updateAnglesInfo(df_annot, Rheels_df, extension_df, region_name, False)"
   ]
  },
  {
   "cell_type": "code",
   "execution_count": null,
   "metadata": {
    "collapsed": true
   },
   "outputs": [],
   "source": [
    "\"\"\" Clean up bundles_df \"\"\"\n",
    "## remove data with low confidence\n",
    "bundles_df = my.removeLowConf(bundles_df)"
   ]
  },
  {
   "cell_type": "code",
   "execution_count": null,
   "metadata": {
    "collapsed": true
   },
   "outputs": [],
   "source": [
    "\"\"\" Checking bundles \"\"\""
   ]
  },
  {
   "cell_type": "code",
   "execution_count": null,
   "metadata": {
    "collapsed": true
   },
   "outputs": [],
   "source": [
    "# ### plot one bundle:\n",
    "# df_annot_sub = df_annot.loc[df_annot['Region_Name'] == region_name]\n",
    "# no = 50\n",
    "# isBundleNo = False\n",
    "# RcellCoorColls =  my. group_headers(Rheels_df, 'coor_', True)\n",
    "# if(isBundleNo):\n",
    "#     bundleNo = no\n",
    "#     ind = list(Rheels_df.index).index(bundleNo)\n",
    "# else:\n",
    "#     ind = no\n",
    "#     bundleNo = Rheels_df.index[no]\n",
    "# print(ind, bundleNo)\n",
    "# points = np.reshape(Rheels_df.loc[bundleNo,RcellCoorColls].values, (6,2))\n",
    "# center = np.array([Rheels_df.loc[bundleNo, 'shape_CenterX'],Rheels_df.loc[bundleNo, 'shape_CenterY']])\n",
    "# axis = np.array([Rheels_df.loc[bundleNo, 'shape_MajorAxis'],Rheels_df.loc[bundleNo, 'shape_MinorAxis']])\n",
    "# phi = Rheels_df.loc[bundleNo, 'shape_phi']\n",
    "# ellipseXY =  my.getEllipseXY(center, axis, phi)\n",
    "\n",
    "# # R3 and R4s\n",
    "# cR3 = np.array([ Rheels_df.loc[bundleNo, 'coor_R3_X'], Rheels_df.loc[bundleNo, 'coor_R3_Y'] ])\n",
    "# cR4 = np.array([ Rheels_df.loc[bundleNo, 'coor_R4_X'], Rheels_df.loc[bundleNo, 'coor_R4_Y'] ])\n",
    "\n",
    "# ### plot points\n",
    "# fix, ax = plt.subplots(1,1)\n",
    "# for i in range(6):\n",
    "#     #ax.plot(points[i,0], points[i,1], marker = 'o', fillstyle='none', markeredgecolor = RcellColors[i], markeredgewidth = 0.2)\n",
    "#     ax.plot(points[i,0], points[i,1], color = RcellColors[i], marker = 'o', alpha = 0.5, markersize=12)\n",
    "\n",
    "# ### plot ellipse\n",
    "# ax.plot(center[0], center[1], color = '0.5', marker = 'o', markersize=12)\n",
    "# ax.plot(ellipseXY[:,0], ellipseXY[:,1], color = '0.5')\n",
    "\n",
    "# ### plot bundle axis\n",
    "# bundle_axis = np.array([ Rheels_df.loc[bundleNo, 'bundle_axis_X'], Rheels_df.loc[bundleNo, 'bundle_axis_Y'] ])\n",
    "# span = np.arange(0, 5, 1)\n",
    "# cRm = (cR3 + cR4)/2\n",
    "# line =  my. getLine(cRm, bundle_axis, span)\n",
    "# ax.plot(line[:,0], line[:,1], color = '0.5', linewidth = 2.0)\n",
    "\n",
    "# ### plot extensions\n",
    "# isR3 = (not pd.isnull(df_annot_sub.loc[list(df_annot_sub['Bundle_No'] == bundleNo),'Extension_R3pre'].values[0]))\n",
    "# isR4 = (not pd.isnull(df_annot_sub.loc[list(df_annot_sub['Bundle_No'] == bundleNo),'Extension_R4pre'].values[0]))\n",
    "# if(isR3 | isR4):\n",
    "#     # putative target index\n",
    "#     iT3 = df_annot_sub.loc[df_annot_sub['Bundle_No'] == bundleNo,'Target_T3'].values[0].astype(int)\n",
    "#     iT4 = df_annot_sub.loc[df_annot_sub['Bundle_No'] == bundleNo,'Target_T4'].values[0].astype(int)\n",
    "#     iT7 = df_annot_sub.loc[df_annot_sub['Bundle_No'] == bundleNo,'Target_T7'].values[0].astype(int)\n",
    "#     # target position\n",
    "#     cT3 = np.array([Rheels_df.loc[iT3,'shape_CenterX'],Rheels_df.loc[iT3,'shape_CenterY']])\n",
    "#     cT4 = np.array([Rheels_df.loc[iT4,'shape_CenterX'],Rheels_df.loc[iT4,'shape_CenterY']])\n",
    "#     cT7 = np.array([Rheels_df.loc[iT7,'shape_CenterX'],Rheels_df.loc[iT7,'shape_CenterY']])\n",
    "#     # plot target\n",
    "#     ax.plot(cT3[0], cT3[1], marker = 'd', color = RcellColors[2], markersize=12)\n",
    "#     ax.plot(cT4[0], cT4[1], marker = 'd', color = RcellColors[3], markersize=12)\n",
    "#     ax.plot(cT7[0], cT7[1], marker = 'd', color = RcellColors[2], markersize=12)\n",
    "\n",
    "#     # R3-pre extension\n",
    "#     if(isR3):\n",
    "#         iE3 = df_annot_sub.loc[df_annot_sub['Bundle_No'] == bundleNo, 'Extension_R3pre'].values[0].astype(int)\n",
    "#         icolor = my.detPlotColor(df_annot_sub, ind, 'Extension_target_R3pre')\n",
    "#         scE3 = np.array([ extension_df.loc[iE3, 'Start_X'], extension_df.loc[iE3, 'Start_Y'] ])\n",
    "#         tcE3 = np.array([ extension_df.loc[iE3, 'End_X'], extension_df.loc[iE3, 'End_Y'] ])\n",
    "#         ax.plot(scE3[0], scE3[1], marker = '*', color = RcellColors[icolor], markersize=10)\n",
    "#         ax.plot(np.vstack((scE3,tcE3))[:,0], np.vstack((scE3,tcE3))[:,1], color = RcellColors[icolor], linewidth=2.0)\n",
    "\n",
    "#     # R4-pre extension\n",
    "#     if(isR4):\n",
    "#         iE4 = df_annot_sub.loc[df_annot_sub['Bundle_No'] == bundleNo, 'Extension_R4pre'].values[0].astype(int)\n",
    "#         icolor = my.detPlotColor(df_annot_sub, ind, 'Extension_target_R4pre')\n",
    "#         scE4 = np.array([ extension_df.loc[iE4, 'Start_X'], extension_df.loc[iE4, 'Start_Y'] ])\n",
    "#         tcE4 = np.array([ extension_df.loc[iE4, 'End_X'], extension_df.loc[iE4, 'End_Y'] ])\n",
    "#         ax.plot(scE4[0], scE4[1], marker = '*', color = RcellColors[icolor], markersize=10)\n",
    "#         ax.plot(np.vstack((scE4,tcE4))[:,0], np.vstack((scE4,tcE4))[:,1], color = RcellColors[icolor], linewidth=2.0)\n",
    "\n",
    "# ax.set_title('Bundle No. ' + str(bundleNo))"
   ]
  },
  {
   "cell_type": "code",
   "execution_count": null,
   "metadata": {
    "collapsed": true
   },
   "outputs": [],
   "source": [
    "region_name"
   ]
  },
  {
   "cell_type": "code",
   "execution_count": null,
   "metadata": {
    "collapsed": true,
    "scrolled": false
   },
   "outputs": [],
   "source": [
    "\"\"\" Examine bundles \"\"\"\n",
    "my.plotOneBundle(region_name, Rheels_df, df_annot, extension_df, bundles_df, 0, False)"
   ]
  },
  {
   "cell_type": "code",
   "execution_count": null,
   "metadata": {
    "collapsed": true
   },
   "outputs": [],
   "source": [
    "bundles_df.shape"
   ]
  },
  {
   "cell_type": "code",
   "execution_count": null,
   "metadata": {
    "collapsed": true
   },
   "outputs": [],
   "source": [
    "my.plotAllBundlesInSubplots(region_name, bundles_df, Rheels_df, df_annot, extension_df, (20, 20), (0.8, 0.8))"
   ]
  },
  {
   "cell_type": "code",
   "execution_count": null,
   "metadata": {
    "collapsed": true
   },
   "outputs": [],
   "source": [
    "my.plotAllBundlesTogether(region_name, Rheels_df, df_annot, extension_df, bundles_df, (20, 20))"
   ]
  },
  {
   "cell_type": "code",
   "execution_count": null,
   "metadata": {
    "collapsed": true
   },
   "outputs": [],
   "source": [
    "\"\"\"Plotting\"\"\"\n",
    "sns.set(font_scale=1.5)"
   ]
  },
  {
   "cell_type": "code",
   "execution_count": null,
   "metadata": {
    "collapsed": true,
    "scrolled": true
   },
   "outputs": [],
   "source": [
    "### relative length\n",
    "a = bundles_df.Extension_relaLength_R3pre.values.astype(float)\n",
    "a = a[~np.isnan(a)]\n",
    "sns.distplot(a, color=RcellColors[2])\n",
    "plt.title('Relative length of R3')"
   ]
  },
  {
   "cell_type": "code",
   "execution_count": null,
   "metadata": {
    "collapsed": true,
    "scrolled": false
   },
   "outputs": [],
   "source": [
    "### length as joint-plot\n",
    "lengthHeaders = my.group_headers(bundles_df, 'Extension_length_', True)\n",
    "a = bundles_df.loc[:,lengthHeaders]\n",
    "a.loc[:] = a.values.astype('float')\n",
    "a.dropna(axis=0, how='any', thresh=None, subset=None, inplace=True)\n",
    "fig = plt.figure(figsize = (6,6))\n",
    "g = sns.jointplot(lengthHeaders[1],lengthHeaders[0], data=a, kind=\"reg\")"
   ]
  },
  {
   "cell_type": "code",
   "execution_count": null,
   "metadata": {
    "collapsed": true,
    "scrolled": true
   },
   "outputs": [],
   "source": [
    "### get the slope and intersection of linear fit of length\n",
    "regr = linear_model.LinearRegression()\n",
    "x = a.loc[:,lengthHeaders[1]].values.reshape((len(a.loc[:,lengthHeaders[1]].values), 1))\n",
    "y = a.loc[:,lengthHeaders[0]].values.reshape((len(a.loc[:,lengthHeaders[1]].values), 1))\n",
    "regr.fit(x, y)\n",
    "y_pred = regr.predict(x)\n",
    "regr.coef_, regr.intercept_, metrics.mean_squared_error(y, y_pred), metrics.r2_score(y, y_pred)"
   ]
  },
  {
   "cell_type": "code",
   "execution_count": null,
   "metadata": {
    "collapsed": true,
    "scrolled": true
   },
   "outputs": [],
   "source": [
    "### angle to bundle\n",
    "aR3b = bundles_df.Extension_angle_R3pre_toBundle\n",
    "aR3b.dropna(axis=0, how='any',inplace=True)\n",
    "aR4b = bundles_df.Extension_angle_R4pre_toBundle\n",
    "aR4b.dropna(axis=0, how='any',inplace=True)\n",
    "\n",
    "ks, pval = stats.ks_2samp(aR3b.values, aR4b.values)\n",
    "\n",
    "fig = plt.figure(figsize = (6,6))\n",
    "ax = plt.subplot()\n",
    "sns.distplot(aR3b.values, kde=True, color=RcellColors[2])\n",
    "sns.distplot(aR4b.values, kde=True, color=RcellColors[3])\n",
    "# #h1 = plt.hist(R3, bins = 20, alpha = 0.8, color = 'r', normed=True)\n",
    "# #h2 = plt.hist(R4, bins = 10, alpha = 0.8, color = 'y', normed=True)\n",
    "plt.legend(('R3', 'R4'), fontsize=12)\n",
    "plt.title('Relative extension angle', fontsize=15)\n",
    "text = 'KS = %.2f' % pval\n",
    "ax.text(1,1, text, fontsize=12)\n",
    "plt.setp(ax.get_xticklabels(), fontsize=12)\n",
    "plt.setp(ax.get_yticklabels(), fontsize=12)"
   ]
  },
  {
   "cell_type": "code",
   "execution_count": null,
   "metadata": {
    "collapsed": true,
    "scrolled": true
   },
   "outputs": [],
   "source": [
    "### angle to target\n",
    "aR3t = bundles_df.Extension_angle_R3pre_toTarget\n",
    "aR3t.dropna(axis=0, how='any',inplace=True)\n",
    "aR4t = bundles_df.Extension_angle_R4pre_toTarget\n",
    "aR4t.dropna(axis=0, how='any',inplace=True)\n",
    "\n",
    "ks, pval = stats.ks_2samp(aR3t.values, aR4t.values)\n",
    "\n",
    "\n",
    "fig = plt.figure(figsize = (6,6))\n",
    "ax = plt.subplot()\n",
    "sns.distplot(aR3t.values, kde=True, color=RcellColors[2])\n",
    "sns.distplot(aR4t.values, kde=True, color=RcellColors[3])\n",
    "# #h1 = plt.hist(R3, bins = 20, alpha = 0.8, color = 'r', normed=True)\n",
    "# #h2 = plt.hist(R4, bins = 10, alpha = 0.8, color = 'y', normed=True)\n",
    "plt.legend(('R3', 'R4'), fontsize=12)\n",
    "plt.title('Relative extension angle', fontsize=15)\n",
    "# text = 'KS = %.7f' % pval\n",
    "# ax.text(1.4,1, text, fontsize=12)\n",
    "plt.setp(ax.get_xticklabels(), fontsize=12)\n",
    "plt.setp(ax.get_yticklabels(), fontsize=12)"
   ]
  },
  {
   "cell_type": "code",
   "execution_count": null,
   "metadata": {
    "collapsed": true
   },
   "outputs": [],
   "source": [
    "bundles_df.columns"
   ]
  },
  {
   "cell_type": "code",
   "execution_count": null,
   "metadata": {
    "collapsed": true
   },
   "outputs": [],
   "source": [
    "### angle (relative to bundle) and length\n",
    "df_toBundle = pd.DataFrame(columns = ['cell_type', 'length', 'angle'])\n",
    "for i in range(len(bundles_df)):\n",
    "    df_toBundle.loc[2*i, 'cell_type'] = 'R3'\n",
    "    df_toBundle.loc[2*i, 'length'] = bundles_df.iloc[i]['Extension_length_R3pre']\n",
    "    df_toBundle.loc[2*i, 'angle'] = bundles_df.iloc[i]['Extension_angle_R3pre_toBundle']\n",
    "    \n",
    "    df_toBundle.loc[2*i+1, 'cell_type'] = 'R4'\n",
    "    df_toBundle.loc[2*i+1, 'length'] = bundles_df.iloc[i]['Extension_length_R4pre'] \n",
    "    df_toBundle.loc[2*i+1, 'angle'] = bundles_df.iloc[i]['Extension_angle_R4pre_toBundle']\n",
    "df_toBundle.dropna(axis=0, how='any',inplace=True)\n",
    "\n",
    "X = df_toBundle.loc[:,['length', 'angle']].values\n",
    "y = df_toBundle.loc[:,'cell_type']\n",
    "classes = df_toBundle.cell_type.unique()\n",
    "colors = RcellColors[2:4]\n",
    "my.plotScatter(X, y, classes, colors, 'Angle-Length Plot', 'length', 'angle')"
   ]
  },
  {
   "cell_type": "code",
   "execution_count": null,
   "metadata": {
    "collapsed": true
   },
   "outputs": [],
   "source": [
    "### angle (relative to bundle) and length\n",
    "df_toTarget = pd.DataFrame(columns = ['cell_type', 'length', 'angle'])\n",
    "for i in range(len(bundles_df)):\n",
    "    df_toTarget.loc[2*i, 'cell_type'] = 'R3'\n",
    "    df_toTarget.loc[2*i, 'length'] = bundles_df.iloc[i]['Extension_length_R3pre']\n",
    "    df_toTarget.loc[2*i, 'angle'] = bundles_df.iloc[i]['Extension_angle_R3pre_toTarget']\n",
    "    \n",
    "    df_toTarget.loc[2*i+1, 'cell_type'] = 'R4'\n",
    "    df_toTarget.loc[2*i+1, 'length'] = bundles_df.iloc[i]['Extension_length_R4pre'] \n",
    "    df_toTarget.loc[2*i+1, 'angle'] = bundles_df.iloc[i]['Extension_angle_R4pre_toTarget']\n",
    "df_toBundle.dropna(axis=0, how='any',inplace=True)\n",
    "\n",
    "X = df_toBundle.loc[:,['length', 'angle']].values\n",
    "y = df_toBundle.loc[:,'cell_type']\n",
    "classes = df_toBundle.cell_type.unique()\n",
    "colors = RcellColors[2:4]\n",
    "my.plotScatter(X, y, classes, colors, 'Angle-Length Plot', 'length', 'angle')"
   ]
  },
  {
   "cell_type": "code",
   "execution_count": null,
   "metadata": {
    "collapsed": true
   },
   "outputs": [],
   "source": [
    "### GFP/RFPs\n",
    "groups = my.group_headers(bundles_df, 'Extension_GFP', True) + my.group_headers(bundles_df, 'Extension_RFP', True)\n",
    "countMatrix = np.zeros((4,4))\n",
    "for i in range(4):\n",
    "    groupSize = bundles_df.groupby(groups[i]).size()\n",
    "    for ind in groupSize.index:\n",
    "        countMatrix[ind,i] = groupSize.loc[ind]\n",
    "countMatrix = countMatrix / countMatrix.sum(axis = 0)\n",
    "# R3_gfp = bundles_df.groupby('Extension_GFP_R3pre').size()\n",
    "# R3_rfp = bundles_df.groupby('Extension_RFP_R3pre').size()\n",
    "# R4_gfp = bundles_df.groupby('Extension_GFP_R4pre').size()\n",
    "# R4_rfp = bundles_df.groupby('Extension_RFP_R4pre').size()"
   ]
  },
  {
   "cell_type": "code",
   "execution_count": null,
   "metadata": {
    "collapsed": true
   },
   "outputs": [],
   "source": [
    "fig = plt.figure(figsize = (8,4))\n",
    "#fig = plt.figure()\n",
    "ind = np.arange(2)\n",
    "width = 0.7\n",
    "ylim = (0, 1)\n",
    "\n",
    "ax1 = plt.subplot(121)\n",
    "p1 = plt.bar(ind, countMatrix[0,0:2], width, color = '#CFCFCF', label=\"None\")\n",
    "p2 = plt.bar(ind, countMatrix[1,0:2], width, bottom = my.sumzip(countMatrix[0,0:2]), color = '#A8FC9B', label=\"Weak\")\n",
    "p3 = plt.bar(ind, countMatrix[2,0:2], width, bottom = my.sumzip(countMatrix[0,0:2], countMatrix[1,0:2]), color = '#61FF49', label=\"Medium\")\n",
    "p4 = plt.bar(ind, countMatrix[3,0:2], width, bottom = my.sumzip(countMatrix[0,0:2], countMatrix[1,0:2], countMatrix[2,0:2]), color = '#1DDF00', label=\"Strong\")\n",
    "ax1.set_ylim(ylim)\n",
    "ax1.set_xticks(ind)\n",
    "ax1.set_xticklabels(('R3pos_GFP', 'R4pos_GFP'))\n",
    "box = ax1.get_position()\n",
    "ax1.set_position([box.x0, box.y0, box.width * 0.7, box.height])\n",
    "ax1.set_title('GFP expression')\n",
    "plt.legend(bbox_to_anchor=(1.01, 1), loc=2, borderaxespad=0.)\n",
    "\n",
    "ax2 = plt.subplot(122)\n",
    "p5 = plt.bar(ind, countMatrix[0,2:], width, color = '#CFCFCF', label=\"None\")\n",
    "p6 = plt.bar(ind, countMatrix[1,2:], width, bottom = my.sumzip(countMatrix[0,2:]), color = '#FF8383', label=\"Weak\")\n",
    "p7 = plt.bar(ind, countMatrix[2,2:], width, bottom = my.sumzip(countMatrix[0,2:], countMatrix[1,2:]), color = '#FF5050', label=\"Medium\")\n",
    "p8 = plt.bar(ind, countMatrix[3,2:], width, bottom = my.sumzip(countMatrix[0,2:], countMatrix[1,2:], countMatrix[2,2:]), color = '#DB0000', label=\"Strong\")\n",
    "ax2.set_ylim(ylim)\n",
    "ax2.set_xticks(ind)\n",
    "ax2.set_xticklabels(('R3pos_RFP', 'R4pos_RFP'))\n",
    "box = ax2.get_position()\n",
    "ax2.set_position([box.x0, box.y0, box.width * 0.7, box.height])\n",
    "ax2.set_title('RFP expression')\n",
    "plt.legend(bbox_to_anchor=(1.01, 1), loc=2, borderaxespad=0.)"
   ]
  },
  {
   "cell_type": "code",
   "execution_count": null,
   "metadata": {
    "collapsed": true
   },
   "outputs": [],
   "source": [
    "countMatrix"
   ]
  },
  {
   "cell_type": "code",
   "execution_count": null,
   "metadata": {
    "collapsed": true
   },
   "outputs": [],
   "source": []
  }
 ],
 "metadata": {
  "kernelspec": {
   "display_name": "Python 3",
   "language": "python",
   "name": "python3"
  },
  "language_info": {
   "codemirror_mode": {
    "name": "ipython",
    "version": 3
   },
   "file_extension": ".py",
   "mimetype": "text/x-python",
   "name": "python",
   "nbconvert_exporter": "python",
   "pygments_lexer": "ipython3",
   "version": "3.6.1"
  }
 },
 "nbformat": 4,
 "nbformat_minor": 2
}
