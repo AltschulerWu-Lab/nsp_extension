{
 "cells": [
  {
   "cell_type": "code",
   "execution_count": null,
   "metadata": {},
   "outputs": [],
   "source": [
    "%matplotlib inline\n",
    "\n",
    "import io, os, sys, types, datetime, pickle, warnings\n",
    "\n",
    "warnings.filterwarnings('ignore')\n",
    "\n",
    "import pandas as pd\n",
    "\n",
    "import matplotlib\n",
    "import matplotlib.pyplot as plt\n",
    "from matplotlib.colors import BoundaryNorm\n",
    "from matplotlib.ticker import MaxNLocator\n",
    "\n",
    "import numpy as np\n",
    "from numpy.linalg import eig, inv\n",
    "\n",
    "import math\n",
    "\n",
    "from scipy import interpolate, spatial, stats\n",
    "\n",
    "import seaborn as sns\n",
    "\n",
    "import skimage.io as skiIo\n",
    "from skimage import exposure, img_as_float, filters, morphology, transform\n",
    "\n",
    "from sklearn import linear_model\n",
    "from sklearn import metrics"
   ]
  },
  {
   "cell_type": "code",
   "execution_count": null,
   "metadata": {
    "scrolled": true
   },
   "outputs": [],
   "source": [
    "\"\"\" ============== path settings ==============\"\"\""
   ]
  },
  {
   "cell_type": "code",
   "execution_count": null,
   "metadata": {},
   "outputs": [],
   "source": [
    "module_path = os.path.join(os.path.dirname(os.getcwd()), 'python_cluster', 'functions')"
   ]
  },
  {
   "cell_type": "code",
   "execution_count": null,
   "metadata": {},
   "outputs": [],
   "source": [
    "module_path"
   ]
  },
  {
   "cell_type": "code",
   "execution_count": null,
   "metadata": {},
   "outputs": [],
   "source": [
    "# env = 'Windows'\n",
    "# if(env == 'Windows'):\n",
    "#     module_path = 'W:\\\\2019_09_NSP_Extension\\\\code\\\\NSP_codes\\\\python_cluster\\\\helper_functions'\n",
    "# elif(env == 'Mac'):\n",
    "#     module_path = '/Users/lily/Lily/Academic/AW_Lab/code/python_cluster/helper_functions'"
   ]
  },
  {
   "cell_type": "code",
   "execution_count": null,
   "metadata": {},
   "outputs": [],
   "source": [
    "# Mac, Figure_Output1, Data_Output1, Ctrl_22hrs_Gal80_s3r101_annotation.csv, 0, 1, 15, 5, 20, 5, 1"
   ]
  },
  {
   "cell_type": "code",
   "execution_count": null,
   "metadata": {
    "scrolled": true
   },
   "outputs": [],
   "source": [
    "### import custom functions\n",
    "if module_path not in sys.path:\n",
    "    sys.path.append(module_path)\n",
    "import settings as settings\n",
    "import helper as my_help\n",
    "import intensity_calculation as my_int\n",
    "import parse_bundle as my_pb\n",
    "import plotting4 as my_plot"
   ]
  },
  {
   "cell_type": "code",
   "execution_count": null,
   "metadata": {},
   "outputs": [],
   "source": [
    "paths = settings.paths\n",
    "matching_info = settings.matching_info\n",
    "analysis_params_general = settings.analysis_params_general"
   ]
  },
  {
   "cell_type": "code",
   "execution_count": null,
   "metadata": {},
   "outputs": [],
   "source": [
    "matching_info"
   ]
  },
  {
   "cell_type": "code",
   "execution_count": null,
   "metadata": {},
   "outputs": [],
   "source": [
    "paths.code_path"
   ]
  },
  {
   "cell_type": "code",
   "execution_count": null,
   "metadata": {},
   "outputs": [],
   "source": [
    "\"\"\"============== main ==============\"\"\""
   ]
  },
  {
   "cell_type": "code",
   "execution_count": null,
   "metadata": {},
   "outputs": [],
   "source": [
    "sns.set_style(\"dark\")"
   ]
  },
  {
   "cell_type": "code",
   "execution_count": null,
   "metadata": {},
   "outputs": [],
   "source": [
    "paths.annot_path"
   ]
  },
  {
   "cell_type": "code",
   "execution_count": null,
   "metadata": {},
   "outputs": [],
   "source": [
    "\"\"\"Load data\"\"\"\n",
    "### load summaries\n",
    "summary_df = pd.read_csv(paths.annot_path)\n",
    "image_list = summary_df.loc[:,'Image_Name'].unique()\n",
    "ROI_list = summary_df.loc[:,'ROI_Name'].unique()"
   ]
  },
  {
   "cell_type": "code",
   "execution_count": null,
   "metadata": {
    "scrolled": true
   },
   "outputs": [],
   "source": [
    "image_list, ROI_list"
   ]
  },
  {
   "cell_type": "code",
   "execution_count": null,
   "metadata": {},
   "outputs": [],
   "source": [
    "i_image = 0"
   ]
  },
  {
   "cell_type": "code",
   "execution_count": null,
   "metadata": {
    "scrolled": true
   },
   "outputs": [],
   "source": [
    "### load other data\n",
    "image_name = image_list[i_image]\n",
    "roi_name = ROI_list[i_image]\n",
    "roi_df = pd.read_csv(os.path.join(paths.roi_path, roi_name))\n",
    "roi_df.rename(columns = {' ':'No'}, inplace = True)\n",
    "annot_df = summary_df.groupby(['Image_Name']).get_group(image_list[i_image]).reset_index(drop = True)\n",
    "m2p_ratio = (summary_df.iloc[0]['imgX_pixel']/summary_df.iloc[0]['imgX_um'], summary_df.iloc[0]['imgY_pixel']/summary_df.iloc[0]['imgY_um'])"
   ]
  },
  {
   "cell_type": "code",
   "execution_count": null,
   "metadata": {
    "scrolled": true
   },
   "outputs": [],
   "source": [
    "\"\"\" Process annotation info\"\"\"\n",
    "is_extended_target_list = False\n",
    "annotation_type = annot_df.loc[0,'Annotation_type']\n",
    "if(annotation_type == 1):\n",
    "    bundles_df = my_pb.get_bundles_info_v1(roi_df, annot_df, m2p_ratio[0], m2p_ratio[1], is_extended_target_list)\n",
    "if(annotation_type == 2):\n",
    "    bundles_df = my_pb.get_bundles_info_v2(roi_df, annot_df, m2p_ratio[0], m2p_ratio[1], is_extended_target_list)\n",
    "if(annotation_type == 3):\n",
    "    bundles_df = my_pb.get_bundles_info_v3(roi_df, annot_df, m2p_ratio[0], m2p_ratio[1], is_extended_target_list)\n",
    "annot_bundles_df = bundles_df.dropna(axis=0, how='any', inplace = False)\n",
    "annot_bundles_df.sort_index(inplace = True)"
   ]
  },
  {
   "cell_type": "code",
   "execution_count": null,
   "metadata": {},
   "outputs": [],
   "source": [
    "annot_bundles_df['coord_Z_Center']"
   ]
  },
  {
   "cell_type": "code",
   "execution_count": null,
   "metadata": {},
   "outputs": [],
   "source": [
    "\"\"\"load imaging data\"\"\""
   ]
  },
  {
   "cell_type": "code",
   "execution_count": null,
   "metadata": {
    "scrolled": true
   },
   "outputs": [],
   "source": [
    "%time image = img_as_float(skiIo.imread(os.path.join(paths.image_path, image_name)))\n",
    "image_shape = (image.shape[0], image.shape[1], image.shape[2])\n",
    "image_info = [image_name, image_shape, m2p_ratio]"
   ]
  },
  {
   "cell_type": "code",
   "execution_count": null,
   "metadata": {
    "scrolled": false
   },
   "outputs": [],
   "source": [
    "\"\"\" Process images \"\"\"\n",
    "### number of channels\n",
    "nChannels = min(image.shape)# number of channels of original image\n",
    "is_process_channels = True\n",
    "if not is_process_channels:\n",
    "    num_norm_channels = len(matching_info.channel_mapping_checking.keys()) # number of channels of normalized image\n",
    "else:\n",
    "    num_norm_channels = len(matching_info.channel_cmap.keys())\n",
    "    \n",
    "if(nChannels == 2):\n",
    "    print(\"2 channels!\")\n",
    "    ### normalize channels\n",
    "    image_norm = np.empty(image_shape + (num_norm_channels,), dtype=image[:,0,:,:].dtype, order='C')\n",
    "    thr = np.zeros((2))\n",
    "    \n",
    "    # RFP_norm\n",
    "    %time image_norm[:,:,:,0] = exposure.rescale_intensity(image[:,0,:,:], in_range = 'image', out_range='dtype')\n",
    "    # GFP_norm\n",
    "    %time image_norm[:,:,:,1] = exposure.rescale_intensity(image[:,1,:,:], in_range = 'image', out_range='dtype')    \n",
    "    \n",
    "    del image\n",
    "        \n",
    "elif(nChannels == 4):\n",
    "    print(\"4 channels!\")\n",
    "    ### normalize channels\n",
    "    if not is_process_channels:\n",
    "        image_norm = np.empty(image_shape + (num_norm_channels,), dtype=image[:,:,:,1].dtype, order='C')\n",
    "        # RFP_norm\n",
    "        %time image_norm[:,:,:,0] = image[:,:,:,0]\n",
    "        # GFP_norm\n",
    "        %time image_norm[:,:,:,1] = image[:,:,:,1]\n",
    "        # 24b10\n",
    "        %time image_norm[:,:,:,2] = image[:,:,:,2]\n",
    "        # FasII\n",
    "        %time image_norm[:,:,:,3] = image[:,:,:,3]\n",
    "\n",
    "        del image\n",
    "    else:\n",
    "        thr = np.zeros((3))\n",
    "        image_norm = np.empty(image_shape + (num_norm_channels,), dtype=image[:,:,:,1].dtype, order='C')\n",
    "        # RFP_norm\n",
    "        %time image_norm[:,:,:,0] = exposure.rescale_intensity(image[:,:,:,0], in_range = 'image', out_range='dtype')\n",
    "        # GFP_norm\n",
    "        %time image_norm[:,:,:,1] = exposure.rescale_intensity(image[:,:,:,1], in_range = 'image', out_range='dtype')\n",
    "        # FasII norm\n",
    "        %time image_norm[:,:,:,7] = exposure.rescale_intensity(image[:,:,:,3], in_range = 'image', out_range='dtype')\n",
    "        \n",
    "        %time thr[0] = filters.threshold_isodata(image_norm[:,:,:,1])\n",
    "        %time thr[1] = filters.threshold_mean(image_norm[:,:,:,1])\n",
    "        %time thr[2] = filters.threshold_otsu(image_norm[:,:,:,7])\n",
    "\n",
    "        %time gfp = transform.match_histograms(image_norm[:,:,:,1], image_norm[:,:,:,0])\n",
    "\n",
    "        print(\"R3/R4 v1\")\n",
    "        r3_img = image_norm[:,:,:,0] - gfp\n",
    "        r3_img[r3_img<0] = 0\n",
    "        image_norm[:,:,:,2] = exposure.rescale_intensity(r3_img, in_range = 'image', out_range='dtype')\n",
    "        r4_img = image_norm[:,:,:,0] * gfp\n",
    "        image_norm[:,:,:,3] = exposure.rescale_intensity(r4_img, in_range = 'image', out_range='dtype')\n",
    "\n",
    "        print(\"R3/R4 v2\")\n",
    "        gfp_thr = morphology.binary_opening((image_norm[:,:,:,1]>thr[0])*1)\n",
    "        image_norm[:,:,:,4] = exposure.rescale_intensity(image_norm[:,:,:,0] * (1-gfp_thr), in_range = 'image', out_range='dtype')\n",
    "        image_norm[:,:,:,5] = exposure.rescale_intensity(morphology.closing(image_norm[:,:,:,1]*((image_norm[:,:,:,1]>((thr[0] + thr[1])/2))*1)))\n",
    "\n",
    "        print(\"R3 v3\")\n",
    "        my_help.print_to_log(\"R3 v3\")\n",
    "        r3_img = image_norm[:,:,:,0] - gfp*settings.analysis_params_general.scale_factor\n",
    "        r3_img[r3_img<0] = 0\n",
    "        image_norm[:,:,:,6] = exposure.rescale_intensity(r3_img, in_range = 'image', out_range='dtype')\n",
    "        \n",
    "        print(\"FasII intersect\")\n",
    "        fasii_thr = morphology.binary_opening((image_norm[:,:,:,7]>thr[2])*1)\n",
    "        image_norm[:,:,:,8] = exposure.rescale_intensity(image_norm[:,:,:,0] * fasii_thr, in_range = 'image', out_range='dtype')\n",
    "        image_norm[:,:,:,9] = exposure.rescale_intensity(image_norm[:,:,:,1] * fasii_thr, in_range = 'image', out_range='dtype')"
   ]
  },
  {
   "cell_type": "code",
   "execution_count": null,
   "metadata": {
    "scrolled": true
   },
   "outputs": [],
   "source": [
    "\"\"\"example plot\"\"\""
   ]
  },
  {
   "cell_type": "code",
   "execution_count": null,
   "metadata": {
    "scrolled": false
   },
   "outputs": [],
   "source": [
    "bundle_no = 1\n",
    "plotSettings = False, False, False, True #isPlotR3Line, isPlotR4Line, isPlotR4s, isLabelOff\n",
    "my_plot.plot_individual_bundles(bundle_no, bundles_df, image_norm, m2p_ratio[0], m2p_ratio[1], num_subplots = image_norm.shape[-1],\n",
    "                                is_plot_r3_line = False, is_plot_r4_line = False, is_plot_r4 = False, is_label_off = True)\n",
    "plt.show()"
   ]
  },
  {
   "cell_type": "code",
   "execution_count": null,
   "metadata": {},
   "outputs": [],
   "source": [
    "\"\"\"plot all\"\"\""
   ]
  },
  {
   "cell_type": "code",
   "execution_count": null,
   "metadata": {
    "scrolled": true
   },
   "outputs": [],
   "source": [
    "fasii_thr"
   ]
  },
  {
   "cell_type": "code",
   "execution_count": null,
   "metadata": {
    "scrolled": true
   },
   "outputs": [],
   "source": [
    "for ind, bundle_no in enumerate(annot_bundles_df.index):\n",
    "    plotSettings = False, False, False, True #isPlotR3Line, isPlotR4Line, isPlotR4s, isLabelOff\n",
    "    my_plot.plot_individual_bundles(bundle_no, bundles_df, image_norm, m2p_ratio[0], m2p_ratio[1], \n",
    "                                    num_subplots = image_norm.shape[-1], is_plot_r3_line = False, is_plot_r4_line = False, is_plot_r4 = False, is_label_off = True)\n",
    "    plt.show()"
   ]
  },
  {
   "cell_type": "code",
   "execution_count": null,
   "metadata": {},
   "outputs": [],
   "source": [
    "\"\"\"analyze images\"\"\""
   ]
  },
  {
   "cell_type": "code",
   "execution_count": null,
   "metadata": {},
   "outputs": [],
   "source": [
    "import time"
   ]
  },
  {
   "cell_type": "code",
   "execution_count": null,
   "metadata": {},
   "outputs": [],
   "source": [
    "### parameters\n",
    "analysis_params_general = settings.analysis_params_general\n",
    "matching_info = settings.matching_info\n",
    "\n",
    "### initialization\n",
    "print('-----' + image_name + '------')\n",
    "my_help.print_to_log('-----' + image_name + '------')\n",
    "matrix_y = analysis_params_general.num_angle_section + 2 * analysis_params_general.num_outside_angle + 1\n",
    "matrix_x = analysis_params_general.num_x_section + 1\n",
    "matrix_z = analysis_params_general.z_offset * 2 + 1\n",
    "num_norm_channels = image_norm.shape[-1]\n",
    "\n",
    "intensity_matrix = np.zeros((len(annot_bundles_df.index), num_norm_channels, matrix_y, matrix_x, matrix_z))\n",
    "intensity_matrix = intensity_matrix - 100\n",
    "\n",
    "params = [];\n",
    "rel_points = np.zeros((len(annot_bundles_df.index), 9))\n",
    "\n",
    "### thresholds\n",
    "thr_otsu = np.zeros((num_norm_channels))\n",
    "thr_li = np.zeros((num_norm_channels))\n",
    "thr_isodata = np.zeros((num_norm_channels))\n",
    "time_start = time.time()\n",
    "for channel_no in range(num_norm_channels):\n",
    "    thr_otsu[channel_no] = filters.threshold_otsu(image_norm[:,:,:,channel_no])\n",
    "    thr_li[channel_no] = filters.threshold_li(image_norm[:,:,:,channel_no])\n",
    "    thr_isodata[channel_no] = filters.threshold_isodata(image_norm[:,:,:,channel_no])\n",
    "time_end = time.time()\n",
    "time_dur = time_end - time_start\n",
    "my_help.print_to_log(\"total time: \" + str(time_dur))\n",
    "\n",
    "### process\n",
    "for ind, bundle_no in enumerate(annot_bundles_df.index):\n",
    "# ind = 0\n",
    "# bundle_no = 1\n",
    "    print(\"Bundle No: \" + str(bundle_no))\n",
    "    my_help.print_to_log(\"Bundle No: \" + str(bundle_no))\n",
    "\n",
    "    ### targets info\n",
    "    ind_targets, coord_targets = my_help.get_target_coords(bundle_no, bundles_df, matching_info.index_to_target_id)\n",
    "    coord_center = my_help.get_bundle_center(bundle_no, bundles_df)\n",
    "    coord_r4s = my_help.get_rx_coords(bundle_no, bundles_df, ind_targets, 4)\n",
    "    coord_r3s = my_help.get_rx_coords(bundle_no, bundles_df, ind_targets, 3)\n",
    "    coord_rcells = np.concatenate((coord_r4s, coord_r3s))\n",
    "\n",
    "    ### slice info\n",
    "    slice_zero_point = coord_targets[matching_info.target_id_to_index[7],:] # T3'\n",
    "    slice_one_point = coord_targets[matching_info.target_id_to_index[3],:] # T3\n",
    "\n",
    "    length_one_point = coord_targets[matching_info.target_id_to_index[4],:]\n",
    "\n",
    "    center_points = [coord_targets[0,:], coord_center[0,:]]\n",
    "\n",
    "    r_cell_nos = [4,4]\n",
    "\n",
    "\n",
    "    ### get slicing params and calculate matrix\n",
    "    center_type = settings.analysis_params_general.center_type\n",
    "    slice_type = settings.analysis_params_general.slice_type\n",
    "\n",
    "    bundle_params = [\n",
    "        bundle_no, \n",
    "        ind_targets, \n",
    "        coord_targets, \n",
    "        coord_center, \n",
    "        slice_zero_point, \n",
    "        slice_one_point, \n",
    "        length_one_point, \n",
    "        center_points[analysis_params_general.center_type], \n",
    "        r_cell_nos[analysis_params_general.center_type]\n",
    "    ]\n",
    "    if(slice_type == 0):\n",
    "        pp_i, rel_points_i = my_int.get_slice_params_v1(bundles_df, bundle_params, is_print = False, is_plot = False)\n",
    "    elif(slice_type == 1):\n",
    "        pp_i, rel_points_i = my_int.get_slice_params_v3(bundles_df, bundle_params, is_print = False, is_plot = False)\n",
    "    params.append(pp_i)\n",
    "    rel_points[ind, :] = rel_points_i\n",
    "\n",
    "    # calculate matrix\n",
    "    time_start = time.time()\n",
    "    for channel_no in range(num_norm_channels):\n",
    "        my_help.print_to_log(\"Channle No: \" + str(channel_no))\n",
    "        intensity_matrix[ind, channel_no,:,:,:] = my_int.get_intensity_matrix_new(pp_i, image_norm[:,:,:,channel_no])\n",
    "        # intensity_matrix[ind, channel_no,:,:,:] = np.random.randn(intensity_matrix[ind, channel_no,:,:,:].shape[0], intensity_matrix[ind, channel_no,:,:,:].shape[1], intensity_matrix[ind, channel_no,:,:,:].shape[2])\n",
    "    time_end = time.time()\n",
    "    time_dur = time_end - time_start\n",
    "    my_help.print_to_log(\"total time: \" + str(time_dur))"
   ]
  },
  {
   "cell_type": "code",
   "execution_count": null,
   "metadata": {},
   "outputs": [],
   "source": [
    "paths = settings.paths\n",
    "analysis_params_general = settings.analysis_params_general\n",
    "matching_info = settings.matching_info\n",
    "num_norm_channels = image_norm.shape[-1]\n",
    "img_name = image_info[0]\n",
    "\n",
    "for ind, bundle_no in enumerate(annot_bundles_df.index):\n",
    "    print(\"Bundle No: \", bundle_no)\n",
    "    my_help.print_to_log(\"Bundle No: \" + str(bundle_no))\n",
    "\n",
    "    category_id = annot_bundles_df.iloc[0]['CategoryID']\n",
    "    sample_id = annot_bundles_df.iloc[0]['SampleID']\n",
    "    region_id = annot_bundles_df.iloc[0]['RegionID']\n",
    "\n",
    "\n",
    "\n",
    "    ### targets info\n",
    "    ind_targets, coord_targets = my_help.get_target_coords(bundle_no, bundles_df, matching_info.index_to_target_id)\n",
    "    coord_center = my_help.get_bundle_center(bundle_no, bundles_df)\n",
    "    coord_r4s = my_help.get_rx_coords(bundle_no, bundles_df, ind_targets, 4)\n",
    "    coord_r3s = my_help.get_rx_coords(bundle_no, bundles_df, ind_targets, 3)\n",
    "    coord_rs = np.concatenate((coord_r4s, coord_r3s))\n",
    "\n",
    "    ### parameters\n",
    "    pp_i = params[ind]\n",
    "    rel_points_i = rel_points[ind, :]\n",
    "\n",
    "    matrix = my_help.delete_zero_columns(intensity_matrix[ind, :, :, :, :], -100, 3)\n",
    "    if(len(matrix.flatten()) > 0):\n",
    "\n",
    "        ## heat map\n",
    "        plt.ioff()\n",
    "        ori_x = np.round(np.linspace(0, analysis_params_general.radius_expanse_ratio[analysis_params_general.center_type], matrix.shape[2]), 2)\n",
    "        tick_params = [2, 1, ori_x, 21] ### tickTypeX, tickTypeY, tickArg2_X, tickArg2_Y\n",
    "        for thr_function_ids in [0, 1, 2, 3]: # different thresholding methods\n",
    "            thrs = np.zeros((num_norm_channels))\n",
    "            if(thr_function_ids == 0):\n",
    "                thrs = np.zeros((num_norm_channels))\n",
    "            elif(thr_function_ids == 1):\n",
    "                thrs = thr_otsu\n",
    "            elif(thr_function_ids == 2):\n",
    "                thrs = thr_li\n",
    "            elif(thr_function_ids == 3):\n",
    "                thrs = thr_isodata\n",
    "\n",
    "            fig_name = f'{category_id}_s{sample_id}r{region_id}_bundle_no_{bundle_no}_{thr_function_ids}.png'\n",
    "            fig_params = [pp_i, img_name, fig_name]\n",
    "            plot_options = [thrs, thr_function_ids, num_norm_channels]\n",
    "            fig = my_plot.plot_bundle_vs_matrix_all(bundle_no, bundles_df, image_norm, matrix, fig_params, tick_params, plot_options, is_label_off = True, is_save = True, is_true_x_tick = True, is_ori_tick = False)\n",
    "            plt.close(fig)\n",
    "\n",
    "        ## polar plot\n",
    "        fig_params = [pp_i, img_name]\n",
    "        # plot_options = [True, True] # isLabelOff, isSave\n",
    "        for channel_no in range(num_norm_channels):\n",
    "            fig = my_plot.plot_polar(bundle_no, bundles_df, image_norm, channel_no, matrix, fig_params, rel_points_i, is_label_off = True, is_save = True)\n",
    "            plt.close(fig)\n",
    "\n",
    "    else:\n",
    "        print(\"error! No intensity matrix calculated!\")\n"
   ]
  },
  {
   "cell_type": "code",
   "execution_count": null,
   "metadata": {},
   "outputs": [],
   "source": []
  }
 ],
 "metadata": {
  "kernelspec": {
   "display_name": "Python 3",
   "language": "python",
   "name": "python3"
  },
  "language_info": {
   "codemirror_mode": {
    "name": "ipython",
    "version": 3
   },
   "file_extension": ".py",
   "mimetype": "text/x-python",
   "name": "python",
   "nbconvert_exporter": "python",
   "pygments_lexer": "ipython3",
   "version": "3.6.8"
  }
 },
 "nbformat": 4,
 "nbformat_minor": 2
}
