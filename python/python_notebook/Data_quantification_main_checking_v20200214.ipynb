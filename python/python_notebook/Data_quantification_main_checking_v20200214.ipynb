{
 "cells": [
  {
   "cell_type": "code",
   "execution_count": null,
   "metadata": {},
   "outputs": [],
   "source": [
    "%matplotlib inline\n",
    "\n",
    "import io, os, sys, types, datetime, pickle, warnings\n",
    "\n",
    "warnings.filterwarnings('ignore')\n",
    "\n",
    "import pandas as pd\n",
    "\n",
    "import matplotlib\n",
    "import matplotlib.pyplot as plt\n",
    "from matplotlib.colors import BoundaryNorm\n",
    "from matplotlib.ticker import MaxNLocator\n",
    "\n",
    "import numpy as np\n",
    "from numpy.linalg import eig, inv\n",
    "\n",
    "import math\n",
    "\n",
    "from scipy import interpolate, spatial, stats\n",
    "\n",
    "import seaborn as sns\n",
    "\n",
    "import skimage.io as skiIo\n",
    "from skimage import exposure, img_as_float, filters, morphology, transform\n",
    "\n",
    "from sklearn import linear_model\n",
    "from sklearn import metrics"
   ]
  },
  {
   "cell_type": "code",
   "execution_count": null,
   "metadata": {
    "scrolled": true
   },
   "outputs": [],
   "source": [
    "\"\"\" ============== path settings ==============\"\"\""
   ]
  },
  {
   "cell_type": "code",
   "execution_count": null,
   "metadata": {},
   "outputs": [],
   "source": [
    "module_path = os.path.join(os.path.dirname(os.getcwd()), 'python_cluster', 'helper_functions')"
   ]
  },
  {
   "cell_type": "code",
   "execution_count": null,
   "metadata": {},
   "outputs": [],
   "source": [
    "# env = 'Windows'\n",
    "# if(env == 'Windows'):\n",
    "#     module_path = 'W:\\\\2019_09_NSP_Extension\\\\code\\\\NSP_codes\\\\python_cluster\\\\helper_functions'\n",
    "# elif(env == 'Mac'):\n",
    "#     module_path = '/Users/lily/Lily/Academic/AW_Lab/code/python_cluster/helper_functions'"
   ]
  },
  {
   "cell_type": "code",
   "execution_count": null,
   "metadata": {},
   "outputs": [],
   "source": [
    "# Mac, Data_Output, Figure_Output, Ctrl_22hrs_Gal80_s2r1_annotation.csv, 0, 1, 24, 18, 40, 20, 1"
   ]
  },
  {
   "cell_type": "code",
   "execution_count": null,
   "metadata": {
    "scrolled": true
   },
   "outputs": [],
   "source": [
    "### import custom functions\n",
    "if module_path not in sys.path:\n",
    "    sys.path.append(module_path)\n",
    "import data_quantification_settings as settings\n",
    "import data_quantification_function_helper as my_help\n",
    "import data_quantification_function_intensity_calculation as my_int\n",
    "import data_quantification_function_parse_bundle as my_pb\n",
    "import data_quantification_function_plotting as my_plot"
   ]
  },
  {
   "cell_type": "code",
   "execution_count": null,
   "metadata": {},
   "outputs": [],
   "source": [
    "paths = settings.paths\n",
    "matching_info = settings.matching_info\n",
    "analysis_params_general = settings.analysis_params_general"
   ]
  },
  {
   "cell_type": "code",
   "execution_count": null,
   "metadata": {},
   "outputs": [],
   "source": [
    "paths.code_path"
   ]
  },
  {
   "cell_type": "code",
   "execution_count": null,
   "metadata": {},
   "outputs": [],
   "source": [
    "\"\"\"============== main ==============\"\"\""
   ]
  },
  {
   "cell_type": "code",
   "execution_count": null,
   "metadata": {},
   "outputs": [],
   "source": [
    "sns.set_style(\"dark\")"
   ]
  },
  {
   "cell_type": "code",
   "execution_count": null,
   "metadata": {},
   "outputs": [],
   "source": [
    "paths.annot_path"
   ]
  },
  {
   "cell_type": "code",
   "execution_count": null,
   "metadata": {},
   "outputs": [],
   "source": [
    "\"\"\"Load data\"\"\"\n",
    "### load summaries\n",
    "summary_df = pd.read_csv(paths.annot_path)\n",
    "image_list = summary_df.loc[:,'Image_Name'].unique()\n",
    "ROI_list = summary_df.loc[:,'ROI_Name'].unique()"
   ]
  },
  {
   "cell_type": "code",
   "execution_count": null,
   "metadata": {
    "scrolled": true
   },
   "outputs": [],
   "source": [
    "image_list, ROI_list"
   ]
  },
  {
   "cell_type": "code",
   "execution_count": null,
   "metadata": {},
   "outputs": [],
   "source": [
    "i_image = 0"
   ]
  },
  {
   "cell_type": "code",
   "execution_count": null,
   "metadata": {
    "scrolled": true
   },
   "outputs": [],
   "source": [
    "### load other data\n",
    "image_name = image_list[i_image]\n",
    "roi_name = ROI_list[i_image]\n",
    "roi_df = pd.read_csv(os.path.join(paths.roi_path, roi_name))\n",
    "roi_df.rename(columns = {' ':'No'}, inplace = True)\n",
    "annot_df = summary_df.groupby(['Image_Name']).get_group(image_list[i_image]).reset_index(drop = True)\n",
    "m2p_ratio = (summary_df.iloc[0]['imgX_pixel']/summary_df.iloc[0]['imgX_um'], summary_df.iloc[0]['imgY_pixel']/summary_df.iloc[0]['imgY_um'])"
   ]
  },
  {
   "cell_type": "code",
   "execution_count": null,
   "metadata": {
    "scrolled": true
   },
   "outputs": [],
   "source": [
    "\"\"\" Process annotation info\"\"\"\n",
    "is_extended_target_list = False\n",
    "annotation_type = annot_df.loc[0,'Annotation_type']\n",
    "if(annotation_type == 1):\n",
    "    bundles_df = my_pb.get_bundles_info_v1(roi_df, annot_df, m2p_ratio[0], m2p_ratio[1], is_extended_target_list)\n",
    "if(annotation_type == 2):\n",
    "    bundles_df = my_pb.get_bundles_info_v2(roi_df, annot_df, m2p_ratio[0], m2p_ratio[1], is_extended_target_list)\n",
    "if(annotation_type == 3):\n",
    "    bundles_df = my_pb.get_bundles_info_v3(roi_df, annot_df, m2p_ratio[0], m2p_ratio[1], is_extended_target_list)\n",
    "annot_bundles_df = bundles_df.dropna(axis=0, how='any', inplace = False)\n",
    "annot_bundles_df.sort_index(inplace = True)"
   ]
  },
  {
   "cell_type": "code",
   "execution_count": null,
   "metadata": {},
   "outputs": [],
   "source": [
    "\"\"\"load imaging data\"\"\""
   ]
  },
  {
   "cell_type": "code",
   "execution_count": null,
   "metadata": {
    "scrolled": false
   },
   "outputs": [],
   "source": [
    "%time image = img_as_float(skiIo.imread(os.path.join(paths.image_path, image_name)))\n",
    "image_shape = (image.shape[0], image.shape[1], image.shape[2])\n",
    "image_info = [image_name, image_shape, m2p_ratio]"
   ]
  },
  {
   "cell_type": "code",
   "execution_count": null,
   "metadata": {
    "scrolled": false
   },
   "outputs": [],
   "source": [
    "\"\"\" Process images \"\"\"\n",
    "### number of channels\n",
    "nChannels = min(image.shape)# number of channels of original image\n",
    "num_norm_channels = 4 # number of channels of normalized image\n",
    "\n",
    "if(nChannels == 2):\n",
    "    print(\"2 channels!\")\n",
    "    ### normalize channels\n",
    "    image_norm = np.empty(image_shape + (num_norm_channels,), dtype=image[:,0,:,:].dtype, order='C')\n",
    "    thr = np.zeros((2))\n",
    "    \n",
    "    # RFP_norm\n",
    "    %time image_norm[:,:,:,0] = exposure.rescale_intensity(image[:,0,:,:], in_range = 'image', out_range='dtype')\n",
    "    # GFP_norm\n",
    "    %time image_norm[:,:,:,1] = exposure.rescale_intensity(image[:,1,:,:], in_range = 'image', out_range='dtype')    \n",
    "    \n",
    "    del image\n",
    "        \n",
    "elif(nChannels == 4):\n",
    "    print(\"4 channels!\")\n",
    "    ### normalize channels\n",
    "    image_norm = np.empty(image_shape + (num_norm_channels,), dtype=image[:,:,:,1].dtype, order='C')\n",
    "    thr = np.zeros((2))\n",
    "    \n",
    "    # RFP_norm\n",
    "    %time image_norm[:,:,:,0] = image[:,:,:,0]\n",
    "    # GFP_norm\n",
    "    %time image_norm[:,:,:,1] = image[:,:,:,1]\n",
    "    # 24b10\n",
    "    %time image_norm[:,:,:,2] = image[:,:,:,2]\n",
    "    # FasII\n",
    "    %time image_norm[:,:,:,3] = image[:,:,:,3]\n",
    "    \n",
    "    del image"
   ]
  },
  {
   "cell_type": "code",
   "execution_count": null,
   "metadata": {},
   "outputs": [],
   "source": [
    "\"\"\"example plot\"\"\""
   ]
  },
  {
   "cell_type": "code",
   "execution_count": null,
   "metadata": {
    "scrolled": false
   },
   "outputs": [],
   "source": [
    "bundle_no = 1\n",
    "plotSettings = False, False, False, True #isPlotR3Line, isPlotR4Line, isPlotR4s, isLabelOff\n",
    "my_plot.plot_individual_bundles(bundle_no, bundles_df, image_norm, m2p_ratio[0], m2p_ratio[1], is_plot_r3_line = False, is_plot_r4_line = False, is_plot_r4 = False, is_label_off = True)\n",
    "plt.show()"
   ]
  },
  {
   "cell_type": "code",
   "execution_count": null,
   "metadata": {},
   "outputs": [],
   "source": [
    "\"\"\"plot all\"\"\""
   ]
  },
  {
   "cell_type": "code",
   "execution_count": null,
   "metadata": {
    "scrolled": true
   },
   "outputs": [],
   "source": [
    "for ind, bundle_no in enumerate(annot_bundles_df.index):\n",
    "    plotSettings = False, False, False, True #isPlotR3Line, isPlotR4Line, isPlotR4s, isLabelOff\n",
    "    my_plot.plot_individual_bundles(bundle_no, bundles_df, image_norm, m2p_ratio[0], m2p_ratio[1], is_plot_r3_line = False, is_plot_r4_line = False, is_plot_r4 = False, is_label_off = True)\n",
    "    plt.show()"
   ]
  },
  {
   "cell_type": "code",
   "execution_count": null,
   "metadata": {},
   "outputs": [],
   "source": []
  }
 ],
 "metadata": {
  "kernelspec": {
   "display_name": "Python 3",
   "language": "python",
   "name": "python3"
  },
  "language_info": {
   "codemirror_mode": {
    "name": "ipython",
    "version": 3
   },
   "file_extension": ".py",
   "mimetype": "text/x-python",
   "name": "python",
   "nbconvert_exporter": "python",
   "pygments_lexer": "ipython3",
   "version": "3.6.8"
  }
 },
 "nbformat": 4,
 "nbformat_minor": 2
}
