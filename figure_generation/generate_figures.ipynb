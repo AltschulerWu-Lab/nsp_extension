{
 "cells": [
  {
   "cell_type": "code",
   "execution_count": null,
   "metadata": {},
   "outputs": [],
   "source": [
    "%matplotlib inline\n",
    "\n",
    "import io, os, sys, types, datetime, pickle, warnings, time, operator\n",
    "from colorama import Fore\n",
    "\n",
    "warnings.filterwarnings('ignore')\n",
    "\n",
    "import pandas as pd\n",
    "\n",
    "import matplotlib\n",
    "import matplotlib.pyplot as plt\n",
    "from matplotlib.colors import BoundaryNorm\n",
    "from matplotlib.ticker import MaxNLocator\n",
    "\n",
    "import numpy as np\n",
    "from numpy.linalg import eig, inv\n",
    "import numpy.ma as ma\n",
    "\n",
    "import math\n",
    "\n",
    "from scipy import interpolate, spatial, stats, optimize\n",
    "\n",
    "\n",
    "import scipy.stats as ss\n",
    "import statsmodels.api as sa\n",
    "import scikit_posthocs as sp\n",
    "\n",
    "import seaborn as sns\n",
    "\n",
    "import skimage.io as skiIo\n",
    "from skimage import exposure, img_as_float, filters, morphology, transform\n",
    "\n",
    "from sklearn import linear_model\n",
    "from sklearn import metrics\n",
    "\n",
    "import itertools\n",
    "# https://github.com/webermarcolivier/statannot"
   ]
  },
  {
   "cell_type": "code",
   "execution_count": null,
   "metadata": {},
   "outputs": [],
   "source": [
    "module_path = os.getcwd()\n",
    "if module_path not in sys.path:\n",
    "    sys.path.append(module_path)"
   ]
  },
  {
   "cell_type": "code",
   "execution_count": null,
   "metadata": {
    "scrolled": true
   },
   "outputs": [],
   "source": [
    "module_path"
   ]
  },
  {
   "cell_type": "code",
   "execution_count": null,
   "metadata": {},
   "outputs": [],
   "source": [
    "### import custom functions\n",
    "import settings as settings\n",
    "import summary_helper as my_help"
   ]
  },
  {
   "cell_type": "code",
   "execution_count": null,
   "metadata": {},
   "outputs": [],
   "source": [
    "\"\"\" ============== Golbal variables and parameters ==============\"\"\"\n",
    "paths = settings.paths\n",
    "matching_info = settings.matching_info\n",
    "color_code =  matching_info.color_code\n",
    "color_code[0] = 'gray'\n",
    "\n",
    "palette = {\n",
    "    'R3':color_code[3],\n",
    "    'R4':color_code[4],\n",
    "    'R3/R3':color_code[3],\n",
    "    'R4/R4':color_code[4]\n",
    "}\n",
    "\n",
    "is_save = True\n",
    "fig_format = 'png'\n",
    "fig_res = 300"
   ]
  },
  {
   "cell_type": "code",
   "execution_count": null,
   "metadata": {},
   "outputs": [],
   "source": [
    "\"\"\" ===== load data ===== \"\"\""
   ]
  },
  {
   "cell_type": "code",
   "execution_count": null,
   "metadata": {},
   "outputs": [],
   "source": [
    "# ====== output data ====== #\n",
    "folders, files = my_help.parse_folder_info(os.path.join(paths.data_prefix, 'output_datas'))\n",
    "output_data_ctrl = {}\n",
    "output_data_fz = {}\n",
    "output_data_nic = {}\n",
    "for file in files:\n",
    "    pickle_in = open(os.path.join(paths.data_prefix, 'output_datas', file), \"rb\")\n",
    "    %time data = pickle.load(pickle_in)\n",
    "    if('ctrl' in file):\n",
    "        for key in data.keys():\n",
    "            output_data_ctrl[key] = data[key]\n",
    "    elif('fz' in file):\n",
    "        for key in data.keys():\n",
    "            output_data_fz[key] = data[key]\n",
    "    elif('nic' in file):\n",
    "        for key in data.keys():\n",
    "            output_data_nic[key] = data[key]\n",
    "    del data\n",
    "\n",
    "output_data_ctrl = my_help.sort_dic(output_data_ctrl, \"keys\", False)\n",
    "output_data_fz = my_help.sort_dic(output_data_fz, \"keys\", False)\n",
    "output_data_nic = my_help.sort_dic(output_data_nic, \"keys\", False)"
   ]
  },
  {
   "cell_type": "code",
   "execution_count": null,
   "metadata": {
    "scrolled": true
   },
   "outputs": [],
   "source": [
    "\n",
    "## controls\n",
    "print(\"=== Control ===\")\n",
    "path = os.path.join(paths.data_prefix, 'output_data_ctrl.pickle')\n",
    "pickle_in = open(path,\"rb\")\n",
    "%time output_data_ctrl = pickle.load(pickle_in)\n",
    "\n",
    "## Fzs\n",
    "print(\"=== Fz ===\")\n",
    "path = os.path.join(paths.data_prefix, 'output_data_fz.pickle')\n",
    "pickle_in = open(path,\"rb\")\n",
    "%time output_data_fz = pickle.load(pickle_in)\n",
    "\n",
    "## Nics\n",
    "print(\"=== Nic ===\")\n",
    "path = os.path.join(paths.data_prefix, 'output_data_nic.pickle')\n",
    "pickle_in = open(path,\"rb\")\n",
    "%time output_data_nic = pickle.load(pickle_in)"
   ]
  },
  {
   "cell_type": "code",
   "execution_count": null,
   "metadata": {},
   "outputs": [],
   "source": [
    "# ====== annotation files ====== #\n",
    "### controls\n",
    "filepath = os.path.join(paths.data_prefix, 'annots_df_ctrl.csv')\n",
    "annots_df_ctrl = pd.read_csv(filepath)\n",
    "annots_df_ctrl.fillna(0, inplace = True)\n",
    "\n",
    "### Fzs\n",
    "filepath = os.path.join(paths.data_prefix, 'annots_df_fz.csv')\n",
    "annots_df_fz = pd.read_csv(filepath)\n",
    "annots_df_fz.fillna(0, inplace = True)\n",
    "\n",
    "### Nics\n",
    "filepath = os.path.join(paths.data_prefix, 'annots_df_nic.csv')\n",
    "annots_df_nic = pd.read_csv(filepath)\n",
    "annots_df_nic.fillna(0, inplace = True)\n"
   ]
  },
  {
   "cell_type": "code",
   "execution_count": null,
   "metadata": {
    "scrolled": true
   },
   "outputs": [],
   "source": [
    "\"\"\"load and process summary files\"\"\""
   ]
  },
  {
   "cell_type": "code",
   "execution_count": null,
   "metadata": {
    "scrolled": true
   },
   "outputs": [],
   "source": [
    "# ====== summary files ====== #\n",
    "### controls\n",
    "print(\"=== Control ===\")\n",
    "sum_df_ctrl = pd.read_csv(os.path.join(paths.data_prefix, 'summary_ctrl.csv'))\n",
    "sum_df_ctrl = sum_df_ctrl.loc[~sum_df_ctrl['CategoryID'].isna(),:]\n",
    "sum_df_ctrl[['TimeID', 'SampleID', 'bundle_no']] = sum_df_ctrl[['TimeID', 'SampleID', 'bundle_no']].astype('int64')\n",
    "sum_df_ctrl_final = my_help.process_sum_df_mr(sum_df_ctrl, annots_df_ctrl, output_data_ctrl)\n",
    "sum_df_ctrl_final.sort_values(by =['TimeID', 'SampleID', 'bundle_no'], inplace = True)\n",
    "\n",
    "### Fzs\n",
    "print(\"\\n=== Fz ===\")\n",
    "sum_df_fz = pd.read_csv(os.path.join(paths.data_prefix, 'summary_fz.csv'))\n",
    "sum_df_fz = sum_df_fz.loc[~sum_df_fz['CategoryID'].isna(),:]\n",
    "sum_df_fz[['TimeID', 'SampleID', 'bundle_no']] = sum_df_fz[['TimeID', 'SampleID', 'bundle_no']].astype('int64')\n",
    "sum_df_fz_final = my_help.process_sum_df(sum_df_fz, annots_df_fz, output_data_fz)\n",
    "sum_df_fz_final.sort_values(by =['TimeID', 'SampleID', 'bundle_no'], inplace = True)\n",
    "\n",
    "### Nics\n",
    "print(\"\\n=== Nic ===\")\n",
    "sum_df_nic = pd.read_csv(os.path.join(paths.data_prefix, 'summary_nic.csv'))\n",
    "sum_df_nic = sum_df_nic.loc[~sum_df_nic['CategoryID'].isna(),:]\n",
    "sum_df_nic[['TimeID', 'SampleID', 'bundle_no']] = sum_df_nic[['TimeID', 'SampleID', 'bundle_no']].astype('int64')\n",
    "sum_df_nic_final = my_help.process_sum_df(sum_df_nic, annots_df_nic, output_data_nic)\n",
    "sum_df_nic_final.sort_values(by =['TimeID', 'SampleID', 'bundle_no'], inplace = True)"
   ]
  },
  {
   "cell_type": "code",
   "execution_count": null,
   "metadata": {},
   "outputs": [],
   "source": [
    "\"\"\" ===== plotting ===== \"\"\""
   ]
  },
  {
   "cell_type": "code",
   "execution_count": null,
   "metadata": {},
   "outputs": [],
   "source": [
    "\"\"\"Figure 2\"\"\""
   ]
  },
  {
   "cell_type": "code",
   "execution_count": null,
   "metadata": {},
   "outputs": [],
   "source": [
    "my_help.generate_density_plot_figure(15, output_data_ctrl[(26, 21)], \n",
    "                                     is_save = is_save, channels = ['GFP'], gfp_cmap = [0.2, [0, 0.1, 0.2]],\n",
    "                                     fig_name = 'Figure2', fig_format = fig_format, fig_res = fig_res)"
   ]
  },
  {
   "cell_type": "code",
   "execution_count": null,
   "metadata": {},
   "outputs": [],
   "source": [
    "\"\"\"Figure 3A\"\"\""
   ]
  },
  {
   "cell_type": "code",
   "execution_count": null,
   "metadata": {},
   "outputs": [],
   "source": [
    "## 22 hrs\n",
    "my_help.generate_density_plot_figure(5, output_data_ctrl[(22, 3)], \n",
    "                                     is_save = is_save, channels = ['GFP', 'RFP'], \n",
    "                                     gfp_cmap = [0.2, [0, 0.1, 0.2]], rfp_cmap = [0.3, [0, 0.1, 0.2, 0.3]],\n",
    "                                     fig_name = 'Figure3A_22hrs', fig_format = fig_format, fig_res = fig_res)"
   ]
  },
  {
   "cell_type": "code",
   "execution_count": null,
   "metadata": {},
   "outputs": [],
   "source": [
    "## 28 hrs\n",
    "my_help.generate_density_plot_figure(6, output_data_ctrl[(28, 21)], \n",
    "                                     is_save = is_save, channels = ['GFP', 'RFP'], \n",
    "                                     gfp_cmap = [0.15, [0, 0.1]], rfp_cmap = [0.2, [0, 0.1, 0.2]],\n",
    "                                     fig_name = 'Figure3A_28hrs', fig_format = fig_format, fig_res = fig_res)"
   ]
  },
  {
   "cell_type": "code",
   "execution_count": null,
   "metadata": {
    "scrolled": false
   },
   "outputs": [],
   "source": [
    "## 32 hrs\n",
    "my_help.generate_density_plot_figure(22, output_data_ctrl[(32, 13)], \n",
    "                                     is_save = is_save, channels = ['GFP', 'RFP'], \n",
    "                                     gfp_cmap = [0.2, [0, 0.1, 0.2]], rfp_cmap = [0.3, [0, 0.1, 0.2, 0.3]],\n",
    "                                     fig_name = 'Figure3A_32hrs', fig_format = fig_format, fig_res = fig_res)"
   ]
  },
  {
   "cell_type": "code",
   "execution_count": null,
   "metadata": {},
   "outputs": [],
   "source": [
    "\"\"\"Figure S2\"\"\""
   ]
  },
  {
   "cell_type": "code",
   "execution_count": null,
   "metadata": {},
   "outputs": [],
   "source": [
    "## 24 hrs\n",
    "my_help.generate_density_plot_figure(4, output_data_ctrl[(24, 21)], \n",
    "                                     is_save = is_save, channels = ['GFP', 'RFP'], \n",
    "                                     gfp_cmap = [0.3, [0, 0.1, 0.2, 0.3]], rfp_cmap = [0.3, [0, 0.1, 0.2, 0.3]],\n",
    "                                     fig_name = 'FigureS2_24hrs', fig_format = fig_format, fig_res = fig_res)"
   ]
  },
  {
   "cell_type": "code",
   "execution_count": null,
   "metadata": {},
   "outputs": [],
   "source": [
    "## 26 hrs\n",
    "my_help.generate_density_plot_figure(1, output_data_ctrl[(26, 24)], \n",
    "                                     is_save = is_save, channels = ['GFP', 'RFP'], \n",
    "                                     gfp_cmap = [0.25, [0, 0.1, 0.2]], rfp_cmap = [0.3, [0, 0.1, 0.2, 0.3]],\n",
    "                                     fig_name = 'FigureS2_26hrs', fig_format = fig_format, fig_res = fig_res)"
   ]
  },
  {
   "cell_type": "code",
   "execution_count": null,
   "metadata": {},
   "outputs": [],
   "source": [
    "## 30 hrs\n",
    "my_help.generate_density_plot_figure(1, output_data_ctrl[(30, 21)], \n",
    "                                     is_save = is_save, channels = ['GFP', 'RFP'], \n",
    "                                     gfp_cmap = [0.3, [0, 0.1, 0.2, 0.3]], rfp_cmap = [0.15, [0, 0.1]],\n",
    "                                     fig_name = 'FigureS2_30hrs', fig_format = fig_format, fig_res = fig_res)"
   ]
  },
  {
   "cell_type": "code",
   "execution_count": null,
   "metadata": {},
   "outputs": [],
   "source": [
    "## 36 hrs\n",
    "my_help.generate_density_plot_figure(9, output_data_ctrl[(36, 21)], \n",
    "                                     is_save = is_save, channels = ['GFP', 'RFP'], \n",
    "                                     gfp_cmap = [0.3, [0, 0.1, 0.2, 0.3]], rfp_cmap = [0.15, [0, 0.1]],\n",
    "                                     fig_name = 'FigureS2_36hrs', fig_format = fig_format, fig_res = fig_res)"
   ]
  },
  {
   "cell_type": "code",
   "execution_count": null,
   "metadata": {},
   "outputs": [],
   "source": [
    "\"\"\"Figure 3B\"\"\""
   ]
  },
  {
   "cell_type": "code",
   "execution_count": null,
   "metadata": {
    "scrolled": false
   },
   "outputs": [],
   "source": [
    "# ====== Figure ====== #\n",
    "### set parameters\n",
    "df_current = sum_df_ctrl_final\n",
    "x_cat = 'TimeID'\n",
    "y_cat = 'length_gc'\n",
    "hue = 'type_plot'\n",
    "df_plot = df_current[[x_cat, y_cat, hue]].dropna(how='any')\n",
    "ylim = [0, 3]\n",
    "ylabel = 'Relative Length (a.u.)'\n",
    "xlabel = 'Time (hrs APF)'\n",
    "\n",
    "### calculate T3/T4 range\n",
    "times = len(df_current.groupby(x_cat).groups)\n",
    "x = np.arange(times+2)-1\n",
    "y = np.zeros((6, times+2))\n",
    "\n",
    "y[0,1:-1] = df_current.groupby(x_cat).mean()['T4l_fromheel']\n",
    "y[1,1:-1] = df_current.groupby(x_cat).mean()['T4h_fromheel']\n",
    "y[2,1:-1] = df_current.groupby(x_cat).mean()['T4c_fromheel']\n",
    "y[3,1:-1] = df_current.groupby(x_cat).mean()['T3l_fromheel']\n",
    "y[4,1:-1] = df_current.groupby(x_cat).mean()['T3h_fromheel']\n",
    "y[5,1:-1] = df_current.groupby(x_cat).mean()['T3c_fromheel']\n",
    "y[:,0] = y[:,1]\n",
    "y[:,-1] = y[:,-2]\n",
    "\n",
    "### figure set-up\n",
    "SMALL_SIZE = 20\n",
    "MEDIUM_SIZE = 20\n",
    "BIGGER_SIZE = 28\n",
    "plt.rc('font', size=SMALL_SIZE)         # controls default text sizes\n",
    "plt.rc('axes', titlesize=BIGGER_SIZE)   # fontsize of the axes title\n",
    "plt.rc('axes', labelsize=MEDIUM_SIZE)   # fontsize of the x and y labels\n",
    "plt.rc('xtick', labelsize=MEDIUM_SIZE)  # fontsize of the tick labels\n",
    "plt.rc('ytick', labelsize=MEDIUM_SIZE)  # fontsize of the tick labels\n",
    "plt.rc('legend', fontsize=MEDIUM_SIZE)  # legend fontsize\n",
    "plt.rc('figure', titlesize=BIGGER_SIZE) # fontsize of the figure title\n",
    "\n",
    "sns.set_style(\"white\")\n",
    "\n",
    "### plotting\n",
    "fig, ax = plt.subplots(1,1, figsize = (12,8))\n",
    "if('length' in y_cat):\n",
    "    ax.plot(x, y[2,:], '--', color = color_code[4])\n",
    "    ax.plot(x, y[5,:], '--', color = color_code[3])\n",
    "    ax.fill_between(x, y[1,:], y[0,:], color=color_code[4], alpha=0.2)\n",
    "    ax.fill_between(x, y[3,:], y[4,:], color=color_code[3], alpha=0.2)\n",
    "\n",
    "sns.boxplot(x=x_cat, y=y_cat, data=df_plot, hue = hue, dodge = True, palette = palette, ax = ax)\n",
    "sns.swarmplot(x=x_cat, y=y_cat, data=df_plot, color = '.25', hue = hue, dodge = True, ax = ax)\n",
    "ax.set_ylim(ylim)\n",
    "ax.set_ylabel(ylabel)\n",
    "ax.set_xlabel(xlabel)\n",
    "ax.tick_params(axis = 'y', labelleft = [0,1,2,3,4])\n",
    "\n",
    "ax.legend(title = 'R type', loc='center left', bbox_to_anchor=(1.01, 0.9))\n",
    "\n",
    "if(is_save):\n",
    "    fig_name = f'Figure3B.{fig_format}'\n",
    "    fig_save_path = os.path.join(paths.output_prefix, fig_name)\n",
    "    plt.savefig(fig_save_path, dpi=fig_res, bbox_inches='tight', format = fig_format)\n",
    "\n",
    "plt.show()"
   ]
  },
  {
   "cell_type": "code",
   "execution_count": null,
   "metadata": {},
   "outputs": [],
   "source": [
    "# ====== linear fit of mean ====== #\n",
    "X = np.array([24, 26, 28])\n",
    "print(\"R3 extension speed:\")\n",
    "r_type = \"R3\"\n",
    "y = np.zeros((3))\n",
    "for i in range(3):\n",
    "    y[i] = df_plot.groupby(hue).get_group(r_type).groupby(x_cat).mean()[y_cat][X[i]]\n",
    "_, _, _ = my_help.fit_linear(X, y)\n",
    "\n",
    "print(\"R4 extension speed:\")\n",
    "r_type = \"R4\"\n",
    "y = np.zeros((3))\n",
    "for i in range(3):\n",
    "    y[i] = df_plot.groupby(hue).get_group(r_type).groupby(x_cat).mean()[y_cat][X[i]]\n",
    "_, _, _ = my_help.fit_linear(X, y)"
   ]
  },
  {
   "cell_type": "code",
   "execution_count": null,
   "metadata": {},
   "outputs": [],
   "source": [
    "# ====== p values ====== #"
   ]
  },
  {
   "cell_type": "code",
   "execution_count": null,
   "metadata": {
    "scrolled": true
   },
   "outputs": [],
   "source": [
    "r_type = \"R3\"\n",
    "df_r = df_plot.groupby(hue).get_group(r_type)\n",
    "\n",
    "data = [df_r.loc[ids, y_cat].values for ids in df_r.groupby(x_cat).groups.values()]\n",
    "H, p = ss.kruskal(*data)\n",
    "sp.posthoc_mannwhitney(df_r, val_col=y_cat, group_col=x_cat, p_adjust = 'holm')"
   ]
  },
  {
   "cell_type": "code",
   "execution_count": null,
   "metadata": {
    "scrolled": true
   },
   "outputs": [],
   "source": [
    "r_type = \"R4\"\n",
    "df_r = df_plot.groupby(hue).get_group(r_type)\n",
    "\n",
    "data = [df_r.loc[ids, y_cat].values for ids in df_r.groupby(x_cat).groups.values()]\n",
    "H, p = ss.kruskal(*data)\n",
    "sp.posthoc_mannwhitney(df_r, val_col=y_cat, group_col=x_cat, p_adjust = 'holm')"
   ]
  },
  {
   "cell_type": "code",
   "execution_count": null,
   "metadata": {},
   "outputs": [],
   "source": [
    "\"\"\"Figure 3C\"\"\""
   ]
  },
  {
   "cell_type": "code",
   "execution_count": null,
   "metadata": {},
   "outputs": [],
   "source": [
    "# ====== Figure ====== #\n",
    "### set parameters\n",
    "x_cat = 'TimeID'\n",
    "y_cat = 'angle_gc'\n",
    "hue = \"type_plot\"\n",
    "xlim = 8\n",
    "\n",
    "colors1 = plt.cm.Reds(np.linspace(0, 1, 15))\n",
    "colors1 = colors1[5:,:]\n",
    "\n",
    "colors2 = plt.cm.YlOrBr(np.linspace(0, 1, 15))\n",
    "colors2 = colors2[3:,:]\n",
    "\n",
    "phi_unit = my_help.get_angle_unit_theory('phi_unit')\n",
    "\n",
    "### calculate values\n",
    "r3_control = sum_df_ctrl_final.groupby(hue).get_group('R3')\n",
    "r4_control = sum_df_ctrl_final.groupby(hue).get_group('R4')\n",
    "\n",
    "theta1 = r3_control.groupby(x_cat).mean()[y_cat].to_numpy()\n",
    "width1 = r3_control.groupby(x_cat).std()[y_cat].to_numpy()\n",
    "\n",
    "theta2 = r4_control.groupby(x_cat).mean()[y_cat].to_numpy()\n",
    "width2 = r4_control.groupby(x_cat).std()[y_cat].to_numpy()\n",
    "\n",
    "radii1 = np.arange(len(theta1))+1\n",
    "radii2 = np.arange(len(theta2))+1\n",
    "\n",
    "theta1 = np.flip(theta1)\n",
    "radii1 = np.flip(radii1)\n",
    "width1 = np.flip(width1)\n",
    "theta2 = np.flip(theta2)\n",
    "radii2 = np.flip(radii2)\n",
    "width2 = np.flip(width2)\n",
    "\n",
    "dTiCs = {}\n",
    "target_grid_polar = my_help.get_target_grid_polar_summary(return_type = 'theory', dTiCs = dTiCs)\n",
    "\n",
    "### figure set-up\n",
    "SMALL_SIZE = 20\n",
    "MEDIUM_SIZE = 20\n",
    "BIGGER_SIZE = 28\n",
    "plt.rc('font', size=SMALL_SIZE)         # controls default text sizes\n",
    "plt.rc('axes', titlesize=BIGGER_SIZE)   # fontsize of the axes title\n",
    "plt.rc('axes', labelsize=MEDIUM_SIZE)   # fontsize of the x and y labels\n",
    "plt.rc('xtick', labelsize=MEDIUM_SIZE)  # fontsize of the tick labels\n",
    "plt.rc('ytick', labelsize=MEDIUM_SIZE)  # fontsize of the tick labels\n",
    "plt.rc('legend', fontsize=MEDIUM_SIZE)  # legend fontsize\n",
    "plt.rc('figure', titlesize=BIGGER_SIZE) # fontsize of the figure title\n",
    "\n",
    "\n",
    "\n",
    "### plotting\n",
    "fig = plt.figure(figsize=(12,8))\n",
    "ax = fig.add_axes([0.1, 0.1, 0.75, 0.79], polar=True)\n",
    "\n",
    "# plot reference line\n",
    "ax.plot([0,0], [0,xlim], '--', color = 'Gray', linewidth = 1.5)\n",
    "ax.plot([0,target_grid_polar[2,0]], [0,xlim], '--', color = 'Gray', linewidth = 1.5)\n",
    "ax.plot([0,target_grid_polar[5,0]], [0,xlim], '--', color = 'Gray', linewidth = 1.5)\n",
    "\n",
    "for i in range(len(radii1)):\n",
    "    r = np.arange(-1, 1, 0.1)\n",
    "    theta = np.zeros((r.shape)) + radii1[i]\n",
    "    ax.plot(r,theta,'--', color = 'LightGray', linewidth = 2)\n",
    "\n",
    "ax.bar(theta1, radii1, width=width1, bottom=0.0, color = colors1, alpha = 0.9)\n",
    "ax.bar(theta2, radii2, width=width2, bottom=0.0, color = colors2, alpha=0.9)\n",
    "\n",
    "ax.set_thetamin(-30)\n",
    "ax.set_thetamax(30)\n",
    "ax.set_rlim(0, xlim)\n",
    "\n",
    "plt.yticks(ticks = [1, 2, 3, 4, 5, 6, 7], labels = [\"22\", \"24\", \"26\", \"28\", \"30\", \"32\", \"36\"])\n",
    "plt.xticks(ticks = [-phi_unit, 0, phi_unit], labels = [1, 0, -1])\n",
    "ax.set_xlabel(\"Time (hrs APF)\")\n",
    "ax.yaxis.set_label_position(\"right\")\n",
    "plt.ylabel(\"Relative Angle (a.u.)\", labelpad=35)\n",
    "\n",
    "ax.grid(False)\n",
    "\n",
    "if(is_save):\n",
    "    fig_name = f'Figure3C.{fig_format}'\n",
    "    fig_save_path = os.path.join(paths.output_prefix, fig_name)\n",
    "    plt.savefig(fig_save_path, dpi=fig_res, bbox_inches='tight', format = fig_format, facecolor='w')\n",
    "plt.show()"
   ]
  },
  {
   "cell_type": "code",
   "execution_count": null,
   "metadata": {},
   "outputs": [],
   "source": [
    "# ====== p values ====== #\n",
    "x_cat = 'TimeID'\n",
    "y_cat = 'angle_gc_mrr'\n",
    "hue = 'type_plot'\n",
    "df_plot = sum_df_ctrl_final[[x_cat, y_cat, hue]].dropna(how='any')\n",
    "df_group = df_plot.groupby(x_cat)\n",
    "for gp in df_group.groups.keys():\n",
    "    print(f'{gp} hrs')\n",
    "    my_help.p_value_3c(df_group.get_group(gp), hue, y_cat, [['R3', 'R4']], False, 'Mann-Whitney')"
   ]
  },
  {
   "cell_type": "code",
   "execution_count": null,
   "metadata": {
    "scrolled": true
   },
   "outputs": [],
   "source": [
    "\"\"\"Figure 4\"\"\""
   ]
  },
  {
   "cell_type": "code",
   "execution_count": null,
   "metadata": {
    "scrolled": true
   },
   "outputs": [],
   "source": [
    "pert_cat = 'Fz'\n",
    "time_id = 22\n",
    "\n",
    "if(pert_cat == 'Nic'):\n",
    "    pert_type = 'R4/R4'\n",
    "    pert_rtype = 4\n",
    "    plot_df = sum_df_nic_final.groupby('TimeID').get_group(time_id)\n",
    "elif(pert_cat == 'Fz'):\n",
    "    pert_type = 'R3/R3'\n",
    "    pert_rtype = 3\n",
    "    plot_df = sum_df_fz_final.groupby('TimeID').get_group(time_id)\n",
    "\n",
    "pert_info = time_id, pert_cat, pert_type, pert_rtype\n",
    "my_help.generate_summary_polar_figure(plot_df, pert_info,  \n",
    "                                      is_save = is_save, fig_format = fig_format, fig_res = fig_res)"
   ]
  },
  {
   "cell_type": "code",
   "execution_count": null,
   "metadata": {
    "scrolled": true
   },
   "outputs": [],
   "source": [
    "pert_cat = 'Fz'\n",
    "time_id = 28\n",
    "\n",
    "if(pert_cat == 'Nic'):\n",
    "    pert_type = 'R4/R4'\n",
    "    pert_rtype = 4\n",
    "    plot_df = sum_df_nic_final.groupby('TimeID').get_group(time_id)\n",
    "elif(pert_cat == 'Fz'):\n",
    "    pert_type = 'R3/R3'\n",
    "    pert_rtype = 3\n",
    "    plot_df = sum_df_fz_final.groupby('TimeID').get_group(time_id)\n",
    "\n",
    "pert_info = time_id, pert_cat, pert_type, pert_rtype\n",
    "my_help.generate_summary_polar_figure(plot_df, pert_info, \n",
    "                                      is_save = is_save, fig_format = fig_format, fig_res = fig_res)"
   ]
  },
  {
   "cell_type": "code",
   "execution_count": null,
   "metadata": {},
   "outputs": [],
   "source": [
    "pert_cat = 'Nic'\n",
    "time_id = 22\n",
    "\n",
    "if(pert_cat == 'Nic'):\n",
    "    pert_type = 'R4/R4'\n",
    "    pert_rtype = 4\n",
    "    plot_df = sum_df_nic_final.groupby('TimeID').get_group(time_id)\n",
    "elif(pert_cat == 'Fz'):\n",
    "    pert_type = 'R3/R3'\n",
    "    pert_rtype = 3\n",
    "    plot_df = sum_df_fz_final.groupby('TimeID').get_group(time_id)\n",
    "\n",
    "pert_info = time_id, pert_cat, pert_type, pert_rtype\n",
    "my_help.generate_summary_polar_figure(plot_df, pert_info, \n",
    "                                     is_save = is_save, fig_format = fig_format, fig_res = fig_res)"
   ]
  },
  {
   "cell_type": "code",
   "execution_count": null,
   "metadata": {
    "scrolled": true
   },
   "outputs": [],
   "source": [
    "pert_cat = 'Nic'\n",
    "time_id = 28\n",
    "\n",
    "if(pert_cat == 'Nic'):\n",
    "    pert_type = 'R4/R4'\n",
    "    pert_rtype = 4\n",
    "    plot_df = sum_df_nic_final.groupby('TimeID').get_group(time_id)\n",
    "elif(pert_cat == 'Fz'):\n",
    "    pert_type = 'R3/R3'\n",
    "    pert_rtype = 3\n",
    "    plot_df = sum_df_fz_final.groupby('TimeID').get_group(time_id)\n",
    "\n",
    "pert_info = time_id, pert_cat, pert_type, pert_rtype\n",
    "my_help.generate_summary_polar_figure(plot_df, pert_info, \n",
    "                                      is_save = is_save, fig_format = fig_format, fig_res = fig_res)"
   ]
  },
  {
   "cell_type": "code",
   "execution_count": null,
   "metadata": {},
   "outputs": [],
   "source": [
    "# ====== p values: Fz, 22 hrs ====== #\n",
    "pert_cat = 'Fz'\n",
    "time_id = 22\n",
    "x_cat = \"type_plot\"\n",
    "\n",
    "if(pert_cat == 'Nic'):\n",
    "    plot_df = sum_df_nic_final.groupby('TimeID').get_group(time_id)\n",
    "    criteria = (plot_df['type_bundle'] == 'R4R4') | (plot_df['type_bundle'] == 'R3R4')\n",
    "    df_current = plot_df[criteria]\n",
    "elif(pert_cat == 'Fz'):\n",
    "    plot_df = sum_df_fz_final.groupby('TimeID').get_group(time_id)\n",
    "    criteria = (plot_df['type_bundle'] == 'R3R3') | (plot_df['type_bundle'] == 'R3R4')\n",
    "    df_current = plot_df[criteria]\n",
    "    \n",
    "\n",
    "y_cat = 'length_gc'\n",
    "my_help.p_value_4(df_current, x_cat, y_cat, pert_cat, time_id)\n",
    "\n",
    "y_cat = 'angle_gc_mrr'\n",
    "my_help.p_value_4(df_current, x_cat, y_cat, pert_cat, time_id)"
   ]
  },
  {
   "cell_type": "code",
   "execution_count": null,
   "metadata": {},
   "outputs": [],
   "source": [
    "# ====== p values: Fz, 28 hrs ====== #\n",
    "pert_cat = 'Fz'\n",
    "time_id = 28\n",
    "x_cat = \"type_plot\"\n",
    "\n",
    "if(pert_cat == 'Nic'):\n",
    "    plot_df = sum_df_nic_final.groupby('TimeID').get_group(time_id)\n",
    "    criteria = (plot_df['type_bundle'] == 'R4R4') | (plot_df['type_bundle'] == 'R3R4')\n",
    "    df_current = plot_df[criteria]\n",
    "elif(pert_cat == 'Fz'):\n",
    "    plot_df = sum_df_fz_final.groupby('TimeID').get_group(time_id)\n",
    "    criteria = (plot_df['type_bundle'] == 'R3R3') | (plot_df['type_bundle'] == 'R3R4')\n",
    "    df_current = plot_df[criteria]\n",
    "    \n",
    "\n",
    "y_cat = 'length_gc'\n",
    "my_help.p_value_4(df_current, x_cat, y_cat, pert_cat, time_id)\n",
    "\n",
    "y_cat = 'angle_gc_mrr'\n",
    "my_help.p_value_4(df_current, x_cat, y_cat, pert_cat, time_id)"
   ]
  },
  {
   "cell_type": "code",
   "execution_count": null,
   "metadata": {},
   "outputs": [],
   "source": [
    "# ====== p values: Nic, 22 hrs ====== #\n",
    "pert_cat = 'Nic'\n",
    "time_id = 22\n",
    "x_cat = \"type_plot\"\n",
    "\n",
    "if(pert_cat == 'Nic'):\n",
    "    plot_df = sum_df_nic_final.groupby('TimeID').get_group(time_id)\n",
    "    criteria = (plot_df['type_bundle'] == 'R4R4') | (plot_df['type_bundle'] == 'R3R4')\n",
    "    df_current = plot_df[criteria]\n",
    "elif(pert_cat == 'Fz'):\n",
    "    plot_df = sum_df_fz_final.groupby('TimeID').get_group(time_id)\n",
    "    criteria = (plot_df['type_bundle'] == 'R3R3') | (plot_df['type_bundle'] == 'R3R4')\n",
    "    df_current = plot_df[criteria]\n",
    "    \n",
    "\n",
    "y_cat = 'length_gc'\n",
    "my_help.p_value_4(df_current, x_cat, y_cat, pert_cat, time_id)\n",
    "\n",
    "y_cat = 'angle_gc_mrr'\n",
    "my_help.p_value_4(df_current, x_cat, y_cat, pert_cat, time_id)"
   ]
  },
  {
   "cell_type": "code",
   "execution_count": null,
   "metadata": {
    "scrolled": true
   },
   "outputs": [],
   "source": [
    "# ====== p values: Nic, 28 hrs ====== #\n",
    "pert_cat = 'Nic'\n",
    "time_id = 28\n",
    "x_cat = \"type_plot\"\n",
    "\n",
    "if(pert_cat == 'Nic'):\n",
    "    plot_df = sum_df_nic_final.groupby('TimeID').get_group(time_id)\n",
    "    criteria = (plot_df['type_bundle'] == 'R4R4') | (plot_df['type_bundle'] == 'R3R4')\n",
    "    df_current = plot_df[criteria]\n",
    "elif(pert_cat == 'Fz'):\n",
    "    plot_df = sum_df_fz_final.groupby('TimeID').get_group(time_id)\n",
    "    criteria = (plot_df['type_bundle'] == 'R3R3') | (plot_df['type_bundle'] == 'R3R4')\n",
    "    df_current = plot_df[criteria]\n",
    "    \n",
    "\n",
    "y_cat = 'length_gc'\n",
    "my_help.p_value_4(df_current, x_cat, y_cat, pert_cat, time_id)\n",
    "\n",
    "y_cat = 'angle_gc_mrr'\n",
    "my_help.p_value_4(df_current, x_cat, y_cat, pert_cat, time_id)"
   ]
  },
  {
   "cell_type": "code",
   "execution_count": null,
   "metadata": {},
   "outputs": [],
   "source": [
    "\"\"\"Figure S3\"\"\""
   ]
  },
  {
   "cell_type": "code",
   "execution_count": null,
   "metadata": {},
   "outputs": [],
   "source": [
    "## Fz 22 hrs, ctrl.\n",
    "my_help.generate_density_plot_figure(7, output_data_fz[(22, 1)], \n",
    "                                     is_save = is_save, channels = ['GFP', 'RFP'], \n",
    "                                     gfp_cmap = [0.25, [0, 0.1, 0.2]], rfp_cmap = [0.25, [0, 0.1, 0.2]],\n",
    "                                     fig_name = 'FigureS3_Fz_22hrs_ctrl', fig_format = fig_format, fig_res = fig_res)"
   ]
  },
  {
   "cell_type": "code",
   "execution_count": null,
   "metadata": {},
   "outputs": [],
   "source": [
    "## Fz 22 hrs, pert.\n",
    "my_help.generate_density_plot_figure(1, output_data_fz[(22, 5)], \n",
    "                                     is_save = is_save, channels = ['GFP', 'RFP'], \n",
    "                                     gfp_cmap = [0.2, [0, 0.1, 0.2]], rfp_cmap = [0.15, [0, 0.1]],\n",
    "                                     fig_name = 'FigureS3_Fz_22hrs_pert', fig_format = fig_format, fig_res = fig_res)"
   ]
  },
  {
   "cell_type": "code",
   "execution_count": null,
   "metadata": {},
   "outputs": [],
   "source": [
    "## Fz 28 hrs, ctrl.\n",
    "my_help.generate_density_plot_figure(36, output_data_fz[(28, 26)], \n",
    "                                     is_save = is_save, channels = ['GFP', 'RFP'], \n",
    "                                     gfp_cmap = [0.2, [0, 0.1, 0.2]], rfp_cmap = [0.15, [0, 0.1]],\n",
    "                                     fig_name = 'FigureS3_Fz_28hrs_ctrl', fig_format = fig_format, fig_res = fig_res)"
   ]
  },
  {
   "cell_type": "code",
   "execution_count": null,
   "metadata": {},
   "outputs": [],
   "source": [
    "## Fz 28 hrs, pert.\n",
    "my_help.generate_density_plot_figure(1, output_data_fz[(28, 26)], \n",
    "                                     is_save = is_save, channels = ['GFP', 'RFP'], \n",
    "                                     gfp_cmap = [0.2, [0, 0.1, 0.2]], rfp_cmap = [0.15, [0, 0.1]],\n",
    "                                     fig_name = 'FigureS3_Fz_28hrs_pert', fig_format = fig_format, fig_res = fig_res)"
   ]
  },
  {
   "cell_type": "code",
   "execution_count": null,
   "metadata": {},
   "outputs": [],
   "source": [
    "## Nic 22 hrs, ctrl.\n",
    "my_help.generate_density_plot_figure(2, output_data_nic[(22, 2)], \n",
    "                                     is_save = is_save, channels = ['GFP', 'RFP'], \n",
    "                                     gfp_cmap = [0.3, [0, 0.1, 0.2, 0.3]], rfp_cmap = [0.4, [0, 0.2, 0.4]],\n",
    "                                     fig_name = 'FigureS3_Nic_22hrs_ctrl', fig_format = fig_format, fig_res = fig_res)"
   ]
  },
  {
   "cell_type": "code",
   "execution_count": null,
   "metadata": {},
   "outputs": [],
   "source": [
    "## Nic 22 hrs, pert.\n",
    "my_help.generate_density_plot_figure(1, output_data_nic[(22, 2)], \n",
    "                                     is_save = is_save, channels = ['GFP', 'RFP'], \n",
    "                                     gfp_cmap = [0.3, [0, 0.1, 0.2, 0.3]], rfp_cmap = [0.25, [0, 0.1, 0.2]],\n",
    "                                     fig_name = 'FigureS3_Nic_22hrs_pert', fig_format = fig_format, fig_res = fig_res)"
   ]
  },
  {
   "cell_type": "code",
   "execution_count": null,
   "metadata": {},
   "outputs": [],
   "source": [
    "## Nic 28 hrs, ctrl.\n",
    "my_help.generate_density_plot_figure(5, output_data_nic[(28, 29)], \n",
    "                                     is_save = is_save, channels = ['GFP', 'RFP'], \n",
    "                                     gfp_cmap = [0.15, [0, 0.15]], rfp_cmap = [0.25, [0, 0.1, 0.2]],\n",
    "                                     fig_name = 'FigureS3_Nic_28hrs_ctrl', fig_format = fig_format, fig_res = fig_res)"
   ]
  },
  {
   "cell_type": "code",
   "execution_count": null,
   "metadata": {},
   "outputs": [],
   "source": [
    "## Nic 28 hrs, pert.\n",
    "my_help.generate_density_plot_figure(1, output_data_nic[(28, 23)], \n",
    "                                     is_save = is_save, channels = ['GFP', 'RFP'], \n",
    "                                     gfp_cmap = [0.25, [0, 0.1, 0.2]], rfp_cmap = [0.35, [0, 0.1, 0.2, 0.3]],\n",
    "                                     fig_name = 'FigureS3_Nic_28hrs_pert', fig_format = fig_format, fig_res = fig_res)"
   ]
  },
  {
   "cell_type": "code",
   "execution_count": null,
   "metadata": {
    "scrolled": true
   },
   "outputs": [],
   "source": [
    "\"======= Figure S4 =======\""
   ]
  },
  {
   "cell_type": "code",
   "execution_count": null,
   "metadata": {
    "scrolled": true
   },
   "outputs": [],
   "source": [
    "my_help.mutual_repulsion_regression_plot(sum_df_ctrl_final, annots_df_ctrl, is_save = is_save, fig_name = 'FigureS4', fig_format = fig_format, fig_res = fig_res)"
   ]
  },
  {
   "cell_type": "code",
   "execution_count": null,
   "metadata": {},
   "outputs": [],
   "source": []
  }
 ],
 "metadata": {
  "kernelspec": {
   "display_name": "Python 3",
   "language": "python",
   "name": "python3"
  },
  "language_info": {
   "codemirror_mode": {
    "name": "ipython",
    "version": 3
   },
   "file_extension": ".py",
   "mimetype": "text/x-python",
   "name": "python",
   "nbconvert_exporter": "python",
   "pygments_lexer": "ipython3",
   "version": "3.8.3"
  }
 },
 "nbformat": 4,
 "nbformat_minor": 2
}
