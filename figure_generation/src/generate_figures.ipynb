{
 "cells": [
  {
   "cell_type": "code",
   "execution_count": null,
   "metadata": {},
   "outputs": [],
   "source": [
    "%matplotlib inline\n",
    "\n",
    "import os, sys, datetime, pickle, warnings\n",
    "warnings.filterwarnings('ignore')\n",
    "\n",
    "import pandas as pd\n",
    "\n",
    "import matplotlib.pyplot as plt\n",
    "\n",
    "import numpy as np\n",
    "\n",
    "import scipy.stats as ss\n",
    "import statsmodels.api as sa\n",
    "import scikit_posthocs as sp\n",
    "import sklearn\n",
    "\n",
    "import seaborn as sns"
   ]
  },
  {
   "cell_type": "code",
   "execution_count": null,
   "metadata": {},
   "outputs": [],
   "source": [
    "module_path = os.getcwd()\n",
    "if module_path not in sys.path:\n",
    "    sys.path.append(module_path)"
   ]
  },
  {
   "cell_type": "code",
   "execution_count": null,
   "metadata": {},
   "outputs": [],
   "source": [
    "### import custom functions\n",
    "import settings as settings\n",
    "import summary_helper as my_help"
   ]
  },
  {
   "cell_type": "markdown",
   "metadata": {},
   "source": [
    "## Global variables and parameters"
   ]
  },
  {
   "cell_type": "code",
   "execution_count": null,
   "metadata": {},
   "outputs": [],
   "source": [
    "\"\"\" ============== Golbal variables and parameters ==============\"\"\"\n",
    "### import path setting\n",
    "paths = settings.paths\n",
    "\n",
    "### settings about target and heel mapping.\n",
    "matching_info = settings.matching_info\n",
    "\n",
    "### settings about colormaps of graphs\n",
    "color_code =  matching_info.color_code\n",
    "color_code[0] = 'gray'\n",
    "palette = {\n",
    "    'R3':color_code[3],\n",
    "    'R4':color_code[4],\n",
    "    'R3/R3':color_code[3],\n",
    "    'R4/R4':color_code[4]\n",
    "}\n",
    "\n",
    "### settings about figure outputs\n",
    "is_save = False\n",
    "fig_format = 'svg'\n",
    "fig_res = 300"
   ]
  },
  {
   "cell_type": "markdown",
   "metadata": {
    "scrolled": true
   },
   "source": [
    "## Load Data"
   ]
  },
  {
   "cell_type": "code",
   "execution_count": null,
   "metadata": {},
   "outputs": [],
   "source": [
    "\"\"\"data outputs from image processing pipeline\"\"\"\n",
    "# Dictionaries with relative lengths and angles info for targets and heels of each bundle in each sample\n",
    "# structure: {(time_id, sample_no):rel_points_sample}\n",
    "#     - rel_points_sample: dictionary. {bundle_no:rel_points_bundle}\n",
    "#           - rel_points_bundle: dictionary.\n",
    "#                  - keys = 'T0c', 'T0l', 'T0h', 'T2c', 'T2l', 'T2h', 'T3c', 'T3l', 'T3h', 'T4c', 'T4l', 'T4h', 'T5c', 'T5l', 'T5h', 'T7c', 'T7l', 'T7h', 'center', 'R3', 'R4', 'length_one_um', 'phi_range_1', 'phi_range_2'\n",
    "rel_pos_ctrl = pickle.load(open(os.path.join(paths.data_prefix, \"rel_pos_ctrl.pickle\"), \"rb\"))\n",
    "rel_pos_fz = pickle.load(open(os.path.join(paths.data_prefix, \"rel_pos_fz.pickle\"), \"rb\"))\n",
    "rel_pos_nic = pickle.load(open(os.path.join(paths.data_prefix, \"rel_pos_nic.pickle\"), \"rb\"))\n",
    "\n",
    "# Dictionaries with intensity matrix and parameters of representative bundles to generate sub-figures.\n",
    "# structure: {(figure_id, time_id, bundle_type ('ctrl' vs. 'pert')): bundle_data_dic}\n",
    "# - bundle_data_dic: dictionary. keys = 'figure_ID', 'time_ID', 'bundle_type', 'category_ID', 'parameter', 'relative_positions', 'intensity_matrix', 'analysis_params_general'\n",
    "#     - 'figure_ID', 'time_ID', 'category_ID', 'bundle_type': general information about this particular bundle.\n",
    "#     - 'relative_positions': dictionary. relative positions of targets and heels of this particular bundle.\n",
    "#     - 'intensity_matrix': numpy array. GFP and RFP density map of this particular bundle.\n",
    "#     - 'analysis_params_general': class of settings.GeneralParams. parameters used when doing image quantification\n",
    "output_data_ctrl_eg = pickle.load(open(os.path.join(paths.data_prefix, \"output_data_ctrl_eg.pickle\"), \"rb\"))\n",
    "output_data_fz_eg = pickle.load(open(os.path.join(paths.data_prefix, \"output_data_fz_eg.pickle\"), \"rb\"))\n",
    "output_data_nic_eg = pickle.load(open(os.path.join(paths.data_prefix, \"output_data_nic_eg.pickle\"), \"rb\"))\n"
   ]
  },
  {
   "cell_type": "code",
   "execution_count": null,
   "metadata": {},
   "outputs": [],
   "source": [
    "\"\"\" annotation files \"\"\"\n",
    "# csv files contains manual annotations of images.\n",
    "### controls\n",
    "filepath = os.path.join(paths.data_prefix, 'annots_df_ctrl_sum.xlsx')\n",
    "annots_df_ctrl = pd.read_excel(filepath)\n",
    "annots_df_ctrl.fillna(0, inplace = True)\n",
    "\n",
    "### Fzs\n",
    "filepath = os.path.join(paths.data_prefix, 'annots_df_fz_sum.xlsx')\n",
    "annots_df_fz = pd.read_excel(filepath)\n",
    "annots_df_fz.fillna(0, inplace = True)\n",
    "\n",
    "### Nics\n",
    "filepath = os.path.join(paths.data_prefix, 'annots_df_nic_sum.xlsx')\n",
    "annots_df_nic = pd.read_excel(filepath)\n",
    "annots_df_nic.fillna(0, inplace = True)"
   ]
  },
  {
   "cell_type": "code",
   "execution_count": null,
   "metadata": {},
   "outputs": [],
   "source": [
    "\"\"\"summary files\"\"\"\n",
    "# csv files contains annotated growth cone length and angle. \n",
    "sum_df_ctrl = pd.read_excel(os.path.join(paths.data_prefix, 'summary_ctrl.xlsx'))\n",
    "sum_df_ctrl = sum_df_ctrl.loc[~sum_df_ctrl['category_id'].isna(),:]\n",
    "\n",
    "sum_df_fz = pd.read_excel(os.path.join(paths.data_prefix, 'summary_fz.xlsx'))\n",
    "sum_df_fz = sum_df_fz.loc[~sum_df_fz['category_id'].isna(),:]\n",
    "\n",
    "sum_df_nic = pd.read_excel(os.path.join(paths.data_prefix, 'summary_nic.xlsx'))\n",
    "sum_df_nic = sum_df_nic.loc[~sum_df_nic['category_id'].isna(),:]"
   ]
  },
  {
   "cell_type": "markdown",
   "metadata": {
    "scrolled": false
   },
   "source": [
    "## Data Processing"
   ]
  },
  {
   "cell_type": "code",
   "execution_count": null,
   "metadata": {
    "scrolled": true
   },
   "outputs": [],
   "source": [
    "\"\"\"Process annotation files\"\"\"\n",
    "# align coordinate data to center and T4, as well as add information from image processing\n",
    "# pipeline.\n",
    "print(\"=== process annotation files ===\")\n",
    "print(\"Control:\", end = \" \")\n",
    "annots_df_ctrl_final = my_help.process_annots_df(annots_df_ctrl, rel_pos_ctrl)\n",
    "\n",
    "print(\"Fz:\", end = \" \")\n",
    "annots_df_fz_final = my_help.process_annots_df(annots_df_fz, rel_pos_fz)\n",
    "\n",
    "print(\"Nic:\", end = \" \")\n",
    "annots_df_nic_final = my_help.process_annots_df(annots_df_nic, rel_pos_nic)"
   ]
  },
  {
   "cell_type": "code",
   "execution_count": null,
   "metadata": {
    "scrolled": false
   },
   "outputs": [],
   "source": [
    "\"\"\"process summary files\"\"\"\n",
    "## Combines image annotation information and growth cone angle and length annotation information.\n",
    "## controls\n",
    "print(\"=== process summary files ===\")\n",
    "print(\"Control:\", end = \" \")\n",
    "sum_df_ctrl[['time_id', 'sample_no', 'bundle_no']] = sum_df_ctrl[['time_id', 'sample_no', 'bundle_no']].astype('int64')\n",
    "sum_df_ctrl_final = my_help.process_sum_df(sum_df_ctrl, annots_df_ctrl_final, rel_pos_ctrl, False)\n",
    "sum_df_ctrl_final.sort_values(by =['time_id', 'sample_no', 'bundle_no'], inplace = True)\n",
    "\n",
    "# ### Fzs\n",
    "print(\"\\nFz:\", end = \" \")\n",
    "sum_df_fz[['time_id', 'sample_no', 'bundle_no']] = sum_df_fz[['time_id', 'sample_no', 'bundle_no']].astype('int64')\n",
    "sum_df_fz_final = my_help.process_sum_df(sum_df_fz, annots_df_fz_final, rel_pos_fz, False)\n",
    "sum_df_fz_final.sort_values(by =['time_id', 'sample_no', 'bundle_no'], inplace = True)\n",
    "\n",
    "# ### Nics\n",
    "print(\"\\nNic:\", end = \" \")\n",
    "sum_df_nic[['time_id', 'sample_no', 'bundle_no']] = sum_df_nic[['time_id', 'sample_no', 'bundle_no']].astype('int64')\n",
    "sum_df_nic_final = my_help.process_sum_df(sum_df_nic, annots_df_nic_final, rel_pos_nic, False)\n",
    "sum_df_nic_final.sort_values(by =['time_id', 'sample_no', 'bundle_no'], inplace = True)"
   ]
  },
  {
   "cell_type": "code",
   "execution_count": null,
   "metadata": {
    "scrolled": true
   },
   "outputs": [],
   "source": [
    "sum_df_ctrl_final.columns"
   ]
  },
  {
   "cell_type": "code",
   "execution_count": null,
   "metadata": {},
   "outputs": [],
   "source": [
    "\"\"\"regression analysis on repulsion model\"\"\"\n",
    "print(\"=== get regression bundles ===\")\n",
    "\n",
    "sum_criteria = (sum_df_ctrl_final['symmetry']<=0.5) & (sum_df_ctrl_final['time_id']<=26)\n",
    "sum_df_ctrl_ml_temp = sum_df_ctrl_final.loc[sum_criteria,:]\n",
    "annots_criteria = (annots_df_ctrl_final['symmetry']<=0.5) & (annots_df_ctrl_final['time_id']<=26)\n",
    "annots_df_ctrl_ml = annots_df_ctrl_final.loc[annots_criteria,:]\n",
    "\n",
    "sum_df_ctrl_ml = my_help.process_sum_df(sum_df_ctrl_ml_temp, annots_df_ctrl_ml, rel_pos_ctrl, True)\n",
    "sum_df_ctrl_ml.sort_values(by =['time_id', 'sample_no', 'bundle_no'], inplace = True)\n",
    "\n",
    "print(\"\\n=== regression analysis ===\")\n",
    "df_data = my_help.mutual_repulsion_regression(sum_df_ctrl_ml, annots_df_ctrl_ml)\n"
   ]
  },
  {
   "cell_type": "markdown",
   "metadata": {},
   "source": [
    "## Main Figures"
   ]
  },
  {
   "cell_type": "markdown",
   "metadata": {
    "scrolled": true
   },
   "source": [
    "### Figure 2\n",
    "Establishment of standardized coordinates for comparison of growth cone extension."
   ]
  },
  {
   "cell_type": "code",
   "execution_count": null,
   "metadata": {},
   "outputs": [],
   "source": [
    "### representative GFP density map in Figure 2.\n",
    "my_help.generate_density_plot_figure(output_data_ctrl_eg[('Fig2', 22, 'ctrl')], \n",
    "                                     is_save = is_save, channels = ['GFP'], gfp_cmap = [0.2, [0, 0.1, 0.2]],\n",
    "                                     fig_name = 'Figure2', fig_format = fig_format, fig_res = fig_res)"
   ]
  },
  {
   "cell_type": "markdown",
   "metadata": {},
   "source": [
    "### Figure 3\n",
    "Wild-type R3s and R4s exhibit asymmetric speeds but symmetric directions of extension."
   ]
  },
  {
   "cell_type": "markdown",
   "metadata": {},
   "source": [
    "#### Figure 3A: Relative length of R3 and R4s from wild-type flies over time."
   ]
  },
  {
   "cell_type": "code",
   "execution_count": null,
   "metadata": {
    "scrolled": false
   },
   "outputs": [],
   "source": [
    "# ====== Figure ====== #\n",
    "### set parameters\n",
    "df_current = sum_df_ctrl_final\n",
    "x_cat = 'time_id'\n",
    "y_cat = 'length_gc'\n",
    "hue = 'type_plot'\n",
    "df_plot = df_current[[x_cat, y_cat, hue]].dropna(how='any')\n",
    "ylim = [0, 3]\n",
    "ylabel = 'Relative Length (a.u.)'\n",
    "xlabel = 'Time (hrs APF)'\n",
    "\n",
    "### calculate T3/T4 range\n",
    "times = len(df_current.groupby(x_cat).groups)\n",
    "x = np.arange(times+2)-1\n",
    "y = np.zeros((6, times+2))\n",
    "\n",
    "y[0,1:-1] = df_current.groupby(x_cat).mean()['T4l_fromheel']\n",
    "y[1,1:-1] = df_current.groupby(x_cat).mean()['T4h_fromheel']\n",
    "y[2,1:-1] = df_current.groupby(x_cat).mean()['T4c_fromheel']\n",
    "y[3,1:-1] = df_current.groupby(x_cat).mean()['T3l_fromheel']\n",
    "y[4,1:-1] = df_current.groupby(x_cat).mean()['T3h_fromheel']\n",
    "y[5,1:-1] = df_current.groupby(x_cat).mean()['T3c_fromheel']\n",
    "y[:,0] = y[:,1]\n",
    "y[:,-1] = y[:,-2]\n",
    "\n",
    "### figure set-up\n",
    "SMALL_SIZE = 20\n",
    "MEDIUM_SIZE = 20\n",
    "BIGGER_SIZE = 28\n",
    "plt.rc('font', size=SMALL_SIZE)         # controls default text sizes\n",
    "plt.rc('axes', titlesize=BIGGER_SIZE)   # fontsize of the axes title\n",
    "plt.rc('axes', labelsize=MEDIUM_SIZE)   # fontsize of the x and y labels\n",
    "plt.rc('xtick', labelsize=MEDIUM_SIZE)  # fontsize of the tick labels\n",
    "plt.rc('ytick', labelsize=MEDIUM_SIZE)  # fontsize of the tick labels\n",
    "plt.rc('legend', fontsize=MEDIUM_SIZE)  # legend fontsize\n",
    "plt.rc('figure', titlesize=BIGGER_SIZE) # fontsize of the figure title\n",
    "\n",
    "sns.set_style(\"white\")\n",
    "\n",
    "### plotting\n",
    "fig, ax = plt.subplots(1,1, figsize = (12,8))\n",
    "if('length' in y_cat):\n",
    "    ax.plot(x, y[2,:], '--', color = color_code[4], label='_nolegend_')\n",
    "    ax.plot(x, y[5,:], '--', color = color_code[3], label='_nolegend_')\n",
    "    ax.fill_between(x, y[1,:], y[0,:], color=color_code[4], alpha=0.2, label='_nolegend_')\n",
    "    ax.fill_between(x, y[3,:], y[4,:], color=color_code[3], alpha=0.2, label='_nolegend_')\n",
    "\n",
    "sns.boxplot(x=x_cat, y=y_cat, data=df_plot, hue = hue, dodge = True, palette = palette, ax = ax)\n",
    "sns.swarmplot(x=x_cat, y=y_cat, data=df_plot, color = '.25', hue = hue, dodge = True, ax = ax)\n",
    "# g.legend.remove()\n",
    "ax.set_ylim(ylim)\n",
    "ax.set_ylabel(ylabel)\n",
    "ax.set_xlabel(xlabel)\n",
    "ax.tick_params(axis = 'y', labelleft = [0,1,2,3,4])\n",
    "\n",
    "ax.legend(title = 'R type', loc='center left', bbox_to_anchor=(1.01, 0.9))\n",
    "\n",
    "if(is_save):\n",
    "    fig_name = f'Figure3B.{fig_format}'\n",
    "    fig_save_path = os.path.join(paths.output_prefix, fig_name)\n",
    "    plt.savefig(fig_save_path, dpi=fig_res, bbox_inches='tight', format = fig_format)\n",
    "\n",
    "plt.show()"
   ]
  },
  {
   "cell_type": "code",
   "execution_count": null,
   "metadata": {},
   "outputs": [],
   "source": [
    "# ====== p values of relative length ====== #"
   ]
  },
  {
   "cell_type": "code",
   "execution_count": null,
   "metadata": {},
   "outputs": [],
   "source": [
    "pairs_list = [[22, 24], [24, 26], [26, 28], [28, 30], [30, 32], [32, 36]]"
   ]
  },
  {
   "cell_type": "code",
   "execution_count": null,
   "metadata": {
    "scrolled": true
   },
   "outputs": [],
   "source": [
    "r_type = \"R3\"\n",
    "df_r = df_plot.groupby(hue).get_group(r_type)\n",
    "\n",
    "data = [df_r.loc[ids, y_cat].values for ids in df_r.groupby(x_cat).groups.values()]\n",
    "H, p = ss.kruskal(*data)\n",
    "stats = sp.posthoc_mannwhitney(df_r, val_col=y_cat, group_col=x_cat, p_adjust = 'holm')\n",
    "\n",
    "print(\"=== significance of R3 relative length ===\")\n",
    "for pair in pairs_list:\n",
    "    stat = stats.loc[pair[0], pair[1]]\n",
    "    print(f\"{pair[0]} vs. {pair[1]}: {stat: .5f}\", end = \", \")\n",
    "    if(stat >= 0.05):\n",
    "        print(\"ns\")\n",
    "    elif((stat < 0.05) & (stat >= 0.01)):\n",
    "        print(\"*\")\n",
    "    elif((stat < 0.01) & (stat >= 0.001)):\n",
    "        print(\"**\")\n",
    "    else:\n",
    "        print(\"***\")"
   ]
  },
  {
   "cell_type": "code",
   "execution_count": null,
   "metadata": {
    "scrolled": false
   },
   "outputs": [],
   "source": [
    "r_type = \"R4\"\n",
    "df_r = df_plot.groupby(hue).get_group(r_type)\n",
    "\n",
    "data = [df_r.loc[ids, y_cat].values for ids in df_r.groupby(x_cat).groups.values()]\n",
    "H, p = ss.kruskal(*data)\n",
    "stats = sp.posthoc_mannwhitney(df_r, val_col=y_cat, group_col=x_cat, p_adjust = 'holm')\n",
    "\n",
    "print(\"=== significance of R4 relative length ===\")\n",
    "for pair in pairs_list:\n",
    "    stat = stats.loc[pair[0], pair[1]]\n",
    "    print(f\"{pair[0]} vs. {pair[1]}: {stat: .5f}\", end = \", \")\n",
    "    if(stat >= 0.05):\n",
    "        print(\"ns\")\n",
    "    elif((stat < 0.05) & (stat >= 0.01)):\n",
    "        print(\"*\")\n",
    "    elif((stat < 0.01) & (stat >= 0.001)):\n",
    "        print(\"**\")\n",
    "    else:\n",
    "        print(\"***\")"
   ]
  },
  {
   "cell_type": "markdown",
   "metadata": {},
   "source": [
    "#### Figure 3B: Relative angle of R3 and R4s from wild-type flies over time."
   ]
  },
  {
   "cell_type": "code",
   "execution_count": null,
   "metadata": {
    "scrolled": false
   },
   "outputs": [],
   "source": [
    "# ====== Figure ====== #\n",
    "### set parameters\n",
    "x_cat = 'time_id'\n",
    "y_cat = 'angle_gc_plot'\n",
    "hue = \"type_plot\"\n",
    "xlim = 8\n",
    "\n",
    "colors1 = plt.cm.Reds(np.linspace(0, 1, 15))\n",
    "colors1 = colors1[5:,:]\n",
    "\n",
    "colors2 = plt.cm.YlOrBr(np.linspace(0, 1, 15))\n",
    "colors2 = colors2[3:,:]\n",
    "\n",
    "phi_unit = my_help.get_angle_unit_theory('phi_unit')\n",
    "\n",
    "### calculate values\n",
    "r3_control = sum_df_ctrl_final.groupby(hue).get_group('R3')\n",
    "r4_control = sum_df_ctrl_final.groupby(hue).get_group('R4')\n",
    "\n",
    "theta1 = r3_control.groupby(x_cat).mean()[y_cat].to_numpy()\n",
    "width1 = r3_control.groupby(x_cat).std()[y_cat].to_numpy()\n",
    "\n",
    "theta2 = r4_control.groupby(x_cat).mean()[y_cat].to_numpy()\n",
    "width2 = r4_control.groupby(x_cat).std()[y_cat].to_numpy()\n",
    "\n",
    "radii1 = np.arange(len(theta1))+1\n",
    "radii2 = np.arange(len(theta2))+1\n",
    "\n",
    "theta1 = np.flip(theta1)\n",
    "radii1 = np.flip(radii1)\n",
    "width1 = np.flip(width1)\n",
    "theta2 = np.flip(theta2)\n",
    "radii2 = np.flip(radii2)\n",
    "width2 = np.flip(width2)\n",
    "\n",
    "dTiCs = {}\n",
    "target_grid_polar = my_help.get_target_grid_polar_summary(return_type = 'theory', dTiCs = dTiCs)\n",
    "\n",
    "### figure set-up\n",
    "SMALL_SIZE = 20\n",
    "MEDIUM_SIZE = 20\n",
    "BIGGER_SIZE = 28\n",
    "plt.rc('font', size=SMALL_SIZE)         # controls default text sizes\n",
    "plt.rc('axes', titlesize=BIGGER_SIZE)   # fontsize of the axes title\n",
    "plt.rc('axes', labelsize=MEDIUM_SIZE)   # fontsize of the x and y labels\n",
    "plt.rc('xtick', labelsize=MEDIUM_SIZE)  # fontsize of the tick labels\n",
    "plt.rc('ytick', labelsize=MEDIUM_SIZE)  # fontsize of the tick labels\n",
    "plt.rc('legend', fontsize=MEDIUM_SIZE)  # legend fontsize\n",
    "plt.rc('figure', titlesize=BIGGER_SIZE) # fontsize of the figure title\n",
    "\n",
    "\n",
    "### plotting\n",
    "fig = plt.figure(figsize=(12,8))\n",
    "ax = fig.add_axes([0.1, 0.1, 0.75, 0.79], polar=True)\n",
    "\n",
    "# plot reference line\n",
    "ax.plot([0,0], [0,xlim], '--', color = 'Gray', linewidth = 1.5)\n",
    "ax.plot([0,target_grid_polar[2,0]], [0,xlim], '--', color = 'Gray', linewidth = 1.5)\n",
    "ax.plot([0,target_grid_polar[5,0]], [0,xlim], '--', color = 'Gray', linewidth = 1.5)\n",
    "\n",
    "for i in range(len(radii1)):\n",
    "    r = np.arange(-1, 1, 0.1)\n",
    "    theta = np.zeros((r.shape)) + radii1[i]\n",
    "    ax.plot(r,theta,'--', color = 'LightGray', linewidth = 2)\n",
    "\n",
    "ax.bar(theta1, radii1, width=width1, bottom=0.0, color = colors1, alpha = 0.9)\n",
    "ax.bar(theta2, radii2, width=width2, bottom=0.0, color = colors2, alpha=0.9)\n",
    "\n",
    "ax.set_thetamin(-30)\n",
    "ax.set_thetamax(30)\n",
    "ax.set_rlim(0, xlim)\n",
    "\n",
    "plt.yticks(ticks = [1, 2, 3, 4, 5, 6, 7], labels = [\"22\", \"24\", \"26\", \"28\", \"30\", \"32\", \"36\"])\n",
    "plt.xticks(ticks = [-phi_unit, 0, phi_unit], labels = [-1, 0, 1])\n",
    "ax.set_xlabel(\"Time (hrs APF)\")\n",
    "ax.yaxis.set_label_position(\"right\")\n",
    "plt.ylabel(\"Relative Angle (a.u.)\", labelpad=35)\n",
    "\n",
    "ax.grid(False)\n",
    "\n",
    "if(is_save):\n",
    "    fig_name = f'Figure3C.{fig_format}'\n",
    "    fig_save_path = os.path.join(paths.output_prefix, fig_name)\n",
    "    plt.savefig(fig_save_path, dpi=fig_res, bbox_inches='tight', format = fig_format, facecolor='w')\n",
    "plt.show()"
   ]
  },
  {
   "cell_type": "code",
   "execution_count": null,
   "metadata": {},
   "outputs": [],
   "source": [
    "# ====== stats ====== #\n",
    "x_cat = 'time_id'\n",
    "y_cat = 'angle_gc_mrr'\n",
    "hue = 'type_plot'\n",
    "df_plot = sum_df_ctrl_final[[x_cat, y_cat, hue]].dropna(how='any')\n",
    "df_group = df_plot.groupby(x_cat)\n",
    "for gp in df_group.groups.keys():\n",
    "    print(f'{gp} hrs')\n",
    "    my_help.stats_fig3b(df_group.get_group(gp), hue, y_cat, [['R3', 'R4']], 'Mann-Whitney')"
   ]
  },
  {
   "cell_type": "markdown",
   "metadata": {
    "scrolled": true
   },
   "source": [
    "### Figure 4\n",
    "Extension speed is instrumental for asymmetrical targeting."
   ]
  },
  {
   "cell_type": "code",
   "execution_count": null,
   "metadata": {
    "scrolled": true
   },
   "outputs": [],
   "source": [
    "pert_cat = 'Fz'\n",
    "time_id = 24\n",
    "\n",
    "if(pert_cat == 'Nic'):\n",
    "    pert_type = 'R4/R4'\n",
    "    pert_rtype = 4\n",
    "    plot_df = sum_df_nic_final.groupby('time_id').get_group(time_id)\n",
    "elif(pert_cat == 'Fz'):\n",
    "    pert_type = 'R3/R3'\n",
    "    pert_rtype = 3\n",
    "    plot_df = sum_df_fz_final.groupby('time_id').get_group(time_id)\n",
    "\n",
    "pert_info = time_id, pert_cat, pert_type, pert_rtype\n",
    "my_help.generate_summary_polar_figure(plot_df, pert_info,  \n",
    "                                      is_save = is_save, fig_format = fig_format, fig_res = fig_res)"
   ]
  },
  {
   "cell_type": "code",
   "execution_count": null,
   "metadata": {
    "scrolled": true
   },
   "outputs": [],
   "source": [
    "pert_cat = 'Fz'\n",
    "time_id = 28\n",
    "\n",
    "if(pert_cat == 'Nic'):\n",
    "    pert_type = 'R4/R4'\n",
    "    pert_rtype = 4\n",
    "    plot_df = sum_df_nic_final.groupby('time_id').get_group(time_id)\n",
    "elif(pert_cat == 'Fz'):\n",
    "    pert_type = 'R3/R3'\n",
    "    pert_rtype = 3\n",
    "    plot_df = sum_df_fz_final.groupby('time_id').get_group(time_id)\n",
    "\n",
    "pert_info = time_id, pert_cat, pert_type, pert_rtype\n",
    "my_help.generate_summary_polar_figure(plot_df, pert_info, \n",
    "                                      is_save = is_save, fig_format = fig_format, fig_res = fig_res)"
   ]
  },
  {
   "cell_type": "code",
   "execution_count": null,
   "metadata": {
    "scrolled": true
   },
   "outputs": [],
   "source": [
    "pert_cat = 'Nic'\n",
    "time_id = 24\n",
    "\n",
    "if(pert_cat == 'Nic'):\n",
    "    pert_type = 'R4/R4'\n",
    "    pert_rtype = 4\n",
    "    plot_df = sum_df_nic_final.groupby('time_id').get_group(time_id)\n",
    "elif(pert_cat == 'Fz'):\n",
    "    pert_type = 'R3/R3'\n",
    "    pert_rtype = 3\n",
    "    plot_df = sum_df_fz_final.groupby('time_id').get_group(time_id)\n",
    "\n",
    "pert_info = time_id, pert_cat, pert_type, pert_rtype\n",
    "my_help.generate_summary_polar_figure(plot_df, pert_info, \n",
    "                                     is_save = is_save, fig_format = fig_format, fig_res = fig_res)"
   ]
  },
  {
   "cell_type": "code",
   "execution_count": null,
   "metadata": {
    "scrolled": false
   },
   "outputs": [],
   "source": [
    "pert_cat = 'Nic'\n",
    "time_id = 28\n",
    "\n",
    "if(pert_cat == 'Nic'):\n",
    "    pert_type = 'R4/R4'\n",
    "    pert_rtype = 4\n",
    "    plot_df = sum_df_nic_final.groupby('time_id').get_group(time_id)\n",
    "elif(pert_cat == 'Fz'):\n",
    "    pert_type = 'R3/R3'\n",
    "    pert_rtype = 3\n",
    "    plot_df = sum_df_fz_final.groupby('time_id').get_group(time_id)\n",
    "\n",
    "pert_info = time_id, pert_cat, pert_type, pert_rtype\n",
    "my_help.generate_summary_polar_figure(plot_df, pert_info, \n",
    "                                      is_save = is_save, fig_format = fig_format, fig_res = fig_res)"
   ]
  },
  {
   "cell_type": "code",
   "execution_count": null,
   "metadata": {
    "scrolled": true
   },
   "outputs": [],
   "source": [
    "# ====== stats: Fz, 24 hrs ====== #\n",
    "pert_cat = 'Fz'\n",
    "time_id = 24\n",
    "x_cat = \"type_plot\"\n",
    "\n",
    "if(pert_cat == 'Nic'):\n",
    "    plot_df = sum_df_nic_final.groupby('time_id').get_group(time_id)\n",
    "    criteria = (plot_df['type_bundle'] == 'R4R4') | (plot_df['type_bundle'] == 'R3R4')\n",
    "    df_current = plot_df[criteria]\n",
    "elif(pert_cat == 'Fz'):\n",
    "    plot_df = sum_df_fz_final.groupby('time_id').get_group(time_id)\n",
    "    criteria = (plot_df['type_bundle'] == 'R3R3') | (plot_df['type_bundle'] == 'R3R4')\n",
    "    df_current = plot_df[criteria]\n",
    "\n",
    "my_help.stats_fig4(df_current, x_cat, pert_cat, time_id, 'count')\n",
    "my_help.stats_fig4(df_current, x_cat, pert_cat, time_id, 'length')\n",
    "stat = my_help.stats_fig4(df_current, x_cat, pert_cat, time_id, 'angle')"
   ]
  },
  {
   "cell_type": "code",
   "execution_count": null,
   "metadata": {},
   "outputs": [],
   "source": [
    "# ====== stats: Fz, 28 hrs ====== #\n",
    "pert_cat = 'Fz'\n",
    "time_id = 28\n",
    "x_cat = \"type_plot\"\n",
    "\n",
    "if(pert_cat == 'Nic'):\n",
    "    plot_df = sum_df_nic_final.groupby('time_id').get_group(time_id)\n",
    "    criteria = (plot_df['type_bundle'] == 'R4R4') | (plot_df['type_bundle'] == 'R3R4')\n",
    "    df_current = plot_df[criteria]\n",
    "elif(pert_cat == 'Fz'):\n",
    "    plot_df = sum_df_fz_final.groupby('time_id').get_group(time_id)\n",
    "    criteria = (plot_df['type_bundle'] == 'R3R3') | (plot_df['type_bundle'] == 'R3R4')\n",
    "    df_current = plot_df[criteria]\n",
    "    \n",
    "\n",
    "my_help.stats_fig4(df_current, x_cat, pert_cat, time_id, 'count')\n",
    "my_help.stats_fig4(df_current, x_cat, pert_cat, time_id, 'length')\n",
    "my_help.stats_fig4(df_current, x_cat, pert_cat, time_id, 'angle')"
   ]
  },
  {
   "cell_type": "code",
   "execution_count": null,
   "metadata": {},
   "outputs": [],
   "source": [
    "# ====== stats: Nic, 24 hrs ====== #\n",
    "pert_cat = 'Nic'\n",
    "time_id = 24\n",
    "x_cat = \"type_plot\"\n",
    "\n",
    "if(pert_cat == 'Nic'):\n",
    "    plot_df = sum_df_nic_final.groupby('time_id').get_group(time_id)\n",
    "    criteria = (plot_df['type_bundle'] == 'R4R4') | (plot_df['type_bundle'] == 'R3R4')\n",
    "    df_current = plot_df[criteria]\n",
    "elif(pert_cat == 'Fz'):\n",
    "    plot_df = sum_df_fz_final.groupby('time_id').get_group(time_id)\n",
    "    criteria = (plot_df['type_bundle'] == 'R3R3') | (plot_df['type_bundle'] == 'R3R4')\n",
    "    df_current = plot_df[criteria]\n",
    "    \n",
    "\n",
    "my_help.stats_fig4(df_current, x_cat, pert_cat, time_id, 'count')\n",
    "my_help.stats_fig4(df_current, x_cat, pert_cat, time_id, 'length')\n",
    "my_help.stats_fig4(df_current, x_cat, pert_cat, time_id, 'angle')"
   ]
  },
  {
   "cell_type": "code",
   "execution_count": null,
   "metadata": {
    "scrolled": true
   },
   "outputs": [],
   "source": [
    "# ====== stats: Nic, 28 hrs ====== #\n",
    "pert_cat = 'Nic'\n",
    "time_id = 28\n",
    "x_cat = \"type_plot\"\n",
    "\n",
    "if(pert_cat == 'Nic'):\n",
    "    plot_df = sum_df_nic_final.groupby('time_id').get_group(time_id)\n",
    "    criteria = (plot_df['type_bundle'] == 'R4R4') | (plot_df['type_bundle'] == 'R3R4')\n",
    "    df_current = plot_df[criteria]\n",
    "elif(pert_cat == 'Fz'):\n",
    "    plot_df = sum_df_fz_final.groupby('time_id').get_group(time_id)\n",
    "    criteria = (plot_df['type_bundle'] == 'R3R3') | (plot_df['type_bundle'] == 'R3R4')\n",
    "    df_current = plot_df[criteria]\n",
    "    \n",
    "\n",
    "my_help.stats_fig4(df_current, x_cat, pert_cat, time_id, 'count')\n",
    "my_help.stats_fig4(df_current, x_cat, pert_cat, time_id, 'length')\n",
    "my_help.stats_fig4(df_current, x_cat, pert_cat, time_id, 'angle')"
   ]
  },
  {
   "cell_type": "markdown",
   "metadata": {},
   "source": [
    "## Supplemental Figures"
   ]
  },
  {
   "cell_type": "markdown",
   "metadata": {},
   "source": [
    "### S2 Fig\n",
    "Extension phenotype of wild-type flies over time."
   ]
  },
  {
   "cell_type": "code",
   "execution_count": null,
   "metadata": {
    "scrolled": true
   },
   "outputs": [],
   "source": [
    "## 22 hrs\n",
    "my_help.generate_density_plot_figure(output_data_ctrl_eg[('FigS2', 22, 'ctrl')], \n",
    "                                     is_save = is_save, channels = ['GFP', 'RFP'], \n",
    "                                     gfp_cmap = [0.2, [0, 0.1, 0.2]], rfp_cmap = [0.3, [0, 0.1, 0.2, 0.3]],\n",
    "                                     fig_name = 'S2Fig_22hrs', fig_format = fig_format, fig_res = fig_res)"
   ]
  },
  {
   "cell_type": "code",
   "execution_count": null,
   "metadata": {
    "scrolled": false
   },
   "outputs": [],
   "source": [
    "## 24 hrs\n",
    "my_help.generate_density_plot_figure(output_data_ctrl_eg[('FigS2', 24, 'ctrl')], \n",
    "                                     is_save = is_save, channels = ['GFP', 'RFP'], \n",
    "                                     gfp_cmap = [0.3, [0, 0.1, 0.2, 0.3]], rfp_cmap = [0.3, [0, 0.1, 0.2, 0.3]],\n",
    "                                     fig_name = 'S2Fig_24hrs', fig_format = fig_format, fig_res = fig_res)"
   ]
  },
  {
   "cell_type": "code",
   "execution_count": null,
   "metadata": {
    "scrolled": true
   },
   "outputs": [],
   "source": [
    "## 26 hrs\n",
    "my_help.generate_density_plot_figure(output_data_ctrl_eg[('FigS2', 26, 'ctrl')], \n",
    "                                     is_save = is_save, channels = ['GFP', 'RFP'], \n",
    "                                     gfp_cmap = [0.25, [0, 0.1, 0.2, 0.3]], rfp_cmap = [0.3, [0, 0.1, 0.2, 0.3]],\n",
    "                                     fig_name = 'S2Fig_26hrs', fig_format = fig_format, fig_res = fig_res)"
   ]
  },
  {
   "cell_type": "code",
   "execution_count": null,
   "metadata": {
    "scrolled": true
   },
   "outputs": [],
   "source": [
    "## 28 hrs\n",
    "my_help.generate_density_plot_figure(output_data_ctrl_eg[('FigS2', 28, 'ctrl')], \n",
    "                                     is_save = is_save, channels = ['GFP', 'RFP'], \n",
    "                                     gfp_cmap = [0.15, [0, 0.1]], rfp_cmap = [0.2, [0, 0.1, 0.2]],\n",
    "                                     fig_name = 'S2Fig_28hrs', fig_format = fig_format, fig_res = fig_res)"
   ]
  },
  {
   "cell_type": "code",
   "execution_count": null,
   "metadata": {
    "scrolled": true
   },
   "outputs": [],
   "source": [
    "## 30 hrs\n",
    "my_help.generate_density_plot_figure(output_data_ctrl_eg[('FigS2', 30, 'ctrl')], \n",
    "                                     is_save = is_save, channels = ['GFP', 'RFP'], \n",
    "                                     gfp_cmap = [0.3, [0, 0.1, 0.2, 0.3]], rfp_cmap = [0.2, [0, 0.1, 0.2]],\n",
    "                                     fig_name = 'S2Fig_30hrs', fig_format = fig_format, fig_res = fig_res)"
   ]
  },
  {
   "cell_type": "code",
   "execution_count": null,
   "metadata": {
    "scrolled": true
   },
   "outputs": [],
   "source": [
    "## 32 hrs\n",
    "my_help.generate_density_plot_figure(output_data_ctrl_eg[('FigS2', 32, 'ctrl')], \n",
    "                                     is_save = is_save, channels = ['GFP', 'RFP'], \n",
    "                                     gfp_cmap = [0.2, [0, 0.1, 0.2]], rfp_cmap = [0.3, [0, 0.1, 0.2, 0.3]],\n",
    "                                     fig_name = 'S2Fig_32hrs', fig_format = fig_format, fig_res = fig_res)"
   ]
  },
  {
   "cell_type": "code",
   "execution_count": null,
   "metadata": {
    "scrolled": false
   },
   "outputs": [],
   "source": [
    "## 36 hrs\n",
    "my_help.generate_density_plot_figure(output_data_ctrl_eg[('FigS2', 36, 'ctrl')], \n",
    "                                     is_save = is_save, channels = ['GFP', 'RFP'], \n",
    "                                     gfp_cmap = [0.4, [0, 0.2, 0.4]], rfp_cmap = [0.15, [0, 0.1]],\n",
    "                                     fig_name = 'S2Fig_36hrs', fig_format = fig_format, fig_res = fig_res)"
   ]
  },
  {
   "cell_type": "markdown",
   "metadata": {},
   "source": [
    "### S3 Fig\n",
    "Variation of the standardized coordinate system across samples."
   ]
  },
  {
   "cell_type": "code",
   "execution_count": null,
   "metadata": {},
   "outputs": [],
   "source": [
    "### general set-up\n",
    "time_id = 26\n",
    "annots_df_time_gp = annots_df_ctrl_final.groupby(['time_id'])\n",
    "annots_df_time = annots_df_time_gp.get_group(time_id)\n",
    "annots_df_smp_gp = annots_df_time.groupby('sample_no')"
   ]
  },
  {
   "cell_type": "markdown",
   "metadata": {},
   "source": [
    "#### S3B: Raw measurements"
   ]
  },
  {
   "cell_type": "code",
   "execution_count": null,
   "metadata": {
    "scrolled": false
   },
   "outputs": [],
   "source": [
    "heel_coords, target_coords= my_help.plot_sample_variation_raw_measurements(annots_df_smp_gp, \n",
    "                                       is_save = False, fig_format = fig_format, fig_res = fig_res)"
   ]
  },
  {
   "cell_type": "markdown",
   "metadata": {},
   "source": [
    "#### S3C: Polar plots"
   ]
  },
  {
   "cell_type": "code",
   "execution_count": null,
   "metadata": {
    "scrolled": true
   },
   "outputs": [],
   "source": [
    "coords, sum_coords = my_help.plot_sample_variation_polar(annots_df_smp_gp, \n",
    "                            is_save = False, fig_format = fig_format, fig_res = fig_res)"
   ]
  },
  {
   "cell_type": "markdown",
   "metadata": {},
   "source": [
    "#### S3D: Overlay"
   ]
  },
  {
   "cell_type": "code",
   "execution_count": null,
   "metadata": {
    "scrolled": true
   },
   "outputs": [],
   "source": [
    "my_help.plot_sample_variation_polar_centroids(sum_coords, \n",
    "                                             is_save = False, fig_format = fig_format, fig_res = fig_res)"
   ]
  },
  {
   "cell_type": "markdown",
   "metadata": {},
   "source": [
    "### Fig S4\n",
    "Variation of the standardized coordinate system across time points."
   ]
  },
  {
   "cell_type": "code",
   "execution_count": null,
   "metadata": {
    "scrolled": true
   },
   "outputs": [],
   "source": [
    "heel_centroid_sum, target_centroid_sum, coords_sum = my_help.plot_time_variation_raw_centroids(annots_df_ctrl_final, \n",
    "                                                                                       is_save = False, fig_format = fig_format, fig_res = fig_res)"
   ]
  },
  {
   "cell_type": "markdown",
   "metadata": {},
   "source": [
    "#### S4B: Raw centroids overlay "
   ]
  },
  {
   "cell_type": "code",
   "execution_count": null,
   "metadata": {},
   "outputs": [],
   "source": [
    "fig, ax = plt.subplots(1,1, figsize = (8,4))\n",
    "\n",
    "### params\n",
    "index_to_target_id = settings.matching_info.index_to_target_id\n",
    "\n",
    "### Plot reference\n",
    "ax.plot([-5, 20], [0,0], '--', color = 'gray')\n",
    "\n",
    "### Plot R and L\n",
    "for i in range(len(annots_df_time_gp)):\n",
    "    ### increase size over time\n",
    "    dotsize = 2 + 2*i\n",
    "    circlesie = 15 + 2*i\n",
    "\n",
    "    for j in range(6):\n",
    "        ### R cells\n",
    "        ax.plot(heel_centroid_sum[j, 0, i], heel_centroid_sum[j, 1, i], \n",
    "                'o', color = color_code[j+1], alpha = 0.5, markersize = dotsize)\n",
    "        ax.plot(target_centroid_sum[j, 0, i], target_centroid_sum[j, 1, i], \n",
    "                'o', mec = color_code[index_to_target_id[j]],\n",
    "                markersize = circlesie, mew = 1, mfc = 'none')\n",
    "### Plot Center\n",
    "ax.plot(0, 0, 'o', color = 'k', markersize = 10)\n",
    "ax.text(0.2, -0.8, \"C\")\n",
    "    \n",
    "### Axis\n",
    "ax.set_xlim([-5, 15])\n",
    "ax.set_ylim([5, -5])\n",
    "ax.set_xlim([-4, 16])\n",
    "ax.set_ylim([-5, 5])\n",
    "ax.set_aspect(aspect=1)\n",
    "ax.set_xlabel('X (um)')\n",
    "ax.set_ylabel('y (um)')\n",
    "ax.set_title('Raw Data Overlay')\n",
    "\n",
    "### Saving\n",
    "fig_name = f'S4B_Fig.{fig_format}'\n",
    "fig_save_path = os.path.join(paths.output_prefix, fig_name)\n",
    "if(is_save):\n",
    "    plt.savefig(fig_save_path, dpi = fig_res, bbox_inches = 'tight', format = fig_format)\n",
    "\n",
    "plt.show()"
   ]
  },
  {
   "cell_type": "markdown",
   "metadata": {},
   "source": [
    "#### S4D: Coordinate centroids overlay"
   ]
  },
  {
   "cell_type": "code",
   "execution_count": null,
   "metadata": {},
   "outputs": [],
   "source": [
    "fig = plt.figure(figsize=(5, 5))\n",
    "ax = fig.add_axes([0.1, 0.1, 0.75, 0.79], polar=True)\n",
    "\n",
    "### params\n",
    "plot_color = {\n",
    "    'R3':color_code[3],\n",
    "    'R4':color_code[4],\n",
    "    'T4':color_code[4],\n",
    "    'T3':color_code[3],\n",
    "    'T7':color_code[7],\n",
    "}\n",
    "\n",
    "\n",
    "### Get data\n",
    "phi_unit = my_help.get_angle_unit_theory('phi_unit')\n",
    "\n",
    "sum_coords = {}\n",
    "for t in plot_color.keys():\n",
    "    sum_coords[t] = np.zeros((2, len(annots_df_time_gp.groups.keys())))\n",
    "\n",
    "for i_time, time_id in enumerate(annots_df_time_gp.groups.keys()):\n",
    "    for t in plot_color.keys():\n",
    "        sum_coords[t][:, i_time] = np.mean(coords_sum[time_id][t], axis = 1)\n",
    "\n",
    "### Plot references\n",
    "ax.plot([0,0], [0,2.5], '--', color = \"0.8\", linewidth = 1)\n",
    "ax.plot([0,sum_coords[\"T3\"][0,0]], [0,2.5], '--', color = \"0.8\", linewidth = 1)\n",
    "ax.plot([0,sum_coords[\"T7\"][0,0]], [0,2.5], '--', color = \"0.8\", linewidth = 1)\n",
    "\n",
    "\n",
    "### Plot centroids\n",
    "for i_smp in range(len(annots_df_time_gp.groups.keys())):\n",
    "    ### increase size over time\n",
    "    dotsize = 2 + 2*i_smp\n",
    "    circlesie = 15 + 2*i_smp\n",
    "\n",
    "    for t in ['R3', 'R4']:\n",
    "        ax.plot(sum_coords[t][0, i_smp], sum_coords[t][1, i_smp], \n",
    "             'o', color = plot_color[t], alpha = 0.5, markersize = dotsize)\n",
    "    \n",
    "    for t in ['T3', 'T4', 'T7']:\n",
    "        ax.plot(sum_coords[t][0, i_smp], sum_coords[t][1, i_smp], \n",
    "             'o', mec = plot_color[t], markersize = circlesie, mew = 1.0, alpha = 0.8, mfc = 'none')\n",
    "\n",
    "### Plot center\n",
    "ax.plot(0, 0, 'o', color = 'k', markersize = 15)\n",
    "ax.text(-0.1, -0.1, \"C\")\n",
    "\n",
    "### Shrink current axis by 20%\n",
    "box = ax.get_position()\n",
    "ax.set_position([box.x0, box.y0, box.width * 8, box.height])\n",
    "\n",
    "### Axis\n",
    "ax.set_thetamin(-30)\n",
    "ax.set_thetamax(30)\n",
    "ax.set_rlim(0, 2)\n",
    "ax.set_yticks([0, 0.5, 1.0, 1.5, 2.0])\n",
    "ax.set_yticklabels([\"C\", \"0.5\", \"1.0\", \"1.5\", \"2.0\"])\n",
    "ax.set_xticks([-phi_unit, 0, phi_unit])\n",
    "ax.set_xticklabels([1, 0, -1])\n",
    "ax.grid(axis = 'y', linestyle = '--', which = 'major', linewidth = 0.5)\n",
    "ax.grid(axis = 'x', linestyle = '--', which = 'major', linewidth = 0.5)\n",
    "ax.set_xlabel(\"\\nRelative Length (a.u.)\")\n",
    "ax.yaxis.set_label_position(\"right\")\n",
    "plt.ylabel(\"Relative Angle (a.u.)\", labelpad=35)\n",
    "\n",
    "### Saving\n",
    "fig_name = f'S4D_Fig.{fig_format}'\n",
    "fig_save_path = os.path.join(paths.output_prefix, fig_name)\n",
    "if(is_save):\n",
    "    plt.savefig(fig_save_path, dpi=300, bbox_inches='tight', format = fig_format)\n",
    "\n",
    "plt.show()"
   ]
  },
  {
   "cell_type": "markdown",
   "metadata": {},
   "source": [
    "### Figure S5\n",
    "Extension phenotype of sev>Fz and sev>Nic flies over time."
   ]
  },
  {
   "cell_type": "code",
   "execution_count": null,
   "metadata": {},
   "outputs": [],
   "source": [
    "## sv>Fz 24 hrs, ctrl.\n",
    "my_help.generate_density_plot_figure(output_data_fz_eg[('FigS5', 24, 'ctrl')], \n",
    "                                     is_save = is_save, channels = ['GFP', 'RFP'], \n",
    "                                     gfp_cmap = [0.35, [0, 0.1, 0.2, 0.3]], rfp_cmap = [0.1, [0, 0.05, 0.1]],\n",
    "                                     fig_name = 'S5Fig_Fz_24hrs_ctrl', fig_format = fig_format, fig_res = fig_res)"
   ]
  },
  {
   "cell_type": "code",
   "execution_count": null,
   "metadata": {},
   "outputs": [],
   "source": [
    "## sev>Fz 24 hrs, pert.\n",
    "my_help.generate_density_plot_figure(output_data_fz_eg[('FigS5', 24, 'pert')], \n",
    "                                     is_save = is_save, channels = ['GFP', 'RFP'], \n",
    "                                     gfp_cmap = [0.2, [0, 0.1, 0.2]], rfp_cmap = [0.15, [0, 0.1]],\n",
    "                                     fig_name = 'S5Fig_Fz_24hrs_pert', fig_format = fig_format, fig_res = fig_res)"
   ]
  },
  {
   "cell_type": "code",
   "execution_count": null,
   "metadata": {},
   "outputs": [],
   "source": [
    "## sev>Nic 24 hrs, ctrl.\n",
    "my_help.generate_density_plot_figure(output_data_nic_eg[('FigS5', 24, 'ctrl')], \n",
    "                                     is_save = is_save, channels = ['GFP', 'RFP'], \n",
    "                                     gfp_cmap = [0.3, [0, 0.1, 0.2, 0.3]], rfp_cmap = [0.4, [0, 0.2, 0.4]],\n",
    "                                     fig_name = 'S5Fig_Nic_24hrs_ctrl', fig_format = fig_format, fig_res = fig_res)"
   ]
  },
  {
   "cell_type": "code",
   "execution_count": null,
   "metadata": {},
   "outputs": [],
   "source": [
    "## sev>Nic 24 hrs, pert.\n",
    "my_help.generate_density_plot_figure(output_data_nic_eg[('FigS5', 24, 'pert')], \n",
    "                                     is_save = is_save, channels = ['GFP', 'RFP'], \n",
    "                                     gfp_cmap = [0.3, [0, 0.1, 0.2, 0.3]], rfp_cmap = [0.25, [0, 0.1, 0.2]],\n",
    "                                     fig_name = 'S5Fig_Nic_24hrs_pert', fig_format = fig_format, fig_res = fig_res)"
   ]
  },
  {
   "cell_type": "code",
   "execution_count": null,
   "metadata": {},
   "outputs": [],
   "source": [
    "## sev>Fz 28 hrs, ctrl.\n",
    "my_help.generate_density_plot_figure(output_data_fz_eg[('FigS5', 28, 'ctrl')], \n",
    "                                     is_save = is_save, channels = ['GFP', 'RFP'], \n",
    "                                     gfp_cmap = [0.25, [0, 0.1, 0.2]], rfp_cmap = [0.2, [0, 0.1, 0.2]],\n",
    "                                     fig_name = 'S5Fig_Fz_28hrs_ctrl', fig_format = fig_format, fig_res = fig_res)"
   ]
  },
  {
   "cell_type": "code",
   "execution_count": null,
   "metadata": {
    "scrolled": true
   },
   "outputs": [],
   "source": [
    "## sev>Fz 28 hrs, pert.\n",
    "my_help.generate_density_plot_figure(output_data_fz_eg[('FigS5', 28, 'pert')], \n",
    "                                     is_save = is_save, channels = ['GFP', 'RFP'], \n",
    "                                     gfp_cmap = [0.2, [0, 0.1, 0.2]], rfp_cmap = [0.15, [0, 0.1]],\n",
    "                                     fig_name = 'S5Fig_Fz_28hrs_pert', fig_format = fig_format, fig_res = fig_res)"
   ]
  },
  {
   "cell_type": "code",
   "execution_count": null,
   "metadata": {},
   "outputs": [],
   "source": [
    "## sev>Nic 28 hrs, ctrl.\n",
    "my_help.generate_density_plot_figure(output_data_nic_eg[('FigS5', 28, 'ctrl')], \n",
    "                                     is_save = is_save, channels = ['GFP', 'RFP'], \n",
    "                                     gfp_cmap = [0.15, [0, 0.1]], rfp_cmap = [0.25, [0, 0.1, 0.2]],\n",
    "                                     fig_name = 'S5Fig_Nic_28hrs_ctrl', fig_format = fig_format, fig_res = fig_res)"
   ]
  },
  {
   "cell_type": "code",
   "execution_count": null,
   "metadata": {},
   "outputs": [],
   "source": [
    "## sev>Nic 28 hrs, pert.\n",
    "my_help.generate_density_plot_figure(output_data_nic_eg[('FigS5', 28, 'pert')], \n",
    "                                     is_save = is_save, channels = ['GFP', 'RFP'], \n",
    "                                     gfp_cmap = [0.25, [0, 0.1, 0.2]], rfp_cmap = [0.35, [0, 0.1, 0.2, 0.3]],\n",
    "                                     fig_name = 'S5Fig_Nic_28hrs_pert', fig_format = fig_format, fig_res = fig_res)"
   ]
  },
  {
   "cell_type": "markdown",
   "metadata": {
    "scrolled": true
   },
   "source": [
    "### Figure S6\n",
    "Repulsion model for determining growth cone extension angle."
   ]
  },
  {
   "cell_type": "code",
   "execution_count": null,
   "metadata": {
    "scrolled": true
   },
   "outputs": [],
   "source": [
    "my_help.mutual_repulsion_regression_plot(sum_df_ctrl_ml, \n",
    "                                         is_save = is_save, fig_name = 'S6_Fig', \n",
    "                                         fig_format = fig_format, fig_res = fig_res)"
   ]
  },
  {
   "cell_type": "code",
   "execution_count": null,
   "metadata": {},
   "outputs": [],
   "source": []
  }
 ],
 "metadata": {
  "kernelspec": {
   "display_name": "Python 3 (ipykernel)",
   "language": "python",
   "name": "python3"
  },
  "language_info": {
   "codemirror_mode": {
    "name": "ipython",
    "version": 3
   },
   "file_extension": ".py",
   "mimetype": "text/x-python",
   "name": "python",
   "nbconvert_exporter": "python",
   "pygments_lexer": "ipython3",
   "version": "3.8.5"
  }
 },
 "nbformat": 4,
 "nbformat_minor": 2
}
